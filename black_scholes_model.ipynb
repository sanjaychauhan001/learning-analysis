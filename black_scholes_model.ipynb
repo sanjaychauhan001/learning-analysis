{
 "cells": [
  {
   "cell_type": "code",
   "execution_count": 3,
   "metadata": {},
   "outputs": [],
   "source": [
    "import numpy as np\n",
    "from scipy.stats import norm"
   ]
  },
  {
   "cell_type": "code",
   "execution_count": 43,
   "metadata": {},
   "outputs": [
    {
     "data": {
      "text/plain": [
       "197.5587685498922"
      ]
     },
     "execution_count": 43,
     "metadata": {},
     "output_type": "execute_result"
    }
   ],
   "source": [
    "#variable\n",
    "S=  21853.80 # stock price\n",
    "K= 21800 # strike price\n",
    "r= 0.10 # risk free interest rate\n",
    "T= 6/365 # time left till maturity(in yrs)\n",
    "sigma = 0.1331 # volatility\n",
    "\n",
    "d1=(np.log(S/K)+((r+sigma**2/2)*T))/ (sigma*np.sqrt(T))\n",
    "d2=d1-(sigma*np.sqrt(T))\n",
    "call=S*norm.cdf(d1,0,1)-norm.cdf(d2,0,1)*K*np.exp(-r*T)\n",
    "call"
   ]
  },
  {
   "cell_type": "code",
   "execution_count": 42,
   "metadata": {},
   "outputs": [
    {
     "data": {
      "text/plain": [
       "295.62653110958854"
      ]
     },
     "execution_count": 42,
     "metadata": {},
     "output_type": "execute_result"
    }
   ],
   "source": [
    "#variable\n",
    "S=  22000 # stock price\n",
    "K= 21800 # strike price\n",
    "r= 0.10 # risk free interest rate\n",
    "T= 6/365 # time left till maturity(in yrs)\n",
    "sigma = 0.1331 # volatility\n",
    "\n",
    "d1=(np.log(S/K)+((r+sigma**2/2)*T))/ (sigma*np.sqrt(T))\n",
    "d2=d1-(sigma*np.sqrt(T))\n",
    "call=S*norm.cdf(d1,0,1)-norm.cdf(d2,0,1)*K*np.exp(-r*T)\n",
    "call"
   ]
  },
  {
   "cell_type": "code",
   "execution_count": 37,
   "metadata": {},
   "outputs": [
    {
     "data": {
      "text/plain": [
       "461.418640318534"
      ]
     },
     "execution_count": 37,
     "metadata": {},
     "output_type": "execute_result"
    }
   ],
   "source": [
    "d1=(np.log(S/K)+((r+sigma**2/2)*T))/ (sigma*np.sqrt(T))\n",
    "d2=d1-(sigma*np.sqrt(T))\n",
    "call=S*norm.cdf(d1,0,1)-norm.cdf(d2,0,1)*K*np.exp(-r*T)\n",
    "call"
   ]
  }
 ],
 "metadata": {
  "kernelspec": {
   "display_name": "Python 3",
   "language": "python",
   "name": "python3"
  },
  "language_info": {
   "codemirror_mode": {
    "name": "ipython",
    "version": 3
   },
   "file_extension": ".py",
   "mimetype": "text/x-python",
   "name": "python",
   "nbconvert_exporter": "python",
   "pygments_lexer": "ipython3",
   "version": "3.12.1"
  }
 },
 "nbformat": 4,
 "nbformat_minor": 2
}
