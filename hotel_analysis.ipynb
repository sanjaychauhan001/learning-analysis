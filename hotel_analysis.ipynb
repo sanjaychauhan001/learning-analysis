{
 "cells": [
  {
   "cell_type": "code",
   "execution_count": 1,
   "metadata": {},
   "outputs": [],
   "source": [
    "import pandas as pd\n",
    "import numpy as np\n",
    "import seaborn as sns\n",
    "import matplotlib.pyplot as plt"
   ]
  },
  {
   "cell_type": "code",
   "execution_count": 2,
   "metadata": {},
   "outputs": [
    {
     "data": {
      "text/html": [
       "<div>\n",
       "<style scoped>\n",
       "    .dataframe tbody tr th:only-of-type {\n",
       "        vertical-align: middle;\n",
       "    }\n",
       "\n",
       "    .dataframe tbody tr th {\n",
       "        vertical-align: top;\n",
       "    }\n",
       "\n",
       "    .dataframe thead th {\n",
       "        text-align: right;\n",
       "    }\n",
       "</style>\n",
       "<table border=\"1\" class=\"dataframe\">\n",
       "  <thead>\n",
       "    <tr style=\"text-align: right;\">\n",
       "      <th></th>\n",
       "      <th>S.No.</th>\n",
       "      <th>State</th>\n",
       "      <th>City</th>\n",
       "      <th>Category</th>\n",
       "      <th>Alcohol</th>\n",
       "      <th>Hotel Name</th>\n",
       "      <th>Address</th>\n",
       "      <th>Start Date</th>\n",
       "      <th>Expiry Date</th>\n",
       "      <th>Total Rooms</th>\n",
       "    </tr>\n",
       "  </thead>\n",
       "  <tbody>\n",
       "    <tr>\n",
       "      <th>844</th>\n",
       "      <td>845</td>\n",
       "      <td>Kerala</td>\n",
       "      <td>Thiruvananthapuram</td>\n",
       "      <td>4 Star</td>\n",
       "      <td>Without Alcohol</td>\n",
       "      <td>HOTEL CENTRAL PLAZA</td>\n",
       "      <td>VIII, 1053(1), Opposite Revenue Tower , Neduma...</td>\n",
       "      <td>29/12/2020</td>\n",
       "      <td>28/12/2025</td>\n",
       "      <td>14</td>\n",
       "    </tr>\n",
       "    <tr>\n",
       "      <th>1002</th>\n",
       "      <td>1003</td>\n",
       "      <td>West Bengal</td>\n",
       "      <td>Kalimpong</td>\n",
       "      <td>5 Star</td>\n",
       "      <td>With Alcohol</td>\n",
       "      <td>MAYFAIR Himalayan Spa Resort</td>\n",
       "      <td>Upper Cart Road, Near Kalimpong Municipality O...</td>\n",
       "      <td>19/02/2021</td>\n",
       "      <td>18/02/2026</td>\n",
       "      <td>68</td>\n",
       "    </tr>\n",
       "    <tr>\n",
       "      <th>753</th>\n",
       "      <td>754</td>\n",
       "      <td>Gujarat</td>\n",
       "      <td>Dwarka</td>\n",
       "      <td>4 Star</td>\n",
       "      <td>Without Alcohol</td>\n",
       "      <td>VITS Devbhumi Hotel</td>\n",
       "      <td>Okha State Highway, Near Ravla Lake, Opposite ...</td>\n",
       "      <td>30/03/2020</td>\n",
       "      <td>29/03/2025</td>\n",
       "      <td>57</td>\n",
       "    </tr>\n",
       "    <tr>\n",
       "      <th>304</th>\n",
       "      <td>305</td>\n",
       "      <td>Kerala</td>\n",
       "      <td>Kottayam</td>\n",
       "      <td>3 Star</td>\n",
       "      <td>NaN</td>\n",
       "      <td>HOTEL ARCADIA</td>\n",
       "      <td>T.B.ROAD,OPPOSITE KSRTC BUS STATION,KOTTAYAM</td>\n",
       "      <td>01/09/2019</td>\n",
       "      <td>31/08/2024</td>\n",
       "      <td>47</td>\n",
       "    </tr>\n",
       "    <tr>\n",
       "      <th>345</th>\n",
       "      <td>346</td>\n",
       "      <td>Kerala</td>\n",
       "      <td>Muvattupuzha</td>\n",
       "      <td>3 Star</td>\n",
       "      <td>NaN</td>\n",
       "      <td>The Krishna Regency,Muvattupuzha</td>\n",
       "      <td>The Krishna Regency, Near Private Bus Stand Th...</td>\n",
       "      <td>10/04/2019</td>\n",
       "      <td>09/04/2024</td>\n",
       "      <td>11</td>\n",
       "    </tr>\n",
       "  </tbody>\n",
       "</table>\n",
       "</div>"
      ],
      "text/plain": [
       "      S.No.        State                City Category          Alcohol  \\\n",
       "844     845       Kerala  Thiruvananthapuram   4 Star  Without Alcohol   \n",
       "1002   1003  West Bengal           Kalimpong   5 Star     With Alcohol   \n",
       "753     754      Gujarat              Dwarka   4 Star  Without Alcohol   \n",
       "304     305       Kerala            Kottayam   3 Star              NaN   \n",
       "345     346       Kerala        Muvattupuzha   3 Star              NaN   \n",
       "\n",
       "                             Hotel Name  \\\n",
       "844                HOTEL CENTRAL PLAZA    \n",
       "1002       MAYFAIR Himalayan Spa Resort   \n",
       "753                 VITS Devbhumi Hotel   \n",
       "304                       HOTEL ARCADIA   \n",
       "345   The Krishna Regency,Muvattupuzha    \n",
       "\n",
       "                                                Address  Start Date  \\\n",
       "844   VIII, 1053(1), Opposite Revenue Tower , Neduma...  29/12/2020   \n",
       "1002  Upper Cart Road, Near Kalimpong Municipality O...  19/02/2021   \n",
       "753   Okha State Highway, Near Ravla Lake, Opposite ...  30/03/2020   \n",
       "304        T.B.ROAD,OPPOSITE KSRTC BUS STATION,KOTTAYAM  01/09/2019   \n",
       "345   The Krishna Regency, Near Private Bus Stand Th...  10/04/2019   \n",
       "\n",
       "     Expiry Date  Total Rooms  \n",
       "844   28/12/2025           14  \n",
       "1002  18/02/2026           68  \n",
       "753   29/03/2025           57  \n",
       "304   31/08/2024           47  \n",
       "345   09/04/2024           11  "
      ]
     },
     "execution_count": 2,
     "metadata": {},
     "output_type": "execute_result"
    }
   ],
   "source": [
    "df = pd.read_csv('C:\\\\Users\\\\sanja\\\\Downloads\\\\csv_data.csv')\n",
    "df.sample(5)"
   ]
  },
  {
   "cell_type": "code",
   "execution_count": 3,
   "metadata": {},
   "outputs": [
    {
     "data": {
      "text/plain": [
       "(1212, 10)"
      ]
     },
     "execution_count": 3,
     "metadata": {},
     "output_type": "execute_result"
    }
   ],
   "source": [
    "df.shape"
   ]
  },
  {
   "cell_type": "code",
   "execution_count": 4,
   "metadata": {},
   "outputs": [
    {
     "data": {
      "text/plain": [
       "S.No.            0\n",
       "State            0\n",
       "City             0\n",
       "Category         0\n",
       "Alcohol        536\n",
       "Hotel Name       0\n",
       "Address          0\n",
       "Start Date       0\n",
       "Expiry Date      0\n",
       "Total Rooms      0\n",
       "dtype: int64"
      ]
     },
     "execution_count": 4,
     "metadata": {},
     "output_type": "execute_result"
    }
   ],
   "source": [
    "df.isnull().sum()"
   ]
  },
  {
   "cell_type": "code",
   "execution_count": 5,
   "metadata": {},
   "outputs": [],
   "source": [
    "df['Alcohol'].replace(np.NaN,'no information',inplace=True)"
   ]
  },
  {
   "cell_type": "code",
   "execution_count": 6,
   "metadata": {},
   "outputs": [
    {
     "data": {
      "text/plain": [
       "S.No.          0\n",
       "State          0\n",
       "City           0\n",
       "Category       0\n",
       "Alcohol        0\n",
       "Hotel Name     0\n",
       "Address        0\n",
       "Start Date     0\n",
       "Expiry Date    0\n",
       "Total Rooms    0\n",
       "dtype: int64"
      ]
     },
     "execution_count": 6,
     "metadata": {},
     "output_type": "execute_result"
    }
   ],
   "source": [
    "df.isnull().sum()"
   ]
  },
  {
   "cell_type": "code",
   "execution_count": 7,
   "metadata": {},
   "outputs": [
    {
     "data": {
      "text/plain": [
       "0"
      ]
     },
     "execution_count": 7,
     "metadata": {},
     "output_type": "execute_result"
    }
   ],
   "source": [
    "df.duplicated().sum()"
   ]
  },
  {
   "cell_type": "code",
   "execution_count": 8,
   "metadata": {},
   "outputs": [
    {
     "name": "stdout",
     "output_type": "stream",
     "text": [
      "<class 'pandas.core.frame.DataFrame'>\n",
      "RangeIndex: 1212 entries, 0 to 1211\n",
      "Data columns (total 10 columns):\n",
      " #   Column       Non-Null Count  Dtype \n",
      "---  ------       --------------  ----- \n",
      " 0   S.No.        1212 non-null   int64 \n",
      " 1   State        1212 non-null   object\n",
      " 2   City         1212 non-null   object\n",
      " 3   Category     1212 non-null   object\n",
      " 4   Alcohol      1212 non-null   object\n",
      " 5   Hotel Name   1212 non-null   object\n",
      " 6   Address      1212 non-null   object\n",
      " 7   Start Date   1212 non-null   object\n",
      " 8   Expiry Date  1212 non-null   object\n",
      " 9   Total Rooms  1212 non-null   int64 \n",
      "dtypes: int64(2), object(8)\n",
      "memory usage: 94.8+ KB\n"
     ]
    }
   ],
   "source": [
    "df.info()"
   ]
  },
  {
   "cell_type": "code",
   "execution_count": 9,
   "metadata": {},
   "outputs": [
    {
     "name": "stderr",
     "output_type": "stream",
     "text": [
      "C:\\Users\\sanja\\AppData\\Local\\Temp\\ipykernel_10284\\2084641101.py:1: UserWarning: Parsing dates in DD/MM/YYYY format when dayfirst=False (the default) was specified. This may lead to inconsistently parsed dates! Specify a format to ensure consistent parsing.\n",
      "  df['Start Date'] = pd.to_datetime(df['Start Date'])\n",
      "C:\\Users\\sanja\\AppData\\Local\\Temp\\ipykernel_10284\\2084641101.py:2: UserWarning: Parsing dates in DD/MM/YYYY format when dayfirst=False (the default) was specified. This may lead to inconsistently parsed dates! Specify a format to ensure consistent parsing.\n",
      "  df['Expiry Date'] = pd.to_datetime(df['Expiry Date'])\n"
     ]
    }
   ],
   "source": [
    "df['Start Date'] = pd.to_datetime(df['Start Date'])\n",
    "df['Expiry Date'] = pd.to_datetime(df['Expiry Date'])"
   ]
  },
  {
   "cell_type": "code",
   "execution_count": 10,
   "metadata": {},
   "outputs": [
    {
     "name": "stdout",
     "output_type": "stream",
     "text": [
      "<class 'pandas.core.frame.DataFrame'>\n",
      "RangeIndex: 1212 entries, 0 to 1211\n",
      "Data columns (total 10 columns):\n",
      " #   Column       Non-Null Count  Dtype         \n",
      "---  ------       --------------  -----         \n",
      " 0   S.No.        1212 non-null   int64         \n",
      " 1   State        1212 non-null   object        \n",
      " 2   City         1212 non-null   object        \n",
      " 3   Category     1212 non-null   object        \n",
      " 4   Alcohol      1212 non-null   object        \n",
      " 5   Hotel Name   1212 non-null   object        \n",
      " 6   Address      1212 non-null   object        \n",
      " 7   Start Date   1212 non-null   datetime64[ns]\n",
      " 8   Expiry Date  1212 non-null   datetime64[ns]\n",
      " 9   Total Rooms  1212 non-null   int64         \n",
      "dtypes: datetime64[ns](2), int64(2), object(6)\n",
      "memory usage: 94.8+ KB\n"
     ]
    }
   ],
   "source": [
    "df.info()"
   ]
  },
  {
   "cell_type": "code",
   "execution_count": 11,
   "metadata": {},
   "outputs": [
    {
     "data": {
      "text/html": [
       "<div>\n",
       "<style scoped>\n",
       "    .dataframe tbody tr th:only-of-type {\n",
       "        vertical-align: middle;\n",
       "    }\n",
       "\n",
       "    .dataframe tbody tr th {\n",
       "        vertical-align: top;\n",
       "    }\n",
       "\n",
       "    .dataframe thead th {\n",
       "        text-align: right;\n",
       "    }\n",
       "</style>\n",
       "<table border=\"1\" class=\"dataframe\">\n",
       "  <thead>\n",
       "    <tr style=\"text-align: right;\">\n",
       "      <th></th>\n",
       "      <th>S.No.</th>\n",
       "      <th>State</th>\n",
       "      <th>City</th>\n",
       "      <th>Category</th>\n",
       "      <th>Alcohol</th>\n",
       "      <th>Hotel Name</th>\n",
       "      <th>Address</th>\n",
       "      <th>Start Date</th>\n",
       "      <th>Expiry Date</th>\n",
       "      <th>Total Rooms</th>\n",
       "    </tr>\n",
       "  </thead>\n",
       "  <tbody>\n",
       "    <tr>\n",
       "      <th>0</th>\n",
       "      <td>1</td>\n",
       "      <td>Delhi</td>\n",
       "      <td>New Delhi</td>\n",
       "      <td>1 Star</td>\n",
       "      <td>no information</td>\n",
       "      <td>Hotel LA (A unit of L A Hotels And Retreats Pv...</td>\n",
       "      <td>plot no A-1, Community Centre, Road No 43, Man...</td>\n",
       "      <td>2020-01-20</td>\n",
       "      <td>2025-01-19</td>\n",
       "      <td>35</td>\n",
       "    </tr>\n",
       "    <tr>\n",
       "      <th>1</th>\n",
       "      <td>2</td>\n",
       "      <td>Gujarat</td>\n",
       "      <td>Adalaj</td>\n",
       "      <td>1 Star</td>\n",
       "      <td>no information</td>\n",
       "      <td>Amba Suites, Unit of Amba Township Private Lim...</td>\n",
       "      <td>Amba Business Park, Shivam â€“ II, Sub-Plot No...</td>\n",
       "      <td>2022-07-15</td>\n",
       "      <td>2027-07-14</td>\n",
       "      <td>64</td>\n",
       "    </tr>\n",
       "    <tr>\n",
       "      <th>2</th>\n",
       "      <td>3</td>\n",
       "      <td>Gujarat</td>\n",
       "      <td>Ahmedabad</td>\n",
       "      <td>1 Star</td>\n",
       "      <td>no information</td>\n",
       "      <td>Hotel Pragati The Grand (A Unit of Pragati The...</td>\n",
       "      <td>SP-2,FP 2342,PAIKI, NR ZYDUS CADILA HOSPITAL,H...</td>\n",
       "      <td>2021-09-22</td>\n",
       "      <td>2026-09-21</td>\n",
       "      <td>45</td>\n",
       "    </tr>\n",
       "    <tr>\n",
       "      <th>3</th>\n",
       "      <td>4</td>\n",
       "      <td>Gujarat</td>\n",
       "      <td>Ahmedabad</td>\n",
       "      <td>1 Star</td>\n",
       "      <td>no information</td>\n",
       "      <td>Hotel Rezaas</td>\n",
       "      <td>375-1, Sheetal Baug, Nr. Girish Cold Drink, Of...</td>\n",
       "      <td>2018-10-31</td>\n",
       "      <td>2023-10-30</td>\n",
       "      <td>38</td>\n",
       "    </tr>\n",
       "    <tr>\n",
       "      <th>4</th>\n",
       "      <td>5</td>\n",
       "      <td>Gujarat</td>\n",
       "      <td>Anand</td>\n",
       "      <td>1 Star</td>\n",
       "      <td>no information</td>\n",
       "      <td>HOTEL ARIZONA INN</td>\n",
       "      <td>OPP. S R PARK, ANAND- SOJITRA ROAD, ANAND- 388001</td>\n",
       "      <td>2020-01-09</td>\n",
       "      <td>2025-08-31</td>\n",
       "      <td>28</td>\n",
       "    </tr>\n",
       "  </tbody>\n",
       "</table>\n",
       "</div>"
      ],
      "text/plain": [
       "   S.No.    State       City Category         Alcohol  \\\n",
       "0      1    Delhi  New Delhi   1 Star  no information   \n",
       "1      2  Gujarat     Adalaj   1 Star  no information   \n",
       "2      3  Gujarat  Ahmedabad   1 Star  no information   \n",
       "3      4  Gujarat  Ahmedabad   1 Star  no information   \n",
       "4      5  Gujarat      Anand   1 Star  no information   \n",
       "\n",
       "                                          Hotel Name  \\\n",
       "0  Hotel LA (A unit of L A Hotels And Retreats Pv...   \n",
       "1  Amba Suites, Unit of Amba Township Private Lim...   \n",
       "2  Hotel Pragati The Grand (A Unit of Pragati The...   \n",
       "3                                       Hotel Rezaas   \n",
       "4                                  HOTEL ARIZONA INN   \n",
       "\n",
       "                                             Address Start Date Expiry Date  \\\n",
       "0  plot no A-1, Community Centre, Road No 43, Man... 2020-01-20  2025-01-19   \n",
       "1  Amba Business Park, Shivam â€“ II, Sub-Plot No... 2022-07-15  2027-07-14   \n",
       "2  SP-2,FP 2342,PAIKI, NR ZYDUS CADILA HOSPITAL,H... 2021-09-22  2026-09-21   \n",
       "3  375-1, Sheetal Baug, Nr. Girish Cold Drink, Of... 2018-10-31  2023-10-30   \n",
       "4  OPP. S R PARK, ANAND- SOJITRA ROAD, ANAND- 388001 2020-01-09  2025-08-31   \n",
       "\n",
       "   Total Rooms  \n",
       "0           35  \n",
       "1           64  \n",
       "2           45  \n",
       "3           38  \n",
       "4           28  "
      ]
     },
     "execution_count": 11,
     "metadata": {},
     "output_type": "execute_result"
    }
   ],
   "source": [
    "df.head()"
   ]
  },
  {
   "cell_type": "code",
   "execution_count": 12,
   "metadata": {},
   "outputs": [
    {
     "data": {
      "text/html": [
       "<div>\n",
       "<style scoped>\n",
       "    .dataframe tbody tr th:only-of-type {\n",
       "        vertical-align: middle;\n",
       "    }\n",
       "\n",
       "    .dataframe tbody tr th {\n",
       "        vertical-align: top;\n",
       "    }\n",
       "\n",
       "    .dataframe thead th {\n",
       "        text-align: right;\n",
       "    }\n",
       "</style>\n",
       "<table border=\"1\" class=\"dataframe\">\n",
       "  <thead>\n",
       "    <tr style=\"text-align: right;\">\n",
       "      <th></th>\n",
       "      <th>index</th>\n",
       "      <th>State</th>\n",
       "    </tr>\n",
       "  </thead>\n",
       "  <tbody>\n",
       "    <tr>\n",
       "      <th>0</th>\n",
       "      <td>Kerala</td>\n",
       "      <td>557</td>\n",
       "    </tr>\n",
       "    <tr>\n",
       "      <th>1</th>\n",
       "      <td>Gujarat</td>\n",
       "      <td>144</td>\n",
       "    </tr>\n",
       "    <tr>\n",
       "      <th>2</th>\n",
       "      <td>Maharashtra</td>\n",
       "      <td>81</td>\n",
       "    </tr>\n",
       "    <tr>\n",
       "      <th>3</th>\n",
       "      <td>West Bengal</td>\n",
       "      <td>47</td>\n",
       "    </tr>\n",
       "    <tr>\n",
       "      <th>4</th>\n",
       "      <td>Delhi</td>\n",
       "      <td>42</td>\n",
       "    </tr>\n",
       "    <tr>\n",
       "      <th>5</th>\n",
       "      <td>Karnataka</td>\n",
       "      <td>39</td>\n",
       "    </tr>\n",
       "    <tr>\n",
       "      <th>6</th>\n",
       "      <td>Goa</td>\n",
       "      <td>38</td>\n",
       "    </tr>\n",
       "    <tr>\n",
       "      <th>7</th>\n",
       "      <td>Andhra Pradesh</td>\n",
       "      <td>32</td>\n",
       "    </tr>\n",
       "    <tr>\n",
       "      <th>8</th>\n",
       "      <td>Haryana</td>\n",
       "      <td>28</td>\n",
       "    </tr>\n",
       "    <tr>\n",
       "      <th>9</th>\n",
       "      <td>Chhattisgarh</td>\n",
       "      <td>27</td>\n",
       "    </tr>\n",
       "  </tbody>\n",
       "</table>\n",
       "</div>"
      ],
      "text/plain": [
       "            index  State\n",
       "0          Kerala    557\n",
       "1         Gujarat    144\n",
       "2     Maharashtra     81\n",
       "3     West Bengal     47\n",
       "4           Delhi     42\n",
       "5       Karnataka     39\n",
       "6             Goa     38\n",
       "7  Andhra Pradesh     32\n",
       "8         Haryana     28\n",
       "9    Chhattisgarh     27"
      ]
     },
     "execution_count": 12,
     "metadata": {},
     "output_type": "execute_result"
    }
   ],
   "source": [
    "top_10_state =  df['State'].value_counts().sort_values(ascending=False).head(10).reset_index()\n",
    "top_10_state"
   ]
  },
  {
   "cell_type": "code",
   "execution_count": 13,
   "metadata": {},
   "outputs": [
    {
     "data": {
      "image/png": "[encoded data removed]",
      "text/plain": [
       "<Figure size 640x480 with 1 Axes>"
      ]
     },
     "metadata": {},
     "output_type": "display_data"
    }
   ],
   "source": [
    "plt.style.use('ggplot')\n",
    "sns.barplot(data=top_10_state, x='index',y='State')\n",
    "plt.title('Top 10 State by number of hotels')\n",
    "plt.xticks(rotation=35)\n",
    "plt.show()"
   ]
  },
  {
   "cell_type": "code",
   "execution_count": 14,
   "metadata": {},
   "outputs": [
    {
     "data": {
      "text/html": [
       "<div>\n",
       "<style scoped>\n",
       "    .dataframe tbody tr th:only-of-type {\n",
       "        vertical-align: middle;\n",
       "    }\n",
       "\n",
       "    .dataframe tbody tr th {\n",
       "        vertical-align: top;\n",
       "    }\n",
       "\n",
       "    .dataframe thead th {\n",
       "        text-align: right;\n",
       "    }\n",
       "</style>\n",
       "<table border=\"1\" class=\"dataframe\">\n",
       "  <thead>\n",
       "    <tr style=\"text-align: right;\">\n",
       "      <th></th>\n",
       "      <th>index</th>\n",
       "      <th>City</th>\n",
       "    </tr>\n",
       "  </thead>\n",
       "  <tbody>\n",
       "    <tr>\n",
       "      <th>0</th>\n",
       "      <td>Ernakulam</td>\n",
       "      <td>100</td>\n",
       "    </tr>\n",
       "    <tr>\n",
       "      <th>1</th>\n",
       "      <td>Thiruvananthapuram</td>\n",
       "      <td>58</td>\n",
       "    </tr>\n",
       "    <tr>\n",
       "      <th>2</th>\n",
       "      <td>Thrissur</td>\n",
       "      <td>57</td>\n",
       "    </tr>\n",
       "    <tr>\n",
       "      <th>3</th>\n",
       "      <td>Kollam</td>\n",
       "      <td>43</td>\n",
       "    </tr>\n",
       "    <tr>\n",
       "      <th>4</th>\n",
       "      <td>Mumbai</td>\n",
       "      <td>39</td>\n",
       "    </tr>\n",
       "    <tr>\n",
       "      <th>5</th>\n",
       "      <td>Ahmedabad</td>\n",
       "      <td>36</td>\n",
       "    </tr>\n",
       "    <tr>\n",
       "      <th>6</th>\n",
       "      <td>Bangalore</td>\n",
       "      <td>34</td>\n",
       "    </tr>\n",
       "    <tr>\n",
       "      <th>7</th>\n",
       "      <td>Kolkata</td>\n",
       "      <td>33</td>\n",
       "    </tr>\n",
       "    <tr>\n",
       "      <th>8</th>\n",
       "      <td>Kottayam</td>\n",
       "      <td>30</td>\n",
       "    </tr>\n",
       "    <tr>\n",
       "      <th>9</th>\n",
       "      <td>Gurgaon</td>\n",
       "      <td>24</td>\n",
       "    </tr>\n",
       "  </tbody>\n",
       "</table>\n",
       "</div>"
      ],
      "text/plain": [
       "                index  City\n",
       "0           Ernakulam   100\n",
       "1  Thiruvananthapuram    58\n",
       "2            Thrissur    57\n",
       "3              Kollam    43\n",
       "4              Mumbai    39\n",
       "5           Ahmedabad    36\n",
       "6           Bangalore    34\n",
       "7             Kolkata    33\n",
       "8            Kottayam    30\n",
       "9             Gurgaon    24"
      ]
     },
     "execution_count": 14,
     "metadata": {},
     "output_type": "execute_result"
    }
   ],
   "source": [
    "top_10_city = df['City'].value_counts().sort_values(ascending=False).head(10).reset_index()\n",
    "top_10_city"
   ]
  },
  {
   "cell_type": "code",
   "execution_count": 15,
   "metadata": {},
   "outputs": [
    {
     "data": {
      "image/png": "[encoded data removed]",
      "text/plain": [
       "<Figure size 640x480 with 1 Axes>"
      ]
     },
     "metadata": {},
     "output_type": "display_data"
    }
   ],
   "source": [
    "sns.barplot(data=top_10_city , x='index',y='City')\n",
    "plt.title('Top 10 City by number of hotels')\n",
    "plt.xticks(rotation=70)\n",
    "plt.show()"
   ]
  },
  {
   "cell_type": "code",
   "execution_count": 16,
   "metadata": {},
   "outputs": [],
   "source": [
    "star =  df['Category'].value_counts().reset_index()"
   ]
  },
  {
   "cell_type": "code",
   "execution_count": 17,
   "metadata": {},
   "outputs": [
    {
     "data": {
      "image/png": "[encoded data removed]",
      "text/plain": [
       "<Figure size 640x480 with 1 Axes>"
      ]
     },
     "metadata": {},
     "output_type": "display_data"
    }
   ],
   "source": [
    "sns.barplot(data= star , x='index',y='Category')\n",
    "plt.title('Hotels by star')\n",
    "plt.xticks(rotation=70)\n",
    "plt.show()"
   ]
  },
  {
   "cell_type": "code",
   "execution_count": 25,
   "metadata": {},
   "outputs": [
    {
     "name": "stderr",
     "output_type": "stream",
     "text": [
      "C:\\Users\\sanja\\AppData\\Local\\Temp\\ipykernel_10284\\1917811703.py:1: FutureWarning: The default value of numeric_only in DataFrameGroupBy.sum is deprecated. In a future version, numeric_only will default to False. Either specify numeric_only or select only columns which should be valid for the function.\n",
      "  total_rooms = df.groupby('Category').sum()['Total Rooms'].sort_values(ascending=False).reset_index()\n"
     ]
    }
   ],
   "source": [
    "total_rooms = df.groupby('Category').sum()['Total Rooms'].sort_values(ascending=False).reset_index()"
   ]
  },
  {
   "cell_type": "code",
   "execution_count": 27,
   "metadata": {},
   "outputs": [
    {
     "data": {
      "text/plain": [
       "<Axes: xlabel='Category', ylabel='Total Rooms'>"
      ]
     },
     "execution_count": 27,
     "metadata": {},
     "output_type": "execute_result"
    },
    {
     "data": {
      "image/png": "[encoded data removed]",
      "text/plain": [
       "<Figure size 640x480 with 1 Axes>"
      ]
     },
     "metadata": {},
     "output_type": "display_data"
    }
   ],
   "source": [
    "sns.barplot(data=total_rooms, x='Category', y='Total Rooms')"
   ]
  },
  {
   "cell_type": "code",
   "execution_count": 34,
   "metadata": {},
   "outputs": [],
   "source": [
    "df['Alcohol'] =df['Alcohol'].replace('no information', np.NaN)"
   ]
  },
  {
   "cell_type": "code",
   "execution_count": 37,
   "metadata": {},
   "outputs": [
    {
     "data": {
      "text/html": [
       "<div>\n",
       "<style scoped>\n",
       "    .dataframe tbody tr th:only-of-type {\n",
       "        vertical-align: middle;\n",
       "    }\n",
       "\n",
       "    .dataframe tbody tr th {\n",
       "        vertical-align: top;\n",
       "    }\n",
       "\n",
       "    .dataframe thead th {\n",
       "        text-align: right;\n",
       "    }\n",
       "</style>\n",
       "<table border=\"1\" class=\"dataframe\">\n",
       "  <thead>\n",
       "    <tr style=\"text-align: right;\">\n",
       "      <th>Category</th>\n",
       "      <th>4 Star</th>\n",
       "      <th>5 Star</th>\n",
       "    </tr>\n",
       "    <tr>\n",
       "      <th>Alcohol</th>\n",
       "      <th></th>\n",
       "      <th></th>\n",
       "    </tr>\n",
       "  </thead>\n",
       "  <tbody>\n",
       "    <tr>\n",
       "      <th>With Alcohol</th>\n",
       "      <td>203</td>\n",
       "      <td>289</td>\n",
       "    </tr>\n",
       "    <tr>\n",
       "      <th>Without Alcohol</th>\n",
       "      <td>135</td>\n",
       "      <td>49</td>\n",
       "    </tr>\n",
       "  </tbody>\n",
       "</table>\n",
       "</div>"
      ],
      "text/plain": [
       "Category         4 Star  5 Star\n",
       "Alcohol                        \n",
       "With Alcohol        203     289\n",
       "Without Alcohol     135      49"
      ]
     },
     "execution_count": 37,
     "metadata": {},
     "output_type": "execute_result"
    }
   ],
   "source": [
    "pd.crosstab(df['Alcohol'], df['Category'])"
   ]
  },
  {
   "cell_type": "code",
   "execution_count": 42,
   "metadata": {},
   "outputs": [],
   "source": [
    "temp_df = df[df['Alcohol'] == 'With Alcohol']"
   ]
  },
  {
   "cell_type": "code",
   "execution_count": 46,
   "metadata": {},
   "outputs": [
    {
     "data": {
      "text/html": [
       "<div>\n",
       "<style scoped>\n",
       "    .dataframe tbody tr th:only-of-type {\n",
       "        vertical-align: middle;\n",
       "    }\n",
       "\n",
       "    .dataframe tbody tr th {\n",
       "        vertical-align: top;\n",
       "    }\n",
       "\n",
       "    .dataframe thead th {\n",
       "        text-align: right;\n",
       "    }\n",
       "</style>\n",
       "<table border=\"1\" class=\"dataframe\">\n",
       "  <thead>\n",
       "    <tr style=\"text-align: right;\">\n",
       "      <th></th>\n",
       "      <th>index</th>\n",
       "      <th>State</th>\n",
       "    </tr>\n",
       "  </thead>\n",
       "  <tbody>\n",
       "    <tr>\n",
       "      <th>0</th>\n",
       "      <td>Kerala</td>\n",
       "      <td>142</td>\n",
       "    </tr>\n",
       "    <tr>\n",
       "      <th>1</th>\n",
       "      <td>Maharashtra</td>\n",
       "      <td>47</td>\n",
       "    </tr>\n",
       "    <tr>\n",
       "      <th>2</th>\n",
       "      <td>Delhi</td>\n",
       "      <td>38</td>\n",
       "    </tr>\n",
       "    <tr>\n",
       "      <th>3</th>\n",
       "      <td>Goa</td>\n",
       "      <td>36</td>\n",
       "    </tr>\n",
       "    <tr>\n",
       "      <th>4</th>\n",
       "      <td>Karnataka</td>\n",
       "      <td>36</td>\n",
       "    </tr>\n",
       "  </tbody>\n",
       "</table>\n",
       "</div>"
      ],
      "text/plain": [
       "         index  State\n",
       "0       Kerala    142\n",
       "1  Maharashtra     47\n",
       "2        Delhi     38\n",
       "3          Goa     36\n",
       "4    Karnataka     36"
      ]
     },
     "execution_count": 46,
     "metadata": {},
     "output_type": "execute_result"
    }
   ],
   "source": [
    "temp_df['State'].value_counts().head(5).reset_index()"
   ]
  },
  {
   "cell_type": "code",
   "execution_count": 47,
   "metadata": {},
   "outputs": [],
   "source": [
    "temp_df1 = df[df['Alcohol'] == 'Without Alcohol']"
   ]
  },
  {
   "cell_type": "code",
   "execution_count": 48,
   "metadata": {},
   "outputs": [
    {
     "data": {
      "text/html": [
       "<div>\n",
       "<style scoped>\n",
       "    .dataframe tbody tr th:only-of-type {\n",
       "        vertical-align: middle;\n",
       "    }\n",
       "\n",
       "    .dataframe tbody tr th {\n",
       "        vertical-align: top;\n",
       "    }\n",
       "\n",
       "    .dataframe thead th {\n",
       "        text-align: right;\n",
       "    }\n",
       "</style>\n",
       "<table border=\"1\" class=\"dataframe\">\n",
       "  <thead>\n",
       "    <tr style=\"text-align: right;\">\n",
       "      <th></th>\n",
       "      <th>index</th>\n",
       "      <th>State</th>\n",
       "    </tr>\n",
       "  </thead>\n",
       "  <tbody>\n",
       "    <tr>\n",
       "      <th>0</th>\n",
       "      <td>Kerala</td>\n",
       "      <td>108</td>\n",
       "    </tr>\n",
       "    <tr>\n",
       "      <th>1</th>\n",
       "      <td>Gujarat</td>\n",
       "      <td>52</td>\n",
       "    </tr>\n",
       "    <tr>\n",
       "      <th>2</th>\n",
       "      <td>West Bengal</td>\n",
       "      <td>7</td>\n",
       "    </tr>\n",
       "    <tr>\n",
       "      <th>3</th>\n",
       "      <td>Maharashtra</td>\n",
       "      <td>4</td>\n",
       "    </tr>\n",
       "    <tr>\n",
       "      <th>4</th>\n",
       "      <td>Andaman And Nicobar</td>\n",
       "      <td>2</td>\n",
       "    </tr>\n",
       "  </tbody>\n",
       "</table>\n",
       "</div>"
      ],
      "text/plain": [
       "                 index  State\n",
       "0               Kerala    108\n",
       "1              Gujarat     52\n",
       "2          West Bengal      7\n",
       "3          Maharashtra      4\n",
       "4  Andaman And Nicobar      2"
      ]
     },
     "execution_count": 48,
     "metadata": {},
     "output_type": "execute_result"
    }
   ],
   "source": [
    "temp_df1['State'].value_counts().head(5).reset_index()"
   ]
  },
  {
   "cell_type": "code",
   "execution_count": 49,
   "metadata": {},
   "outputs": [
    {
     "data": {
      "text/html": [
       "<div>\n",
       "<style scoped>\n",
       "    .dataframe tbody tr th:only-of-type {\n",
       "        vertical-align: middle;\n",
       "    }\n",
       "\n",
       "    .dataframe tbody tr th {\n",
       "        vertical-align: top;\n",
       "    }\n",
       "\n",
       "    .dataframe thead th {\n",
       "        text-align: right;\n",
       "    }\n",
       "</style>\n",
       "<table border=\"1\" class=\"dataframe\">\n",
       "  <thead>\n",
       "    <tr style=\"text-align: right;\">\n",
       "      <th></th>\n",
       "      <th>S.No.</th>\n",
       "      <th>State</th>\n",
       "      <th>City</th>\n",
       "      <th>Category</th>\n",
       "      <th>Alcohol</th>\n",
       "      <th>Hotel Name</th>\n",
       "      <th>Address</th>\n",
       "      <th>Start Date</th>\n",
       "      <th>Expiry Date</th>\n",
       "      <th>Total Rooms</th>\n",
       "    </tr>\n",
       "  </thead>\n",
       "  <tbody>\n",
       "    <tr>\n",
       "      <th>0</th>\n",
       "      <td>1</td>\n",
       "      <td>Delhi</td>\n",
       "      <td>New Delhi</td>\n",
       "      <td>1 Star</td>\n",
       "      <td>NaN</td>\n",
       "      <td>Hotel LA (A unit of L A Hotels And Retreats Pv...</td>\n",
       "      <td>plot no A-1, Community Centre, Road No 43, Man...</td>\n",
       "      <td>2020-01-20</td>\n",
       "      <td>2025-01-19</td>\n",
       "      <td>35</td>\n",
       "    </tr>\n",
       "    <tr>\n",
       "      <th>1</th>\n",
       "      <td>2</td>\n",
       "      <td>Gujarat</td>\n",
       "      <td>Adalaj</td>\n",
       "      <td>1 Star</td>\n",
       "      <td>NaN</td>\n",
       "      <td>Amba Suites, Unit of Amba Township Private Lim...</td>\n",
       "      <td>Amba Business Park, Shivam â€“ II, Sub-Plot No...</td>\n",
       "      <td>2022-07-15</td>\n",
       "      <td>2027-07-14</td>\n",
       "      <td>64</td>\n",
       "    </tr>\n",
       "    <tr>\n",
       "      <th>2</th>\n",
       "      <td>3</td>\n",
       "      <td>Gujarat</td>\n",
       "      <td>Ahmedabad</td>\n",
       "      <td>1 Star</td>\n",
       "      <td>NaN</td>\n",
       "      <td>Hotel Pragati The Grand (A Unit of Pragati The...</td>\n",
       "      <td>SP-2,FP 2342,PAIKI, NR ZYDUS CADILA HOSPITAL,H...</td>\n",
       "      <td>2021-09-22</td>\n",
       "      <td>2026-09-21</td>\n",
       "      <td>45</td>\n",
       "    </tr>\n",
       "    <tr>\n",
       "      <th>3</th>\n",
       "      <td>4</td>\n",
       "      <td>Gujarat</td>\n",
       "      <td>Ahmedabad</td>\n",
       "      <td>1 Star</td>\n",
       "      <td>NaN</td>\n",
       "      <td>Hotel Rezaas</td>\n",
       "      <td>375-1, Sheetal Baug, Nr. Girish Cold Drink, Of...</td>\n",
       "      <td>2018-10-31</td>\n",
       "      <td>2023-10-30</td>\n",
       "      <td>38</td>\n",
       "    </tr>\n",
       "    <tr>\n",
       "      <th>4</th>\n",
       "      <td>5</td>\n",
       "      <td>Gujarat</td>\n",
       "      <td>Anand</td>\n",
       "      <td>1 Star</td>\n",
       "      <td>NaN</td>\n",
       "      <td>HOTEL ARIZONA INN</td>\n",
       "      <td>OPP. S R PARK, ANAND- SOJITRA ROAD, ANAND- 388001</td>\n",
       "      <td>2020-01-09</td>\n",
       "      <td>2025-08-31</td>\n",
       "      <td>28</td>\n",
       "    </tr>\n",
       "    <tr>\n",
       "      <th>...</th>\n",
       "      <td>...</td>\n",
       "      <td>...</td>\n",
       "      <td>...</td>\n",
       "      <td>...</td>\n",
       "      <td>...</td>\n",
       "      <td>...</td>\n",
       "      <td>...</td>\n",
       "      <td>...</td>\n",
       "      <td>...</td>\n",
       "      <td>...</td>\n",
       "    </tr>\n",
       "    <tr>\n",
       "      <th>1207</th>\n",
       "      <td>1208</td>\n",
       "      <td>Maharashtra</td>\n",
       "      <td>MUMBAI</td>\n",
       "      <td>5 Star</td>\n",
       "      <td>Without Alcohol</td>\n",
       "      <td>RADISSON MUMBAI ANDHERI MIDC</td>\n",
       "      <td>X-22, MIDC CENTRAL ROAD, ANDHERI EAST, MUMBAI ...</td>\n",
       "      <td>2018-10-18</td>\n",
       "      <td>2023-10-17</td>\n",
       "      <td>111</td>\n",
       "    </tr>\n",
       "    <tr>\n",
       "      <th>1208</th>\n",
       "      <td>1209</td>\n",
       "      <td>Uttarakhand</td>\n",
       "      <td>Dehradun</td>\n",
       "      <td>5 Star</td>\n",
       "      <td>Without Alcohol</td>\n",
       "      <td>Seyfert Sarovar Premiere</td>\n",
       "      <td>Khasra No 270, Haridwar Bypass Road, Dehradun,...</td>\n",
       "      <td>2019-02-25</td>\n",
       "      <td>2024-02-24</td>\n",
       "      <td>68</td>\n",
       "    </tr>\n",
       "    <tr>\n",
       "      <th>1209</th>\n",
       "      <td>1210</td>\n",
       "      <td>West Bengal</td>\n",
       "      <td>Durgapur</td>\n",
       "      <td>5 Star</td>\n",
       "      <td>Without Alcohol</td>\n",
       "      <td>FORTUNE PARK PUSHPANJALI- MEMBER ITC'S HOTEL G...</td>\n",
       "      <td>C71 A SAHID KHUDIRAM SARANI CITY CENTRE Durgapur</td>\n",
       "      <td>2019-12-01</td>\n",
       "      <td>2024-11-01</td>\n",
       "      <td>89</td>\n",
       "    </tr>\n",
       "    <tr>\n",
       "      <th>1210</th>\n",
       "      <td>1211</td>\n",
       "      <td>West Bengal</td>\n",
       "      <td>Kolkata</td>\n",
       "      <td>5 Star</td>\n",
       "      <td>Without Alcohol</td>\n",
       "      <td>Raajkutir IHCL SeleQtions</td>\n",
       "      <td>89C MOULANA ABUL KALAM AZAD SARANI , BLOCK 1 ,...</td>\n",
       "      <td>2022-11-17</td>\n",
       "      <td>2027-11-16</td>\n",
       "      <td>33</td>\n",
       "    </tr>\n",
       "    <tr>\n",
       "      <th>1211</th>\n",
       "      <td>1212</td>\n",
       "      <td>West Bengal</td>\n",
       "      <td>Siliguri</td>\n",
       "      <td>5 Star</td>\n",
       "      <td>Without Alcohol</td>\n",
       "      <td>COURTYARD BY MARRIOTT SILIGURI</td>\n",
       "      <td>MALLAGURI HILL CART ROAD SILIGURI</td>\n",
       "      <td>2019-12-31</td>\n",
       "      <td>2024-12-30</td>\n",
       "      <td>130</td>\n",
       "    </tr>\n",
       "  </tbody>\n",
       "</table>\n",
       "<p>1212 rows × 10 columns</p>\n",
       "</div>"
      ],
      "text/plain": [
       "      S.No.        State       City Category          Alcohol  \\\n",
       "0         1        Delhi  New Delhi   1 Star              NaN   \n",
       "1         2      Gujarat     Adalaj   1 Star              NaN   \n",
       "2         3      Gujarat  Ahmedabad   1 Star              NaN   \n",
       "3         4      Gujarat  Ahmedabad   1 Star              NaN   \n",
       "4         5      Gujarat      Anand   1 Star              NaN   \n",
       "...     ...          ...        ...      ...              ...   \n",
       "1207   1208  Maharashtra     MUMBAI   5 Star  Without Alcohol   \n",
       "1208   1209  Uttarakhand   Dehradun   5 Star  Without Alcohol   \n",
       "1209   1210  West Bengal   Durgapur   5 Star  Without Alcohol   \n",
       "1210   1211  West Bengal    Kolkata   5 Star  Without Alcohol   \n",
       "1211   1212  West Bengal   Siliguri   5 Star  Without Alcohol   \n",
       "\n",
       "                                             Hotel Name  \\\n",
       "0     Hotel LA (A unit of L A Hotels And Retreats Pv...   \n",
       "1     Amba Suites, Unit of Amba Township Private Lim...   \n",
       "2     Hotel Pragati The Grand (A Unit of Pragati The...   \n",
       "3                                          Hotel Rezaas   \n",
       "4                                     HOTEL ARIZONA INN   \n",
       "...                                                 ...   \n",
       "1207                       RADISSON MUMBAI ANDHERI MIDC   \n",
       "1208                          Seyfert Sarovar Premiere    \n",
       "1209  FORTUNE PARK PUSHPANJALI- MEMBER ITC'S HOTEL G...   \n",
       "1210                          Raajkutir IHCL SeleQtions   \n",
       "1211                     COURTYARD BY MARRIOTT SILIGURI   \n",
       "\n",
       "                                                Address Start Date  \\\n",
       "0     plot no A-1, Community Centre, Road No 43, Man... 2020-01-20   \n",
       "1     Amba Business Park, Shivam â€“ II, Sub-Plot No... 2022-07-15   \n",
       "2     SP-2,FP 2342,PAIKI, NR ZYDUS CADILA HOSPITAL,H... 2021-09-22   \n",
       "3     375-1, Sheetal Baug, Nr. Girish Cold Drink, Of... 2018-10-31   \n",
       "4     OPP. S R PARK, ANAND- SOJITRA ROAD, ANAND- 388001 2020-01-09   \n",
       "...                                                 ...        ...   \n",
       "1207  X-22, MIDC CENTRAL ROAD, ANDHERI EAST, MUMBAI ... 2018-10-18   \n",
       "1208  Khasra No 270, Haridwar Bypass Road, Dehradun,... 2019-02-25   \n",
       "1209   C71 A SAHID KHUDIRAM SARANI CITY CENTRE Durgapur 2019-12-01   \n",
       "1210  89C MOULANA ABUL KALAM AZAD SARANI , BLOCK 1 ,... 2022-11-17   \n",
       "1211                  MALLAGURI HILL CART ROAD SILIGURI 2019-12-31   \n",
       "\n",
       "     Expiry Date  Total Rooms  \n",
       "0     2025-01-19           35  \n",
       "1     2027-07-14           64  \n",
       "2     2026-09-21           45  \n",
       "3     2023-10-30           38  \n",
       "4     2025-08-31           28  \n",
       "...          ...          ...  \n",
       "1207  2023-10-17          111  \n",
       "1208  2024-02-24           68  \n",
       "1209  2024-11-01           89  \n",
       "1210  2027-11-16           33  \n",
       "1211  2024-12-30          130  \n",
       "\n",
       "[1212 rows x 10 columns]"
      ]
     },
     "execution_count": 49,
     "metadata": {},
     "output_type": "execute_result"
    }
   ],
   "source": [
    "df"
   ]
  },
  {
   "cell_type": "code",
   "execution_count": null,
   "metadata": {},
   "outputs": [],
   "source": []
  },
  {
   "cell_type": "code",
   "execution_count": null,
   "metadata": {},
   "outputs": [],
   "source": []
  }
 ],
 "metadata": {
  "kernelspec": {
   "display_name": "Python 3",
   "language": "python",
   "name": "python3"
  },
  "language_info": {
   "codemirror_mode": {
    "name": "ipython",
    "version": 3
   },
   "file_extension": ".py",
   "mimetype": "text/x-python",
   "name": "python",
   "nbconvert_exporter": "python",
   "pygments_lexer": "ipython3",
   "version": "3.11.1"
  },
  "orig_nbformat": 4
 },
 "nbformat": 4,
 "nbformat_minor": 2
}
