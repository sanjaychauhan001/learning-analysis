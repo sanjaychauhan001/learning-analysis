{
 "cells": [
  {
   "cell_type": "code",
   "execution_count": 1,
   "metadata": {},
   "outputs": [],
   "source": [
    "import pandas as pd\n",
    "import numpy as np\n",
    "import plotly.express as px\n",
    "import matplotlib.pyplot as plt \n",
    "import seaborn as sns\n",
    "import plotly.graph_objects as go"
   ]
  },
  {
   "cell_type": "code",
   "execution_count": 2,
   "metadata": {},
   "outputs": [
    {
     "data": {
      "text/html": [
       "<div>\n",
       "<style scoped>\n",
       "    .dataframe tbody tr th:only-of-type {\n",
       "        vertical-align: middle;\n",
       "    }\n",
       "\n",
       "    .dataframe tbody tr th {\n",
       "        vertical-align: top;\n",
       "    }\n",
       "\n",
       "    .dataframe thead th {\n",
       "        text-align: right;\n",
       "    }\n",
       "</style>\n",
       "<table border=\"1\" class=\"dataframe\">\n",
       "  <thead>\n",
       "    <tr style=\"text-align: right;\">\n",
       "      <th></th>\n",
       "      <th>brand_name</th>\n",
       "      <th>model</th>\n",
       "      <th>price</th>\n",
       "      <th>rating</th>\n",
       "      <th>has_5g</th>\n",
       "      <th>has_nfc</th>\n",
       "      <th>has_ir_blaster</th>\n",
       "      <th>processor_brand</th>\n",
       "      <th>num_core</th>\n",
       "      <th>processor_speed</th>\n",
       "      <th>...</th>\n",
       "      <th>screen_size</th>\n",
       "      <th>resolution</th>\n",
       "      <th>refresh_rate</th>\n",
       "      <th>num_rear_camera</th>\n",
       "      <th>num_front_camera</th>\n",
       "      <th>primary_camera_rear</th>\n",
       "      <th>primary_camera_front</th>\n",
       "      <th>extended_memory_available</th>\n",
       "      <th>extended_upto</th>\n",
       "      <th>os</th>\n",
       "    </tr>\n",
       "  </thead>\n",
       "  <tbody>\n",
       "    <tr>\n",
       "      <th>0</th>\n",
       "      <td>xiaomi</td>\n",
       "      <td>Xiaomi Redmi Note 13 Pro Max 5G</td>\n",
       "      <td>22999</td>\n",
       "      <td>87</td>\n",
       "      <td>True</td>\n",
       "      <td>True</td>\n",
       "      <td>True</td>\n",
       "      <td>snapdragon</td>\n",
       "      <td>8.0</td>\n",
       "      <td>2.40</td>\n",
       "      <td>...</td>\n",
       "      <td>6.67</td>\n",
       "      <td>1220 x 2712</td>\n",
       "      <td>144</td>\n",
       "      <td>3</td>\n",
       "      <td>1</td>\n",
       "      <td>200.0</td>\n",
       "      <td>32.0</td>\n",
       "      <td>0</td>\n",
       "      <td>NaN</td>\n",
       "      <td>Android</td>\n",
       "    </tr>\n",
       "    <tr>\n",
       "      <th>1</th>\n",
       "      <td>iqoo</td>\n",
       "      <td>iQOO 12 Pro</td>\n",
       "      <td>64990</td>\n",
       "      <td>92</td>\n",
       "      <td>True</td>\n",
       "      <td>True</td>\n",
       "      <td>True</td>\n",
       "      <td>snapdragon</td>\n",
       "      <td>8.0</td>\n",
       "      <td>3.30</td>\n",
       "      <td>...</td>\n",
       "      <td>6.78</td>\n",
       "      <td>1440 x 3200</td>\n",
       "      <td>144</td>\n",
       "      <td>3</td>\n",
       "      <td>1</td>\n",
       "      <td>64.0</td>\n",
       "      <td>16.0</td>\n",
       "      <td>Missing</td>\n",
       "      <td>NaN</td>\n",
       "      <td>Android</td>\n",
       "    </tr>\n",
       "    <tr>\n",
       "      <th>2</th>\n",
       "      <td>motorola</td>\n",
       "      <td>Motorola Edge 40 Neo</td>\n",
       "      <td>22999</td>\n",
       "      <td>84</td>\n",
       "      <td>True</td>\n",
       "      <td>True</td>\n",
       "      <td>False</td>\n",
       "      <td>dimensity</td>\n",
       "      <td>8.0</td>\n",
       "      <td>2.50</td>\n",
       "      <td>...</td>\n",
       "      <td>6.55</td>\n",
       "      <td>1080 x 2400</td>\n",
       "      <td>144</td>\n",
       "      <td>2</td>\n",
       "      <td>1</td>\n",
       "      <td>50.0</td>\n",
       "      <td>32.0</td>\n",
       "      <td>0</td>\n",
       "      <td>NaN</td>\n",
       "      <td>Android</td>\n",
       "    </tr>\n",
       "    <tr>\n",
       "      <th>3</th>\n",
       "      <td>xiaomi</td>\n",
       "      <td>Xiaomi Redmi Note 13 Pro Plus</td>\n",
       "      <td>21990</td>\n",
       "      <td>87</td>\n",
       "      <td>True</td>\n",
       "      <td>True</td>\n",
       "      <td>True</td>\n",
       "      <td>dimensity</td>\n",
       "      <td>8.0</td>\n",
       "      <td>2.80</td>\n",
       "      <td>...</td>\n",
       "      <td>6.67</td>\n",
       "      <td>1220 x 2712</td>\n",
       "      <td>144</td>\n",
       "      <td>3</td>\n",
       "      <td>1</td>\n",
       "      <td>200.0</td>\n",
       "      <td>16.0</td>\n",
       "      <td>0</td>\n",
       "      <td>NaN</td>\n",
       "      <td>Android</td>\n",
       "    </tr>\n",
       "    <tr>\n",
       "      <th>4</th>\n",
       "      <td>nokia</td>\n",
       "      <td>Nokia 7610 5G</td>\n",
       "      <td>52990</td>\n",
       "      <td>89</td>\n",
       "      <td>True</td>\n",
       "      <td>True</td>\n",
       "      <td>False</td>\n",
       "      <td>snapdragon</td>\n",
       "      <td>8.0</td>\n",
       "      <td>2.91</td>\n",
       "      <td>...</td>\n",
       "      <td>6.67</td>\n",
       "      <td>1080 x 2400</td>\n",
       "      <td>120</td>\n",
       "      <td>3</td>\n",
       "      <td>1</td>\n",
       "      <td>108.0</td>\n",
       "      <td>32.0</td>\n",
       "      <td>Missing</td>\n",
       "      <td>NaN</td>\n",
       "      <td>Android</td>\n",
       "    </tr>\n",
       "  </tbody>\n",
       "</table>\n",
       "<p>5 rows × 25 columns</p>\n",
       "</div>"
      ],
      "text/plain": [
       "  brand_name                            model  price  rating  has_5g  has_nfc  \\\n",
       "0     xiaomi  Xiaomi Redmi Note 13 Pro Max 5G  22999      87    True     True   \n",
       "1       iqoo                      iQOO 12 Pro  64990      92    True     True   \n",
       "2   motorola             Motorola Edge 40 Neo  22999      84    True     True   \n",
       "3     xiaomi    Xiaomi Redmi Note 13 Pro Plus  21990      87    True     True   \n",
       "4      nokia                    Nokia 7610 5G  52990      89    True     True   \n",
       "\n",
       "   has_ir_blaster processor_brand  num_core  processor_speed  ...  \\\n",
       "0            True      snapdragon       8.0             2.40  ...   \n",
       "1            True      snapdragon       8.0             3.30  ...   \n",
       "2           False       dimensity       8.0             2.50  ...   \n",
       "3            True       dimensity       8.0             2.80  ...   \n",
       "4           False      snapdragon       8.0             2.91  ...   \n",
       "\n",
       "   screen_size     resolution  refresh_rate  num_rear_camera  \\\n",
       "0         6.67   1220 x 2712            144                3   \n",
       "1         6.78   1440 x 3200            144                3   \n",
       "2         6.55   1080 x 2400            144                2   \n",
       "3         6.67   1220 x 2712            144                3   \n",
       "4         6.67   1080 x 2400            120                3   \n",
       "\n",
       "   num_front_camera  primary_camera_rear primary_camera_front  \\\n",
       "0                 1                200.0                 32.0   \n",
       "1                 1                 64.0                 16.0   \n",
       "2                 1                 50.0                 32.0   \n",
       "3                 1                200.0                 16.0   \n",
       "4                 1                108.0                 32.0   \n",
       "\n",
       "   extended_memory_available  extended_upto       os  \n",
       "0                          0            NaN  Android  \n",
       "1                    Missing            NaN  Android  \n",
       "2                          0            NaN  Android  \n",
       "3                          0            NaN  Android  \n",
       "4                    Missing            NaN  Android  \n",
       "\n",
       "[5 rows x 25 columns]"
      ]
     },
     "execution_count": 2,
     "metadata": {},
     "output_type": "execute_result"
    }
   ],
   "source": [
    "df = pd.read_csv(\"C:\\\\Users\\\\sanja\\\\Downloads\\\\scrap_phone_cleaned.csv\")\n",
    "df.head()"
   ]
  },
  {
   "cell_type": "code",
   "execution_count": 9,
   "metadata": {},
   "outputs": [],
   "source": [
    "temp_df = df['brand_name'].value_counts().head(10).reset_index()"
   ]
  },
  {
   "cell_type": "code",
   "execution_count": 8,
   "metadata": {},
   "outputs": [
    {
     "data": {
      "application/vnd.plotly.v1+json": {
       "config": {
        "plotlyServerURL": "https://plot.ly"
       },
       "data": [
        {
         "alignmentgroup": "True",
         "hovertemplate": "index=%{x}<br>brand_name=%{y}<extra></extra>",
         "legendgroup": "",
         "marker": {
          "color": "#636efa",
          "pattern": {
           "shape": ""
          }
         },
         "name": "",
         "offsetgroup": "",
         "orientation": "v",
         "showlegend": false,
         "textposition": "auto",
         "type": "bar",
         "x": [
          "samsung",
          "vivo",
          "xiaomi",
          "realme",
          "oppo",
          "motorola",
          "oneplus",
          "iqoo",
          "poco",
          "tecno"
         ],
         "xaxis": "x",
         "y": [
          134,
          118,
          107,
          81,
          69,
          54,
          47,
          41,
          38,
          37
         ],
         "yaxis": "y"
        }
       ],
       "layout": {
        "barmode": "relative",
        "legend": {
         "tracegroupgap": 0
        },
        "margin": {
         "t": 60
        },
        "template": {
         "data": {
          "bar": [
           {
            "error_x": {
             "color": "#2a3f5f"
            },
            "error_y": {
             "color": "#2a3f5f"
            },
            "marker": {
             "line": {
              "color": "#E5ECF6",
              "width": 0.5
             },
             "pattern": {
              "fillmode": "overlay",
              "size": 10,
              "solidity": 0.2
             }
            },
            "type": "bar"
           }
          ],
          "barpolar": [
           {
            "marker": {
             "line": {
              "color": "#E5ECF6",
              "width": 0.5
             },
             "pattern": {
              "fillmode": "overlay",
              "size": 10,
              "solidity": 0.2
             }
            },
            "type": "barpolar"
           }
          ],
          "carpet": [
           {
            "aaxis": {
             "endlinecolor": "#2a3f5f",
             "gridcolor": "white",
             "linecolor": "white",
             "minorgridcolor": "white",
             "startlinecolor": "#2a3f5f"
            },
            "baxis": {
             "endlinecolor": "#2a3f5f",
             "gridcolor": "white",
             "linecolor": "white",
             "minorgridcolor": "white",
             "startlinecolor": "#2a3f5f"
            },
            "type": "carpet"
           }
          ],
          "choropleth": [
           {
            "colorbar": {
             "outlinewidth": 0,
             "ticks": ""
            },
            "type": "choropleth"
           }
          ],
          "contour": [
           {
            "colorbar": {
             "outlinewidth": 0,
             "ticks": ""
            },
            "colorscale": [
             [
              0,
              "#0d0887"
             ],
             [
              0.1111111111111111,
              "#46039f"
             ],
             [
              0.2222222222222222,
              "#7201a8"
             ],
             [
              0.3333333333333333,
              "#9c179e"
             ],
             [
              0.4444444444444444,
              "#bd3786"
             ],
             [
              0.5555555555555556,
              "#d8576b"
             ],
             [
              0.6666666666666666,
              "#ed7953"
             ],
             [
              0.7777777777777778,
              "#fb9f3a"
             ],
             [
              0.8888888888888888,
              "#fdca26"
             ],
             [
              1,
              "#f0f921"
             ]
            ],
            "type": "contour"
           }
          ],
          "contourcarpet": [
           {
            "colorbar": {
             "outlinewidth": 0,
             "ticks": ""
            },
            "type": "contourcarpet"
           }
          ],
          "heatmap": [
           {
            "colorbar": {
             "outlinewidth": 0,
             "ticks": ""
            },
            "colorscale": [
             [
              0,
              "#0d0887"
             ],
             [
              0.1111111111111111,
              "#46039f"
             ],
             [
              0.2222222222222222,
              "#7201a8"
             ],
             [
              0.3333333333333333,
              "#9c179e"
             ],
             [
              0.4444444444444444,
              "#bd3786"
             ],
             [
              0.5555555555555556,
              "#d8576b"
             ],
             [
              0.6666666666666666,
              "#ed7953"
             ],
             [
              0.7777777777777778,
              "#fb9f3a"
             ],
             [
              0.8888888888888888,
              "#fdca26"
             ],
             [
              1,
              "#f0f921"
             ]
            ],
            "type": "heatmap"
           }
          ],
          "heatmapgl": [
           {
            "colorbar": {
             "outlinewidth": 0,
             "ticks": ""
            },
            "colorscale": [
             [
              0,
              "#0d0887"
             ],
             [
              0.1111111111111111,
              "#46039f"
             ],
             [
              0.2222222222222222,
              "#7201a8"
             ],
             [
              0.3333333333333333,
              "#9c179e"
             ],
             [
              0.4444444444444444,
              "#bd3786"
             ],
             [
              0.5555555555555556,
              "#d8576b"
             ],
             [
              0.6666666666666666,
              "#ed7953"
             ],
             [
              0.7777777777777778,
              "#fb9f3a"
             ],
             [
              0.8888888888888888,
              "#fdca26"
             ],
             [
              1,
              "#f0f921"
             ]
            ],
            "type": "heatmapgl"
           }
          ],
          "histogram": [
           {
            "marker": {
             "pattern": {
              "fillmode": "overlay",
              "size": 10,
              "solidity": 0.2
             }
            },
            "type": "histogram"
           }
          ],
          "histogram2d": [
           {
            "colorbar": {
             "outlinewidth": 0,
             "ticks": ""
            },
            "colorscale": [
             [
              0,
              "#0d0887"
             ],
             [
              0.1111111111111111,
              "#46039f"
             ],
             [
              0.2222222222222222,
              "#7201a8"
             ],
             [
              0.3333333333333333,
              "#9c179e"
             ],
             [
              0.4444444444444444,
              "#bd3786"
             ],
             [
              0.5555555555555556,
              "#d8576b"
             ],
             [
              0.6666666666666666,
              "#ed7953"
             ],
             [
              0.7777777777777778,
              "#fb9f3a"
             ],
             [
              0.8888888888888888,
              "#fdca26"
             ],
             [
              1,
              "#f0f921"
             ]
            ],
            "type": "histogram2d"
           }
          ],
          "histogram2dcontour": [
           {
            "colorbar": {
             "outlinewidth": 0,
             "ticks": ""
            },
            "colorscale": [
             [
              0,
              "#0d0887"
             ],
             [
              0.1111111111111111,
              "#46039f"
             ],
             [
              0.2222222222222222,
              "#7201a8"
             ],
             [
              0.3333333333333333,
              "#9c179e"
             ],
             [
              0.4444444444444444,
              "#bd3786"
             ],
             [
              0.5555555555555556,
              "#d8576b"
             ],
             [
              0.6666666666666666,
              "#ed7953"
             ],
             [
              0.7777777777777778,
              "#fb9f3a"
             ],
             [
              0.8888888888888888,
              "#fdca26"
             ],
             [
              1,
              "#f0f921"
             ]
            ],
            "type": "histogram2dcontour"
           }
          ],
          "mesh3d": [
           {
            "colorbar": {
             "outlinewidth": 0,
             "ticks": ""
            },
            "type": "mesh3d"
           }
          ],
          "parcoords": [
           {
            "line": {
             "colorbar": {
              "outlinewidth": 0,
              "ticks": ""
             }
            },
            "type": "parcoords"
           }
          ],
          "pie": [
           {
            "automargin": true,
            "type": "pie"
           }
          ],
          "scatter": [
           {
            "fillpattern": {
             "fillmode": "overlay",
             "size": 10,
             "solidity": 0.2
            },
            "type": "scatter"
           }
          ],
          "scatter3d": [
           {
            "line": {
             "colorbar": {
              "outlinewidth": 0,
              "ticks": ""
             }
            },
            "marker": {
             "colorbar": {
              "outlinewidth": 0,
              "ticks": ""
             }
            },
            "type": "scatter3d"
           }
          ],
          "scattercarpet": [
           {
            "marker": {
             "colorbar": {
              "outlinewidth": 0,
              "ticks": ""
             }
            },
            "type": "scattercarpet"
           }
          ],
          "scattergeo": [
           {
            "marker": {
             "colorbar": {
              "outlinewidth": 0,
              "ticks": ""
             }
            },
            "type": "scattergeo"
           }
          ],
          "scattergl": [
           {
            "marker": {
             "colorbar": {
              "outlinewidth": 0,
              "ticks": ""
             }
            },
            "type": "scattergl"
           }
          ],
          "scattermapbox": [
           {
            "marker": {
             "colorbar": {
              "outlinewidth": 0,
              "ticks": ""
             }
            },
            "type": "scattermapbox"
           }
          ],
          "scatterpolar": [
           {
            "marker": {
             "colorbar": {
              "outlinewidth": 0,
              "ticks": ""
             }
            },
            "type": "scatterpolar"
           }
          ],
          "scatterpolargl": [
           {
            "marker": {
             "colorbar": {
              "outlinewidth": 0,
              "ticks": ""
             }
            },
            "type": "scatterpolargl"
           }
          ],
          "scatterternary": [
           {
            "marker": {
             "colorbar": {
              "outlinewidth": 0,
              "ticks": ""
             }
            },
            "type": "scatterternary"
           }
          ],
          "surface": [
           {
            "colorbar": {
             "outlinewidth": 0,
             "ticks": ""
            },
            "colorscale": [
             [
              0,
              "#0d0887"
             ],
             [
              0.1111111111111111,
              "#46039f"
             ],
             [
              0.2222222222222222,
              "#7201a8"
             ],
             [
              0.3333333333333333,
              "#9c179e"
             ],
             [
              0.4444444444444444,
              "#bd3786"
             ],
             [
              0.5555555555555556,
              "#d8576b"
             ],
             [
              0.6666666666666666,
              "#ed7953"
             ],
             [
              0.7777777777777778,
              "#fb9f3a"
             ],
             [
              0.8888888888888888,
              "#fdca26"
             ],
             [
              1,
              "#f0f921"
             ]
            ],
            "type": "surface"
           }
          ],
          "table": [
           {
            "cells": {
             "fill": {
              "color": "#EBF0F8"
             },
             "line": {
              "color": "white"
             }
            },
            "header": {
             "fill": {
              "color": "#C8D4E3"
             },
             "line": {
              "color": "white"
             }
            },
            "type": "table"
           }
          ]
         },
         "layout": {
          "annotationdefaults": {
           "arrowcolor": "#2a3f5f",
           "arrowhead": 0,
           "arrowwidth": 1
          },
          "autotypenumbers": "strict",
          "coloraxis": {
           "colorbar": {
            "outlinewidth": 0,
            "ticks": ""
           }
          },
          "colorscale": {
           "diverging": [
            [
             0,
             "#8e0152"
            ],
            [
             0.1,
             "#c51b7d"
            ],
            [
             0.2,
             "#de77ae"
            ],
            [
             0.3,
             "#f1b6da"
            ],
            [
             0.4,
             "#fde0ef"
            ],
            [
             0.5,
             "#f7f7f7"
            ],
            [
             0.6,
             "#e6f5d0"
            ],
            [
             0.7,
             "#b8e186"
            ],
            [
             0.8,
             "#7fbc41"
            ],
            [
             0.9,
             "#4d9221"
            ],
            [
             1,
             "#276419"
            ]
           ],
           "sequential": [
            [
             0,
             "#0d0887"
            ],
            [
             0.1111111111111111,
             "#46039f"
            ],
            [
             0.2222222222222222,
             "#7201a8"
            ],
            [
             0.3333333333333333,
             "#9c179e"
            ],
            [
             0.4444444444444444,
             "#bd3786"
            ],
            [
             0.5555555555555556,
             "#d8576b"
            ],
            [
             0.6666666666666666,
             "#ed7953"
            ],
            [
             0.7777777777777778,
             "#fb9f3a"
            ],
            [
             0.8888888888888888,
             "#fdca26"
            ],
            [
             1,
             "#f0f921"
            ]
           ],
           "sequentialminus": [
            [
             0,
             "#0d0887"
            ],
            [
             0.1111111111111111,
             "#46039f"
            ],
            [
             0.2222222222222222,
             "#7201a8"
            ],
            [
             0.3333333333333333,
             "#9c179e"
            ],
            [
             0.4444444444444444,
             "#bd3786"
            ],
            [
             0.5555555555555556,
             "#d8576b"
            ],
            [
             0.6666666666666666,
             "#ed7953"
            ],
            [
             0.7777777777777778,
             "#fb9f3a"
            ],
            [
             0.8888888888888888,
             "#fdca26"
            ],
            [
             1,
             "#f0f921"
            ]
           ]
          },
          "colorway": [
           "#636efa",
           "#EF553B",
           "#00cc96",
           "#ab63fa",
           "#FFA15A",
           "#19d3f3",
           "#FF6692",
           "#B6E880",
           "#FF97FF",
           "#FECB52"
          ],
          "font": {
           "color": "#2a3f5f"
          },
          "geo": {
           "bgcolor": "white",
           "lakecolor": "white",
           "landcolor": "#E5ECF6",
           "showlakes": true,
           "showland": true,
           "subunitcolor": "white"
          },
          "hoverlabel": {
           "align": "left"
          },
          "hovermode": "closest",
          "mapbox": {
           "style": "light"
          },
          "paper_bgcolor": "white",
          "plot_bgcolor": "#E5ECF6",
          "polar": {
           "angularaxis": {
            "gridcolor": "white",
            "linecolor": "white",
            "ticks": ""
           },
           "bgcolor": "#E5ECF6",
           "radialaxis": {
            "gridcolor": "white",
            "linecolor": "white",
            "ticks": ""
           }
          },
          "scene": {
           "xaxis": {
            "backgroundcolor": "#E5ECF6",
            "gridcolor": "white",
            "gridwidth": 2,
            "linecolor": "white",
            "showbackground": true,
            "ticks": "",
            "zerolinecolor": "white"
           },
           "yaxis": {
            "backgroundcolor": "#E5ECF6",
            "gridcolor": "white",
            "gridwidth": 2,
            "linecolor": "white",
            "showbackground": true,
            "ticks": "",
            "zerolinecolor": "white"
           },
           "zaxis": {
            "backgroundcolor": "#E5ECF6",
            "gridcolor": "white",
            "gridwidth": 2,
            "linecolor": "white",
            "showbackground": true,
            "ticks": "",
            "zerolinecolor": "white"
           }
          },
          "shapedefaults": {
           "line": {
            "color": "#2a3f5f"
           }
          },
          "ternary": {
           "aaxis": {
            "gridcolor": "white",
            "linecolor": "white",
            "ticks": ""
           },
           "baxis": {
            "gridcolor": "white",
            "linecolor": "white",
            "ticks": ""
           },
           "bgcolor": "#E5ECF6",
           "caxis": {
            "gridcolor": "white",
            "linecolor": "white",
            "ticks": ""
           }
          },
          "title": {
           "x": 0.05
          },
          "xaxis": {
           "automargin": true,
           "gridcolor": "white",
           "linecolor": "white",
           "ticks": "",
           "title": {
            "standoff": 15
           },
           "zerolinecolor": "white",
           "zerolinewidth": 2
          },
          "yaxis": {
           "automargin": true,
           "gridcolor": "white",
           "linecolor": "white",
           "ticks": "",
           "title": {
            "standoff": 15
           },
           "zerolinecolor": "white",
           "zerolinewidth": 2
          }
         }
        },
        "xaxis": {
         "anchor": "y",
         "domain": [
          0,
          1
         ],
         "title": {
          "text": "index"
         }
        },
        "yaxis": {
         "anchor": "x",
         "domain": [
          0,
          1
         ],
         "title": {
          "text": "brand_name"
         }
        }
       }
      }
     },
     "metadata": {},
     "output_type": "display_data"
    }
   ],
   "source": [
    "# top 10 brands\n",
    "px.bar(data_frame=temp_df, x='index', y='brand_name')"
   ]
  },
  {
   "cell_type": "code",
   "execution_count": 12,
   "metadata": {},
   "outputs": [
    {
     "data": {
      "text/plain": [
       "<Axes: ylabel='brand_name'>"
      ]
     },
     "execution_count": 12,
     "metadata": {},
     "output_type": "execute_result"
    },
    {
     "data": {
      "image/png": "[encoded data removed]",
      "text/plain": [
       "<Figure size 640x480 with 1 Axes>"
      ]
     },
     "metadata": {},
     "output_type": "display_data"
    }
   ],
   "source": [
    "df['brand_name'].value_counts().head(10).plot(kind='pie',autopct='%0.1f%%')"
   ]
  },
  {
   "cell_type": "code",
   "execution_count": 13,
   "metadata": {},
   "outputs": [
    {
     "data": {
      "text/plain": [
       "count       966.000000\n",
       "mean      41224.833333\n",
       "std       38054.536489\n",
       "min        5999.000000\n",
       "25%       18499.000000\n",
       "50%       26999.000000\n",
       "75%       49990.000000\n",
       "max      480000.000000\n",
       "Name: price, dtype: float64"
      ]
     },
     "execution_count": 13,
     "metadata": {},
     "output_type": "execute_result"
    }
   ],
   "source": [
    "df['price'].describe()"
   ]
  },
  {
   "cell_type": "code",
   "execution_count": 15,
   "metadata": {},
   "outputs": [
    {
     "data": {
      "text/plain": [
       "<seaborn.axisgrid.FacetGrid at 0x288cbd3de10>"
      ]
     },
     "execution_count": 15,
     "metadata": {},
     "output_type": "execute_result"
    },
    {
     "data": {
      "image/png": "[encoded data removed]",
      "text/plain": [
       "<Figure size 500x500 with 1 Axes>"
      ]
     },
     "metadata": {},
     "output_type": "display_data"
    }
   ],
   "source": [
    "sns.displot(data=df,x='price',kind='hist',kde=True)\n",
    "# right skwed outliers"
   ]
  },
  {
   "cell_type": "code",
   "execution_count": 16,
   "metadata": {},
   "outputs": [
    {
     "data": {
      "text/plain": [
       "3.266868897810557"
      ]
     },
     "execution_count": 16,
     "metadata": {},
     "output_type": "execute_result"
    }
   ],
   "source": [
    "df['price'].skew()"
   ]
  },
  {
   "cell_type": "code",
   "execution_count": 17,
   "metadata": {},
   "outputs": [
    {
     "data": {
      "application/vnd.plotly.v1+json": {
       "config": {
        "plotlyServerURL": "https://plot.ly"
       },
       "data": [
        {
         "alignmentgroup": "True",
         "hovertemplate": "price=%{x}<extra></extra>",
         "legendgroup": "",
         "marker": {
          "color": "#636efa"
         },
         "name": "",
         "notched": false,
         "offsetgroup": "",
         "orientation": "h",
         "showlegend": false,
         "type": "box",
         "x": [
          22999,
          64990,
          22999,
          21990,
          52990,
          31350,
          24999,
          38990,
          14999,
          56999,
          27250,
          119990,
          15990,
          19858,
          23999,
          12999,
          69999,
          26999,
          38990,
          24749,
          15499,
          19889,
          14999,
          47390,
          59990,
          16999,
          29990,
          13999,
          99999,
          21990,
          14999,
          10990,
          24999,
          40990,
          31990,
          18999,
          25670,
          29990,
          26999,
          12990,
          23999,
          25690,
          42990,
          17922,
          23999,
          39999,
          71499,
          29989,
          34498,
          14012,
          33990,
          21710,
          124990,
          16960,
          35200,
          19999,
          18499,
          71990,
          29999,
          19999,
          39999,
          60999,
          24999,
          11999,
          39990,
          35449,
          159900,
          21990,
          60999,
          32376,
          18999,
          42990,
          17499,
          14999,
          24990,
          27834,
          23999,
          21999,
          56990,
          11172,
          16999,
          42999,
          79900,
          27999,
          15999,
          17990,
          56990,
          14990,
          37999,
          19999,
          32999,
          72990,
          12795,
          54990,
          24999,
          79990,
          44999,
          34999,
          82500,
          10499,
          34990,
          29199,
          10999,
          21596,
          36320,
          136495,
          39999,
          15990,
          89900,
          16499,
          29999,
          74999,
          25640,
          29990,
          24990,
          14999,
          11999,
          12999,
          39990,
          12999,
          10999,
          49999,
          33990,
          7999,
          18999,
          54999,
          20990,
          94990,
          12999,
          17499,
          24999,
          29990,
          42990,
          25749,
          134900,
          14999,
          15999,
          25999,
          12599,
          20999,
          15990,
          27990,
          87900,
          19999,
          37899,
          18999,
          19300,
          132900,
          23999,
          33940,
          39990,
          59199,
          41999,
          14499,
          64990,
          18999,
          45990,
          8199,
          21490,
          18990,
          25840,
          74990,
          28499,
          16990,
          55990,
          36990,
          26999,
          27799,
          179900,
          13999,
          16990,
          14999,
          18869,
          24990,
          38999,
          53400,
          21839,
          34999,
          9999,
          20986,
          27355,
          24499,
          39990,
          30999,
          28990,
          42999,
          15199,
          48990,
          13999,
          7799,
          24999,
          34999,
          74973,
          12499,
          35999,
          11794,
          17999,
          15999,
          15999,
          12999,
          26999,
          30999,
          197900,
          49990,
          121899,
          29999,
          99999,
          30999,
          46990,
          12999,
          69999,
          43999,
          39990,
          45990,
          24990,
          16940,
          28700,
          26900,
          20999,
          13999,
          137900,
          18990,
          29990,
          49999,
          19999,
          54999,
          8990,
          24499,
          69999,
          39999,
          24470,
          37777,
          113999,
          12999,
          14999,
          19999,
          17999,
          59999,
          19999,
          18679,
          31990,
          45990,
          29990,
          23990,
          14999,
          49990,
          23990,
          19990,
          154999,
          21899,
          16999,
          27499,
          23999,
          19999,
          11990,
          9299,
          28999,
          47990,
          60999,
          19999,
          23300,
          10499,
          8099,
          33799,
          82900,
          75999,
          106990,
          24999,
          75999,
          16999,
          10400,
          15990,
          159990,
          39999,
          58999,
          16999,
          49999,
          16499,
          10958,
          114990,
          29999,
          15999,
          24999,
          15699,
          49999,
          94999,
          24999,
          15999,
          9489,
          21938,
          70990,
          42990,
          19990,
          12399,
          94999,
          24999,
          20870,
          54999,
          27499,
          24999,
          89990,
          10999,
          94990,
          39999,
          24999,
          32999,
          134999,
          6999,
          21999,
          22490,
          29990,
          35990,
          20490,
          79990,
          13999,
          22880,
          27999,
          59999,
          28990,
          29999,
          19499,
          24990,
          25989,
          34990,
          20999,
          29999,
          24999,
          45990,
          39999,
          15990,
          9786,
          42999,
          30999,
          18990,
          70999,
          10249,
          106999,
          8999,
          29999,
          17990,
          25990,
          9999,
          43990,
          29990,
          55990,
          20994,
          14299,
          13999,
          34460,
          49990,
          29999,
          22999,
          19990,
          16999,
          31999,
          37999,
          34999,
          28094,
          24491,
          19990,
          59990,
          16290,
          21880,
          29990,
          179900,
          87900,
          25990,
          23990,
          44999,
          17999,
          13400,
          17990,
          70990,
          79999,
          79999,
          22999,
          23999,
          36999,
          99999,
          89990,
          34999,
          54990,
          15539,
          15990,
          33999,
          15990,
          9144,
          19999,
          46999,
          29999,
          13690,
          9899,
          16999,
          21999,
          89999,
          40398,
          20999,
          142900,
          97900,
          22999,
          19999,
          89999,
          28999,
          24990,
          35999,
          26990,
          17999,
          12999,
          71990,
          22999,
          44999,
          19499,
          94999,
          36790,
          17489,
          19990,
          41989,
          27499,
          18820,
          14999,
          199990,
          11784,
          29999,
          24999,
          34990,
          19990,
          25999,
          40990,
          125990,
          15990,
          31990,
          18990,
          56990,
          79990,
          103999,
          81999,
          16999,
          28499,
          24890,
          61990,
          24990,
          19999,
          13999,
          33999,
          106990,
          27200,
          109990,
          18798,
          27693,
          19990,
          99999,
          11499,
          169999,
          9990,
          61999,
          9479,
          18499,
          17490,
          39990,
          64990,
          43990,
          14990,
          94999,
          24990,
          34990,
          7998,
          11999,
          102990,
          39999,
          19999,
          45999,
          69999,
          94990,
          94999,
          29999,
          12999,
          20242,
          12450,
          51999,
          36999,
          55999,
          21290,
          179900,
          69990,
          30999,
          64900,
          35880,
          54999,
          69999,
          49999,
          22999,
          21999,
          480000,
          24999,
          29999,
          14999,
          20999,
          59999,
          55990,
          19990,
          11999,
          18990,
          10699,
          24990,
          39999,
          10999,
          18999,
          19999,
          15890,
          33999,
          22990,
          22999,
          24990,
          25999,
          51999,
          22990,
          19990,
          27999,
          71999,
          53999,
          19990,
          49000,
          26999,
          109900,
          67990,
          98990,
          39999,
          14999,
          11999,
          184999,
          12990,
          42999,
          49990,
          59990,
          24990,
          14499,
          159900,
          72990,
          39990,
          28990,
          51999,
          31999,
          25999,
          39999,
          34999,
          18999,
          29990,
          27660,
          28990,
          14899,
          30980,
          60990,
          24999,
          79990,
          16799,
          18699,
          16999,
          69989,
          24999,
          21999,
          139999,
          23490,
          17990,
          15999,
          10490,
          20490,
          214990,
          78990,
          89990,
          24999,
          89990,
          20499,
          17999,
          79990,
          16999,
          20999,
          43999,
          119990,
          20990,
          49999,
          18990,
          99990,
          24990,
          38990,
          46990,
          19999,
          61990,
          13999,
          19990,
          44999,
          14999,
          34999,
          28999,
          26899,
          12990,
          16999,
          17999,
          14990,
          18999,
          74999,
          18990,
          12099,
          99990,
          85499,
          22999,
          18999,
          44999,
          23990,
          25899,
          14990,
          25499,
          74999,
          13999,
          49990,
          31440,
          94990,
          21999,
          14990,
          22990,
          25999,
          26999,
          15999,
          21999,
          26999,
          17990,
          24499,
          73999,
          32999,
          134999,
          18499,
          31080,
          25900,
          39910,
          36699,
          36990,
          32990,
          82999,
          134990,
          12990,
          11149,
          149990,
          80999,
          49999,
          89990,
          179990,
          49990,
          11500,
          139990,
          39999,
          23990,
          34990,
          35990,
          49999,
          64990,
          54990,
          49990,
          44990,
          45999,
          89999,
          146990,
          35990,
          149900,
          90990,
          14899,
          31990,
          23990,
          34999,
          41990,
          26990,
          17990,
          23990,
          19990,
          58990,
          27990,
          104999,
          19990,
          29990,
          15990,
          19990,
          59990,
          26999,
          17999,
          14990,
          24490,
          12990,
          14499,
          39990,
          20990,
          79999,
          16890,
          17990,
          25999,
          15999,
          13499,
          27999,
          17990,
          25990,
          49999,
          21999,
          15999,
          47990,
          12990,
          101999,
          22489,
          69990,
          179990,
          86000,
          40999,
          79990,
          15990,
          17999,
          33990,
          25999,
          29999,
          45999,
          34990,
          109900,
          9489,
          10999,
          13999,
          184999,
          63990,
          65990,
          49990,
          34990,
          69990,
          17990,
          16990,
          13990,
          16990,
          35999,
          42990,
          24999,
          11999,
          25990,
          23999,
          27349,
          137990,
          14589,
          42990,
          35499,
          29990,
          15999,
          47990,
          49990,
          29990,
          15999,
          16999,
          14999,
          27999,
          39990,
          82990,
          15499,
          19999,
          18999,
          99990,
          16949,
          15699,
          22990,
          19999,
          16990,
          35999,
          30990,
          15900,
          79999,
          11799,
          42990,
          69990,
          16999,
          15999,
          24990,
          25990,
          21499,
          27999,
          22490,
          24999,
          34999,
          19790,
          17000,
          19990,
          17999,
          30000,
          16990,
          74999,
          39990,
          34990,
          49990,
          13999,
          32990,
          15990,
          184900,
          26999,
          14885,
          22999,
          164999,
          29999,
          9499,
          23799,
          159999,
          9479,
          139990,
          16499,
          114990,
          59990,
          154990,
          119900,
          29990,
          19990,
          59990,
          20990,
          34990,
          24990,
          12990,
          19990,
          44990,
          8349,
          89999,
          8399,
          24990,
          19990,
          49990,
          19990,
          19990,
          11999,
          89900,
          17990,
          14990,
          18990,
          79990,
          59990,
          104999,
          10999,
          19999,
          13990,
          35990,
          5999,
          15990,
          26990,
          37990,
          29990,
          19999,
          33999,
          31999,
          23990,
          22990,
          17990,
          169900,
          107990,
          19990,
          13499,
          44950,
          15990,
          59990,
          14990,
          63990,
          29990,
          15999,
          69990,
          29999,
          82990,
          24990,
          42999,
          14999,
          14990,
          19999,
          17990,
          118990,
          17349,
          99990,
          44990,
          17899,
          13999,
          16999,
          44990,
          34990,
          49990,
          79990,
          104999,
          92249,
          79990,
          36990,
          23990,
          21990,
          22999,
          197999,
          19990,
          44999,
          24999,
          11970,
          38990,
          16900,
          75999,
          21990,
          34999,
          32990,
          22999,
          17299,
          21000,
          29990,
          13999,
          42990,
          17990,
          14990,
          85999,
          30999,
          16490,
          31988,
          10799,
          16999,
          17490,
          29999,
          204999,
          28900,
          129990,
          22999,
          18999,
          16499,
          16999,
          29990,
          21000,
          59990,
          69999,
          32490,
          29999,
          54990,
          71999,
          23999,
          57500,
          82990,
          52990,
          21999,
          19990,
          49999,
          21999,
          92999,
          17499,
          28999,
          118990,
          14999,
          17500,
          38990,
          14990,
          31999,
          24999,
          49990,
          7999,
          10499,
          24999,
          164900,
          89990,
          14999,
          109999,
          54999,
          16990,
          109990,
          29990,
          89990,
          64990,
          14990,
          32990,
          34990,
          139990,
          59990,
          52990,
          17990,
          43990
         ],
         "x0": " ",
         "xaxis": "x",
         "y0": " ",
         "yaxis": "y"
        }
       ],
       "layout": {
        "boxmode": "group",
        "legend": {
         "tracegroupgap": 0
        },
        "margin": {
         "t": 60
        },
        "template": {
         "data": {
          "bar": [
           {
            "error_x": {
             "color": "#2a3f5f"
            },
            "error_y": {
             "color": "#2a3f5f"
            },
            "marker": {
             "line": {
              "color": "#E5ECF6",
              "width": 0.5
             },
             "pattern": {
              "fillmode": "overlay",
              "size": 10,
              "solidity": 0.2
             }
            },
            "type": "bar"
           }
          ],
          "barpolar": [
           {
            "marker": {
             "line": {
              "color": "#E5ECF6",
              "width": 0.5
             },
             "pattern": {
              "fillmode": "overlay",
              "size": 10,
              "solidity": 0.2
             }
            },
            "type": "barpolar"
           }
          ],
          "carpet": [
           {
            "aaxis": {
             "endlinecolor": "#2a3f5f",
             "gridcolor": "white",
             "linecolor": "white",
             "minorgridcolor": "white",
             "startlinecolor": "#2a3f5f"
            },
            "baxis": {
             "endlinecolor": "#2a3f5f",
             "gridcolor": "white",
             "linecolor": "white",
             "minorgridcolor": "white",
             "startlinecolor": "#2a3f5f"
            },
            "type": "carpet"
           }
          ],
          "choropleth": [
           {
            "colorbar": {
             "outlinewidth": 0,
             "ticks": ""
            },
            "type": "choropleth"
           }
          ],
          "contour": [
           {
            "colorbar": {
             "outlinewidth": 0,
             "ticks": ""
            },
            "colorscale": [
             [
              0,
              "#0d0887"
             ],
             [
              0.1111111111111111,
              "#46039f"
             ],
             [
              0.2222222222222222,
              "#7201a8"
             ],
             [
              0.3333333333333333,
              "#9c179e"
             ],
             [
              0.4444444444444444,
              "#bd3786"
             ],
             [
              0.5555555555555556,
              "#d8576b"
             ],
             [
              0.6666666666666666,
              "#ed7953"
             ],
             [
              0.7777777777777778,
              "#fb9f3a"
             ],
             [
              0.8888888888888888,
              "#fdca26"
             ],
             [
              1,
              "#f0f921"
             ]
            ],
            "type": "contour"
           }
          ],
          "contourcarpet": [
           {
            "colorbar": {
             "outlinewidth": 0,
             "ticks": ""
            },
            "type": "contourcarpet"
           }
          ],
          "heatmap": [
           {
            "colorbar": {
             "outlinewidth": 0,
             "ticks": ""
            },
            "colorscale": [
             [
              0,
              "#0d0887"
             ],
             [
              0.1111111111111111,
              "#46039f"
             ],
             [
              0.2222222222222222,
              "#7201a8"
             ],
             [
              0.3333333333333333,
              "#9c179e"
             ],
             [
              0.4444444444444444,
              "#bd3786"
             ],
             [
              0.5555555555555556,
              "#d8576b"
             ],
             [
              0.6666666666666666,
              "#ed7953"
             ],
             [
              0.7777777777777778,
              "#fb9f3a"
             ],
             [
              0.8888888888888888,
              "#fdca26"
             ],
             [
              1,
              "#f0f921"
             ]
            ],
            "type": "heatmap"
           }
          ],
          "heatmapgl": [
           {
            "colorbar": {
             "outlinewidth": 0,
             "ticks": ""
            },
            "colorscale": [
             [
              0,
              "#0d0887"
             ],
             [
              0.1111111111111111,
              "#46039f"
             ],
             [
              0.2222222222222222,
              "#7201a8"
             ],
             [
              0.3333333333333333,
              "#9c179e"
             ],
             [
              0.4444444444444444,
              "#bd3786"
             ],
             [
              0.5555555555555556,
              "#d8576b"
             ],
             [
              0.6666666666666666,
              "#ed7953"
             ],
             [
              0.7777777777777778,
              "#fb9f3a"
             ],
             [
              0.8888888888888888,
              "#fdca26"
             ],
             [
              1,
              "#f0f921"
             ]
            ],
            "type": "heatmapgl"
           }
          ],
          "histogram": [
           {
            "marker": {
             "pattern": {
              "fillmode": "overlay",
              "size": 10,
              "solidity": 0.2
             }
            },
            "type": "histogram"
           }
          ],
          "histogram2d": [
           {
            "colorbar": {
             "outlinewidth": 0,
             "ticks": ""
            },
            "colorscale": [
             [
              0,
              "#0d0887"
             ],
             [
              0.1111111111111111,
              "#46039f"
             ],
             [
              0.2222222222222222,
              "#7201a8"
             ],
             [
              0.3333333333333333,
              "#9c179e"
             ],
             [
              0.4444444444444444,
              "#bd3786"
             ],
             [
              0.5555555555555556,
              "#d8576b"
             ],
             [
              0.6666666666666666,
              "#ed7953"
             ],
             [
              0.7777777777777778,
              "#fb9f3a"
             ],
             [
              0.8888888888888888,
              "#fdca26"
             ],
             [
              1,
              "#f0f921"
             ]
            ],
            "type": "histogram2d"
           }
          ],
          "histogram2dcontour": [
           {
            "colorbar": {
             "outlinewidth": 0,
             "ticks": ""
            },
            "colorscale": [
             [
              0,
              "#0d0887"
             ],
             [
              0.1111111111111111,
              "#46039f"
             ],
             [
              0.2222222222222222,
              "#7201a8"
             ],
             [
              0.3333333333333333,
              "#9c179e"
             ],
             [
              0.4444444444444444,
              "#bd3786"
             ],
             [
              0.5555555555555556,
              "#d8576b"
             ],
             [
              0.6666666666666666,
              "#ed7953"
             ],
             [
              0.7777777777777778,
              "#fb9f3a"
             ],
             [
              0.8888888888888888,
              "#fdca26"
             ],
             [
              1,
              "#f0f921"
             ]
            ],
            "type": "histogram2dcontour"
           }
          ],
          "mesh3d": [
           {
            "colorbar": {
             "outlinewidth": 0,
             "ticks": ""
            },
            "type": "mesh3d"
           }
          ],
          "parcoords": [
           {
            "line": {
             "colorbar": {
              "outlinewidth": 0,
              "ticks": ""
             }
            },
            "type": "parcoords"
           }
          ],
          "pie": [
           {
            "automargin": true,
            "type": "pie"
           }
          ],
          "scatter": [
           {
            "fillpattern": {
             "fillmode": "overlay",
             "size": 10,
             "solidity": 0.2
            },
            "type": "scatter"
           }
          ],
          "scatter3d": [
           {
            "line": {
             "colorbar": {
              "outlinewidth": 0,
              "ticks": ""
             }
            },
            "marker": {
             "colorbar": {
              "outlinewidth": 0,
              "ticks": ""
             }
            },
            "type": "scatter3d"
           }
          ],
          "scattercarpet": [
           {
            "marker": {
             "colorbar": {
              "outlinewidth": 0,
              "ticks": ""
             }
            },
            "type": "scattercarpet"
           }
          ],
          "scattergeo": [
           {
            "marker": {
             "colorbar": {
              "outlinewidth": 0,
              "ticks": ""
             }
            },
            "type": "scattergeo"
           }
          ],
          "scattergl": [
           {
            "marker": {
             "colorbar": {
              "outlinewidth": 0,
              "ticks": ""
             }
            },
            "type": "scattergl"
           }
          ],
          "scattermapbox": [
           {
            "marker": {
             "colorbar": {
              "outlinewidth": 0,
              "ticks": ""
             }
            },
            "type": "scattermapbox"
           }
          ],
          "scatterpolar": [
           {
            "marker": {
             "colorbar": {
              "outlinewidth": 0,
              "ticks": ""
             }
            },
            "type": "scatterpolar"
           }
          ],
          "scatterpolargl": [
           {
            "marker": {
             "colorbar": {
              "outlinewidth": 0,
              "ticks": ""
             }
            },
            "type": "scatterpolargl"
           }
          ],
          "scatterternary": [
           {
            "marker": {
             "colorbar": {
              "outlinewidth": 0,
              "ticks": ""
             }
            },
            "type": "scatterternary"
           }
          ],
          "surface": [
           {
            "colorbar": {
             "outlinewidth": 0,
             "ticks": ""
            },
            "colorscale": [
             [
              0,
              "#0d0887"
             ],
             [
              0.1111111111111111,
              "#46039f"
             ],
             [
              0.2222222222222222,
              "#7201a8"
             ],
             [
              0.3333333333333333,
              "#9c179e"
             ],
             [
              0.4444444444444444,
              "#bd3786"
             ],
             [
              0.5555555555555556,
              "#d8576b"
             ],
             [
              0.6666666666666666,
              "#ed7953"
             ],
             [
              0.7777777777777778,
              "#fb9f3a"
             ],
             [
              0.8888888888888888,
              "#fdca26"
             ],
             [
              1,
              "#f0f921"
             ]
            ],
            "type": "surface"
           }
          ],
          "table": [
           {
            "cells": {
             "fill": {
              "color": "#EBF0F8"
             },
             "line": {
              "color": "white"
             }
            },
            "header": {
             "fill": {
              "color": "#C8D4E3"
             },
             "line": {
              "color": "white"
             }
            },
            "type": "table"
           }
          ]
         },
         "layout": {
          "annotationdefaults": {
           "arrowcolor": "#2a3f5f",
           "arrowhead": 0,
           "arrowwidth": 1
          },
          "autotypenumbers": "strict",
          "coloraxis": {
           "colorbar": {
            "outlinewidth": 0,
            "ticks": ""
           }
          },
          "colorscale": {
           "diverging": [
            [
             0,
             "#8e0152"
            ],
            [
             0.1,
             "#c51b7d"
            ],
            [
             0.2,
             "#de77ae"
            ],
            [
             0.3,
             "#f1b6da"
            ],
            [
             0.4,
             "#fde0ef"
            ],
            [
             0.5,
             "#f7f7f7"
            ],
            [
             0.6,
             "#e6f5d0"
            ],
            [
             0.7,
             "#b8e186"
            ],
            [
             0.8,
             "#7fbc41"
            ],
            [
             0.9,
             "#4d9221"
            ],
            [
             1,
             "#276419"
            ]
           ],
           "sequential": [
            [
             0,
             "#0d0887"
            ],
            [
             0.1111111111111111,
             "#46039f"
            ],
            [
             0.2222222222222222,
             "#7201a8"
            ],
            [
             0.3333333333333333,
             "#9c179e"
            ],
            [
             0.4444444444444444,
             "#bd3786"
            ],
            [
             0.5555555555555556,
             "#d8576b"
            ],
            [
             0.6666666666666666,
             "#ed7953"
            ],
            [
             0.7777777777777778,
             "#fb9f3a"
            ],
            [
             0.8888888888888888,
             "#fdca26"
            ],
            [
             1,
             "#f0f921"
            ]
           ],
           "sequentialminus": [
            [
             0,
             "#0d0887"
            ],
            [
             0.1111111111111111,
             "#46039f"
            ],
            [
             0.2222222222222222,
             "#7201a8"
            ],
            [
             0.3333333333333333,
             "#9c179e"
            ],
            [
             0.4444444444444444,
             "#bd3786"
            ],
            [
             0.5555555555555556,
             "#d8576b"
            ],
            [
             0.6666666666666666,
             "#ed7953"
            ],
            [
             0.7777777777777778,
             "#fb9f3a"
            ],
            [
             0.8888888888888888,
             "#fdca26"
            ],
            [
             1,
             "#f0f921"
            ]
           ]
          },
          "colorway": [
           "#636efa",
           "#EF553B",
           "#00cc96",
           "#ab63fa",
           "#FFA15A",
           "#19d3f3",
           "#FF6692",
           "#B6E880",
           "#FF97FF",
           "#FECB52"
          ],
          "font": {
           "color": "#2a3f5f"
          },
          "geo": {
           "bgcolor": "white",
           "lakecolor": "white",
           "landcolor": "#E5ECF6",
           "showlakes": true,
           "showland": true,
           "subunitcolor": "white"
          },
          "hoverlabel": {
           "align": "left"
          },
          "hovermode": "closest",
          "mapbox": {
           "style": "light"
          },
          "paper_bgcolor": "white",
          "plot_bgcolor": "#E5ECF6",
          "polar": {
           "angularaxis": {
            "gridcolor": "white",
            "linecolor": "white",
            "ticks": ""
           },
           "bgcolor": "#E5ECF6",
           "radialaxis": {
            "gridcolor": "white",
            "linecolor": "white",
            "ticks": ""
           }
          },
          "scene": {
           "xaxis": {
            "backgroundcolor": "#E5ECF6",
            "gridcolor": "white",
            "gridwidth": 2,
            "linecolor": "white",
            "showbackground": true,
            "ticks": "",
            "zerolinecolor": "white"
           },
           "yaxis": {
            "backgroundcolor": "#E5ECF6",
            "gridcolor": "white",
            "gridwidth": 2,
            "linecolor": "white",
            "showbackground": true,
            "ticks": "",
            "zerolinecolor": "white"
           },
           "zaxis": {
            "backgroundcolor": "#E5ECF6",
            "gridcolor": "white",
            "gridwidth": 2,
            "linecolor": "white",
            "showbackground": true,
            "ticks": "",
            "zerolinecolor": "white"
           }
          },
          "shapedefaults": {
           "line": {
            "color": "#2a3f5f"
           }
          },
          "ternary": {
           "aaxis": {
            "gridcolor": "white",
            "linecolor": "white",
            "ticks": ""
           },
           "baxis": {
            "gridcolor": "white",
            "linecolor": "white",
            "ticks": ""
           },
           "bgcolor": "#E5ECF6",
           "caxis": {
            "gridcolor": "white",
            "linecolor": "white",
            "ticks": ""
           }
          },
          "title": {
           "x": 0.05
          },
          "xaxis": {
           "automargin": true,
           "gridcolor": "white",
           "linecolor": "white",
           "ticks": "",
           "title": {
            "standoff": 15
           },
           "zerolinecolor": "white",
           "zerolinewidth": 2
          },
          "yaxis": {
           "automargin": true,
           "gridcolor": "white",
           "linecolor": "white",
           "ticks": "",
           "title": {
            "standoff": 15
           },
           "zerolinecolor": "white",
           "zerolinewidth": 2
          }
         }
        },
        "xaxis": {
         "anchor": "y",
         "domain": [
          0,
          1
         ],
         "title": {
          "text": "price"
         }
        },
        "yaxis": {
         "anchor": "x",
         "domain": [
          0,
          1
         ]
        }
       }
      }
     },
     "metadata": {},
     "output_type": "display_data"
    }
   ],
   "source": [
    "px.box(data_frame=df,x='price')\n",
    "# lots of outliers act according to brand name"
   ]
  },
  {
   "cell_type": "code",
   "execution_count": 18,
   "metadata": {},
   "outputs": [
    {
     "data": {
      "text/plain": [
       "count    966.000000\n",
       "mean      83.262940\n",
       "std        5.504893\n",
       "min       60.000000\n",
       "25%       80.000000\n",
       "50%       84.000000\n",
       "75%       87.000000\n",
       "max       96.000000\n",
       "Name: rating, dtype: float64"
      ]
     },
     "execution_count": 18,
     "metadata": {},
     "output_type": "execute_result"
    }
   ],
   "source": [
    "df['rating'].describe()"
   ]
  },
  {
   "cell_type": "code",
   "execution_count": 19,
   "metadata": {},
   "outputs": [
    {
     "data": {
      "text/plain": [
       "<seaborn.axisgrid.FacetGrid at 0x288d21c3b50>"
      ]
     },
     "execution_count": 19,
     "metadata": {},
     "output_type": "execute_result"
    },
    {
     "data": {
      "image/png": "[encoded data removed]",
      "text/plain": [
       "<Figure size 500x500 with 1 Axes>"
      ]
     },
     "metadata": {},
     "output_type": "display_data"
    }
   ],
   "source": [
    "sns.displot(data=df,x='rating',kind='hist',kde=True)"
   ]
  },
  {
   "cell_type": "code",
   "execution_count": 20,
   "metadata": {},
   "outputs": [
    {
     "data": {
      "text/plain": [
       "-0.5669257617003655"
      ]
     },
     "execution_count": 20,
     "metadata": {},
     "output_type": "execute_result"
    }
   ],
   "source": [
    "df['rating'].skew()\n",
    "# close to normal"
   ]
  },
  {
   "cell_type": "code",
   "execution_count": 21,
   "metadata": {},
   "outputs": [
    {
     "data": {
      "application/vnd.plotly.v1+json": {
       "config": {
        "plotlyServerURL": "https://plot.ly"
       },
       "data": [
        {
         "alignmentgroup": "True",
         "hovertemplate": "rating=%{x}<extra></extra>",
         "legendgroup": "",
         "marker": {
          "color": "#636efa"
         },
         "name": "",
         "notched": false,
         "offsetgroup": "",
         "orientation": "h",
         "showlegend": false,
         "type": "box",
         "x": [
          87,
          92,
          84,
          87,
          89,
          85,
          84,
          87,
          84,
          90,
          89,
          91,
          85,
          85,
          81,
          78,
          85,
          87,
          89,
          85,
          80,
          79,
          79,
          85,
          89,
          85,
          88,
          78,
          94,
          81,
          87,
          80,
          85,
          88,
          88,
          86,
          85,
          86,
          87,
          78,
          80,
          85,
          85,
          82,
          83,
          84,
          95,
          88,
          87,
          79,
          86,
          86,
          86,
          81,
          88,
          84,
          84,
          91,
          89,
          80,
          85,
          89,
          82,
          82,
          79,
          88,
          89,
          83,
          80,
          85,
          80,
          89,
          82,
          80,
          81,
          88,
          88,
          88,
          93,
          79,
          79,
          90,
          83,
          85,
          80,
          74,
          92,
          81,
          87,
          84,
          83,
          89,
          77,
          89,
          82,
          95,
          87,
          84,
          93,
          75,
          83,
          89,
          80,
          82,
          87,
          96,
          88,
          84,
          84,
          78,
          84,
          88,
          84,
          85,
          87,
          71,
          79,
          79,
          86,
          82,
          75,
          86,
          85,
          73,
          83,
          89,
          85,
          88,
          76,
          79,
          80,
          75,
          89,
          84,
          87,
          83,
          81,
          82,
          76,
          82,
          82,
          83,
          84,
          72,
          87,
          83,
          79,
          87,
          87,
          84,
          88,
          90,
          89,
          78,
          89,
          83,
          90,
          76,
          84,
          81,
          84,
          91,
          85,
          76,
          90,
          88,
          84,
          86,
          86,
          82,
          82,
          84,
          85,
          76,
          89,
          87,
          82,
          89,
          75,
          84,
          86,
          84,
          85,
          86,
          85,
          85,
          81,
          89,
          77,
          75,
          89,
          89,
          91,
          76,
          84,
          80,
          79,
          83,
          79,
          77,
          84,
          71,
          89,
          89,
          94,
          78,
          82,
          85,
          84,
          74,
          89,
          85,
          86,
          85,
          82,
          80,
          83,
          85,
          80,
          76,
          78,
          83,
          85,
          87,
          78,
          92,
          71,
          85,
          83,
          86,
          83,
          89,
          82,
          79,
          78,
          82,
          82,
          89,
          82,
          82,
          86,
          72,
          83,
          84,
          80,
          89,
          85,
          80,
          92,
          82,
          84,
          85,
          84,
          82,
          79,
          74,
          86,
          91,
          86,
          83,
          82,
          77,
          75,
          85,
          75,
          77,
          92,
          83,
          93,
          79,
          74,
          80,
          86,
          87,
          89,
          80,
          89,
          81,
          76,
          95,
          88,
          79,
          82,
          79,
          83,
          93,
          92,
          85,
          68,
          86,
          86,
          91,
          88,
          75,
          89,
          85,
          86,
          87,
          85,
          84,
          85,
          80,
          83,
          85,
          85,
          84,
          90,
          70,
          85,
          83,
          86,
          87,
          82,
          88,
          79,
          82,
          82,
          93,
          87,
          85,
          83,
          75,
          83,
          75,
          84,
          83,
          74,
          79,
          86,
          73,
          78,
          86,
          87,
          76,
          81,
          76,
          81,
          77,
          87,
          80,
          85,
          76,
          87,
          86,
          91,
          83,
          83,
          80,
          86,
          83,
          84,
          84,
          85,
          83,
          86,
          87,
          88,
          83,
          82,
          81,
          91,
          80,
          85,
          85,
          89,
          84,
          88,
          84,
          89,
          71,
          79,
          82,
          89,
          92,
          88,
          81,
          82,
          87,
          88,
          91,
          85,
          90,
          79,
          71,
          85,
          66,
          72,
          83,
          92,
          83,
          79,
          77,
          80,
          84,
          88,
          86,
          82,
          88,
          85,
          73,
          81,
          89,
          83,
          89,
          87,
          85,
          85,
          75,
          89,
          82,
          83,
          80,
          94,
          86,
          81,
          78,
          89,
          85,
          82,
          78,
          95,
          75,
          85,
          86,
          85,
          77,
          83,
          87,
          91,
          73,
          81,
          66,
          86,
          95,
          92,
          82,
          80,
          83,
          85,
          89,
          84,
          83,
          80,
          86,
          90,
          85,
          91,
          82,
          86,
          85,
          96,
          78,
          84,
          71,
          88,
          66,
          85,
          80,
          88,
          83,
          80,
          81,
          91,
          87,
          78,
          70,
          78,
          92,
          89,
          82,
          86,
          89,
          92,
          95,
          79,
          75,
          84,
          77,
          87,
          87,
          90,
          83,
          86,
          70,
          86,
          88,
          86,
          85,
          88,
          89,
          83,
          80,
          88,
          82,
          86,
          75,
          83,
          88,
          78,
          86,
          79,
          82,
          75,
          82,
          85,
          75,
          78,
          84,
          76,
          86,
          83,
          70,
          85,
          82,
          79,
          84,
          83,
          84,
          86,
          91,
          81,
          88,
          85,
          93,
          87,
          96,
          85,
          83,
          77,
          93,
          79,
          91,
          81,
          92,
          76,
          80,
          79,
          85,
          83,
          84,
          89,
          80,
          84,
          84,
          85,
          81,
          84,
          83,
          84,
          77,
          86,
          86,
          75,
          92,
          84,
          82,
          82,
          88,
          85,
          86,
          91,
          87,
          81,
          79,
          78,
          83,
          95,
          87,
          93,
          82,
          95,
          83,
          75,
          84,
          78,
          75,
          88,
          87,
          75,
          88,
          69,
          89,
          85,
          85,
          88,
          86,
          81,
          75,
          80,
          89,
          81,
          87,
          85,
          85,
          82,
          82,
          87,
          77,
          84,
          91,
          80,
          75,
          85,
          89,
          74,
          80,
          88,
          82,
          85,
          78,
          87,
          92,
          79,
          84,
          87,
          88,
          84,
          74,
          83,
          85,
          87,
          81,
          80,
          84,
          77,
          79,
          88,
          78,
          86,
          84,
          80,
          87,
          88,
          81,
          93,
          91,
          78,
          96,
          79,
          81,
          78,
          90,
          78,
          95,
          85,
          81,
          71,
          93,
          85,
          80,
          84,
          79,
          89,
          90,
          80,
          86,
          86,
          88,
          89,
          90,
          86,
          79,
          82,
          84,
          85,
          83,
          82,
          91,
          86,
          76,
          79,
          82,
          89,
          83,
          95,
          82,
          83,
          80,
          84,
          90,
          81,
          84,
          82,
          83,
          77,
          77,
          86,
          81,
          88,
          81,
          82,
          85,
          78,
          77,
          78,
          73,
          84,
          85,
          84,
          82,
          89,
          76,
          93,
          83,
          86,
          84,
          86,
          81,
          91,
          74,
          82,
          86,
          82,
          76,
          89,
          89,
          85,
          63,
          81,
          81,
          93,
          90,
          83,
          81,
          79,
          88,
          85,
          74,
          63,
          82,
          78,
          87,
          89,
          70,
          83,
          84,
          85,
          86,
          77,
          86,
          86,
          86,
          77,
          80,
          80,
          84,
          78,
          82,
          79,
          87,
          88,
          90,
          80,
          81,
          82,
          92,
          84,
          73,
          83,
          82,
          75,
          83,
          78,
          80,
          89,
          75,
          87,
          90,
          80,
          80,
          79,
          86,
          85,
          86,
          87,
          83,
          79,
          82,
          78,
          83,
          84,
          87,
          82,
          89,
          78,
          86,
          78,
          79,
          86,
          82,
          89,
          86,
          83,
          80,
          93,
          83,
          66,
          83,
          90,
          66,
          86,
          85,
          84,
          89,
          90,
          85,
          84,
          80,
          89,
          77,
          77,
          85,
          77,
          75,
          88,
          65,
          91,
          63,
          81,
          82,
          85,
          80,
          83,
          76,
          76,
          80,
          79,
          83,
          89,
          76,
          89,
          65,
          81,
          72,
          85,
          60,
          81,
          86,
          84,
          85,
          82,
          82,
          81,
          76,
          84,
          79,
          87,
          90,
          81,
          80,
          87,
          75,
          92,
          75,
          86,
          84,
          78,
          92,
          85,
          91,
          72,
          86,
          80,
          85,
          78,
          74,
          93,
          84,
          88,
          77,
          83,
          81,
          76,
          86,
          86,
          88,
          90,
          87,
          90,
          91,
          83,
          85,
          83,
          84,
          90,
          77,
          84,
          86,
          75,
          88,
          79,
          91,
          85,
          76,
          85,
          81,
          81,
          78,
          84,
          78,
          84,
          74,
          73,
          89,
          85,
          78,
          84,
          75,
          71,
          82,
          84,
          92,
          86,
          89,
          80,
          82,
          79,
          80,
          83,
          78,
          88,
          89,
          87,
          84,
          92,
          85,
          83,
          89,
          92,
          89,
          79,
          82,
          81,
          78,
          89,
          74,
          79,
          87,
          75,
          77,
          68,
          70,
          75,
          78,
          77,
          72,
          72,
          82,
          89,
          77,
          82,
          88,
          90,
          79,
          84,
          85,
          89,
          90,
          78,
          83,
          86,
          84,
          82,
          78,
          81,
          88
         ],
         "x0": " ",
         "xaxis": "x",
         "y0": " ",
         "yaxis": "y"
        }
       ],
       "layout": {
        "boxmode": "group",
        "legend": {
         "tracegroupgap": 0
        },
        "margin": {
         "t": 60
        },
        "template": {
         "data": {
          "bar": [
           {
            "error_x": {
             "color": "#2a3f5f"
            },
            "error_y": {
             "color": "#2a3f5f"
            },
            "marker": {
             "line": {
              "color": "#E5ECF6",
              "width": 0.5
             },
             "pattern": {
              "fillmode": "overlay",
              "size": 10,
              "solidity": 0.2
             }
            },
            "type": "bar"
           }
          ],
          "barpolar": [
           {
            "marker": {
             "line": {
              "color": "#E5ECF6",
              "width": 0.5
             },
             "pattern": {
              "fillmode": "overlay",
              "size": 10,
              "solidity": 0.2
             }
            },
            "type": "barpolar"
           }
          ],
          "carpet": [
           {
            "aaxis": {
             "endlinecolor": "#2a3f5f",
             "gridcolor": "white",
             "linecolor": "white",
             "minorgridcolor": "white",
             "startlinecolor": "#2a3f5f"
            },
            "baxis": {
             "endlinecolor": "#2a3f5f",
             "gridcolor": "white",
             "linecolor": "white",
             "minorgridcolor": "white",
             "startlinecolor": "#2a3f5f"
            },
            "type": "carpet"
           }
          ],
          "choropleth": [
           {
            "colorbar": {
             "outlinewidth": 0,
             "ticks": ""
            },
            "type": "choropleth"
           }
          ],
          "contour": [
           {
            "colorbar": {
             "outlinewidth": 0,
             "ticks": ""
            },
            "colorscale": [
             [
              0,
              "#0d0887"
             ],
             [
              0.1111111111111111,
              "#46039f"
             ],
             [
              0.2222222222222222,
              "#7201a8"
             ],
             [
              0.3333333333333333,
              "#9c179e"
             ],
             [
              0.4444444444444444,
              "#bd3786"
             ],
             [
              0.5555555555555556,
              "#d8576b"
             ],
             [
              0.6666666666666666,
              "#ed7953"
             ],
             [
              0.7777777777777778,
              "#fb9f3a"
             ],
             [
              0.8888888888888888,
              "#fdca26"
             ],
             [
              1,
              "#f0f921"
             ]
            ],
            "type": "contour"
           }
          ],
          "contourcarpet": [
           {
            "colorbar": {
             "outlinewidth": 0,
             "ticks": ""
            },
            "type": "contourcarpet"
           }
          ],
          "heatmap": [
           {
            "colorbar": {
             "outlinewidth": 0,
             "ticks": ""
            },
            "colorscale": [
             [
              0,
              "#0d0887"
             ],
             [
              0.1111111111111111,
              "#46039f"
             ],
             [
              0.2222222222222222,
              "#7201a8"
             ],
             [
              0.3333333333333333,
              "#9c179e"
             ],
             [
              0.4444444444444444,
              "#bd3786"
             ],
             [
              0.5555555555555556,
              "#d8576b"
             ],
             [
              0.6666666666666666,
              "#ed7953"
             ],
             [
              0.7777777777777778,
              "#fb9f3a"
             ],
             [
              0.8888888888888888,
              "#fdca26"
             ],
             [
              1,
              "#f0f921"
             ]
            ],
            "type": "heatmap"
           }
          ],
          "heatmapgl": [
           {
            "colorbar": {
             "outlinewidth": 0,
             "ticks": ""
            },
            "colorscale": [
             [
              0,
              "#0d0887"
             ],
             [
              0.1111111111111111,
              "#46039f"
             ],
             [
              0.2222222222222222,
              "#7201a8"
             ],
             [
              0.3333333333333333,
              "#9c179e"
             ],
             [
              0.4444444444444444,
              "#bd3786"
             ],
             [
              0.5555555555555556,
              "#d8576b"
             ],
             [
              0.6666666666666666,
              "#ed7953"
             ],
             [
              0.7777777777777778,
              "#fb9f3a"
             ],
             [
              0.8888888888888888,
              "#fdca26"
             ],
             [
              1,
              "#f0f921"
             ]
            ],
            "type": "heatmapgl"
           }
          ],
          "histogram": [
           {
            "marker": {
             "pattern": {
              "fillmode": "overlay",
              "size": 10,
              "solidity": 0.2
             }
            },
            "type": "histogram"
           }
          ],
          "histogram2d": [
           {
            "colorbar": {
             "outlinewidth": 0,
             "ticks": ""
            },
            "colorscale": [
             [
              0,
              "#0d0887"
             ],
             [
              0.1111111111111111,
              "#46039f"
             ],
             [
              0.2222222222222222,
              "#7201a8"
             ],
             [
              0.3333333333333333,
              "#9c179e"
             ],
             [
              0.4444444444444444,
              "#bd3786"
             ],
             [
              0.5555555555555556,
              "#d8576b"
             ],
             [
              0.6666666666666666,
              "#ed7953"
             ],
             [
              0.7777777777777778,
              "#fb9f3a"
             ],
             [
              0.8888888888888888,
              "#fdca26"
             ],
             [
              1,
              "#f0f921"
             ]
            ],
            "type": "histogram2d"
           }
          ],
          "histogram2dcontour": [
           {
            "colorbar": {
             "outlinewidth": 0,
             "ticks": ""
            },
            "colorscale": [
             [
              0,
              "#0d0887"
             ],
             [
              0.1111111111111111,
              "#46039f"
             ],
             [
              0.2222222222222222,
              "#7201a8"
             ],
             [
              0.3333333333333333,
              "#9c179e"
             ],
             [
              0.4444444444444444,
              "#bd3786"
             ],
             [
              0.5555555555555556,
              "#d8576b"
             ],
             [
              0.6666666666666666,
              "#ed7953"
             ],
             [
              0.7777777777777778,
              "#fb9f3a"
             ],
             [
              0.8888888888888888,
              "#fdca26"
             ],
             [
              1,
              "#f0f921"
             ]
            ],
            "type": "histogram2dcontour"
           }
          ],
          "mesh3d": [
           {
            "colorbar": {
             "outlinewidth": 0,
             "ticks": ""
            },
            "type": "mesh3d"
           }
          ],
          "parcoords": [
           {
            "line": {
             "colorbar": {
              "outlinewidth": 0,
              "ticks": ""
             }
            },
            "type": "parcoords"
           }
          ],
          "pie": [
           {
            "automargin": true,
            "type": "pie"
           }
          ],
          "scatter": [
           {
            "fillpattern": {
             "fillmode": "overlay",
             "size": 10,
             "solidity": 0.2
            },
            "type": "scatter"
           }
          ],
          "scatter3d": [
           {
            "line": {
             "colorbar": {
              "outlinewidth": 0,
              "ticks": ""
             }
            },
            "marker": {
             "colorbar": {
              "outlinewidth": 0,
              "ticks": ""
             }
            },
            "type": "scatter3d"
           }
          ],
          "scattercarpet": [
           {
            "marker": {
             "colorbar": {
              "outlinewidth": 0,
              "ticks": ""
             }
            },
            "type": "scattercarpet"
           }
          ],
          "scattergeo": [
           {
            "marker": {
             "colorbar": {
              "outlinewidth": 0,
              "ticks": ""
             }
            },
            "type": "scattergeo"
           }
          ],
          "scattergl": [
           {
            "marker": {
             "colorbar": {
              "outlinewidth": 0,
              "ticks": ""
             }
            },
            "type": "scattergl"
           }
          ],
          "scattermapbox": [
           {
            "marker": {
             "colorbar": {
              "outlinewidth": 0,
              "ticks": ""
             }
            },
            "type": "scattermapbox"
           }
          ],
          "scatterpolar": [
           {
            "marker": {
             "colorbar": {
              "outlinewidth": 0,
              "ticks": ""
             }
            },
            "type": "scatterpolar"
           }
          ],
          "scatterpolargl": [
           {
            "marker": {
             "colorbar": {
              "outlinewidth": 0,
              "ticks": ""
             }
            },
            "type": "scatterpolargl"
           }
          ],
          "scatterternary": [
           {
            "marker": {
             "colorbar": {
              "outlinewidth": 0,
              "ticks": ""
             }
            },
            "type": "scatterternary"
           }
          ],
          "surface": [
           {
            "colorbar": {
             "outlinewidth": 0,
             "ticks": ""
            },
            "colorscale": [
             [
              0,
              "#0d0887"
             ],
             [
              0.1111111111111111,
              "#46039f"
             ],
             [
              0.2222222222222222,
              "#7201a8"
             ],
             [
              0.3333333333333333,
              "#9c179e"
             ],
             [
              0.4444444444444444,
              "#bd3786"
             ],
             [
              0.5555555555555556,
              "#d8576b"
             ],
             [
              0.6666666666666666,
              "#ed7953"
             ],
             [
              0.7777777777777778,
              "#fb9f3a"
             ],
             [
              0.8888888888888888,
              "#fdca26"
             ],
             [
              1,
              "#f0f921"
             ]
            ],
            "type": "surface"
           }
          ],
          "table": [
           {
            "cells": {
             "fill": {
              "color": "#EBF0F8"
             },
             "line": {
              "color": "white"
             }
            },
            "header": {
             "fill": {
              "color": "#C8D4E3"
             },
             "line": {
              "color": "white"
             }
            },
            "type": "table"
           }
          ]
         },
         "layout": {
          "annotationdefaults": {
           "arrowcolor": "#2a3f5f",
           "arrowhead": 0,
           "arrowwidth": 1
          },
          "autotypenumbers": "strict",
          "coloraxis": {
           "colorbar": {
            "outlinewidth": 0,
            "ticks": ""
           }
          },
          "colorscale": {
           "diverging": [
            [
             0,
             "#8e0152"
            ],
            [
             0.1,
             "#c51b7d"
            ],
            [
             0.2,
             "#de77ae"
            ],
            [
             0.3,
             "#f1b6da"
            ],
            [
             0.4,
             "#fde0ef"
            ],
            [
             0.5,
             "#f7f7f7"
            ],
            [
             0.6,
             "#e6f5d0"
            ],
            [
             0.7,
             "#b8e186"
            ],
            [
             0.8,
             "#7fbc41"
            ],
            [
             0.9,
             "#4d9221"
            ],
            [
             1,
             "#276419"
            ]
           ],
           "sequential": [
            [
             0,
             "#0d0887"
            ],
            [
             0.1111111111111111,
             "#46039f"
            ],
            [
             0.2222222222222222,
             "#7201a8"
            ],
            [
             0.3333333333333333,
             "#9c179e"
            ],
            [
             0.4444444444444444,
             "#bd3786"
            ],
            [
             0.5555555555555556,
             "#d8576b"
            ],
            [
             0.6666666666666666,
             "#ed7953"
            ],
            [
             0.7777777777777778,
             "#fb9f3a"
            ],
            [
             0.8888888888888888,
             "#fdca26"
            ],
            [
             1,
             "#f0f921"
            ]
           ],
           "sequentialminus": [
            [
             0,
             "#0d0887"
            ],
            [
             0.1111111111111111,
             "#46039f"
            ],
            [
             0.2222222222222222,
             "#7201a8"
            ],
            [
             0.3333333333333333,
             "#9c179e"
            ],
            [
             0.4444444444444444,
             "#bd3786"
            ],
            [
             0.5555555555555556,
             "#d8576b"
            ],
            [
             0.6666666666666666,
             "#ed7953"
            ],
            [
             0.7777777777777778,
             "#fb9f3a"
            ],
            [
             0.8888888888888888,
             "#fdca26"
            ],
            [
             1,
             "#f0f921"
            ]
           ]
          },
          "colorway": [
           "#636efa",
           "#EF553B",
           "#00cc96",
           "#ab63fa",
           "#FFA15A",
           "#19d3f3",
           "#FF6692",
           "#B6E880",
           "#FF97FF",
           "#FECB52"
          ],
          "font": {
           "color": "#2a3f5f"
          },
          "geo": {
           "bgcolor": "white",
           "lakecolor": "white",
           "landcolor": "#E5ECF6",
           "showlakes": true,
           "showland": true,
           "subunitcolor": "white"
          },
          "hoverlabel": {
           "align": "left"
          },
          "hovermode": "closest",
          "mapbox": {
           "style": "light"
          },
          "paper_bgcolor": "white",
          "plot_bgcolor": "#E5ECF6",
          "polar": {
           "angularaxis": {
            "gridcolor": "white",
            "linecolor": "white",
            "ticks": ""
           },
           "bgcolor": "#E5ECF6",
           "radialaxis": {
            "gridcolor": "white",
            "linecolor": "white",
            "ticks": ""
           }
          },
          "scene": {
           "xaxis": {
            "backgroundcolor": "#E5ECF6",
            "gridcolor": "white",
            "gridwidth": 2,
            "linecolor": "white",
            "showbackground": true,
            "ticks": "",
            "zerolinecolor": "white"
           },
           "yaxis": {
            "backgroundcolor": "#E5ECF6",
            "gridcolor": "white",
            "gridwidth": 2,
            "linecolor": "white",
            "showbackground": true,
            "ticks": "",
            "zerolinecolor": "white"
           },
           "zaxis": {
            "backgroundcolor": "#E5ECF6",
            "gridcolor": "white",
            "gridwidth": 2,
            "linecolor": "white",
            "showbackground": true,
            "ticks": "",
            "zerolinecolor": "white"
           }
          },
          "shapedefaults": {
           "line": {
            "color": "#2a3f5f"
           }
          },
          "ternary": {
           "aaxis": {
            "gridcolor": "white",
            "linecolor": "white",
            "ticks": ""
           },
           "baxis": {
            "gridcolor": "white",
            "linecolor": "white",
            "ticks": ""
           },
           "bgcolor": "#E5ECF6",
           "caxis": {
            "gridcolor": "white",
            "linecolor": "white",
            "ticks": ""
           }
          },
          "title": {
           "x": 0.05
          },
          "xaxis": {
           "automargin": true,
           "gridcolor": "white",
           "linecolor": "white",
           "ticks": "",
           "title": {
            "standoff": 15
           },
           "zerolinecolor": "white",
           "zerolinewidth": 2
          },
          "yaxis": {
           "automargin": true,
           "gridcolor": "white",
           "linecolor": "white",
           "ticks": "",
           "title": {
            "standoff": 15
           },
           "zerolinecolor": "white",
           "zerolinewidth": 2
          }
         }
        },
        "xaxis": {
         "anchor": "y",
         "domain": [
          0,
          1
         ],
         "title": {
          "text": "rating"
         }
        },
        "yaxis": {
         "anchor": "x",
         "domain": [
          0,
          1
         ]
        }
       }
      }
     },
     "metadata": {},
     "output_type": "display_data"
    }
   ],
   "source": [
    "px.box(data_frame=df,x='rating')"
   ]
  },
  {
   "cell_type": "code",
   "execution_count": 23,
   "metadata": {},
   "outputs": [
    {
     "data": {
      "text/plain": [
       "0"
      ]
     },
     "execution_count": 23,
     "metadata": {},
     "output_type": "execute_result"
    }
   ],
   "source": [
    "df['rating'].isnull().sum()"
   ]
  },
  {
   "cell_type": "code",
   "execution_count": 4,
   "metadata": {},
   "outputs": [
    {
     "data": {
      "text/plain": [
       "<Axes: ylabel='has_5g'>"
      ]
     },
     "execution_count": 4,
     "metadata": {},
     "output_type": "execute_result"
    },
    {
     "data": {
      "image/png": "[encoded data removed]",
      "text/plain": [
       "<Figure size 640x480 with 1 Axes>"
      ]
     },
     "metadata": {},
     "output_type": "display_data"
    }
   ],
   "source": [
    "#has 5g\n",
    "df['has_5g'].value_counts().plot(kind='pie',autopct='%0.1f%%')"
   ]
  },
  {
   "cell_type": "code",
   "execution_count": 5,
   "metadata": {},
   "outputs": [
    {
     "data": {
      "text/plain": [
       "<Axes: ylabel='has_nfc'>"
      ]
     },
     "execution_count": 5,
     "metadata": {},
     "output_type": "execute_result"
    },
    {
     "data": {
      "image/png": "[encoded data removed]",
      "text/plain": [
       "<Figure size 640x480 with 1 Axes>"
      ]
     },
     "metadata": {},
     "output_type": "display_data"
    }
   ],
   "source": [
    "# has nfc\n",
    "df['has_nfc'].value_counts().plot(kind='pie',autopct='%0.1f%%')"
   ]
  },
  {
   "cell_type": "code",
   "execution_count": 6,
   "metadata": {},
   "outputs": [
    {
     "data": {
      "text/plain": [
       "<Axes: ylabel='has_ir_blaster'>"
      ]
     },
     "execution_count": 6,
     "metadata": {},
     "output_type": "execute_result"
    },
    {
     "data": {
      "image/png": "[encoded data removed]",
      "text/plain": [
       "<Figure size 640x480 with 1 Axes>"
      ]
     },
     "metadata": {},
     "output_type": "display_data"
    }
   ],
   "source": [
    "# has irBlaster\n",
    "df['has_ir_blaster'].value_counts().plot(kind='pie',autopct='%0.1f%%')"
   ]
  },
  {
   "cell_type": "code",
   "execution_count": 7,
   "metadata": {},
   "outputs": [
    {
     "data": {
      "text/plain": [
       "xiaomi     97\n",
       "poco       29\n",
       "iqoo       14\n",
       "oneplus    11\n",
       "vivo       11\n",
       "realme     10\n",
       "oppo       10\n",
       "honor       8\n",
       "huawei      8\n",
       "meizu       4\n",
       "redmi       3\n",
       "nubia       3\n",
       "ulefone     2\n",
       "samsung     1\n",
       "Name: brand_name, dtype: int64"
      ]
     },
     "execution_count": 7,
     "metadata": {},
     "output_type": "execute_result"
    }
   ],
   "source": [
    "df[df['has_ir_blaster'] == True]['brand_name'].value_counts()"
   ]
  },
  {
   "cell_type": "code",
   "execution_count": 10,
   "metadata": {},
   "outputs": [],
   "source": [
    "df['processor_brand'].replace('sanpdragon','snapdragon',inplace=True)"
   ]
  },
  {
   "cell_type": "code",
   "execution_count": 12,
   "metadata": {},
   "outputs": [
    {
     "data": {
      "text/plain": [
       "<Axes: ylabel='processor_brand'>"
      ]
     },
     "execution_count": 12,
     "metadata": {},
     "output_type": "execute_result"
    },
    {
     "data": {
      "image/png": "[encoded data removed]",
      "text/plain": [
       "<Figure size 640x480 with 1 Axes>"
      ]
     },
     "metadata": {},
     "output_type": "display_data"
    }
   ],
   "source": [
    "df['processor_brand'].value_counts().plot(kind='pie',autopct='%0.1f%%')"
   ]
  },
  {
   "cell_type": "code",
   "execution_count": 13,
   "metadata": {},
   "outputs": [
    {
     "data": {
      "text/plain": [
       "<Axes: ylabel='num_core'>"
      ]
     },
     "execution_count": 13,
     "metadata": {},
     "output_type": "execute_result"
    },
    {
     "data": {
      "image/png": "[encoded data removed]",
      "text/plain": [
       "<Figure size 640x480 with 1 Axes>"
      ]
     },
     "metadata": {},
     "output_type": "display_data"
    }
   ],
   "source": [
    "df['num_core'].value_counts().plot(kind='pie',autopct='%0.1f%%')"
   ]
  },
  {
   "cell_type": "code",
   "execution_count": 14,
   "metadata": {},
   "outputs": [
    {
     "data": {
      "text/plain": [
       "<Axes: ylabel='fast_charging_available'>"
      ]
     },
     "execution_count": 14,
     "metadata": {},
     "output_type": "execute_result"
    },
    {
     "data": {
      "image/png": "[encoded data removed]",
      "text/plain": [
       "<Figure size 640x480 with 1 Axes>"
      ]
     },
     "metadata": {},
     "output_type": "display_data"
    }
   ],
   "source": [
    "df['fast_charging_available'].value_counts().plot(kind='pie',autopct='%0.1f%%')"
   ]
  },
  {
   "cell_type": "code",
   "execution_count": 15,
   "metadata": {},
   "outputs": [
    {
     "data": {
      "text/plain": [
       "<Axes: ylabel='ram_capacity'>"
      ]
     },
     "execution_count": 15,
     "metadata": {},
     "output_type": "execute_result"
    },
    {
     "data": {
      "image/png": "[encoded data removed]",
      "text/plain": [
       "<Figure size 640x480 with 1 Axes>"
      ]
     },
     "metadata": {},
     "output_type": "display_data"
    }
   ],
   "source": [
    "df['ram_capacity'].value_counts().plot(kind='pie',autopct='%0.1f%%')"
   ]
  },
  {
   "cell_type": "code",
   "execution_count": 16,
   "metadata": {},
   "outputs": [
    {
     "data": {
      "text/plain": [
       "<Axes: ylabel='internal_memory'>"
      ]
     },
     "execution_count": 16,
     "metadata": {},
     "output_type": "execute_result"
    },
    {
     "data": {
      "image/png": "[encoded data removed]",
      "text/plain": [
       "<Figure size 640x480 with 1 Axes>"
      ]
     },
     "metadata": {},
     "output_type": "display_data"
    }
   ],
   "source": [
    "df['internal_memory'].value_counts().plot(kind='pie',autopct='%0.1f%%')"
   ]
  },
  {
   "cell_type": "code",
   "execution_count": 17,
   "metadata": {},
   "outputs": [
    {
     "data": {
      "text/plain": [
       "<Axes: ylabel='refresh_rate'>"
      ]
     },
     "execution_count": 17,
     "metadata": {},
     "output_type": "execute_result"
    },
    {
     "data": {
      "image/png": "[encoded data removed]",
      "text/plain": [
       "<Figure size 640x480 with 1 Axes>"
      ]
     },
     "metadata": {},
     "output_type": "display_data"
    }
   ],
   "source": [
    "df['refresh_rate'].value_counts().plot(kind='pie',autopct='%0.1f%%')"
   ]
  },
  {
   "cell_type": "code",
   "execution_count": 25,
   "metadata": {},
   "outputs": [],
   "source": [
    "df['num_front_camera'] = df['num_front_camera'].replace('Missing',np.NAN).astype(float)"
   ]
  },
  {
   "cell_type": "code",
   "execution_count": 26,
   "metadata": {},
   "outputs": [
    {
     "data": {
      "text/plain": [
       "<Axes: >"
      ]
     },
     "execution_count": 26,
     "metadata": {},
     "output_type": "execute_result"
    },
    {
     "data": {
      "image/png": "[encoded data removed]",
      "text/plain": [
       "<Figure size 640x480 with 1 Axes>"
      ]
     },
     "metadata": {},
     "output_type": "display_data"
    }
   ],
   "source": [
    "(df['num_rear_camera'] + df['num_front_camera']).value_counts().plot(kind='pie',autopct='%0.1f%%')\n",
    "# most of the phones have 4 camera"
   ]
  },
  {
   "cell_type": "code",
   "execution_count": 27,
   "metadata": {},
   "outputs": [
    {
     "data": {
      "text/plain": [
       "<Axes: ylabel='os'>"
      ]
     },
     "execution_count": 27,
     "metadata": {},
     "output_type": "execute_result"
    },
    {
     "data": {
      "image/png": "[encoded data removed]",
      "text/plain": [
       "<Figure size 640x480 with 1 Axes>"
      ]
     },
     "metadata": {},
     "output_type": "display_data"
    }
   ],
   "source": [
    "df['os'].value_counts().plot(kind='pie',autopct='%0.1f%%')"
   ]
  },
  {
   "cell_type": "code",
   "execution_count": 29,
   "metadata": {},
   "outputs": [
    {
     "data": {
      "text/plain": [
       "Index(['brand_name', 'model', 'price', 'rating', 'has_5g', 'has_nfc',\n",
       "       'has_ir_blaster', 'processor_brand', 'num_core', 'processor_speed',\n",
       "       'ram_capacity', 'internal_memory', 'battery_capacity',\n",
       "       'fast_charging_available', 'fast_charging', 'screen_size', 'resolution',\n",
       "       'refresh_rate', 'num_rear_camera', 'num_front_camera',\n",
       "       'primary_camera_rear', 'primary_camera_front',\n",
       "       'extended_memory_available', 'extended_upto', 'os'],\n",
       "      dtype='object')"
      ]
     },
     "execution_count": 29,
     "metadata": {},
     "output_type": "execute_result"
    }
   ],
   "source": [
    "df.columns"
   ]
  },
  {
   "cell_type": "code",
   "execution_count": 31,
   "metadata": {},
   "outputs": [],
   "source": [
    "df['extended_memory_available'].replace('Missing', np.NAN, inplace=True)"
   ]
  },
  {
   "cell_type": "code",
   "execution_count": 32,
   "metadata": {},
   "outputs": [
    {
     "data": {
      "text/plain": [
       "<Axes: ylabel='extended_memory_available'>"
      ]
     },
     "execution_count": 32,
     "metadata": {},
     "output_type": "execute_result"
    },
    {
     "data": {
      "image/png": "[encoded data removed]",
      "text/plain": [
       "<Figure size 640x480 with 1 Axes>"
      ]
     },
     "metadata": {},
     "output_type": "display_data"
    }
   ],
   "source": [
    "df['extended_memory_available'].value_counts().plot(kind='pie',autopct='%0.1f%%')\n"
   ]
  },
  {
   "cell_type": "code",
   "execution_count": 33,
   "metadata": {},
   "outputs": [
    {
     "data": {
      "text/plain": [
       "<Axes: ylabel='extended_upto'>"
      ]
     },
     "execution_count": 33,
     "metadata": {},
     "output_type": "execute_result"
    },
    {
     "data": {
      "image/png": "[encoded data removed]",
      "text/plain": [
       "<Figure size 640x480 with 1 Axes>"
      ]
     },
     "metadata": {},
     "output_type": "display_data"
    }
   ],
   "source": [
    "df['extended_upto'].value_counts().plot(kind='pie',autopct='%0.1f%%')"
   ]
  },
  {
   "cell_type": "code",
   "execution_count": 34,
   "metadata": {},
   "outputs": [],
   "source": [
    "def plot_graphs(col_name):\n",
    "\n",
    "    sns.displot(kind='hist',data=df,kde=True,x=col_name)\n",
    "    sns.catplot(kind='box',data=df, x=col_name)"
   ]
  },
  {
   "cell_type": "code",
   "execution_count": 39,
   "metadata": {},
   "outputs": [],
   "source": [
    "column_name = df.select_dtypes(include=['int64','float64']).iloc[:,[3,6,9,13,14]].columns"
   ]
  },
  {
   "cell_type": "code",
   "execution_count": 40,
   "metadata": {},
   "outputs": [
    {
     "data": {
      "image/png": "[encoded data removed]",
      "text/plain": [
       "<Figure size 500x500 with 1 Axes>"
      ]
     },
     "metadata": {},
     "output_type": "display_data"
    },
    {
     "data": {
      "image/png": "[encoded data removed]",
      "text/plain": [
       "<Figure size 500x500 with 1 Axes>"
      ]
     },
     "metadata": {},
     "output_type": "display_data"
    },
    {
     "data": {
      "image/png": "[encoded data removed]",
      "text/plain": [
       "<Figure size 500x500 with 1 Axes>"
      ]
     },
     "metadata": {},
     "output_type": "display_data"
    },
    {
     "data": {
      "image/png": "[encoded data removed]",
      "text/plain": [
       "<Figure size 500x500 with 1 Axes>"
      ]
     },
     "metadata": {},
     "output_type": "display_data"
    },
    {
     "data": {
      "image/png": "[encoded data removed]",
      "text/plain": [
       "<Figure size 500x500 with 1 Axes>"
      ]
     },
     "metadata": {},
     "output_type": "display_data"
    },
    {
     "data": {
      "image/png": "[encoded data removed]",
      "text/plain": [
       "<Figure size 500x500 with 1 Axes>"
      ]
     },
     "metadata": {},
     "output_type": "display_data"
    },
    {
     "data": {
      "image/png": "[encoded data removed]",
      "text/plain": [
       "<Figure size 500x500 with 1 Axes>"
      ]
     },
     "metadata": {},
     "output_type": "display_data"
    },
    {
     "data": {
      "image/png": "[encoded data removed]",
      "text/plain": [
       "<Figure size 500x500 with 1 Axes>"
      ]
     },
     "metadata": {},
     "output_type": "display_data"
    },
    {
     "data": {
      "image/png": "[encoded data removed]",
      "text/plain": [
       "<Figure size 500x500 with 1 Axes>"
      ]
     },
     "metadata": {},
     "output_type": "display_data"
    },
    {
     "data": {
      "image/png": "[encoded data removed]",
      "text/plain": [
       "<Figure size 500x500 with 1 Axes>"
      ]
     },
     "metadata": {},
     "output_type": "display_data"
    }
   ],
   "source": [
    "for col in column_name:\n",
    "    plot_graphs(col)\n",
    "\n",
    "# processor speed is bimodel\n",
    "#outliers in battry capacity, screen size and primary rear camera\n",
    "\n"
   ]
  },
  {
   "cell_type": "code",
   "execution_count": 44,
   "metadata": {},
   "outputs": [],
   "source": [
    "x = df.groupby('brand_name').count()['model']"
   ]
  },
  {
   "cell_type": "code",
   "execution_count": 50,
   "metadata": {},
   "outputs": [],
   "source": [
    "temp_df = df[df['brand_name'].isin(x[x>10].index)]"
   ]
  },
  {
   "cell_type": "code",
   "execution_count": 58,
   "metadata": {},
   "outputs": [
    {
     "data": {
      "text/plain": [
       "<Axes: xlabel='brand_name', ylabel='price'>"
      ]
     },
     "execution_count": 58,
     "metadata": {},
     "output_type": "execute_result"
    },
    {
     "data": {
      "image/png": "[encoded data removed]",
      "text/plain": [
       "<Figure size 1500x800 with 1 Axes>"
      ]
     },
     "metadata": {},
     "output_type": "display_data"
    }
   ],
   "source": [
    "plt.figure(figsize=(15,8))\n",
    "sns.barplot(data=temp_df, x='brand_name',y='price',estimator='mean')"
   ]
  },
  {
   "cell_type": "code",
   "execution_count": 61,
   "metadata": {},
   "outputs": [
    {
     "data": {
      "application/vnd.plotly.v1+json": {
       "config": {
        "plotlyServerURL": "https://plot.ly"
       },
       "data": [
        {
         "hovertemplate": "brand_name=xiaomi<br>rating=%{x}<br>price=%{y}<extra></extra>",
         "legendgroup": "xiaomi",
         "marker": {
          "color": "#636efa",
          "symbol": "circle"
         },
         "mode": "markers",
         "name": "xiaomi",
         "orientation": "v",
         "showlegend": true,
         "type": "scatter",
         "x": [
          87,
          87,
          87,
          85,
          80,
          79,
          88,
          78,
          95,
          93,
          82,
          85,
          79,
          82,
          83,
          89,
          83,
          91,
          76,
          86,
          76,
          80,
          80,
          83,
          84,
          74,
          83,
          77,
          86,
          84,
          83,
          82,
          87,
          85,
          87,
          76,
          80,
          82,
          77,
          87,
          81,
          89,
          85,
          82,
          78,
          95,
          86,
          80,
          90,
          91,
          78,
          85,
          88,
          78,
          92,
          89,
          87,
          83,
          86,
          88,
          75,
          83,
          81,
          81,
          84,
          77,
          86,
          81,
          87,
          81,
          85,
          87,
          79,
          84,
          79,
          82,
          78,
          82,
          83,
          82,
          89,
          88,
          89,
          70,
          86,
          84,
          83,
          75,
          87,
          77,
          80,
          86,
          79,
          80,
          92,
          78,
          83,
          83,
          83,
          91,
          81,
          78,
          79,
          89,
          79,
          77,
          89
         ],
         "xaxis": "x",
         "y": [
          22999,
          21990,
          38990,
          15990,
          15499,
          19889,
          29990,
          12990,
          71499,
          56990,
          21596,
          29990,
          11999,
          15990,
          27990,
          41999,
          18999,
          74990,
          24990,
          27355,
          12499,
          16940,
          20999,
          18990,
          23999,
          9299,
          19999,
          10499,
          20870,
          32999,
          22490,
          22880,
          28990,
          29999,
          30999,
          10249,
          13999,
          23999,
          9899,
          35999,
          17489,
          41989,
          27499,
          18820,
          14999,
          199990,
          56990,
          13999,
          106990,
          109990,
          11499,
          18499,
          39990,
          34990,
          102990,
          69999,
          36999,
          21290,
          30999,
          480000,
          14999,
          19990,
          19990,
          49990,
          29990,
          14899,
          21999,
          17990,
          119990,
          14999,
          28999,
          25499,
          13999,
          18499,
          35990,
          14990,
          15999,
          15999,
          22489,
          17999,
          34990,
          69990,
          24999,
          11999,
          42990,
          16949,
          22990,
          11799,
          42990,
          34990,
          19990,
          26990,
          17990,
          13499,
          69990,
          19999,
          17899,
          36990,
          21990,
          75999,
          22999,
          13999,
          16499,
          52990,
          28999,
          17500,
          89990
         ],
         "yaxis": "y"
        },
        {
         "hovertemplate": "brand_name=iqoo<br>rating=%{x}<br>price=%{y}<extra></extra>",
         "legendgroup": "iqoo",
         "marker": {
          "color": "#EF553B",
          "symbol": "circle"
         },
         "mode": "markers",
         "name": "iqoo",
         "orientation": "v",
         "showlegend": true,
         "type": "scatter",
         "x": [
          92,
          90,
          80,
          82,
          80,
          83,
          79,
          80,
          82,
          84,
          87,
          78,
          82,
          85,
          83,
          83,
          87,
          84,
          85,
          83,
          70,
          84,
          85,
          89,
          88,
          85,
          82,
          83,
          89,
          80,
          84,
          83,
          80,
          84,
          82,
          83,
          81,
          80,
          84,
          85,
          88
         ],
         "xaxis": "x",
         "y": [
          64990,
          56999,
          23999,
          24999,
          15999,
          32999,
          12999,
          24999,
          25999,
          35999,
          49999,
          19999,
          17999,
          27499,
          24999,
          19499,
          43990,
          29999,
          19990,
          28999,
          22999,
          22990,
          72990,
          51999,
          69989,
          38990,
          23990,
          22990,
          58990,
          15990,
          25990,
          25990,
          15499,
          29990,
          19990,
          18990,
          15990,
          14999,
          42990,
          30999,
          43990
         ],
         "yaxis": "y"
        },
        {
         "hovertemplate": "brand_name=motorola<br>rating=%{x}<br>price=%{y}<extra></extra>",
         "legendgroup": "motorola",
         "marker": {
          "color": "#00cc96",
          "symbol": "circle"
         },
         "mode": "markers",
         "name": "motorola",
         "orientation": "v",
         "showlegend": true,
         "type": "scatter",
         "x": [
          84,
          84,
          87,
          85,
          85,
          86,
          82,
          80,
          73,
          84,
          78,
          92,
          89,
          84,
          86,
          85,
          93,
          83,
          83,
          88,
          83,
          82,
          89,
          86,
          85,
          83,
          89,
          89,
          86,
          78,
          86,
          79,
          92,
          87,
          82,
          87,
          85,
          83,
          91,
          90,
          83,
          82,
          74,
          87,
          79,
          87,
          89,
          89,
          81,
          92,
          85,
          81,
          80,
          83
         ],
         "xaxis": "x",
         "y": [
          22999,
          14999,
          26999,
          16999,
          24999,
          18999,
          11999,
          10999,
          7999,
          14999,
          29999,
          54999,
          59999,
          16999,
          159990,
          89990,
          59999,
          49990,
          16999,
          34999,
          19999,
          20999,
          89999,
          24999,
          24890,
          19999,
          39999,
          49999,
          29999,
          55990,
          19990,
          12990,
          79990,
          23490,
          16999,
          26999,
          31990,
          23990,
          41990,
          59990,
          24490,
          25999,
          16990,
          42990,
          14999,
          22490,
          59990,
          79990,
          19990,
          59990,
          23990,
          17299,
          16999,
          32990
         ],
         "yaxis": "y"
        },
        {
         "hovertemplate": "brand_name=nokia<br>rating=%{x}<br>price=%{y}<extra></extra>",
         "legendgroup": "nokia",
         "marker": {
          "color": "#ab63fa",
          "symbol": "circle"
         },
         "mode": "markers",
         "name": "nokia",
         "orientation": "v",
         "showlegend": true,
         "type": "scatter",
         "x": [
          89,
          76,
          76,
          90,
          89,
          79,
          84,
          92,
          85,
          92,
          82,
          85,
          76,
          72
         ],
         "xaxis": "x",
         "y": [
          52990,
          12999,
          12599,
          55990,
          49990,
          16999,
          24999,
          46999,
          34990,
          59990,
          17990,
          49990,
          34999,
          10499
         ],
         "yaxis": "y"
        },
        {
         "hovertemplate": "brand_name=vivo<br>rating=%{x}<br>price=%{y}<extra></extra>",
         "legendgroup": "vivo",
         "marker": {
          "color": "#FFA15A",
          "symbol": "circle"
         },
         "mode": "markers",
         "name": "vivo",
         "orientation": "v",
         "showlegend": true,
         "type": "scatter",
         "x": [
          85,
          81,
          78,
          85,
          81,
          85,
          85,
          85,
          84,
          83,
          80,
          79,
          74,
          92,
          82,
          95,
          84,
          83,
          87,
          85,
          83,
          89,
          84,
          90,
          86,
          85,
          91,
          84,
          85,
          76,
          71,
          83,
          82,
          86,
          80,
          80,
          82,
          92,
          89,
          79,
          75,
          82,
          75,
          86,
          80,
          83,
          86,
          84,
          83,
          91,
          85,
          71,
          79,
          66,
          86,
          89,
          81,
          84,
          86,
          95,
          83,
          82,
          85,
          85,
          91,
          85,
          83,
          84,
          84,
          86,
          82,
          95,
          78,
          75,
          89,
          85,
          85,
          77,
          80,
          88,
          87,
          84,
          80,
          79,
          84,
          86,
          76,
          82,
          74,
          85,
          77,
          86,
          77,
          82,
          90,
          75,
          80,
          86,
          83,
          84,
          86,
          84,
          88,
          81,
          84,
          85,
          93,
          88,
          79,
          78,
          73,
          78,
          71,
          78,
          83,
          74,
          84,
          86
         ],
         "xaxis": "x",
         "y": [
          31350,
          23999,
          12999,
          24749,
          21990,
          25670,
          25690,
          42990,
          39999,
          21990,
          14999,
          16999,
          17990,
          56990,
          24999,
          79990,
          34999,
          34990,
          36320,
          33990,
          18999,
          42990,
          33940,
          45990,
          27799,
          42999,
          74973,
          26999,
          26900,
          13999,
          8990,
          24470,
          19999,
          31990,
          14999,
          19990,
          21899,
          106990,
          58999,
          15999,
          12399,
          20490,
          34990,
          42999,
          17990,
          20994,
          34460,
          22999,
          28094,
          59990,
          21880,
          17999,
          15539,
          15990,
          40398,
          71990,
          31990,
          24990,
          33999,
          94999,
          20999,
          18990,
          39999,
          24990,
          53999,
          26999,
          39990,
          28990,
          28990,
          30980,
          24999,
          89990,
          16999,
          20990,
          99990,
          24990,
          26899,
          14990,
          18990,
          44999,
          31440,
          21999,
          31080,
          12990,
          34990,
          35990,
          17990,
          19990,
          15990,
          27349,
          14589,
          35499,
          15999,
          16999,
          82990,
          16990,
          15900,
          25990,
          24999,
          17999,
          139990,
          114990,
          44990,
          24990,
          37990,
          29990,
          118990,
          38990,
          16900,
          21000,
          14990,
          16490,
          16999,
          21000,
          23999,
          17499,
          109990,
          34990
         ],
         "yaxis": "y"
        },
        {
         "hovertemplate": "brand_name=oneplus<br>rating=%{x}<br>price=%{y}<extra></extra>",
         "legendgroup": "oneplus",
         "marker": {
          "color": "#19d3f3",
          "symbol": "circle"
         },
         "mode": "markers",
         "name": "oneplus",
         "orientation": "v",
         "showlegend": true,
         "type": "scatter",
         "x": [
          84,
          85,
          85,
          86,
          81,
          85,
          89,
          85,
          85,
          89,
          87,
          96,
          85,
          87,
          90,
          89,
          84,
          86,
          85,
          85,
          88,
          86,
          85,
          83,
          85,
          85,
          85,
          83,
          87,
          90,
          88,
          86,
          83,
          85,
          85,
          85,
          87,
          92,
          90,
          81,
          89,
          76,
          84,
          89,
          85,
          87,
          90
         ],
         "xaxis": "x",
         "y": [
          24999,
          19858,
          69999,
          21710,
          16960,
          39999,
          60999,
          32376,
          27999,
          54990,
          44999,
          136495,
          20990,
          37899,
          59199,
          48990,
          23990,
          70990,
          39999,
          24999,
          79990,
          29990,
          33999,
          29999,
          26990,
          29999,
          19990,
          64990,
          24990,
          55999,
          64900,
          35880,
          22990,
          39999,
          34999,
          24999,
          34999,
          74999,
          64990,
          20990,
          47990,
          29999,
          29990,
          59990,
          24990,
          44950,
          64990
         ],
         "yaxis": "y"
        },
        {
         "hovertemplate": "brand_name=samsung<br>rating=%{x}<br>price=%{y}<extra></extra>",
         "legendgroup": "samsung",
         "marker": {
          "color": "#FF6692",
          "symbol": "circle"
         },
         "mode": "markers",
         "name": "samsung",
         "orientation": "v",
         "showlegend": true,
         "type": "scatter",
         "x": [
          89,
          91,
          85,
          94,
          82,
          87,
          79,
          86,
          88,
          79,
          88,
          88,
          90,
          89,
          93,
          88,
          71,
          86,
          79,
          75,
          79,
          76,
          88,
          84,
          89,
          87,
          84,
          86,
          89,
          79,
          94,
          86,
          85,
          89,
          78,
          82,
          83,
          92,
          86,
          93,
          80,
          79,
          83,
          93,
          91,
          89,
          85,
          87,
          85,
          86,
          83,
          74,
          73,
          87,
          87,
          82,
          81,
          88,
          81,
          88,
          91,
          71,
          73,
          83,
          94,
          73,
          86,
          96,
          80,
          75,
          84,
          87,
          88,
          83,
          80,
          88,
          79,
          88,
          93,
          75,
          82,
          91,
          79,
          87,
          75,
          74,
          85,
          79,
          88,
          88,
          81,
          85,
          95,
          86,
          88,
          85,
          85,
          76,
          93,
          86,
          81,
          86,
          93,
          79,
          80,
          87,
          92,
          80,
          80,
          86,
          82,
          89,
          78,
          86,
          80,
          93,
          90,
          77,
          75,
          89,
          72,
          86,
          90,
          75,
          89,
          82,
          84,
          85,
          89,
          87,
          75,
          70,
          75,
          88
         ],
         "xaxis": "x",
         "y": [
          27250,
          119990,
          47390,
          99999,
          17922,
          34498,
          14012,
          124990,
          35200,
          39990,
          35449,
          27834,
          42999,
          72990,
          82500,
          74999,
          14999,
          49999,
          17499,
          29990,
          19300,
          16990,
          36990,
          26999,
          38999,
          53400,
          20986,
          30999,
          34999,
          17999,
          121899,
          39990,
          24499,
          37777,
          14999,
          18679,
          29990,
          154999,
          28999,
          75999,
          16999,
          15699,
          49999,
          94999,
          42990,
          94999,
          24999,
          54999,
          21999,
          29990,
          29999,
          24999,
          15990,
          29999,
          37999,
          24491,
          19990,
          79999,
          22999,
          99999,
          89990,
          15990,
          22999,
          44999,
          94999,
          15990,
          27693,
          99999,
          43990,
          12999,
          20242,
          51999,
          69999,
          22999,
          21999,
          59999,
          51999,
          49000,
          184999,
          24999,
          16999,
          139999,
          15999,
          78990,
          12099,
          22999,
          25899,
          24499,
          73999,
          39910,
          36699,
          179990,
          104999,
          39990,
          79999,
          25999,
          49999,
          12990,
          101999,
          86000,
          40999,
          33990,
          184999,
          34990,
          47990,
          27999,
          99990,
          16999,
          15999,
          27999,
          16990,
          74999,
          39990,
          26999,
          22999,
          164999,
          159999,
          12990,
          19990,
          104999,
          24990,
          34990,
          197999,
          11970,
          85999,
          18999,
          29999,
          71999,
          92999,
          118990,
          14999,
          14990,
          31999,
          109999
         ],
         "yaxis": "y"
        },
        {
         "hovertemplate": "brand_name=meizu<br>rating=%{x}<br>price=%{y}<extra></extra>",
         "legendgroup": "meizu",
         "marker": {
          "color": "#B6E880",
          "symbol": "circle"
         },
         "mode": "markers",
         "name": "meizu",
         "orientation": "v",
         "showlegend": true,
         "type": "scatter",
         "x": [
          89,
          91,
          81,
          89,
          86,
          85
         ],
         "xaxis": "x",
         "y": [
          38990,
          47990,
          49990,
          49999,
          34990,
          35990
         ],
         "yaxis": "y"
        },
        {
         "hovertemplate": "brand_name=realme<br>rating=%{x}<br>price=%{y}<extra></extra>",
         "legendgroup": "realme",
         "marker": {
          "color": "#FF97FF",
          "symbol": "circle"
         },
         "mode": "markers",
         "name": "realme",
         "orientation": "v",
         "showlegend": true,
         "type": "scatter",
         "x": [
          79,
          89,
          80,
          87,
          83,
          88,
          86,
          84,
          89,
          89,
          82,
          79,
          81,
          89,
          84,
          87,
          84,
          81,
          83,
          78,
          84,
          82,
          84,
          77,
          85,
          82,
          85,
          74,
          87,
          76,
          82,
          85,
          87,
          79,
          83,
          86,
          85,
          76,
          80,
          78,
          75,
          83,
          79,
          77,
          75,
          84,
          84,
          84,
          84,
          83,
          75,
          75,
          80,
          88,
          85,
          81,
          80,
          84,
          78,
          85,
          86,
          83,
          81,
          78,
          80,
          81,
          83,
          82,
          78,
          83,
          83,
          82,
          81,
          84,
          82,
          84,
          87,
          79,
          78,
          85,
          81
         ],
         "xaxis": "x",
         "y": [
          14999,
          59990,
          10990,
          26999,
          23999,
          29989,
          33990,
          18499,
          29999,
          42990,
          17499,
          11172,
          14990,
          29199,
          25640,
          24990,
          25749,
          15999,
          18999,
          14499,
          25840,
          21839,
          24499,
          12999,
          30999,
          19999,
          23990,
          10400,
          39999,
          10958,
          24999,
          27499,
          35990,
          13999,
          25989,
          39999,
          25990,
          9999,
          19499,
          19990,
          11784,
          25999,
          29999,
          12450,
          10699,
          19999,
          27999,
          25999,
          16799,
          20490,
          17999,
          20999,
          18999,
          94990,
          25999,
          15999,
          21999,
          26999,
          49999,
          39999,
          44990,
          29990,
          26999,
          27999,
          49990,
          19999,
          35999,
          19790,
          17000,
          19990,
          19990,
          33999,
          31999,
          17349,
          17490,
          29999,
          32490,
          21999,
          21999,
          29990,
          17990
         ],
         "yaxis": "y"
        },
        {
         "hovertemplate": "brand_name=itel<br>rating=%{x}<br>price=%{y}<extra></extra>",
         "legendgroup": "itel",
         "marker": {
          "color": "#FECB52",
          "symbol": "circle"
         },
         "mode": "markers",
         "name": "itel",
         "orientation": "v",
         "showlegend": true,
         "type": "scatter",
         "x": [
          78,
          75,
          75
         ],
         "xaxis": "x",
         "y": [
          13999,
          10499,
          8099
         ],
         "yaxis": "y"
        },
        {
         "hovertemplate": "brand_name=infinix<br>rating=%{x}<br>price=%{y}<extra></extra>",
         "legendgroup": "infinix",
         "marker": {
          "color": "#636efa",
          "symbol": "circle"
         },
         "mode": "markers",
         "name": "infinix",
         "orientation": "v",
         "showlegend": true,
         "type": "scatter",
         "x": [
          87,
          88,
          88,
          82,
          87,
          76,
          88,
          85,
          88,
          80,
          88,
          82,
          89,
          85,
          77,
          80,
          78,
          91,
          87,
          84,
          77,
          85,
          82,
          80,
          79,
          78,
          85
         ],
         "xaxis": "x",
         "y": [
          14999,
          23999,
          21999,
          12999,
          23999,
          8199,
          29999,
          15999,
          19990,
          10999,
          25990,
          17990,
          24990,
          17999,
          19990,
          16999,
          11999,
          42999,
          17999,
          18999,
          14499,
          17990,
          19999,
          19990,
          14990,
          15999,
          21990
         ],
         "yaxis": "y"
        },
        {
         "hovertemplate": "brand_name=oppo<br>rating=%{x}<br>price=%{y}<extra></extra>",
         "legendgroup": "oppo",
         "marker": {
          "color": "#EF553B",
          "symbol": "circle"
         },
         "mode": "markers",
         "name": "oppo",
         "orientation": "v",
         "showlegend": true,
         "type": "scatter",
         "x": [
          88,
          88,
          86,
          84,
          91,
          80,
          87,
          78,
          89,
          82,
          77,
          74,
          83,
          86,
          82,
          81,
          95,
          76,
          90,
          81,
          75,
          82,
          86,
          83,
          85,
          80,
          91,
          82,
          86,
          92,
          82,
          76,
          83,
          82,
          86,
          89,
          78,
          74,
          77,
          86,
          87,
          89,
          86,
          79,
          83,
          82,
          84,
          73,
          78,
          73,
          87,
          83,
          85,
          72,
          84,
          74,
          86,
          90,
          90,
          86,
          84,
          74,
          84,
          86,
          89,
          83,
          92,
          89,
          82
         ],
         "xaxis": "x",
         "y": [
          40990,
          31990,
          29990,
          19999,
          71990,
          19999,
          37999,
          16499,
          54999,
          20999,
          13999,
          12999,
          28700,
          39999,
          23300,
          16499,
          114990,
          18990,
          54990,
          19999,
          12999,
          22999,
          36790,
          28499,
          27200,
          17490,
          94999,
          19999,
          45999,
          94990,
          24990,
          15890,
          27660,
          18699,
          19999,
          85499,
          14990,
          14990,
          17990,
          134999,
          25900,
          89999,
          26990,
          23990,
          27990,
          19990,
          17999,
          17990,
          35999,
          15699,
          30000,
          23799,
          119900,
          13990,
          22990,
          17990,
          44990,
          79990,
          92249,
          24999,
          29990,
          17990,
          31988,
          28900,
          129990,
          29990,
          54990,
          57500,
          19990
         ],
         "yaxis": "y"
        },
        {
         "hovertemplate": "brand_name=apple<br>rating=%{x}<br>price=%{y}<extra></extra>",
         "legendgroup": "apple",
         "marker": {
          "color": "#00cc96",
          "symbol": "circle"
         },
         "mode": "markers",
         "name": "apple",
         "orientation": "v",
         "showlegend": true,
         "type": "scatter",
         "x": [
          89,
          80,
          83,
          84,
          87,
          84,
          87,
          86,
          89,
          78,
          75,
          81,
          89,
          84,
          88,
          85,
          82,
          86,
          70,
          79,
          78,
          79,
          82,
          85,
          86,
          89,
          76,
          87,
          88,
          89,
          77,
          84
         ],
         "xaxis": "x",
         "y": [
          159900,
          60999,
          79900,
          89900,
          134900,
          87900,
          132900,
          179900,
          197900,
          137900,
          82900,
          70999,
          179900,
          87900,
          142900,
          97900,
          81999,
          179900,
          69990,
          159900,
          149990,
          149900,
          90990,
          109900,
          137990,
          184900,
          89900,
          169900,
          99990,
          164900,
          89990,
          139990
         ],
         "yaxis": "y"
        },
        {
         "hovertemplate": "brand_name=poco<br>rating=%{x}<br>price=%{y}<extra></extra>",
         "legendgroup": "poco",
         "marker": {
          "color": "#ab63fa",
          "symbol": "circle"
         },
         "mode": "markers",
         "name": "poco",
         "orientation": "v",
         "showlegend": true,
         "type": "scatter",
         "x": [
          80,
          84,
          77,
          84,
          84,
          72,
          84,
          82,
          75,
          85,
          81,
          75,
          79,
          85,
          70,
          80,
          84,
          87,
          79,
          84,
          87,
          82,
          86,
          82,
          78,
          82,
          77,
          81,
          77,
          86,
          78,
          82,
          79,
          85,
          85,
          86,
          81,
          75
         ],
         "xaxis": "x",
         "y": [
          18999,
          19999,
          12795,
          15990,
          29999,
          19999,
          21490,
          16990,
          9999,
          39990,
          15199,
          7799,
          15999,
          33799,
          6999,
          16290,
          23990,
          36999,
          13690,
          21999,
          40990,
          18798,
          33999,
          25999,
          10490,
          12990,
          12990,
          16890,
          13499,
          29990,
          15999,
          18999,
          24990,
          21499,
          29999,
          42999,
          13999,
          10799
         ],
         "yaxis": "y"
        },
        {
         "hovertemplate": "brand_name=nothing<br>rating=%{x}<br>price=%{y}<extra></extra>",
         "legendgroup": "nothing",
         "marker": {
          "color": "#FFA15A",
          "symbol": "circle"
         },
         "mode": "markers",
         "name": "nothing",
         "orientation": "v",
         "showlegend": true,
         "type": "scatter",
         "x": [
          81,
          88,
          85,
          89,
          79,
          86,
          89,
          81,
          91
         ],
         "xaxis": "x",
         "y": [
          24990,
          39999,
          28499,
          49999,
          45990,
          31999,
          44999,
          49990,
          89999
         ],
         "yaxis": "y"
        },
        {
         "hovertemplate": "brand_name=google<br>rating=%{x}<br>price=%{y}<extra></extra>",
         "legendgroup": "google",
         "marker": {
          "color": "#19d3f3",
          "symbol": "circle"
         },
         "mode": "markers",
         "name": "google",
         "orientation": "v",
         "showlegend": true,
         "type": "scatter",
         "x": [
          86,
          71,
          89,
          85,
          82,
          72,
          77,
          83,
          81,
          78,
          78,
          90,
          76
         ],
         "xaxis": "x",
         "y": [
          39990,
          30999,
          69999,
          43999,
          113999,
          45990,
          75999,
          94990,
          106999,
          32999,
          82999,
          146990,
          59990
         ],
         "yaxis": "y"
        },
        {
         "hovertemplate": "brand_name=lava<br>rating=%{x}<br>price=%{y}<extra></extra>",
         "legendgroup": "lava",
         "marker": {
          "color": "#FF6692",
          "symbol": "circle"
         },
         "mode": "markers",
         "name": "lava",
         "orientation": "v",
         "showlegend": true,
         "type": "scatter",
         "x": [
          75,
          79,
          82,
          70,
          75,
          77,
          76,
          76
         ],
         "xaxis": "x",
         "y": [
          10999,
          12999,
          19999,
          7998,
          10999,
          11999,
          24990,
          11999
         ],
         "yaxis": "y"
        },
        {
         "hovertemplate": "brand_name=asus<br>rating=%{x}<br>price=%{y}<extra></extra>",
         "legendgroup": "asus",
         "marker": {
          "color": "#B6E880",
          "symbol": "circle"
         },
         "mode": "markers",
         "name": "asus",
         "orientation": "v",
         "showlegend": true,
         "type": "scatter",
         "x": [
          88,
          82,
          89,
          88,
          86,
          93,
          84,
          91,
          89,
          90,
          86
         ],
         "xaxis": "x",
         "y": [
          94990,
          99999,
          70990,
          89999,
          71999,
          109900,
          79990,
          74999,
          79999,
          107990,
          63990
         ],
         "yaxis": "y"
        },
        {
         "hovertemplate": "brand_name=tecno<br>rating=%{x}<br>price=%{y}<extra></extra>",
         "legendgroup": "tecno",
         "marker": {
          "color": "#FF97FF",
          "symbol": "circle"
         },
         "mode": "markers",
         "name": "tecno",
         "orientation": "v",
         "showlegend": true,
         "type": "scatter",
         "x": [
          83,
          82,
          85,
          89,
          80,
          83,
          79,
          86,
          78,
          77,
          83,
          79,
          92,
          85,
          72,
          81,
          79,
          83,
          80,
          93,
          88,
          69,
          89,
          81,
          80,
          86,
          84,
          84,
          81,
          82,
          83,
          84,
          82,
          79,
          78,
          82,
          78
         ],
         "xaxis": "x",
         "y": [
          14999,
          13999,
          18869,
          24999,
          11794,
          15999,
          11990,
          21938,
          9786,
          8999,
          14299,
          13400,
          79999,
          34999,
          9144,
          14990,
          11999,
          14999,
          14499,
          89990,
          49999,
          18990,
          44999,
          11149,
          54990,
          49990,
          14899,
          21999,
          10999,
          16990,
          14885,
          22999,
          14999,
          16990,
          14990,
          59990,
          52990
         ],
         "yaxis": "y"
        },
        {
         "hovertemplate": "brand_name=honor<br>rating=%{x}<br>price=%{y}<extra></extra>",
         "legendgroup": "honor",
         "marker": {
          "color": "#FECB52",
          "symbol": "circle"
         },
         "mode": "markers",
         "name": "honor",
         "orientation": "v",
         "showlegend": true,
         "type": "scatter",
         "x": [
          88,
          81,
          89,
          85,
          82,
          80,
          82,
          75,
          91,
          85,
          80,
          92,
          71,
          78,
          87,
          80,
          83,
          75,
          90,
          81,
          88,
          83,
          80,
          76,
          75,
          76,
          87,
          85
         ],
         "xaxis": "x",
         "y": [
          39990,
          18990,
          34999,
          28990,
          24990,
          15990,
          27999,
          24990,
          55990,
          29990,
          16999,
          103999,
          9990,
          18999,
          67990,
          31999,
          20499,
          13999,
          80999,
          13999,
          39990,
          29999,
          17990,
          23990,
          14990,
          16999,
          104999,
          32990
         ],
         "yaxis": "y"
        },
        {
         "hovertemplate": "brand_name=nubia<br>rating=%{x}<br>price=%{y}<extra></extra>",
         "legendgroup": "nubia",
         "marker": {
          "color": "#636efa",
          "symbol": "circle"
         },
         "mode": "markers",
         "name": "nubia",
         "orientation": "v",
         "showlegend": true,
         "type": "scatter",
         "x": [
          89,
          84,
          85,
          89,
          86,
          88,
          82,
          86,
          88,
          88,
          84,
          82,
          78,
          84,
          78,
          77
         ],
         "xaxis": "x",
         "y": [
          64990,
          46990,
          45990,
          49990,
          60999,
          61999,
          24999,
          60990,
          43999,
          46990,
          49990,
          34999,
          49990,
          44999,
          24999,
          49990
         ],
         "yaxis": "y"
        },
        {
         "hovertemplate": "brand_name=redmi<br>rating=%{x}<br>price=%{y}<extra></extra>",
         "legendgroup": "redmi",
         "marker": {
          "color": "#EF553B",
          "symbol": "circle"
         },
         "mode": "markers",
         "name": "redmi",
         "orientation": "v",
         "showlegend": true,
         "type": "scatter",
         "x": [
          85,
          81,
          81
         ],
         "xaxis": "x",
         "y": [
          29990,
          18999,
          19999
         ],
         "yaxis": "y"
        },
        {
         "hovertemplate": "brand_name=tesla<br>rating=%{x}<br>price=%{y}<extra></extra>",
         "legendgroup": "tesla",
         "marker": {
          "color": "#00cc96",
          "symbol": "circle"
         },
         "mode": "markers",
         "name": "tesla",
         "orientation": "v",
         "showlegend": true,
         "type": "scatter",
         "x": [
          83
         ],
         "xaxis": "x",
         "y": [
          69999
         ],
         "yaxis": "y"
        },
        {
         "hovertemplate": "brand_name=ulefone<br>rating=%{x}<br>price=%{y}<extra></extra>",
         "legendgroup": "ulefone",
         "marker": {
          "color": "#ab63fa",
          "symbol": "circle"
         },
         "mode": "markers",
         "name": "ulefone",
         "orientation": "v",
         "showlegend": true,
         "type": "scatter",
         "x": [
          92,
          85,
          82
         ],
         "xaxis": "x",
         "y": [
          24999,
          16499,
          24999
         ],
         "yaxis": "y"
        },
        {
         "hovertemplate": "brand_name=ikall<br>rating=%{x}<br>price=%{y}<extra></extra>",
         "legendgroup": "ikall",
         "marker": {
          "color": "#FFA15A",
          "symbol": "circle"
         },
         "mode": "markers",
         "name": "ikall",
         "orientation": "v",
         "showlegend": true,
         "type": "scatter",
         "x": [
          68,
          66,
          63,
          66,
          66,
          65,
          63
         ],
         "xaxis": "x",
         "y": [
          9489,
          9479,
          9489,
          9499,
          9479,
          8349,
          8399
         ],
         "yaxis": "y"
        },
        {
         "hovertemplate": "brand_name=sony<br>rating=%{x}<br>price=%{y}<extra></extra>",
         "legendgroup": "sony",
         "marker": {
          "color": "#19d3f3",
          "symbol": "circle"
         },
         "mode": "markers",
         "name": "sony",
         "orientation": "v",
         "showlegend": true,
         "type": "scatter",
         "x": [
          90,
          91,
          84,
          80,
          93,
          86,
          84,
          78,
          79,
          90,
          77,
          89,
          81
         ],
         "xaxis": "x",
         "y": [
          134999,
          125990,
          39999,
          19990,
          139990,
          69990,
          179990,
          30990,
          34999,
          154990,
          44990,
          69999,
          49999
         ],
         "yaxis": "y"
        },
        {
         "hovertemplate": "brand_name=blackview<br>rating=%{x}<br>price=%{y}<extra></extra>",
         "legendgroup": "blackview",
         "marker": {
          "color": "#FF6692",
          "symbol": "circle"
         },
         "mode": "markers",
         "name": "blackview",
         "orientation": "v",
         "showlegend": true,
         "type": "scatter",
         "x": [
          84,
          79
         ],
         "xaxis": "x",
         "y": [
          20999,
          13999
         ],
         "yaxis": "y"
        },
        {
         "hovertemplate": "brand_name=duoqin<br>rating=%{x}<br>price=%{y}<extra></extra>",
         "legendgroup": "duoqin",
         "marker": {
          "color": "#B6E880",
          "symbol": "circle"
         },
         "mode": "markers",
         "name": "duoqin",
         "orientation": "v",
         "showlegend": true,
         "type": "scatter",
         "x": [
          66
         ],
         "xaxis": "x",
         "y": [
          18990
         ],
         "yaxis": "y"
        },
        {
         "hovertemplate": "brand_name=huawei<br>rating=%{x}<br>price=%{y}<extra></extra>",
         "legendgroup": "huawei",
         "marker": {
          "color": "#FF97FF",
          "symbol": "circle"
         },
         "mode": "markers",
         "name": "huawei",
         "orientation": "v",
         "showlegend": true,
         "type": "scatter",
         "x": [
          95,
          84,
          96,
          95,
          81,
          85,
          96,
          95,
          80,
          84,
          89,
          84,
          90,
          86,
          77,
          92,
          80,
          92
         ],
         "xaxis": "x",
         "y": [
          79990,
          169999,
          98990,
          214990,
          61990,
          99990,
          134990,
          89990,
          23990,
          19990,
          45999,
          23999,
          69990,
          32990,
          20990,
          204999,
          22999,
          82990
         ],
         "yaxis": "y"
        },
        {
         "hovertemplate": "brand_name=zte<br>rating=%{x}<br>price=%{y}<extra></extra>",
         "legendgroup": "zte",
         "marker": {
          "color": "#FECB52",
          "symbol": "circle"
         },
         "mode": "markers",
         "name": "zte",
         "orientation": "v",
         "showlegend": true,
         "type": "scatter",
         "x": [
          89,
          82,
          91
         ],
         "xaxis": "x",
         "y": [
          61990,
          19999,
          79990
         ],
         "yaxis": "y"
        },
        {
         "hovertemplate": "brand_name=lg<br>rating=%{x}<br>price=%{y}<extra></extra>",
         "legendgroup": "lg",
         "marker": {
          "color": "#636efa",
          "symbol": "circle"
         },
         "mode": "markers",
         "name": "lg",
         "orientation": "v",
         "showlegend": true,
         "type": "scatter",
         "x": [
          85,
          91,
          91
         ],
         "xaxis": "x",
         "y": [
          54999,
          79990,
          82990
         ],
         "yaxis": "y"
        },
        {
         "hovertemplate": "brand_name=doogee<br>rating=%{x}<br>price=%{y}<extra></extra>",
         "legendgroup": "doogee",
         "marker": {
          "color": "#EF553B",
          "symbol": "circle"
         },
         "mode": "markers",
         "name": "doogee",
         "orientation": "v",
         "showlegend": true,
         "type": "scatter",
         "x": [
          93,
          88
         ],
         "xaxis": "x",
         "y": [
          36990,
          45999
         ],
         "yaxis": "y"
        },
        {
         "hovertemplate": "brand_name=oukitel<br>rating=%{x}<br>price=%{y}<extra></extra>",
         "legendgroup": "oukitel",
         "marker": {
          "color": "#00cc96",
          "symbol": "circle"
         },
         "mode": "markers",
         "name": "oukitel",
         "orientation": "v",
         "showlegend": true,
         "type": "scatter",
         "x": [
          91,
          84,
          77
         ],
         "xaxis": "x",
         "y": [
          32990,
          29990,
          19990
         ],
         "yaxis": "y"
        },
        {
         "hovertemplate": "brand_name=unihertz<br>rating=%{x}<br>price=%{y}<extra></extra>",
         "legendgroup": "unihertz",
         "marker": {
          "color": "#ab63fa",
          "symbol": "circle"
         },
         "mode": "markers",
         "name": "unihertz",
         "orientation": "v",
         "showlegend": true,
         "type": "scatter",
         "x": [
          71
         ],
         "xaxis": "x",
         "y": [
          11500
         ],
         "yaxis": "y"
        },
        {
         "hovertemplate": "brand_name=fairphone<br>rating=%{x}<br>price=%{y}<extra></extra>",
         "legendgroup": "fairphone",
         "marker": {
          "color": "#FFA15A",
          "symbol": "circle"
         },
         "mode": "markers",
         "name": "fairphone",
         "orientation": "v",
         "showlegend": true,
         "type": "scatter",
         "x": [
          90
         ],
         "xaxis": "x",
         "y": [
          63990
         ],
         "yaxis": "y"
        },
        {
         "hovertemplate": "brand_name=black<br>rating=%{x}<br>price=%{y}<extra></extra>",
         "legendgroup": "black",
         "marker": {
          "color": "#19d3f3",
          "symbol": "circle"
         },
         "mode": "markers",
         "name": "black",
         "orientation": "v",
         "showlegend": true,
         "type": "scatter",
         "x": [
          83,
          88
         ],
         "xaxis": "x",
         "y": [
          65990,
          49990
         ],
         "yaxis": "y"
        },
        {
         "hovertemplate": "brand_name=gionee<br>rating=%{x}<br>price=%{y}<extra></extra>",
         "legendgroup": "gionee",
         "marker": {
          "color": "#FF6692",
          "symbol": "circle"
         },
         "mode": "markers",
         "name": "gionee",
         "orientation": "v",
         "showlegend": true,
         "type": "scatter",
         "x": [
          63
         ],
         "xaxis": "x",
         "y": [
          13990
         ],
         "yaxis": "y"
        },
        {
         "hovertemplate": "brand_name=blu<br>rating=%{x}<br>price=%{y}<extra></extra>",
         "legendgroup": "blu",
         "marker": {
          "color": "#B6E880",
          "symbol": "circle"
         },
         "mode": "markers",
         "name": "blu",
         "orientation": "v",
         "showlegend": true,
         "type": "scatter",
         "x": [
          82,
          85
         ],
         "xaxis": "x",
         "y": [
          15990,
          14990
         ],
         "yaxis": "y"
        },
        {
         "hovertemplate": "brand_name=leeco<br>rating=%{x}<br>price=%{y}<extra></extra>",
         "legendgroup": "leeco",
         "marker": {
          "color": "#FF97FF",
          "symbol": "circle"
         },
         "mode": "markers",
         "name": "leeco",
         "orientation": "v",
         "showlegend": true,
         "type": "scatter",
         "x": [
          65
         ],
         "xaxis": "x",
         "y": [
          10999
         ],
         "yaxis": "y"
        },
        {
         "hovertemplate": "brand_name=letv<br>rating=%{x}<br>price=%{y}<extra></extra>",
         "legendgroup": "letv",
         "marker": {
          "color": "#FECB52",
          "symbol": "circle"
         },
         "mode": "markers",
         "name": "letv",
         "orientation": "v",
         "showlegend": true,
         "type": "scatter",
         "x": [
          60
         ],
         "xaxis": "x",
         "y": [
          5999
         ],
         "yaxis": "y"
        },
        {
         "hovertemplate": "brand_name=lebest<br>rating=%{x}<br>price=%{y}<extra></extra>",
         "legendgroup": "lebest",
         "marker": {
          "color": "#636efa",
          "symbol": "circle"
         },
         "mode": "markers",
         "name": "lebest",
         "orientation": "v",
         "showlegend": true,
         "type": "scatter",
         "x": [
          75
         ],
         "xaxis": "x",
         "y": [
          15990
         ],
         "yaxis": "y"
        },
        {
         "hovertemplate": "brand_name=sharp<br>rating=%{x}<br>price=%{y}<extra></extra>",
         "legendgroup": "sharp",
         "marker": {
          "color": "#EF553B",
          "symbol": "circle"
         },
         "mode": "markers",
         "name": "sharp",
         "orientation": "v",
         "showlegend": true,
         "type": "scatter",
         "x": [
          88
         ],
         "xaxis": "x",
         "y": [
          59990
         ],
         "yaxis": "y"
        },
        {
         "hovertemplate": "brand_name=blackberry<br>rating=%{x}<br>price=%{y}<extra></extra>",
         "legendgroup": "blackberry",
         "marker": {
          "color": "#00cc96",
          "symbol": "circle"
         },
         "mode": "markers",
         "name": "blackberry",
         "orientation": "v",
         "showlegend": true,
         "type": "scatter",
         "x": [
          68
         ],
         "xaxis": "x",
         "y": [
          38990
         ],
         "yaxis": "y"
        },
        {
         "hovertemplate": "brand_name=cubot<br>rating=%{x}<br>price=%{y}<extra></extra>",
         "legendgroup": "cubot",
         "marker": {
          "color": "#ab63fa",
          "symbol": "circle"
         },
         "mode": "markers",
         "name": "cubot",
         "orientation": "v",
         "showlegend": true,
         "type": "scatter",
         "x": [
          72
         ],
         "xaxis": "x",
         "y": [
          7999
         ],
         "yaxis": "y"
        },
        {
         "hovertemplate": "brand_name=htc<br>rating=%{x}<br>price=%{y}<extra></extra>",
         "legendgroup": "htc",
         "marker": {
          "color": "#FFA15A",
          "symbol": "circle"
         },
         "mode": "markers",
         "name": "htc",
         "orientation": "v",
         "showlegend": true,
         "type": "scatter",
         "x": [
          90
         ],
         "xaxis": "x",
         "y": [
          54999
         ],
         "yaxis": "y"
        }
       ],
       "layout": {
        "legend": {
         "title": {
          "text": "brand_name"
         },
         "tracegroupgap": 0
        },
        "margin": {
         "t": 60
        },
        "template": {
         "data": {
          "bar": [
           {
            "error_x": {
             "color": "#2a3f5f"
            },
            "error_y": {
             "color": "#2a3f5f"
            },
            "marker": {
             "line": {
              "color": "#E5ECF6",
              "width": 0.5
             },
             "pattern": {
              "fillmode": "overlay",
              "size": 10,
              "solidity": 0.2
             }
            },
            "type": "bar"
           }
          ],
          "barpolar": [
           {
            "marker": {
             "line": {
              "color": "#E5ECF6",
              "width": 0.5
             },
             "pattern": {
              "fillmode": "overlay",
              "size": 10,
              "solidity": 0.2
             }
            },
            "type": "barpolar"
           }
          ],
          "carpet": [
           {
            "aaxis": {
             "endlinecolor": "#2a3f5f",
             "gridcolor": "white",
             "linecolor": "white",
             "minorgridcolor": "white",
             "startlinecolor": "#2a3f5f"
            },
            "baxis": {
             "endlinecolor": "#2a3f5f",
             "gridcolor": "white",
             "linecolor": "white",
             "minorgridcolor": "white",
             "startlinecolor": "#2a3f5f"
            },
            "type": "carpet"
           }
          ],
          "choropleth": [
           {
            "colorbar": {
             "outlinewidth": 0,
             "ticks": ""
            },
            "type": "choropleth"
           }
          ],
          "contour": [
           {
            "colorbar": {
             "outlinewidth": 0,
             "ticks": ""
            },
            "colorscale": [
             [
              0,
              "#0d0887"
             ],
             [
              0.1111111111111111,
              "#46039f"
             ],
             [
              0.2222222222222222,
              "#7201a8"
             ],
             [
              0.3333333333333333,
              "#9c179e"
             ],
             [
              0.4444444444444444,
              "#bd3786"
             ],
             [
              0.5555555555555556,
              "#d8576b"
             ],
             [
              0.6666666666666666,
              "#ed7953"
             ],
             [
              0.7777777777777778,
              "#fb9f3a"
             ],
             [
              0.8888888888888888,
              "#fdca26"
             ],
             [
              1,
              "#f0f921"
             ]
            ],
            "type": "contour"
           }
          ],
          "contourcarpet": [
           {
            "colorbar": {
             "outlinewidth": 0,
             "ticks": ""
            },
            "type": "contourcarpet"
           }
          ],
          "heatmap": [
           {
            "colorbar": {
             "outlinewidth": 0,
             "ticks": ""
            },
            "colorscale": [
             [
              0,
              "#0d0887"
             ],
             [
              0.1111111111111111,
              "#46039f"
             ],
             [
              0.2222222222222222,
              "#7201a8"
             ],
             [
              0.3333333333333333,
              "#9c179e"
             ],
             [
              0.4444444444444444,
              "#bd3786"
             ],
             [
              0.5555555555555556,
              "#d8576b"
             ],
             [
              0.6666666666666666,
              "#ed7953"
             ],
             [
              0.7777777777777778,
              "#fb9f3a"
             ],
             [
              0.8888888888888888,
              "#fdca26"
             ],
             [
              1,
              "#f0f921"
             ]
            ],
            "type": "heatmap"
           }
          ],
          "heatmapgl": [
           {
            "colorbar": {
             "outlinewidth": 0,
             "ticks": ""
            },
            "colorscale": [
             [
              0,
              "#0d0887"
             ],
             [
              0.1111111111111111,
              "#46039f"
             ],
             [
              0.2222222222222222,
              "#7201a8"
             ],
             [
              0.3333333333333333,
              "#9c179e"
             ],
             [
              0.4444444444444444,
              "#bd3786"
             ],
             [
              0.5555555555555556,
              "#d8576b"
             ],
             [
              0.6666666666666666,
              "#ed7953"
             ],
             [
              0.7777777777777778,
              "#fb9f3a"
             ],
             [
              0.8888888888888888,
              "#fdca26"
             ],
             [
              1,
              "#f0f921"
             ]
            ],
            "type": "heatmapgl"
           }
          ],
          "histogram": [
           {
            "marker": {
             "pattern": {
              "fillmode": "overlay",
              "size": 10,
              "solidity": 0.2
             }
            },
            "type": "histogram"
           }
          ],
          "histogram2d": [
           {
            "colorbar": {
             "outlinewidth": 0,
             "ticks": ""
            },
            "colorscale": [
             [
              0,
              "#0d0887"
             ],
             [
              0.1111111111111111,
              "#46039f"
             ],
             [
              0.2222222222222222,
              "#7201a8"
             ],
             [
              0.3333333333333333,
              "#9c179e"
             ],
             [
              0.4444444444444444,
              "#bd3786"
             ],
             [
              0.5555555555555556,
              "#d8576b"
             ],
             [
              0.6666666666666666,
              "#ed7953"
             ],
             [
              0.7777777777777778,
              "#fb9f3a"
             ],
             [
              0.8888888888888888,
              "#fdca26"
             ],
             [
              1,
              "#f0f921"
             ]
            ],
            "type": "histogram2d"
           }
          ],
          "histogram2dcontour": [
           {
            "colorbar": {
             "outlinewidth": 0,
             "ticks": ""
            },
            "colorscale": [
             [
              0,
              "#0d0887"
             ],
             [
              0.1111111111111111,
              "#46039f"
             ],
             [
              0.2222222222222222,
              "#7201a8"
             ],
             [
              0.3333333333333333,
              "#9c179e"
             ],
             [
              0.4444444444444444,
              "#bd3786"
             ],
             [
              0.5555555555555556,
              "#d8576b"
             ],
             [
              0.6666666666666666,
              "#ed7953"
             ],
             [
              0.7777777777777778,
              "#fb9f3a"
             ],
             [
              0.8888888888888888,
              "#fdca26"
             ],
             [
              1,
              "#f0f921"
             ]
            ],
            "type": "histogram2dcontour"
           }
          ],
          "mesh3d": [
           {
            "colorbar": {
             "outlinewidth": 0,
             "ticks": ""
            },
            "type": "mesh3d"
           }
          ],
          "parcoords": [
           {
            "line": {
             "colorbar": {
              "outlinewidth": 0,
              "ticks": ""
             }
            },
            "type": "parcoords"
           }
          ],
          "pie": [
           {
            "automargin": true,
            "type": "pie"
           }
          ],
          "scatter": [
           {
            "fillpattern": {
             "fillmode": "overlay",
             "size": 10,
             "solidity": 0.2
            },
            "type": "scatter"
           }
          ],
          "scatter3d": [
           {
            "line": {
             "colorbar": {
              "outlinewidth": 0,
              "ticks": ""
             }
            },
            "marker": {
             "colorbar": {
              "outlinewidth": 0,
              "ticks": ""
             }
            },
            "type": "scatter3d"
           }
          ],
          "scattercarpet": [
           {
            "marker": {
             "colorbar": {
              "outlinewidth": 0,
              "ticks": ""
             }
            },
            "type": "scattercarpet"
           }
          ],
          "scattergeo": [
           {
            "marker": {
             "colorbar": {
              "outlinewidth": 0,
              "ticks": ""
             }
            },
            "type": "scattergeo"
           }
          ],
          "scattergl": [
           {
            "marker": {
             "colorbar": {
              "outlinewidth": 0,
              "ticks": ""
             }
            },
            "type": "scattergl"
           }
          ],
          "scattermapbox": [
           {
            "marker": {
             "colorbar": {
              "outlinewidth": 0,
              "ticks": ""
             }
            },
            "type": "scattermapbox"
           }
          ],
          "scatterpolar": [
           {
            "marker": {
             "colorbar": {
              "outlinewidth": 0,
              "ticks": ""
             }
            },
            "type": "scatterpolar"
           }
          ],
          "scatterpolargl": [
           {
            "marker": {
             "colorbar": {
              "outlinewidth": 0,
              "ticks": ""
             }
            },
            "type": "scatterpolargl"
           }
          ],
          "scatterternary": [
           {
            "marker": {
             "colorbar": {
              "outlinewidth": 0,
              "ticks": ""
             }
            },
            "type": "scatterternary"
           }
          ],
          "surface": [
           {
            "colorbar": {
             "outlinewidth": 0,
             "ticks": ""
            },
            "colorscale": [
             [
              0,
              "#0d0887"
             ],
             [
              0.1111111111111111,
              "#46039f"
             ],
             [
              0.2222222222222222,
              "#7201a8"
             ],
             [
              0.3333333333333333,
              "#9c179e"
             ],
             [
              0.4444444444444444,
              "#bd3786"
             ],
             [
              0.5555555555555556,
              "#d8576b"
             ],
             [
              0.6666666666666666,
              "#ed7953"
             ],
             [
              0.7777777777777778,
              "#fb9f3a"
             ],
             [
              0.8888888888888888,
              "#fdca26"
             ],
             [
              1,
              "#f0f921"
             ]
            ],
            "type": "surface"
           }
          ],
          "table": [
           {
            "cells": {
             "fill": {
              "color": "#EBF0F8"
             },
             "line": {
              "color": "white"
             }
            },
            "header": {
             "fill": {
              "color": "#C8D4E3"
             },
             "line": {
              "color": "white"
             }
            },
            "type": "table"
           }
          ]
         },
         "layout": {
          "annotationdefaults": {
           "arrowcolor": "#2a3f5f",
           "arrowhead": 0,
           "arrowwidth": 1
          },
          "autotypenumbers": "strict",
          "coloraxis": {
           "colorbar": {
            "outlinewidth": 0,
            "ticks": ""
           }
          },
          "colorscale": {
           "diverging": [
            [
             0,
             "#8e0152"
            ],
            [
             0.1,
             "#c51b7d"
            ],
            [
             0.2,
             "#de77ae"
            ],
            [
             0.3,
             "#f1b6da"
            ],
            [
             0.4,
             "#fde0ef"
            ],
            [
             0.5,
             "#f7f7f7"
            ],
            [
             0.6,
             "#e6f5d0"
            ],
            [
             0.7,
             "#b8e186"
            ],
            [
             0.8,
             "#7fbc41"
            ],
            [
             0.9,
             "#4d9221"
            ],
            [
             1,
             "#276419"
            ]
           ],
           "sequential": [
            [
             0,
             "#0d0887"
            ],
            [
             0.1111111111111111,
             "#46039f"
            ],
            [
             0.2222222222222222,
             "#7201a8"
            ],
            [
             0.3333333333333333,
             "#9c179e"
            ],
            [
             0.4444444444444444,
             "#bd3786"
            ],
            [
             0.5555555555555556,
             "#d8576b"
            ],
            [
             0.6666666666666666,
             "#ed7953"
            ],
            [
             0.7777777777777778,
             "#fb9f3a"
            ],
            [
             0.8888888888888888,
             "#fdca26"
            ],
            [
             1,
             "#f0f921"
            ]
           ],
           "sequentialminus": [
            [
             0,
             "#0d0887"
            ],
            [
             0.1111111111111111,
             "#46039f"
            ],
            [
             0.2222222222222222,
             "#7201a8"
            ],
            [
             0.3333333333333333,
             "#9c179e"
            ],
            [
             0.4444444444444444,
             "#bd3786"
            ],
            [
             0.5555555555555556,
             "#d8576b"
            ],
            [
             0.6666666666666666,
             "#ed7953"
            ],
            [
             0.7777777777777778,
             "#fb9f3a"
            ],
            [
             0.8888888888888888,
             "#fdca26"
            ],
            [
             1,
             "#f0f921"
            ]
           ]
          },
          "colorway": [
           "#636efa",
           "#EF553B",
           "#00cc96",
           "#ab63fa",
           "#FFA15A",
           "#19d3f3",
           "#FF6692",
           "#B6E880",
           "#FF97FF",
           "#FECB52"
          ],
          "font": {
           "color": "#2a3f5f"
          },
          "geo": {
           "bgcolor": "white",
           "lakecolor": "white",
           "landcolor": "#E5ECF6",
           "showlakes": true,
           "showland": true,
           "subunitcolor": "white"
          },
          "hoverlabel": {
           "align": "left"
          },
          "hovermode": "closest",
          "mapbox": {
           "style": "light"
          },
          "paper_bgcolor": "white",
          "plot_bgcolor": "#E5ECF6",
          "polar": {
           "angularaxis": {
            "gridcolor": "white",
            "linecolor": "white",
            "ticks": ""
           },
           "bgcolor": "#E5ECF6",
           "radialaxis": {
            "gridcolor": "white",
            "linecolor": "white",
            "ticks": ""
           }
          },
          "scene": {
           "xaxis": {
            "backgroundcolor": "#E5ECF6",
            "gridcolor": "white",
            "gridwidth": 2,
            "linecolor": "white",
            "showbackground": true,
            "ticks": "",
            "zerolinecolor": "white"
           },
           "yaxis": {
            "backgroundcolor": "#E5ECF6",
            "gridcolor": "white",
            "gridwidth": 2,
            "linecolor": "white",
            "showbackground": true,
            "ticks": "",
            "zerolinecolor": "white"
           },
           "zaxis": {
            "backgroundcolor": "#E5ECF6",
            "gridcolor": "white",
            "gridwidth": 2,
            "linecolor": "white",
            "showbackground": true,
            "ticks": "",
            "zerolinecolor": "white"
           }
          },
          "shapedefaults": {
           "line": {
            "color": "#2a3f5f"
           }
          },
          "ternary": {
           "aaxis": {
            "gridcolor": "white",
            "linecolor": "white",
            "ticks": ""
           },
           "baxis": {
            "gridcolor": "white",
            "linecolor": "white",
            "ticks": ""
           },
           "bgcolor": "#E5ECF6",
           "caxis": {
            "gridcolor": "white",
            "linecolor": "white",
            "ticks": ""
           }
          },
          "title": {
           "x": 0.05
          },
          "xaxis": {
           "automargin": true,
           "gridcolor": "white",
           "linecolor": "white",
           "ticks": "",
           "title": {
            "standoff": 15
           },
           "zerolinecolor": "white",
           "zerolinewidth": 2
          },
          "yaxis": {
           "automargin": true,
           "gridcolor": "white",
           "linecolor": "white",
           "ticks": "",
           "title": {
            "standoff": 15
           },
           "zerolinecolor": "white",
           "zerolinewidth": 2
          }
         }
        },
        "xaxis": {
         "anchor": "y",
         "domain": [
          0,
          1
         ],
         "title": {
          "text": "rating"
         }
        },
        "yaxis": {
         "anchor": "x",
         "domain": [
          0,
          1
         ],
         "title": {
          "text": "price"
         }
        }
       }
      }
     },
     "metadata": {},
     "output_type": "display_data"
    }
   ],
   "source": [
    "px.scatter(data_frame=df, x='rating', y='price', color='brand_name')"
   ]
  },
  {
   "cell_type": "code",
   "execution_count": 63,
   "metadata": {},
   "outputs": [
    {
     "data": {
      "text/plain": [
       "<Axes: xlabel='has_5g', ylabel='price'>"
      ]
     },
     "execution_count": 63,
     "metadata": {},
     "output_type": "execute_result"
    },
    {
     "data": {
      "image/png": "[encoded data removed]",
      "text/plain": [
       "<Figure size 640x480 with 1 Axes>"
      ]
     },
     "metadata": {},
     "output_type": "display_data"
    }
   ],
   "source": [
    "sns.barplot(data=temp_df, x='has_5g',y='price',estimator='median')"
   ]
  },
  {
   "cell_type": "code",
   "execution_count": 65,
   "metadata": {},
   "outputs": [
    {
     "data": {
      "text/plain": [
       "<Axes: xlabel='has_nfc', ylabel='price'>"
      ]
     },
     "execution_count": 65,
     "metadata": {},
     "output_type": "execute_result"
    },
    {
     "data": {
      "image/png": "[encoded data removed]",
      "text/plain": [
       "<Figure size 640x480 with 1 Axes>"
      ]
     },
     "metadata": {},
     "output_type": "display_data"
    }
   ],
   "source": [
    "sns.barplot(data=temp_df, x='has_nfc',y='price',estimator='median')"
   ]
  },
  {
   "cell_type": "code",
   "execution_count": 66,
   "metadata": {},
   "outputs": [
    {
     "data": {
      "text/plain": [
       "<Axes: xlabel='has_ir_blaster', ylabel='price'>"
      ]
     },
     "execution_count": 66,
     "metadata": {},
     "output_type": "execute_result"
    },
    {
     "data": {
      "image/png": "[encoded data removed]",
      "text/plain": [
       "<Figure size 640x480 with 1 Axes>"
      ]
     },
     "metadata": {},
     "output_type": "display_data"
    }
   ],
   "source": [
    "sns.barplot(data=temp_df, x='has_ir_blaster',y='price',estimator='median')"
   ]
  },
  {
   "cell_type": "code",
   "execution_count": 69,
   "metadata": {},
   "outputs": [
    {
     "data": {
      "image/png": "[encoded data removed]",
      "text/plain": [
       "<Figure size 640x480 with 1 Axes>"
      ]
     },
     "metadata": {},
     "output_type": "display_data"
    }
   ],
   "source": [
    "sns.barplot(data=temp_df, x='processor_brand',y='price',estimator='median')\n",
    "plt.xticks(rotation='vertical')\n",
    "plt.show()"
   ]
  },
  {
   "cell_type": "code",
   "execution_count": 70,
   "metadata": {},
   "outputs": [
    {
     "data": {
      "text/plain": [
       "<Axes: xlabel='num_core', ylabel='price'>"
      ]
     },
     "execution_count": 70,
     "metadata": {},
     "output_type": "execute_result"
    },
    {
     "data": {
      "image/png": "[encoded data removed]",
      "text/plain": [
       "<Figure size 640x480 with 1 Axes>"
      ]
     },
     "metadata": {},
     "output_type": "display_data"
    }
   ],
   "source": [
    "sns.barplot(data=temp_df, x='num_core',y='price',estimator='median')"
   ]
  },
  {
   "cell_type": "code",
   "execution_count": 71,
   "metadata": {},
   "outputs": [
    {
     "data": {
      "text/html": [
       "<div>\n",
       "<style scoped>\n",
       "    .dataframe tbody tr th:only-of-type {\n",
       "        vertical-align: middle;\n",
       "    }\n",
       "\n",
       "    .dataframe tbody tr th {\n",
       "        vertical-align: top;\n",
       "    }\n",
       "\n",
       "    .dataframe thead th {\n",
       "        text-align: right;\n",
       "    }\n",
       "</style>\n",
       "<table border=\"1\" class=\"dataframe\">\n",
       "  <thead>\n",
       "    <tr style=\"text-align: right;\">\n",
       "      <th>os</th>\n",
       "      <th>Android</th>\n",
       "      <th>iOS</th>\n",
       "      <th>others</th>\n",
       "    </tr>\n",
       "    <tr>\n",
       "      <th>num_core</th>\n",
       "      <th></th>\n",
       "      <th></th>\n",
       "      <th></th>\n",
       "    </tr>\n",
       "  </thead>\n",
       "  <tbody>\n",
       "    <tr>\n",
       "      <th>4.0</th>\n",
       "      <td>8</td>\n",
       "      <td>0</td>\n",
       "      <td>0</td>\n",
       "    </tr>\n",
       "    <tr>\n",
       "      <th>6.0</th>\n",
       "      <td>1</td>\n",
       "      <td>24</td>\n",
       "      <td>0</td>\n",
       "    </tr>\n",
       "    <tr>\n",
       "      <th>8.0</th>\n",
       "      <td>872</td>\n",
       "      <td>6</td>\n",
       "      <td>16</td>\n",
       "    </tr>\n",
       "    <tr>\n",
       "      <th>9.0</th>\n",
       "      <td>5</td>\n",
       "      <td>0</td>\n",
       "      <td>0</td>\n",
       "    </tr>\n",
       "    <tr>\n",
       "      <th>10.0</th>\n",
       "      <td>0</td>\n",
       "      <td>1</td>\n",
       "      <td>0</td>\n",
       "    </tr>\n",
       "  </tbody>\n",
       "</table>\n",
       "</div>"
      ],
      "text/plain": [
       "os        Android  iOS  others\n",
       "num_core                      \n",
       "4.0             8    0       0\n",
       "6.0             1   24       0\n",
       "8.0           872    6      16\n",
       "9.0             5    0       0\n",
       "10.0            0    1       0"
      ]
     },
     "execution_count": 71,
     "metadata": {},
     "output_type": "execute_result"
    }
   ],
   "source": [
    "pd.crosstab(df['num_core'],df['os'])"
   ]
  },
  {
   "cell_type": "code",
   "execution_count": null,
   "metadata": {},
   "outputs": [],
   "source": []
  },
  {
   "cell_type": "code",
   "execution_count": null,
   "metadata": {},
   "outputs": [],
   "source": []
  },
  {
   "cell_type": "code",
   "execution_count": null,
   "metadata": {},
   "outputs": [],
   "source": []
  },
  {
   "cell_type": "code",
   "execution_count": null,
   "metadata": {},
   "outputs": [],
   "source": []
  }
 ],
 "metadata": {
  "kernelspec": {
   "display_name": "Python 3",
   "language": "python",
   "name": "python3"
  },
  "language_info": {
   "codemirror_mode": {
    "name": "ipython",
    "version": 3
   },
   "file_extension": ".py",
   "mimetype": "text/x-python",
   "name": "python",
   "nbconvert_exporter": "python",
   "pygments_lexer": "ipython3",
   "version": "3.11.1"
  }
 },
 "nbformat": 4,
 "nbformat_minor": 2
}
