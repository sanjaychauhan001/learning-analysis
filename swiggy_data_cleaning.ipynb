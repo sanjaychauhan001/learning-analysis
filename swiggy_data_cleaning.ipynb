{
 "cells": [
  {
   "cell_type": "code",
   "execution_count": 1,
   "metadata": {},
   "outputs": [],
   "source": [
    "import pandas as pd\n",
    "import numpy as np"
   ]
  },
  {
   "cell_type": "code",
   "execution_count": 2,
   "metadata": {},
   "outputs": [
    {
     "data": {
      "text/html": [
       "<div>\n",
       "<style scoped>\n",
       "    .dataframe tbody tr th:only-of-type {\n",
       "        vertical-align: middle;\n",
       "    }\n",
       "\n",
       "    .dataframe tbody tr th {\n",
       "        vertical-align: top;\n",
       "    }\n",
       "\n",
       "    .dataframe thead th {\n",
       "        text-align: right;\n",
       "    }\n",
       "</style>\n",
       "<table border=\"1\" class=\"dataframe\">\n",
       "  <thead>\n",
       "    <tr style=\"text-align: right;\">\n",
       "      <th></th>\n",
       "      <th>hotel_name</th>\n",
       "      <th>rating_and_delivery_time</th>\n",
       "      <th>food_type</th>\n",
       "      <th>location</th>\n",
       "      <th>offer</th>\n",
       "    </tr>\n",
       "  </thead>\n",
       "  <tbody>\n",
       "    <tr>\n",
       "      <th>0</th>\n",
       "      <td>McDonald's</td>\n",
       "      <td>4.5 • 27 mins</td>\n",
       "      <td>Burgers, Beverages, Cafe, Desserts</td>\n",
       "      <td>Kandivali East</td>\n",
       "      <td>30% OFF UPTO ₹75</td>\n",
       "    </tr>\n",
       "    <tr>\n",
       "      <th>1</th>\n",
       "      <td>KFC</td>\n",
       "      <td>4.2 • 30 mins</td>\n",
       "      <td>Burgers, Biryani, American, Snacks, Fast Food</td>\n",
       "      <td>Kandivali East</td>\n",
       "      <td>40% OFF UPTO ₹80</td>\n",
       "    </tr>\n",
       "    <tr>\n",
       "      <th>2</th>\n",
       "      <td>Domino's Pizza</td>\n",
       "      <td>4.3 • 25 mins</td>\n",
       "      <td>Pizzas, Italian, Pastas, Desserts</td>\n",
       "      <td>Thakur Village</td>\n",
       "      <td>₹150 OFF ABOVE ₹299</td>\n",
       "    </tr>\n",
       "    <tr>\n",
       "      <th>3</th>\n",
       "      <td>Charcoal Eats - Biryani &amp; Beyond</td>\n",
       "      <td>4.3 • 24 mins</td>\n",
       "      <td>Biryani, Kebabs, Hyderabadi, North Indian</td>\n",
       "      <td>Malad Kan East</td>\n",
       "      <td>50% OFF UPTO ₹100</td>\n",
       "    </tr>\n",
       "    <tr>\n",
       "      <th>4</th>\n",
       "      <td>Sandwizzaa</td>\n",
       "      <td>4.6 • 22 mins</td>\n",
       "      <td>Snacks, Fast Food, Beverages, Jain</td>\n",
       "      <td>Kandivali East</td>\n",
       "      <td>60% OFF UPTO ₹120</td>\n",
       "    </tr>\n",
       "    <tr>\n",
       "      <th>...</th>\n",
       "      <td>...</td>\n",
       "      <td>...</td>\n",
       "      <td>...</td>\n",
       "      <td>...</td>\n",
       "      <td>...</td>\n",
       "    </tr>\n",
       "    <tr>\n",
       "      <th>1744</th>\n",
       "      <td>Allspice</td>\n",
       "      <td>3.8 • 48 mins</td>\n",
       "      <td>North Indian, Chinese, Biryani, Tandoor</td>\n",
       "      <td>Kandivali west</td>\n",
       "      <td>20% OFF ABOVE ₹700</td>\n",
       "    </tr>\n",
       "    <tr>\n",
       "      <th>1745</th>\n",
       "      <td>Poddar Cuisine</td>\n",
       "      <td>4.6 • 52 mins</td>\n",
       "      <td>Chinese, Biryani, Beverages</td>\n",
       "      <td>Malad Kan West</td>\n",
       "      <td></td>\n",
       "    </tr>\n",
       "    <tr>\n",
       "      <th>1746</th>\n",
       "      <td>JUG's Kitchen</td>\n",
       "      <td>4 • 48 mins</td>\n",
       "      <td>Indian, Lebanese, Mughlai, Chinese</td>\n",
       "      <td>Goregaon East</td>\n",
       "      <td>₹250 OFF ABOVE ₹999</td>\n",
       "    </tr>\n",
       "    <tr>\n",
       "      <th>1747</th>\n",
       "      <td>Choco Magic Patisserie &amp; Confectioners Studio</td>\n",
       "      <td>4.1 • 43 mins</td>\n",
       "      <td>Desserts, Beverages</td>\n",
       "      <td>Malad West</td>\n",
       "      <td></td>\n",
       "    </tr>\n",
       "    <tr>\n",
       "      <th>1748</th>\n",
       "      <td>Yogita Restaurant</td>\n",
       "      <td>3.9 • 58 mins</td>\n",
       "      <td>Indian, Chinese, Tandoor, Seafood</td>\n",
       "      <td>Malad Kan West</td>\n",
       "      <td></td>\n",
       "    </tr>\n",
       "  </tbody>\n",
       "</table>\n",
       "<p>1749 rows × 5 columns</p>\n",
       "</div>"
      ],
      "text/plain": [
       "                                         hotel_name rating_and_delivery_time  \\\n",
       "0                                        McDonald's            4.5 • 27 mins   \n",
       "1                                               KFC            4.2 • 30 mins   \n",
       "2                                    Domino's Pizza            4.3 • 25 mins   \n",
       "3                  Charcoal Eats - Biryani & Beyond            4.3 • 24 mins   \n",
       "4                                        Sandwizzaa            4.6 • 22 mins   \n",
       "...                                             ...                      ...   \n",
       "1744                                       Allspice            3.8 • 48 mins   \n",
       "1745                                 Poddar Cuisine            4.6 • 52 mins   \n",
       "1746                                  JUG's Kitchen              4 • 48 mins   \n",
       "1747  Choco Magic Patisserie & Confectioners Studio            4.1 • 43 mins   \n",
       "1748                              Yogita Restaurant            3.9 • 58 mins   \n",
       "\n",
       "                                          food_type        location  \\\n",
       "0                Burgers, Beverages, Cafe, Desserts  Kandivali East   \n",
       "1     Burgers, Biryani, American, Snacks, Fast Food  Kandivali East   \n",
       "2                 Pizzas, Italian, Pastas, Desserts  Thakur Village   \n",
       "3         Biryani, Kebabs, Hyderabadi, North Indian  Malad Kan East   \n",
       "4                Snacks, Fast Food, Beverages, Jain  Kandivali East   \n",
       "...                                             ...             ...   \n",
       "1744        North Indian, Chinese, Biryani, Tandoor  Kandivali west   \n",
       "1745                    Chinese, Biryani, Beverages  Malad Kan West   \n",
       "1746             Indian, Lebanese, Mughlai, Chinese   Goregaon East   \n",
       "1747                            Desserts, Beverages      Malad West   \n",
       "1748              Indian, Chinese, Tandoor, Seafood  Malad Kan West   \n",
       "\n",
       "                     offer  \n",
       "0        30% OFF UPTO ₹75   \n",
       "1        40% OFF UPTO ₹80   \n",
       "2     ₹150 OFF ABOVE ₹299   \n",
       "3       50% OFF UPTO ₹100   \n",
       "4       60% OFF UPTO ₹120   \n",
       "...                    ...  \n",
       "1744    20% OFF ABOVE ₹700  \n",
       "1745                        \n",
       "1746   ₹250 OFF ABOVE ₹999  \n",
       "1747                        \n",
       "1748                        \n",
       "\n",
       "[1749 rows x 5 columns]"
      ]
     },
     "execution_count": 2,
     "metadata": {},
     "output_type": "execute_result"
    }
   ],
   "source": [
    "df = pd.read_csv('C:\\\\Users\\\\sanjay\\\\Documents\\\\All working files\\\\data\\\\swiggy_scrap_uncleaned.csv')\n",
    "df"
   ]
  },
  {
   "cell_type": "code",
   "execution_count": 9,
   "metadata": {},
   "outputs": [],
   "source": [
    "rating = df['rating_and_delivery_time'].str.strip().str.split('•').str[0]"
   ]
  },
  {
   "cell_type": "code",
   "execution_count": 10,
   "metadata": {},
   "outputs": [],
   "source": [
    "df.insert(1,'rating',rating)"
   ]
  },
  {
   "cell_type": "code",
   "execution_count": 20,
   "metadata": {},
   "outputs": [],
   "source": [
    "time_minutes = df['rating_and_delivery_time'].str.strip().str.split('•').str[1].str.strip().str.split(\" \").str[0]"
   ]
  },
  {
   "cell_type": "code",
   "execution_count": 21,
   "metadata": {},
   "outputs": [],
   "source": [
    "df.insert(2,'time_minutes',time_minutes)"
   ]
  },
  {
   "cell_type": "code",
   "execution_count": 23,
   "metadata": {},
   "outputs": [],
   "source": [
    "df.drop(columns=['rating_and_delivery_time'],inplace=True)"
   ]
  },
  {
   "cell_type": "code",
   "execution_count": 31,
   "metadata": {},
   "outputs": [
    {
     "data": {
      "text/plain": [
       "(1749, 6)"
      ]
     },
     "execution_count": 31,
     "metadata": {},
     "output_type": "execute_result"
    }
   ],
   "source": [
    "df.shape"
   ]
  },
  {
   "cell_type": "code",
   "execution_count": 30,
   "metadata": {},
   "outputs": [
    {
     "data": {
      "text/html": [
       "<div>\n",
       "<style scoped>\n",
       "    .dataframe tbody tr th:only-of-type {\n",
       "        vertical-align: middle;\n",
       "    }\n",
       "\n",
       "    .dataframe tbody tr th {\n",
       "        vertical-align: top;\n",
       "    }\n",
       "\n",
       "    .dataframe thead th {\n",
       "        text-align: right;\n",
       "    }\n",
       "</style>\n",
       "<table border=\"1\" class=\"dataframe\">\n",
       "  <thead>\n",
       "    <tr style=\"text-align: right;\">\n",
       "      <th></th>\n",
       "      <th>hotel_name</th>\n",
       "      <th>rating</th>\n",
       "      <th>time_minutes</th>\n",
       "      <th>food_type</th>\n",
       "      <th>location</th>\n",
       "      <th>offer</th>\n",
       "    </tr>\n",
       "  </thead>\n",
       "  <tbody>\n",
       "    <tr>\n",
       "      <th>7</th>\n",
       "      <td>Love &amp; Cheesecake</td>\n",
       "      <td>4.5</td>\n",
       "      <td>14</td>\n",
       "      <td>Desserts</td>\n",
       "      <td>Kandivali East</td>\n",
       "      <td></td>\n",
       "    </tr>\n",
       "    <tr>\n",
       "      <th>10</th>\n",
       "      <td>Atta Girl</td>\n",
       "      <td>4.7</td>\n",
       "      <td>27</td>\n",
       "      <td>South Indian</td>\n",
       "      <td>Malad West</td>\n",
       "      <td></td>\n",
       "    </tr>\n",
       "    <tr>\n",
       "      <th>12</th>\n",
       "      <td>Poetry By Love &amp; Cheesecake</td>\n",
       "      <td>4.4</td>\n",
       "      <td>34</td>\n",
       "      <td>Desserts</td>\n",
       "      <td>Kandivali West</td>\n",
       "      <td></td>\n",
       "    </tr>\n",
       "    <tr>\n",
       "      <th>13</th>\n",
       "      <td>Havmor Havfunn Ice Cream</td>\n",
       "      <td>4.6</td>\n",
       "      <td>18</td>\n",
       "      <td>Ice Cream, Ice Cream Cakes, Desserts, Beverages</td>\n",
       "      <td>Malad Kan East</td>\n",
       "      <td></td>\n",
       "    </tr>\n",
       "    <tr>\n",
       "      <th>15</th>\n",
       "      <td>McDonald's Gourmet Burger Collection</td>\n",
       "      <td>4.3</td>\n",
       "      <td>26</td>\n",
       "      <td>Burgers, Beverages, Cafe, Desserts</td>\n",
       "      <td>Malad Kan East</td>\n",
       "      <td></td>\n",
       "    </tr>\n",
       "    <tr>\n",
       "      <th>...</th>\n",
       "      <td>...</td>\n",
       "      <td>...</td>\n",
       "      <td>...</td>\n",
       "      <td>...</td>\n",
       "      <td>...</td>\n",
       "      <td>...</td>\n",
       "    </tr>\n",
       "    <tr>\n",
       "      <th>1742</th>\n",
       "      <td>Warehouse Kitchen</td>\n",
       "      <td>4.3</td>\n",
       "      <td>57</td>\n",
       "      <td>North Indian, Continental, Fast Food, Italian,...</td>\n",
       "      <td>Malad West</td>\n",
       "      <td></td>\n",
       "    </tr>\n",
       "    <tr>\n",
       "      <th>1743</th>\n",
       "      <td>China Castle</td>\n",
       "      <td>3.7</td>\n",
       "      <td>71</td>\n",
       "      <td>Chinese, North Indian</td>\n",
       "      <td>Jog Gor East</td>\n",
       "      <td></td>\n",
       "    </tr>\n",
       "    <tr>\n",
       "      <th>1745</th>\n",
       "      <td>Poddar Cuisine</td>\n",
       "      <td>4.6</td>\n",
       "      <td>52</td>\n",
       "      <td>Chinese, Biryani, Beverages</td>\n",
       "      <td>Malad Kan West</td>\n",
       "      <td></td>\n",
       "    </tr>\n",
       "    <tr>\n",
       "      <th>1747</th>\n",
       "      <td>Choco Magic Patisserie &amp; Confectioners Studio</td>\n",
       "      <td>4.1</td>\n",
       "      <td>43</td>\n",
       "      <td>Desserts, Beverages</td>\n",
       "      <td>Malad West</td>\n",
       "      <td></td>\n",
       "    </tr>\n",
       "    <tr>\n",
       "      <th>1748</th>\n",
       "      <td>Yogita Restaurant</td>\n",
       "      <td>3.9</td>\n",
       "      <td>58</td>\n",
       "      <td>Indian, Chinese, Tandoor, Seafood</td>\n",
       "      <td>Malad Kan West</td>\n",
       "      <td></td>\n",
       "    </tr>\n",
       "  </tbody>\n",
       "</table>\n",
       "<p>981 rows × 6 columns</p>\n",
       "</div>"
      ],
      "text/plain": [
       "                                         hotel_name rating time_minutes  \\\n",
       "7                                Love & Cheesecake    4.5            14   \n",
       "10                                        Atta Girl   4.7            27   \n",
       "12                      Poetry By Love & Cheesecake   4.4            34   \n",
       "13                         Havmor Havfunn Ice Cream   4.6            18   \n",
       "15             McDonald's Gourmet Burger Collection   4.3            26   \n",
       "...                                             ...    ...          ...   \n",
       "1742                              Warehouse Kitchen   4.3            57   \n",
       "1743                                   China Castle   3.7            71   \n",
       "1745                                 Poddar Cuisine   4.6            52   \n",
       "1747  Choco Magic Patisserie & Confectioners Studio   4.1            43   \n",
       "1748                              Yogita Restaurant   3.9            58   \n",
       "\n",
       "                                              food_type        location offer  \n",
       "7                                              Desserts  Kandivali East        \n",
       "10                                         South Indian      Malad West        \n",
       "12                                             Desserts  Kandivali West        \n",
       "13      Ice Cream, Ice Cream Cakes, Desserts, Beverages  Malad Kan East        \n",
       "15                   Burgers, Beverages, Cafe, Desserts  Malad Kan East        \n",
       "...                                                 ...             ...   ...  \n",
       "1742  North Indian, Continental, Fast Food, Italian,...      Malad West        \n",
       "1743                              Chinese, North Indian    Jog Gor East        \n",
       "1745                        Chinese, Biryani, Beverages  Malad Kan West        \n",
       "1747                                Desserts, Beverages      Malad West        \n",
       "1748                  Indian, Chinese, Tandoor, Seafood  Malad Kan West        \n",
       "\n",
       "[981 rows x 6 columns]"
      ]
     },
     "execution_count": 30,
     "metadata": {},
     "output_type": "execute_result"
    }
   ],
   "source": [
    "df[df['offer'] == ' ']"
   ]
  },
  {
   "cell_type": "code",
   "execution_count": 33,
   "metadata": {},
   "outputs": [],
   "source": [
    "df['offer'].replace(' ','not_available',inplace=True)"
   ]
  },
  {
   "cell_type": "code",
   "execution_count": 52,
   "metadata": {},
   "outputs": [],
   "source": [
    "offer_above = df['offer'].str.strip().str.split('₹').str[-1]"
   ]
  },
  {
   "cell_type": "code",
   "execution_count": 54,
   "metadata": {},
   "outputs": [],
   "source": [
    "df.insert(5,'offer_above',offer_above)"
   ]
  },
  {
   "cell_type": "code",
   "execution_count": 61,
   "metadata": {},
   "outputs": [],
   "source": [
    "def extract_percentage(value):\n",
    "    if '%' in value:\n",
    "        return value\n",
    "    else:\n",
    "        return 'not_available'"
   ]
  },
  {
   "cell_type": "code",
   "execution_count": 74,
   "metadata": {},
   "outputs": [],
   "source": [
    "offer_percentage = df['offer'].apply(extract_percentage).str.strip().str.split('%').str[0]"
   ]
  },
  {
   "cell_type": "code",
   "execution_count": 75,
   "metadata": {},
   "outputs": [],
   "source": [
    "df.insert(6,'offer_percentage',offer_percentage)"
   ]
  },
  {
   "cell_type": "code",
   "execution_count": 78,
   "metadata": {},
   "outputs": [],
   "source": [
    "df.drop(columns=['offer'],inplace=True)"
   ]
  },
  {
   "cell_type": "code",
   "execution_count": 80,
   "metadata": {},
   "outputs": [],
   "source": [
    "df.to_csv('C:\\\\Users\\\\sanjay\\\\Documents\\\\All working files\\\\data\\\\swiggy_cleaned.csv',index=False)"
   ]
  },
  {
   "cell_type": "code",
   "execution_count": null,
   "metadata": {},
   "outputs": [],
   "source": []
  },
  {
   "cell_type": "code",
   "execution_count": null,
   "metadata": {},
   "outputs": [],
   "source": []
  }
 ],
 "metadata": {
  "kernelspec": {
   "display_name": "Python 3",
   "language": "python",
   "name": "python3"
  },
  "language_info": {
   "codemirror_mode": {
    "name": "ipython",
    "version": 3
   },
   "file_extension": ".py",
   "mimetype": "text/x-python",
   "name": "python",
   "nbconvert_exporter": "python",
   "pygments_lexer": "ipython3",
   "version": "3.12.1"
  }
 },
 "nbformat": 4,
 "nbformat_minor": 2
}
