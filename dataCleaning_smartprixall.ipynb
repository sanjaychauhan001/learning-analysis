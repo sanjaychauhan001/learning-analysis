{
 "cells": [
  {
   "cell_type": "code",
   "execution_count": 1,
   "metadata": {},
   "outputs": [],
   "source": [
    "import pandas as pd\n",
    "import numpy as np"
   ]
  },
  {
   "cell_type": "code",
   "execution_count": 2,
   "metadata": {},
   "outputs": [
    {
     "data": {
      "text/html": [
       "<div>\n",
       "<style scoped>\n",
       "    .dataframe tbody tr th:only-of-type {\n",
       "        vertical-align: middle;\n",
       "    }\n",
       "\n",
       "    .dataframe tbody tr th {\n",
       "        vertical-align: top;\n",
       "    }\n",
       "\n",
       "    .dataframe thead th {\n",
       "        text-align: right;\n",
       "    }\n",
       "</style>\n",
       "<table border=\"1\" class=\"dataframe\">\n",
       "  <thead>\n",
       "    <tr style=\"text-align: right;\">\n",
       "      <th></th>\n",
       "      <th>model</th>\n",
       "      <th>price</th>\n",
       "      <th>rating</th>\n",
       "      <th>sim</th>\n",
       "      <th>processor</th>\n",
       "      <th>ram</th>\n",
       "      <th>battery</th>\n",
       "      <th>display</th>\n",
       "      <th>camera</th>\n",
       "      <th>card</th>\n",
       "      <th>os</th>\n",
       "    </tr>\n",
       "  </thead>\n",
       "  <tbody>\n",
       "    <tr>\n",
       "      <th>0</th>\n",
       "      <td>Xiaomi Redmi Note 13 Pro Max 5G</td>\n",
       "      <td>₹22,999</td>\n",
       "      <td>87</td>\n",
       "      <td>Dual Sim, 3G, 4G, 5G, VoLTE, Wi-Fi, NFC, IR Bl...</td>\n",
       "      <td>Snapdragon  7 Gen1, Octa Core, 2.4 GHz Processor</td>\n",
       "      <td>12 GB RAM, 256 GB inbuilt</td>\n",
       "      <td>5200 mAh Battery with 120W Fast Charging</td>\n",
       "      <td>6.67 inches, 1220 x 2712 px, 144 Hz Display wi...</td>\n",
       "      <td>200 MP + 13 MP + 8 MP Triple Rear &amp; 32 MP Fron...</td>\n",
       "      <td>Memory Card Not Supported</td>\n",
       "      <td>Android v13</td>\n",
       "    </tr>\n",
       "    <tr>\n",
       "      <th>1</th>\n",
       "      <td>iQOO 12 Pro</td>\n",
       "      <td>₹64,990</td>\n",
       "      <td>92</td>\n",
       "      <td>Dual Sim, 3G, 4G, 5G, VoLTE, Wi-Fi, NFC, IR Bl...</td>\n",
       "      <td>Snapdragon 8 Gen3, Octa Core, 3.3 GHz Processor</td>\n",
       "      <td>16 GB RAM, 256 GB inbuilt</td>\n",
       "      <td>5100 mAh Battery with 120W Fast Charging</td>\n",
       "      <td>6.78 inches, 1440 x 3200 px, 144 Hz Display wi...</td>\n",
       "      <td>64 MP + 50 MP + 50 MP Triple Rear &amp; 16 MP Fron...</td>\n",
       "      <td>Android v14</td>\n",
       "      <td>No FM Radio</td>\n",
       "    </tr>\n",
       "    <tr>\n",
       "      <th>2</th>\n",
       "      <td>Motorola Edge 40 Neo</td>\n",
       "      <td>₹22,999</td>\n",
       "      <td>84</td>\n",
       "      <td>Dual Sim, 3G, 4G, 5G, VoLTE, Wi-Fi, NFC</td>\n",
       "      <td>Dimensity 7030, Octa Core, 2.5 GHz Processor</td>\n",
       "      <td>8 GB RAM, 128 GB inbuilt</td>\n",
       "      <td>5000 mAh Battery with 68W Fast Charging</td>\n",
       "      <td>6.55 inches, 1080 x 2400 px, 144 Hz Display wi...</td>\n",
       "      <td>50 MP + 13 MP Dual Rear &amp; 32 MP Front Camera</td>\n",
       "      <td>Memory Card Not Supported</td>\n",
       "      <td>Android v13</td>\n",
       "    </tr>\n",
       "    <tr>\n",
       "      <th>3</th>\n",
       "      <td>Xiaomi Redmi Note 13 Pro Plus</td>\n",
       "      <td>₹21,990</td>\n",
       "      <td>87</td>\n",
       "      <td>Dual Sim, 3G, 4G, 5G, VoLTE, Wi-Fi, NFC, IR Bl...</td>\n",
       "      <td>Dimensity 7200 Ultra, Octa Core, 2.8 GHz Proce...</td>\n",
       "      <td>12 GB RAM, 256 GB inbuilt</td>\n",
       "      <td>5000 mAh Battery with 120W Fast Charging</td>\n",
       "      <td>6.67 inches, 1220 x 2712 px, 144 Hz Display wi...</td>\n",
       "      <td>200 MP + 8 MP + 2 MP Triple Rear &amp; 16 MP Front...</td>\n",
       "      <td>Memory Card Not Supported</td>\n",
       "      <td>Android v13</td>\n",
       "    </tr>\n",
       "    <tr>\n",
       "      <th>4</th>\n",
       "      <td>Nokia 7610 5G</td>\n",
       "      <td>₹52,990</td>\n",
       "      <td>89</td>\n",
       "      <td>Dual Sim, 3G, 4G, 5G, VoLTE, Wi-Fi, NFC</td>\n",
       "      <td>Snapdragon  7+ Gen2, Octa Core, 2.91 GHz Proce...</td>\n",
       "      <td>12 GB RAM, 256 GB inbuilt</td>\n",
       "      <td>4500 mAh Battery with 44W Fast Charging</td>\n",
       "      <td>6.67 inches, 1080 x 2400 px, 120 Hz Display wi...</td>\n",
       "      <td>108 MP + 13 MP + 2 MP Triple Rear &amp; 32 MP Fron...</td>\n",
       "      <td>Android v13</td>\n",
       "      <td>Bluetooth</td>\n",
       "    </tr>\n",
       "  </tbody>\n",
       "</table>\n",
       "</div>"
      ],
      "text/plain": [
       "                             model    price  rating  \\\n",
       "0  Xiaomi Redmi Note 13 Pro Max 5G  ₹22,999      87   \n",
       "1                      iQOO 12 Pro  ₹64,990      92   \n",
       "2             Motorola Edge 40 Neo  ₹22,999      84   \n",
       "3    Xiaomi Redmi Note 13 Pro Plus  ₹21,990      87   \n",
       "4                    Nokia 7610 5G  ₹52,990      89   \n",
       "\n",
       "                                                 sim  \\\n",
       "0  Dual Sim, 3G, 4G, 5G, VoLTE, Wi-Fi, NFC, IR Bl...   \n",
       "1  Dual Sim, 3G, 4G, 5G, VoLTE, Wi-Fi, NFC, IR Bl...   \n",
       "2            Dual Sim, 3G, 4G, 5G, VoLTE, Wi-Fi, NFC   \n",
       "3  Dual Sim, 3G, 4G, 5G, VoLTE, Wi-Fi, NFC, IR Bl...   \n",
       "4            Dual Sim, 3G, 4G, 5G, VoLTE, Wi-Fi, NFC   \n",
       "\n",
       "                                           processor  \\\n",
       "0   Snapdragon  7 Gen1, Octa Core, 2.4 GHz Processor   \n",
       "1    Snapdragon 8 Gen3, Octa Core, 3.3 GHz Processor   \n",
       "2       Dimensity 7030, Octa Core, 2.5 GHz Processor   \n",
       "3  Dimensity 7200 Ultra, Octa Core, 2.8 GHz Proce...   \n",
       "4  Snapdragon  7+ Gen2, Octa Core, 2.91 GHz Proce...   \n",
       "\n",
       "                         ram                                   battery  \\\n",
       "0  12 GB RAM, 256 GB inbuilt  5200 mAh Battery with 120W Fast Charging   \n",
       "1  16 GB RAM, 256 GB inbuilt  5100 mAh Battery with 120W Fast Charging   \n",
       "2   8 GB RAM, 128 GB inbuilt   5000 mAh Battery with 68W Fast Charging   \n",
       "3  12 GB RAM, 256 GB inbuilt  5000 mAh Battery with 120W Fast Charging   \n",
       "4  12 GB RAM, 256 GB inbuilt   4500 mAh Battery with 44W Fast Charging   \n",
       "\n",
       "                                             display  \\\n",
       "0  6.67 inches, 1220 x 2712 px, 144 Hz Display wi...   \n",
       "1  6.78 inches, 1440 x 3200 px, 144 Hz Display wi...   \n",
       "2  6.55 inches, 1080 x 2400 px, 144 Hz Display wi...   \n",
       "3  6.67 inches, 1220 x 2712 px, 144 Hz Display wi...   \n",
       "4  6.67 inches, 1080 x 2400 px, 120 Hz Display wi...   \n",
       "\n",
       "                                              camera  \\\n",
       "0  200 MP + 13 MP + 8 MP Triple Rear & 32 MP Fron...   \n",
       "1  64 MP + 50 MP + 50 MP Triple Rear & 16 MP Fron...   \n",
       "2       50 MP + 13 MP Dual Rear & 32 MP Front Camera   \n",
       "3  200 MP + 8 MP + 2 MP Triple Rear & 16 MP Front...   \n",
       "4  108 MP + 13 MP + 2 MP Triple Rear & 32 MP Fron...   \n",
       "\n",
       "                        card           os  \n",
       "0  Memory Card Not Supported  Android v13  \n",
       "1                Android v14  No FM Radio  \n",
       "2  Memory Card Not Supported  Android v13  \n",
       "3  Memory Card Not Supported  Android v13  \n",
       "4                Android v13    Bluetooth  "
      ]
     },
     "execution_count": 2,
     "metadata": {},
     "output_type": "execute_result"
    }
   ],
   "source": [
    "df = pd.read_csv(\"C:\\\\Users\\\\sanja\\\\Downloads\\\\scrap_phone1.csv\")\n",
    "df.head()"
   ]
  },
  {
   "cell_type": "markdown",
   "metadata": {},
   "source": [
    "1. somewhere OPPO some where Oppo\n",
    "2. remove ₹, ',' from price\n",
    "3. problem with index 333,in excel sheet\n",
    "4. in camera column 294,289 , 276, 258,247, 109, 323, 383,388,411,418,454,456,462,472,477,482,533,534,539,570,579,588,\n",
    "590,626,639,646,655,669,670,699,711,721,727,728,646,842,848,850,852,853,855,856,867,879,902,914,921,932,933,939,966,980,\n",
    "992,1006,1010,1012\n",
    "5. in card column sometimes we got OS name"
   ]
  },
  {
   "cell_type": "code",
   "execution_count": 3,
   "metadata": {},
   "outputs": [],
   "source": [
    "df1 = df.copy()"
   ]
  },
  {
   "cell_type": "code",
   "execution_count": 4,
   "metadata": {},
   "outputs": [
    {
     "data": {
      "text/html": [
       "<div>\n",
       "<style scoped>\n",
       "    .dataframe tbody tr th:only-of-type {\n",
       "        vertical-align: middle;\n",
       "    }\n",
       "\n",
       "    .dataframe tbody tr th {\n",
       "        vertical-align: top;\n",
       "    }\n",
       "\n",
       "    .dataframe thead th {\n",
       "        text-align: right;\n",
       "    }\n",
       "</style>\n",
       "<table border=\"1\" class=\"dataframe\">\n",
       "  <thead>\n",
       "    <tr style=\"text-align: right;\">\n",
       "      <th></th>\n",
       "      <th>model</th>\n",
       "      <th>price</th>\n",
       "      <th>rating</th>\n",
       "      <th>sim</th>\n",
       "      <th>processor</th>\n",
       "      <th>ram</th>\n",
       "      <th>battery</th>\n",
       "      <th>display</th>\n",
       "      <th>camera</th>\n",
       "      <th>card</th>\n",
       "      <th>os</th>\n",
       "    </tr>\n",
       "  </thead>\n",
       "  <tbody>\n",
       "    <tr>\n",
       "      <th>0</th>\n",
       "      <td>Xiaomi Redmi Note 13 Pro Max 5G</td>\n",
       "      <td>₹22,999</td>\n",
       "      <td>87</td>\n",
       "      <td>Dual Sim, 3G, 4G, 5G, VoLTE, Wi-Fi, NFC, IR Bl...</td>\n",
       "      <td>Snapdragon  7 Gen1, Octa Core, 2.4 GHz Processor</td>\n",
       "      <td>12 GB RAM, 256 GB inbuilt</td>\n",
       "      <td>5200 mAh Battery with 120W Fast Charging</td>\n",
       "      <td>6.67 inches, 1220 x 2712 px, 144 Hz Display wi...</td>\n",
       "      <td>200 MP + 13 MP + 8 MP Triple Rear &amp; 32 MP Fron...</td>\n",
       "      <td>Memory Card Not Supported</td>\n",
       "      <td>Android v13</td>\n",
       "    </tr>\n",
       "    <tr>\n",
       "      <th>1</th>\n",
       "      <td>iQOO 12 Pro</td>\n",
       "      <td>₹64,990</td>\n",
       "      <td>92</td>\n",
       "      <td>Dual Sim, 3G, 4G, 5G, VoLTE, Wi-Fi, NFC, IR Bl...</td>\n",
       "      <td>Snapdragon 8 Gen3, Octa Core, 3.3 GHz Processor</td>\n",
       "      <td>16 GB RAM, 256 GB inbuilt</td>\n",
       "      <td>5100 mAh Battery with 120W Fast Charging</td>\n",
       "      <td>6.78 inches, 1440 x 3200 px, 144 Hz Display wi...</td>\n",
       "      <td>64 MP + 50 MP + 50 MP Triple Rear &amp; 16 MP Fron...</td>\n",
       "      <td>Android v14</td>\n",
       "      <td>No FM Radio</td>\n",
       "    </tr>\n",
       "    <tr>\n",
       "      <th>2</th>\n",
       "      <td>Motorola Edge 40 Neo</td>\n",
       "      <td>₹22,999</td>\n",
       "      <td>84</td>\n",
       "      <td>Dual Sim, 3G, 4G, 5G, VoLTE, Wi-Fi, NFC</td>\n",
       "      <td>Dimensity 7030, Octa Core, 2.5 GHz Processor</td>\n",
       "      <td>8 GB RAM, 128 GB inbuilt</td>\n",
       "      <td>5000 mAh Battery with 68W Fast Charging</td>\n",
       "      <td>6.55 inches, 1080 x 2400 px, 144 Hz Display wi...</td>\n",
       "      <td>50 MP + 13 MP Dual Rear &amp; 32 MP Front Camera</td>\n",
       "      <td>Memory Card Not Supported</td>\n",
       "      <td>Android v13</td>\n",
       "    </tr>\n",
       "    <tr>\n",
       "      <th>3</th>\n",
       "      <td>Xiaomi Redmi Note 13 Pro Plus</td>\n",
       "      <td>₹21,990</td>\n",
       "      <td>87</td>\n",
       "      <td>Dual Sim, 3G, 4G, 5G, VoLTE, Wi-Fi, NFC, IR Bl...</td>\n",
       "      <td>Dimensity 7200 Ultra, Octa Core, 2.8 GHz Proce...</td>\n",
       "      <td>12 GB RAM, 256 GB inbuilt</td>\n",
       "      <td>5000 mAh Battery with 120W Fast Charging</td>\n",
       "      <td>6.67 inches, 1220 x 2712 px, 144 Hz Display wi...</td>\n",
       "      <td>200 MP + 8 MP + 2 MP Triple Rear &amp; 16 MP Front...</td>\n",
       "      <td>Memory Card Not Supported</td>\n",
       "      <td>Android v13</td>\n",
       "    </tr>\n",
       "    <tr>\n",
       "      <th>4</th>\n",
       "      <td>Nokia 7610 5G</td>\n",
       "      <td>₹52,990</td>\n",
       "      <td>89</td>\n",
       "      <td>Dual Sim, 3G, 4G, 5G, VoLTE, Wi-Fi, NFC</td>\n",
       "      <td>Snapdragon  7+ Gen2, Octa Core, 2.91 GHz Proce...</td>\n",
       "      <td>12 GB RAM, 256 GB inbuilt</td>\n",
       "      <td>4500 mAh Battery with 44W Fast Charging</td>\n",
       "      <td>6.67 inches, 1080 x 2400 px, 120 Hz Display wi...</td>\n",
       "      <td>108 MP + 13 MP + 2 MP Triple Rear &amp; 32 MP Fron...</td>\n",
       "      <td>Android v13</td>\n",
       "      <td>Bluetooth</td>\n",
       "    </tr>\n",
       "  </tbody>\n",
       "</table>\n",
       "</div>"
      ],
      "text/plain": [
       "                             model    price  rating  \\\n",
       "0  Xiaomi Redmi Note 13 Pro Max 5G  ₹22,999      87   \n",
       "1                      iQOO 12 Pro  ₹64,990      92   \n",
       "2             Motorola Edge 40 Neo  ₹22,999      84   \n",
       "3    Xiaomi Redmi Note 13 Pro Plus  ₹21,990      87   \n",
       "4                    Nokia 7610 5G  ₹52,990      89   \n",
       "\n",
       "                                                 sim  \\\n",
       "0  Dual Sim, 3G, 4G, 5G, VoLTE, Wi-Fi, NFC, IR Bl...   \n",
       "1  Dual Sim, 3G, 4G, 5G, VoLTE, Wi-Fi, NFC, IR Bl...   \n",
       "2            Dual Sim, 3G, 4G, 5G, VoLTE, Wi-Fi, NFC   \n",
       "3  Dual Sim, 3G, 4G, 5G, VoLTE, Wi-Fi, NFC, IR Bl...   \n",
       "4            Dual Sim, 3G, 4G, 5G, VoLTE, Wi-Fi, NFC   \n",
       "\n",
       "                                           processor  \\\n",
       "0   Snapdragon  7 Gen1, Octa Core, 2.4 GHz Processor   \n",
       "1    Snapdragon 8 Gen3, Octa Core, 3.3 GHz Processor   \n",
       "2       Dimensity 7030, Octa Core, 2.5 GHz Processor   \n",
       "3  Dimensity 7200 Ultra, Octa Core, 2.8 GHz Proce...   \n",
       "4  Snapdragon  7+ Gen2, Octa Core, 2.91 GHz Proce...   \n",
       "\n",
       "                         ram                                   battery  \\\n",
       "0  12 GB RAM, 256 GB inbuilt  5200 mAh Battery with 120W Fast Charging   \n",
       "1  16 GB RAM, 256 GB inbuilt  5100 mAh Battery with 120W Fast Charging   \n",
       "2   8 GB RAM, 128 GB inbuilt   5000 mAh Battery with 68W Fast Charging   \n",
       "3  12 GB RAM, 256 GB inbuilt  5000 mAh Battery with 120W Fast Charging   \n",
       "4  12 GB RAM, 256 GB inbuilt   4500 mAh Battery with 44W Fast Charging   \n",
       "\n",
       "                                             display  \\\n",
       "0  6.67 inches, 1220 x 2712 px, 144 Hz Display wi...   \n",
       "1  6.78 inches, 1440 x 3200 px, 144 Hz Display wi...   \n",
       "2  6.55 inches, 1080 x 2400 px, 144 Hz Display wi...   \n",
       "3  6.67 inches, 1220 x 2712 px, 144 Hz Display wi...   \n",
       "4  6.67 inches, 1080 x 2400 px, 120 Hz Display wi...   \n",
       "\n",
       "                                              camera  \\\n",
       "0  200 MP + 13 MP + 8 MP Triple Rear & 32 MP Fron...   \n",
       "1  64 MP + 50 MP + 50 MP Triple Rear & 16 MP Fron...   \n",
       "2       50 MP + 13 MP Dual Rear & 32 MP Front Camera   \n",
       "3  200 MP + 8 MP + 2 MP Triple Rear & 16 MP Front...   \n",
       "4  108 MP + 13 MP + 2 MP Triple Rear & 32 MP Fron...   \n",
       "\n",
       "                        card           os  \n",
       "0  Memory Card Not Supported  Android v13  \n",
       "1                Android v14  No FM Radio  \n",
       "2  Memory Card Not Supported  Android v13  \n",
       "3  Memory Card Not Supported  Android v13  \n",
       "4                Android v13    Bluetooth  "
      ]
     },
     "execution_count": 4,
     "metadata": {},
     "output_type": "execute_result"
    }
   ],
   "source": [
    "df1.head()"
   ]
  },
  {
   "cell_type": "code",
   "execution_count": 9,
   "metadata": {},
   "outputs": [],
   "source": [
    "df1['price'] = df1['price'].str.replace('₹','').str.replace(',','').astype(int)"
   ]
  },
  {
   "cell_type": "code",
   "execution_count": 10,
   "metadata": {},
   "outputs": [
    {
     "name": "stdout",
     "output_type": "stream",
     "text": [
      "<class 'pandas.core.frame.DataFrame'>\n",
      "RangeIndex: 1020 entries, 0 to 1019\n",
      "Data columns (total 11 columns):\n",
      " #   Column     Non-Null Count  Dtype \n",
      "---  ------     --------------  ----- \n",
      " 0   model      1020 non-null   object\n",
      " 1   price      1020 non-null   int32 \n",
      " 2   rating     1020 non-null   int64 \n",
      " 3   sim        1020 non-null   object\n",
      " 4   processor  1020 non-null   object\n",
      " 5   ram        1020 non-null   object\n",
      " 6   battery    1020 non-null   object\n",
      " 7   display    1020 non-null   object\n",
      " 8   camera     1020 non-null   object\n",
      " 9   card       1020 non-null   object\n",
      " 10  os         1020 non-null   object\n",
      "dtypes: int32(1), int64(1), object(9)\n",
      "memory usage: 83.8+ KB\n"
     ]
    }
   ],
   "source": [
    "df1.info()"
   ]
  },
  {
   "cell_type": "code",
   "execution_count": 22,
   "metadata": {},
   "outputs": [
    {
     "data": {
      "text/html": [
       "<div>\n",
       "<style scoped>\n",
       "    .dataframe tbody tr th:only-of-type {\n",
       "        vertical-align: middle;\n",
       "    }\n",
       "\n",
       "    .dataframe tbody tr th {\n",
       "        vertical-align: top;\n",
       "    }\n",
       "\n",
       "    .dataframe thead th {\n",
       "        text-align: right;\n",
       "    }\n",
       "</style>\n",
       "<table border=\"1\" class=\"dataframe\">\n",
       "  <thead>\n",
       "    <tr style=\"text-align: right;\">\n",
       "      <th></th>\n",
       "      <th>processor</th>\n",
       "      <th>ram</th>\n",
       "      <th>battery</th>\n",
       "      <th>display</th>\n",
       "      <th>camera</th>\n",
       "      <th>card</th>\n",
       "    </tr>\n",
       "  </thead>\n",
       "  <tbody>\n",
       "    <tr>\n",
       "      <th>331</th>\n",
       "      <td>Dimensity 9300, Octa Core, 3.25 GHz Processor</td>\n",
       "      <td>8 GB RAM, 128 GB inbuilt</td>\n",
       "      <td>10500 mAh Battery with 44W Fast Charging</td>\n",
       "      <td>12.4 inches, 1968 x 2800 px, 144 Hz Display</td>\n",
       "      <td>13 MP + 2 MP Dual Rear &amp; 8 MP Front Camera</td>\n",
       "      <td>None</td>\n",
       "    </tr>\n",
       "  </tbody>\n",
       "</table>\n",
       "</div>"
      ],
      "text/plain": [
       "                                         processor                       ram  \\\n",
       "331  Dimensity 9300, Octa Core, 3.25 GHz Processor  8 GB RAM, 128 GB inbuilt   \n",
       "\n",
       "                                      battery  \\\n",
       "331  10500 mAh Battery with 44W Fast Charging   \n",
       "\n",
       "                                         display  \\\n",
       "331  12.4 inches, 1968 x 2800 px, 144 Hz Display   \n",
       "\n",
       "                                         camera  card  \n",
       "331  13 MP + 2 MP Dual Rear & 8 MP Front Camera  None  "
      ]
     },
     "execution_count": 22,
     "metadata": {},
     "output_type": "execute_result"
    }
   ],
   "source": [
    "df1[df1.index == 331][['processor','ram','battery','display','camera','card']].shift(periods=-1,axis='columns')"
   ]
  },
  {
   "cell_type": "code",
   "execution_count": 32,
   "metadata": {},
   "outputs": [
    {
     "data": {
      "text/html": [
       "<div>\n",
       "<style scoped>\n",
       "    .dataframe tbody tr th:only-of-type {\n",
       "        vertical-align: middle;\n",
       "    }\n",
       "\n",
       "    .dataframe tbody tr th {\n",
       "        vertical-align: top;\n",
       "    }\n",
       "\n",
       "    .dataframe thead th {\n",
       "        text-align: right;\n",
       "    }\n",
       "</style>\n",
       "<table border=\"1\" class=\"dataframe\">\n",
       "  <thead>\n",
       "    <tr style=\"text-align: right;\">\n",
       "      <th></th>\n",
       "      <th>model</th>\n",
       "      <th>price</th>\n",
       "      <th>rating</th>\n",
       "      <th>sim</th>\n",
       "      <th>processor</th>\n",
       "      <th>ram</th>\n",
       "      <th>battery</th>\n",
       "      <th>display</th>\n",
       "      <th>camera</th>\n",
       "      <th>card</th>\n",
       "      <th>os</th>\n",
       "    </tr>\n",
       "  </thead>\n",
       "  <tbody>\n",
       "    <tr>\n",
       "      <th>331</th>\n",
       "      <td>Vivo Pad 3</td>\n",
       "      <td>34990</td>\n",
       "      <td>75</td>\n",
       "      <td>Wi-Fi, NFC</td>\n",
       "      <td>No 3G</td>\n",
       "      <td>Dimensity 9300, Octa Core, 3.25 GHz Processor</td>\n",
       "      <td>8 GB RAM, 128 GB inbuilt</td>\n",
       "      <td>10500 mAh Battery with 44W Fast Charging</td>\n",
       "      <td>12.4 inches, 1968 x 2800 px, 144 Hz Display</td>\n",
       "      <td>13 MP + 2 MP Dual Rear &amp; 8 MP Front Camera</td>\n",
       "      <td>Android v13</td>\n",
       "    </tr>\n",
       "  </tbody>\n",
       "</table>\n",
       "</div>"
      ],
      "text/plain": [
       "          model  price  rating         sim processor  \\\n",
       "331  Vivo Pad 3  34990      75  Wi-Fi, NFC     No 3G   \n",
       "\n",
       "                                               ram                   battery  \\\n",
       "331  Dimensity 9300, Octa Core, 3.25 GHz Processor  8 GB RAM, 128 GB inbuilt   \n",
       "\n",
       "                                      display  \\\n",
       "331  10500 mAh Battery with 44W Fast Charging   \n",
       "\n",
       "                                          camera  \\\n",
       "331  12.4 inches, 1968 x 2800 px, 144 Hz Display   \n",
       "\n",
       "                                           card           os  \n",
       "331  13 MP + 2 MP Dual Rear & 8 MP Front Camera  Android v13  "
      ]
     },
     "execution_count": 32,
     "metadata": {},
     "output_type": "execute_result"
    }
   ],
   "source": [
    "temp = df1[df1.index == 331]\n",
    "temp"
   ]
  },
  {
   "cell_type": "code",
   "execution_count": 36,
   "metadata": {},
   "outputs": [
    {
     "data": {
      "text/plain": [
       "array([['Dimensity 9300, Octa Core, 3.25\\u2009GHz Processor',\n",
       "        '8\\u2009GB RAM, 128\\u2009GB inbuilt',\n",
       "        '10500\\u2009mAh Battery with 44W Fast Charging',\n",
       "        '12.4 inches, 1968\\u2009x\\u20092800\\u2009px, 144 Hz Display',\n",
       "        '13\\u2009MP + 2\\u2009MP Dual Rear & 8\\u2009MP Front Camera',\n",
       "        None]], dtype=object)"
      ]
     },
     "execution_count": 36,
     "metadata": {},
     "output_type": "execute_result"
    }
   ],
   "source": [
    "x = temp.iloc[:,4:10].shift(periods=-1, axis=1).values\n",
    "x"
   ]
  },
  {
   "cell_type": "code",
   "execution_count": 40,
   "metadata": {},
   "outputs": [],
   "source": [
    "df1.loc[temp.index, temp.columns[4:10]] = x"
   ]
  },
  {
   "cell_type": "code",
   "execution_count": 41,
   "metadata": {},
   "outputs": [
    {
     "data": {
      "text/html": [
       "<div>\n",
       "<style scoped>\n",
       "    .dataframe tbody tr th:only-of-type {\n",
       "        vertical-align: middle;\n",
       "    }\n",
       "\n",
       "    .dataframe tbody tr th {\n",
       "        vertical-align: top;\n",
       "    }\n",
       "\n",
       "    .dataframe thead th {\n",
       "        text-align: right;\n",
       "    }\n",
       "</style>\n",
       "<table border=\"1\" class=\"dataframe\">\n",
       "  <thead>\n",
       "    <tr style=\"text-align: right;\">\n",
       "      <th></th>\n",
       "      <th>model</th>\n",
       "      <th>price</th>\n",
       "      <th>rating</th>\n",
       "      <th>sim</th>\n",
       "      <th>processor</th>\n",
       "      <th>ram</th>\n",
       "      <th>battery</th>\n",
       "      <th>display</th>\n",
       "      <th>camera</th>\n",
       "      <th>card</th>\n",
       "      <th>os</th>\n",
       "    </tr>\n",
       "  </thead>\n",
       "  <tbody>\n",
       "    <tr>\n",
       "      <th>331</th>\n",
       "      <td>Vivo Pad 3</td>\n",
       "      <td>34990</td>\n",
       "      <td>75</td>\n",
       "      <td>Wi-Fi, NFC</td>\n",
       "      <td>Dimensity 9300, Octa Core, 3.25 GHz Processor</td>\n",
       "      <td>8 GB RAM, 128 GB inbuilt</td>\n",
       "      <td>10500 mAh Battery with 44W Fast Charging</td>\n",
       "      <td>12.4 inches, 1968 x 2800 px, 144 Hz Display</td>\n",
       "      <td>13 MP + 2 MP Dual Rear &amp; 8 MP Front Camera</td>\n",
       "      <td>None</td>\n",
       "      <td>Android v13</td>\n",
       "    </tr>\n",
       "  </tbody>\n",
       "</table>\n",
       "</div>"
      ],
      "text/plain": [
       "          model  price  rating         sim  \\\n",
       "331  Vivo Pad 3  34990      75  Wi-Fi, NFC   \n",
       "\n",
       "                                         processor                       ram  \\\n",
       "331  Dimensity 9300, Octa Core, 3.25 GHz Processor  8 GB RAM, 128 GB inbuilt   \n",
       "\n",
       "                                      battery  \\\n",
       "331  10500 mAh Battery with 44W Fast Charging   \n",
       "\n",
       "                                         display  \\\n",
       "331  12.4 inches, 1968 x 2800 px, 144 Hz Display   \n",
       "\n",
       "                                         camera  card           os  \n",
       "331  13 MP + 2 MP Dual Rear & 8 MP Front Camera  None  Android v13  "
      ]
     },
     "execution_count": 41,
     "metadata": {},
     "output_type": "execute_result"
    }
   ],
   "source": [
    "df1[df1.index == 331]"
   ]
  },
  {
   "cell_type": "code",
   "execution_count": 52,
   "metadata": {},
   "outputs": [],
   "source": [
    "temp_df = df1.loc[[292,287,274,256,245,107,321,381,386,409,416,452,454,460,470,475,480,531,532,537,568,586,\n",
    "588,624,637,644,653,667,668,697,709,719,725,726,644,840,846,848,850,851,853,854,865,877,900,912,919,930,931,937,964,978,\n",
    "990,1004,1008,1010]]"
   ]
  },
  {
   "cell_type": "code",
   "execution_count": 57,
   "metadata": {},
   "outputs": [],
   "source": [
    "x = temp_df.iloc[:,8:].shift(periods=-1,axis=1).values"
   ]
  },
  {
   "cell_type": "code",
   "execution_count": 58,
   "metadata": {},
   "outputs": [],
   "source": [
    "df1.loc[temp_df.index, temp_df.columns[8:]] = x"
   ]
  },
  {
   "cell_type": "code",
   "execution_count": 85,
   "metadata": {},
   "outputs": [],
   "source": [
    "pd.set_option('display.max_rows', None)"
   ]
  },
  {
   "cell_type": "code",
   "execution_count": 88,
   "metadata": {},
   "outputs": [
    {
     "data": {
      "text/plain": [
       "54"
      ]
     },
     "execution_count": 88,
     "metadata": {},
     "output_type": "execute_result"
    }
   ],
   "source": [
    "df1.duplicated().sum()"
   ]
  },
  {
   "cell_type": "code",
   "execution_count": 89,
   "metadata": {},
   "outputs": [],
   "source": [
    "df1.drop_duplicates(inplace=True)"
   ]
  },
  {
   "cell_type": "code",
   "execution_count": 90,
   "metadata": {},
   "outputs": [
    {
     "data": {
      "text/plain": [
       "0"
      ]
     },
     "execution_count": 90,
     "metadata": {},
     "output_type": "execute_result"
    }
   ],
   "source": [
    "df1.duplicated().sum()"
   ]
  },
  {
   "cell_type": "code",
   "execution_count": 115,
   "metadata": {},
   "outputs": [
    {
     "data": {
      "text/plain": [
       "array(['Memory Card Not Supported', 'Android v14', 'Android v13',\n",
       "       'Memory Card (Hybrid), upto 1\\u2009TB', 'Android v12',\n",
       "       'Memory Card Supported, upto 2\\u2009TB',\n",
       "       'Memory Card Supported, upto 1\\u2009TB',\n",
       "       'Memory Card (Hybrid), upto 2\\u2009TB', 'Memory Card (Hybrid)',\n",
       "       'Memory Card Supported', 'Android v11', 'Flyme 10',\n",
       "       'Memory Card Supported, upto 512\\u2009GB', 'Android v10',\n",
       "       'Memory Card (Hybrid), upto 128\\u2009GB',\n",
       "       'Memory Card Supported, upto 1000\\u2009GB', None,\n",
       "       'Memory Card Supported, upto 256\\u2009GB',\n",
       "       'Memory Card (Hybrid), upto 256\\u2009GB', 'Android v10.0',\n",
       "       'Memory Card (Hybrid), upto 512\\u2009GB', 'Android v12.1',\n",
       "       'HarmonyOS v4.0', 'Android v15', 'Flyme v10', 'Android'],\n",
       "      dtype=object)"
      ]
     },
     "execution_count": 115,
     "metadata": {},
     "output_type": "execute_result"
    }
   ],
   "source": [
    "df1['card'].unique()"
   ]
  },
  {
   "cell_type": "markdown",
   "metadata": {},
   "source": [
    "problem with 576, 744"
   ]
  },
  {
   "cell_type": "code",
   "execution_count": 98,
   "metadata": {},
   "outputs": [
    {
     "data": {
      "text/html": [
       "<div>\n",
       "<style scoped>\n",
       "    .dataframe tbody tr th:only-of-type {\n",
       "        vertical-align: middle;\n",
       "    }\n",
       "\n",
       "    .dataframe tbody tr th {\n",
       "        vertical-align: top;\n",
       "    }\n",
       "\n",
       "    .dataframe thead th {\n",
       "        text-align: right;\n",
       "    }\n",
       "</style>\n",
       "<table border=\"1\" class=\"dataframe\">\n",
       "  <thead>\n",
       "    <tr style=\"text-align: right;\">\n",
       "      <th></th>\n",
       "      <th>model</th>\n",
       "      <th>price</th>\n",
       "      <th>rating</th>\n",
       "      <th>sim</th>\n",
       "      <th>processor</th>\n",
       "      <th>ram</th>\n",
       "      <th>battery</th>\n",
       "      <th>display</th>\n",
       "      <th>camera</th>\n",
       "      <th>card</th>\n",
       "      <th>os</th>\n",
       "    </tr>\n",
       "  </thead>\n",
       "  <tbody>\n",
       "    <tr>\n",
       "      <th>744</th>\n",
       "      <td>Samsung Galaxy Z Fold 5 (12GB RAM + 1TB)</td>\n",
       "      <td>184999</td>\n",
       "      <td>93</td>\n",
       "      <td>Dual Sim, 3G, 4G, 5G, VoLTE, Vo5G, Wi-Fi, NFC</td>\n",
       "      <td>Snapdragon 8 Gen 2, Octa Core, 3.36 GHz Processor</td>\n",
       "      <td>12 GB RAM, 1 TB inbuilt</td>\n",
       "      <td>4400 mAh Battery with 25W Fast Charging</td>\n",
       "      <td>7.6 inches, 1812 x 2176 px, 120 Hz Display wit...</td>\n",
       "      <td>Foldable Display, Dual Display</td>\n",
       "      <td>50 MP + 12 MP + 10 MP Triple Rear &amp; 10 MP + 4 ...</td>\n",
       "      <td>Android v13</td>\n",
       "    </tr>\n",
       "  </tbody>\n",
       "</table>\n",
       "</div>"
      ],
      "text/plain": [
       "                                        model   price  rating  \\\n",
       "744  Samsung Galaxy Z Fold 5 (12GB RAM + 1TB)  184999      93   \n",
       "\n",
       "                                               sim  \\\n",
       "744  Dual Sim, 3G, 4G, 5G, VoLTE, Vo5G, Wi-Fi, NFC   \n",
       "\n",
       "                                             processor  \\\n",
       "744  Snapdragon 8 Gen 2, Octa Core, 3.36 GHz Processor   \n",
       "\n",
       "                         ram                                  battery  \\\n",
       "744  12 GB RAM, 1 TB inbuilt  4400 mAh Battery with 25W Fast Charging   \n",
       "\n",
       "                                               display  \\\n",
       "744  7.6 inches, 1812 x 2176 px, 120 Hz Display wit...   \n",
       "\n",
       "                             camera  \\\n",
       "744  Foldable Display, Dual Display   \n",
       "\n",
       "                                                  card           os  \n",
       "744  50 MP + 12 MP + 10 MP Triple Rear & 10 MP + 4 ...  Android v13  "
      ]
     },
     "execution_count": 98,
     "metadata": {},
     "output_type": "execute_result"
    }
   ],
   "source": [
    "df1[df1['card'] == '50\\u2009MP + 12\\u2009MP + 10\\u2009MP Triple Rear & 10\\u2009MP + 4\\u2009MP Dual Front Camera']"
   ]
  },
  {
   "cell_type": "code",
   "execution_count": 105,
   "metadata": {},
   "outputs": [],
   "source": [
    "temp = df1.loc[[576,744]]"
   ]
  },
  {
   "cell_type": "code",
   "execution_count": 113,
   "metadata": {},
   "outputs": [],
   "source": [
    "x = temp.iloc[:,8:10].shift(periods=-1,axis=1).values"
   ]
  },
  {
   "cell_type": "code",
   "execution_count": 114,
   "metadata": {},
   "outputs": [],
   "source": [
    "df1.loc[temp.index, temp.columns[8:10]] = x"
   ]
  },
  {
   "cell_type": "code",
   "execution_count": 116,
   "metadata": {},
   "outputs": [
    {
     "data": {
      "text/plain": [
       "array(['Memory Card Not Supported', 'Android v14', 'Android v13',\n",
       "       'Memory Card (Hybrid), upto 1\\u2009TB', 'Android v12',\n",
       "       'Memory Card Supported, upto 2\\u2009TB',\n",
       "       'Memory Card Supported, upto 1\\u2009TB',\n",
       "       'Memory Card (Hybrid), upto 2\\u2009TB', 'Memory Card (Hybrid)',\n",
       "       'Memory Card Supported', 'Android v11', 'Flyme 10',\n",
       "       'Memory Card Supported, upto 512\\u2009GB', 'Android v10',\n",
       "       'Memory Card (Hybrid), upto 128\\u2009GB',\n",
       "       'Memory Card Supported, upto 1000\\u2009GB', None,\n",
       "       'Memory Card Supported, upto 256\\u2009GB',\n",
       "       'Memory Card (Hybrid), upto 256\\u2009GB', 'Android v10.0',\n",
       "       'Memory Card (Hybrid), upto 512\\u2009GB', 'Android v12.1',\n",
       "       'HarmonyOS v4.0', 'Android v15', 'Flyme v10', 'Android'],\n",
       "      dtype=object)"
      ]
     },
     "execution_count": 116,
     "metadata": {},
     "output_type": "execute_result"
    }
   ],
   "source": [
    "df1['card'].unique()"
   ]
  },
  {
   "cell_type": "code",
   "execution_count": 118,
   "metadata": {},
   "outputs": [],
   "source": [
    "df1.to_csv(\"C:\\\\Users\\\\sanja\\\\Downloads\\\\scrap_phone1_somecleaned.csv\", index=False)"
   ]
  },
  {
   "cell_type": "code",
   "execution_count": 5,
   "metadata": {},
   "outputs": [
    {
     "data": {
      "text/html": [
       "<div>\n",
       "<style scoped>\n",
       "    .dataframe tbody tr th:only-of-type {\n",
       "        vertical-align: middle;\n",
       "    }\n",
       "\n",
       "    .dataframe tbody tr th {\n",
       "        vertical-align: top;\n",
       "    }\n",
       "\n",
       "    .dataframe thead th {\n",
       "        text-align: right;\n",
       "    }\n",
       "</style>\n",
       "<table border=\"1\" class=\"dataframe\">\n",
       "  <thead>\n",
       "    <tr style=\"text-align: right;\">\n",
       "      <th></th>\n",
       "      <th>model</th>\n",
       "      <th>price</th>\n",
       "      <th>rating</th>\n",
       "      <th>sim</th>\n",
       "      <th>processor</th>\n",
       "      <th>ram</th>\n",
       "      <th>battery</th>\n",
       "      <th>display</th>\n",
       "      <th>camera</th>\n",
       "      <th>card</th>\n",
       "      <th>os</th>\n",
       "    </tr>\n",
       "  </thead>\n",
       "  <tbody>\n",
       "    <tr>\n",
       "      <th>0</th>\n",
       "      <td>Xiaomi Redmi Note 13 Pro Max 5G</td>\n",
       "      <td>22999</td>\n",
       "      <td>87</td>\n",
       "      <td>Dual Sim, 3G, 4G, 5G, VoLTE, Wi-Fi, NFC, IR Bl...</td>\n",
       "      <td>Snapdragon  7 Gen1, Octa Core, 2.4 GHz Processor</td>\n",
       "      <td>12 GB RAM, 256 GB inbuilt</td>\n",
       "      <td>5200 mAh Battery with 120W Fast Charging</td>\n",
       "      <td>6.67 inches, 1220 x 2712 px, 144 Hz Display wi...</td>\n",
       "      <td>200 MP + 13 MP + 8 MP Triple Rear &amp; 32 MP Fron...</td>\n",
       "      <td>Memory Card Not Supported</td>\n",
       "      <td>Android v13</td>\n",
       "    </tr>\n",
       "    <tr>\n",
       "      <th>1</th>\n",
       "      <td>iQOO 12 Pro</td>\n",
       "      <td>64990</td>\n",
       "      <td>92</td>\n",
       "      <td>Dual Sim, 3G, 4G, 5G, VoLTE, Wi-Fi, NFC, IR Bl...</td>\n",
       "      <td>Snapdragon 8 Gen3, Octa Core, 3.3 GHz Processor</td>\n",
       "      <td>16 GB RAM, 256 GB inbuilt</td>\n",
       "      <td>5100 mAh Battery with 120W Fast Charging</td>\n",
       "      <td>6.78 inches, 1440 x 3200 px, 144 Hz Display wi...</td>\n",
       "      <td>64 MP + 50 MP + 50 MP Triple Rear &amp; 16 MP Fron...</td>\n",
       "      <td>Android v14</td>\n",
       "      <td>No FM Radio</td>\n",
       "    </tr>\n",
       "    <tr>\n",
       "      <th>2</th>\n",
       "      <td>Motorola Edge 40 Neo</td>\n",
       "      <td>22999</td>\n",
       "      <td>84</td>\n",
       "      <td>Dual Sim, 3G, 4G, 5G, VoLTE, Wi-Fi, NFC</td>\n",
       "      <td>Dimensity 7030, Octa Core, 2.5 GHz Processor</td>\n",
       "      <td>8 GB RAM, 128 GB inbuilt</td>\n",
       "      <td>5000 mAh Battery with 68W Fast Charging</td>\n",
       "      <td>6.55 inches, 1080 x 2400 px, 144 Hz Display wi...</td>\n",
       "      <td>50 MP + 13 MP Dual Rear &amp; 32 MP Front Camera</td>\n",
       "      <td>Memory Card Not Supported</td>\n",
       "      <td>Android v13</td>\n",
       "    </tr>\n",
       "    <tr>\n",
       "      <th>3</th>\n",
       "      <td>Xiaomi Redmi Note 13 Pro Plus</td>\n",
       "      <td>21990</td>\n",
       "      <td>87</td>\n",
       "      <td>Dual Sim, 3G, 4G, 5G, VoLTE, Wi-Fi, NFC, IR Bl...</td>\n",
       "      <td>Dimensity 7200 Ultra, Octa Core, 2.8 GHz Proce...</td>\n",
       "      <td>12 GB RAM, 256 GB inbuilt</td>\n",
       "      <td>5000 mAh Battery with 120W Fast Charging</td>\n",
       "      <td>6.67 inches, 1220 x 2712 px, 144 Hz Display wi...</td>\n",
       "      <td>200 MP + 8 MP + 2 MP Triple Rear &amp; 16 MP Front...</td>\n",
       "      <td>Memory Card Not Supported</td>\n",
       "      <td>Android v13</td>\n",
       "    </tr>\n",
       "    <tr>\n",
       "      <th>4</th>\n",
       "      <td>Nokia 7610 5G</td>\n",
       "      <td>52990</td>\n",
       "      <td>89</td>\n",
       "      <td>Dual Sim, 3G, 4G, 5G, VoLTE, Wi-Fi, NFC</td>\n",
       "      <td>Snapdragon  7+ Gen2, Octa Core, 2.91 GHz Proce...</td>\n",
       "      <td>12 GB RAM, 256 GB inbuilt</td>\n",
       "      <td>4500 mAh Battery with 44W Fast Charging</td>\n",
       "      <td>6.67 inches, 1080 x 2400 px, 120 Hz Display wi...</td>\n",
       "      <td>108 MP + 13 MP + 2 MP Triple Rear &amp; 32 MP Fron...</td>\n",
       "      <td>Android v13</td>\n",
       "      <td>Bluetooth</td>\n",
       "    </tr>\n",
       "  </tbody>\n",
       "</table>\n",
       "</div>"
      ],
      "text/plain": [
       "                             model  price  rating  \\\n",
       "0  Xiaomi Redmi Note 13 Pro Max 5G  22999      87   \n",
       "1                      iQOO 12 Pro  64990      92   \n",
       "2             Motorola Edge 40 Neo  22999      84   \n",
       "3    Xiaomi Redmi Note 13 Pro Plus  21990      87   \n",
       "4                    Nokia 7610 5G  52990      89   \n",
       "\n",
       "                                                 sim  \\\n",
       "0  Dual Sim, 3G, 4G, 5G, VoLTE, Wi-Fi, NFC, IR Bl...   \n",
       "1  Dual Sim, 3G, 4G, 5G, VoLTE, Wi-Fi, NFC, IR Bl...   \n",
       "2            Dual Sim, 3G, 4G, 5G, VoLTE, Wi-Fi, NFC   \n",
       "3  Dual Sim, 3G, 4G, 5G, VoLTE, Wi-Fi, NFC, IR Bl...   \n",
       "4            Dual Sim, 3G, 4G, 5G, VoLTE, Wi-Fi, NFC   \n",
       "\n",
       "                                           processor  \\\n",
       "0   Snapdragon  7 Gen1, Octa Core, 2.4 GHz Processor   \n",
       "1    Snapdragon 8 Gen3, Octa Core, 3.3 GHz Processor   \n",
       "2       Dimensity 7030, Octa Core, 2.5 GHz Processor   \n",
       "3  Dimensity 7200 Ultra, Octa Core, 2.8 GHz Proce...   \n",
       "4  Snapdragon  7+ Gen2, Octa Core, 2.91 GHz Proce...   \n",
       "\n",
       "                         ram                                   battery  \\\n",
       "0  12 GB RAM, 256 GB inbuilt  5200 mAh Battery with 120W Fast Charging   \n",
       "1  16 GB RAM, 256 GB inbuilt  5100 mAh Battery with 120W Fast Charging   \n",
       "2   8 GB RAM, 128 GB inbuilt   5000 mAh Battery with 68W Fast Charging   \n",
       "3  12 GB RAM, 256 GB inbuilt  5000 mAh Battery with 120W Fast Charging   \n",
       "4  12 GB RAM, 256 GB inbuilt   4500 mAh Battery with 44W Fast Charging   \n",
       "\n",
       "                                             display  \\\n",
       "0  6.67 inches, 1220 x 2712 px, 144 Hz Display wi...   \n",
       "1  6.78 inches, 1440 x 3200 px, 144 Hz Display wi...   \n",
       "2  6.55 inches, 1080 x 2400 px, 144 Hz Display wi...   \n",
       "3  6.67 inches, 1220 x 2712 px, 144 Hz Display wi...   \n",
       "4  6.67 inches, 1080 x 2400 px, 120 Hz Display wi...   \n",
       "\n",
       "                                              camera  \\\n",
       "0  200 MP + 13 MP + 8 MP Triple Rear & 32 MP Fron...   \n",
       "1  64 MP + 50 MP + 50 MP Triple Rear & 16 MP Fron...   \n",
       "2       50 MP + 13 MP Dual Rear & 32 MP Front Camera   \n",
       "3  200 MP + 8 MP + 2 MP Triple Rear & 16 MP Front...   \n",
       "4  108 MP + 13 MP + 2 MP Triple Rear & 32 MP Fron...   \n",
       "\n",
       "                        card           os  \n",
       "0  Memory Card Not Supported  Android v13  \n",
       "1                Android v14  No FM Radio  \n",
       "2  Memory Card Not Supported  Android v13  \n",
       "3  Memory Card Not Supported  Android v13  \n",
       "4                Android v13    Bluetooth  "
      ]
     },
     "execution_count": 5,
     "metadata": {},
     "output_type": "execute_result"
    }
   ],
   "source": [
    "df1 = pd.read_csv(\"C:\\\\Users\\\\sanja\\\\Downloads\\\\scrap_phone1_somecleaned.csv\")\n",
    "df1.head()"
   ]
  },
  {
   "cell_type": "code",
   "execution_count": 9,
   "metadata": {},
   "outputs": [
    {
     "data": {
      "text/plain": [
       "model         0\n",
       "price         0\n",
       "rating        0\n",
       "sim           0\n",
       "processor     0\n",
       "ram           0\n",
       "battery       0\n",
       "display       0\n",
       "camera        0\n",
       "card          3\n",
       "os           54\n",
       "dtype: int64"
      ]
     },
     "execution_count": 9,
     "metadata": {},
     "output_type": "execute_result"
    }
   ],
   "source": [
    "df1.isnull().sum()"
   ]
  },
  {
   "cell_type": "code",
   "execution_count": 18,
   "metadata": {},
   "outputs": [
    {
     "data": {
      "text/plain": [
       "Memory Card Not Supported              166\n",
       "Android v13                            147\n",
       "Memory Card Supported, upto 1 TB       136\n",
       "Memory Card (Hybrid), upto 1 TB        114\n",
       "Android v12                             82\n",
       "Memory Card Supported                   55\n",
       "Android v14                             48\n",
       "Memory Card (Hybrid)                    39\n",
       "Android v11                             38\n",
       "Memory Card Supported, upto 512 GB      38\n",
       "Memory Card Supported, upto 256 GB      25\n",
       "Memory Card Supported, upto 2 TB        18\n",
       "Android v10                             12\n",
       "Memory Card (Hybrid), upto 256 GB       12\n",
       "Memory Card (Hybrid), upto 512 GB       10\n",
       "Memory Card (Hybrid), upto 128 GB        5\n",
       "Memory Card (Hybrid), upto 2 TB          4\n",
       "Flyme 10                                 4\n",
       "Memory Card Supported, upto 1000 GB      2\n",
       "HarmonyOS v4.0                           2\n",
       "Android v15                              2\n",
       "Android v10.0                            1\n",
       "Android v12.1                            1\n",
       "Flyme v10                                1\n",
       "Android                                  1\n",
       "Name: card, dtype: int64"
      ]
     },
     "execution_count": 18,
     "metadata": {},
     "output_type": "execute_result"
    }
   ],
   "source": [
    "df1['card'].value_counts()"
   ]
  },
  {
   "cell_type": "code",
   "execution_count": 21,
   "metadata": {},
   "outputs": [],
   "source": [
    "temp_df = df1[(df1['card'] == 'Android v13') | (df1['card'] == 'Android v12') | (df1['card'] == 'Android v14') \n",
    "    | (df1['card'] == 'Android v11') | (df1['card'] == 'Android v10') | (df1['card'] == 'Flyme 10')\n",
    "    | (df1['card'] == 'HarmonyOS v4.0') | (df1['card'] == 'Android v15') | (df1['card'] == 'Android v10.0')\n",
    "    | (df1['card'] == 'Android v12.1') | (df1['card'] == 'Flyme v10') | (df1['card'] == 'Android')]"
   ]
  },
  {
   "cell_type": "code",
   "execution_count": 29,
   "metadata": {},
   "outputs": [],
   "source": [
    "x = temp_df.iloc[:,9:].shift(periods=1, axis=1).values"
   ]
  },
  {
   "cell_type": "code",
   "execution_count": 35,
   "metadata": {},
   "outputs": [
    {
     "data": {
      "text/plain": [
       "Index(['card', 'os'], dtype='object')"
      ]
     },
     "execution_count": 35,
     "metadata": {},
     "output_type": "execute_result"
    }
   ],
   "source": [
    "temp_df.columns[9:]"
   ]
  },
  {
   "cell_type": "code",
   "execution_count": 36,
   "metadata": {},
   "outputs": [],
   "source": [
    "df1.loc[temp_df.index, temp_df.columns[9:]] = x"
   ]
  },
  {
   "cell_type": "code",
   "execution_count": 39,
   "metadata": {},
   "outputs": [
    {
     "data": {
      "text/plain": [
       "342"
      ]
     },
     "execution_count": 39,
     "metadata": {},
     "output_type": "execute_result"
    }
   ],
   "source": [
    "df1['card'].isnull().sum()"
   ]
  },
  {
   "cell_type": "code",
   "execution_count": 40,
   "metadata": {},
   "outputs": [
    {
     "data": {
      "text/plain": [
       "Android v13                     357\n",
       "Android v12                     215\n",
       "Android v11                     137\n",
       "Android v14                      96\n",
       "Android v10                      37\n",
       "Android v10.0                    17\n",
       "iOS v17                          15\n",
       "Android v9.0 (Pie)               13\n",
       "iOS v16                           6\n",
       "Android v15                       5\n",
       "iOS v18                           5\n",
       "Hongmeng OS v4.0                  5\n",
       "Flyme 10                          4\n",
       "iOS v15                           3\n",
       "Android v8.1 (Oreo)               3\n",
       "Android v12.1                     2\n",
       "iOS v19                           2\n",
       "HarmonyOS v4.0                    2\n",
       "Android                           2\n",
       "iOS v20                           1\n",
       "HarmonyOS v4                      1\n",
       "EMUI v13                          1\n",
       "Harmony v2.0                      1\n",
       "Flyme v10                         1\n",
       "EMUI v12                          1\n",
       "Android v8.0 (Oreo)               1\n",
       "Android v6.0.1 (Marshmallow)      1\n",
       "Android v7.1.1 (Nougat)           1\n",
       "Name: os, dtype: int64"
      ]
     },
     "execution_count": 40,
     "metadata": {},
     "output_type": "execute_result"
    }
   ],
   "source": [
    "df1['os'].value_counts()"
   ]
  },
  {
   "cell_type": "code",
   "execution_count": 41,
   "metadata": {},
   "outputs": [
    {
     "data": {
      "text/plain": [
       "0"
      ]
     },
     "execution_count": 41,
     "metadata": {},
     "output_type": "execute_result"
    }
   ],
   "source": [
    "df['os'].isnull().sum()"
   ]
  },
  {
   "cell_type": "code",
   "execution_count": 42,
   "metadata": {},
   "outputs": [],
   "source": [
    "df1.to_csv(\"C:\\\\Users\\\\sanja\\\\Downloads\\\\scrap_phone1_cleaned.csv\", index=False)"
   ]
  },
  {
   "cell_type": "code",
   "execution_count": 1,
   "metadata": {},
   "outputs": [],
   "source": [
    "import pandas as pd"
   ]
  },
  {
   "cell_type": "code",
   "execution_count": 2,
   "metadata": {},
   "outputs": [
    {
     "data": {
      "text/html": [
       "<div>\n",
       "<style scoped>\n",
       "    .dataframe tbody tr th:only-of-type {\n",
       "        vertical-align: middle;\n",
       "    }\n",
       "\n",
       "    .dataframe tbody tr th {\n",
       "        vertical-align: top;\n",
       "    }\n",
       "\n",
       "    .dataframe thead th {\n",
       "        text-align: right;\n",
       "    }\n",
       "</style>\n",
       "<table border=\"1\" class=\"dataframe\">\n",
       "  <thead>\n",
       "    <tr style=\"text-align: right;\">\n",
       "      <th></th>\n",
       "      <th>model</th>\n",
       "      <th>price</th>\n",
       "      <th>rating</th>\n",
       "      <th>sim</th>\n",
       "      <th>processor</th>\n",
       "      <th>ram</th>\n",
       "      <th>battery</th>\n",
       "      <th>display</th>\n",
       "      <th>camera</th>\n",
       "      <th>card</th>\n",
       "      <th>os</th>\n",
       "    </tr>\n",
       "  </thead>\n",
       "  <tbody>\n",
       "    <tr>\n",
       "      <th>0</th>\n",
       "      <td>Xiaomi Redmi Note 13 Pro Max 5G</td>\n",
       "      <td>22999</td>\n",
       "      <td>87</td>\n",
       "      <td>Dual Sim, 3G, 4G, 5G, VoLTE, Wi-Fi, NFC, IR Bl...</td>\n",
       "      <td>Snapdragon  7 Gen1, Octa Core, 2.4 GHz Processor</td>\n",
       "      <td>12 GB RAM, 256 GB inbuilt</td>\n",
       "      <td>5200 mAh Battery with 120W Fast Charging</td>\n",
       "      <td>6.67 inches, 1220 x 2712 px, 144 Hz Display wi...</td>\n",
       "      <td>200 MP + 13 MP + 8 MP Triple Rear &amp; 32 MP Fron...</td>\n",
       "      <td>Memory Card Not Supported</td>\n",
       "      <td>Android v13</td>\n",
       "    </tr>\n",
       "    <tr>\n",
       "      <th>1</th>\n",
       "      <td>iQOO 12 Pro</td>\n",
       "      <td>64990</td>\n",
       "      <td>92</td>\n",
       "      <td>Dual Sim, 3G, 4G, 5G, VoLTE, Wi-Fi, NFC, IR Bl...</td>\n",
       "      <td>Snapdragon 8 Gen3, Octa Core, 3.3 GHz Processor</td>\n",
       "      <td>16 GB RAM, 256 GB inbuilt</td>\n",
       "      <td>5100 mAh Battery with 120W Fast Charging</td>\n",
       "      <td>6.78 inches, 1440 x 3200 px, 144 Hz Display wi...</td>\n",
       "      <td>64 MP + 50 MP + 50 MP Triple Rear &amp; 16 MP Fron...</td>\n",
       "      <td>NaN</td>\n",
       "      <td>Android v14</td>\n",
       "    </tr>\n",
       "    <tr>\n",
       "      <th>2</th>\n",
       "      <td>Motorola Edge 40 Neo</td>\n",
       "      <td>22999</td>\n",
       "      <td>84</td>\n",
       "      <td>Dual Sim, 3G, 4G, 5G, VoLTE, Wi-Fi, NFC</td>\n",
       "      <td>Dimensity 7030, Octa Core, 2.5 GHz Processor</td>\n",
       "      <td>8 GB RAM, 128 GB inbuilt</td>\n",
       "      <td>5000 mAh Battery with 68W Fast Charging</td>\n",
       "      <td>6.55 inches, 1080 x 2400 px, 144 Hz Display wi...</td>\n",
       "      <td>50 MP + 13 MP Dual Rear &amp; 32 MP Front Camera</td>\n",
       "      <td>Memory Card Not Supported</td>\n",
       "      <td>Android v13</td>\n",
       "    </tr>\n",
       "    <tr>\n",
       "      <th>3</th>\n",
       "      <td>Xiaomi Redmi Note 13 Pro Plus</td>\n",
       "      <td>21990</td>\n",
       "      <td>87</td>\n",
       "      <td>Dual Sim, 3G, 4G, 5G, VoLTE, Wi-Fi, NFC, IR Bl...</td>\n",
       "      <td>Dimensity 7200 Ultra, Octa Core, 2.8 GHz Proce...</td>\n",
       "      <td>12 GB RAM, 256 GB inbuilt</td>\n",
       "      <td>5000 mAh Battery with 120W Fast Charging</td>\n",
       "      <td>6.67 inches, 1220 x 2712 px, 144 Hz Display wi...</td>\n",
       "      <td>200 MP + 8 MP + 2 MP Triple Rear &amp; 16 MP Front...</td>\n",
       "      <td>Memory Card Not Supported</td>\n",
       "      <td>Android v13</td>\n",
       "    </tr>\n",
       "    <tr>\n",
       "      <th>4</th>\n",
       "      <td>Nokia 7610 5G</td>\n",
       "      <td>52990</td>\n",
       "      <td>89</td>\n",
       "      <td>Dual Sim, 3G, 4G, 5G, VoLTE, Wi-Fi, NFC</td>\n",
       "      <td>Snapdragon  7+ Gen2, Octa Core, 2.91 GHz Proce...</td>\n",
       "      <td>12 GB RAM, 256 GB inbuilt</td>\n",
       "      <td>4500 mAh Battery with 44W Fast Charging</td>\n",
       "      <td>6.67 inches, 1080 x 2400 px, 120 Hz Display wi...</td>\n",
       "      <td>108 MP + 13 MP + 2 MP Triple Rear &amp; 32 MP Fron...</td>\n",
       "      <td>NaN</td>\n",
       "      <td>Android v13</td>\n",
       "    </tr>\n",
       "  </tbody>\n",
       "</table>\n",
       "</div>"
      ],
      "text/plain": [
       "                             model  price  rating  \\\n",
       "0  Xiaomi Redmi Note 13 Pro Max 5G  22999      87   \n",
       "1                      iQOO 12 Pro  64990      92   \n",
       "2             Motorola Edge 40 Neo  22999      84   \n",
       "3    Xiaomi Redmi Note 13 Pro Plus  21990      87   \n",
       "4                    Nokia 7610 5G  52990      89   \n",
       "\n",
       "                                                 sim  \\\n",
       "0  Dual Sim, 3G, 4G, 5G, VoLTE, Wi-Fi, NFC, IR Bl...   \n",
       "1  Dual Sim, 3G, 4G, 5G, VoLTE, Wi-Fi, NFC, IR Bl...   \n",
       "2            Dual Sim, 3G, 4G, 5G, VoLTE, Wi-Fi, NFC   \n",
       "3  Dual Sim, 3G, 4G, 5G, VoLTE, Wi-Fi, NFC, IR Bl...   \n",
       "4            Dual Sim, 3G, 4G, 5G, VoLTE, Wi-Fi, NFC   \n",
       "\n",
       "                                           processor  \\\n",
       "0   Snapdragon  7 Gen1, Octa Core, 2.4 GHz Processor   \n",
       "1    Snapdragon 8 Gen3, Octa Core, 3.3 GHz Processor   \n",
       "2       Dimensity 7030, Octa Core, 2.5 GHz Processor   \n",
       "3  Dimensity 7200 Ultra, Octa Core, 2.8 GHz Proce...   \n",
       "4  Snapdragon  7+ Gen2, Octa Core, 2.91 GHz Proce...   \n",
       "\n",
       "                         ram                                   battery  \\\n",
       "0  12 GB RAM, 256 GB inbuilt  5200 mAh Battery with 120W Fast Charging   \n",
       "1  16 GB RAM, 256 GB inbuilt  5100 mAh Battery with 120W Fast Charging   \n",
       "2   8 GB RAM, 128 GB inbuilt   5000 mAh Battery with 68W Fast Charging   \n",
       "3  12 GB RAM, 256 GB inbuilt  5000 mAh Battery with 120W Fast Charging   \n",
       "4  12 GB RAM, 256 GB inbuilt   4500 mAh Battery with 44W Fast Charging   \n",
       "\n",
       "                                             display  \\\n",
       "0  6.67 inches, 1220 x 2712 px, 144 Hz Display wi...   \n",
       "1  6.78 inches, 1440 x 3200 px, 144 Hz Display wi...   \n",
       "2  6.55 inches, 1080 x 2400 px, 144 Hz Display wi...   \n",
       "3  6.67 inches, 1220 x 2712 px, 144 Hz Display wi...   \n",
       "4  6.67 inches, 1080 x 2400 px, 120 Hz Display wi...   \n",
       "\n",
       "                                              camera  \\\n",
       "0  200 MP + 13 MP + 8 MP Triple Rear & 32 MP Fron...   \n",
       "1  64 MP + 50 MP + 50 MP Triple Rear & 16 MP Fron...   \n",
       "2       50 MP + 13 MP Dual Rear & 32 MP Front Camera   \n",
       "3  200 MP + 8 MP + 2 MP Triple Rear & 16 MP Front...   \n",
       "4  108 MP + 13 MP + 2 MP Triple Rear & 32 MP Fron...   \n",
       "\n",
       "                        card           os  \n",
       "0  Memory Card Not Supported  Android v13  \n",
       "1                        NaN  Android v14  \n",
       "2  Memory Card Not Supported  Android v13  \n",
       "3  Memory Card Not Supported  Android v13  \n",
       "4                        NaN  Android v13  "
      ]
     },
     "execution_count": 2,
     "metadata": {},
     "output_type": "execute_result"
    }
   ],
   "source": [
    "df1 = pd.read_csv(\"C:\\\\Users\\\\sanja\\\\Downloads\\\\scrap_phone1_cleaned.csv\")\n",
    "df1.head()"
   ]
  },
  {
   "cell_type": "code",
   "execution_count": 3,
   "metadata": {},
   "outputs": [],
   "source": [
    "brand_names = df1['model'].str.split(\" \").str.get(0)"
   ]
  },
  {
   "cell_type": "code",
   "execution_count": 4,
   "metadata": {},
   "outputs": [],
   "source": [
    "df1.insert(0, 'brand_name', brand_names)"
   ]
  },
  {
   "cell_type": "code",
   "execution_count": 58,
   "metadata": {},
   "outputs": [
    {
     "data": {
      "text/html": [
       "<div>\n",
       "<style scoped>\n",
       "    .dataframe tbody tr th:only-of-type {\n",
       "        vertical-align: middle;\n",
       "    }\n",
       "\n",
       "    .dataframe tbody tr th {\n",
       "        vertical-align: top;\n",
       "    }\n",
       "\n",
       "    .dataframe thead th {\n",
       "        text-align: right;\n",
       "    }\n",
       "</style>\n",
       "<table border=\"1\" class=\"dataframe\">\n",
       "  <thead>\n",
       "    <tr style=\"text-align: right;\">\n",
       "      <th></th>\n",
       "      <th>brand_name</th>\n",
       "      <th>model</th>\n",
       "      <th>price</th>\n",
       "      <th>rating</th>\n",
       "      <th>sim</th>\n",
       "      <th>has_5g</th>\n",
       "      <th>has_nfc</th>\n",
       "      <th>has_ir_blaster</th>\n",
       "      <th>processor</th>\n",
       "      <th>processor_name</th>\n",
       "      <th>processor_brand</th>\n",
       "      <th>num_core</th>\n",
       "      <th>processor_speed</th>\n",
       "      <th>ram</th>\n",
       "      <th>ram_capacity</th>\n",
       "      <th>internal_memory</th>\n",
       "      <th>battery</th>\n",
       "      <th>battery_capacity</th>\n",
       "      <th>fast_charging_available</th>\n",
       "      <th>fast_charging</th>\n",
       "      <th>display</th>\n",
       "      <th>screen_size</th>\n",
       "      <th>resolution</th>\n",
       "      <th>refresh_rate</th>\n",
       "      <th>camera</th>\n",
       "      <th>num_rear_camera</th>\n",
       "      <th>num_front_camera</th>\n",
       "      <th>primary_camera_rear</th>\n",
       "      <th>primary_camera_front</th>\n",
       "      <th>card</th>\n",
       "      <th>os</th>\n",
       "    </tr>\n",
       "  </thead>\n",
       "  <tbody>\n",
       "    <tr>\n",
       "      <th>0</th>\n",
       "      <td>xiaomi</td>\n",
       "      <td>Xiaomi Redmi Note 13 Pro Max 5G</td>\n",
       "      <td>22999</td>\n",
       "      <td>87</td>\n",
       "      <td>Dual Sim, 3G, 4G, 5G, VoLTE, Wi-Fi, NFC, IR Bl...</td>\n",
       "      <td>True</td>\n",
       "      <td>True</td>\n",
       "      <td>True</td>\n",
       "      <td>Snapdragon  7 Gen1, Octa Core, 2.4 GHz Processor</td>\n",
       "      <td>Snapdragon  7 Gen1</td>\n",
       "      <td>snapdragon</td>\n",
       "      <td>Octa Core</td>\n",
       "      <td>2.40</td>\n",
       "      <td>12 GB RAM, 256 GB inbuilt</td>\n",
       "      <td>12.0</td>\n",
       "      <td>256.0</td>\n",
       "      <td>5200 mAh Battery with 120W Fast Charging</td>\n",
       "      <td>5200.0</td>\n",
       "      <td>1</td>\n",
       "      <td>120.0</td>\n",
       "      <td>6.67 inches, 1220 x 2712 px, 144 Hz Display wi...</td>\n",
       "      <td>6.67</td>\n",
       "      <td>1220 x 2712</td>\n",
       "      <td>144</td>\n",
       "      <td>200 MP + 13 MP + 8 MP Triple Rear &amp; 32 MP Fron...</td>\n",
       "      <td>3</td>\n",
       "      <td>1</td>\n",
       "      <td>200.0</td>\n",
       "      <td>32.0</td>\n",
       "      <td>Memory Card Not Supported</td>\n",
       "      <td>Android</td>\n",
       "    </tr>\n",
       "    <tr>\n",
       "      <th>1</th>\n",
       "      <td>iqoo</td>\n",
       "      <td>iQOO 12 Pro</td>\n",
       "      <td>64990</td>\n",
       "      <td>92</td>\n",
       "      <td>Dual Sim, 3G, 4G, 5G, VoLTE, Wi-Fi, NFC, IR Bl...</td>\n",
       "      <td>True</td>\n",
       "      <td>True</td>\n",
       "      <td>True</td>\n",
       "      <td>Snapdragon 8 Gen3, Octa Core, 3.3 GHz Processor</td>\n",
       "      <td>Snapdragon 8 Gen3</td>\n",
       "      <td>snapdragon</td>\n",
       "      <td>Octa Core</td>\n",
       "      <td>3.30</td>\n",
       "      <td>16 GB RAM, 256 GB inbuilt</td>\n",
       "      <td>16.0</td>\n",
       "      <td>256.0</td>\n",
       "      <td>5100 mAh Battery with 120W Fast Charging</td>\n",
       "      <td>5100.0</td>\n",
       "      <td>1</td>\n",
       "      <td>120.0</td>\n",
       "      <td>6.78 inches, 1440 x 3200 px, 144 Hz Display wi...</td>\n",
       "      <td>6.78</td>\n",
       "      <td>1440 x 3200</td>\n",
       "      <td>144</td>\n",
       "      <td>64 MP + 50 MP + 50 MP Triple Rear &amp; 16 MP Fron...</td>\n",
       "      <td>3</td>\n",
       "      <td>1</td>\n",
       "      <td>64.0</td>\n",
       "      <td>16.0</td>\n",
       "      <td>NaN</td>\n",
       "      <td>Android</td>\n",
       "    </tr>\n",
       "    <tr>\n",
       "      <th>2</th>\n",
       "      <td>motorola</td>\n",
       "      <td>Motorola Edge 40 Neo</td>\n",
       "      <td>22999</td>\n",
       "      <td>84</td>\n",
       "      <td>Dual Sim, 3G, 4G, 5G, VoLTE, Wi-Fi, NFC</td>\n",
       "      <td>True</td>\n",
       "      <td>True</td>\n",
       "      <td>False</td>\n",
       "      <td>Dimensity 7030, Octa Core, 2.5 GHz Processor</td>\n",
       "      <td>Dimensity 7030</td>\n",
       "      <td>dimensity</td>\n",
       "      <td>Octa Core</td>\n",
       "      <td>2.50</td>\n",
       "      <td>8 GB RAM, 128 GB inbuilt</td>\n",
       "      <td>8.0</td>\n",
       "      <td>128.0</td>\n",
       "      <td>5000 mAh Battery with 68W Fast Charging</td>\n",
       "      <td>5000.0</td>\n",
       "      <td>1</td>\n",
       "      <td>68.0</td>\n",
       "      <td>6.55 inches, 1080 x 2400 px, 144 Hz Display wi...</td>\n",
       "      <td>6.55</td>\n",
       "      <td>1080 x 2400</td>\n",
       "      <td>144</td>\n",
       "      <td>50 MP + 13 MP Dual Rear &amp; 32 MP Front Camera</td>\n",
       "      <td>2</td>\n",
       "      <td>1</td>\n",
       "      <td>50.0</td>\n",
       "      <td>32.0</td>\n",
       "      <td>Memory Card Not Supported</td>\n",
       "      <td>Android</td>\n",
       "    </tr>\n",
       "    <tr>\n",
       "      <th>3</th>\n",
       "      <td>xiaomi</td>\n",
       "      <td>Xiaomi Redmi Note 13 Pro Plus</td>\n",
       "      <td>21990</td>\n",
       "      <td>87</td>\n",
       "      <td>Dual Sim, 3G, 4G, 5G, VoLTE, Wi-Fi, NFC, IR Bl...</td>\n",
       "      <td>True</td>\n",
       "      <td>True</td>\n",
       "      <td>True</td>\n",
       "      <td>Dimensity 7200 Ultra, Octa Core, 2.8 GHz Proce...</td>\n",
       "      <td>Dimensity 7200 Ultra</td>\n",
       "      <td>dimensity</td>\n",
       "      <td>Octa Core</td>\n",
       "      <td>2.80</td>\n",
       "      <td>12 GB RAM, 256 GB inbuilt</td>\n",
       "      <td>12.0</td>\n",
       "      <td>256.0</td>\n",
       "      <td>5000 mAh Battery with 120W Fast Charging</td>\n",
       "      <td>5000.0</td>\n",
       "      <td>1</td>\n",
       "      <td>120.0</td>\n",
       "      <td>6.67 inches, 1220 x 2712 px, 144 Hz Display wi...</td>\n",
       "      <td>6.67</td>\n",
       "      <td>1220 x 2712</td>\n",
       "      <td>144</td>\n",
       "      <td>200 MP + 8 MP + 2 MP Triple Rear &amp; 16 MP Front...</td>\n",
       "      <td>3</td>\n",
       "      <td>1</td>\n",
       "      <td>200.0</td>\n",
       "      <td>16.0</td>\n",
       "      <td>Memory Card Not Supported</td>\n",
       "      <td>Android</td>\n",
       "    </tr>\n",
       "    <tr>\n",
       "      <th>4</th>\n",
       "      <td>nokia</td>\n",
       "      <td>Nokia 7610 5G</td>\n",
       "      <td>52990</td>\n",
       "      <td>89</td>\n",
       "      <td>Dual Sim, 3G, 4G, 5G, VoLTE, Wi-Fi, NFC</td>\n",
       "      <td>True</td>\n",
       "      <td>True</td>\n",
       "      <td>False</td>\n",
       "      <td>Snapdragon  7+ Gen2, Octa Core, 2.91 GHz Proce...</td>\n",
       "      <td>Snapdragon  7+ Gen2</td>\n",
       "      <td>snapdragon</td>\n",
       "      <td>Octa Core</td>\n",
       "      <td>2.91</td>\n",
       "      <td>12 GB RAM, 256 GB inbuilt</td>\n",
       "      <td>12.0</td>\n",
       "      <td>256.0</td>\n",
       "      <td>4500 mAh Battery with 44W Fast Charging</td>\n",
       "      <td>4500.0</td>\n",
       "      <td>1</td>\n",
       "      <td>44.0</td>\n",
       "      <td>6.67 inches, 1080 x 2400 px, 120 Hz Display wi...</td>\n",
       "      <td>6.67</td>\n",
       "      <td>1080 x 2400</td>\n",
       "      <td>120</td>\n",
       "      <td>108 MP + 13 MP + 2 MP Triple Rear &amp; 32 MP Fron...</td>\n",
       "      <td>3</td>\n",
       "      <td>1</td>\n",
       "      <td>108.0</td>\n",
       "      <td>32.0</td>\n",
       "      <td>NaN</td>\n",
       "      <td>Android</td>\n",
       "    </tr>\n",
       "  </tbody>\n",
       "</table>\n",
       "</div>"
      ],
      "text/plain": [
       "  brand_name                            model  price  rating  \\\n",
       "0     xiaomi  Xiaomi Redmi Note 13 Pro Max 5G  22999      87   \n",
       "1       iqoo                      iQOO 12 Pro  64990      92   \n",
       "2   motorola             Motorola Edge 40 Neo  22999      84   \n",
       "3     xiaomi    Xiaomi Redmi Note 13 Pro Plus  21990      87   \n",
       "4      nokia                    Nokia 7610 5G  52990      89   \n",
       "\n",
       "                                                 sim  has_5g  has_nfc  \\\n",
       "0  Dual Sim, 3G, 4G, 5G, VoLTE, Wi-Fi, NFC, IR Bl...    True     True   \n",
       "1  Dual Sim, 3G, 4G, 5G, VoLTE, Wi-Fi, NFC, IR Bl...    True     True   \n",
       "2            Dual Sim, 3G, 4G, 5G, VoLTE, Wi-Fi, NFC    True     True   \n",
       "3  Dual Sim, 3G, 4G, 5G, VoLTE, Wi-Fi, NFC, IR Bl...    True     True   \n",
       "4            Dual Sim, 3G, 4G, 5G, VoLTE, Wi-Fi, NFC    True     True   \n",
       "\n",
       "   has_ir_blaster                                          processor  \\\n",
       "0            True   Snapdragon  7 Gen1, Octa Core, 2.4 GHz Processor   \n",
       "1            True    Snapdragon 8 Gen3, Octa Core, 3.3 GHz Processor   \n",
       "2           False       Dimensity 7030, Octa Core, 2.5 GHz Processor   \n",
       "3            True  Dimensity 7200 Ultra, Octa Core, 2.8 GHz Proce...   \n",
       "4           False  Snapdragon  7+ Gen2, Octa Core, 2.91 GHz Proce...   \n",
       "\n",
       "         processor_name processor_brand   num_core  processor_speed  \\\n",
       "0    Snapdragon  7 Gen1      snapdragon  Octa Core             2.40   \n",
       "1     Snapdragon 8 Gen3      snapdragon  Octa Core             3.30   \n",
       "2        Dimensity 7030       dimensity  Octa Core             2.50   \n",
       "3  Dimensity 7200 Ultra       dimensity  Octa Core             2.80   \n",
       "4   Snapdragon  7+ Gen2      snapdragon  Octa Core             2.91   \n",
       "\n",
       "                         ram  ram_capacity  internal_memory  \\\n",
       "0  12 GB RAM, 256 GB inbuilt          12.0            256.0   \n",
       "1  16 GB RAM, 256 GB inbuilt          16.0            256.0   \n",
       "2   8 GB RAM, 128 GB inbuilt           8.0            128.0   \n",
       "3  12 GB RAM, 256 GB inbuilt          12.0            256.0   \n",
       "4  12 GB RAM, 256 GB inbuilt          12.0            256.0   \n",
       "\n",
       "                                    battery  battery_capacity  \\\n",
       "0  5200 mAh Battery with 120W Fast Charging            5200.0   \n",
       "1  5100 mAh Battery with 120W Fast Charging            5100.0   \n",
       "2   5000 mAh Battery with 68W Fast Charging            5000.0   \n",
       "3  5000 mAh Battery with 120W Fast Charging            5000.0   \n",
       "4   4500 mAh Battery with 44W Fast Charging            4500.0   \n",
       "\n",
       "   fast_charging_available  fast_charging  \\\n",
       "0                        1          120.0   \n",
       "1                        1          120.0   \n",
       "2                        1           68.0   \n",
       "3                        1          120.0   \n",
       "4                        1           44.0   \n",
       "\n",
       "                                             display  screen_size  \\\n",
       "0  6.67 inches, 1220 x 2712 px, 144 Hz Display wi...         6.67   \n",
       "1  6.78 inches, 1440 x 3200 px, 144 Hz Display wi...         6.78   \n",
       "2  6.55 inches, 1080 x 2400 px, 144 Hz Display wi...         6.55   \n",
       "3  6.67 inches, 1220 x 2712 px, 144 Hz Display wi...         6.67   \n",
       "4  6.67 inches, 1080 x 2400 px, 120 Hz Display wi...         6.67   \n",
       "\n",
       "      resolution  refresh_rate  \\\n",
       "0   1220 x 2712            144   \n",
       "1   1440 x 3200            144   \n",
       "2   1080 x 2400            144   \n",
       "3   1220 x 2712            144   \n",
       "4   1080 x 2400            120   \n",
       "\n",
       "                                              camera  num_rear_camera  \\\n",
       "0  200 MP + 13 MP + 8 MP Triple Rear & 32 MP Fron...                3   \n",
       "1  64 MP + 50 MP + 50 MP Triple Rear & 16 MP Fron...                3   \n",
       "2       50 MP + 13 MP Dual Rear & 32 MP Front Camera                2   \n",
       "3  200 MP + 8 MP + 2 MP Triple Rear & 16 MP Front...                3   \n",
       "4  108 MP + 13 MP + 2 MP Triple Rear & 32 MP Fron...                3   \n",
       "\n",
       "  num_front_camera  primary_camera_rear  primary_camera_front  \\\n",
       "0                1                200.0                  32.0   \n",
       "1                1                 64.0                  16.0   \n",
       "2                1                 50.0                  32.0   \n",
       "3                1                200.0                  16.0   \n",
       "4                1                108.0                  32.0   \n",
       "\n",
       "                        card       os  \n",
       "0  Memory Card Not Supported  Android  \n",
       "1                        NaN  Android  \n",
       "2  Memory Card Not Supported  Android  \n",
       "3  Memory Card Not Supported  Android  \n",
       "4                        NaN  Android  "
      ]
     },
     "execution_count": 58,
     "metadata": {},
     "output_type": "execute_result"
    }
   ],
   "source": [
    "df1.head()"
   ]
  },
  {
   "cell_type": "code",
   "execution_count": 6,
   "metadata": {},
   "outputs": [],
   "source": [
    "df1['brand_name'] = df1['brand_name'].str.lower()"
   ]
  },
  {
   "cell_type": "code",
   "execution_count": 7,
   "metadata": {},
   "outputs": [],
   "source": [
    "has_5g = df1['sim'].str.contains('5G')\n",
    "has_nfc = df1['sim'].str.contains('NFC')\n",
    "has_IR_blaster = df1['sim'].str.contains('IR Blaster')"
   ]
  },
  {
   "cell_type": "code",
   "execution_count": 8,
   "metadata": {},
   "outputs": [],
   "source": [
    "df1.insert(5, 'has_5g', has_5g)\n",
    "df1.insert(6, 'has_nfc', has_nfc)\n",
    "df1.insert(7, 'has_ir_blaster', has_IR_blaster)"
   ]
  },
  {
   "cell_type": "code",
   "execution_count": 9,
   "metadata": {},
   "outputs": [],
   "source": [
    "processor_name = df1['processor'].str.split(\",\").str.get(0)\n",
    "num_core = df1['processor'].str.split(\",\").str.get(1)\n",
    "processor_spped = df1['processor'].str.split(\",\").str.get(2)"
   ]
  },
  {
   "cell_type": "code",
   "execution_count": 10,
   "metadata": {},
   "outputs": [
    {
     "data": {
      "text/html": [
       "<div>\n",
       "<style scoped>\n",
       "    .dataframe tbody tr th:only-of-type {\n",
       "        vertical-align: middle;\n",
       "    }\n",
       "\n",
       "    .dataframe tbody tr th {\n",
       "        vertical-align: top;\n",
       "    }\n",
       "\n",
       "    .dataframe thead th {\n",
       "        text-align: right;\n",
       "    }\n",
       "</style>\n",
       "<table border=\"1\" class=\"dataframe\">\n",
       "  <thead>\n",
       "    <tr style=\"text-align: right;\">\n",
       "      <th></th>\n",
       "      <th>brand_name</th>\n",
       "      <th>model</th>\n",
       "      <th>price</th>\n",
       "      <th>rating</th>\n",
       "      <th>sim</th>\n",
       "      <th>has_5g</th>\n",
       "      <th>has_nfc</th>\n",
       "      <th>has_ir_blaster</th>\n",
       "      <th>processor</th>\n",
       "      <th>ram</th>\n",
       "      <th>battery</th>\n",
       "      <th>display</th>\n",
       "      <th>camera</th>\n",
       "      <th>card</th>\n",
       "      <th>os</th>\n",
       "    </tr>\n",
       "  </thead>\n",
       "  <tbody>\n",
       "    <tr>\n",
       "      <th>0</th>\n",
       "      <td>xiaomi</td>\n",
       "      <td>Xiaomi Redmi Note 13 Pro Max 5G</td>\n",
       "      <td>22999</td>\n",
       "      <td>87</td>\n",
       "      <td>Dual Sim, 3G, 4G, 5G, VoLTE, Wi-Fi, NFC, IR Bl...</td>\n",
       "      <td>True</td>\n",
       "      <td>True</td>\n",
       "      <td>True</td>\n",
       "      <td>Snapdragon  7 Gen1, Octa Core, 2.4 GHz Processor</td>\n",
       "      <td>12 GB RAM, 256 GB inbuilt</td>\n",
       "      <td>5200 mAh Battery with 120W Fast Charging</td>\n",
       "      <td>6.67 inches, 1220 x 2712 px, 144 Hz Display wi...</td>\n",
       "      <td>200 MP + 13 MP + 8 MP Triple Rear &amp; 32 MP Fron...</td>\n",
       "      <td>Memory Card Not Supported</td>\n",
       "      <td>Android v13</td>\n",
       "    </tr>\n",
       "  </tbody>\n",
       "</table>\n",
       "</div>"
      ],
      "text/plain": [
       "  brand_name                            model  price  rating  \\\n",
       "0     xiaomi  Xiaomi Redmi Note 13 Pro Max 5G  22999      87   \n",
       "\n",
       "                                                 sim  has_5g  has_nfc  \\\n",
       "0  Dual Sim, 3G, 4G, 5G, VoLTE, Wi-Fi, NFC, IR Bl...    True     True   \n",
       "\n",
       "   has_ir_blaster                                         processor  \\\n",
       "0            True  Snapdragon  7 Gen1, Octa Core, 2.4 GHz Processor   \n",
       "\n",
       "                         ram                                   battery  \\\n",
       "0  12 GB RAM, 256 GB inbuilt  5200 mAh Battery with 120W Fast Charging   \n",
       "\n",
       "                                             display  \\\n",
       "0  6.67 inches, 1220 x 2712 px, 144 Hz Display wi...   \n",
       "\n",
       "                                              camera  \\\n",
       "0  200 MP + 13 MP + 8 MP Triple Rear & 32 MP Fron...   \n",
       "\n",
       "                        card           os  \n",
       "0  Memory Card Not Supported  Android v13  "
      ]
     },
     "execution_count": 10,
     "metadata": {},
     "output_type": "execute_result"
    }
   ],
   "source": [
    "df1.head(1)"
   ]
  },
  {
   "cell_type": "code",
   "execution_count": 11,
   "metadata": {},
   "outputs": [],
   "source": [
    "df1.insert(9, \"processor_name\", processor_name)\n",
    "df1.insert(10, \"num_core\", num_core)\n",
    "df1.insert(11, \"processor_speed\", processor_spped)"
   ]
  },
  {
   "cell_type": "code",
   "execution_count": 12,
   "metadata": {},
   "outputs": [
    {
     "data": {
      "text/html": [
       "<div>\n",
       "<style scoped>\n",
       "    .dataframe tbody tr th:only-of-type {\n",
       "        vertical-align: middle;\n",
       "    }\n",
       "\n",
       "    .dataframe tbody tr th {\n",
       "        vertical-align: top;\n",
       "    }\n",
       "\n",
       "    .dataframe thead th {\n",
       "        text-align: right;\n",
       "    }\n",
       "</style>\n",
       "<table border=\"1\" class=\"dataframe\">\n",
       "  <thead>\n",
       "    <tr style=\"text-align: right;\">\n",
       "      <th></th>\n",
       "      <th>brand_name</th>\n",
       "      <th>model</th>\n",
       "      <th>price</th>\n",
       "      <th>rating</th>\n",
       "      <th>sim</th>\n",
       "      <th>has_5g</th>\n",
       "      <th>has_nfc</th>\n",
       "      <th>has_ir_blaster</th>\n",
       "      <th>processor</th>\n",
       "      <th>processor_name</th>\n",
       "      <th>num_core</th>\n",
       "      <th>processor_speed</th>\n",
       "      <th>ram</th>\n",
       "      <th>battery</th>\n",
       "      <th>display</th>\n",
       "      <th>camera</th>\n",
       "      <th>card</th>\n",
       "      <th>os</th>\n",
       "    </tr>\n",
       "  </thead>\n",
       "  <tbody>\n",
       "    <tr>\n",
       "      <th>0</th>\n",
       "      <td>xiaomi</td>\n",
       "      <td>Xiaomi Redmi Note 13 Pro Max 5G</td>\n",
       "      <td>22999</td>\n",
       "      <td>87</td>\n",
       "      <td>Dual Sim, 3G, 4G, 5G, VoLTE, Wi-Fi, NFC, IR Bl...</td>\n",
       "      <td>True</td>\n",
       "      <td>True</td>\n",
       "      <td>True</td>\n",
       "      <td>Snapdragon  7 Gen1, Octa Core, 2.4 GHz Processor</td>\n",
       "      <td>Snapdragon  7 Gen1</td>\n",
       "      <td>Octa Core</td>\n",
       "      <td>2.4 GHz Processor</td>\n",
       "      <td>12 GB RAM, 256 GB inbuilt</td>\n",
       "      <td>5200 mAh Battery with 120W Fast Charging</td>\n",
       "      <td>6.67 inches, 1220 x 2712 px, 144 Hz Display wi...</td>\n",
       "      <td>200 MP + 13 MP + 8 MP Triple Rear &amp; 32 MP Fron...</td>\n",
       "      <td>Memory Card Not Supported</td>\n",
       "      <td>Android v13</td>\n",
       "    </tr>\n",
       "    <tr>\n",
       "      <th>1</th>\n",
       "      <td>iqoo</td>\n",
       "      <td>iQOO 12 Pro</td>\n",
       "      <td>64990</td>\n",
       "      <td>92</td>\n",
       "      <td>Dual Sim, 3G, 4G, 5G, VoLTE, Wi-Fi, NFC, IR Bl...</td>\n",
       "      <td>True</td>\n",
       "      <td>True</td>\n",
       "      <td>True</td>\n",
       "      <td>Snapdragon 8 Gen3, Octa Core, 3.3 GHz Processor</td>\n",
       "      <td>Snapdragon 8 Gen3</td>\n",
       "      <td>Octa Core</td>\n",
       "      <td>3.3 GHz Processor</td>\n",
       "      <td>16 GB RAM, 256 GB inbuilt</td>\n",
       "      <td>5100 mAh Battery with 120W Fast Charging</td>\n",
       "      <td>6.78 inches, 1440 x 3200 px, 144 Hz Display wi...</td>\n",
       "      <td>64 MP + 50 MP + 50 MP Triple Rear &amp; 16 MP Fron...</td>\n",
       "      <td>NaN</td>\n",
       "      <td>Android v14</td>\n",
       "    </tr>\n",
       "  </tbody>\n",
       "</table>\n",
       "</div>"
      ],
      "text/plain": [
       "  brand_name                            model  price  rating  \\\n",
       "0     xiaomi  Xiaomi Redmi Note 13 Pro Max 5G  22999      87   \n",
       "1       iqoo                      iQOO 12 Pro  64990      92   \n",
       "\n",
       "                                                 sim  has_5g  has_nfc  \\\n",
       "0  Dual Sim, 3G, 4G, 5G, VoLTE, Wi-Fi, NFC, IR Bl...    True     True   \n",
       "1  Dual Sim, 3G, 4G, 5G, VoLTE, Wi-Fi, NFC, IR Bl...    True     True   \n",
       "\n",
       "   has_ir_blaster                                         processor  \\\n",
       "0            True  Snapdragon  7 Gen1, Octa Core, 2.4 GHz Processor   \n",
       "1            True   Snapdragon 8 Gen3, Octa Core, 3.3 GHz Processor   \n",
       "\n",
       "       processor_name    num_core     processor_speed  \\\n",
       "0  Snapdragon  7 Gen1   Octa Core   2.4 GHz Processor   \n",
       "1   Snapdragon 8 Gen3   Octa Core   3.3 GHz Processor   \n",
       "\n",
       "                         ram                                   battery  \\\n",
       "0  12 GB RAM, 256 GB inbuilt  5200 mAh Battery with 120W Fast Charging   \n",
       "1  16 GB RAM, 256 GB inbuilt  5100 mAh Battery with 120W Fast Charging   \n",
       "\n",
       "                                             display  \\\n",
       "0  6.67 inches, 1220 x 2712 px, 144 Hz Display wi...   \n",
       "1  6.78 inches, 1440 x 3200 px, 144 Hz Display wi...   \n",
       "\n",
       "                                              camera  \\\n",
       "0  200 MP + 13 MP + 8 MP Triple Rear & 32 MP Fron...   \n",
       "1  64 MP + 50 MP + 50 MP Triple Rear & 16 MP Fron...   \n",
       "\n",
       "                        card           os  \n",
       "0  Memory Card Not Supported  Android v13  \n",
       "1                        NaN  Android v14  "
      ]
     },
     "execution_count": 12,
     "metadata": {},
     "output_type": "execute_result"
    }
   ],
   "source": [
    "df1.head(2)"
   ]
  },
  {
   "cell_type": "code",
   "execution_count": 13,
   "metadata": {},
   "outputs": [],
   "source": [
    "pd.set_option('display.max_rows', None)"
   ]
  },
  {
   "cell_type": "code",
   "execution_count": 14,
   "metadata": {},
   "outputs": [],
   "source": [
    "temp_df = df1[df1['processor_name'].str.contains('Core')][['processor_name','num_core','processor_speed']].shift(periods=1,axis=1)"
   ]
  },
  {
   "cell_type": "code",
   "execution_count": 15,
   "metadata": {},
   "outputs": [],
   "source": [
    "df1.loc[temp_df.index, ['processor_name','num_core','processor_speed']] = temp_df.values"
   ]
  },
  {
   "cell_type": "code",
   "execution_count": 16,
   "metadata": {},
   "outputs": [],
   "source": [
    "processor_brand = df1['processor_name'].str.split(' ').str.get(0).str.lower()"
   ]
  },
  {
   "cell_type": "code",
   "execution_count": 17,
   "metadata": {},
   "outputs": [],
   "source": [
    "df1.insert(10, 'processor_brand', processor_brand)"
   ]
  },
  {
   "cell_type": "code",
   "execution_count": 18,
   "metadata": {},
   "outputs": [
    {
     "data": {
      "text/html": [
       "<div>\n",
       "<style scoped>\n",
       "    .dataframe tbody tr th:only-of-type {\n",
       "        vertical-align: middle;\n",
       "    }\n",
       "\n",
       "    .dataframe tbody tr th {\n",
       "        vertical-align: top;\n",
       "    }\n",
       "\n",
       "    .dataframe thead th {\n",
       "        text-align: right;\n",
       "    }\n",
       "</style>\n",
       "<table border=\"1\" class=\"dataframe\">\n",
       "  <thead>\n",
       "    <tr style=\"text-align: right;\">\n",
       "      <th></th>\n",
       "      <th>brand_name</th>\n",
       "      <th>model</th>\n",
       "      <th>price</th>\n",
       "      <th>rating</th>\n",
       "      <th>sim</th>\n",
       "      <th>has_5g</th>\n",
       "      <th>has_nfc</th>\n",
       "      <th>has_ir_blaster</th>\n",
       "      <th>processor</th>\n",
       "      <th>processor_name</th>\n",
       "      <th>processor_brand</th>\n",
       "      <th>num_core</th>\n",
       "      <th>processor_speed</th>\n",
       "      <th>ram</th>\n",
       "      <th>battery</th>\n",
       "      <th>display</th>\n",
       "      <th>camera</th>\n",
       "      <th>card</th>\n",
       "      <th>os</th>\n",
       "    </tr>\n",
       "  </thead>\n",
       "  <tbody>\n",
       "    <tr>\n",
       "      <th>0</th>\n",
       "      <td>xiaomi</td>\n",
       "      <td>Xiaomi Redmi Note 13 Pro Max 5G</td>\n",
       "      <td>22999</td>\n",
       "      <td>87</td>\n",
       "      <td>Dual Sim, 3G, 4G, 5G, VoLTE, Wi-Fi, NFC, IR Bl...</td>\n",
       "      <td>True</td>\n",
       "      <td>True</td>\n",
       "      <td>True</td>\n",
       "      <td>Snapdragon  7 Gen1, Octa Core, 2.4 GHz Processor</td>\n",
       "      <td>Snapdragon  7 Gen1</td>\n",
       "      <td>snapdragon</td>\n",
       "      <td>Octa Core</td>\n",
       "      <td>2.4 GHz Processor</td>\n",
       "      <td>12 GB RAM, 256 GB inbuilt</td>\n",
       "      <td>5200 mAh Battery with 120W Fast Charging</td>\n",
       "      <td>6.67 inches, 1220 x 2712 px, 144 Hz Display wi...</td>\n",
       "      <td>200 MP + 13 MP + 8 MP Triple Rear &amp; 32 MP Fron...</td>\n",
       "      <td>Memory Card Not Supported</td>\n",
       "      <td>Android v13</td>\n",
       "    </tr>\n",
       "  </tbody>\n",
       "</table>\n",
       "</div>"
      ],
      "text/plain": [
       "  brand_name                            model  price  rating  \\\n",
       "0     xiaomi  Xiaomi Redmi Note 13 Pro Max 5G  22999      87   \n",
       "\n",
       "                                                 sim  has_5g  has_nfc  \\\n",
       "0  Dual Sim, 3G, 4G, 5G, VoLTE, Wi-Fi, NFC, IR Bl...    True     True   \n",
       "\n",
       "   has_ir_blaster                                         processor  \\\n",
       "0            True  Snapdragon  7 Gen1, Octa Core, 2.4 GHz Processor   \n",
       "\n",
       "       processor_name processor_brand    num_core     processor_speed  \\\n",
       "0  Snapdragon  7 Gen1      snapdragon   Octa Core   2.4 GHz Processor   \n",
       "\n",
       "                         ram                                   battery  \\\n",
       "0  12 GB RAM, 256 GB inbuilt  5200 mAh Battery with 120W Fast Charging   \n",
       "\n",
       "                                             display  \\\n",
       "0  6.67 inches, 1220 x 2712 px, 144 Hz Display wi...   \n",
       "\n",
       "                                              camera  \\\n",
       "0  200 MP + 13 MP + 8 MP Triple Rear & 32 MP Fron...   \n",
       "\n",
       "                        card           os  \n",
       "0  Memory Card Not Supported  Android v13  "
      ]
     },
     "execution_count": 18,
     "metadata": {},
     "output_type": "execute_result"
    }
   ],
   "source": [
    "df1.head(1)"
   ]
  },
  {
   "cell_type": "code",
   "execution_count": 19,
   "metadata": {},
   "outputs": [],
   "source": [
    "df1['num_core'] = df1['num_core'].str.strip()"
   ]
  },
  {
   "cell_type": "code",
   "execution_count": 21,
   "metadata": {},
   "outputs": [],
   "source": [
    "df1['num_core'] = df1['num_core'].str.replace('Octa Core Processor','Octa Core').str.replace('Hexa Core Processor', 'Hexa Core').str.replace('Quad Core Processor','Quad Core').str.replace('Nine Cores','Nine Core').str.replace('Nine-Cores','Nine Core').str.replace('Deca Core Processor','Deca Core')"
   ]
  },
  {
   "cell_type": "code",
   "execution_count": 22,
   "metadata": {},
   "outputs": [
    {
     "data": {
      "text/plain": [
       "Octa Core    925\n",
       "Hexa Core     25\n",
       "Quad Core      8\n",
       "Nine Core      5\n",
       "Deca Core      1\n",
       "Name: num_core, dtype: int64"
      ]
     },
     "execution_count": 22,
     "metadata": {},
     "output_type": "execute_result"
    }
   ],
   "source": [
    "df1['num_core'].value_counts()"
   ]
  },
  {
   "cell_type": "code",
   "execution_count": 42,
   "metadata": {},
   "outputs": [],
   "source": [
    "df1['processor_speed'] = df1['processor_speed'].str.strip().str.split(' ').str.get(0).str.replace('\\u2009',' ').str.split(' ').str.get(0).astype(float)"
   ]
  },
  {
   "cell_type": "code",
   "execution_count": 45,
   "metadata": {},
   "outputs": [
    {
     "data": {
      "text/html": [
       "<div>\n",
       "<style scoped>\n",
       "    .dataframe tbody tr th:only-of-type {\n",
       "        vertical-align: middle;\n",
       "    }\n",
       "\n",
       "    .dataframe tbody tr th {\n",
       "        vertical-align: top;\n",
       "    }\n",
       "\n",
       "    .dataframe thead th {\n",
       "        text-align: right;\n",
       "    }\n",
       "</style>\n",
       "<table border=\"1\" class=\"dataframe\">\n",
       "  <thead>\n",
       "    <tr style=\"text-align: right;\">\n",
       "      <th></th>\n",
       "      <th>brand_name</th>\n",
       "      <th>model</th>\n",
       "      <th>price</th>\n",
       "      <th>rating</th>\n",
       "      <th>sim</th>\n",
       "      <th>has_5g</th>\n",
       "      <th>has_nfc</th>\n",
       "      <th>has_ir_blaster</th>\n",
       "      <th>processor</th>\n",
       "      <th>processor_name</th>\n",
       "      <th>processor_brand</th>\n",
       "      <th>num_core</th>\n",
       "      <th>processor_speed</th>\n",
       "      <th>ram</th>\n",
       "      <th>battery</th>\n",
       "      <th>display</th>\n",
       "      <th>camera</th>\n",
       "      <th>card</th>\n",
       "      <th>os</th>\n",
       "    </tr>\n",
       "  </thead>\n",
       "  <tbody>\n",
       "    <tr>\n",
       "      <th>0</th>\n",
       "      <td>xiaomi</td>\n",
       "      <td>Xiaomi Redmi Note 13 Pro Max 5G</td>\n",
       "      <td>22999</td>\n",
       "      <td>87</td>\n",
       "      <td>Dual Sim, 3G, 4G, 5G, VoLTE, Wi-Fi, NFC, IR Bl...</td>\n",
       "      <td>True</td>\n",
       "      <td>True</td>\n",
       "      <td>True</td>\n",
       "      <td>Snapdragon  7 Gen1, Octa Core, 2.4 GHz Processor</td>\n",
       "      <td>Snapdragon  7 Gen1</td>\n",
       "      <td>snapdragon</td>\n",
       "      <td>Octa Core</td>\n",
       "      <td>2.4</td>\n",
       "      <td>12 GB RAM, 256 GB inbuilt</td>\n",
       "      <td>5200 mAh Battery with 120W Fast Charging</td>\n",
       "      <td>6.67 inches, 1220 x 2712 px, 144 Hz Display wi...</td>\n",
       "      <td>200 MP + 13 MP + 8 MP Triple Rear &amp; 32 MP Fron...</td>\n",
       "      <td>Memory Card Not Supported</td>\n",
       "      <td>Android v13</td>\n",
       "    </tr>\n",
       "    <tr>\n",
       "      <th>1</th>\n",
       "      <td>iqoo</td>\n",
       "      <td>iQOO 12 Pro</td>\n",
       "      <td>64990</td>\n",
       "      <td>92</td>\n",
       "      <td>Dual Sim, 3G, 4G, 5G, VoLTE, Wi-Fi, NFC, IR Bl...</td>\n",
       "      <td>True</td>\n",
       "      <td>True</td>\n",
       "      <td>True</td>\n",
       "      <td>Snapdragon 8 Gen3, Octa Core, 3.3 GHz Processor</td>\n",
       "      <td>Snapdragon 8 Gen3</td>\n",
       "      <td>snapdragon</td>\n",
       "      <td>Octa Core</td>\n",
       "      <td>3.3</td>\n",
       "      <td>16 GB RAM, 256 GB inbuilt</td>\n",
       "      <td>5100 mAh Battery with 120W Fast Charging</td>\n",
       "      <td>6.78 inches, 1440 x 3200 px, 144 Hz Display wi...</td>\n",
       "      <td>64 MP + 50 MP + 50 MP Triple Rear &amp; 16 MP Fron...</td>\n",
       "      <td>NaN</td>\n",
       "      <td>Android v14</td>\n",
       "    </tr>\n",
       "  </tbody>\n",
       "</table>\n",
       "</div>"
      ],
      "text/plain": [
       "  brand_name                            model  price  rating  \\\n",
       "0     xiaomi  Xiaomi Redmi Note 13 Pro Max 5G  22999      87   \n",
       "1       iqoo                      iQOO 12 Pro  64990      92   \n",
       "\n",
       "                                                 sim  has_5g  has_nfc  \\\n",
       "0  Dual Sim, 3G, 4G, 5G, VoLTE, Wi-Fi, NFC, IR Bl...    True     True   \n",
       "1  Dual Sim, 3G, 4G, 5G, VoLTE, Wi-Fi, NFC, IR Bl...    True     True   \n",
       "\n",
       "   has_ir_blaster                                         processor  \\\n",
       "0            True  Snapdragon  7 Gen1, Octa Core, 2.4 GHz Processor   \n",
       "1            True   Snapdragon 8 Gen3, Octa Core, 3.3 GHz Processor   \n",
       "\n",
       "       processor_name processor_brand   num_core  processor_speed  \\\n",
       "0  Snapdragon  7 Gen1      snapdragon  Octa Core              2.4   \n",
       "1   Snapdragon 8 Gen3      snapdragon  Octa Core              3.3   \n",
       "\n",
       "                         ram                                   battery  \\\n",
       "0  12 GB RAM, 256 GB inbuilt  5200 mAh Battery with 120W Fast Charging   \n",
       "1  16 GB RAM, 256 GB inbuilt  5100 mAh Battery with 120W Fast Charging   \n",
       "\n",
       "                                             display  \\\n",
       "0  6.67 inches, 1220 x 2712 px, 144 Hz Display wi...   \n",
       "1  6.78 inches, 1440 x 3200 px, 144 Hz Display wi...   \n",
       "\n",
       "                                              camera  \\\n",
       "0  200 MP + 13 MP + 8 MP Triple Rear & 32 MP Fron...   \n",
       "1  64 MP + 50 MP + 50 MP Triple Rear & 16 MP Fron...   \n",
       "\n",
       "                        card           os  \n",
       "0  Memory Card Not Supported  Android v13  \n",
       "1                        NaN  Android v14  "
      ]
     },
     "execution_count": 45,
     "metadata": {},
     "output_type": "execute_result"
    }
   ],
   "source": [
    "df1.head(2)"
   ]
  },
  {
   "cell_type": "code",
   "execution_count": 58,
   "metadata": {},
   "outputs": [],
   "source": [
    "ram_capacity = df1['ram'].str.strip().str.split(',').str.get(0).str.split(' ').str.get(0).str.replace('\\u2009',' ').str.split(' ').str.get(0)"
   ]
  },
  {
   "cell_type": "code",
   "execution_count": 60,
   "metadata": {},
   "outputs": [],
   "source": [
    "df1.insert(14,'ram_capacity', ram_capacity)"
   ]
  },
  {
   "cell_type": "code",
   "execution_count": 72,
   "metadata": {},
   "outputs": [],
   "source": [
    "internal_memory = df1['ram'].str.strip().str.split(',').str.get(1).str.strip().str.replace('\\u2009', ' ').str.split(' ').str.get(0)"
   ]
  },
  {
   "cell_type": "code",
   "execution_count": 73,
   "metadata": {},
   "outputs": [],
   "source": [
    "df1.insert(15,'internal_memory', internal_memory)"
   ]
  },
  {
   "cell_type": "code",
   "execution_count": 75,
   "metadata": {},
   "outputs": [],
   "source": [
    "df1['internal_memory'] = df1['internal_memory'].astype(float)"
   ]
  },
  {
   "cell_type": "code",
   "execution_count": 77,
   "metadata": {},
   "outputs": [],
   "source": [
    "df1['ram_capacity'] = df1['ram_capacity'].astype(float)"
   ]
  },
  {
   "cell_type": "code",
   "execution_count": 84,
   "metadata": {},
   "outputs": [],
   "source": [
    "temp_df = df1[df1['internal_memory'] == 1]"
   ]
  },
  {
   "cell_type": "code",
   "execution_count": 85,
   "metadata": {},
   "outputs": [],
   "source": [
    "df1.loc[temp_df.index, 'internal_memory'] = 1024"
   ]
  },
  {
   "cell_type": "code",
   "execution_count": 95,
   "metadata": {},
   "outputs": [],
   "source": [
    "battery_capacity = df1['battery'].str.strip().str.split('with').str.get(0).str.split(' ').str.get(0).str.replace('\\u2009', ' ').str.split(' ').str.get(0).astype(float)"
   ]
  },
  {
   "cell_type": "code",
   "execution_count": 97,
   "metadata": {},
   "outputs": [],
   "source": [
    "df1.insert(17,'battery_capacity', battery_capacity)"
   ]
  },
  {
   "cell_type": "code",
   "execution_count": 99,
   "metadata": {},
   "outputs": [
    {
     "data": {
      "text/html": [
       "<div>\n",
       "<style scoped>\n",
       "    .dataframe tbody tr th:only-of-type {\n",
       "        vertical-align: middle;\n",
       "    }\n",
       "\n",
       "    .dataframe tbody tr th {\n",
       "        vertical-align: top;\n",
       "    }\n",
       "\n",
       "    .dataframe thead th {\n",
       "        text-align: right;\n",
       "    }\n",
       "</style>\n",
       "<table border=\"1\" class=\"dataframe\">\n",
       "  <thead>\n",
       "    <tr style=\"text-align: right;\">\n",
       "      <th></th>\n",
       "      <th>brand_name</th>\n",
       "      <th>model</th>\n",
       "      <th>price</th>\n",
       "      <th>rating</th>\n",
       "      <th>sim</th>\n",
       "      <th>has_5g</th>\n",
       "      <th>has_nfc</th>\n",
       "      <th>has_ir_blaster</th>\n",
       "      <th>processor</th>\n",
       "      <th>processor_name</th>\n",
       "      <th>...</th>\n",
       "      <th>processor_speed</th>\n",
       "      <th>ram</th>\n",
       "      <th>ram_capacity</th>\n",
       "      <th>internal_memory</th>\n",
       "      <th>battery</th>\n",
       "      <th>battery_capacity</th>\n",
       "      <th>display</th>\n",
       "      <th>camera</th>\n",
       "      <th>card</th>\n",
       "      <th>os</th>\n",
       "    </tr>\n",
       "  </thead>\n",
       "  <tbody>\n",
       "    <tr>\n",
       "      <th>0</th>\n",
       "      <td>xiaomi</td>\n",
       "      <td>Xiaomi Redmi Note 13 Pro Max 5G</td>\n",
       "      <td>22999</td>\n",
       "      <td>87</td>\n",
       "      <td>Dual Sim, 3G, 4G, 5G, VoLTE, Wi-Fi, NFC, IR Bl...</td>\n",
       "      <td>True</td>\n",
       "      <td>True</td>\n",
       "      <td>True</td>\n",
       "      <td>Snapdragon  7 Gen1, Octa Core, 2.4 GHz Processor</td>\n",
       "      <td>Snapdragon  7 Gen1</td>\n",
       "      <td>...</td>\n",
       "      <td>2.4</td>\n",
       "      <td>12 GB RAM, 256 GB inbuilt</td>\n",
       "      <td>12.0</td>\n",
       "      <td>256.0</td>\n",
       "      <td>5200 mAh Battery with 120W Fast Charging</td>\n",
       "      <td>5200.0</td>\n",
       "      <td>6.67 inches, 1220 x 2712 px, 144 Hz Display wi...</td>\n",
       "      <td>200 MP + 13 MP + 8 MP Triple Rear &amp; 32 MP Fron...</td>\n",
       "      <td>Memory Card Not Supported</td>\n",
       "      <td>Android v13</td>\n",
       "    </tr>\n",
       "    <tr>\n",
       "      <th>1</th>\n",
       "      <td>iqoo</td>\n",
       "      <td>iQOO 12 Pro</td>\n",
       "      <td>64990</td>\n",
       "      <td>92</td>\n",
       "      <td>Dual Sim, 3G, 4G, 5G, VoLTE, Wi-Fi, NFC, IR Bl...</td>\n",
       "      <td>True</td>\n",
       "      <td>True</td>\n",
       "      <td>True</td>\n",
       "      <td>Snapdragon 8 Gen3, Octa Core, 3.3 GHz Processor</td>\n",
       "      <td>Snapdragon 8 Gen3</td>\n",
       "      <td>...</td>\n",
       "      <td>3.3</td>\n",
       "      <td>16 GB RAM, 256 GB inbuilt</td>\n",
       "      <td>16.0</td>\n",
       "      <td>256.0</td>\n",
       "      <td>5100 mAh Battery with 120W Fast Charging</td>\n",
       "      <td>5100.0</td>\n",
       "      <td>6.78 inches, 1440 x 3200 px, 144 Hz Display wi...</td>\n",
       "      <td>64 MP + 50 MP + 50 MP Triple Rear &amp; 16 MP Fron...</td>\n",
       "      <td>NaN</td>\n",
       "      <td>Android v14</td>\n",
       "    </tr>\n",
       "  </tbody>\n",
       "</table>\n",
       "<p>2 rows × 22 columns</p>\n",
       "</div>"
      ],
      "text/plain": [
       "  brand_name                            model  price  rating  \\\n",
       "0     xiaomi  Xiaomi Redmi Note 13 Pro Max 5G  22999      87   \n",
       "1       iqoo                      iQOO 12 Pro  64990      92   \n",
       "\n",
       "                                                 sim  has_5g  has_nfc  \\\n",
       "0  Dual Sim, 3G, 4G, 5G, VoLTE, Wi-Fi, NFC, IR Bl...    True     True   \n",
       "1  Dual Sim, 3G, 4G, 5G, VoLTE, Wi-Fi, NFC, IR Bl...    True     True   \n",
       "\n",
       "   has_ir_blaster                                         processor  \\\n",
       "0            True  Snapdragon  7 Gen1, Octa Core, 2.4 GHz Processor   \n",
       "1            True   Snapdragon 8 Gen3, Octa Core, 3.3 GHz Processor   \n",
       "\n",
       "       processor_name  ... processor_speed                        ram  \\\n",
       "0  Snapdragon  7 Gen1  ...             2.4  12 GB RAM, 256 GB inbuilt   \n",
       "1   Snapdragon 8 Gen3  ...             3.3  16 GB RAM, 256 GB inbuilt   \n",
       "\n",
       "   ram_capacity internal_memory                                   battery  \\\n",
       "0          12.0           256.0  5200 mAh Battery with 120W Fast Charging   \n",
       "1          16.0           256.0  5100 mAh Battery with 120W Fast Charging   \n",
       "\n",
       "   battery_capacity                                            display  \\\n",
       "0            5200.0  6.67 inches, 1220 x 2712 px, 144 Hz Display wi...   \n",
       "1            5100.0  6.78 inches, 1440 x 3200 px, 144 Hz Display wi...   \n",
       "\n",
       "                                              camera  \\\n",
       "0  200 MP + 13 MP + 8 MP Triple Rear & 32 MP Fron...   \n",
       "1  64 MP + 50 MP + 50 MP Triple Rear & 16 MP Fron...   \n",
       "\n",
       "                        card           os  \n",
       "0  Memory Card Not Supported  Android v13  \n",
       "1                        NaN  Android v14  \n",
       "\n",
       "[2 rows x 22 columns]"
      ]
     },
     "execution_count": 99,
     "metadata": {},
     "output_type": "execute_result"
    }
   ],
   "source": [
    "df1.head(2)"
   ]
  },
  {
   "cell_type": "code",
   "execution_count": 105,
   "metadata": {},
   "outputs": [],
   "source": [
    "fast_charging = df1['battery'].str.strip().str.split('with').str.get(1).str.strip().str.split(' ').str.get(0).str.replace('W','')"
   ]
  },
  {
   "cell_type": "code",
   "execution_count": 106,
   "metadata": {},
   "outputs": [],
   "source": [
    "df1.insert(18,'fast_charging', fast_charging)"
   ]
  },
  {
   "cell_type": "code",
   "execution_count": 118,
   "metadata": {},
   "outputs": [],
   "source": [
    "df1['fast_charging'] = df1['fast_charging'].replace('Fast', 0)"
   ]
  },
  {
   "cell_type": "code",
   "execution_count": 122,
   "metadata": {},
   "outputs": [],
   "source": [
    "df1['fast_charging'] = df1['fast_charging'].fillna(-1)"
   ]
  },
  {
   "cell_type": "code",
   "execution_count": 126,
   "metadata": {},
   "outputs": [],
   "source": [
    "df1['fast_charging'] = df1['fast_charging'].astype(float)"
   ]
  },
  {
   "cell_type": "code",
   "execution_count": 128,
   "metadata": {},
   "outputs": [],
   "source": [
    "df1.to_csv(\"C:\\\\Users\\\\sanja\\\\Downloads\\\\scrap_phone1_cleaned1.csv\", index=False)"
   ]
  },
  {
   "cell_type": "code",
   "execution_count": 1,
   "metadata": {},
   "outputs": [],
   "source": [
    "import pandas as pd\n",
    "import numpy as np"
   ]
  },
  {
   "cell_type": "code",
   "execution_count": 2,
   "metadata": {},
   "outputs": [
    {
     "data": {
      "text/html": [
       "<div>\n",
       "<style scoped>\n",
       "    .dataframe tbody tr th:only-of-type {\n",
       "        vertical-align: middle;\n",
       "    }\n",
       "\n",
       "    .dataframe tbody tr th {\n",
       "        vertical-align: top;\n",
       "    }\n",
       "\n",
       "    .dataframe thead th {\n",
       "        text-align: right;\n",
       "    }\n",
       "</style>\n",
       "<table border=\"1\" class=\"dataframe\">\n",
       "  <thead>\n",
       "    <tr style=\"text-align: right;\">\n",
       "      <th></th>\n",
       "      <th>brand_name</th>\n",
       "      <th>model</th>\n",
       "      <th>price</th>\n",
       "      <th>rating</th>\n",
       "      <th>sim</th>\n",
       "      <th>has_5g</th>\n",
       "      <th>has_nfc</th>\n",
       "      <th>has_ir_blaster</th>\n",
       "      <th>processor</th>\n",
       "      <th>processor_name</th>\n",
       "      <th>...</th>\n",
       "      <th>ram</th>\n",
       "      <th>ram_capacity</th>\n",
       "      <th>internal_memory</th>\n",
       "      <th>battery</th>\n",
       "      <th>battery_capacity</th>\n",
       "      <th>fast_charging</th>\n",
       "      <th>display</th>\n",
       "      <th>camera</th>\n",
       "      <th>card</th>\n",
       "      <th>os</th>\n",
       "    </tr>\n",
       "  </thead>\n",
       "  <tbody>\n",
       "    <tr>\n",
       "      <th>0</th>\n",
       "      <td>xiaomi</td>\n",
       "      <td>Xiaomi Redmi Note 13 Pro Max 5G</td>\n",
       "      <td>22999</td>\n",
       "      <td>87</td>\n",
       "      <td>Dual Sim, 3G, 4G, 5G, VoLTE, Wi-Fi, NFC, IR Bl...</td>\n",
       "      <td>True</td>\n",
       "      <td>True</td>\n",
       "      <td>True</td>\n",
       "      <td>Snapdragon  7 Gen1, Octa Core, 2.4 GHz Processor</td>\n",
       "      <td>Snapdragon  7 Gen1</td>\n",
       "      <td>...</td>\n",
       "      <td>12 GB RAM, 256 GB inbuilt</td>\n",
       "      <td>12.0</td>\n",
       "      <td>256.0</td>\n",
       "      <td>5200 mAh Battery with 120W Fast Charging</td>\n",
       "      <td>5200.0</td>\n",
       "      <td>120.0</td>\n",
       "      <td>6.67 inches, 1220 x 2712 px, 144 Hz Display wi...</td>\n",
       "      <td>200 MP + 13 MP + 8 MP Triple Rear &amp; 32 MP Fron...</td>\n",
       "      <td>Memory Card Not Supported</td>\n",
       "      <td>Android v13</td>\n",
       "    </tr>\n",
       "    <tr>\n",
       "      <th>1</th>\n",
       "      <td>iqoo</td>\n",
       "      <td>iQOO 12 Pro</td>\n",
       "      <td>64990</td>\n",
       "      <td>92</td>\n",
       "      <td>Dual Sim, 3G, 4G, 5G, VoLTE, Wi-Fi, NFC, IR Bl...</td>\n",
       "      <td>True</td>\n",
       "      <td>True</td>\n",
       "      <td>True</td>\n",
       "      <td>Snapdragon 8 Gen3, Octa Core, 3.3 GHz Processor</td>\n",
       "      <td>Snapdragon 8 Gen3</td>\n",
       "      <td>...</td>\n",
       "      <td>16 GB RAM, 256 GB inbuilt</td>\n",
       "      <td>16.0</td>\n",
       "      <td>256.0</td>\n",
       "      <td>5100 mAh Battery with 120W Fast Charging</td>\n",
       "      <td>5100.0</td>\n",
       "      <td>120.0</td>\n",
       "      <td>6.78 inches, 1440 x 3200 px, 144 Hz Display wi...</td>\n",
       "      <td>64 MP + 50 MP + 50 MP Triple Rear &amp; 16 MP Fron...</td>\n",
       "      <td>NaN</td>\n",
       "      <td>Android v14</td>\n",
       "    </tr>\n",
       "  </tbody>\n",
       "</table>\n",
       "<p>2 rows × 23 columns</p>\n",
       "</div>"
      ],
      "text/plain": [
       "  brand_name                            model  price  rating  \\\n",
       "0     xiaomi  Xiaomi Redmi Note 13 Pro Max 5G  22999      87   \n",
       "1       iqoo                      iQOO 12 Pro  64990      92   \n",
       "\n",
       "                                                 sim  has_5g  has_nfc  \\\n",
       "0  Dual Sim, 3G, 4G, 5G, VoLTE, Wi-Fi, NFC, IR Bl...    True     True   \n",
       "1  Dual Sim, 3G, 4G, 5G, VoLTE, Wi-Fi, NFC, IR Bl...    True     True   \n",
       "\n",
       "   has_ir_blaster                                         processor  \\\n",
       "0            True  Snapdragon  7 Gen1, Octa Core, 2.4 GHz Processor   \n",
       "1            True   Snapdragon 8 Gen3, Octa Core, 3.3 GHz Processor   \n",
       "\n",
       "       processor_name  ...                        ram ram_capacity  \\\n",
       "0  Snapdragon  7 Gen1  ...  12 GB RAM, 256 GB inbuilt         12.0   \n",
       "1   Snapdragon 8 Gen3  ...  16 GB RAM, 256 GB inbuilt         16.0   \n",
       "\n",
       "   internal_memory                                   battery  \\\n",
       "0            256.0  5200 mAh Battery with 120W Fast Charging   \n",
       "1            256.0  5100 mAh Battery with 120W Fast Charging   \n",
       "\n",
       "   battery_capacity  fast_charging  \\\n",
       "0            5200.0          120.0   \n",
       "1            5100.0          120.0   \n",
       "\n",
       "                                             display  \\\n",
       "0  6.67 inches, 1220 x 2712 px, 144 Hz Display wi...   \n",
       "1  6.78 inches, 1440 x 3200 px, 144 Hz Display wi...   \n",
       "\n",
       "                                              camera  \\\n",
       "0  200 MP + 13 MP + 8 MP Triple Rear & 32 MP Fron...   \n",
       "1  64 MP + 50 MP + 50 MP Triple Rear & 16 MP Fron...   \n",
       "\n",
       "                        card           os  \n",
       "0  Memory Card Not Supported  Android v13  \n",
       "1                        NaN  Android v14  \n",
       "\n",
       "[2 rows x 23 columns]"
      ]
     },
     "execution_count": 2,
     "metadata": {},
     "output_type": "execute_result"
    }
   ],
   "source": [
    "df1 = pd.read_csv(\"C:\\\\Users\\\\sanja\\\\Downloads\\\\scrap_phone1_cleaned1.csv\")\n",
    "df1.head(2)"
   ]
  },
  {
   "cell_type": "code",
   "execution_count": 3,
   "metadata": {},
   "outputs": [],
   "source": [
    "screen_size = df1['display'].str.strip().str.split(\",\").str.get(0).str.strip().str.split(' ').str.get(0).astype(float)"
   ]
  },
  {
   "cell_type": "code",
   "execution_count": 4,
   "metadata": {},
   "outputs": [],
   "source": [
    "df1.insert(20,'screen_size', screen_size)"
   ]
  },
  {
   "cell_type": "code",
   "execution_count": 5,
   "metadata": {},
   "outputs": [],
   "source": [
    "pd.set_option('display.max_row', None)\n",
    "pd.set_option('display.max_columns', None)"
   ]
  },
  {
   "cell_type": "code",
   "execution_count": 6,
   "metadata": {},
   "outputs": [],
   "source": [
    "resolution = df1['display'].str.strip().str.split(\",\").str.get(1).str.split('px').str.get(0)"
   ]
  },
  {
   "cell_type": "code",
   "execution_count": 7,
   "metadata": {},
   "outputs": [],
   "source": [
    "df1.insert(21,'resolution', resolution)"
   ]
  },
  {
   "cell_type": "code",
   "execution_count": 8,
   "metadata": {},
   "outputs": [],
   "source": [
    "refresh_rate = df1['display'].str.strip().str.split(\",\").str.get(2).str.split('Hz').str.get(0).apply(lambda x: 60 if pd.isna(x) else x).astype(int)"
   ]
  },
  {
   "cell_type": "code",
   "execution_count": 9,
   "metadata": {},
   "outputs": [],
   "source": [
    "df1.insert(22,'refresh_rate', refresh_rate)"
   ]
  },
  {
   "cell_type": "code",
   "execution_count": 10,
   "metadata": {},
   "outputs": [],
   "source": [
    "def extract_camera(text):\n",
    "\n",
    "    if 'Quad' in text:\n",
    "        return 4\n",
    "    elif 'Triple' in text:\n",
    "        return 3\n",
    "    elif 'Dual' in text:\n",
    "        return 2\n",
    "    elif 'Missing' in text:\n",
    "        return 'Missing'\n",
    "    else:\n",
    "        return 1"
   ]
  },
  {
   "cell_type": "code",
   "execution_count": 11,
   "metadata": {},
   "outputs": [],
   "source": [
    "num_rear_camera = df1['camera'].str.strip().str.split(\"&\").str.get(0).apply(extract_camera)"
   ]
  },
  {
   "cell_type": "code",
   "execution_count": 12,
   "metadata": {},
   "outputs": [],
   "source": [
    "df1.insert(24,'num_rear_camera', num_rear_camera)"
   ]
  },
  {
   "cell_type": "code",
   "execution_count": 13,
   "metadata": {},
   "outputs": [],
   "source": [
    "num_front_camera = df1['camera'].str.strip().str.split(\"&\").str.get(1).str.strip().fillna('Missing').apply(extract_camera)"
   ]
  },
  {
   "cell_type": "code",
   "execution_count": 14,
   "metadata": {},
   "outputs": [],
   "source": [
    "df1.insert(25,'num_front_camera', num_front_camera)"
   ]
  },
  {
   "cell_type": "code",
   "execution_count": 15,
   "metadata": {},
   "outputs": [],
   "source": [
    "primary_camera_rear = df1['camera'].str.strip().str.split(\"&\").str.get(0).str.split('+').str.get(0).str.split('MP').str.get(0).astype(float)"
   ]
  },
  {
   "cell_type": "code",
   "execution_count": 16,
   "metadata": {},
   "outputs": [],
   "source": [
    "df1.insert(26,'primary_camera_rear', primary_camera_rear)"
   ]
  },
  {
   "cell_type": "code",
   "execution_count": 17,
   "metadata": {},
   "outputs": [],
   "source": [
    "primary_camera_front = df1['camera'].str.strip().str.split(\"&\").str.get(1).str.split('MP').str.get(0).astype(float)"
   ]
  },
  {
   "cell_type": "code",
   "execution_count": 18,
   "metadata": {},
   "outputs": [],
   "source": [
    "df1.insert(27,'primary_camera_front', primary_camera_front)"
   ]
  },
  {
   "cell_type": "code",
   "execution_count": 27,
   "metadata": {},
   "outputs": [],
   "source": [
    "df1['os'] = df1['os'].str.strip().str.split(' ').str.get(0).str.replace('Flyme', 'others').str.replace('Hongmeng','others').str.replace('HarmonyOS','others').str.replace('EMUI','others').str.replace('Harmony','others')"
   ]
  },
  {
   "cell_type": "code",
   "execution_count": 28,
   "metadata": {},
   "outputs": [
    {
     "data": {
      "text/plain": [
       "Android    887\n",
       "iOS         32\n",
       "others      16\n",
       "Name: os, dtype: int64"
      ]
     },
     "execution_count": 28,
     "metadata": {},
     "output_type": "execute_result"
    }
   ],
   "source": [
    "df1['os'].value_counts()"
   ]
  },
  {
   "cell_type": "code",
   "execution_count": 39,
   "metadata": {},
   "outputs": [],
   "source": [
    "def is_fast_charging(text):\n",
    "\n",
    "    if 'Fast Charging' in text:\n",
    "        return 1\n",
    "    else:\n",
    "        return 0"
   ]
  },
  {
   "cell_type": "code",
   "execution_count": 49,
   "metadata": {},
   "outputs": [],
   "source": [
    "df1['fast_charging'].replace(-1, np.nan,inplace=True)"
   ]
  },
  {
   "cell_type": "code",
   "execution_count": 50,
   "metadata": {},
   "outputs": [
    {
     "data": {
      "text/plain": [
       "25"
      ]
     },
     "execution_count": 50,
     "metadata": {},
     "output_type": "execute_result"
    }
   ],
   "source": [
    "df1['fast_charging'].isnull().sum()"
   ]
  },
  {
   "cell_type": "code",
   "execution_count": 52,
   "metadata": {},
   "outputs": [],
   "source": [
    "fast_charging_available = df1['battery'].apply(is_fast_charging)"
   ]
  },
  {
   "cell_type": "code",
   "execution_count": 54,
   "metadata": {},
   "outputs": [],
   "source": [
    "df1.insert(18, 'fast_charging_available', fast_charging_available)"
   ]
  },
  {
   "cell_type": "code",
   "execution_count": 68,
   "metadata": {},
   "outputs": [],
   "source": [
    "df1['num_core'] = df1['num_core'].replace('Octa Core',8).replace('Hexa Core',6).replace('Quad Core',4).replace('Nine Core',9).replace('Deca Core',10)"
   ]
  },
  {
   "cell_type": "code",
   "execution_count": 70,
   "metadata": {},
   "outputs": [
    {
     "data": {
      "text/html": [
       "<div>\n",
       "<style scoped>\n",
       "    .dataframe tbody tr th:only-of-type {\n",
       "        vertical-align: middle;\n",
       "    }\n",
       "\n",
       "    .dataframe tbody tr th {\n",
       "        vertical-align: top;\n",
       "    }\n",
       "\n",
       "    .dataframe thead th {\n",
       "        text-align: right;\n",
       "    }\n",
       "</style>\n",
       "<table border=\"1\" class=\"dataframe\">\n",
       "  <thead>\n",
       "    <tr style=\"text-align: right;\">\n",
       "      <th></th>\n",
       "      <th>brand_name</th>\n",
       "      <th>model</th>\n",
       "      <th>price</th>\n",
       "      <th>rating</th>\n",
       "      <th>sim</th>\n",
       "      <th>has_5g</th>\n",
       "      <th>has_nfc</th>\n",
       "      <th>has_ir_blaster</th>\n",
       "      <th>processor</th>\n",
       "      <th>processor_name</th>\n",
       "      <th>processor_brand</th>\n",
       "      <th>num_core</th>\n",
       "      <th>processor_speed</th>\n",
       "      <th>ram</th>\n",
       "      <th>ram_capacity</th>\n",
       "      <th>internal_memory</th>\n",
       "      <th>battery</th>\n",
       "      <th>battery_capacity</th>\n",
       "      <th>fast_charging_available</th>\n",
       "      <th>fast_charging</th>\n",
       "      <th>display</th>\n",
       "      <th>screen_size</th>\n",
       "      <th>resolution</th>\n",
       "      <th>refresh_rate</th>\n",
       "      <th>camera</th>\n",
       "      <th>num_rear_camera</th>\n",
       "      <th>num_front_camera</th>\n",
       "      <th>primary_camera_rear</th>\n",
       "      <th>primary_camera_front</th>\n",
       "      <th>card</th>\n",
       "      <th>os</th>\n",
       "    </tr>\n",
       "  </thead>\n",
       "  <tbody>\n",
       "    <tr>\n",
       "      <th>0</th>\n",
       "      <td>xiaomi</td>\n",
       "      <td>Xiaomi Redmi Note 13 Pro Max 5G</td>\n",
       "      <td>22999</td>\n",
       "      <td>87</td>\n",
       "      <td>Dual Sim, 3G, 4G, 5G, VoLTE, Wi-Fi, NFC, IR Bl...</td>\n",
       "      <td>True</td>\n",
       "      <td>True</td>\n",
       "      <td>True</td>\n",
       "      <td>Snapdragon  7 Gen1, Octa Core, 2.4 GHz Processor</td>\n",
       "      <td>Snapdragon  7 Gen1</td>\n",
       "      <td>snapdragon</td>\n",
       "      <td>8.0</td>\n",
       "      <td>2.4</td>\n",
       "      <td>12 GB RAM, 256 GB inbuilt</td>\n",
       "      <td>12.0</td>\n",
       "      <td>256.0</td>\n",
       "      <td>5200 mAh Battery with 120W Fast Charging</td>\n",
       "      <td>5200.0</td>\n",
       "      <td>1</td>\n",
       "      <td>120.0</td>\n",
       "      <td>6.67 inches, 1220 x 2712 px, 144 Hz Display wi...</td>\n",
       "      <td>6.67</td>\n",
       "      <td>1220 x 2712</td>\n",
       "      <td>144</td>\n",
       "      <td>200 MP + 13 MP + 8 MP Triple Rear &amp; 32 MP Fron...</td>\n",
       "      <td>3</td>\n",
       "      <td>1</td>\n",
       "      <td>200.0</td>\n",
       "      <td>32.0</td>\n",
       "      <td>Memory Card Not Supported</td>\n",
       "      <td>Android</td>\n",
       "    </tr>\n",
       "  </tbody>\n",
       "</table>\n",
       "</div>"
      ],
      "text/plain": [
       "  brand_name                            model  price  rating  \\\n",
       "0     xiaomi  Xiaomi Redmi Note 13 Pro Max 5G  22999      87   \n",
       "\n",
       "                                                 sim  has_5g  has_nfc  \\\n",
       "0  Dual Sim, 3G, 4G, 5G, VoLTE, Wi-Fi, NFC, IR Bl...    True     True   \n",
       "\n",
       "   has_ir_blaster                                         processor  \\\n",
       "0            True  Snapdragon  7 Gen1, Octa Core, 2.4 GHz Processor   \n",
       "\n",
       "       processor_name processor_brand  num_core  processor_speed  \\\n",
       "0  Snapdragon  7 Gen1      snapdragon       8.0              2.4   \n",
       "\n",
       "                         ram  ram_capacity  internal_memory  \\\n",
       "0  12 GB RAM, 256 GB inbuilt          12.0            256.0   \n",
       "\n",
       "                                    battery  battery_capacity  \\\n",
       "0  5200 mAh Battery with 120W Fast Charging            5200.0   \n",
       "\n",
       "   fast_charging_available  fast_charging  \\\n",
       "0                        1          120.0   \n",
       "\n",
       "                                             display  screen_size  \\\n",
       "0  6.67 inches, 1220 x 2712 px, 144 Hz Display wi...         6.67   \n",
       "\n",
       "      resolution  refresh_rate  \\\n",
       "0   1220 x 2712            144   \n",
       "\n",
       "                                              camera  num_rear_camera  \\\n",
       "0  200 MP + 13 MP + 8 MP Triple Rear & 32 MP Fron...                3   \n",
       "\n",
       "  num_front_camera  primary_camera_rear  primary_camera_front  \\\n",
       "0                1                200.0                  32.0   \n",
       "\n",
       "                        card       os  \n",
       "0  Memory Card Not Supported  Android  "
      ]
     },
     "execution_count": 70,
     "metadata": {},
     "output_type": "execute_result"
    }
   ],
   "source": [
    "df1.head(1)"
   ]
  },
  {
   "cell_type": "code",
   "execution_count": 74,
   "metadata": {},
   "outputs": [
    {
     "data": {
      "text/plain": [
       "Memory Card Not Supported              166\n",
       "Memory Card Supported, upto 1 TB       136\n",
       "Memory Card (Hybrid), upto 1 TB        114\n",
       "Memory Card Supported                   55\n",
       "Memory Card (Hybrid)                    39\n",
       "Memory Card Supported, upto 512 GB      38\n",
       "Memory Card Supported, upto 256 GB      25\n",
       "Memory Card Supported, upto 2 TB        18\n",
       "Memory Card (Hybrid), upto 256 GB       12\n",
       "Memory Card (Hybrid), upto 512 GB       10\n",
       "Memory Card (Hybrid), upto 128 GB        5\n",
       "Memory Card (Hybrid), upto 2 TB          4\n",
       "Memory Card Supported, upto 1000 GB      2\n",
       "Name: card, dtype: int64"
      ]
     },
     "execution_count": 74,
     "metadata": {},
     "output_type": "execute_result"
    }
   ],
   "source": [
    "df1['card'].value_counts()"
   ]
  },
  {
   "cell_type": "code",
   "execution_count": 75,
   "metadata": {},
   "outputs": [],
   "source": [
    "def memory_card(text):\n",
    "\n",
    "    if 'Memory Card Not Supported' in text:\n",
    "        return 0\n",
    "    elif 'Missing' in text:\n",
    "        return 'Missing'\n",
    "    else:\n",
    "        return 1"
   ]
  },
  {
   "cell_type": "code",
   "execution_count": 77,
   "metadata": {},
   "outputs": [],
   "source": [
    "extended_memory_available = df1['card'].str.strip().fillna('Missing').apply(memory_card)"
   ]
  },
  {
   "cell_type": "code",
   "execution_count": 78,
   "metadata": {},
   "outputs": [
    {
     "data": {
      "text/plain": [
       "Index(['brand_name', 'model', 'price', 'rating', 'sim', 'has_5g', 'has_nfc',\n",
       "       'has_ir_blaster', 'processor', 'processor_name', 'processor_brand',\n",
       "       'num_core', 'processor_speed', 'ram', 'ram_capacity', 'internal_memory',\n",
       "       'battery', 'battery_capacity', 'fast_charging_available',\n",
       "       'fast_charging', 'display', 'screen_size', 'resolution', 'refresh_rate',\n",
       "       'camera', 'num_rear_camera', 'num_front_camera', 'primary_camera_rear',\n",
       "       'primary_camera_front', 'card', 'os'],\n",
       "      dtype='object')"
      ]
     },
     "execution_count": 78,
     "metadata": {},
     "output_type": "execute_result"
    }
   ],
   "source": [
    "df1.columns"
   ]
  },
  {
   "cell_type": "code",
   "execution_count": 79,
   "metadata": {},
   "outputs": [],
   "source": [
    "df1.insert(30,'extended_memory_available', extended_memory_available)"
   ]
  },
  {
   "cell_type": "code",
   "execution_count": 92,
   "metadata": {},
   "outputs": [
    {
     "data": {
      "text/plain": [
       "Memory Card Not Supported              166\n",
       "Memory Card Supported, upto 1 TB       136\n",
       "Memory Card (Hybrid), upto 1 TB        114\n",
       "Memory Card Supported                   55\n",
       "Memory Card (Hybrid)                    39\n",
       "Memory Card Supported, upto 512 GB      38\n",
       "Memory Card Supported, upto 256 GB      25\n",
       "Memory Card Supported, upto 2 TB        18\n",
       "Memory Card (Hybrid), upto 256 GB       12\n",
       "Memory Card (Hybrid), upto 512 GB       10\n",
       "Memory Card (Hybrid), upto 128 GB        5\n",
       "Memory Card (Hybrid), upto 2 TB          4\n",
       "Memory Card Supported, upto 1000 GB      2\n",
       "Name: card, dtype: int64"
      ]
     },
     "execution_count": 92,
     "metadata": {},
     "output_type": "execute_result"
    }
   ],
   "source": [
    "df1['card'].value_counts()"
   ]
  },
  {
   "cell_type": "code",
   "execution_count": 133,
   "metadata": {},
   "outputs": [],
   "source": [
    "extended_uptp = df1['card'].str.split('upto').str.get(1).str.replace('TB','').str.replace('GB','').astype(float).replace(1,1024).replace(2,2048)"
   ]
  },
  {
   "cell_type": "code",
   "execution_count": 136,
   "metadata": {},
   "outputs": [],
   "source": [
    "df1.insert(31,'extended_upto', extended_uptp)"
   ]
  },
  {
   "cell_type": "code",
   "execution_count": 137,
   "metadata": {},
   "outputs": [],
   "source": [
    "df1.drop(columns=['sim','processor','processor_name','ram','battery','display','camera','card','extended_uptp'],inplace=True)"
   ]
  },
  {
   "cell_type": "code",
   "execution_count": 140,
   "metadata": {},
   "outputs": [],
   "source": [
    "df1.to_csv(\"C:\\\\Users\\\\sanja\\\\Downloads\\\\scrap_phone_cleaned.csv\", index=False)"
   ]
  },
  {
   "cell_type": "code",
   "execution_count": 141,
   "metadata": {},
   "outputs": [
    {
     "data": {
      "text/plain": [
       "(966, 25)"
      ]
     },
     "execution_count": 141,
     "metadata": {},
     "output_type": "execute_result"
    }
   ],
   "source": [
    "df1.shape"
   ]
  }
 ],
 "metadata": {
  "kernelspec": {
   "display_name": "Python 3",
   "language": "python",
   "name": "python3"
  },
  "language_info": {
   "codemirror_mode": {
    "name": "ipython",
    "version": 3
   },
   "file_extension": ".py",
   "mimetype": "text/x-python",
   "name": "python",
   "nbconvert_exporter": "python",
   "pygments_lexer": "ipython3",
   "version": "3.11.1"
  }
 },
 "nbformat": 4,
 "nbformat_minor": 2
}
