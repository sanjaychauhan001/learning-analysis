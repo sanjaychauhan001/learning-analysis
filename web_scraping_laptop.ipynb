{
 "cells": [
  {
   "cell_type": "code",
   "execution_count": 2,
   "metadata": {},
   "outputs": [],
   "source": [
    "from selenium import webdriver\n",
    "from selenium.webdriver.chrome.service import Service\n",
    "from selenium.webdriver.common.by import By\n",
    "import pandas as pd\n",
    "import numpy as np\n",
    "import time\n",
    "from bs4 import BeautifulSoup"
   ]
  },
  {
   "cell_type": "code",
   "execution_count": 3,
   "metadata": {},
   "outputs": [
    {
     "name": "stdout",
     "output_type": "stream",
     "text": [
      "Successful\n"
     ]
    }
   ],
   "source": [
    "s = Service(\"C:/Users/sanja/OneDrive/Desktop/chromedriver-win64/chromedriver.exe\")\n",
    "driver = webdriver.Chrome(service=s)\n",
    "driver.get('https://www.smartprix.com/laptops')\n",
    "time.sleep(2)\n",
    "old_height = driver.execute_script('return document.body.scrollHeight')\n",
    "while True:\n",
    "    driver.find_element(by=By.XPATH, value='//*[@id=\"app\"]/main/div[1]/div[3]/div[3]').click()\n",
    "    time.sleep(3)\n",
    "    new_height = driver.execute_script('return document.body.scrollHeight')\n",
    "    \n",
    "    if old_height == new_height:\n",
    "        break\n",
    "\n",
    "    old_height = new_height\n",
    "\n",
    "print(\"Successful\")\n",
    "html_code = driver.page_source     "
   ]
  },
  {
   "cell_type": "code",
   "execution_count": 4,
   "metadata": {},
   "outputs": [],
   "source": [
    "soup = BeautifulSoup(html_code, \"lxml\")"
   ]
  },
  {
   "cell_type": "code",
   "execution_count": 22,
   "metadata": {},
   "outputs": [],
   "source": [
    "laptops = soup.find_all('div', class_='sm-product has-tag has-features has-actions')\n",
    "name = []\n",
    "price = []    \n",
    "processor = []\n",
    "quad = []\n",
    "ram = []\n",
    "internal = []\n",
    "graphic = []\n",
    "screen = []\n",
    "os = []\n",
    "warrenty = []\n",
    "rating = []\n",
    "for laptop in laptops:\n",
    "    try:\n",
    "        name.append(laptop.find(\"h2\").text)\n",
    "    except:\n",
    "        name.append(np.nan)    \n",
    "\n",
    "    try:    \n",
    "        price.append(laptop.find('span').text)\n",
    "    except:\n",
    "        price.append(np.nan)\n",
    "\n",
    "    try:        \n",
    "        processor.append(laptop.find(\"ul\", class_='sm-feat specs').find_all('li')[0].text)\n",
    "    except:\n",
    "        processor.append(np.nan)\n",
    "\n",
    "    try:        \n",
    "        quad.append(laptop.find(\"ul\", class_='sm-feat specs').find_all('li')[1].text)\n",
    "    except:\n",
    "        quad.append(np.nan)  \n",
    "\n",
    "    try:      \n",
    "        ram.append(laptop.find(\"ul\", class_='sm-feat specs').find_all('li')[2].text)\n",
    "    except:\n",
    "        ram.append(np.nan)    \n",
    "\n",
    "    try:    \n",
    "        internal.append(laptop.find(\"ul\", class_='sm-feat specs').find_all('li')[3].text)\n",
    "    except:\n",
    "        internal.append(np.nan)    \n",
    "\n",
    "    try:    \n",
    "        graphic.append(laptop.find(\"ul\", class_='sm-feat specs').find_all('li')[4].text)\n",
    "    except:\n",
    "        graphic.append(np.nan)    \n",
    "\n",
    "    try:    \n",
    "        screen.append(laptop.find(\"ul\", class_='sm-feat specs').find_all('li')[5].text)\n",
    "    except:\n",
    "        screen.append(np.nan)    \n",
    "\n",
    "    try:    \n",
    "        os.append(laptop.find(\"ul\", class_='sm-feat specs').find_all('li')[6].text)\n",
    "    except:\n",
    "        os.append(np.nan)    \n",
    "\n",
    "    try:    \n",
    "        warrenty.append(laptop.find(\"ul\", class_='sm-feat specs').find_all('li')[7].text)\n",
    "    except:\n",
    "        warrenty.append(np.nan)\n",
    "\n",
    "    try:        \n",
    "        rating.append(laptop.find('b').text)\n",
    "    except:\n",
    "        rating.append(np.nan)   \n",
    "    "
   ]
  },
  {
   "cell_type": "code",
   "execution_count": 23,
   "metadata": {},
   "outputs": [],
   "source": [
    "df = pd.DataFrame({\"name\":name,\n",
    "                   \"rating\":rating,\n",
    "                   \"processor\":processor,\n",
    "                   \"quad\":quad,\n",
    "                   \"ram\":ram,\n",
    "                   \"internal\":internal,\n",
    "                   \"graphic\":graphic,\n",
    "                   \"os\":os,\n",
    "                   \"screen\":screen,\n",
    "                   \"warrenty\":warrenty,\n",
    "                   \"price\":price})"
   ]
  },
  {
   "cell_type": "code",
   "execution_count": 26,
   "metadata": {},
   "outputs": [],
   "source": [
    "df.to_csv(\"C:\\\\Users\\\\sanja\\\\Downloads\\\\laptop_scrap_uncleaned.csv\",index=False)"
   ]
  },
  {
   "cell_type": "code",
   "execution_count": null,
   "metadata": {},
   "outputs": [],
   "source": []
  },
  {
   "cell_type": "code",
   "execution_count": null,
   "metadata": {},
   "outputs": [],
   "source": []
  },
  {
   "cell_type": "code",
   "execution_count": null,
   "metadata": {},
   "outputs": [],
   "source": []
  },
  {
   "cell_type": "code",
   "execution_count": null,
   "metadata": {},
   "outputs": [],
   "source": []
  }
 ],
 "metadata": {
  "kernelspec": {
   "display_name": "Python 3",
   "language": "python",
   "name": "python3"
  },
  "language_info": {
   "codemirror_mode": {
    "name": "ipython",
    "version": 3
   },
   "file_extension": ".py",
   "mimetype": "text/x-python",
   "name": "python",
   "nbconvert_exporter": "python",
   "pygments_lexer": "ipython3",
   "version": "3.11.1"
  }
 },
 "nbformat": 4,
 "nbformat_minor": 2
}
