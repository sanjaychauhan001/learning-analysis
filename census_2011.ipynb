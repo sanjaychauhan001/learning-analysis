{
 "cells": [
  {
   "cell_type": "code",
   "execution_count": 1,
   "metadata": {},
   "outputs": [],
   "source": [
    "import pandas as pd\n"
   ]
  },
  {
   "cell_type": "code",
   "execution_count": 2,
   "metadata": {},
   "outputs": [
    {
     "data": {
      "text/html": [
       "<div>\n",
       "<style scoped>\n",
       "    .dataframe tbody tr th:only-of-type {\n",
       "        vertical-align: middle;\n",
       "    }\n",
       "\n",
       "    .dataframe tbody tr th {\n",
       "        vertical-align: top;\n",
       "    }\n",
       "\n",
       "    .dataframe thead th {\n",
       "        text-align: right;\n",
       "    }\n",
       "</style>\n",
       "<table border=\"1\" class=\"dataframe\">\n",
       "  <thead>\n",
       "    <tr style=\"text-align: right;\">\n",
       "      <th></th>\n",
       "      <th>State</th>\n",
       "      <th>District</th>\n",
       "      <th>Latitude</th>\n",
       "      <th>Longitude</th>\n",
       "    </tr>\n",
       "  </thead>\n",
       "  <tbody>\n",
       "    <tr>\n",
       "      <th>0</th>\n",
       "      <td>Andaman and Nicobar</td>\n",
       "      <td>Andaman Islands</td>\n",
       "      <td>12.382571</td>\n",
       "      <td>92.822911</td>\n",
       "    </tr>\n",
       "    <tr>\n",
       "      <th>1</th>\n",
       "      <td>Andaman and Nicobar</td>\n",
       "      <td>Nicobar Islands</td>\n",
       "      <td>7.835291</td>\n",
       "      <td>93.511601</td>\n",
       "    </tr>\n",
       "    <tr>\n",
       "      <th>2</th>\n",
       "      <td>Andhra Pradesh</td>\n",
       "      <td>Adilabad</td>\n",
       "      <td>19.284514</td>\n",
       "      <td>78.813212</td>\n",
       "    </tr>\n",
       "    <tr>\n",
       "      <th>3</th>\n",
       "      <td>Andhra Pradesh</td>\n",
       "      <td>Anantapur</td>\n",
       "      <td>14.312066</td>\n",
       "      <td>77.460158</td>\n",
       "    </tr>\n",
       "    <tr>\n",
       "      <th>4</th>\n",
       "      <td>Andhra Pradesh</td>\n",
       "      <td>Chittoor</td>\n",
       "      <td>13.331093</td>\n",
       "      <td>78.927639</td>\n",
       "    </tr>\n",
       "  </tbody>\n",
       "</table>\n",
       "</div>"
      ],
      "text/plain": [
       "                 State         District   Latitude  Longitude\n",
       "0  Andaman and Nicobar  Andaman Islands  12.382571  92.822911\n",
       "1  Andaman and Nicobar  Nicobar Islands   7.835291  93.511601\n",
       "2       Andhra Pradesh         Adilabad  19.284514  78.813212\n",
       "3       Andhra Pradesh        Anantapur  14.312066  77.460158\n",
       "4       Andhra Pradesh         Chittoor  13.331093  78.927639"
      ]
     },
     "execution_count": 2,
     "metadata": {},
     "output_type": "execute_result"
    }
   ],
   "source": [
    "latlong = pd.read_csv('C:\\\\Users\\\\sanja\\\\Downloads\\\\district wise centroids.csv')\n",
    "latlong.head()"
   ]
  },
  {
   "cell_type": "code",
   "execution_count": 3,
   "metadata": {},
   "outputs": [
    {
     "data": {
      "text/plain": [
       "(594, 4)"
      ]
     },
     "execution_count": 3,
     "metadata": {},
     "output_type": "execute_result"
    }
   ],
   "source": [
    "latlong.shape"
   ]
  },
  {
   "cell_type": "code",
   "execution_count": 4,
   "metadata": {},
   "outputs": [
    {
     "data": {
      "text/plain": [
       "State        0\n",
       "District     0\n",
       "Latitude     0\n",
       "Longitude    0\n",
       "dtype: int64"
      ]
     },
     "execution_count": 4,
     "metadata": {},
     "output_type": "execute_result"
    }
   ],
   "source": [
    "latlong.isnull().sum()"
   ]
  },
  {
   "cell_type": "code",
   "execution_count": 6,
   "metadata": {},
   "outputs": [
    {
     "data": {
      "text/plain": [
       "0"
      ]
     },
     "execution_count": 6,
     "metadata": {},
     "output_type": "execute_result"
    }
   ],
   "source": [
    "latlong.duplicated().sum()"
   ]
  },
  {
   "cell_type": "code",
   "execution_count": 3,
   "metadata": {},
   "outputs": [
    {
     "data": {
      "text/html": [
       "<div>\n",
       "<style scoped>\n",
       "    .dataframe tbody tr th:only-of-type {\n",
       "        vertical-align: middle;\n",
       "    }\n",
       "\n",
       "    .dataframe tbody tr th {\n",
       "        vertical-align: top;\n",
       "    }\n",
       "\n",
       "    .dataframe thead th {\n",
       "        text-align: right;\n",
       "    }\n",
       "</style>\n",
       "<table border=\"1\" class=\"dataframe\">\n",
       "  <thead>\n",
       "    <tr style=\"text-align: right;\">\n",
       "      <th></th>\n",
       "      <th>District code</th>\n",
       "      <th>State name</th>\n",
       "      <th>District name</th>\n",
       "      <th>Population</th>\n",
       "      <th>Male</th>\n",
       "      <th>Female</th>\n",
       "      <th>Literate</th>\n",
       "      <th>Male_Literate</th>\n",
       "      <th>Female_Literate</th>\n",
       "      <th>SC</th>\n",
       "      <th>...</th>\n",
       "      <th>Power_Parity_Rs_90000_150000</th>\n",
       "      <th>Power_Parity_Rs_45000_150000</th>\n",
       "      <th>Power_Parity_Rs_150000_240000</th>\n",
       "      <th>Power_Parity_Rs_240000_330000</th>\n",
       "      <th>Power_Parity_Rs_150000_330000</th>\n",
       "      <th>Power_Parity_Rs_330000_425000</th>\n",
       "      <th>Power_Parity_Rs_425000_545000</th>\n",
       "      <th>Power_Parity_Rs_330000_545000</th>\n",
       "      <th>Power_Parity_Above_Rs_545000</th>\n",
       "      <th>Total_Power_Parity</th>\n",
       "    </tr>\n",
       "  </thead>\n",
       "  <tbody>\n",
       "    <tr>\n",
       "      <th>0</th>\n",
       "      <td>1</td>\n",
       "      <td>JAMMU AND KASHMIR</td>\n",
       "      <td>Kupwara</td>\n",
       "      <td>870354</td>\n",
       "      <td>474190</td>\n",
       "      <td>396164</td>\n",
       "      <td>439654</td>\n",
       "      <td>282823</td>\n",
       "      <td>156831</td>\n",
       "      <td>1048</td>\n",
       "      <td>...</td>\n",
       "      <td>94</td>\n",
       "      <td>588</td>\n",
       "      <td>71</td>\n",
       "      <td>101</td>\n",
       "      <td>172</td>\n",
       "      <td>74</td>\n",
       "      <td>10</td>\n",
       "      <td>84</td>\n",
       "      <td>15</td>\n",
       "      <td>1119</td>\n",
       "    </tr>\n",
       "    <tr>\n",
       "      <th>1</th>\n",
       "      <td>2</td>\n",
       "      <td>JAMMU AND KASHMIR</td>\n",
       "      <td>Badgam</td>\n",
       "      <td>753745</td>\n",
       "      <td>398041</td>\n",
       "      <td>355704</td>\n",
       "      <td>335649</td>\n",
       "      <td>207741</td>\n",
       "      <td>127908</td>\n",
       "      <td>368</td>\n",
       "      <td>...</td>\n",
       "      <td>126</td>\n",
       "      <td>562</td>\n",
       "      <td>72</td>\n",
       "      <td>89</td>\n",
       "      <td>161</td>\n",
       "      <td>96</td>\n",
       "      <td>28</td>\n",
       "      <td>124</td>\n",
       "      <td>18</td>\n",
       "      <td>1066</td>\n",
       "    </tr>\n",
       "    <tr>\n",
       "      <th>2</th>\n",
       "      <td>3</td>\n",
       "      <td>JAMMU AND KASHMIR</td>\n",
       "      <td>Leh(Ladakh)</td>\n",
       "      <td>133487</td>\n",
       "      <td>78971</td>\n",
       "      <td>54516</td>\n",
       "      <td>93770</td>\n",
       "      <td>62834</td>\n",
       "      <td>30936</td>\n",
       "      <td>488</td>\n",
       "      <td>...</td>\n",
       "      <td>46</td>\n",
       "      <td>122</td>\n",
       "      <td>15</td>\n",
       "      <td>22</td>\n",
       "      <td>37</td>\n",
       "      <td>20</td>\n",
       "      <td>14</td>\n",
       "      <td>34</td>\n",
       "      <td>17</td>\n",
       "      <td>242</td>\n",
       "    </tr>\n",
       "    <tr>\n",
       "      <th>3</th>\n",
       "      <td>4</td>\n",
       "      <td>JAMMU AND KASHMIR</td>\n",
       "      <td>Kargil</td>\n",
       "      <td>140802</td>\n",
       "      <td>77785</td>\n",
       "      <td>63017</td>\n",
       "      <td>86236</td>\n",
       "      <td>56301</td>\n",
       "      <td>29935</td>\n",
       "      <td>18</td>\n",
       "      <td>...</td>\n",
       "      <td>27</td>\n",
       "      <td>114</td>\n",
       "      <td>12</td>\n",
       "      <td>18</td>\n",
       "      <td>30</td>\n",
       "      <td>19</td>\n",
       "      <td>3</td>\n",
       "      <td>22</td>\n",
       "      <td>7</td>\n",
       "      <td>214</td>\n",
       "    </tr>\n",
       "    <tr>\n",
       "      <th>4</th>\n",
       "      <td>5</td>\n",
       "      <td>JAMMU AND KASHMIR</td>\n",
       "      <td>Punch</td>\n",
       "      <td>476835</td>\n",
       "      <td>251899</td>\n",
       "      <td>224936</td>\n",
       "      <td>261724</td>\n",
       "      <td>163333</td>\n",
       "      <td>98391</td>\n",
       "      <td>556</td>\n",
       "      <td>...</td>\n",
       "      <td>78</td>\n",
       "      <td>346</td>\n",
       "      <td>35</td>\n",
       "      <td>50</td>\n",
       "      <td>85</td>\n",
       "      <td>59</td>\n",
       "      <td>8</td>\n",
       "      <td>67</td>\n",
       "      <td>12</td>\n",
       "      <td>629</td>\n",
       "    </tr>\n",
       "  </tbody>\n",
       "</table>\n",
       "<p>5 rows × 118 columns</p>\n",
       "</div>"
      ],
      "text/plain": [
       "   District code         State name District name  Population    Male  Female  \\\n",
       "0              1  JAMMU AND KASHMIR       Kupwara      870354  474190  396164   \n",
       "1              2  JAMMU AND KASHMIR        Badgam      753745  398041  355704   \n",
       "2              3  JAMMU AND KASHMIR   Leh(Ladakh)      133487   78971   54516   \n",
       "3              4  JAMMU AND KASHMIR        Kargil      140802   77785   63017   \n",
       "4              5  JAMMU AND KASHMIR         Punch      476835  251899  224936   \n",
       "\n",
       "   Literate  Male_Literate  Female_Literate    SC  ...  \\\n",
       "0    439654         282823           156831  1048  ...   \n",
       "1    335649         207741           127908   368  ...   \n",
       "2     93770          62834            30936   488  ...   \n",
       "3     86236          56301            29935    18  ...   \n",
       "4    261724         163333            98391   556  ...   \n",
       "\n",
       "   Power_Parity_Rs_90000_150000  Power_Parity_Rs_45000_150000  \\\n",
       "0                            94                           588   \n",
       "1                           126                           562   \n",
       "2                            46                           122   \n",
       "3                            27                           114   \n",
       "4                            78                           346   \n",
       "\n",
       "   Power_Parity_Rs_150000_240000  Power_Parity_Rs_240000_330000  \\\n",
       "0                             71                            101   \n",
       "1                             72                             89   \n",
       "2                             15                             22   \n",
       "3                             12                             18   \n",
       "4                             35                             50   \n",
       "\n",
       "   Power_Parity_Rs_150000_330000  Power_Parity_Rs_330000_425000  \\\n",
       "0                            172                             74   \n",
       "1                            161                             96   \n",
       "2                             37                             20   \n",
       "3                             30                             19   \n",
       "4                             85                             59   \n",
       "\n",
       "   Power_Parity_Rs_425000_545000  Power_Parity_Rs_330000_545000  \\\n",
       "0                             10                             84   \n",
       "1                             28                            124   \n",
       "2                             14                             34   \n",
       "3                              3                             22   \n",
       "4                              8                             67   \n",
       "\n",
       "   Power_Parity_Above_Rs_545000  Total_Power_Parity  \n",
       "0                            15                1119  \n",
       "1                            18                1066  \n",
       "2                            17                 242  \n",
       "3                             7                 214  \n",
       "4                            12                 629  \n",
       "\n",
       "[5 rows x 118 columns]"
      ]
     },
     "execution_count": 3,
     "metadata": {},
     "output_type": "execute_result"
    }
   ],
   "source": [
    "census = pd.read_csv('C:\\\\Users\\\\sanja\\\\Downloads\\\\india-districts-census-2011.csv')\n",
    "census.head()"
   ]
  },
  {
   "cell_type": "code",
   "execution_count": 9,
   "metadata": {},
   "outputs": [
    {
     "data": {
      "text/html": [
       "<div>\n",
       "<style scoped>\n",
       "    .dataframe tbody tr th:only-of-type {\n",
       "        vertical-align: middle;\n",
       "    }\n",
       "\n",
       "    .dataframe tbody tr th {\n",
       "        vertical-align: top;\n",
       "    }\n",
       "\n",
       "    .dataframe thead th {\n",
       "        text-align: right;\n",
       "    }\n",
       "</style>\n",
       "<table border=\"1\" class=\"dataframe\">\n",
       "  <thead>\n",
       "    <tr style=\"text-align: right;\">\n",
       "      <th></th>\n",
       "      <th>District code</th>\n",
       "      <th>State name</th>\n",
       "      <th>District name</th>\n",
       "      <th>Population</th>\n",
       "      <th>Male</th>\n",
       "      <th>Female</th>\n",
       "      <th>Literate</th>\n",
       "      <th>Male_Literate</th>\n",
       "      <th>Female_Literate</th>\n",
       "      <th>SC</th>\n",
       "      <th>Male_SC</th>\n",
       "      <th>Female_SC</th>\n",
       "      <th>ST</th>\n",
       "      <th>Male_ST</th>\n",
       "      <th>Female_ST</th>\n",
       "      <th>Workers</th>\n",
       "      <th>Male_Workers</th>\n",
       "      <th>Female_Workers</th>\n",
       "      <th>Main_Workers</th>\n",
       "      <th>Marginal_Workers</th>\n",
       "      <th>Non_Workers</th>\n",
       "      <th>Cultivator_Workers</th>\n",
       "      <th>Agricultural_Workers</th>\n",
       "      <th>Household_Workers</th>\n",
       "      <th>Other_Workers</th>\n",
       "      <th>Hindus</th>\n",
       "      <th>Muslims</th>\n",
       "      <th>Christians</th>\n",
       "      <th>Sikhs</th>\n",
       "      <th>Buddhists</th>\n",
       "      <th>Jains</th>\n",
       "      <th>Others_Religions</th>\n",
       "      <th>Religion_Not_Stated</th>\n",
       "      <th>LPG_or_PNG_Households</th>\n",
       "      <th>Housholds_with_Electric_Lighting</th>\n",
       "      <th>Households_with_Internet</th>\n",
       "      <th>Households_with_Computer</th>\n",
       "      <th>Rural_Households</th>\n",
       "      <th>Urban_Households</th>\n",
       "      <th>Households</th>\n",
       "      <th>Below_Primary_Education</th>\n",
       "      <th>Primary_Education</th>\n",
       "      <th>Middle_Education</th>\n",
       "      <th>Secondary_Education</th>\n",
       "      <th>Higher_Education</th>\n",
       "      <th>Graduate_Education</th>\n",
       "      <th>Other_Education</th>\n",
       "      <th>Literate_Education</th>\n",
       "      <th>Illiterate_Education</th>\n",
       "      <th>Total_Education</th>\n",
       "      <th>Age_Group_0_29</th>\n",
       "      <th>Age_Group_30_49</th>\n",
       "      <th>Age_Group_50</th>\n",
       "      <th>Age not stated</th>\n",
       "      <th>Households_with_Bicycle</th>\n",
       "      <th>Households_with_Car_Jeep_Van</th>\n",
       "      <th>Households_with_Radio_Transistor</th>\n",
       "      <th>Households_with_Scooter_Motorcycle_Moped</th>\n",
       "      <th>Households_with_Telephone_Mobile_Phone_Landline_only</th>\n",
       "      <th>Households_with_Telephone_Mobile_Phone_Mobile_only</th>\n",
       "      <th>Households_with_TV_Computer_Laptop_Telephone_mobile_phone_and_Scooter_Car</th>\n",
       "      <th>Households_with_Television</th>\n",
       "      <th>Households_with_Telephone_Mobile_Phone</th>\n",
       "      <th>Households_with_Telephone_Mobile_Phone_Both</th>\n",
       "      <th>Condition_of_occupied_census_houses_Dilapidated_Households</th>\n",
       "      <th>Households_with_separate_kitchen_Cooking_inside_house</th>\n",
       "      <th>Having_bathing_facility_Total_Households</th>\n",
       "      <th>Having_latrine_facility_within_the_premises_Total_Households</th>\n",
       "      <th>Ownership_Owned_Households</th>\n",
       "      <th>Ownership_Rented_Households</th>\n",
       "      <th>Type_of_bathing_facility_Enclosure_without_roof_Households</th>\n",
       "      <th>Type_of_fuel_used_for_cooking_Any_other_Households</th>\n",
       "      <th>Type_of_latrine_facility_Pit_latrine_Households</th>\n",
       "      <th>Type_of_latrine_facility_Other_latrine_Households</th>\n",
       "      <th>Type_of_latrine_facility_Night_soil_disposed_into_open_drain_Households</th>\n",
       "      <th>Type_of_latrine_facility_Flush_pour_flush_latrine_connected_to_other_system_Households</th>\n",
       "      <th>Not_having_bathing_facility_within_the_premises_Total_Households</th>\n",
       "      <th>Not_having_latrine_facility_within_the_premises_Alternative_source_Open_Households</th>\n",
       "      <th>Main_source_of_drinking_water_Un_covered_well_Households</th>\n",
       "      <th>Main_source_of_drinking_water_Handpump_Tubewell_Borewell_Households</th>\n",
       "      <th>Main_source_of_drinking_water_Spring_Households</th>\n",
       "      <th>Main_source_of_drinking_water_River_Canal_Households</th>\n",
       "      <th>Main_source_of_drinking_water_Other_sources_Households</th>\n",
       "      <th>Main_source_of_drinking_water_Other_sources_Spring_River_Canal_Tank_Pond_Lake_Other_sources__Households</th>\n",
       "      <th>Location_of_drinking_water_source_Near_the_premises_Households</th>\n",
       "      <th>Location_of_drinking_water_source_Within_the_premises_Households</th>\n",
       "      <th>Main_source_of_drinking_water_Tank_Pond_Lake_Households</th>\n",
       "      <th>Main_source_of_drinking_water_Tapwater_Households</th>\n",
       "      <th>Main_source_of_drinking_water_Tubewell_Borehole_Households</th>\n",
       "      <th>Household_size_1_person_Households</th>\n",
       "      <th>Household_size_2_persons_Households</th>\n",
       "      <th>Household_size_1_to_2_persons</th>\n",
       "      <th>Household_size_3_persons_Households</th>\n",
       "      <th>Household_size_3_to_5_persons_Households</th>\n",
       "      <th>Household_size_4_persons_Households</th>\n",
       "      <th>Household_size_5_persons_Households</th>\n",
       "      <th>Household_size_6_8_persons_Households</th>\n",
       "      <th>Household_size_9_persons_and_above_Households</th>\n",
       "      <th>Location_of_drinking_water_source_Away_Households</th>\n",
       "      <th>Married_couples_1_Households</th>\n",
       "      <th>Married_couples_2_Households</th>\n",
       "      <th>Married_couples_3_Households</th>\n",
       "      <th>Married_couples_3_or_more_Households</th>\n",
       "      <th>Married_couples_4_Households</th>\n",
       "      <th>Married_couples_5__Households</th>\n",
       "      <th>Married_couples_None_Households</th>\n",
       "      <th>Power_Parity_Less_than_Rs_45000</th>\n",
       "      <th>Power_Parity_Rs_45000_90000</th>\n",
       "      <th>Power_Parity_Rs_90000_150000</th>\n",
       "      <th>Power_Parity_Rs_45000_150000</th>\n",
       "      <th>Power_Parity_Rs_150000_240000</th>\n",
       "      <th>Power_Parity_Rs_240000_330000</th>\n",
       "      <th>Power_Parity_Rs_150000_330000</th>\n",
       "      <th>Power_Parity_Rs_330000_425000</th>\n",
       "      <th>Power_Parity_Rs_425000_545000</th>\n",
       "      <th>Power_Parity_Rs_330000_545000</th>\n",
       "      <th>Power_Parity_Above_Rs_545000</th>\n",
       "      <th>Total_Power_Parity</th>\n",
       "    </tr>\n",
       "  </thead>\n",
       "  <tbody>\n",
       "    <tr>\n",
       "      <th>0</th>\n",
       "      <td>1</td>\n",
       "      <td>JAMMU AND KASHMIR</td>\n",
       "      <td>Kupwara</td>\n",
       "      <td>870354</td>\n",
       "      <td>474190</td>\n",
       "      <td>396164</td>\n",
       "      <td>439654</td>\n",
       "      <td>282823</td>\n",
       "      <td>156831</td>\n",
       "      <td>1048</td>\n",
       "      <td>1046</td>\n",
       "      <td>2</td>\n",
       "      <td>70352</td>\n",
       "      <td>36913</td>\n",
       "      <td>33439</td>\n",
       "      <td>229064</td>\n",
       "      <td>190899</td>\n",
       "      <td>38165</td>\n",
       "      <td>123837</td>\n",
       "      <td>105227</td>\n",
       "      <td>641290</td>\n",
       "      <td>34680</td>\n",
       "      <td>56759</td>\n",
       "      <td>7946</td>\n",
       "      <td>129679</td>\n",
       "      <td>37128</td>\n",
       "      <td>823286</td>\n",
       "      <td>1700</td>\n",
       "      <td>5600</td>\n",
       "      <td>66</td>\n",
       "      <td>39</td>\n",
       "      <td>13</td>\n",
       "      <td>2522</td>\n",
       "      <td>15828</td>\n",
       "      <td>83071</td>\n",
       "      <td>762</td>\n",
       "      <td>5256</td>\n",
       "      <td>158438</td>\n",
       "      <td>23226</td>\n",
       "      <td>181664</td>\n",
       "      <td>60616</td>\n",
       "      <td>101642</td>\n",
       "      <td>99947</td>\n",
       "      <td>74948</td>\n",
       "      <td>39709</td>\n",
       "      <td>21751</td>\n",
       "      <td>6402</td>\n",
       "      <td>405015</td>\n",
       "      <td>289765</td>\n",
       "      <td>694780</td>\n",
       "      <td>600759</td>\n",
       "      <td>178435</td>\n",
       "      <td>89679</td>\n",
       "      <td>1481</td>\n",
       "      <td>3019</td>\n",
       "      <td>2988</td>\n",
       "      <td>59480</td>\n",
       "      <td>1808</td>\n",
       "      <td>1445</td>\n",
       "      <td>53437</td>\n",
       "      <td>495</td>\n",
       "      <td>26828</td>\n",
       "      <td>56495</td>\n",
       "      <td>1613</td>\n",
       "      <td>8463</td>\n",
       "      <td>104172</td>\n",
       "      <td>66361</td>\n",
       "      <td>54335</td>\n",
       "      <td>104807</td>\n",
       "      <td>618</td>\n",
       "      <td>3667</td>\n",
       "      <td>167</td>\n",
       "      <td>9791</td>\n",
       "      <td>21902</td>\n",
       "      <td>2269</td>\n",
       "      <td>10919</td>\n",
       "      <td>40416</td>\n",
       "      <td>44123</td>\n",
       "      <td>11127</td>\n",
       "      <td>5030</td>\n",
       "      <td>1902</td>\n",
       "      <td>24776</td>\n",
       "      <td>6597</td>\n",
       "      <td>34882</td>\n",
       "      <td>37849</td>\n",
       "      <td>22747</td>\n",
       "      <td>1607</td>\n",
       "      <td>50339</td>\n",
       "      <td>2066</td>\n",
       "      <td>911</td>\n",
       "      <td>4036</td>\n",
       "      <td>4947</td>\n",
       "      <td>6396</td>\n",
       "      <td>31982</td>\n",
       "      <td>10700</td>\n",
       "      <td>14886</td>\n",
       "      <td>42727</td>\n",
       "      <td>27121</td>\n",
       "      <td>46181</td>\n",
       "      <td>80569</td>\n",
       "      <td>14618</td>\n",
       "      <td>2218</td>\n",
       "      <td>2622</td>\n",
       "      <td>330</td>\n",
       "      <td>74</td>\n",
       "      <td>8968</td>\n",
       "      <td>259</td>\n",
       "      <td>494</td>\n",
       "      <td>94</td>\n",
       "      <td>588</td>\n",
       "      <td>71</td>\n",
       "      <td>101</td>\n",
       "      <td>172</td>\n",
       "      <td>74</td>\n",
       "      <td>10</td>\n",
       "      <td>84</td>\n",
       "      <td>15</td>\n",
       "      <td>1119</td>\n",
       "    </tr>\n",
       "    <tr>\n",
       "      <th>1</th>\n",
       "      <td>2</td>\n",
       "      <td>JAMMU AND KASHMIR</td>\n",
       "      <td>Badgam</td>\n",
       "      <td>753745</td>\n",
       "      <td>398041</td>\n",
       "      <td>355704</td>\n",
       "      <td>335649</td>\n",
       "      <td>207741</td>\n",
       "      <td>127908</td>\n",
       "      <td>368</td>\n",
       "      <td>343</td>\n",
       "      <td>25</td>\n",
       "      <td>23912</td>\n",
       "      <td>12383</td>\n",
       "      <td>11529</td>\n",
       "      <td>214866</td>\n",
       "      <td>162578</td>\n",
       "      <td>52288</td>\n",
       "      <td>132003</td>\n",
       "      <td>82863</td>\n",
       "      <td>538879</td>\n",
       "      <td>55299</td>\n",
       "      <td>36630</td>\n",
       "      <td>29102</td>\n",
       "      <td>93835</td>\n",
       "      <td>10110</td>\n",
       "      <td>736054</td>\n",
       "      <td>1489</td>\n",
       "      <td>5559</td>\n",
       "      <td>47</td>\n",
       "      <td>6</td>\n",
       "      <td>2</td>\n",
       "      <td>478</td>\n",
       "      <td>15118</td>\n",
       "      <td>90190</td>\n",
       "      <td>1999</td>\n",
       "      <td>5892</td>\n",
       "      <td>160649</td>\n",
       "      <td>27190</td>\n",
       "      <td>187839</td>\n",
       "      <td>68336</td>\n",
       "      <td>80862</td>\n",
       "      <td>83141</td>\n",
       "      <td>66459</td>\n",
       "      <td>41367</td>\n",
       "      <td>27950</td>\n",
       "      <td>6857</td>\n",
       "      <td>374972</td>\n",
       "      <td>342646</td>\n",
       "      <td>717618</td>\n",
       "      <td>503223</td>\n",
       "      <td>160933</td>\n",
       "      <td>88978</td>\n",
       "      <td>611</td>\n",
       "      <td>10013</td>\n",
       "      <td>5091</td>\n",
       "      <td>66814</td>\n",
       "      <td>5848</td>\n",
       "      <td>2509</td>\n",
       "      <td>65783</td>\n",
       "      <td>1655</td>\n",
       "      <td>54170</td>\n",
       "      <td>72197</td>\n",
       "      <td>3905</td>\n",
       "      <td>3733</td>\n",
       "      <td>88806</td>\n",
       "      <td>83385</td>\n",
       "      <td>83615</td>\n",
       "      <td>98036</td>\n",
       "      <td>609</td>\n",
       "      <td>3959</td>\n",
       "      <td>971</td>\n",
       "      <td>7013</td>\n",
       "      <td>43953</td>\n",
       "      <td>1779</td>\n",
       "      <td>9208</td>\n",
       "      <td>15834</td>\n",
       "      <td>10642</td>\n",
       "      <td>699</td>\n",
       "      <td>9864</td>\n",
       "      <td>453</td>\n",
       "      <td>13064</td>\n",
       "      <td>1052</td>\n",
       "      <td>14705</td>\n",
       "      <td>33558</td>\n",
       "      <td>51358</td>\n",
       "      <td>136</td>\n",
       "      <td>73303</td>\n",
       "      <td>2321</td>\n",
       "      <td>845</td>\n",
       "      <td>2173</td>\n",
       "      <td>3018</td>\n",
       "      <td>3743</td>\n",
       "      <td>23640</td>\n",
       "      <td>7998</td>\n",
       "      <td>11899</td>\n",
       "      <td>59121</td>\n",
       "      <td>13440</td>\n",
       "      <td>14303</td>\n",
       "      <td>71441</td>\n",
       "      <td>15255</td>\n",
       "      <td>2962</td>\n",
       "      <td>3493</td>\n",
       "      <td>452</td>\n",
       "      <td>79</td>\n",
       "      <td>9030</td>\n",
       "      <td>201</td>\n",
       "      <td>436</td>\n",
       "      <td>126</td>\n",
       "      <td>562</td>\n",
       "      <td>72</td>\n",
       "      <td>89</td>\n",
       "      <td>161</td>\n",
       "      <td>96</td>\n",
       "      <td>28</td>\n",
       "      <td>124</td>\n",
       "      <td>18</td>\n",
       "      <td>1066</td>\n",
       "    </tr>\n",
       "    <tr>\n",
       "      <th>2</th>\n",
       "      <td>3</td>\n",
       "      <td>JAMMU AND KASHMIR</td>\n",
       "      <td>Leh(Ladakh)</td>\n",
       "      <td>133487</td>\n",
       "      <td>78971</td>\n",
       "      <td>54516</td>\n",
       "      <td>93770</td>\n",
       "      <td>62834</td>\n",
       "      <td>30936</td>\n",
       "      <td>488</td>\n",
       "      <td>444</td>\n",
       "      <td>44</td>\n",
       "      <td>95857</td>\n",
       "      <td>47543</td>\n",
       "      <td>48314</td>\n",
       "      <td>75079</td>\n",
       "      <td>53265</td>\n",
       "      <td>21814</td>\n",
       "      <td>57125</td>\n",
       "      <td>17954</td>\n",
       "      <td>58408</td>\n",
       "      <td>20869</td>\n",
       "      <td>1645</td>\n",
       "      <td>1020</td>\n",
       "      <td>51545</td>\n",
       "      <td>22882</td>\n",
       "      <td>19057</td>\n",
       "      <td>658</td>\n",
       "      <td>1092</td>\n",
       "      <td>88635</td>\n",
       "      <td>103</td>\n",
       "      <td>54</td>\n",
       "      <td>1006</td>\n",
       "      <td>13645</td>\n",
       "      <td>17250</td>\n",
       "      <td>574</td>\n",
       "      <td>2150</td>\n",
       "      <td>36920</td>\n",
       "      <td>17474</td>\n",
       "      <td>54394</td>\n",
       "      <td>10452</td>\n",
       "      <td>15181</td>\n",
       "      <td>17900</td>\n",
       "      <td>16265</td>\n",
       "      <td>8923</td>\n",
       "      <td>6197</td>\n",
       "      <td>575</td>\n",
       "      <td>75493</td>\n",
       "      <td>32637</td>\n",
       "      <td>108130</td>\n",
       "      <td>70703</td>\n",
       "      <td>41515</td>\n",
       "      <td>21019</td>\n",
       "      <td>250</td>\n",
       "      <td>609</td>\n",
       "      <td>4271</td>\n",
       "      <td>15210</td>\n",
       "      <td>1289</td>\n",
       "      <td>2646</td>\n",
       "      <td>6331</td>\n",
       "      <td>971</td>\n",
       "      <td>13597</td>\n",
       "      <td>13836</td>\n",
       "      <td>4859</td>\n",
       "      <td>371</td>\n",
       "      <td>20134</td>\n",
       "      <td>10304</td>\n",
       "      <td>18780</td>\n",
       "      <td>19387</td>\n",
       "      <td>893</td>\n",
       "      <td>920</td>\n",
       "      <td>1</td>\n",
       "      <td>14980</td>\n",
       "      <td>2117</td>\n",
       "      <td>53</td>\n",
       "      <td>695</td>\n",
       "      <td>10473</td>\n",
       "      <td>1781</td>\n",
       "      <td>64</td>\n",
       "      <td>5991</td>\n",
       "      <td>620</td>\n",
       "      <td>6115</td>\n",
       "      <td>1565</td>\n",
       "      <td>8355</td>\n",
       "      <td>10962</td>\n",
       "      <td>3031</td>\n",
       "      <td>55</td>\n",
       "      <td>6254</td>\n",
       "      <td>135</td>\n",
       "      <td>1630</td>\n",
       "      <td>1483</td>\n",
       "      <td>3113</td>\n",
       "      <td>2302</td>\n",
       "      <td>10528</td>\n",
       "      <td>4422</td>\n",
       "      <td>3804</td>\n",
       "      <td>5378</td>\n",
       "      <td>1758</td>\n",
       "      <td>6784</td>\n",
       "      <td>12742</td>\n",
       "      <td>3492</td>\n",
       "      <td>716</td>\n",
       "      <td>835</td>\n",
       "      <td>87</td>\n",
       "      <td>32</td>\n",
       "      <td>3708</td>\n",
       "      <td>33</td>\n",
       "      <td>76</td>\n",
       "      <td>46</td>\n",
       "      <td>122</td>\n",
       "      <td>15</td>\n",
       "      <td>22</td>\n",
       "      <td>37</td>\n",
       "      <td>20</td>\n",
       "      <td>14</td>\n",
       "      <td>34</td>\n",
       "      <td>17</td>\n",
       "      <td>242</td>\n",
       "    </tr>\n",
       "    <tr>\n",
       "      <th>3</th>\n",
       "      <td>4</td>\n",
       "      <td>JAMMU AND KASHMIR</td>\n",
       "      <td>Kargil</td>\n",
       "      <td>140802</td>\n",
       "      <td>77785</td>\n",
       "      <td>63017</td>\n",
       "      <td>86236</td>\n",
       "      <td>56301</td>\n",
       "      <td>29935</td>\n",
       "      <td>18</td>\n",
       "      <td>12</td>\n",
       "      <td>6</td>\n",
       "      <td>122336</td>\n",
       "      <td>62652</td>\n",
       "      <td>59684</td>\n",
       "      <td>51873</td>\n",
       "      <td>39839</td>\n",
       "      <td>12034</td>\n",
       "      <td>28941</td>\n",
       "      <td>22932</td>\n",
       "      <td>88929</td>\n",
       "      <td>8266</td>\n",
       "      <td>3763</td>\n",
       "      <td>1222</td>\n",
       "      <td>38622</td>\n",
       "      <td>10341</td>\n",
       "      <td>108239</td>\n",
       "      <td>604</td>\n",
       "      <td>1171</td>\n",
       "      <td>20126</td>\n",
       "      <td>28</td>\n",
       "      <td>4</td>\n",
       "      <td>289</td>\n",
       "      <td>3285</td>\n",
       "      <td>15824</td>\n",
       "      <td>235</td>\n",
       "      <td>1005</td>\n",
       "      <td>40370</td>\n",
       "      <td>7774</td>\n",
       "      <td>48144</td>\n",
       "      <td>12732</td>\n",
       "      <td>19083</td>\n",
       "      <td>20874</td>\n",
       "      <td>16938</td>\n",
       "      <td>9826</td>\n",
       "      <td>3077</td>\n",
       "      <td>408</td>\n",
       "      <td>82938</td>\n",
       "      <td>39854</td>\n",
       "      <td>122792</td>\n",
       "      <td>87532</td>\n",
       "      <td>35561</td>\n",
       "      <td>17488</td>\n",
       "      <td>221</td>\n",
       "      <td>488</td>\n",
       "      <td>1847</td>\n",
       "      <td>10895</td>\n",
       "      <td>652</td>\n",
       "      <td>899</td>\n",
       "      <td>7733</td>\n",
       "      <td>249</td>\n",
       "      <td>8008</td>\n",
       "      <td>10562</td>\n",
       "      <td>1930</td>\n",
       "      <td>575</td>\n",
       "      <td>17751</td>\n",
       "      <td>11887</td>\n",
       "      <td>17649</td>\n",
       "      <td>16646</td>\n",
       "      <td>1419</td>\n",
       "      <td>330</td>\n",
       "      <td>376</td>\n",
       "      <td>1704</td>\n",
       "      <td>4732</td>\n",
       "      <td>37</td>\n",
       "      <td>9610</td>\n",
       "      <td>6325</td>\n",
       "      <td>482</td>\n",
       "      <td>1</td>\n",
       "      <td>3289</td>\n",
       "      <td>323</td>\n",
       "      <td>2641</td>\n",
       "      <td>907</td>\n",
       "      <td>4068</td>\n",
       "      <td>9218</td>\n",
       "      <td>1963</td>\n",
       "      <td>197</td>\n",
       "      <td>10769</td>\n",
       "      <td>19</td>\n",
       "      <td>689</td>\n",
       "      <td>834</td>\n",
       "      <td>1523</td>\n",
       "      <td>983</td>\n",
       "      <td>4991</td>\n",
       "      <td>1652</td>\n",
       "      <td>2356</td>\n",
       "      <td>6832</td>\n",
       "      <td>4866</td>\n",
       "      <td>7031</td>\n",
       "      <td>10366</td>\n",
       "      <td>3835</td>\n",
       "      <td>1252</td>\n",
       "      <td>1643</td>\n",
       "      <td>308</td>\n",
       "      <td>83</td>\n",
       "      <td>2368</td>\n",
       "      <td>39</td>\n",
       "      <td>87</td>\n",
       "      <td>27</td>\n",
       "      <td>114</td>\n",
       "      <td>12</td>\n",
       "      <td>18</td>\n",
       "      <td>30</td>\n",
       "      <td>19</td>\n",
       "      <td>3</td>\n",
       "      <td>22</td>\n",
       "      <td>7</td>\n",
       "      <td>214</td>\n",
       "    </tr>\n",
       "    <tr>\n",
       "      <th>4</th>\n",
       "      <td>5</td>\n",
       "      <td>JAMMU AND KASHMIR</td>\n",
       "      <td>Punch</td>\n",
       "      <td>476835</td>\n",
       "      <td>251899</td>\n",
       "      <td>224936</td>\n",
       "      <td>261724</td>\n",
       "      <td>163333</td>\n",
       "      <td>98391</td>\n",
       "      <td>556</td>\n",
       "      <td>406</td>\n",
       "      <td>150</td>\n",
       "      <td>176101</td>\n",
       "      <td>90274</td>\n",
       "      <td>85827</td>\n",
       "      <td>161393</td>\n",
       "      <td>117677</td>\n",
       "      <td>43716</td>\n",
       "      <td>73247</td>\n",
       "      <td>88146</td>\n",
       "      <td>315442</td>\n",
       "      <td>54264</td>\n",
       "      <td>31583</td>\n",
       "      <td>3930</td>\n",
       "      <td>71616</td>\n",
       "      <td>32604</td>\n",
       "      <td>431279</td>\n",
       "      <td>958</td>\n",
       "      <td>11188</td>\n",
       "      <td>83</td>\n",
       "      <td>10</td>\n",
       "      <td>2</td>\n",
       "      <td>711</td>\n",
       "      <td>13160</td>\n",
       "      <td>62900</td>\n",
       "      <td>346</td>\n",
       "      <td>3342</td>\n",
       "      <td>132139</td>\n",
       "      <td>15269</td>\n",
       "      <td>147408</td>\n",
       "      <td>55762</td>\n",
       "      <td>72024</td>\n",
       "      <td>69219</td>\n",
       "      <td>46062</td>\n",
       "      <td>29517</td>\n",
       "      <td>13962</td>\n",
       "      <td>1884</td>\n",
       "      <td>288430</td>\n",
       "      <td>164044</td>\n",
       "      <td>452474</td>\n",
       "      <td>304979</td>\n",
       "      <td>109818</td>\n",
       "      <td>61334</td>\n",
       "      <td>704</td>\n",
       "      <td>846</td>\n",
       "      <td>1731</td>\n",
       "      <td>37412</td>\n",
       "      <td>2407</td>\n",
       "      <td>1908</td>\n",
       "      <td>31773</td>\n",
       "      <td>276</td>\n",
       "      <td>16022</td>\n",
       "      <td>36358</td>\n",
       "      <td>2677</td>\n",
       "      <td>2047</td>\n",
       "      <td>78572</td>\n",
       "      <td>19789</td>\n",
       "      <td>16586</td>\n",
       "      <td>87711</td>\n",
       "      <td>762</td>\n",
       "      <td>3421</td>\n",
       "      <td>28</td>\n",
       "      <td>532</td>\n",
       "      <td>971</td>\n",
       "      <td>338</td>\n",
       "      <td>1174</td>\n",
       "      <td>69089</td>\n",
       "      <td>70470</td>\n",
       "      <td>17702</td>\n",
       "      <td>4036</td>\n",
       "      <td>12448</td>\n",
       "      <td>1351</td>\n",
       "      <td>5351</td>\n",
       "      <td>19458</td>\n",
       "      <td>33146</td>\n",
       "      <td>17078</td>\n",
       "      <td>308</td>\n",
       "      <td>43697</td>\n",
       "      <td>234</td>\n",
       "      <td>1531</td>\n",
       "      <td>7435</td>\n",
       "      <td>8966</td>\n",
       "      <td>10664</td>\n",
       "      <td>44517</td>\n",
       "      <td>15825</td>\n",
       "      <td>18028</td>\n",
       "      <td>31443</td>\n",
       "      <td>3952</td>\n",
       "      <td>38654</td>\n",
       "      <td>70995</td>\n",
       "      <td>9180</td>\n",
       "      <td>1148</td>\n",
       "      <td>1250</td>\n",
       "      <td>87</td>\n",
       "      <td>15</td>\n",
       "      <td>7453</td>\n",
       "      <td>117</td>\n",
       "      <td>268</td>\n",
       "      <td>78</td>\n",
       "      <td>346</td>\n",
       "      <td>35</td>\n",
       "      <td>50</td>\n",
       "      <td>85</td>\n",
       "      <td>59</td>\n",
       "      <td>8</td>\n",
       "      <td>67</td>\n",
       "      <td>12</td>\n",
       "      <td>629</td>\n",
       "    </tr>\n",
       "  </tbody>\n",
       "</table>\n",
       "</div>"
      ],
      "text/plain": [
       "   District code         State name District name  Population    Male  Female  \\\n",
       "0              1  JAMMU AND KASHMIR       Kupwara      870354  474190  396164   \n",
       "1              2  JAMMU AND KASHMIR        Badgam      753745  398041  355704   \n",
       "2              3  JAMMU AND KASHMIR   Leh(Ladakh)      133487   78971   54516   \n",
       "3              4  JAMMU AND KASHMIR        Kargil      140802   77785   63017   \n",
       "4              5  JAMMU AND KASHMIR         Punch      476835  251899  224936   \n",
       "\n",
       "   Literate  Male_Literate  Female_Literate    SC  Male_SC  Female_SC      ST  \\\n",
       "0    439654         282823           156831  1048     1046          2   70352   \n",
       "1    335649         207741           127908   368      343         25   23912   \n",
       "2     93770          62834            30936   488      444         44   95857   \n",
       "3     86236          56301            29935    18       12          6  122336   \n",
       "4    261724         163333            98391   556      406        150  176101   \n",
       "\n",
       "   Male_ST  Female_ST  Workers  Male_Workers  Female_Workers  Main_Workers  \\\n",
       "0    36913      33439   229064        190899           38165        123837   \n",
       "1    12383      11529   214866        162578           52288        132003   \n",
       "2    47543      48314    75079         53265           21814         57125   \n",
       "3    62652      59684    51873         39839           12034         28941   \n",
       "4    90274      85827   161393        117677           43716         73247   \n",
       "\n",
       "   Marginal_Workers  Non_Workers  Cultivator_Workers  Agricultural_Workers  \\\n",
       "0            105227       641290               34680                 56759   \n",
       "1             82863       538879               55299                 36630   \n",
       "2             17954        58408               20869                  1645   \n",
       "3             22932        88929                8266                  3763   \n",
       "4             88146       315442               54264                 31583   \n",
       "\n",
       "   Household_Workers  Other_Workers  Hindus  Muslims  Christians  Sikhs  \\\n",
       "0               7946         129679   37128   823286        1700   5600   \n",
       "1              29102          93835   10110   736054        1489   5559   \n",
       "2               1020          51545   22882    19057         658   1092   \n",
       "3               1222          38622   10341   108239         604   1171   \n",
       "4               3930          71616   32604   431279         958  11188   \n",
       "\n",
       "   Buddhists  Jains  Others_Religions  Religion_Not_Stated  \\\n",
       "0         66     39                13                 2522   \n",
       "1         47      6                 2                  478   \n",
       "2      88635    103                54                 1006   \n",
       "3      20126     28                 4                  289   \n",
       "4         83     10                 2                  711   \n",
       "\n",
       "   LPG_or_PNG_Households  Housholds_with_Electric_Lighting  \\\n",
       "0                  15828                             83071   \n",
       "1                  15118                             90190   \n",
       "2                  13645                             17250   \n",
       "3                   3285                             15824   \n",
       "4                  13160                             62900   \n",
       "\n",
       "   Households_with_Internet  Households_with_Computer  Rural_Households  \\\n",
       "0                       762                      5256            158438   \n",
       "1                      1999                      5892            160649   \n",
       "2                       574                      2150             36920   \n",
       "3                       235                      1005             40370   \n",
       "4                       346                      3342            132139   \n",
       "\n",
       "   Urban_Households  Households  Below_Primary_Education  Primary_Education  \\\n",
       "0             23226      181664                    60616             101642   \n",
       "1             27190      187839                    68336              80862   \n",
       "2             17474       54394                    10452              15181   \n",
       "3              7774       48144                    12732              19083   \n",
       "4             15269      147408                    55762              72024   \n",
       "\n",
       "   Middle_Education  Secondary_Education  Higher_Education  \\\n",
       "0             99947                74948             39709   \n",
       "1             83141                66459             41367   \n",
       "2             17900                16265              8923   \n",
       "3             20874                16938              9826   \n",
       "4             69219                46062             29517   \n",
       "\n",
       "   Graduate_Education  Other_Education  Literate_Education  \\\n",
       "0               21751             6402              405015   \n",
       "1               27950             6857              374972   \n",
       "2                6197              575               75493   \n",
       "3                3077              408               82938   \n",
       "4               13962             1884              288430   \n",
       "\n",
       "   Illiterate_Education  Total_Education  Age_Group_0_29  Age_Group_30_49  \\\n",
       "0                289765           694780          600759           178435   \n",
       "1                342646           717618          503223           160933   \n",
       "2                 32637           108130           70703            41515   \n",
       "3                 39854           122792           87532            35561   \n",
       "4                164044           452474          304979           109818   \n",
       "\n",
       "   Age_Group_50  Age not stated  Households_with_Bicycle  \\\n",
       "0         89679            1481                     3019   \n",
       "1         88978             611                    10013   \n",
       "2         21019             250                      609   \n",
       "3         17488             221                      488   \n",
       "4         61334             704                      846   \n",
       "\n",
       "   Households_with_Car_Jeep_Van  Households_with_Radio_Transistor  \\\n",
       "0                          2988                             59480   \n",
       "1                          5091                             66814   \n",
       "2                          4271                             15210   \n",
       "3                          1847                             10895   \n",
       "4                          1731                             37412   \n",
       "\n",
       "   Households_with_Scooter_Motorcycle_Moped  \\\n",
       "0                                      1808   \n",
       "1                                      5848   \n",
       "2                                      1289   \n",
       "3                                       652   \n",
       "4                                      2407   \n",
       "\n",
       "   Households_with_Telephone_Mobile_Phone_Landline_only  \\\n",
       "0                                               1445      \n",
       "1                                               2509      \n",
       "2                                               2646      \n",
       "3                                                899      \n",
       "4                                               1908      \n",
       "\n",
       "   Households_with_Telephone_Mobile_Phone_Mobile_only  \\\n",
       "0                                              53437    \n",
       "1                                              65783    \n",
       "2                                               6331    \n",
       "3                                               7733    \n",
       "4                                              31773    \n",
       "\n",
       "   Households_with_TV_Computer_Laptop_Telephone_mobile_phone_and_Scooter_Car  \\\n",
       "0                                                495                           \n",
       "1                                               1655                           \n",
       "2                                                971                           \n",
       "3                                                249                           \n",
       "4                                                276                           \n",
       "\n",
       "   Households_with_Television  Households_with_Telephone_Mobile_Phone  \\\n",
       "0                       26828                                   56495   \n",
       "1                       54170                                   72197   \n",
       "2                       13597                                   13836   \n",
       "3                        8008                                   10562   \n",
       "4                       16022                                   36358   \n",
       "\n",
       "   Households_with_Telephone_Mobile_Phone_Both  \\\n",
       "0                                         1613   \n",
       "1                                         3905   \n",
       "2                                         4859   \n",
       "3                                         1930   \n",
       "4                                         2677   \n",
       "\n",
       "   Condition_of_occupied_census_houses_Dilapidated_Households  \\\n",
       "0                                               8463            \n",
       "1                                               3733            \n",
       "2                                                371            \n",
       "3                                                575            \n",
       "4                                               2047            \n",
       "\n",
       "   Households_with_separate_kitchen_Cooking_inside_house  \\\n",
       "0                                             104172       \n",
       "1                                              88806       \n",
       "2                                              20134       \n",
       "3                                              17751       \n",
       "4                                              78572       \n",
       "\n",
       "   Having_bathing_facility_Total_Households  \\\n",
       "0                                     66361   \n",
       "1                                     83385   \n",
       "2                                     10304   \n",
       "3                                     11887   \n",
       "4                                     19789   \n",
       "\n",
       "   Having_latrine_facility_within_the_premises_Total_Households  \\\n",
       "0                                              54335              \n",
       "1                                              83615              \n",
       "2                                              18780              \n",
       "3                                              17649              \n",
       "4                                              16586              \n",
       "\n",
       "   Ownership_Owned_Households  Ownership_Rented_Households  \\\n",
       "0                      104807                          618   \n",
       "1                       98036                          609   \n",
       "2                       19387                          893   \n",
       "3                       16646                         1419   \n",
       "4                       87711                          762   \n",
       "\n",
       "   Type_of_bathing_facility_Enclosure_without_roof_Households  \\\n",
       "0                                               3667            \n",
       "1                                               3959            \n",
       "2                                                920            \n",
       "3                                                330            \n",
       "4                                               3421            \n",
       "\n",
       "   Type_of_fuel_used_for_cooking_Any_other_Households  \\\n",
       "0                                                167    \n",
       "1                                                971    \n",
       "2                                                  1    \n",
       "3                                                376    \n",
       "4                                                 28    \n",
       "\n",
       "   Type_of_latrine_facility_Pit_latrine_Households  \\\n",
       "0                                             9791   \n",
       "1                                             7013   \n",
       "2                                            14980   \n",
       "3                                             1704   \n",
       "4                                              532   \n",
       "\n",
       "   Type_of_latrine_facility_Other_latrine_Households  \\\n",
       "0                                              21902   \n",
       "1                                              43953   \n",
       "2                                               2117   \n",
       "3                                               4732   \n",
       "4                                                971   \n",
       "\n",
       "   Type_of_latrine_facility_Night_soil_disposed_into_open_drain_Households  \\\n",
       "0                                               2269                         \n",
       "1                                               1779                         \n",
       "2                                                 53                         \n",
       "3                                                 37                         \n",
       "4                                                338                         \n",
       "\n",
       "   Type_of_latrine_facility_Flush_pour_flush_latrine_connected_to_other_system_Households  \\\n",
       "0                                              10919                                        \n",
       "1                                               9208                                        \n",
       "2                                                695                                        \n",
       "3                                               9610                                        \n",
       "4                                               1174                                        \n",
       "\n",
       "   Not_having_bathing_facility_within_the_premises_Total_Households  \\\n",
       "0                                              40416                  \n",
       "1                                              15834                  \n",
       "2                                              10473                  \n",
       "3                                               6325                  \n",
       "4                                              69089                  \n",
       "\n",
       "   Not_having_latrine_facility_within_the_premises_Alternative_source_Open_Households  \\\n",
       "0                                              44123                                    \n",
       "1                                              10642                                    \n",
       "2                                               1781                                    \n",
       "3                                                482                                    \n",
       "4                                              70470                                    \n",
       "\n",
       "   Main_source_of_drinking_water_Un_covered_well_Households  \\\n",
       "0                                              11127          \n",
       "1                                                699          \n",
       "2                                                 64          \n",
       "3                                                  1          \n",
       "4                                              17702          \n",
       "\n",
       "   Main_source_of_drinking_water_Handpump_Tubewell_Borewell_Households  \\\n",
       "0                                               5030                     \n",
       "1                                               9864                     \n",
       "2                                               5991                     \n",
       "3                                               3289                     \n",
       "4                                               4036                     \n",
       "\n",
       "   Main_source_of_drinking_water_Spring_Households  \\\n",
       "0                                             1902   \n",
       "1                                              453   \n",
       "2                                              620   \n",
       "3                                              323   \n",
       "4                                            12448   \n",
       "\n",
       "   Main_source_of_drinking_water_River_Canal_Households  \\\n",
       "0                                              24776      \n",
       "1                                              13064      \n",
       "2                                               6115      \n",
       "3                                               2641      \n",
       "4                                               1351      \n",
       "\n",
       "   Main_source_of_drinking_water_Other_sources_Households  \\\n",
       "0                                               6597        \n",
       "1                                               1052        \n",
       "2                                               1565        \n",
       "3                                                907        \n",
       "4                                               5351        \n",
       "\n",
       "   Main_source_of_drinking_water_Other_sources_Spring_River_Canal_Tank_Pond_Lake_Other_sources__Households  \\\n",
       "0                                              34882                                                         \n",
       "1                                              14705                                                         \n",
       "2                                               8355                                                         \n",
       "3                                               4068                                                         \n",
       "4                                              19458                                                         \n",
       "\n",
       "   Location_of_drinking_water_source_Near_the_premises_Households  \\\n",
       "0                                              37849                \n",
       "1                                              33558                \n",
       "2                                              10962                \n",
       "3                                               9218                \n",
       "4                                              33146                \n",
       "\n",
       "   Location_of_drinking_water_source_Within_the_premises_Households  \\\n",
       "0                                              22747                  \n",
       "1                                              51358                  \n",
       "2                                               3031                  \n",
       "3                                               1963                  \n",
       "4                                              17078                  \n",
       "\n",
       "   Main_source_of_drinking_water_Tank_Pond_Lake_Households  \\\n",
       "0                                               1607         \n",
       "1                                                136         \n",
       "2                                                 55         \n",
       "3                                                197         \n",
       "4                                                308         \n",
       "\n",
       "   Main_source_of_drinking_water_Tapwater_Households  \\\n",
       "0                                              50339   \n",
       "1                                              73303   \n",
       "2                                               6254   \n",
       "3                                              10769   \n",
       "4                                              43697   \n",
       "\n",
       "   Main_source_of_drinking_water_Tubewell_Borehole_Households  \\\n",
       "0                                               2066            \n",
       "1                                               2321            \n",
       "2                                                135            \n",
       "3                                                 19            \n",
       "4                                                234            \n",
       "\n",
       "   Household_size_1_person_Households  Household_size_2_persons_Households  \\\n",
       "0                                 911                                 4036   \n",
       "1                                 845                                 2173   \n",
       "2                                1630                                 1483   \n",
       "3                                 689                                  834   \n",
       "4                                1531                                 7435   \n",
       "\n",
       "   Household_size_1_to_2_persons  Household_size_3_persons_Households  \\\n",
       "0                           4947                                 6396   \n",
       "1                           3018                                 3743   \n",
       "2                           3113                                 2302   \n",
       "3                           1523                                  983   \n",
       "4                           8966                                10664   \n",
       "\n",
       "   Household_size_3_to_5_persons_Households  \\\n",
       "0                                     31982   \n",
       "1                                     23640   \n",
       "2                                     10528   \n",
       "3                                      4991   \n",
       "4                                     44517   \n",
       "\n",
       "   Household_size_4_persons_Households  Household_size_5_persons_Households  \\\n",
       "0                                10700                                14886   \n",
       "1                                 7998                                11899   \n",
       "2                                 4422                                 3804   \n",
       "3                                 1652                                 2356   \n",
       "4                                15825                                18028   \n",
       "\n",
       "   Household_size_6_8_persons_Households  \\\n",
       "0                                  42727   \n",
       "1                                  59121   \n",
       "2                                   5378   \n",
       "3                                   6832   \n",
       "4                                  31443   \n",
       "\n",
       "   Household_size_9_persons_and_above_Households  \\\n",
       "0                                          27121   \n",
       "1                                          13440   \n",
       "2                                           1758   \n",
       "3                                           4866   \n",
       "4                                           3952   \n",
       "\n",
       "   Location_of_drinking_water_source_Away_Households  \\\n",
       "0                                              46181   \n",
       "1                                              14303   \n",
       "2                                               6784   \n",
       "3                                               7031   \n",
       "4                                              38654   \n",
       "\n",
       "   Married_couples_1_Households  Married_couples_2_Households  \\\n",
       "0                         80569                         14618   \n",
       "1                         71441                         15255   \n",
       "2                         12742                          3492   \n",
       "3                         10366                          3835   \n",
       "4                         70995                          9180   \n",
       "\n",
       "   Married_couples_3_Households  Married_couples_3_or_more_Households  \\\n",
       "0                          2218                                  2622   \n",
       "1                          2962                                  3493   \n",
       "2                           716                                   835   \n",
       "3                          1252                                  1643   \n",
       "4                          1148                                  1250   \n",
       "\n",
       "   Married_couples_4_Households  Married_couples_5__Households  \\\n",
       "0                           330                             74   \n",
       "1                           452                             79   \n",
       "2                            87                             32   \n",
       "3                           308                             83   \n",
       "4                            87                             15   \n",
       "\n",
       "   Married_couples_None_Households  Power_Parity_Less_than_Rs_45000  \\\n",
       "0                             8968                              259   \n",
       "1                             9030                              201   \n",
       "2                             3708                               33   \n",
       "3                             2368                               39   \n",
       "4                             7453                              117   \n",
       "\n",
       "   Power_Parity_Rs_45000_90000  Power_Parity_Rs_90000_150000  \\\n",
       "0                          494                            94   \n",
       "1                          436                           126   \n",
       "2                           76                            46   \n",
       "3                           87                            27   \n",
       "4                          268                            78   \n",
       "\n",
       "   Power_Parity_Rs_45000_150000  Power_Parity_Rs_150000_240000  \\\n",
       "0                           588                             71   \n",
       "1                           562                             72   \n",
       "2                           122                             15   \n",
       "3                           114                             12   \n",
       "4                           346                             35   \n",
       "\n",
       "   Power_Parity_Rs_240000_330000  Power_Parity_Rs_150000_330000  \\\n",
       "0                            101                            172   \n",
       "1                             89                            161   \n",
       "2                             22                             37   \n",
       "3                             18                             30   \n",
       "4                             50                             85   \n",
       "\n",
       "   Power_Parity_Rs_330000_425000  Power_Parity_Rs_425000_545000  \\\n",
       "0                             74                             10   \n",
       "1                             96                             28   \n",
       "2                             20                             14   \n",
       "3                             19                              3   \n",
       "4                             59                              8   \n",
       "\n",
       "   Power_Parity_Rs_330000_545000  Power_Parity_Above_Rs_545000  \\\n",
       "0                             84                            15   \n",
       "1                            124                            18   \n",
       "2                             34                            17   \n",
       "3                             22                             7   \n",
       "4                             67                            12   \n",
       "\n",
       "   Total_Power_Parity  \n",
       "0                1119  \n",
       "1                1066  \n",
       "2                 242  \n",
       "3                 214  \n",
       "4                 629  "
      ]
     },
     "execution_count": 9,
     "metadata": {},
     "output_type": "execute_result"
    }
   ],
   "source": [
    "pd.set_option('display.max_columns',None)\n",
    "census.head()"
   ]
  },
  {
   "cell_type": "code",
   "execution_count": 10,
   "metadata": {},
   "outputs": [
    {
     "data": {
      "text/plain": [
       "(640, 118)"
      ]
     },
     "execution_count": 10,
     "metadata": {},
     "output_type": "execute_result"
    }
   ],
   "source": [
    "census.shape"
   ]
  },
  {
   "cell_type": "code",
   "execution_count": 11,
   "metadata": {},
   "outputs": [
    {
     "data": {
      "text/plain": [
       "District code                    0\n",
       "State name                       0\n",
       "District name                    0\n",
       "Population                       0\n",
       "Male                             0\n",
       "                                ..\n",
       "Power_Parity_Rs_330000_425000    0\n",
       "Power_Parity_Rs_425000_545000    0\n",
       "Power_Parity_Rs_330000_545000    0\n",
       "Power_Parity_Above_Rs_545000     0\n",
       "Total_Power_Parity               0\n",
       "Length: 118, dtype: int64"
      ]
     },
     "execution_count": 11,
     "metadata": {},
     "output_type": "execute_result"
    }
   ],
   "source": [
    "census.isnull().sum()"
   ]
  },
  {
   "cell_type": "code",
   "execution_count": 12,
   "metadata": {},
   "outputs": [
    {
     "data": {
      "text/plain": [
       "0"
      ]
     },
     "execution_count": 12,
     "metadata": {},
     "output_type": "execute_result"
    }
   ],
   "source": [
    "census.duplicated().sum()"
   ]
  },
  {
   "cell_type": "code",
   "execution_count": 4,
   "metadata": {},
   "outputs": [],
   "source": [
    "final_df = latlong.merge(census, left_on='District',right_on='District name').drop(columns=['District name'])"
   ]
  },
  {
   "cell_type": "code",
   "execution_count": null,
   "metadata": {},
   "outputs": [],
   "source": [
    "final_df.to_csv('C:\\\\Users\\\\sanja\\\\Downloads\\\\census_final.csv', index=False)"
   ]
  },
  {
   "cell_type": "code",
   "execution_count": 7,
   "metadata": {},
   "outputs": [],
   "source": [
    "final_df = final_df.drop(columns=['State name'])"
   ]
  },
  {
   "cell_type": "code",
   "execution_count": 9,
   "metadata": {},
   "outputs": [
    {
     "data": {
      "text/html": [
       "<div>\n",
       "<style scoped>\n",
       "    .dataframe tbody tr th:only-of-type {\n",
       "        vertical-align: middle;\n",
       "    }\n",
       "\n",
       "    .dataframe tbody tr th {\n",
       "        vertical-align: top;\n",
       "    }\n",
       "\n",
       "    .dataframe thead th {\n",
       "        text-align: right;\n",
       "    }\n",
       "</style>\n",
       "<table border=\"1\" class=\"dataframe\">\n",
       "  <thead>\n",
       "    <tr style=\"text-align: right;\">\n",
       "      <th></th>\n",
       "      <th>State</th>\n",
       "      <th>District</th>\n",
       "      <th>Latitude</th>\n",
       "      <th>Longitude</th>\n",
       "      <th>District code</th>\n",
       "      <th>Population</th>\n",
       "      <th>Male</th>\n",
       "      <th>Female</th>\n",
       "      <th>Literate</th>\n",
       "      <th>Male_Literate</th>\n",
       "      <th>Female_Literate</th>\n",
       "      <th>SC</th>\n",
       "      <th>Male_SC</th>\n",
       "      <th>Female_SC</th>\n",
       "      <th>ST</th>\n",
       "      <th>Male_ST</th>\n",
       "      <th>Female_ST</th>\n",
       "      <th>Workers</th>\n",
       "      <th>Male_Workers</th>\n",
       "      <th>Female_Workers</th>\n",
       "      <th>Main_Workers</th>\n",
       "      <th>Marginal_Workers</th>\n",
       "      <th>Non_Workers</th>\n",
       "      <th>Cultivator_Workers</th>\n",
       "      <th>Agricultural_Workers</th>\n",
       "      <th>Household_Workers</th>\n",
       "      <th>Other_Workers</th>\n",
       "      <th>Hindus</th>\n",
       "      <th>Muslims</th>\n",
       "      <th>Christians</th>\n",
       "      <th>Sikhs</th>\n",
       "      <th>Buddhists</th>\n",
       "      <th>Jains</th>\n",
       "      <th>Others_Religions</th>\n",
       "      <th>Religion_Not_Stated</th>\n",
       "      <th>LPG_or_PNG_Households</th>\n",
       "      <th>Housholds_with_Electric_Lighting</th>\n",
       "      <th>Households_with_Internet</th>\n",
       "      <th>Households_with_Computer</th>\n",
       "      <th>Rural_Households</th>\n",
       "      <th>Urban_Households</th>\n",
       "      <th>Households</th>\n",
       "      <th>Below_Primary_Education</th>\n",
       "      <th>Primary_Education</th>\n",
       "      <th>Middle_Education</th>\n",
       "      <th>Secondary_Education</th>\n",
       "      <th>Higher_Education</th>\n",
       "      <th>Graduate_Education</th>\n",
       "      <th>Other_Education</th>\n",
       "      <th>Literate_Education</th>\n",
       "      <th>Illiterate_Education</th>\n",
       "      <th>Total_Education</th>\n",
       "      <th>Age_Group_0_29</th>\n",
       "      <th>Age_Group_30_49</th>\n",
       "      <th>Age_Group_50</th>\n",
       "      <th>Age not stated</th>\n",
       "      <th>Households_with_Bicycle</th>\n",
       "      <th>Households_with_Car_Jeep_Van</th>\n",
       "      <th>Households_with_Radio_Transistor</th>\n",
       "      <th>Households_with_Scooter_Motorcycle_Moped</th>\n",
       "      <th>Households_with_Telephone_Mobile_Phone_Landline_only</th>\n",
       "      <th>Households_with_Telephone_Mobile_Phone_Mobile_only</th>\n",
       "      <th>Households_with_TV_Computer_Laptop_Telephone_mobile_phone_and_Scooter_Car</th>\n",
       "      <th>Households_with_Television</th>\n",
       "      <th>Households_with_Telephone_Mobile_Phone</th>\n",
       "      <th>Households_with_Telephone_Mobile_Phone_Both</th>\n",
       "      <th>Condition_of_occupied_census_houses_Dilapidated_Households</th>\n",
       "      <th>Households_with_separate_kitchen_Cooking_inside_house</th>\n",
       "      <th>Having_bathing_facility_Total_Households</th>\n",
       "      <th>Having_latrine_facility_within_the_premises_Total_Households</th>\n",
       "      <th>Ownership_Owned_Households</th>\n",
       "      <th>Ownership_Rented_Households</th>\n",
       "      <th>Type_of_bathing_facility_Enclosure_without_roof_Households</th>\n",
       "      <th>Type_of_fuel_used_for_cooking_Any_other_Households</th>\n",
       "      <th>Type_of_latrine_facility_Pit_latrine_Households</th>\n",
       "      <th>Type_of_latrine_facility_Other_latrine_Households</th>\n",
       "      <th>Type_of_latrine_facility_Night_soil_disposed_into_open_drain_Households</th>\n",
       "      <th>Type_of_latrine_facility_Flush_pour_flush_latrine_connected_to_other_system_Households</th>\n",
       "      <th>Not_having_bathing_facility_within_the_premises_Total_Households</th>\n",
       "      <th>Not_having_latrine_facility_within_the_premises_Alternative_source_Open_Households</th>\n",
       "      <th>Main_source_of_drinking_water_Un_covered_well_Households</th>\n",
       "      <th>Main_source_of_drinking_water_Handpump_Tubewell_Borewell_Households</th>\n",
       "      <th>Main_source_of_drinking_water_Spring_Households</th>\n",
       "      <th>Main_source_of_drinking_water_River_Canal_Households</th>\n",
       "      <th>Main_source_of_drinking_water_Other_sources_Households</th>\n",
       "      <th>Main_source_of_drinking_water_Other_sources_Spring_River_Canal_Tank_Pond_Lake_Other_sources__Households</th>\n",
       "      <th>Location_of_drinking_water_source_Near_the_premises_Households</th>\n",
       "      <th>Location_of_drinking_water_source_Within_the_premises_Households</th>\n",
       "      <th>Main_source_of_drinking_water_Tank_Pond_Lake_Households</th>\n",
       "      <th>Main_source_of_drinking_water_Tapwater_Households</th>\n",
       "      <th>Main_source_of_drinking_water_Tubewell_Borehole_Households</th>\n",
       "      <th>Household_size_1_person_Households</th>\n",
       "      <th>Household_size_2_persons_Households</th>\n",
       "      <th>Household_size_1_to_2_persons</th>\n",
       "      <th>Household_size_3_persons_Households</th>\n",
       "      <th>Household_size_3_to_5_persons_Households</th>\n",
       "      <th>Household_size_4_persons_Households</th>\n",
       "      <th>Household_size_5_persons_Households</th>\n",
       "      <th>Household_size_6_8_persons_Households</th>\n",
       "      <th>Household_size_9_persons_and_above_Households</th>\n",
       "      <th>Location_of_drinking_water_source_Away_Households</th>\n",
       "      <th>Married_couples_1_Households</th>\n",
       "      <th>Married_couples_2_Households</th>\n",
       "      <th>Married_couples_3_Households</th>\n",
       "      <th>Married_couples_3_or_more_Households</th>\n",
       "      <th>Married_couples_4_Households</th>\n",
       "      <th>Married_couples_5__Households</th>\n",
       "      <th>Married_couples_None_Households</th>\n",
       "      <th>Power_Parity_Less_than_Rs_45000</th>\n",
       "      <th>Power_Parity_Rs_45000_90000</th>\n",
       "      <th>Power_Parity_Rs_90000_150000</th>\n",
       "      <th>Power_Parity_Rs_45000_150000</th>\n",
       "      <th>Power_Parity_Rs_150000_240000</th>\n",
       "      <th>Power_Parity_Rs_240000_330000</th>\n",
       "      <th>Power_Parity_Rs_150000_330000</th>\n",
       "      <th>Power_Parity_Rs_330000_425000</th>\n",
       "      <th>Power_Parity_Rs_425000_545000</th>\n",
       "      <th>Power_Parity_Rs_330000_545000</th>\n",
       "      <th>Power_Parity_Above_Rs_545000</th>\n",
       "      <th>Total_Power_Parity</th>\n",
       "    </tr>\n",
       "  </thead>\n",
       "  <tbody>\n",
       "    <tr>\n",
       "      <th>0</th>\n",
       "      <td>Andhra Pradesh</td>\n",
       "      <td>Adilabad</td>\n",
       "      <td>19.284514</td>\n",
       "      <td>78.813212</td>\n",
       "      <td>532</td>\n",
       "      <td>2741239</td>\n",
       "      <td>1369597</td>\n",
       "      <td>1371642</td>\n",
       "      <td>1483347</td>\n",
       "      <td>856350</td>\n",
       "      <td>626997</td>\n",
       "      <td>488596</td>\n",
       "      <td>242844</td>\n",
       "      <td>245752</td>\n",
       "      <td>495794</td>\n",
       "      <td>247472</td>\n",
       "      <td>248322</td>\n",
       "      <td>1323667</td>\n",
       "      <td>748939</td>\n",
       "      <td>574728</td>\n",
       "      <td>1066460</td>\n",
       "      <td>257207</td>\n",
       "      <td>1417572</td>\n",
       "      <td>363737</td>\n",
       "      <td>484912</td>\n",
       "      <td>84661</td>\n",
       "      <td>390357</td>\n",
       "      <td>2399901</td>\n",
       "      <td>275970</td>\n",
       "      <td>15422</td>\n",
       "      <td>1377</td>\n",
       "      <td>25510</td>\n",
       "      <td>617</td>\n",
       "      <td>322</td>\n",
       "      <td>22120</td>\n",
       "      <td>194954</td>\n",
       "      <td>566108</td>\n",
       "      <td>5512</td>\n",
       "      <td>45202</td>\n",
       "      <td>597466</td>\n",
       "      <td>220248</td>\n",
       "      <td>817714</td>\n",
       "      <td>232470</td>\n",
       "      <td>344167</td>\n",
       "      <td>281752</td>\n",
       "      <td>225957</td>\n",
       "      <td>143143</td>\n",
       "      <td>100226</td>\n",
       "      <td>19277</td>\n",
       "      <td>1346992</td>\n",
       "      <td>1030640</td>\n",
       "      <td>2377632</td>\n",
       "      <td>1536378</td>\n",
       "      <td>704551</td>\n",
       "      <td>422522</td>\n",
       "      <td>77788</td>\n",
       "      <td>150289</td>\n",
       "      <td>8338</td>\n",
       "      <td>25190</td>\n",
       "      <td>96998</td>\n",
       "      <td>15483</td>\n",
       "      <td>374630</td>\n",
       "      <td>9483</td>\n",
       "      <td>306433</td>\n",
       "      <td>403530</td>\n",
       "      <td>13417</td>\n",
       "      <td>35823</td>\n",
       "      <td>510399</td>\n",
       "      <td>378259</td>\n",
       "      <td>191052</td>\n",
       "      <td>559211</td>\n",
       "      <td>77594</td>\n",
       "      <td>180245</td>\n",
       "      <td>1009</td>\n",
       "      <td>20150</td>\n",
       "      <td>6489</td>\n",
       "      <td>4078</td>\n",
       "      <td>9390</td>\n",
       "      <td>273511</td>\n",
       "      <td>446014</td>\n",
       "      <td>93294</td>\n",
       "      <td>267233</td>\n",
       "      <td>2294</td>\n",
       "      <td>3303</td>\n",
       "      <td>7390</td>\n",
       "      <td>14508</td>\n",
       "      <td>212025</td>\n",
       "      <td>229686</td>\n",
       "      <td>1521</td>\n",
       "      <td>270862</td>\n",
       "      <td>79354</td>\n",
       "      <td>27018</td>\n",
       "      <td>80780</td>\n",
       "      <td>107798</td>\n",
       "      <td>103066</td>\n",
       "      <td>417387</td>\n",
       "      <td>182282</td>\n",
       "      <td>132039</td>\n",
       "      <td>114585</td>\n",
       "      <td>12000</td>\n",
       "      <td>210059</td>\n",
       "      <td>503266</td>\n",
       "      <td>58377</td>\n",
       "      <td>6455</td>\n",
       "      <td>7297</td>\n",
       "      <td>722</td>\n",
       "      <td>120</td>\n",
       "      <td>82830</td>\n",
       "      <td>648</td>\n",
       "      <td>1604</td>\n",
       "      <td>1266</td>\n",
       "      <td>2870</td>\n",
       "      <td>84</td>\n",
       "      <td>122</td>\n",
       "      <td>206</td>\n",
       "      <td>134</td>\n",
       "      <td>213</td>\n",
       "      <td>347</td>\n",
       "      <td>109</td>\n",
       "      <td>4181</td>\n",
       "    </tr>\n",
       "    <tr>\n",
       "      <th>1</th>\n",
       "      <td>Andhra Pradesh</td>\n",
       "      <td>Anantapur</td>\n",
       "      <td>14.312066</td>\n",
       "      <td>77.460158</td>\n",
       "      <td>553</td>\n",
       "      <td>4081148</td>\n",
       "      <td>2064495</td>\n",
       "      <td>2016653</td>\n",
       "      <td>2310960</td>\n",
       "      <td>1338474</td>\n",
       "      <td>972486</td>\n",
       "      <td>583135</td>\n",
       "      <td>292379</td>\n",
       "      <td>290756</td>\n",
       "      <td>154127</td>\n",
       "      <td>78573</td>\n",
       "      <td>75554</td>\n",
       "      <td>2036166</td>\n",
       "      <td>1208544</td>\n",
       "      <td>827622</td>\n",
       "      <td>1679655</td>\n",
       "      <td>356511</td>\n",
       "      <td>2044982</td>\n",
       "      <td>413253</td>\n",
       "      <td>879537</td>\n",
       "      <td>105343</td>\n",
       "      <td>638033</td>\n",
       "      <td>3599372</td>\n",
       "      <td>443456</td>\n",
       "      <td>20463</td>\n",
       "      <td>932</td>\n",
       "      <td>341</td>\n",
       "      <td>1417</td>\n",
       "      <td>309</td>\n",
       "      <td>14858</td>\n",
       "      <td>223016</td>\n",
       "      <td>897970</td>\n",
       "      <td>8606</td>\n",
       "      <td>48299</td>\n",
       "      <td>902997</td>\n",
       "      <td>341431</td>\n",
       "      <td>1244428</td>\n",
       "      <td>462273</td>\n",
       "      <td>720357</td>\n",
       "      <td>582075</td>\n",
       "      <td>331793</td>\n",
       "      <td>162175</td>\n",
       "      <td>144915</td>\n",
       "      <td>23341</td>\n",
       "      <td>2426929</td>\n",
       "      <td>1369069</td>\n",
       "      <td>3795998</td>\n",
       "      <td>2189396</td>\n",
       "      <td>1104565</td>\n",
       "      <td>739612</td>\n",
       "      <td>47575</td>\n",
       "      <td>206433</td>\n",
       "      <td>9915</td>\n",
       "      <td>63528</td>\n",
       "      <td>144214</td>\n",
       "      <td>24039</td>\n",
       "      <td>534408</td>\n",
       "      <td>14470</td>\n",
       "      <td>559461</td>\n",
       "      <td>581087</td>\n",
       "      <td>22640</td>\n",
       "      <td>23899</td>\n",
       "      <td>713663</td>\n",
       "      <td>755971</td>\n",
       "      <td>353948</td>\n",
       "      <td>779195</td>\n",
       "      <td>172680</td>\n",
       "      <td>222718</td>\n",
       "      <td>824</td>\n",
       "      <td>96437</td>\n",
       "      <td>22059</td>\n",
       "      <td>19296</td>\n",
       "      <td>11188</td>\n",
       "      <td>205194</td>\n",
       "      <td>581051</td>\n",
       "      <td>5049</td>\n",
       "      <td>117001</td>\n",
       "      <td>552</td>\n",
       "      <td>469</td>\n",
       "      <td>16086</td>\n",
       "      <td>17308</td>\n",
       "      <td>528245</td>\n",
       "      <td>225275</td>\n",
       "      <td>201</td>\n",
       "      <td>819675</td>\n",
       "      <td>43685</td>\n",
       "      <td>36633</td>\n",
       "      <td>106460</td>\n",
       "      <td>143093</td>\n",
       "      <td>156107</td>\n",
       "      <td>644263</td>\n",
       "      <td>291388</td>\n",
       "      <td>196768</td>\n",
       "      <td>153243</td>\n",
       "      <td>20566</td>\n",
       "      <td>207645</td>\n",
       "      <td>718794</td>\n",
       "      <td>115052</td>\n",
       "      <td>15584</td>\n",
       "      <td>17947</td>\n",
       "      <td>1994</td>\n",
       "      <td>369</td>\n",
       "      <td>109372</td>\n",
       "      <td>969</td>\n",
       "      <td>2252</td>\n",
       "      <td>1605</td>\n",
       "      <td>3857</td>\n",
       "      <td>143</td>\n",
       "      <td>150</td>\n",
       "      <td>293</td>\n",
       "      <td>176</td>\n",
       "      <td>261</td>\n",
       "      <td>437</td>\n",
       "      <td>243</td>\n",
       "      <td>5799</td>\n",
       "    </tr>\n",
       "    <tr>\n",
       "      <th>2</th>\n",
       "      <td>Andhra Pradesh</td>\n",
       "      <td>Chittoor</td>\n",
       "      <td>13.331093</td>\n",
       "      <td>78.927639</td>\n",
       "      <td>554</td>\n",
       "      <td>4174064</td>\n",
       "      <td>2090204</td>\n",
       "      <td>2083860</td>\n",
       "      <td>2667878</td>\n",
       "      <td>1484794</td>\n",
       "      <td>1183084</td>\n",
       "      <td>785760</td>\n",
       "      <td>389582</td>\n",
       "      <td>396178</td>\n",
       "      <td>159165</td>\n",
       "      <td>79756</td>\n",
       "      <td>79409</td>\n",
       "      <td>1933357</td>\n",
       "      <td>1202223</td>\n",
       "      <td>731134</td>\n",
       "      <td>1669852</td>\n",
       "      <td>263505</td>\n",
       "      <td>2240707</td>\n",
       "      <td>434544</td>\n",
       "      <td>748093</td>\n",
       "      <td>57269</td>\n",
       "      <td>693451</td>\n",
       "      <td>3737588</td>\n",
       "      <td>397870</td>\n",
       "      <td>24129</td>\n",
       "      <td>867</td>\n",
       "      <td>253</td>\n",
       "      <td>1322</td>\n",
       "      <td>358</td>\n",
       "      <td>11677</td>\n",
       "      <td>324406</td>\n",
       "      <td>944555</td>\n",
       "      <td>13763</td>\n",
       "      <td>67087</td>\n",
       "      <td>907970</td>\n",
       "      <td>395900</td>\n",
       "      <td>1303870</td>\n",
       "      <td>522961</td>\n",
       "      <td>770836</td>\n",
       "      <td>673197</td>\n",
       "      <td>548336</td>\n",
       "      <td>265199</td>\n",
       "      <td>246409</td>\n",
       "      <td>36017</td>\n",
       "      <td>3062955</td>\n",
       "      <td>1170993</td>\n",
       "      <td>4233948</td>\n",
       "      <td>2148179</td>\n",
       "      <td>1159053</td>\n",
       "      <td>807430</td>\n",
       "      <td>59402</td>\n",
       "      <td>225856</td>\n",
       "      <td>16296</td>\n",
       "      <td>93489</td>\n",
       "      <td>186568</td>\n",
       "      <td>35378</td>\n",
       "      <td>561188</td>\n",
       "      <td>24934</td>\n",
       "      <td>611465</td>\n",
       "      <td>632803</td>\n",
       "      <td>36237</td>\n",
       "      <td>30849</td>\n",
       "      <td>777100</td>\n",
       "      <td>754648</td>\n",
       "      <td>382377</td>\n",
       "      <td>815953</td>\n",
       "      <td>196720</td>\n",
       "      <td>246488</td>\n",
       "      <td>640</td>\n",
       "      <td>32299</td>\n",
       "      <td>12221</td>\n",
       "      <td>10381</td>\n",
       "      <td>11823</td>\n",
       "      <td>267468</td>\n",
       "      <td>628364</td>\n",
       "      <td>8192</td>\n",
       "      <td>135531</td>\n",
       "      <td>349</td>\n",
       "      <td>548</td>\n",
       "      <td>38931</td>\n",
       "      <td>40322</td>\n",
       "      <td>539408</td>\n",
       "      <td>342011</td>\n",
       "      <td>494</td>\n",
       "      <td>835606</td>\n",
       "      <td>92651</td>\n",
       "      <td>55151</td>\n",
       "      <td>132169</td>\n",
       "      <td>187320</td>\n",
       "      <td>175853</td>\n",
       "      <td>678054</td>\n",
       "      <td>311451</td>\n",
       "      <td>190750</td>\n",
       "      <td>142837</td>\n",
       "      <td>13905</td>\n",
       "      <td>140697</td>\n",
       "      <td>757090</td>\n",
       "      <td>105579</td>\n",
       "      <td>10901</td>\n",
       "      <td>12183</td>\n",
       "      <td>1103</td>\n",
       "      <td>179</td>\n",
       "      <td>147264</td>\n",
       "      <td>1021</td>\n",
       "      <td>2270</td>\n",
       "      <td>1565</td>\n",
       "      <td>3835</td>\n",
       "      <td>261</td>\n",
       "      <td>125</td>\n",
       "      <td>386</td>\n",
       "      <td>157</td>\n",
       "      <td>218</td>\n",
       "      <td>375</td>\n",
       "      <td>307</td>\n",
       "      <td>5926</td>\n",
       "    </tr>\n",
       "    <tr>\n",
       "      <th>3</th>\n",
       "      <td>Andhra Pradesh</td>\n",
       "      <td>East Godavari</td>\n",
       "      <td>16.782718</td>\n",
       "      <td>82.243207</td>\n",
       "      <td>545</td>\n",
       "      <td>5154296</td>\n",
       "      <td>2569688</td>\n",
       "      <td>2584608</td>\n",
       "      <td>3288577</td>\n",
       "      <td>1716933</td>\n",
       "      <td>1571644</td>\n",
       "      <td>945269</td>\n",
       "      <td>468883</td>\n",
       "      <td>476386</td>\n",
       "      <td>213195</td>\n",
       "      <td>104422</td>\n",
       "      <td>108773</td>\n",
       "      <td>2093681</td>\n",
       "      <td>1545831</td>\n",
       "      <td>547850</td>\n",
       "      <td>1748117</td>\n",
       "      <td>345564</td>\n",
       "      <td>3060615</td>\n",
       "      <td>160407</td>\n",
       "      <td>1122046</td>\n",
       "      <td>57853</td>\n",
       "      <td>753375</td>\n",
       "      <td>4983330</td>\n",
       "      <td>77777</td>\n",
       "      <td>77825</td>\n",
       "      <td>738</td>\n",
       "      <td>413</td>\n",
       "      <td>4149</td>\n",
       "      <td>403</td>\n",
       "      <td>9661</td>\n",
       "      <td>479914</td>\n",
       "      <td>1297273</td>\n",
       "      <td>22411</td>\n",
       "      <td>93784</td>\n",
       "      <td>1199479</td>\n",
       "      <td>406362</td>\n",
       "      <td>1605841</td>\n",
       "      <td>669420</td>\n",
       "      <td>947606</td>\n",
       "      <td>797497</td>\n",
       "      <td>521562</td>\n",
       "      <td>271809</td>\n",
       "      <td>263023</td>\n",
       "      <td>47702</td>\n",
       "      <td>3518619</td>\n",
       "      <td>1524603</td>\n",
       "      <td>5043222</td>\n",
       "      <td>2724328</td>\n",
       "      <td>1478954</td>\n",
       "      <td>948122</td>\n",
       "      <td>2892</td>\n",
       "      <td>779052</td>\n",
       "      <td>25381</td>\n",
       "      <td>113126</td>\n",
       "      <td>232073</td>\n",
       "      <td>65415</td>\n",
       "      <td>614288</td>\n",
       "      <td>34494</td>\n",
       "      <td>821421</td>\n",
       "      <td>732492</td>\n",
       "      <td>52789</td>\n",
       "      <td>46973</td>\n",
       "      <td>869294</td>\n",
       "      <td>869464</td>\n",
       "      <td>800168</td>\n",
       "      <td>1088823</td>\n",
       "      <td>278383</td>\n",
       "      <td>132607</td>\n",
       "      <td>1622</td>\n",
       "      <td>50195</td>\n",
       "      <td>6007</td>\n",
       "      <td>2058</td>\n",
       "      <td>11341</td>\n",
       "      <td>537946</td>\n",
       "      <td>510602</td>\n",
       "      <td>121195</td>\n",
       "      <td>342767</td>\n",
       "      <td>4440</td>\n",
       "      <td>6523</td>\n",
       "      <td>11217</td>\n",
       "      <td>27864</td>\n",
       "      <td>558347</td>\n",
       "      <td>613789</td>\n",
       "      <td>5684</td>\n",
       "      <td>908806</td>\n",
       "      <td>40397</td>\n",
       "      <td>95856</td>\n",
       "      <td>239150</td>\n",
       "      <td>335006</td>\n",
       "      <td>275218</td>\n",
       "      <td>952492</td>\n",
       "      <td>468704</td>\n",
       "      <td>208570</td>\n",
       "      <td>112434</td>\n",
       "      <td>7478</td>\n",
       "      <td>235274</td>\n",
       "      <td>1085890</td>\n",
       "      <td>85895</td>\n",
       "      <td>6477</td>\n",
       "      <td>7007</td>\n",
       "      <td>450</td>\n",
       "      <td>80</td>\n",
       "      <td>228618</td>\n",
       "      <td>1274</td>\n",
       "      <td>2865</td>\n",
       "      <td>1949</td>\n",
       "      <td>4814</td>\n",
       "      <td>189</td>\n",
       "      <td>164</td>\n",
       "      <td>353</td>\n",
       "      <td>195</td>\n",
       "      <td>286</td>\n",
       "      <td>481</td>\n",
       "      <td>290</td>\n",
       "      <td>7211</td>\n",
       "    </tr>\n",
       "    <tr>\n",
       "      <th>4</th>\n",
       "      <td>Andhra Pradesh</td>\n",
       "      <td>Guntur</td>\n",
       "      <td>15.884926</td>\n",
       "      <td>80.586576</td>\n",
       "      <td>548</td>\n",
       "      <td>4887813</td>\n",
       "      <td>2440521</td>\n",
       "      <td>2447292</td>\n",
       "      <td>2960441</td>\n",
       "      <td>1634726</td>\n",
       "      <td>1325715</td>\n",
       "      <td>957407</td>\n",
       "      <td>476333</td>\n",
       "      <td>481074</td>\n",
       "      <td>247089</td>\n",
       "      <td>125105</td>\n",
       "      <td>121984</td>\n",
       "      <td>2381624</td>\n",
       "      <td>1442370</td>\n",
       "      <td>939254</td>\n",
       "      <td>2106326</td>\n",
       "      <td>275298</td>\n",
       "      <td>2506189</td>\n",
       "      <td>302341</td>\n",
       "      <td>1227956</td>\n",
       "      <td>47436</td>\n",
       "      <td>803891</td>\n",
       "      <td>4217597</td>\n",
       "      <td>559770</td>\n",
       "      <td>89763</td>\n",
       "      <td>764</td>\n",
       "      <td>323</td>\n",
       "      <td>3282</td>\n",
       "      <td>332</td>\n",
       "      <td>15982</td>\n",
       "      <td>648568</td>\n",
       "      <td>1186028</td>\n",
       "      <td>19383</td>\n",
       "      <td>80434</td>\n",
       "      <td>1069877</td>\n",
       "      <td>513113</td>\n",
       "      <td>1582990</td>\n",
       "      <td>736270</td>\n",
       "      <td>845810</td>\n",
       "      <td>674957</td>\n",
       "      <td>453446</td>\n",
       "      <td>246580</td>\n",
       "      <td>221924</td>\n",
       "      <td>30279</td>\n",
       "      <td>3209266</td>\n",
       "      <td>1474349</td>\n",
       "      <td>4683615</td>\n",
       "      <td>2583462</td>\n",
       "      <td>1371811</td>\n",
       "      <td>928462</td>\n",
       "      <td>4078</td>\n",
       "      <td>454586</td>\n",
       "      <td>17424</td>\n",
       "      <td>106907</td>\n",
       "      <td>190079</td>\n",
       "      <td>62229</td>\n",
       "      <td>617321</td>\n",
       "      <td>28457</td>\n",
       "      <td>816849</td>\n",
       "      <td>733133</td>\n",
       "      <td>53583</td>\n",
       "      <td>44968</td>\n",
       "      <td>917356</td>\n",
       "      <td>904201</td>\n",
       "      <td>762845</td>\n",
       "      <td>981115</td>\n",
       "      <td>276073</td>\n",
       "      <td>180459</td>\n",
       "      <td>1292</td>\n",
       "      <td>58852</td>\n",
       "      <td>5982</td>\n",
       "      <td>2660</td>\n",
       "      <td>4774</td>\n",
       "      <td>383630</td>\n",
       "      <td>513287</td>\n",
       "      <td>67710</td>\n",
       "      <td>428749</td>\n",
       "      <td>1299</td>\n",
       "      <td>4238</td>\n",
       "      <td>35872</td>\n",
       "      <td>47242</td>\n",
       "      <td>465404</td>\n",
       "      <td>554667</td>\n",
       "      <td>5833</td>\n",
       "      <td>739450</td>\n",
       "      <td>73453</td>\n",
       "      <td>83026</td>\n",
       "      <td>212589</td>\n",
       "      <td>295615</td>\n",
       "      <td>229537</td>\n",
       "      <td>842985</td>\n",
       "      <td>413160</td>\n",
       "      <td>200288</td>\n",
       "      <td>139120</td>\n",
       "      <td>10111</td>\n",
       "      <td>267760</td>\n",
       "      <td>972992</td>\n",
       "      <td>117838</td>\n",
       "      <td>10388</td>\n",
       "      <td>11313</td>\n",
       "      <td>821</td>\n",
       "      <td>104</td>\n",
       "      <td>185688</td>\n",
       "      <td>1119</td>\n",
       "      <td>2657</td>\n",
       "      <td>1953</td>\n",
       "      <td>4610</td>\n",
       "      <td>196</td>\n",
       "      <td>188</td>\n",
       "      <td>384</td>\n",
       "      <td>222</td>\n",
       "      <td>328</td>\n",
       "      <td>550</td>\n",
       "      <td>317</td>\n",
       "      <td>6981</td>\n",
       "    </tr>\n",
       "  </tbody>\n",
       "</table>\n",
       "</div>"
      ],
      "text/plain": [
       "            State       District   Latitude  Longitude  District code  \\\n",
       "0  Andhra Pradesh       Adilabad  19.284514  78.813212            532   \n",
       "1  Andhra Pradesh      Anantapur  14.312066  77.460158            553   \n",
       "2  Andhra Pradesh       Chittoor  13.331093  78.927639            554   \n",
       "3  Andhra Pradesh  East Godavari  16.782718  82.243207            545   \n",
       "4  Andhra Pradesh         Guntur  15.884926  80.586576            548   \n",
       "\n",
       "   Population     Male   Female  Literate  Male_Literate  Female_Literate  \\\n",
       "0     2741239  1369597  1371642   1483347         856350           626997   \n",
       "1     4081148  2064495  2016653   2310960        1338474           972486   \n",
       "2     4174064  2090204  2083860   2667878        1484794          1183084   \n",
       "3     5154296  2569688  2584608   3288577        1716933          1571644   \n",
       "4     4887813  2440521  2447292   2960441        1634726          1325715   \n",
       "\n",
       "       SC  Male_SC  Female_SC      ST  Male_ST  Female_ST  Workers  \\\n",
       "0  488596   242844     245752  495794   247472     248322  1323667   \n",
       "1  583135   292379     290756  154127    78573      75554  2036166   \n",
       "2  785760   389582     396178  159165    79756      79409  1933357   \n",
       "3  945269   468883     476386  213195   104422     108773  2093681   \n",
       "4  957407   476333     481074  247089   125105     121984  2381624   \n",
       "\n",
       "   Male_Workers  Female_Workers  Main_Workers  Marginal_Workers  Non_Workers  \\\n",
       "0        748939          574728       1066460            257207      1417572   \n",
       "1       1208544          827622       1679655            356511      2044982   \n",
       "2       1202223          731134       1669852            263505      2240707   \n",
       "3       1545831          547850       1748117            345564      3060615   \n",
       "4       1442370          939254       2106326            275298      2506189   \n",
       "\n",
       "   Cultivator_Workers  Agricultural_Workers  Household_Workers  Other_Workers  \\\n",
       "0              363737                484912              84661         390357   \n",
       "1              413253                879537             105343         638033   \n",
       "2              434544                748093              57269         693451   \n",
       "3              160407               1122046              57853         753375   \n",
       "4              302341               1227956              47436         803891   \n",
       "\n",
       "    Hindus  Muslims  Christians  Sikhs  Buddhists  Jains  Others_Religions  \\\n",
       "0  2399901   275970       15422   1377      25510    617               322   \n",
       "1  3599372   443456       20463    932        341   1417               309   \n",
       "2  3737588   397870       24129    867        253   1322               358   \n",
       "3  4983330    77777       77825    738        413   4149               403   \n",
       "4  4217597   559770       89763    764        323   3282               332   \n",
       "\n",
       "   Religion_Not_Stated  LPG_or_PNG_Households  \\\n",
       "0                22120                 194954   \n",
       "1                14858                 223016   \n",
       "2                11677                 324406   \n",
       "3                 9661                 479914   \n",
       "4                15982                 648568   \n",
       "\n",
       "   Housholds_with_Electric_Lighting  Households_with_Internet  \\\n",
       "0                            566108                      5512   \n",
       "1                            897970                      8606   \n",
       "2                            944555                     13763   \n",
       "3                           1297273                     22411   \n",
       "4                           1186028                     19383   \n",
       "\n",
       "   Households_with_Computer  Rural_Households  Urban_Households  Households  \\\n",
       "0                     45202            597466            220248      817714   \n",
       "1                     48299            902997            341431     1244428   \n",
       "2                     67087            907970            395900     1303870   \n",
       "3                     93784           1199479            406362     1605841   \n",
       "4                     80434           1069877            513113     1582990   \n",
       "\n",
       "   Below_Primary_Education  Primary_Education  Middle_Education  \\\n",
       "0                   232470             344167            281752   \n",
       "1                   462273             720357            582075   \n",
       "2                   522961             770836            673197   \n",
       "3                   669420             947606            797497   \n",
       "4                   736270             845810            674957   \n",
       "\n",
       "   Secondary_Education  Higher_Education  Graduate_Education  Other_Education  \\\n",
       "0               225957            143143              100226            19277   \n",
       "1               331793            162175              144915            23341   \n",
       "2               548336            265199              246409            36017   \n",
       "3               521562            271809              263023            47702   \n",
       "4               453446            246580              221924            30279   \n",
       "\n",
       "   Literate_Education  Illiterate_Education  Total_Education  Age_Group_0_29  \\\n",
       "0             1346992               1030640          2377632         1536378   \n",
       "1             2426929               1369069          3795998         2189396   \n",
       "2             3062955               1170993          4233948         2148179   \n",
       "3             3518619               1524603          5043222         2724328   \n",
       "4             3209266               1474349          4683615         2583462   \n",
       "\n",
       "   Age_Group_30_49  Age_Group_50  Age not stated  Households_with_Bicycle  \\\n",
       "0           704551        422522           77788                   150289   \n",
       "1          1104565        739612           47575                   206433   \n",
       "2          1159053        807430           59402                   225856   \n",
       "3          1478954        948122            2892                   779052   \n",
       "4          1371811        928462            4078                   454586   \n",
       "\n",
       "   Households_with_Car_Jeep_Van  Households_with_Radio_Transistor  \\\n",
       "0                          8338                             25190   \n",
       "1                          9915                             63528   \n",
       "2                         16296                             93489   \n",
       "3                         25381                            113126   \n",
       "4                         17424                            106907   \n",
       "\n",
       "   Households_with_Scooter_Motorcycle_Moped  \\\n",
       "0                                     96998   \n",
       "1                                    144214   \n",
       "2                                    186568   \n",
       "3                                    232073   \n",
       "4                                    190079   \n",
       "\n",
       "   Households_with_Telephone_Mobile_Phone_Landline_only  \\\n",
       "0                                              15483      \n",
       "1                                              24039      \n",
       "2                                              35378      \n",
       "3                                              65415      \n",
       "4                                              62229      \n",
       "\n",
       "   Households_with_Telephone_Mobile_Phone_Mobile_only  \\\n",
       "0                                             374630    \n",
       "1                                             534408    \n",
       "2                                             561188    \n",
       "3                                             614288    \n",
       "4                                             617321    \n",
       "\n",
       "   Households_with_TV_Computer_Laptop_Telephone_mobile_phone_and_Scooter_Car  \\\n",
       "0                                               9483                           \n",
       "1                                              14470                           \n",
       "2                                              24934                           \n",
       "3                                              34494                           \n",
       "4                                              28457                           \n",
       "\n",
       "   Households_with_Television  Households_with_Telephone_Mobile_Phone  \\\n",
       "0                      306433                                  403530   \n",
       "1                      559461                                  581087   \n",
       "2                      611465                                  632803   \n",
       "3                      821421                                  732492   \n",
       "4                      816849                                  733133   \n",
       "\n",
       "   Households_with_Telephone_Mobile_Phone_Both  \\\n",
       "0                                        13417   \n",
       "1                                        22640   \n",
       "2                                        36237   \n",
       "3                                        52789   \n",
       "4                                        53583   \n",
       "\n",
       "   Condition_of_occupied_census_houses_Dilapidated_Households  \\\n",
       "0                                              35823            \n",
       "1                                              23899            \n",
       "2                                              30849            \n",
       "3                                              46973            \n",
       "4                                              44968            \n",
       "\n",
       "   Households_with_separate_kitchen_Cooking_inside_house  \\\n",
       "0                                             510399       \n",
       "1                                             713663       \n",
       "2                                             777100       \n",
       "3                                             869294       \n",
       "4                                             917356       \n",
       "\n",
       "   Having_bathing_facility_Total_Households  \\\n",
       "0                                    378259   \n",
       "1                                    755971   \n",
       "2                                    754648   \n",
       "3                                    869464   \n",
       "4                                    904201   \n",
       "\n",
       "   Having_latrine_facility_within_the_premises_Total_Households  \\\n",
       "0                                             191052              \n",
       "1                                             353948              \n",
       "2                                             382377              \n",
       "3                                             800168              \n",
       "4                                             762845              \n",
       "\n",
       "   Ownership_Owned_Households  Ownership_Rented_Households  \\\n",
       "0                      559211                        77594   \n",
       "1                      779195                       172680   \n",
       "2                      815953                       196720   \n",
       "3                     1088823                       278383   \n",
       "4                      981115                       276073   \n",
       "\n",
       "   Type_of_bathing_facility_Enclosure_without_roof_Households  \\\n",
       "0                                             180245            \n",
       "1                                             222718            \n",
       "2                                             246488            \n",
       "3                                             132607            \n",
       "4                                             180459            \n",
       "\n",
       "   Type_of_fuel_used_for_cooking_Any_other_Households  \\\n",
       "0                                               1009    \n",
       "1                                                824    \n",
       "2                                                640    \n",
       "3                                               1622    \n",
       "4                                               1292    \n",
       "\n",
       "   Type_of_latrine_facility_Pit_latrine_Households  \\\n",
       "0                                            20150   \n",
       "1                                            96437   \n",
       "2                                            32299   \n",
       "3                                            50195   \n",
       "4                                            58852   \n",
       "\n",
       "   Type_of_latrine_facility_Other_latrine_Households  \\\n",
       "0                                               6489   \n",
       "1                                              22059   \n",
       "2                                              12221   \n",
       "3                                               6007   \n",
       "4                                               5982   \n",
       "\n",
       "   Type_of_latrine_facility_Night_soil_disposed_into_open_drain_Households  \\\n",
       "0                                               4078                         \n",
       "1                                              19296                         \n",
       "2                                              10381                         \n",
       "3                                               2058                         \n",
       "4                                               2660                         \n",
       "\n",
       "   Type_of_latrine_facility_Flush_pour_flush_latrine_connected_to_other_system_Households  \\\n",
       "0                                               9390                                        \n",
       "1                                              11188                                        \n",
       "2                                              11823                                        \n",
       "3                                              11341                                        \n",
       "4                                               4774                                        \n",
       "\n",
       "   Not_having_bathing_facility_within_the_premises_Total_Households  \\\n",
       "0                                             273511                  \n",
       "1                                             205194                  \n",
       "2                                             267468                  \n",
       "3                                             537946                  \n",
       "4                                             383630                  \n",
       "\n",
       "   Not_having_latrine_facility_within_the_premises_Alternative_source_Open_Households  \\\n",
       "0                                             446014                                    \n",
       "1                                             581051                                    \n",
       "2                                             628364                                    \n",
       "3                                             510602                                    \n",
       "4                                             513287                                    \n",
       "\n",
       "   Main_source_of_drinking_water_Un_covered_well_Households  \\\n",
       "0                                              93294          \n",
       "1                                               5049          \n",
       "2                                               8192          \n",
       "3                                             121195          \n",
       "4                                              67710          \n",
       "\n",
       "   Main_source_of_drinking_water_Handpump_Tubewell_Borewell_Households  \\\n",
       "0                                             267233                     \n",
       "1                                             117001                     \n",
       "2                                             135531                     \n",
       "3                                             342767                     \n",
       "4                                             428749                     \n",
       "\n",
       "   Main_source_of_drinking_water_Spring_Households  \\\n",
       "0                                             2294   \n",
       "1                                              552   \n",
       "2                                              349   \n",
       "3                                             4440   \n",
       "4                                             1299   \n",
       "\n",
       "   Main_source_of_drinking_water_River_Canal_Households  \\\n",
       "0                                               3303      \n",
       "1                                                469      \n",
       "2                                                548      \n",
       "3                                               6523      \n",
       "4                                               4238      \n",
       "\n",
       "   Main_source_of_drinking_water_Other_sources_Households  \\\n",
       "0                                               7390        \n",
       "1                                              16086        \n",
       "2                                              38931        \n",
       "3                                              11217        \n",
       "4                                              35872        \n",
       "\n",
       "   Main_source_of_drinking_water_Other_sources_Spring_River_Canal_Tank_Pond_Lake_Other_sources__Households  \\\n",
       "0                                              14508                                                         \n",
       "1                                              17308                                                         \n",
       "2                                              40322                                                         \n",
       "3                                              27864                                                         \n",
       "4                                              47242                                                         \n",
       "\n",
       "   Location_of_drinking_water_source_Near_the_premises_Households  \\\n",
       "0                                             212025                \n",
       "1                                             528245                \n",
       "2                                             539408                \n",
       "3                                             558347                \n",
       "4                                             465404                \n",
       "\n",
       "   Location_of_drinking_water_source_Within_the_premises_Households  \\\n",
       "0                                             229686                  \n",
       "1                                             225275                  \n",
       "2                                             342011                  \n",
       "3                                             613789                  \n",
       "4                                             554667                  \n",
       "\n",
       "   Main_source_of_drinking_water_Tank_Pond_Lake_Households  \\\n",
       "0                                               1521         \n",
       "1                                                201         \n",
       "2                                                494         \n",
       "3                                               5684         \n",
       "4                                               5833         \n",
       "\n",
       "   Main_source_of_drinking_water_Tapwater_Households  \\\n",
       "0                                             270862   \n",
       "1                                             819675   \n",
       "2                                             835606   \n",
       "3                                             908806   \n",
       "4                                             739450   \n",
       "\n",
       "   Main_source_of_drinking_water_Tubewell_Borehole_Households  \\\n",
       "0                                              79354            \n",
       "1                                              43685            \n",
       "2                                              92651            \n",
       "3                                              40397            \n",
       "4                                              73453            \n",
       "\n",
       "   Household_size_1_person_Households  Household_size_2_persons_Households  \\\n",
       "0                               27018                                80780   \n",
       "1                               36633                               106460   \n",
       "2                               55151                               132169   \n",
       "3                               95856                               239150   \n",
       "4                               83026                               212589   \n",
       "\n",
       "   Household_size_1_to_2_persons  Household_size_3_persons_Households  \\\n",
       "0                         107798                               103066   \n",
       "1                         143093                               156107   \n",
       "2                         187320                               175853   \n",
       "3                         335006                               275218   \n",
       "4                         295615                               229537   \n",
       "\n",
       "   Household_size_3_to_5_persons_Households  \\\n",
       "0                                    417387   \n",
       "1                                    644263   \n",
       "2                                    678054   \n",
       "3                                    952492   \n",
       "4                                    842985   \n",
       "\n",
       "   Household_size_4_persons_Households  Household_size_5_persons_Households  \\\n",
       "0                               182282                               132039   \n",
       "1                               291388                               196768   \n",
       "2                               311451                               190750   \n",
       "3                               468704                               208570   \n",
       "4                               413160                               200288   \n",
       "\n",
       "   Household_size_6_8_persons_Households  \\\n",
       "0                                 114585   \n",
       "1                                 153243   \n",
       "2                                 142837   \n",
       "3                                 112434   \n",
       "4                                 139120   \n",
       "\n",
       "   Household_size_9_persons_and_above_Households  \\\n",
       "0                                          12000   \n",
       "1                                          20566   \n",
       "2                                          13905   \n",
       "3                                           7478   \n",
       "4                                          10111   \n",
       "\n",
       "   Location_of_drinking_water_source_Away_Households  \\\n",
       "0                                             210059   \n",
       "1                                             207645   \n",
       "2                                             140697   \n",
       "3                                             235274   \n",
       "4                                             267760   \n",
       "\n",
       "   Married_couples_1_Households  Married_couples_2_Households  \\\n",
       "0                        503266                         58377   \n",
       "1                        718794                        115052   \n",
       "2                        757090                        105579   \n",
       "3                       1085890                         85895   \n",
       "4                        972992                        117838   \n",
       "\n",
       "   Married_couples_3_Households  Married_couples_3_or_more_Households  \\\n",
       "0                          6455                                  7297   \n",
       "1                         15584                                 17947   \n",
       "2                         10901                                 12183   \n",
       "3                          6477                                  7007   \n",
       "4                         10388                                 11313   \n",
       "\n",
       "   Married_couples_4_Households  Married_couples_5__Households  \\\n",
       "0                           722                            120   \n",
       "1                          1994                            369   \n",
       "2                          1103                            179   \n",
       "3                           450                             80   \n",
       "4                           821                            104   \n",
       "\n",
       "   Married_couples_None_Households  Power_Parity_Less_than_Rs_45000  \\\n",
       "0                            82830                              648   \n",
       "1                           109372                              969   \n",
       "2                           147264                             1021   \n",
       "3                           228618                             1274   \n",
       "4                           185688                             1119   \n",
       "\n",
       "   Power_Parity_Rs_45000_90000  Power_Parity_Rs_90000_150000  \\\n",
       "0                         1604                          1266   \n",
       "1                         2252                          1605   \n",
       "2                         2270                          1565   \n",
       "3                         2865                          1949   \n",
       "4                         2657                          1953   \n",
       "\n",
       "   Power_Parity_Rs_45000_150000  Power_Parity_Rs_150000_240000  \\\n",
       "0                          2870                             84   \n",
       "1                          3857                            143   \n",
       "2                          3835                            261   \n",
       "3                          4814                            189   \n",
       "4                          4610                            196   \n",
       "\n",
       "   Power_Parity_Rs_240000_330000  Power_Parity_Rs_150000_330000  \\\n",
       "0                            122                            206   \n",
       "1                            150                            293   \n",
       "2                            125                            386   \n",
       "3                            164                            353   \n",
       "4                            188                            384   \n",
       "\n",
       "   Power_Parity_Rs_330000_425000  Power_Parity_Rs_425000_545000  \\\n",
       "0                            134                            213   \n",
       "1                            176                            261   \n",
       "2                            157                            218   \n",
       "3                            195                            286   \n",
       "4                            222                            328   \n",
       "\n",
       "   Power_Parity_Rs_330000_545000  Power_Parity_Above_Rs_545000  \\\n",
       "0                            347                           109   \n",
       "1                            437                           243   \n",
       "2                            375                           307   \n",
       "3                            481                           290   \n",
       "4                            550                           317   \n",
       "\n",
       "   Total_Power_Parity  \n",
       "0                4181  \n",
       "1                5799  \n",
       "2                5926  \n",
       "3                7211  \n",
       "4                6981  "
      ]
     },
     "execution_count": 9,
     "metadata": {},
     "output_type": "execute_result"
    }
   ],
   "source": [
    "pd.set_option('display.max_columns',None)\n",
    "final_df.head()"
   ]
  },
  {
   "cell_type": "code",
   "execution_count": 38,
   "metadata": {},
   "outputs": [],
   "source": [
    "final_df['Sex Ratio'] = round((final_df['Female']/final_df['Male'])*100)"
   ]
  },
  {
   "cell_type": "code",
   "execution_count": 39,
   "metadata": {},
   "outputs": [],
   "source": [
    "final_df['Literacy Rate'] = round((final_df['Literate']/final_df['Population'])*100)"
   ]
  },
  {
   "cell_type": "code",
   "execution_count": 18,
   "metadata": {},
   "outputs": [],
   "source": [
    "temp_df = final_df[['State','District','Latitude','Longitude','District code','Population','Households_with_Internet','sex_ration','literacy_rate']]"
   ]
  },
  {
   "cell_type": "code",
   "execution_count": 20,
   "metadata": {},
   "outputs": [],
   "source": [
    "temp_df.to_csv(\"C:\\\\Users\\\\sanja\\\\Downloads\\\\india.csv\", index=False)"
   ]
  },
  {
   "cell_type": "code",
   "execution_count": 24,
   "metadata": {},
   "outputs": [],
   "source": [
    "list_of_states = list(temp_df['State'].unique())"
   ]
  },
  {
   "cell_type": "code",
   "execution_count": 26,
   "metadata": {},
   "outputs": [],
   "source": [
    "list_of_states.insert(0, 'Overall India')"
   ]
  },
  {
   "cell_type": "code",
   "execution_count": 33,
   "metadata": {},
   "outputs": [
    {
     "data": {
      "text/plain": [
       "['Households_with_Internet', 'Population', 'literacy_rate', 'sex_ration']"
      ]
     },
     "execution_count": 33,
     "metadata": {},
     "output_type": "execute_result"
    }
   ],
   "source": [
    "sorted(temp_df.columns[5:])"
   ]
  },
  {
   "cell_type": "code",
   "execution_count": 34,
   "metadata": {},
   "outputs": [
    {
     "data": {
      "text/plain": [
       "Index(['State', 'District', 'Latitude', 'Longitude', 'District code',\n",
       "       'Population', 'Households_with_Internet', 'sex_ration',\n",
       "       'literacy_rate'],\n",
       "      dtype='object')"
      ]
     },
     "execution_count": 34,
     "metadata": {},
     "output_type": "execute_result"
    }
   ],
   "source": [
    "temp_df.columns"
   ]
  },
  {
   "cell_type": "code",
   "execution_count": 35,
   "metadata": {},
   "outputs": [
    {
     "data": {
      "application/vnd.plotly.v1+json": {
       "config": {
        "plotlyServerURL": "https://plot.ly"
       },
       "data": [
        {
         "hovertemplate": "Latitude=%{lat}<br>Longitude=%{lon}<extra></extra>",
         "lat": [
          19.284513950073435,
          14.312065561843148,
          13.33109263067696,
          16.782718320784902,
          15.884925767634847,
          17.38971555555556,
          18.515483193277312,
          17.683921325051784,
          16.143872753151673,
          15.43759715142429,
          16.639546224256293,
          17.889304978038055,
          17.113250515463907,
          18.429485849056604,
          15.489039001601704,
          18.570900998697432,
          18.28329696032972,
          18.01752608695651,
          16.63297943925236,
          27.36048479338845,
          27.371194055944056,
          28.15382352941176,
          28.04853351800553,
          27.946785273972623,
          28.32651730103806,
          27.70849297297297,
          27.273529716981127,
          27.680683962264148,
          26.94406229508198,
          28.8309244897959,
          28.277196566523585,
          27.46486582278483,
          28.106296920289843,
          26.427872264631056,
          26.45012521994133,
          24.815570668693017,
          26.58463215962442,
          27.586533438485816,
          27.30612284482757,
          26.017277777777807,
          26.377219709794485,
          24.457496089385486,
          26.76244824016563,
          26.170939452054807,
          26.08966454598031,
          24.69660712250711,
          26.497246635730868,
          27.14128805970149,
          26.26462170626351,
          26.46323767605632,
          26.73514926829268,
          27.53549291139241,
          26.211528119180603,
          24.774291867469877,
          24.774291867469877,
          20.0979228832952,
          20.0979228832952,
          24.832355642023337,
          25.54302613168723,
          25.277192885375477,
          25.50666439393939,
          25.48593018867924,
          26.146187719298258,
          24.7266541547278,
          26.44874364161851,
          24.78418380462726,
          25.155679045643165,
          25.56565356037151,
          25.53558891454964,
          26.324336758321294,
          25.183449321266963,
          25.77341929460581,
          26.41380538172716,
          25.198537962962963,
          26.18664417177915,
          25.229345508982053,
          24.825708836206903,
          27.16064352201258,
          25.40297114503818,
          26.68129336734693,
          25.81714801901739,
          24.99170460829495,
          25.821270696721303,
          25.793205563909765,
          25.89656077844312,
          25.12472436548223,
          26.458380748663107,
          26.56570069686413,
          26.1736372013652,
          26.28157893772896,
          25.8134703180212,
          30.7426,
          19.393866751269048,
          22.356942982456143,
          22.356942982456143,
          31.3780422907489,
          31.3780422907489,
          20.554912627291245,
          21.194463849287164,
          22.77286167664669,
          22.491712499999995,
          23.50412776859501,
          21.223727037773354,
          22.008265068493166,
          22.008265068493166,
          18.453257637845976,
          18.453257637845976,
          20.88603153846152,
          23.32719278728607,
          20.431616666666677,
          20.72568199498111,
          20.929523011609785,
          15.548723418714054,
          15.195278658183785,
          22.605425564971743,
          21.04832649310872,
          22.282718206229863,
          24.258538965517253,
          21.75787276237761,
          21.70219390341736,
          23.193679790026252,
          22.410600414263328,
          23.48057203301311,
          22.88765312500002,
          23.529355452865065,
          21.70666386292833,
          20.866973318871995,
          22.80435606837605,
          23.80634198473284,
          21.55092351651571,
          22.40603377715488,
          23.71803594548552,
          21.25761372772093,
          22.82672007299272,
          20.801633877551023,
          22.26133739279589,
          20.44238231644259,
          30.3503672316384,
          28.728868064516128,
          28.14873109756098,
          29.57298318584072,
          28.043894789579163,
          29.23628731117825,
          28.59651868131869,
          29.45149821958457,
          29.96068539094649,
          29.703200647249204,
          30.05652659846548,
          28.1352161458333,
          30.700897142857134,
          29.34352134146342,
          28.19164714828897,
          28.892517647058817,
          29.63583446327684,
          32.66741814595661,
          31.67668481012659,
          31.67668481012659,
          25.738158381502892,
          25.738158381502892,
          32.14093603238864,
          31.60667184065933,
          31.90911922077925,
          31.635805940594054,
          31.155725451807253,
          30.682764453961443,
          31.03864311926604,
          31.58330388349513,
          33.359614675767915,
          32.713199095022645,
          33.565994894894914,
          32.51781678321678,
          33.88414418604652,
          33.791241290322574,
          34.27312898550724,
          33.04770670731707,
          23.6814965034965,
          24.11619945750453,
          24.33070100755672,
          23.854509090909097,
          24.275006125574265,
          24.082114689265527,
          24.30578509874329,
          24.8189,
          23.078532948929148,
          23.97873318077801,
          23.72511185840708,
          23.488796043165483,
          24.57260428082189,
          24.196925968109337,
          23.184235061391547,
          24.93667989690721,
          22.608760391198054,
          16.15860676328503,
          12.936827087794448,
          16.16107219152853,
          15.074377548209377,
          17.950361730769224,
          16.84015316666667,
          16.84015316666667,
          13.425288289676422,
          14.29102220394736,
          14.330414586709884,
          15.343831376975173,
          15.507128256880746,
          17.070459515951594,
          12.945098749999998,
          14.737582809224318,
          12.39684468085106,
          13.312799881235172,
          15.651253271028034,
          12.574901806239744,
          12.248100259403367,
          16.050795353982295,
          14.063845885634592,
          13.592467760074973,
          13.450404228534568,
          9.542602965599087,
          10.004879301987431,
          9.80480963855423,
          11.941523076923056,
          12.33310309912974,
          8.929388820570157,
          9.643701174068417,
          11.392924270557026,
          10.97329875666072,
          10.784926903553291,
          8.537101759082221,
          10.458932647907687,
          11.715277464788736,
          23.18184220430107,
          24.63098846153845,
          21.80020720640569,
          21.702135714285724,
          21.964626315789477,
          26.35951126187245,
          23.480726143790854,
          21.364567254408065,
          24.813637376460004,
          22.227966971713823,
          23.76624407960196,
          25.90226439560441,
          22.7851110021322,
          22.572681718963157,
          22.83738437047757,
          24.49043927178156,
          26.04074441964285,
          22.227659781121783,
          22.595268801996703,
          22.680265752128648,
          23.18525572327043,
          22.419578015397768,
          23.724416229116937,
          22.70348712446353,
          24.19278764044944,
          26.37313504531724,
          24.70311893333336,
          24.451325840092657,
          23.292518206521724,
          23.785499026425583,
          23.503562290502792,
          24.861184625158856,
          23.800318709677374,
          24.62777621776502,
          22.9297199679658,
          22.33230487804874,
          23.44859864559819,
          23.566620317220547,
          25.78014810996563,
          25.37802451874367,
          24.17547189952905,
          25.14099852104666,
          23.319288862745065,
          23.59601063063061,
          23.82838307984792,
          20.746310479041902,
          21.16520991810736,
          21.211792649727748,
          18.952353340080982,
          20.56680611183355,
          20.095609090909075,
          21.274018690400517,
          21.225008411214997,
          19.59525302245251,
          20.8828943415638,
          19.984612534818933,
          16.44881301587301,
          18.348687268993856,
          21.196556862745105,
          19.209316983017,
          21.523175625248147,
          20.266912871287143,
          18.19459456066944,
          19.31032425249168,
          18.51696171428573,
          17.210195070127703,
          17.154930181086502,
          17.6737908974359,
          16.170948049777163,
          17.837357937584812,
          19.698767747440264,
          20.80743024390242,
          20.282282394366213,
          20.04258346738159,
          24.50712111801243,
          24.2635812987013,
          24.30309718875504,
          25.08465586034914,
          24.98312942238265,
          24.545392553191498,
          25.05900314960629,
          25.82728228228228,
          25.303763888888884,
          25.33959557069844,
          25.240568578553614,
          25.495285185185185,
          25.500889926739926,
          23.90781335453101,
          23.54166580976866,
          24.2020004347826,
          22.36102843137253,
          23.007717036172675,
          23.73852942502819,
          22.35744801061008,
          23.263864705882344,
          25.814176811594223,
          25.60311428571428,
          26.478911764705888,
          26.69207374301676,
          25.63272986577182,
          26.21104453280316,
          26.202611551155112,
          26.028178205128206,
          21.48570932311624,
          20.95262735257214,
          20.407640646029623,
          20.79887159353349,
          19.121080882352945,
          19.2632617564534,
          21.827058566978184,
          19.784253092783523,
          20.092878624813142,
          20.606319815982264,
          20.054162322274863,
          18.82627794779476,
          18.25227930367506,
          21.897621545157754,
          20.192895622119817,
          20.471309512195116,
          19.83509174603177,
          19.292840020060204,
          21.515752380952385,
          22.06354819277107,
          10.876161726078813,
          12.006420793787758,
          16.707695652173904,
          31.548679820627772,
          30.190524611973352,
          30.591187250996025,
          30.64290947368421,
          30.63407535211269,
          32.04283371212125,
          31.55157169811319,
          31.250336907216507,
          31.336592638036837,
          30.76596397379912,
          29.919547714285724,
          30.756540067340065,
          30.31243303303303,
          30.214540380693364,
          30.910937330754347,
          30.185045204336895,
          26.199300378787903,
          27.55271738035265,
          23.453642032967014,
          24.98023243243244,
          25.77070908045978,
          27.32411858037578,
          25.45119767759564,
          28.12489068322981,
          25.48580716049379,
          24.631623761665463,
          28.29330375536484,
          26.91234817629181,
          26.72397054945053,
          23.75104807692308,
          29.256785412667963,
          29.1813351791531,
          27.033459290187885,
          26.86900838548185,
          25.07578093797277,
          24.24725541474657,
          28.13517401247401,
          26.678460838536967,
          26.51901555555556,
          25.175718080000014,
          27.07862016048146,
          25.80490393541874,
          25.24894767441859,
          26.251081180223288,
          27.64644058641976,
          24.7976905263158,
          26.153935071707927,
          24.44076752136749,
          27.29600352941175,
          11.190514836795256,
          13.058098905608748,
          10.871376995940452,
          11.57587300613498,
          12.300141200000006,
          10.377801390820574,
          11.267012155963302,
          12.496424756511884,
          8.183466300191206,
          10.79532776617955,
          9.904313833333331,
          10.789468161718286,
          11.33766638477801,
          11.260137758112096,
          10.130514816433578,
          9.31286995153476,
          11.629324202127655,
          9.960306580645158,
          10.387692255892237,
          9.924066666666668,
          13.275858101752885,
          10.368927409395978,
          12.419318947368414,
          12.784882632293078,
          9.468872195892564,
          23.781360477941163,
          24.121739755351683,
          23.211874098057383,
          23.780166241299337,
          26.99512974910393,
          27.93748576850093,
          25.392038662316445,
          26.39119025974028,
          26.66892394014961,
          26.008290954773837,
          29.045793499999988,
          27.691776300578027,
          25.86075638297873,
          27.449076537911324,
          25.351885902503284,
          26.922777025232424,
          28.51101940789474,
          26.833880454545447,
          29.313974259681096,
          28.34875862068968,
          25.1180859611231,
          25.159924623803,
          26.42218856548857,
          27.591155309734443,
          26.78817670157068,
          26.60589185185181,
          27.45063297872342,
          25.8374362030905,
          27.20963993055552,
          28.393311038961038,
          28.74997308584685,
          25.624724775583484,
          27.157215552099505,
          26.63315886792452,
          27.337409090909137,
          26.067954587155988,
          25.70141280913127,
          25.45581535234902,
          28.870498984771597,
          26.993988617886185,
          26.43047641196011,
          25.53587532051282,
          26.892530675909864,
          24.58877161016945,
          26.838233589251463,
          25.34529670138888,
          27.17386862302482,
          27.59390432801821,
          26.01082203791469,
          29.02957625698323,
          25.10207959183675,
          28.851770406189537,
          29.470507977736563,
          28.52024175035868,
          25.864842731707316,
          25.864842731707316,
          26.253902840059787,
          28.83244727272725,
          30.03381165217392,
          26.791596516393444,
          27.991389350649328,
          27.501995963091108,
          24.46693268858798,
          26.2846386419753,
          26.63163990895297,
          25.36057088888889,
          29.683532133676103,
          29.98703393393397,
          30.58338611464965,
          29.29142393939393,
          30.14720631868129,
          30.463700918635173,
          29.02779577677222,
          30.968958552036234,
          23.081280892857155,
          23.444453888888884,
          24.06389342723,
          25.342094363021435,
          26.839619571045585,
          22.401674174428507,
          22.87929264705881,
          26.62642031250004,
          22.550581481481483,
          25.08026802575105,
          24.25950655391121,
          23.56410971055088,
          23.254192328767108,
          26.044619165196977
         ],
         "legendgroup": "",
         "lon": [
          78.81321233480176,
          77.4601584478577,
          78.92763898886037,
          82.2432074720511,
          80.58657614107885,
          78.46668888888888,
          79.43765428571413,
          80.67008643892335,
          81.14805061000413,
          77.90086836581717,
          77.98933089244859,
          78.13778901903379,
          79.16984453608244,
          78.07523490566035,
          80.11665790176184,
          84.25874814010675,
          83.45982854198873,
          79.87422028985509,
          81.45912990654196,
          96.37552644628106,
          93.04741486013997,
          95.06499226006191,
          93.24531994459834,
          96.59670770547945,
          95.76567335640142,
          93.96226108108112,
          93.54468183962264,
          91.82504245283016,
          95.41470327868862,
          95.00155765306124,
          93.8991435622318,
          92.65015750452083,
          94.53510344202908,
          90.97912010178116,
          90.6734296187684,
          92.86849650455927,
          92.04141338028155,
          94.71336908517353,
          95.0998282327587,
          90.59869891598912,
          93.82583397823468,
          92.59154664804475,
          94.30197722567289,
          91.58863273972592,
          93.11536570271832,
          92.3679498575498,
          90.13997470997688,
          94.0775949253732,
          92.9306191144708,
          91.40598521126763,
          92.85197804878044,
          95.69055949367085,
          87.30766554934816,
          84.45986024096379,
          84.45986024096379,
          75.32072196796334,
          75.32072196796334,
          86.8664916342413,
          86.12560144032932,
          87.04213814229242,
          84.49407803030304,
          84.08808081760995,
          85.97387352472099,
          84.94291217765044,
          84.34636127167629,
          86.26316298200514,
          84.9208124481328,
          87.70466083591326,
          86.56593256351037,
          87.95045007235886,
          86.12825701357468,
          86.8978443983403,
          86.16328360450552,
          86.54173672839504,
          85.32745092024543,
          85.48053113772461,
          85.61594568965519,
          84.30265911949685,
          85.3198433587787,
          85.00382155612242,
          87.40447606973065,
          83.9350762672811,
          86.54670819672135,
          85.94833323308269,
          84.82266287425155,
          85.77839390862943,
          85.29539411764709,
          85.61172491289203,
          84.33766552901022,
          86.78496465201461,
          85.39247597173153,
          76.75872465753424,
          81.52895126903546,
          81.99770350877188,
          81.99770350877188,
          76.65316079295157,
          76.65316079295157,
          81.7569195519348,
          81.33181639511197,
          83.8703962075848,
          82.57604326923074,
          82.12515636363635,
          82.65925427435384,
          83.27797698630134,
          83.27797698630134,
          73.0090609418579,
          73.0090609418579,
          82.20032759615388,
          83.23582493887531,
          72.8392366071429,
          70.83985639899612,
          70.54733890140345,
          73.80667997909038,
          73.941792596877,
          72.23898135593227,
          71.43457637825426,
          72.57782051557454,
          71.93205252873561,
          72.67326346710801,
          72.16272632761141,
          72.67221679790026,
          69.62062005768233,
          68.82192301497916,
          73.018803515625,
          72.45545194085031,
          73.68403208722742,
          72.86184869848157,
          73.61984598290586,
          71.75162977099237,
          69.71896987722886,
          70.83679439383323,
          73.13638790459964,
          72.93488716344339,
          71.48358740875906,
          73.6883518367347,
          73.49433010291594,
          72.9148584798345,
          76.94970310734456,
          76.02110225806452,
          77.32718536585368,
          75.54608716814157,
          77.01935130260523,
          75.84324682779452,
          76.61137142857145,
          76.29598575667653,
          76.37698930041155,
          76.87488025889972,
          76.78774680306903,
          76.14018072916659,
          76.97173238095236,
          76.92895914634147,
          76.55956007604564,
          76.53123235294117,
          74.90970480225988,
          76.39354063116366,
          76.49767088607594,
          76.49767088607594,
          79.82619479768789,
          79.82619479768789,
          76.41205910931173,
          78.51613736263741,
          77.40922649350647,
          76.96556930693067,
          77.62573042168668,
          77.43184689507493,
          76.94442140672783,
          76.18353932038836,
          76.07163720136518,
          74.8477520361991,
          76.63675315315312,
          75.58901398601404,
          75.00921860465118,
          74.29593161290322,
          75.11021159420288,
          75.15286951219511,
          85.98398374125864,
          84.93295804701627,
          86.75697632241814,
          86.40372924901185,
          87.27662450229711,
          83.68664265536722,
          86.08710915619386,
          87.2941735483871,
          84.55056787479396,
          86.95325080091534,
          84.48298743362837,
          84.6605169064748,
          87.69691969178076,
          84.20310842824594,
          85.31781937244203,
          87.68264097938142,
          84.59193691931536,
          75.64526070853468,
          77.47369314775169,
          74.72329042357275,
          76.47228471074374,
          77.19459961538459,
          75.95909166666665,
          75.95909166666665,
          75.67626502311249,
          76.57821957236843,
          75.91723841166937,
          75.13831264108359,
          75.64861302752298,
          76.87503850385033,
          76.11049549999997,
          75.3961230607966,
          75.79336595744688,
          78.01376947743476,
          76.1617048598131,
          76.81570098522172,
          76.52881802853437,
          76.87368606194688,
          75.17882078103197,
          77.02297966260545,
          74.72009990316337,
          76.38010796263319,
          76.26957729035381,
          77.04586641566264,
          75.35209891725934,
          75.07768497134369,
          76.6360775852431,
          76.46059673302705,
          75.71158720159153,
          75.93910775606876,
          76.49980490693744,
          76.88711502868073,
          76.12321940836945,
          76.07587007042254,
          81.86560000000007,
          77.82974493927134,
          80.42170053380796,
          74.91004719710673,
          77.7873428189117,
          78.7618324287653,
          77.39246623093679,
          76.24460478589425,
          79.56449299191374,
          78.76413136439254,
          79.47049303482588,
          78.63916571428574,
          76.46088805970157,
          75.1105620736698,
          81.04332966714911,
          77.2235895968791,
          78.12782433035713,
          77.07022571819435,
          78.02168094841929,
          75.9133801324502,
          79.98328754716981,
          74.40921616766468,
          80.33819665871127,
          80.38600543633753,
          75.43588667736759,
          77.88447341389724,
          75.06608186666664,
          80.21133001158752,
          78.16305495923909,
          76.66431223922116,
          75.14895782122909,
          81.57572465057183,
          78.71940357771273,
          80.75547048710598,
          77.06780202883085,
          79.66053863928111,
          81.4596831828442,
          76.33555181268885,
          77.16911116838484,
          77.74861600810549,
          82.1053783359498,
          78.89357064846428,
          75.80383717647058,
          80.90879477477475,
          77.9013507604563,
          77.12122320359276,
          77.67583503184723,
          80.10950199637024,
          75.69319706477731,
          76.39017880364096,
          79.31556380471388,
          74.58719071837263,
          80.17522698598128,
          77.09239412780653,
          75.55140421810695,
          75.98473607242339,
          74.12897150793648,
          76.75812607802874,
          79.02166176470584,
          77.6829048951049,
          74.32638757443429,
          74.03824168316828,
          75.99495575313809,
          76.70163338870431,
          74.12922881632647,
          73.25725893866404,
          74.70713822937628,
          74.18052064102558,
          73.51329008172343,
          75.42394823609216,
          72.79882742564581,
          78.57259105691062,
          77.25502394366208,
          78.05326371760479,
          93.8246236024845,
          94.09443844155844,
          93.38671506024085,
          94.03366234413956,
          93.49450740072204,
          93.97959893617023,
          94.44129566929138,
          90.64684924924916,
          91.75922519841272,
          92.37608160136298,
          90.64560349127176,
          90.03709947089942,
          91.25364542124538,
          92.85359459459472,
          93.24221799485862,
          92.73470391304348,
          92.66964156862753,
          92.63512555425892,
          92.4330803833147,
          93.02827931034489,
          92.914158496732,
          93.75074057971014,
          93.78600657596373,
          94.522426006192,
          95.03072988826828,
          94.56814563758392,
          94.85809880715708,
          94.1990815181518,
          94.50026666666668,
          87.08085828011933,
          86.81496204516931,
          85.7776810228802,
          85.53226836027711,
          84.14015091911759,
          84.80297710437702,
          83.93581682242987,
          83.1124043814433,
          84.02216352765326,
          86.83763247572003,
          85.52234834123229,
          82.81278469846964,
          81.98293636363628,
          86.4030408052231,
          85.05614700460825,
          82.59152536585364,
          85.86698989898981,
          83.45860120361095,
          84.34958483245157,
          84.50524819277099,
          79.82369793621002,
          75.28275021570326,
          82.26187304347832,
          74.79883856502238,
          75.05685898004438,
          74.79751553784862,
          76.36208394736842,
          74.40245732394365,
          75.3204064393939,
          75.8469857442349,
          75.54400350515463,
          75.47641165644177,
          75.83110851528383,
          75.4304922857143,
          75.1600845117845,
          74.5518747747748,
          76.27505893949697,
          76.53743500967126,
          75.89437014178496,
          74.6990419191919,
          76.65359630562563,
          74.44246868131869,
          76.86210651828291,
          71.50297126436782,
          77.21752077244258,
          74.63947595628417,
          73.26943322981371,
          75.79984074074079,
          74.80010997846382,
          74.65846427038629,
          76.57342097264443,
          77.74476219780222,
          73.84765641025645,
          73.56192303262948,
          74.74632573289902,
          75.77117286012533,
          71.18371877346682,
          72.18647261724662,
          76.11242891705065,
          75.52840893970894,
          73.00450847457628,
          76.96081818181815,
          76.18618928000001,
          74.14215667001012,
          73.55285640766907,
          73.96570215946844,
          76.4219283891548,
          75.29317422839503,
          72.75309131578943,
          75.79192216427637,
          73.84029839743584,
          88.74908392156858,
          79.22249643916912,
          80.28139151846806,
          77.07619012178621,
          79.63002365371497,
          78.11509813333339,
          77.78011279554937,
          77.42034334862392,
          80.08820360135913,
          77.32053064053538,
          78.08749686847604,
          78.01366033333332,
          79.79437299431483,
          78.14624841437633,
          78.86034011799416,
          79.05444484265728,
          78.99185362412462,
          78.2478257978723,
          78.56535729032255,
          79.3194869107745,
          77.43458833333332,
          80.19724702864492,
          79.60322893959727,
          79.23265631578953,
          79.02643283582084,
          77.87641469194315,
          91.94654283088232,
          92.17842538226292,
          91.6065807585568,
          91.41310788863107,
          78.05278291517321,
          78.00146831119557,
          82.05172446982063,
          82.68282142857147,
          79.42637057356607,
          83.01220251256285,
          77.30266300000001,
          81.46779783237004,
          84.03651978723408,
          82.47158326180256,
          80.52487391304344,
          81.35762350597606,
          79.43187072368416,
          82.69790590909092,
          78.45098815489754,
          78.01082758620684,
          83.25307062634984,
          81.07666087551297,
          83.8244070686071,
          78.70021858407083,
          79.07621806282728,
          82.00783530864202,
          79.4406284574468,
          80.85416203090509,
          78.42660624999998,
          77.52462467532465,
          77.67441879350343,
          83.5360854578097,
          82.0226888024882,
          83.3549560377358,
          80.26411767676768,
          79.36686911314993,
          82.54315351934063,
          78.89954580536917,
          78.39009365482241,
          79.64437940379408,
          79.98710083056478,
          81.41811282051287,
          83.92261542461007,
          78.60082330508473,
          80.89706026871404,
          79.67863003472216,
          79.03501851015807,
          77.62153416856502,
          83.50582654028433,
          77.80611005586593,
          82.60126628571429,
          78.73580193423597,
          77.64017847866423,
          79.90103974175037,
          81.93530048780492,
          81.93530048780492,
          81.22260463378181,
          79.10977333333337,
          77.59905147826095,
          83.0387764344262,
          79.8302275324675,
          80.85288881199547,
          83.06816324951639,
          82.05710456790123,
          80.636773292868,
          82.82529666666672,
          79.50165064267351,
          79.83954354354357,
          79.56281095541402,
          80.07720212121217,
          80.34229230769236,
          78.48783792650917,
          79.45629004524895,
          78.56880615384617,
          87.12640053571437,
          87.8150581111111,
          87.65153089201888,
          88.69821679819614,
          88.33145067024122,
          87.99421176968654,
          88.00010264705891,
          89.04154375000003,
          88.3527648148148,
          88.17191684549356,
          88.16816860465121,
          88.58293034547152,
          86.3968532876713,
          88.23595232216337
         ],
         "marker": {
          "color": "#636efa"
         },
         "mode": "markers",
         "name": "",
         "showlegend": false,
         "subplot": "mapbox",
         "type": "scattermapbox"
        }
       ],
       "layout": {
        "legend": {
         "tracegroupgap": 0
        },
        "mapbox": {
         "center": {
          "lat": 23.32723209718341,
          "lon": 80.91021547921513
         },
         "domain": {
          "x": [
           0,
           1
          ],
          "y": [
           0,
           1
          ]
         },
         "style": "carto-positron",
         "zoom": 3
        },
        "margin": {
         "t": 60
        },
        "template": {
         "data": {
          "bar": [
           {
            "error_x": {
             "color": "#2a3f5f"
            },
            "error_y": {
             "color": "#2a3f5f"
            },
            "marker": {
             "line": {
              "color": "#E5ECF6",
              "width": 0.5
             },
             "pattern": {
              "fillmode": "overlay",
              "size": 10,
              "solidity": 0.2
             }
            },
            "type": "bar"
           }
          ],
          "barpolar": [
           {
            "marker": {
             "line": {
              "color": "#E5ECF6",
              "width": 0.5
             },
             "pattern": {
              "fillmode": "overlay",
              "size": 10,
              "solidity": 0.2
             }
            },
            "type": "barpolar"
           }
          ],
          "carpet": [
           {
            "aaxis": {
             "endlinecolor": "#2a3f5f",
             "gridcolor": "white",
             "linecolor": "white",
             "minorgridcolor": "white",
             "startlinecolor": "#2a3f5f"
            },
            "baxis": {
             "endlinecolor": "#2a3f5f",
             "gridcolor": "white",
             "linecolor": "white",
             "minorgridcolor": "white",
             "startlinecolor": "#2a3f5f"
            },
            "type": "carpet"
           }
          ],
          "choropleth": [
           {
            "colorbar": {
             "outlinewidth": 0,
             "ticks": ""
            },
            "type": "choropleth"
           }
          ],
          "contour": [
           {
            "colorbar": {
             "outlinewidth": 0,
             "ticks": ""
            },
            "colorscale": [
             [
              0,
              "#0d0887"
             ],
             [
              0.1111111111111111,
              "#46039f"
             ],
             [
              0.2222222222222222,
              "#7201a8"
             ],
             [
              0.3333333333333333,
              "#9c179e"
             ],
             [
              0.4444444444444444,
              "#bd3786"
             ],
             [
              0.5555555555555556,
              "#d8576b"
             ],
             [
              0.6666666666666666,
              "#ed7953"
             ],
             [
              0.7777777777777778,
              "#fb9f3a"
             ],
             [
              0.8888888888888888,
              "#fdca26"
             ],
             [
              1,
              "#f0f921"
             ]
            ],
            "type": "contour"
           }
          ],
          "contourcarpet": [
           {
            "colorbar": {
             "outlinewidth": 0,
             "ticks": ""
            },
            "type": "contourcarpet"
           }
          ],
          "heatmap": [
           {
            "colorbar": {
             "outlinewidth": 0,
             "ticks": ""
            },
            "colorscale": [
             [
              0,
              "#0d0887"
             ],
             [
              0.1111111111111111,
              "#46039f"
             ],
             [
              0.2222222222222222,
              "#7201a8"
             ],
             [
              0.3333333333333333,
              "#9c179e"
             ],
             [
              0.4444444444444444,
              "#bd3786"
             ],
             [
              0.5555555555555556,
              "#d8576b"
             ],
             [
              0.6666666666666666,
              "#ed7953"
             ],
             [
              0.7777777777777778,
              "#fb9f3a"
             ],
             [
              0.8888888888888888,
              "#fdca26"
             ],
             [
              1,
              "#f0f921"
             ]
            ],
            "type": "heatmap"
           }
          ],
          "heatmapgl": [
           {
            "colorbar": {
             "outlinewidth": 0,
             "ticks": ""
            },
            "colorscale": [
             [
              0,
              "#0d0887"
             ],
             [
              0.1111111111111111,
              "#46039f"
             ],
             [
              0.2222222222222222,
              "#7201a8"
             ],
             [
              0.3333333333333333,
              "#9c179e"
             ],
             [
              0.4444444444444444,
              "#bd3786"
             ],
             [
              0.5555555555555556,
              "#d8576b"
             ],
             [
              0.6666666666666666,
              "#ed7953"
             ],
             [
              0.7777777777777778,
              "#fb9f3a"
             ],
             [
              0.8888888888888888,
              "#fdca26"
             ],
             [
              1,
              "#f0f921"
             ]
            ],
            "type": "heatmapgl"
           }
          ],
          "histogram": [
           {
            "marker": {
             "pattern": {
              "fillmode": "overlay",
              "size": 10,
              "solidity": 0.2
             }
            },
            "type": "histogram"
           }
          ],
          "histogram2d": [
           {
            "colorbar": {
             "outlinewidth": 0,
             "ticks": ""
            },
            "colorscale": [
             [
              0,
              "#0d0887"
             ],
             [
              0.1111111111111111,
              "#46039f"
             ],
             [
              0.2222222222222222,
              "#7201a8"
             ],
             [
              0.3333333333333333,
              "#9c179e"
             ],
             [
              0.4444444444444444,
              "#bd3786"
             ],
             [
              0.5555555555555556,
              "#d8576b"
             ],
             [
              0.6666666666666666,
              "#ed7953"
             ],
             [
              0.7777777777777778,
              "#fb9f3a"
             ],
             [
              0.8888888888888888,
              "#fdca26"
             ],
             [
              1,
              "#f0f921"
             ]
            ],
            "type": "histogram2d"
           }
          ],
          "histogram2dcontour": [
           {
            "colorbar": {
             "outlinewidth": 0,
             "ticks": ""
            },
            "colorscale": [
             [
              0,
              "#0d0887"
             ],
             [
              0.1111111111111111,
              "#46039f"
             ],
             [
              0.2222222222222222,
              "#7201a8"
             ],
             [
              0.3333333333333333,
              "#9c179e"
             ],
             [
              0.4444444444444444,
              "#bd3786"
             ],
             [
              0.5555555555555556,
              "#d8576b"
             ],
             [
              0.6666666666666666,
              "#ed7953"
             ],
             [
              0.7777777777777778,
              "#fb9f3a"
             ],
             [
              0.8888888888888888,
              "#fdca26"
             ],
             [
              1,
              "#f0f921"
             ]
            ],
            "type": "histogram2dcontour"
           }
          ],
          "mesh3d": [
           {
            "colorbar": {
             "outlinewidth": 0,
             "ticks": ""
            },
            "type": "mesh3d"
           }
          ],
          "parcoords": [
           {
            "line": {
             "colorbar": {
              "outlinewidth": 0,
              "ticks": ""
             }
            },
            "type": "parcoords"
           }
          ],
          "pie": [
           {
            "automargin": true,
            "type": "pie"
           }
          ],
          "scatter": [
           {
            "fillpattern": {
             "fillmode": "overlay",
             "size": 10,
             "solidity": 0.2
            },
            "type": "scatter"
           }
          ],
          "scatter3d": [
           {
            "line": {
             "colorbar": {
              "outlinewidth": 0,
              "ticks": ""
             }
            },
            "marker": {
             "colorbar": {
              "outlinewidth": 0,
              "ticks": ""
             }
            },
            "type": "scatter3d"
           }
          ],
          "scattercarpet": [
           {
            "marker": {
             "colorbar": {
              "outlinewidth": 0,
              "ticks": ""
             }
            },
            "type": "scattercarpet"
           }
          ],
          "scattergeo": [
           {
            "marker": {
             "colorbar": {
              "outlinewidth": 0,
              "ticks": ""
             }
            },
            "type": "scattergeo"
           }
          ],
          "scattergl": [
           {
            "marker": {
             "colorbar": {
              "outlinewidth": 0,
              "ticks": ""
             }
            },
            "type": "scattergl"
           }
          ],
          "scattermapbox": [
           {
            "marker": {
             "colorbar": {
              "outlinewidth": 0,
              "ticks": ""
             }
            },
            "type": "scattermapbox"
           }
          ],
          "scatterpolar": [
           {
            "marker": {
             "colorbar": {
              "outlinewidth": 0,
              "ticks": ""
             }
            },
            "type": "scatterpolar"
           }
          ],
          "scatterpolargl": [
           {
            "marker": {
             "colorbar": {
              "outlinewidth": 0,
              "ticks": ""
             }
            },
            "type": "scatterpolargl"
           }
          ],
          "scatterternary": [
           {
            "marker": {
             "colorbar": {
              "outlinewidth": 0,
              "ticks": ""
             }
            },
            "type": "scatterternary"
           }
          ],
          "surface": [
           {
            "colorbar": {
             "outlinewidth": 0,
             "ticks": ""
            },
            "colorscale": [
             [
              0,
              "#0d0887"
             ],
             [
              0.1111111111111111,
              "#46039f"
             ],
             [
              0.2222222222222222,
              "#7201a8"
             ],
             [
              0.3333333333333333,
              "#9c179e"
             ],
             [
              0.4444444444444444,
              "#bd3786"
             ],
             [
              0.5555555555555556,
              "#d8576b"
             ],
             [
              0.6666666666666666,
              "#ed7953"
             ],
             [
              0.7777777777777778,
              "#fb9f3a"
             ],
             [
              0.8888888888888888,
              "#fdca26"
             ],
             [
              1,
              "#f0f921"
             ]
            ],
            "type": "surface"
           }
          ],
          "table": [
           {
            "cells": {
             "fill": {
              "color": "#EBF0F8"
             },
             "line": {
              "color": "white"
             }
            },
            "header": {
             "fill": {
              "color": "#C8D4E3"
             },
             "line": {
              "color": "white"
             }
            },
            "type": "table"
           }
          ]
         },
         "layout": {
          "annotationdefaults": {
           "arrowcolor": "#2a3f5f",
           "arrowhead": 0,
           "arrowwidth": 1
          },
          "autotypenumbers": "strict",
          "coloraxis": {
           "colorbar": {
            "outlinewidth": 0,
            "ticks": ""
           }
          },
          "colorscale": {
           "diverging": [
            [
             0,
             "#8e0152"
            ],
            [
             0.1,
             "#c51b7d"
            ],
            [
             0.2,
             "#de77ae"
            ],
            [
             0.3,
             "#f1b6da"
            ],
            [
             0.4,
             "#fde0ef"
            ],
            [
             0.5,
             "#f7f7f7"
            ],
            [
             0.6,
             "#e6f5d0"
            ],
            [
             0.7,
             "#b8e186"
            ],
            [
             0.8,
             "#7fbc41"
            ],
            [
             0.9,
             "#4d9221"
            ],
            [
             1,
             "#276419"
            ]
           ],
           "sequential": [
            [
             0,
             "#0d0887"
            ],
            [
             0.1111111111111111,
             "#46039f"
            ],
            [
             0.2222222222222222,
             "#7201a8"
            ],
            [
             0.3333333333333333,
             "#9c179e"
            ],
            [
             0.4444444444444444,
             "#bd3786"
            ],
            [
             0.5555555555555556,
             "#d8576b"
            ],
            [
             0.6666666666666666,
             "#ed7953"
            ],
            [
             0.7777777777777778,
             "#fb9f3a"
            ],
            [
             0.8888888888888888,
             "#fdca26"
            ],
            [
             1,
             "#f0f921"
            ]
           ],
           "sequentialminus": [
            [
             0,
             "#0d0887"
            ],
            [
             0.1111111111111111,
             "#46039f"
            ],
            [
             0.2222222222222222,
             "#7201a8"
            ],
            [
             0.3333333333333333,
             "#9c179e"
            ],
            [
             0.4444444444444444,
             "#bd3786"
            ],
            [
             0.5555555555555556,
             "#d8576b"
            ],
            [
             0.6666666666666666,
             "#ed7953"
            ],
            [
             0.7777777777777778,
             "#fb9f3a"
            ],
            [
             0.8888888888888888,
             "#fdca26"
            ],
            [
             1,
             "#f0f921"
            ]
           ]
          },
          "colorway": [
           "#636efa",
           "#EF553B",
           "#00cc96",
           "#ab63fa",
           "#FFA15A",
           "#19d3f3",
           "#FF6692",
           "#B6E880",
           "#FF97FF",
           "#FECB52"
          ],
          "font": {
           "color": "#2a3f5f"
          },
          "geo": {
           "bgcolor": "white",
           "lakecolor": "white",
           "landcolor": "#E5ECF6",
           "showlakes": true,
           "showland": true,
           "subunitcolor": "white"
          },
          "hoverlabel": {
           "align": "left"
          },
          "hovermode": "closest",
          "mapbox": {
           "style": "light"
          },
          "paper_bgcolor": "white",
          "plot_bgcolor": "#E5ECF6",
          "polar": {
           "angularaxis": {
            "gridcolor": "white",
            "linecolor": "white",
            "ticks": ""
           },
           "bgcolor": "#E5ECF6",
           "radialaxis": {
            "gridcolor": "white",
            "linecolor": "white",
            "ticks": ""
           }
          },
          "scene": {
           "xaxis": {
            "backgroundcolor": "#E5ECF6",
            "gridcolor": "white",
            "gridwidth": 2,
            "linecolor": "white",
            "showbackground": true,
            "ticks": "",
            "zerolinecolor": "white"
           },
           "yaxis": {
            "backgroundcolor": "#E5ECF6",
            "gridcolor": "white",
            "gridwidth": 2,
            "linecolor": "white",
            "showbackground": true,
            "ticks": "",
            "zerolinecolor": "white"
           },
           "zaxis": {
            "backgroundcolor": "#E5ECF6",
            "gridcolor": "white",
            "gridwidth": 2,
            "linecolor": "white",
            "showbackground": true,
            "ticks": "",
            "zerolinecolor": "white"
           }
          },
          "shapedefaults": {
           "line": {
            "color": "#2a3f5f"
           }
          },
          "ternary": {
           "aaxis": {
            "gridcolor": "white",
            "linecolor": "white",
            "ticks": ""
           },
           "baxis": {
            "gridcolor": "white",
            "linecolor": "white",
            "ticks": ""
           },
           "bgcolor": "#E5ECF6",
           "caxis": {
            "gridcolor": "white",
            "linecolor": "white",
            "ticks": ""
           }
          },
          "title": {
           "x": 0.05
          },
          "xaxis": {
           "automargin": true,
           "gridcolor": "white",
           "linecolor": "white",
           "ticks": "",
           "title": {
            "standoff": 15
           },
           "zerolinecolor": "white",
           "zerolinewidth": 2
          },
          "yaxis": {
           "automargin": true,
           "gridcolor": "white",
           "linecolor": "white",
           "ticks": "",
           "title": {
            "standoff": 15
           },
           "zerolinecolor": "white",
           "zerolinewidth": 2
          }
         }
        }
       }
      }
     },
     "metadata": {},
     "output_type": "display_data"
    }
   ],
   "source": [
    "import plotly.express as px\n",
    "fig = px.scatter_mapbox(temp_df,lat='Latitude', lon='Longitude', zoom=3, mapbox_style=\"carto-positron\")\n",
    "fig.show()"
   ]
  },
  {
   "cell_type": "code",
   "execution_count": 42,
   "metadata": {},
   "outputs": [],
   "source": [
    "final_df = final_df.drop(columns=['sex_ration','literacy_rate'])"
   ]
  },
  {
   "cell_type": "code",
   "execution_count": 43,
   "metadata": {},
   "outputs": [
    {
     "data": {
      "text/html": [
       "<div>\n",
       "<style scoped>\n",
       "    .dataframe tbody tr th:only-of-type {\n",
       "        vertical-align: middle;\n",
       "    }\n",
       "\n",
       "    .dataframe tbody tr th {\n",
       "        vertical-align: top;\n",
       "    }\n",
       "\n",
       "    .dataframe thead th {\n",
       "        text-align: right;\n",
       "    }\n",
       "</style>\n",
       "<table border=\"1\" class=\"dataframe\">\n",
       "  <thead>\n",
       "    <tr style=\"text-align: right;\">\n",
       "      <th></th>\n",
       "      <th>State</th>\n",
       "      <th>District</th>\n",
       "      <th>Latitude</th>\n",
       "      <th>Longitude</th>\n",
       "      <th>District code</th>\n",
       "      <th>Population</th>\n",
       "      <th>Male</th>\n",
       "      <th>Female</th>\n",
       "      <th>Literate</th>\n",
       "      <th>Male_Literate</th>\n",
       "      <th>Female_Literate</th>\n",
       "      <th>SC</th>\n",
       "      <th>Male_SC</th>\n",
       "      <th>Female_SC</th>\n",
       "      <th>ST</th>\n",
       "      <th>Male_ST</th>\n",
       "      <th>Female_ST</th>\n",
       "      <th>Workers</th>\n",
       "      <th>Male_Workers</th>\n",
       "      <th>Female_Workers</th>\n",
       "      <th>Main_Workers</th>\n",
       "      <th>Marginal_Workers</th>\n",
       "      <th>Non_Workers</th>\n",
       "      <th>Cultivator_Workers</th>\n",
       "      <th>Agricultural_Workers</th>\n",
       "      <th>Household_Workers</th>\n",
       "      <th>Other_Workers</th>\n",
       "      <th>Hindus</th>\n",
       "      <th>Muslims</th>\n",
       "      <th>Christians</th>\n",
       "      <th>Sikhs</th>\n",
       "      <th>Buddhists</th>\n",
       "      <th>Jains</th>\n",
       "      <th>Others_Religions</th>\n",
       "      <th>Religion_Not_Stated</th>\n",
       "      <th>LPG_or_PNG_Households</th>\n",
       "      <th>Housholds_with_Electric_Lighting</th>\n",
       "      <th>Households_with_Internet</th>\n",
       "      <th>Households_with_Computer</th>\n",
       "      <th>Rural_Households</th>\n",
       "      <th>Urban_Households</th>\n",
       "      <th>Households</th>\n",
       "      <th>Below_Primary_Education</th>\n",
       "      <th>Primary_Education</th>\n",
       "      <th>Middle_Education</th>\n",
       "      <th>Secondary_Education</th>\n",
       "      <th>Higher_Education</th>\n",
       "      <th>Graduate_Education</th>\n",
       "      <th>Other_Education</th>\n",
       "      <th>Literate_Education</th>\n",
       "      <th>Illiterate_Education</th>\n",
       "      <th>Total_Education</th>\n",
       "      <th>Age_Group_0_29</th>\n",
       "      <th>Age_Group_30_49</th>\n",
       "      <th>Age_Group_50</th>\n",
       "      <th>Age not stated</th>\n",
       "      <th>Households_with_Bicycle</th>\n",
       "      <th>Households_with_Car_Jeep_Van</th>\n",
       "      <th>Households_with_Radio_Transistor</th>\n",
       "      <th>Households_with_Scooter_Motorcycle_Moped</th>\n",
       "      <th>Households_with_Telephone_Mobile_Phone_Landline_only</th>\n",
       "      <th>Households_with_Telephone_Mobile_Phone_Mobile_only</th>\n",
       "      <th>Households_with_TV_Computer_Laptop_Telephone_mobile_phone_and_Scooter_Car</th>\n",
       "      <th>Households_with_Television</th>\n",
       "      <th>Households_with_Telephone_Mobile_Phone</th>\n",
       "      <th>Households_with_Telephone_Mobile_Phone_Both</th>\n",
       "      <th>Condition_of_occupied_census_houses_Dilapidated_Households</th>\n",
       "      <th>Households_with_separate_kitchen_Cooking_inside_house</th>\n",
       "      <th>Having_bathing_facility_Total_Households</th>\n",
       "      <th>Having_latrine_facility_within_the_premises_Total_Households</th>\n",
       "      <th>Ownership_Owned_Households</th>\n",
       "      <th>Ownership_Rented_Households</th>\n",
       "      <th>Type_of_bathing_facility_Enclosure_without_roof_Households</th>\n",
       "      <th>Type_of_fuel_used_for_cooking_Any_other_Households</th>\n",
       "      <th>Type_of_latrine_facility_Pit_latrine_Households</th>\n",
       "      <th>Type_of_latrine_facility_Other_latrine_Households</th>\n",
       "      <th>Type_of_latrine_facility_Night_soil_disposed_into_open_drain_Households</th>\n",
       "      <th>Type_of_latrine_facility_Flush_pour_flush_latrine_connected_to_other_system_Households</th>\n",
       "      <th>Not_having_bathing_facility_within_the_premises_Total_Households</th>\n",
       "      <th>Not_having_latrine_facility_within_the_premises_Alternative_source_Open_Households</th>\n",
       "      <th>Main_source_of_drinking_water_Un_covered_well_Households</th>\n",
       "      <th>Main_source_of_drinking_water_Handpump_Tubewell_Borewell_Households</th>\n",
       "      <th>Main_source_of_drinking_water_Spring_Households</th>\n",
       "      <th>Main_source_of_drinking_water_River_Canal_Households</th>\n",
       "      <th>Main_source_of_drinking_water_Other_sources_Households</th>\n",
       "      <th>Main_source_of_drinking_water_Other_sources_Spring_River_Canal_Tank_Pond_Lake_Other_sources__Households</th>\n",
       "      <th>Location_of_drinking_water_source_Near_the_premises_Households</th>\n",
       "      <th>Location_of_drinking_water_source_Within_the_premises_Households</th>\n",
       "      <th>Main_source_of_drinking_water_Tank_Pond_Lake_Households</th>\n",
       "      <th>Main_source_of_drinking_water_Tapwater_Households</th>\n",
       "      <th>Main_source_of_drinking_water_Tubewell_Borehole_Households</th>\n",
       "      <th>Household_size_1_person_Households</th>\n",
       "      <th>Household_size_2_persons_Households</th>\n",
       "      <th>Household_size_1_to_2_persons</th>\n",
       "      <th>Household_size_3_persons_Households</th>\n",
       "      <th>Household_size_3_to_5_persons_Households</th>\n",
       "      <th>Household_size_4_persons_Households</th>\n",
       "      <th>Household_size_5_persons_Households</th>\n",
       "      <th>Household_size_6_8_persons_Households</th>\n",
       "      <th>Household_size_9_persons_and_above_Households</th>\n",
       "      <th>Location_of_drinking_water_source_Away_Households</th>\n",
       "      <th>Married_couples_1_Households</th>\n",
       "      <th>Married_couples_2_Households</th>\n",
       "      <th>Married_couples_3_Households</th>\n",
       "      <th>Married_couples_3_or_more_Households</th>\n",
       "      <th>Married_couples_4_Households</th>\n",
       "      <th>Married_couples_5__Households</th>\n",
       "      <th>Married_couples_None_Households</th>\n",
       "      <th>Power_Parity_Less_than_Rs_45000</th>\n",
       "      <th>Power_Parity_Rs_45000_90000</th>\n",
       "      <th>Power_Parity_Rs_90000_150000</th>\n",
       "      <th>Power_Parity_Rs_45000_150000</th>\n",
       "      <th>Power_Parity_Rs_150000_240000</th>\n",
       "      <th>Power_Parity_Rs_240000_330000</th>\n",
       "      <th>Power_Parity_Rs_150000_330000</th>\n",
       "      <th>Power_Parity_Rs_330000_425000</th>\n",
       "      <th>Power_Parity_Rs_425000_545000</th>\n",
       "      <th>Power_Parity_Rs_330000_545000</th>\n",
       "      <th>Power_Parity_Above_Rs_545000</th>\n",
       "      <th>Total_Power_Parity</th>\n",
       "      <th>Sex Ratio</th>\n",
       "      <th>Literacy Rate</th>\n",
       "    </tr>\n",
       "  </thead>\n",
       "  <tbody>\n",
       "    <tr>\n",
       "      <th>0</th>\n",
       "      <td>Andhra Pradesh</td>\n",
       "      <td>Adilabad</td>\n",
       "      <td>19.284514</td>\n",
       "      <td>78.813212</td>\n",
       "      <td>532</td>\n",
       "      <td>2741239</td>\n",
       "      <td>1369597</td>\n",
       "      <td>1371642</td>\n",
       "      <td>1483347</td>\n",
       "      <td>856350</td>\n",
       "      <td>626997</td>\n",
       "      <td>488596</td>\n",
       "      <td>242844</td>\n",
       "      <td>245752</td>\n",
       "      <td>495794</td>\n",
       "      <td>247472</td>\n",
       "      <td>248322</td>\n",
       "      <td>1323667</td>\n",
       "      <td>748939</td>\n",
       "      <td>574728</td>\n",
       "      <td>1066460</td>\n",
       "      <td>257207</td>\n",
       "      <td>1417572</td>\n",
       "      <td>363737</td>\n",
       "      <td>484912</td>\n",
       "      <td>84661</td>\n",
       "      <td>390357</td>\n",
       "      <td>2399901</td>\n",
       "      <td>275970</td>\n",
       "      <td>15422</td>\n",
       "      <td>1377</td>\n",
       "      <td>25510</td>\n",
       "      <td>617</td>\n",
       "      <td>322</td>\n",
       "      <td>22120</td>\n",
       "      <td>194954</td>\n",
       "      <td>566108</td>\n",
       "      <td>5512</td>\n",
       "      <td>45202</td>\n",
       "      <td>597466</td>\n",
       "      <td>220248</td>\n",
       "      <td>817714</td>\n",
       "      <td>232470</td>\n",
       "      <td>344167</td>\n",
       "      <td>281752</td>\n",
       "      <td>225957</td>\n",
       "      <td>143143</td>\n",
       "      <td>100226</td>\n",
       "      <td>19277</td>\n",
       "      <td>1346992</td>\n",
       "      <td>1030640</td>\n",
       "      <td>2377632</td>\n",
       "      <td>1536378</td>\n",
       "      <td>704551</td>\n",
       "      <td>422522</td>\n",
       "      <td>77788</td>\n",
       "      <td>150289</td>\n",
       "      <td>8338</td>\n",
       "      <td>25190</td>\n",
       "      <td>96998</td>\n",
       "      <td>15483</td>\n",
       "      <td>374630</td>\n",
       "      <td>9483</td>\n",
       "      <td>306433</td>\n",
       "      <td>403530</td>\n",
       "      <td>13417</td>\n",
       "      <td>35823</td>\n",
       "      <td>510399</td>\n",
       "      <td>378259</td>\n",
       "      <td>191052</td>\n",
       "      <td>559211</td>\n",
       "      <td>77594</td>\n",
       "      <td>180245</td>\n",
       "      <td>1009</td>\n",
       "      <td>20150</td>\n",
       "      <td>6489</td>\n",
       "      <td>4078</td>\n",
       "      <td>9390</td>\n",
       "      <td>273511</td>\n",
       "      <td>446014</td>\n",
       "      <td>93294</td>\n",
       "      <td>267233</td>\n",
       "      <td>2294</td>\n",
       "      <td>3303</td>\n",
       "      <td>7390</td>\n",
       "      <td>14508</td>\n",
       "      <td>212025</td>\n",
       "      <td>229686</td>\n",
       "      <td>1521</td>\n",
       "      <td>270862</td>\n",
       "      <td>79354</td>\n",
       "      <td>27018</td>\n",
       "      <td>80780</td>\n",
       "      <td>107798</td>\n",
       "      <td>103066</td>\n",
       "      <td>417387</td>\n",
       "      <td>182282</td>\n",
       "      <td>132039</td>\n",
       "      <td>114585</td>\n",
       "      <td>12000</td>\n",
       "      <td>210059</td>\n",
       "      <td>503266</td>\n",
       "      <td>58377</td>\n",
       "      <td>6455</td>\n",
       "      <td>7297</td>\n",
       "      <td>722</td>\n",
       "      <td>120</td>\n",
       "      <td>82830</td>\n",
       "      <td>648</td>\n",
       "      <td>1604</td>\n",
       "      <td>1266</td>\n",
       "      <td>2870</td>\n",
       "      <td>84</td>\n",
       "      <td>122</td>\n",
       "      <td>206</td>\n",
       "      <td>134</td>\n",
       "      <td>213</td>\n",
       "      <td>347</td>\n",
       "      <td>109</td>\n",
       "      <td>4181</td>\n",
       "      <td>100.0</td>\n",
       "      <td>54.0</td>\n",
       "    </tr>\n",
       "    <tr>\n",
       "      <th>1</th>\n",
       "      <td>Andhra Pradesh</td>\n",
       "      <td>Anantapur</td>\n",
       "      <td>14.312066</td>\n",
       "      <td>77.460158</td>\n",
       "      <td>553</td>\n",
       "      <td>4081148</td>\n",
       "      <td>2064495</td>\n",
       "      <td>2016653</td>\n",
       "      <td>2310960</td>\n",
       "      <td>1338474</td>\n",
       "      <td>972486</td>\n",
       "      <td>583135</td>\n",
       "      <td>292379</td>\n",
       "      <td>290756</td>\n",
       "      <td>154127</td>\n",
       "      <td>78573</td>\n",
       "      <td>75554</td>\n",
       "      <td>2036166</td>\n",
       "      <td>1208544</td>\n",
       "      <td>827622</td>\n",
       "      <td>1679655</td>\n",
       "      <td>356511</td>\n",
       "      <td>2044982</td>\n",
       "      <td>413253</td>\n",
       "      <td>879537</td>\n",
       "      <td>105343</td>\n",
       "      <td>638033</td>\n",
       "      <td>3599372</td>\n",
       "      <td>443456</td>\n",
       "      <td>20463</td>\n",
       "      <td>932</td>\n",
       "      <td>341</td>\n",
       "      <td>1417</td>\n",
       "      <td>309</td>\n",
       "      <td>14858</td>\n",
       "      <td>223016</td>\n",
       "      <td>897970</td>\n",
       "      <td>8606</td>\n",
       "      <td>48299</td>\n",
       "      <td>902997</td>\n",
       "      <td>341431</td>\n",
       "      <td>1244428</td>\n",
       "      <td>462273</td>\n",
       "      <td>720357</td>\n",
       "      <td>582075</td>\n",
       "      <td>331793</td>\n",
       "      <td>162175</td>\n",
       "      <td>144915</td>\n",
       "      <td>23341</td>\n",
       "      <td>2426929</td>\n",
       "      <td>1369069</td>\n",
       "      <td>3795998</td>\n",
       "      <td>2189396</td>\n",
       "      <td>1104565</td>\n",
       "      <td>739612</td>\n",
       "      <td>47575</td>\n",
       "      <td>206433</td>\n",
       "      <td>9915</td>\n",
       "      <td>63528</td>\n",
       "      <td>144214</td>\n",
       "      <td>24039</td>\n",
       "      <td>534408</td>\n",
       "      <td>14470</td>\n",
       "      <td>559461</td>\n",
       "      <td>581087</td>\n",
       "      <td>22640</td>\n",
       "      <td>23899</td>\n",
       "      <td>713663</td>\n",
       "      <td>755971</td>\n",
       "      <td>353948</td>\n",
       "      <td>779195</td>\n",
       "      <td>172680</td>\n",
       "      <td>222718</td>\n",
       "      <td>824</td>\n",
       "      <td>96437</td>\n",
       "      <td>22059</td>\n",
       "      <td>19296</td>\n",
       "      <td>11188</td>\n",
       "      <td>205194</td>\n",
       "      <td>581051</td>\n",
       "      <td>5049</td>\n",
       "      <td>117001</td>\n",
       "      <td>552</td>\n",
       "      <td>469</td>\n",
       "      <td>16086</td>\n",
       "      <td>17308</td>\n",
       "      <td>528245</td>\n",
       "      <td>225275</td>\n",
       "      <td>201</td>\n",
       "      <td>819675</td>\n",
       "      <td>43685</td>\n",
       "      <td>36633</td>\n",
       "      <td>106460</td>\n",
       "      <td>143093</td>\n",
       "      <td>156107</td>\n",
       "      <td>644263</td>\n",
       "      <td>291388</td>\n",
       "      <td>196768</td>\n",
       "      <td>153243</td>\n",
       "      <td>20566</td>\n",
       "      <td>207645</td>\n",
       "      <td>718794</td>\n",
       "      <td>115052</td>\n",
       "      <td>15584</td>\n",
       "      <td>17947</td>\n",
       "      <td>1994</td>\n",
       "      <td>369</td>\n",
       "      <td>109372</td>\n",
       "      <td>969</td>\n",
       "      <td>2252</td>\n",
       "      <td>1605</td>\n",
       "      <td>3857</td>\n",
       "      <td>143</td>\n",
       "      <td>150</td>\n",
       "      <td>293</td>\n",
       "      <td>176</td>\n",
       "      <td>261</td>\n",
       "      <td>437</td>\n",
       "      <td>243</td>\n",
       "      <td>5799</td>\n",
       "      <td>98.0</td>\n",
       "      <td>57.0</td>\n",
       "    </tr>\n",
       "    <tr>\n",
       "      <th>2</th>\n",
       "      <td>Andhra Pradesh</td>\n",
       "      <td>Chittoor</td>\n",
       "      <td>13.331093</td>\n",
       "      <td>78.927639</td>\n",
       "      <td>554</td>\n",
       "      <td>4174064</td>\n",
       "      <td>2090204</td>\n",
       "      <td>2083860</td>\n",
       "      <td>2667878</td>\n",
       "      <td>1484794</td>\n",
       "      <td>1183084</td>\n",
       "      <td>785760</td>\n",
       "      <td>389582</td>\n",
       "      <td>396178</td>\n",
       "      <td>159165</td>\n",
       "      <td>79756</td>\n",
       "      <td>79409</td>\n",
       "      <td>1933357</td>\n",
       "      <td>1202223</td>\n",
       "      <td>731134</td>\n",
       "      <td>1669852</td>\n",
       "      <td>263505</td>\n",
       "      <td>2240707</td>\n",
       "      <td>434544</td>\n",
       "      <td>748093</td>\n",
       "      <td>57269</td>\n",
       "      <td>693451</td>\n",
       "      <td>3737588</td>\n",
       "      <td>397870</td>\n",
       "      <td>24129</td>\n",
       "      <td>867</td>\n",
       "      <td>253</td>\n",
       "      <td>1322</td>\n",
       "      <td>358</td>\n",
       "      <td>11677</td>\n",
       "      <td>324406</td>\n",
       "      <td>944555</td>\n",
       "      <td>13763</td>\n",
       "      <td>67087</td>\n",
       "      <td>907970</td>\n",
       "      <td>395900</td>\n",
       "      <td>1303870</td>\n",
       "      <td>522961</td>\n",
       "      <td>770836</td>\n",
       "      <td>673197</td>\n",
       "      <td>548336</td>\n",
       "      <td>265199</td>\n",
       "      <td>246409</td>\n",
       "      <td>36017</td>\n",
       "      <td>3062955</td>\n",
       "      <td>1170993</td>\n",
       "      <td>4233948</td>\n",
       "      <td>2148179</td>\n",
       "      <td>1159053</td>\n",
       "      <td>807430</td>\n",
       "      <td>59402</td>\n",
       "      <td>225856</td>\n",
       "      <td>16296</td>\n",
       "      <td>93489</td>\n",
       "      <td>186568</td>\n",
       "      <td>35378</td>\n",
       "      <td>561188</td>\n",
       "      <td>24934</td>\n",
       "      <td>611465</td>\n",
       "      <td>632803</td>\n",
       "      <td>36237</td>\n",
       "      <td>30849</td>\n",
       "      <td>777100</td>\n",
       "      <td>754648</td>\n",
       "      <td>382377</td>\n",
       "      <td>815953</td>\n",
       "      <td>196720</td>\n",
       "      <td>246488</td>\n",
       "      <td>640</td>\n",
       "      <td>32299</td>\n",
       "      <td>12221</td>\n",
       "      <td>10381</td>\n",
       "      <td>11823</td>\n",
       "      <td>267468</td>\n",
       "      <td>628364</td>\n",
       "      <td>8192</td>\n",
       "      <td>135531</td>\n",
       "      <td>349</td>\n",
       "      <td>548</td>\n",
       "      <td>38931</td>\n",
       "      <td>40322</td>\n",
       "      <td>539408</td>\n",
       "      <td>342011</td>\n",
       "      <td>494</td>\n",
       "      <td>835606</td>\n",
       "      <td>92651</td>\n",
       "      <td>55151</td>\n",
       "      <td>132169</td>\n",
       "      <td>187320</td>\n",
       "      <td>175853</td>\n",
       "      <td>678054</td>\n",
       "      <td>311451</td>\n",
       "      <td>190750</td>\n",
       "      <td>142837</td>\n",
       "      <td>13905</td>\n",
       "      <td>140697</td>\n",
       "      <td>757090</td>\n",
       "      <td>105579</td>\n",
       "      <td>10901</td>\n",
       "      <td>12183</td>\n",
       "      <td>1103</td>\n",
       "      <td>179</td>\n",
       "      <td>147264</td>\n",
       "      <td>1021</td>\n",
       "      <td>2270</td>\n",
       "      <td>1565</td>\n",
       "      <td>3835</td>\n",
       "      <td>261</td>\n",
       "      <td>125</td>\n",
       "      <td>386</td>\n",
       "      <td>157</td>\n",
       "      <td>218</td>\n",
       "      <td>375</td>\n",
       "      <td>307</td>\n",
       "      <td>5926</td>\n",
       "      <td>100.0</td>\n",
       "      <td>64.0</td>\n",
       "    </tr>\n",
       "    <tr>\n",
       "      <th>3</th>\n",
       "      <td>Andhra Pradesh</td>\n",
       "      <td>East Godavari</td>\n",
       "      <td>16.782718</td>\n",
       "      <td>82.243207</td>\n",
       "      <td>545</td>\n",
       "      <td>5154296</td>\n",
       "      <td>2569688</td>\n",
       "      <td>2584608</td>\n",
       "      <td>3288577</td>\n",
       "      <td>1716933</td>\n",
       "      <td>1571644</td>\n",
       "      <td>945269</td>\n",
       "      <td>468883</td>\n",
       "      <td>476386</td>\n",
       "      <td>213195</td>\n",
       "      <td>104422</td>\n",
       "      <td>108773</td>\n",
       "      <td>2093681</td>\n",
       "      <td>1545831</td>\n",
       "      <td>547850</td>\n",
       "      <td>1748117</td>\n",
       "      <td>345564</td>\n",
       "      <td>3060615</td>\n",
       "      <td>160407</td>\n",
       "      <td>1122046</td>\n",
       "      <td>57853</td>\n",
       "      <td>753375</td>\n",
       "      <td>4983330</td>\n",
       "      <td>77777</td>\n",
       "      <td>77825</td>\n",
       "      <td>738</td>\n",
       "      <td>413</td>\n",
       "      <td>4149</td>\n",
       "      <td>403</td>\n",
       "      <td>9661</td>\n",
       "      <td>479914</td>\n",
       "      <td>1297273</td>\n",
       "      <td>22411</td>\n",
       "      <td>93784</td>\n",
       "      <td>1199479</td>\n",
       "      <td>406362</td>\n",
       "      <td>1605841</td>\n",
       "      <td>669420</td>\n",
       "      <td>947606</td>\n",
       "      <td>797497</td>\n",
       "      <td>521562</td>\n",
       "      <td>271809</td>\n",
       "      <td>263023</td>\n",
       "      <td>47702</td>\n",
       "      <td>3518619</td>\n",
       "      <td>1524603</td>\n",
       "      <td>5043222</td>\n",
       "      <td>2724328</td>\n",
       "      <td>1478954</td>\n",
       "      <td>948122</td>\n",
       "      <td>2892</td>\n",
       "      <td>779052</td>\n",
       "      <td>25381</td>\n",
       "      <td>113126</td>\n",
       "      <td>232073</td>\n",
       "      <td>65415</td>\n",
       "      <td>614288</td>\n",
       "      <td>34494</td>\n",
       "      <td>821421</td>\n",
       "      <td>732492</td>\n",
       "      <td>52789</td>\n",
       "      <td>46973</td>\n",
       "      <td>869294</td>\n",
       "      <td>869464</td>\n",
       "      <td>800168</td>\n",
       "      <td>1088823</td>\n",
       "      <td>278383</td>\n",
       "      <td>132607</td>\n",
       "      <td>1622</td>\n",
       "      <td>50195</td>\n",
       "      <td>6007</td>\n",
       "      <td>2058</td>\n",
       "      <td>11341</td>\n",
       "      <td>537946</td>\n",
       "      <td>510602</td>\n",
       "      <td>121195</td>\n",
       "      <td>342767</td>\n",
       "      <td>4440</td>\n",
       "      <td>6523</td>\n",
       "      <td>11217</td>\n",
       "      <td>27864</td>\n",
       "      <td>558347</td>\n",
       "      <td>613789</td>\n",
       "      <td>5684</td>\n",
       "      <td>908806</td>\n",
       "      <td>40397</td>\n",
       "      <td>95856</td>\n",
       "      <td>239150</td>\n",
       "      <td>335006</td>\n",
       "      <td>275218</td>\n",
       "      <td>952492</td>\n",
       "      <td>468704</td>\n",
       "      <td>208570</td>\n",
       "      <td>112434</td>\n",
       "      <td>7478</td>\n",
       "      <td>235274</td>\n",
       "      <td>1085890</td>\n",
       "      <td>85895</td>\n",
       "      <td>6477</td>\n",
       "      <td>7007</td>\n",
       "      <td>450</td>\n",
       "      <td>80</td>\n",
       "      <td>228618</td>\n",
       "      <td>1274</td>\n",
       "      <td>2865</td>\n",
       "      <td>1949</td>\n",
       "      <td>4814</td>\n",
       "      <td>189</td>\n",
       "      <td>164</td>\n",
       "      <td>353</td>\n",
       "      <td>195</td>\n",
       "      <td>286</td>\n",
       "      <td>481</td>\n",
       "      <td>290</td>\n",
       "      <td>7211</td>\n",
       "      <td>101.0</td>\n",
       "      <td>64.0</td>\n",
       "    </tr>\n",
       "    <tr>\n",
       "      <th>4</th>\n",
       "      <td>Andhra Pradesh</td>\n",
       "      <td>Guntur</td>\n",
       "      <td>15.884926</td>\n",
       "      <td>80.586576</td>\n",
       "      <td>548</td>\n",
       "      <td>4887813</td>\n",
       "      <td>2440521</td>\n",
       "      <td>2447292</td>\n",
       "      <td>2960441</td>\n",
       "      <td>1634726</td>\n",
       "      <td>1325715</td>\n",
       "      <td>957407</td>\n",
       "      <td>476333</td>\n",
       "      <td>481074</td>\n",
       "      <td>247089</td>\n",
       "      <td>125105</td>\n",
       "      <td>121984</td>\n",
       "      <td>2381624</td>\n",
       "      <td>1442370</td>\n",
       "      <td>939254</td>\n",
       "      <td>2106326</td>\n",
       "      <td>275298</td>\n",
       "      <td>2506189</td>\n",
       "      <td>302341</td>\n",
       "      <td>1227956</td>\n",
       "      <td>47436</td>\n",
       "      <td>803891</td>\n",
       "      <td>4217597</td>\n",
       "      <td>559770</td>\n",
       "      <td>89763</td>\n",
       "      <td>764</td>\n",
       "      <td>323</td>\n",
       "      <td>3282</td>\n",
       "      <td>332</td>\n",
       "      <td>15982</td>\n",
       "      <td>648568</td>\n",
       "      <td>1186028</td>\n",
       "      <td>19383</td>\n",
       "      <td>80434</td>\n",
       "      <td>1069877</td>\n",
       "      <td>513113</td>\n",
       "      <td>1582990</td>\n",
       "      <td>736270</td>\n",
       "      <td>845810</td>\n",
       "      <td>674957</td>\n",
       "      <td>453446</td>\n",
       "      <td>246580</td>\n",
       "      <td>221924</td>\n",
       "      <td>30279</td>\n",
       "      <td>3209266</td>\n",
       "      <td>1474349</td>\n",
       "      <td>4683615</td>\n",
       "      <td>2583462</td>\n",
       "      <td>1371811</td>\n",
       "      <td>928462</td>\n",
       "      <td>4078</td>\n",
       "      <td>454586</td>\n",
       "      <td>17424</td>\n",
       "      <td>106907</td>\n",
       "      <td>190079</td>\n",
       "      <td>62229</td>\n",
       "      <td>617321</td>\n",
       "      <td>28457</td>\n",
       "      <td>816849</td>\n",
       "      <td>733133</td>\n",
       "      <td>53583</td>\n",
       "      <td>44968</td>\n",
       "      <td>917356</td>\n",
       "      <td>904201</td>\n",
       "      <td>762845</td>\n",
       "      <td>981115</td>\n",
       "      <td>276073</td>\n",
       "      <td>180459</td>\n",
       "      <td>1292</td>\n",
       "      <td>58852</td>\n",
       "      <td>5982</td>\n",
       "      <td>2660</td>\n",
       "      <td>4774</td>\n",
       "      <td>383630</td>\n",
       "      <td>513287</td>\n",
       "      <td>67710</td>\n",
       "      <td>428749</td>\n",
       "      <td>1299</td>\n",
       "      <td>4238</td>\n",
       "      <td>35872</td>\n",
       "      <td>47242</td>\n",
       "      <td>465404</td>\n",
       "      <td>554667</td>\n",
       "      <td>5833</td>\n",
       "      <td>739450</td>\n",
       "      <td>73453</td>\n",
       "      <td>83026</td>\n",
       "      <td>212589</td>\n",
       "      <td>295615</td>\n",
       "      <td>229537</td>\n",
       "      <td>842985</td>\n",
       "      <td>413160</td>\n",
       "      <td>200288</td>\n",
       "      <td>139120</td>\n",
       "      <td>10111</td>\n",
       "      <td>267760</td>\n",
       "      <td>972992</td>\n",
       "      <td>117838</td>\n",
       "      <td>10388</td>\n",
       "      <td>11313</td>\n",
       "      <td>821</td>\n",
       "      <td>104</td>\n",
       "      <td>185688</td>\n",
       "      <td>1119</td>\n",
       "      <td>2657</td>\n",
       "      <td>1953</td>\n",
       "      <td>4610</td>\n",
       "      <td>196</td>\n",
       "      <td>188</td>\n",
       "      <td>384</td>\n",
       "      <td>222</td>\n",
       "      <td>328</td>\n",
       "      <td>550</td>\n",
       "      <td>317</td>\n",
       "      <td>6981</td>\n",
       "      <td>100.0</td>\n",
       "      <td>61.0</td>\n",
       "    </tr>\n",
       "  </tbody>\n",
       "</table>\n",
       "</div>"
      ],
      "text/plain": [
       "            State       District   Latitude  Longitude  District code  \\\n",
       "0  Andhra Pradesh       Adilabad  19.284514  78.813212            532   \n",
       "1  Andhra Pradesh      Anantapur  14.312066  77.460158            553   \n",
       "2  Andhra Pradesh       Chittoor  13.331093  78.927639            554   \n",
       "3  Andhra Pradesh  East Godavari  16.782718  82.243207            545   \n",
       "4  Andhra Pradesh         Guntur  15.884926  80.586576            548   \n",
       "\n",
       "   Population     Male   Female  Literate  Male_Literate  Female_Literate  \\\n",
       "0     2741239  1369597  1371642   1483347         856350           626997   \n",
       "1     4081148  2064495  2016653   2310960        1338474           972486   \n",
       "2     4174064  2090204  2083860   2667878        1484794          1183084   \n",
       "3     5154296  2569688  2584608   3288577        1716933          1571644   \n",
       "4     4887813  2440521  2447292   2960441        1634726          1325715   \n",
       "\n",
       "       SC  Male_SC  Female_SC      ST  Male_ST  Female_ST  Workers  \\\n",
       "0  488596   242844     245752  495794   247472     248322  1323667   \n",
       "1  583135   292379     290756  154127    78573      75554  2036166   \n",
       "2  785760   389582     396178  159165    79756      79409  1933357   \n",
       "3  945269   468883     476386  213195   104422     108773  2093681   \n",
       "4  957407   476333     481074  247089   125105     121984  2381624   \n",
       "\n",
       "   Male_Workers  Female_Workers  Main_Workers  Marginal_Workers  Non_Workers  \\\n",
       "0        748939          574728       1066460            257207      1417572   \n",
       "1       1208544          827622       1679655            356511      2044982   \n",
       "2       1202223          731134       1669852            263505      2240707   \n",
       "3       1545831          547850       1748117            345564      3060615   \n",
       "4       1442370          939254       2106326            275298      2506189   \n",
       "\n",
       "   Cultivator_Workers  Agricultural_Workers  Household_Workers  Other_Workers  \\\n",
       "0              363737                484912              84661         390357   \n",
       "1              413253                879537             105343         638033   \n",
       "2              434544                748093              57269         693451   \n",
       "3              160407               1122046              57853         753375   \n",
       "4              302341               1227956              47436         803891   \n",
       "\n",
       "    Hindus  Muslims  Christians  Sikhs  Buddhists  Jains  Others_Religions  \\\n",
       "0  2399901   275970       15422   1377      25510    617               322   \n",
       "1  3599372   443456       20463    932        341   1417               309   \n",
       "2  3737588   397870       24129    867        253   1322               358   \n",
       "3  4983330    77777       77825    738        413   4149               403   \n",
       "4  4217597   559770       89763    764        323   3282               332   \n",
       "\n",
       "   Religion_Not_Stated  LPG_or_PNG_Households  \\\n",
       "0                22120                 194954   \n",
       "1                14858                 223016   \n",
       "2                11677                 324406   \n",
       "3                 9661                 479914   \n",
       "4                15982                 648568   \n",
       "\n",
       "   Housholds_with_Electric_Lighting  Households_with_Internet  \\\n",
       "0                            566108                      5512   \n",
       "1                            897970                      8606   \n",
       "2                            944555                     13763   \n",
       "3                           1297273                     22411   \n",
       "4                           1186028                     19383   \n",
       "\n",
       "   Households_with_Computer  Rural_Households  Urban_Households  Households  \\\n",
       "0                     45202            597466            220248      817714   \n",
       "1                     48299            902997            341431     1244428   \n",
       "2                     67087            907970            395900     1303870   \n",
       "3                     93784           1199479            406362     1605841   \n",
       "4                     80434           1069877            513113     1582990   \n",
       "\n",
       "   Below_Primary_Education  Primary_Education  Middle_Education  \\\n",
       "0                   232470             344167            281752   \n",
       "1                   462273             720357            582075   \n",
       "2                   522961             770836            673197   \n",
       "3                   669420             947606            797497   \n",
       "4                   736270             845810            674957   \n",
       "\n",
       "   Secondary_Education  Higher_Education  Graduate_Education  Other_Education  \\\n",
       "0               225957            143143              100226            19277   \n",
       "1               331793            162175              144915            23341   \n",
       "2               548336            265199              246409            36017   \n",
       "3               521562            271809              263023            47702   \n",
       "4               453446            246580              221924            30279   \n",
       "\n",
       "   Literate_Education  Illiterate_Education  Total_Education  Age_Group_0_29  \\\n",
       "0             1346992               1030640          2377632         1536378   \n",
       "1             2426929               1369069          3795998         2189396   \n",
       "2             3062955               1170993          4233948         2148179   \n",
       "3             3518619               1524603          5043222         2724328   \n",
       "4             3209266               1474349          4683615         2583462   \n",
       "\n",
       "   Age_Group_30_49  Age_Group_50  Age not stated  Households_with_Bicycle  \\\n",
       "0           704551        422522           77788                   150289   \n",
       "1          1104565        739612           47575                   206433   \n",
       "2          1159053        807430           59402                   225856   \n",
       "3          1478954        948122            2892                   779052   \n",
       "4          1371811        928462            4078                   454586   \n",
       "\n",
       "   Households_with_Car_Jeep_Van  Households_with_Radio_Transistor  \\\n",
       "0                          8338                             25190   \n",
       "1                          9915                             63528   \n",
       "2                         16296                             93489   \n",
       "3                         25381                            113126   \n",
       "4                         17424                            106907   \n",
       "\n",
       "   Households_with_Scooter_Motorcycle_Moped  \\\n",
       "0                                     96998   \n",
       "1                                    144214   \n",
       "2                                    186568   \n",
       "3                                    232073   \n",
       "4                                    190079   \n",
       "\n",
       "   Households_with_Telephone_Mobile_Phone_Landline_only  \\\n",
       "0                                              15483      \n",
       "1                                              24039      \n",
       "2                                              35378      \n",
       "3                                              65415      \n",
       "4                                              62229      \n",
       "\n",
       "   Households_with_Telephone_Mobile_Phone_Mobile_only  \\\n",
       "0                                             374630    \n",
       "1                                             534408    \n",
       "2                                             561188    \n",
       "3                                             614288    \n",
       "4                                             617321    \n",
       "\n",
       "   Households_with_TV_Computer_Laptop_Telephone_mobile_phone_and_Scooter_Car  \\\n",
       "0                                               9483                           \n",
       "1                                              14470                           \n",
       "2                                              24934                           \n",
       "3                                              34494                           \n",
       "4                                              28457                           \n",
       "\n",
       "   Households_with_Television  Households_with_Telephone_Mobile_Phone  \\\n",
       "0                      306433                                  403530   \n",
       "1                      559461                                  581087   \n",
       "2                      611465                                  632803   \n",
       "3                      821421                                  732492   \n",
       "4                      816849                                  733133   \n",
       "\n",
       "   Households_with_Telephone_Mobile_Phone_Both  \\\n",
       "0                                        13417   \n",
       "1                                        22640   \n",
       "2                                        36237   \n",
       "3                                        52789   \n",
       "4                                        53583   \n",
       "\n",
       "   Condition_of_occupied_census_houses_Dilapidated_Households  \\\n",
       "0                                              35823            \n",
       "1                                              23899            \n",
       "2                                              30849            \n",
       "3                                              46973            \n",
       "4                                              44968            \n",
       "\n",
       "   Households_with_separate_kitchen_Cooking_inside_house  \\\n",
       "0                                             510399       \n",
       "1                                             713663       \n",
       "2                                             777100       \n",
       "3                                             869294       \n",
       "4                                             917356       \n",
       "\n",
       "   Having_bathing_facility_Total_Households  \\\n",
       "0                                    378259   \n",
       "1                                    755971   \n",
       "2                                    754648   \n",
       "3                                    869464   \n",
       "4                                    904201   \n",
       "\n",
       "   Having_latrine_facility_within_the_premises_Total_Households  \\\n",
       "0                                             191052              \n",
       "1                                             353948              \n",
       "2                                             382377              \n",
       "3                                             800168              \n",
       "4                                             762845              \n",
       "\n",
       "   Ownership_Owned_Households  Ownership_Rented_Households  \\\n",
       "0                      559211                        77594   \n",
       "1                      779195                       172680   \n",
       "2                      815953                       196720   \n",
       "3                     1088823                       278383   \n",
       "4                      981115                       276073   \n",
       "\n",
       "   Type_of_bathing_facility_Enclosure_without_roof_Households  \\\n",
       "0                                             180245            \n",
       "1                                             222718            \n",
       "2                                             246488            \n",
       "3                                             132607            \n",
       "4                                             180459            \n",
       "\n",
       "   Type_of_fuel_used_for_cooking_Any_other_Households  \\\n",
       "0                                               1009    \n",
       "1                                                824    \n",
       "2                                                640    \n",
       "3                                               1622    \n",
       "4                                               1292    \n",
       "\n",
       "   Type_of_latrine_facility_Pit_latrine_Households  \\\n",
       "0                                            20150   \n",
       "1                                            96437   \n",
       "2                                            32299   \n",
       "3                                            50195   \n",
       "4                                            58852   \n",
       "\n",
       "   Type_of_latrine_facility_Other_latrine_Households  \\\n",
       "0                                               6489   \n",
       "1                                              22059   \n",
       "2                                              12221   \n",
       "3                                               6007   \n",
       "4                                               5982   \n",
       "\n",
       "   Type_of_latrine_facility_Night_soil_disposed_into_open_drain_Households  \\\n",
       "0                                               4078                         \n",
       "1                                              19296                         \n",
       "2                                              10381                         \n",
       "3                                               2058                         \n",
       "4                                               2660                         \n",
       "\n",
       "   Type_of_latrine_facility_Flush_pour_flush_latrine_connected_to_other_system_Households  \\\n",
       "0                                               9390                                        \n",
       "1                                              11188                                        \n",
       "2                                              11823                                        \n",
       "3                                              11341                                        \n",
       "4                                               4774                                        \n",
       "\n",
       "   Not_having_bathing_facility_within_the_premises_Total_Households  \\\n",
       "0                                             273511                  \n",
       "1                                             205194                  \n",
       "2                                             267468                  \n",
       "3                                             537946                  \n",
       "4                                             383630                  \n",
       "\n",
       "   Not_having_latrine_facility_within_the_premises_Alternative_source_Open_Households  \\\n",
       "0                                             446014                                    \n",
       "1                                             581051                                    \n",
       "2                                             628364                                    \n",
       "3                                             510602                                    \n",
       "4                                             513287                                    \n",
       "\n",
       "   Main_source_of_drinking_water_Un_covered_well_Households  \\\n",
       "0                                              93294          \n",
       "1                                               5049          \n",
       "2                                               8192          \n",
       "3                                             121195          \n",
       "4                                              67710          \n",
       "\n",
       "   Main_source_of_drinking_water_Handpump_Tubewell_Borewell_Households  \\\n",
       "0                                             267233                     \n",
       "1                                             117001                     \n",
       "2                                             135531                     \n",
       "3                                             342767                     \n",
       "4                                             428749                     \n",
       "\n",
       "   Main_source_of_drinking_water_Spring_Households  \\\n",
       "0                                             2294   \n",
       "1                                              552   \n",
       "2                                              349   \n",
       "3                                             4440   \n",
       "4                                             1299   \n",
       "\n",
       "   Main_source_of_drinking_water_River_Canal_Households  \\\n",
       "0                                               3303      \n",
       "1                                                469      \n",
       "2                                                548      \n",
       "3                                               6523      \n",
       "4                                               4238      \n",
       "\n",
       "   Main_source_of_drinking_water_Other_sources_Households  \\\n",
       "0                                               7390        \n",
       "1                                              16086        \n",
       "2                                              38931        \n",
       "3                                              11217        \n",
       "4                                              35872        \n",
       "\n",
       "   Main_source_of_drinking_water_Other_sources_Spring_River_Canal_Tank_Pond_Lake_Other_sources__Households  \\\n",
       "0                                              14508                                                         \n",
       "1                                              17308                                                         \n",
       "2                                              40322                                                         \n",
       "3                                              27864                                                         \n",
       "4                                              47242                                                         \n",
       "\n",
       "   Location_of_drinking_water_source_Near_the_premises_Households  \\\n",
       "0                                             212025                \n",
       "1                                             528245                \n",
       "2                                             539408                \n",
       "3                                             558347                \n",
       "4                                             465404                \n",
       "\n",
       "   Location_of_drinking_water_source_Within_the_premises_Households  \\\n",
       "0                                             229686                  \n",
       "1                                             225275                  \n",
       "2                                             342011                  \n",
       "3                                             613789                  \n",
       "4                                             554667                  \n",
       "\n",
       "   Main_source_of_drinking_water_Tank_Pond_Lake_Households  \\\n",
       "0                                               1521         \n",
       "1                                                201         \n",
       "2                                                494         \n",
       "3                                               5684         \n",
       "4                                               5833         \n",
       "\n",
       "   Main_source_of_drinking_water_Tapwater_Households  \\\n",
       "0                                             270862   \n",
       "1                                             819675   \n",
       "2                                             835606   \n",
       "3                                             908806   \n",
       "4                                             739450   \n",
       "\n",
       "   Main_source_of_drinking_water_Tubewell_Borehole_Households  \\\n",
       "0                                              79354            \n",
       "1                                              43685            \n",
       "2                                              92651            \n",
       "3                                              40397            \n",
       "4                                              73453            \n",
       "\n",
       "   Household_size_1_person_Households  Household_size_2_persons_Households  \\\n",
       "0                               27018                                80780   \n",
       "1                               36633                               106460   \n",
       "2                               55151                               132169   \n",
       "3                               95856                               239150   \n",
       "4                               83026                               212589   \n",
       "\n",
       "   Household_size_1_to_2_persons  Household_size_3_persons_Households  \\\n",
       "0                         107798                               103066   \n",
       "1                         143093                               156107   \n",
       "2                         187320                               175853   \n",
       "3                         335006                               275218   \n",
       "4                         295615                               229537   \n",
       "\n",
       "   Household_size_3_to_5_persons_Households  \\\n",
       "0                                    417387   \n",
       "1                                    644263   \n",
       "2                                    678054   \n",
       "3                                    952492   \n",
       "4                                    842985   \n",
       "\n",
       "   Household_size_4_persons_Households  Household_size_5_persons_Households  \\\n",
       "0                               182282                               132039   \n",
       "1                               291388                               196768   \n",
       "2                               311451                               190750   \n",
       "3                               468704                               208570   \n",
       "4                               413160                               200288   \n",
       "\n",
       "   Household_size_6_8_persons_Households  \\\n",
       "0                                 114585   \n",
       "1                                 153243   \n",
       "2                                 142837   \n",
       "3                                 112434   \n",
       "4                                 139120   \n",
       "\n",
       "   Household_size_9_persons_and_above_Households  \\\n",
       "0                                          12000   \n",
       "1                                          20566   \n",
       "2                                          13905   \n",
       "3                                           7478   \n",
       "4                                          10111   \n",
       "\n",
       "   Location_of_drinking_water_source_Away_Households  \\\n",
       "0                                             210059   \n",
       "1                                             207645   \n",
       "2                                             140697   \n",
       "3                                             235274   \n",
       "4                                             267760   \n",
       "\n",
       "   Married_couples_1_Households  Married_couples_2_Households  \\\n",
       "0                        503266                         58377   \n",
       "1                        718794                        115052   \n",
       "2                        757090                        105579   \n",
       "3                       1085890                         85895   \n",
       "4                        972992                        117838   \n",
       "\n",
       "   Married_couples_3_Households  Married_couples_3_or_more_Households  \\\n",
       "0                          6455                                  7297   \n",
       "1                         15584                                 17947   \n",
       "2                         10901                                 12183   \n",
       "3                          6477                                  7007   \n",
       "4                         10388                                 11313   \n",
       "\n",
       "   Married_couples_4_Households  Married_couples_5__Households  \\\n",
       "0                           722                            120   \n",
       "1                          1994                            369   \n",
       "2                          1103                            179   \n",
       "3                           450                             80   \n",
       "4                           821                            104   \n",
       "\n",
       "   Married_couples_None_Households  Power_Parity_Less_than_Rs_45000  \\\n",
       "0                            82830                              648   \n",
       "1                           109372                              969   \n",
       "2                           147264                             1021   \n",
       "3                           228618                             1274   \n",
       "4                           185688                             1119   \n",
       "\n",
       "   Power_Parity_Rs_45000_90000  Power_Parity_Rs_90000_150000  \\\n",
       "0                         1604                          1266   \n",
       "1                         2252                          1605   \n",
       "2                         2270                          1565   \n",
       "3                         2865                          1949   \n",
       "4                         2657                          1953   \n",
       "\n",
       "   Power_Parity_Rs_45000_150000  Power_Parity_Rs_150000_240000  \\\n",
       "0                          2870                             84   \n",
       "1                          3857                            143   \n",
       "2                          3835                            261   \n",
       "3                          4814                            189   \n",
       "4                          4610                            196   \n",
       "\n",
       "   Power_Parity_Rs_240000_330000  Power_Parity_Rs_150000_330000  \\\n",
       "0                            122                            206   \n",
       "1                            150                            293   \n",
       "2                            125                            386   \n",
       "3                            164                            353   \n",
       "4                            188                            384   \n",
       "\n",
       "   Power_Parity_Rs_330000_425000  Power_Parity_Rs_425000_545000  \\\n",
       "0                            134                            213   \n",
       "1                            176                            261   \n",
       "2                            157                            218   \n",
       "3                            195                            286   \n",
       "4                            222                            328   \n",
       "\n",
       "   Power_Parity_Rs_330000_545000  Power_Parity_Above_Rs_545000  \\\n",
       "0                            347                           109   \n",
       "1                            437                           243   \n",
       "2                            375                           307   \n",
       "3                            481                           290   \n",
       "4                            550                           317   \n",
       "\n",
       "   Total_Power_Parity  Sex Ratio  Literacy Rate  \n",
       "0                4181      100.0           54.0  \n",
       "1                5799       98.0           57.0  \n",
       "2                5926      100.0           64.0  \n",
       "3                7211      101.0           64.0  \n",
       "4                6981      100.0           61.0  "
      ]
     },
     "execution_count": 43,
     "metadata": {},
     "output_type": "execute_result"
    }
   ],
   "source": [
    "final_df.head()"
   ]
  },
  {
   "cell_type": "code",
   "execution_count": 45,
   "metadata": {},
   "outputs": [],
   "source": [
    "temp_df = final_df[['State','District','Latitude','Longitude','Population','Male','Female','Literate','Male_Literate',\n",
    "          'Female_Literate','SC','Male_SC','Female_SC','ST','Male_ST','Female_ST','Workers','Male_Workers',\n",
    "          'Female_Workers','Non_Workers','Agricultural_Workers','Other_Workers','Hindus','Muslims','Christians',\n",
    "          'Sikhs','Buddhists','Jains','Others_Religions','LPG_or_PNG_Households','Housholds_with_Electric_Lighting',\n",
    "          'Households_with_Internet','Households_with_Computer','Below_Primary_Education','Primary_Education',\n",
    "          'Secondary_Education','Graduate_Education','Other_Education','Age_Group_0_29','Age_Group_30_49',\n",
    "          'Age_Group_50','Households_with_Television','Households_with_Telephone_Mobile_Phone','Sex Ratio','Literacy Rate']]"
   ]
  },
  {
   "cell_type": "code",
   "execution_count": 47,
   "metadata": {},
   "outputs": [
    {
     "data": {
      "text/plain": [
       "Index(['State', 'District', 'Latitude', 'Longitude', 'Population', 'Male',\n",
       "       'Female', 'Literate', 'Male_Literate', 'Female_Literate', 'SC',\n",
       "       'Male_SC', 'Female_SC', 'ST', 'Male_ST', 'Female_ST', 'Workers',\n",
       "       'Male_Workers', 'Female_Workers', 'Non_Workers', 'Agricultural_Workers',\n",
       "       'Other_Workers', 'Hindus', 'Muslims', 'Christians', 'Sikhs',\n",
       "       'Buddhists', 'Jains', 'Others_Religions', 'LPG_or_PNG_Households',\n",
       "       'Housholds_with_Electric_Lighting', 'Households_with_Internet',\n",
       "       'Households_with_Computer', 'Below_Primary_Education',\n",
       "       'Primary_Education', 'Secondary_Education', 'Graduate_Education',\n",
       "       'Other_Education', 'Age_Group_0_29', 'Age_Group_30_49', 'Age_Group_50',\n",
       "       'Households_with_Television', 'Households_with_Telephone_Mobile_Phone',\n",
       "       'Sex Ratio', 'Literacy Rate'],\n",
       "      dtype='object')"
      ]
     },
     "execution_count": 47,
     "metadata": {},
     "output_type": "execute_result"
    }
   ],
   "source": [
    "temp_df.columns"
   ]
  },
  {
   "cell_type": "code",
   "execution_count": 50,
   "metadata": {},
   "outputs": [
    {
     "name": "stderr",
     "output_type": "stream",
     "text": [
      "C:\\Users\\sanja\\AppData\\Local\\Temp\\ipykernel_7272\\1605164186.py:1: SettingWithCopyWarning:\n",
      "\n",
      "\n",
      "A value is trying to be set on a copy of a slice from a DataFrame\n",
      "\n",
      "See the caveats in the documentation: https://pandas.pydata.org/pandas-docs/stable/user_guide/indexing.html#returning-a-view-versus-a-copy\n",
      "\n"
     ]
    }
   ],
   "source": [
    "temp_df.rename(columns={'Male':'Male Population','Female':'Female population', 'Male_Literate':'Male Literate',\n",
    "                'Female_Literate':'Female Literate','Male_SC':'Male SC','Female_SC':'Female SC',\n",
    "                'Male_ST':'Male ST','Female_ST':'Female ST','Male_Workers':'Male Workers',\n",
    "                'Female_Workers':'Female Workers','Non_Workers':'Non Workers','Agricultural_Workers':'Agricultural Workers',\n",
    "                'Other_Workers':'Other Workers','Others_Religions':'Others Religions',\n",
    "                'LPG_or_PNG_Households':'LPG PNG Households',\n",
    "                'Housholds_with_Electric_Lighting':'Housholds with Electricity',\n",
    "                'Households_with_Internet':'Households with Internet','Households_with_Computer':'Households with Computer',\n",
    "                'Below_Primary_Education':'Below Primary Education','Primary_Education':'Primary Education',\n",
    "                'Secondary_Education':'Secondary Education','Graduate_Education':'Graduate Education',\n",
    "                'Other_Education':'Other Education','Age_Group_0_29':'Age 0-29','Age_Group_30_49':'Age 30-49',\n",
    "                'Age_Group_50':'Above 50','Households_with_Television':'Households with Television',\n",
    "                'Households_with_Telephone_Mobile_Phone':'Households with Telephone Mobile Phone'},inplace=True)"
   ]
  },
  {
   "cell_type": "code",
   "execution_count": 53,
   "metadata": {},
   "outputs": [
    {
     "name": "stderr",
     "output_type": "stream",
     "text": [
      "C:\\Users\\sanja\\AppData\\Local\\Temp\\ipykernel_7272\\1223939979.py:1: SettingWithCopyWarning:\n",
      "\n",
      "\n",
      "A value is trying to be set on a copy of a slice from a DataFrame.\n",
      "Try using .loc[row_indexer,col_indexer] = value instead\n",
      "\n",
      "See the caveats in the documentation: https://pandas.pydata.org/pandas-docs/stable/user_guide/indexing.html#returning-a-view-versus-a-copy\n",
      "\n"
     ]
    }
   ],
   "source": [
    "temp_df['Male Unliterate'] = temp_df['Male Population'] - temp_df['Male Literate']"
   ]
  },
  {
   "cell_type": "code",
   "execution_count": 57,
   "metadata": {},
   "outputs": [
    {
     "name": "stderr",
     "output_type": "stream",
     "text": [
      "C:\\Users\\sanja\\AppData\\Local\\Temp\\ipykernel_7272\\1663483877.py:1: SettingWithCopyWarning:\n",
      "\n",
      "\n",
      "A value is trying to be set on a copy of a slice from a DataFrame.\n",
      "Try using .loc[row_indexer,col_indexer] = value instead\n",
      "\n",
      "See the caveats in the documentation: https://pandas.pydata.org/pandas-docs/stable/user_guide/indexing.html#returning-a-view-versus-a-copy\n",
      "\n"
     ]
    }
   ],
   "source": [
    "temp_df['Female Unliterate'] = temp_df['Female population'] - temp_df['Female Literate']"
   ]
  },
  {
   "cell_type": "code",
   "execution_count": 58,
   "metadata": {},
   "outputs": [
    {
     "data": {
      "text/html": [
       "<div>\n",
       "<style scoped>\n",
       "    .dataframe tbody tr th:only-of-type {\n",
       "        vertical-align: middle;\n",
       "    }\n",
       "\n",
       "    .dataframe tbody tr th {\n",
       "        vertical-align: top;\n",
       "    }\n",
       "\n",
       "    .dataframe thead th {\n",
       "        text-align: right;\n",
       "    }\n",
       "</style>\n",
       "<table border=\"1\" class=\"dataframe\">\n",
       "  <thead>\n",
       "    <tr style=\"text-align: right;\">\n",
       "      <th></th>\n",
       "      <th>State</th>\n",
       "      <th>District</th>\n",
       "      <th>Latitude</th>\n",
       "      <th>Longitude</th>\n",
       "      <th>Population</th>\n",
       "      <th>Male Population</th>\n",
       "      <th>Female population</th>\n",
       "      <th>Literate</th>\n",
       "      <th>Male Literate</th>\n",
       "      <th>Female Literate</th>\n",
       "      <th>SC</th>\n",
       "      <th>Male SC</th>\n",
       "      <th>Female SC</th>\n",
       "      <th>ST</th>\n",
       "      <th>Male ST</th>\n",
       "      <th>Female ST</th>\n",
       "      <th>Workers</th>\n",
       "      <th>Male Workers</th>\n",
       "      <th>Female Workers</th>\n",
       "      <th>Non Workers</th>\n",
       "      <th>Agricultural Workers</th>\n",
       "      <th>Other Workers</th>\n",
       "      <th>Hindus</th>\n",
       "      <th>Muslims</th>\n",
       "      <th>Christians</th>\n",
       "      <th>Sikhs</th>\n",
       "      <th>Buddhists</th>\n",
       "      <th>Jains</th>\n",
       "      <th>Others Religions</th>\n",
       "      <th>LPG PNG Households</th>\n",
       "      <th>Housholds with Electricity</th>\n",
       "      <th>Households with Internet</th>\n",
       "      <th>Households with Computer</th>\n",
       "      <th>Below Primary Education</th>\n",
       "      <th>Primary Education</th>\n",
       "      <th>Secondary Education</th>\n",
       "      <th>Graduate Education</th>\n",
       "      <th>Other Education</th>\n",
       "      <th>Age 0-29</th>\n",
       "      <th>Age 30-49</th>\n",
       "      <th>Above 50</th>\n",
       "      <th>Households with Television</th>\n",
       "      <th>Households with Telephone Mobile Phone</th>\n",
       "      <th>Sex Ratio</th>\n",
       "      <th>Literacy Rate</th>\n",
       "      <th>Male Unliterate</th>\n",
       "      <th>Female Unliterate</th>\n",
       "    </tr>\n",
       "  </thead>\n",
       "  <tbody>\n",
       "    <tr>\n",
       "      <th>0</th>\n",
       "      <td>Andhra Pradesh</td>\n",
       "      <td>Adilabad</td>\n",
       "      <td>19.284514</td>\n",
       "      <td>78.813212</td>\n",
       "      <td>2741239</td>\n",
       "      <td>1369597</td>\n",
       "      <td>1371642</td>\n",
       "      <td>1483347</td>\n",
       "      <td>856350</td>\n",
       "      <td>626997</td>\n",
       "      <td>488596</td>\n",
       "      <td>242844</td>\n",
       "      <td>245752</td>\n",
       "      <td>495794</td>\n",
       "      <td>247472</td>\n",
       "      <td>248322</td>\n",
       "      <td>1323667</td>\n",
       "      <td>748939</td>\n",
       "      <td>574728</td>\n",
       "      <td>1417572</td>\n",
       "      <td>484912</td>\n",
       "      <td>390357</td>\n",
       "      <td>2399901</td>\n",
       "      <td>275970</td>\n",
       "      <td>15422</td>\n",
       "      <td>1377</td>\n",
       "      <td>25510</td>\n",
       "      <td>617</td>\n",
       "      <td>322</td>\n",
       "      <td>194954</td>\n",
       "      <td>566108</td>\n",
       "      <td>5512</td>\n",
       "      <td>45202</td>\n",
       "      <td>232470</td>\n",
       "      <td>344167</td>\n",
       "      <td>225957</td>\n",
       "      <td>100226</td>\n",
       "      <td>19277</td>\n",
       "      <td>1536378</td>\n",
       "      <td>704551</td>\n",
       "      <td>422522</td>\n",
       "      <td>306433</td>\n",
       "      <td>403530</td>\n",
       "      <td>100.0</td>\n",
       "      <td>54.0</td>\n",
       "      <td>513247</td>\n",
       "      <td>744645</td>\n",
       "    </tr>\n",
       "    <tr>\n",
       "      <th>1</th>\n",
       "      <td>Andhra Pradesh</td>\n",
       "      <td>Anantapur</td>\n",
       "      <td>14.312066</td>\n",
       "      <td>77.460158</td>\n",
       "      <td>4081148</td>\n",
       "      <td>2064495</td>\n",
       "      <td>2016653</td>\n",
       "      <td>2310960</td>\n",
       "      <td>1338474</td>\n",
       "      <td>972486</td>\n",
       "      <td>583135</td>\n",
       "      <td>292379</td>\n",
       "      <td>290756</td>\n",
       "      <td>154127</td>\n",
       "      <td>78573</td>\n",
       "      <td>75554</td>\n",
       "      <td>2036166</td>\n",
       "      <td>1208544</td>\n",
       "      <td>827622</td>\n",
       "      <td>2044982</td>\n",
       "      <td>879537</td>\n",
       "      <td>638033</td>\n",
       "      <td>3599372</td>\n",
       "      <td>443456</td>\n",
       "      <td>20463</td>\n",
       "      <td>932</td>\n",
       "      <td>341</td>\n",
       "      <td>1417</td>\n",
       "      <td>309</td>\n",
       "      <td>223016</td>\n",
       "      <td>897970</td>\n",
       "      <td>8606</td>\n",
       "      <td>48299</td>\n",
       "      <td>462273</td>\n",
       "      <td>720357</td>\n",
       "      <td>331793</td>\n",
       "      <td>144915</td>\n",
       "      <td>23341</td>\n",
       "      <td>2189396</td>\n",
       "      <td>1104565</td>\n",
       "      <td>739612</td>\n",
       "      <td>559461</td>\n",
       "      <td>581087</td>\n",
       "      <td>98.0</td>\n",
       "      <td>57.0</td>\n",
       "      <td>726021</td>\n",
       "      <td>1044167</td>\n",
       "    </tr>\n",
       "    <tr>\n",
       "      <th>2</th>\n",
       "      <td>Andhra Pradesh</td>\n",
       "      <td>Chittoor</td>\n",
       "      <td>13.331093</td>\n",
       "      <td>78.927639</td>\n",
       "      <td>4174064</td>\n",
       "      <td>2090204</td>\n",
       "      <td>2083860</td>\n",
       "      <td>2667878</td>\n",
       "      <td>1484794</td>\n",
       "      <td>1183084</td>\n",
       "      <td>785760</td>\n",
       "      <td>389582</td>\n",
       "      <td>396178</td>\n",
       "      <td>159165</td>\n",
       "      <td>79756</td>\n",
       "      <td>79409</td>\n",
       "      <td>1933357</td>\n",
       "      <td>1202223</td>\n",
       "      <td>731134</td>\n",
       "      <td>2240707</td>\n",
       "      <td>748093</td>\n",
       "      <td>693451</td>\n",
       "      <td>3737588</td>\n",
       "      <td>397870</td>\n",
       "      <td>24129</td>\n",
       "      <td>867</td>\n",
       "      <td>253</td>\n",
       "      <td>1322</td>\n",
       "      <td>358</td>\n",
       "      <td>324406</td>\n",
       "      <td>944555</td>\n",
       "      <td>13763</td>\n",
       "      <td>67087</td>\n",
       "      <td>522961</td>\n",
       "      <td>770836</td>\n",
       "      <td>548336</td>\n",
       "      <td>246409</td>\n",
       "      <td>36017</td>\n",
       "      <td>2148179</td>\n",
       "      <td>1159053</td>\n",
       "      <td>807430</td>\n",
       "      <td>611465</td>\n",
       "      <td>632803</td>\n",
       "      <td>100.0</td>\n",
       "      <td>64.0</td>\n",
       "      <td>605410</td>\n",
       "      <td>900776</td>\n",
       "    </tr>\n",
       "    <tr>\n",
       "      <th>3</th>\n",
       "      <td>Andhra Pradesh</td>\n",
       "      <td>East Godavari</td>\n",
       "      <td>16.782718</td>\n",
       "      <td>82.243207</td>\n",
       "      <td>5154296</td>\n",
       "      <td>2569688</td>\n",
       "      <td>2584608</td>\n",
       "      <td>3288577</td>\n",
       "      <td>1716933</td>\n",
       "      <td>1571644</td>\n",
       "      <td>945269</td>\n",
       "      <td>468883</td>\n",
       "      <td>476386</td>\n",
       "      <td>213195</td>\n",
       "      <td>104422</td>\n",
       "      <td>108773</td>\n",
       "      <td>2093681</td>\n",
       "      <td>1545831</td>\n",
       "      <td>547850</td>\n",
       "      <td>3060615</td>\n",
       "      <td>1122046</td>\n",
       "      <td>753375</td>\n",
       "      <td>4983330</td>\n",
       "      <td>77777</td>\n",
       "      <td>77825</td>\n",
       "      <td>738</td>\n",
       "      <td>413</td>\n",
       "      <td>4149</td>\n",
       "      <td>403</td>\n",
       "      <td>479914</td>\n",
       "      <td>1297273</td>\n",
       "      <td>22411</td>\n",
       "      <td>93784</td>\n",
       "      <td>669420</td>\n",
       "      <td>947606</td>\n",
       "      <td>521562</td>\n",
       "      <td>263023</td>\n",
       "      <td>47702</td>\n",
       "      <td>2724328</td>\n",
       "      <td>1478954</td>\n",
       "      <td>948122</td>\n",
       "      <td>821421</td>\n",
       "      <td>732492</td>\n",
       "      <td>101.0</td>\n",
       "      <td>64.0</td>\n",
       "      <td>852755</td>\n",
       "      <td>1012964</td>\n",
       "    </tr>\n",
       "    <tr>\n",
       "      <th>4</th>\n",
       "      <td>Andhra Pradesh</td>\n",
       "      <td>Guntur</td>\n",
       "      <td>15.884926</td>\n",
       "      <td>80.586576</td>\n",
       "      <td>4887813</td>\n",
       "      <td>2440521</td>\n",
       "      <td>2447292</td>\n",
       "      <td>2960441</td>\n",
       "      <td>1634726</td>\n",
       "      <td>1325715</td>\n",
       "      <td>957407</td>\n",
       "      <td>476333</td>\n",
       "      <td>481074</td>\n",
       "      <td>247089</td>\n",
       "      <td>125105</td>\n",
       "      <td>121984</td>\n",
       "      <td>2381624</td>\n",
       "      <td>1442370</td>\n",
       "      <td>939254</td>\n",
       "      <td>2506189</td>\n",
       "      <td>1227956</td>\n",
       "      <td>803891</td>\n",
       "      <td>4217597</td>\n",
       "      <td>559770</td>\n",
       "      <td>89763</td>\n",
       "      <td>764</td>\n",
       "      <td>323</td>\n",
       "      <td>3282</td>\n",
       "      <td>332</td>\n",
       "      <td>648568</td>\n",
       "      <td>1186028</td>\n",
       "      <td>19383</td>\n",
       "      <td>80434</td>\n",
       "      <td>736270</td>\n",
       "      <td>845810</td>\n",
       "      <td>453446</td>\n",
       "      <td>221924</td>\n",
       "      <td>30279</td>\n",
       "      <td>2583462</td>\n",
       "      <td>1371811</td>\n",
       "      <td>928462</td>\n",
       "      <td>816849</td>\n",
       "      <td>733133</td>\n",
       "      <td>100.0</td>\n",
       "      <td>61.0</td>\n",
       "      <td>805795</td>\n",
       "      <td>1121577</td>\n",
       "    </tr>\n",
       "    <tr>\n",
       "      <th>...</th>\n",
       "      <td>...</td>\n",
       "      <td>...</td>\n",
       "      <td>...</td>\n",
       "      <td>...</td>\n",
       "      <td>...</td>\n",
       "      <td>...</td>\n",
       "      <td>...</td>\n",
       "      <td>...</td>\n",
       "      <td>...</td>\n",
       "      <td>...</td>\n",
       "      <td>...</td>\n",
       "      <td>...</td>\n",
       "      <td>...</td>\n",
       "      <td>...</td>\n",
       "      <td>...</td>\n",
       "      <td>...</td>\n",
       "      <td>...</td>\n",
       "      <td>...</td>\n",
       "      <td>...</td>\n",
       "      <td>...</td>\n",
       "      <td>...</td>\n",
       "      <td>...</td>\n",
       "      <td>...</td>\n",
       "      <td>...</td>\n",
       "      <td>...</td>\n",
       "      <td>...</td>\n",
       "      <td>...</td>\n",
       "      <td>...</td>\n",
       "      <td>...</td>\n",
       "      <td>...</td>\n",
       "      <td>...</td>\n",
       "      <td>...</td>\n",
       "      <td>...</td>\n",
       "      <td>...</td>\n",
       "      <td>...</td>\n",
       "      <td>...</td>\n",
       "      <td>...</td>\n",
       "      <td>...</td>\n",
       "      <td>...</td>\n",
       "      <td>...</td>\n",
       "      <td>...</td>\n",
       "      <td>...</td>\n",
       "      <td>...</td>\n",
       "      <td>...</td>\n",
       "      <td>...</td>\n",
       "      <td>...</td>\n",
       "      <td>...</td>\n",
       "    </tr>\n",
       "    <tr>\n",
       "      <th>512</th>\n",
       "      <td>West Bengal</td>\n",
       "      <td>Maldah</td>\n",
       "      <td>25.080268</td>\n",
       "      <td>88.171917</td>\n",
       "      <td>3988845</td>\n",
       "      <td>2051541</td>\n",
       "      <td>1937304</td>\n",
       "      <td>2086432</td>\n",
       "      <td>1152019</td>\n",
       "      <td>934413</td>\n",
       "      <td>835430</td>\n",
       "      <td>432744</td>\n",
       "      <td>402686</td>\n",
       "      <td>313984</td>\n",
       "      <td>157528</td>\n",
       "      <td>156456</td>\n",
       "      <td>1537847</td>\n",
       "      <td>1086461</td>\n",
       "      <td>451386</td>\n",
       "      <td>2450998</td>\n",
       "      <td>545759</td>\n",
       "      <td>540219</td>\n",
       "      <td>1914352</td>\n",
       "      <td>2045151</td>\n",
       "      <td>13209</td>\n",
       "      <td>747</td>\n",
       "      <td>359</td>\n",
       "      <td>639</td>\n",
       "      <td>7929</td>\n",
       "      <td>54213</td>\n",
       "      <td>297716</td>\n",
       "      <td>5357</td>\n",
       "      <td>63525</td>\n",
       "      <td>478902</td>\n",
       "      <td>629137</td>\n",
       "      <td>238078</td>\n",
       "      <td>92207</td>\n",
       "      <td>18330</td>\n",
       "      <td>2511004</td>\n",
       "      <td>955283</td>\n",
       "      <td>520122</td>\n",
       "      <td>142659</td>\n",
       "      <td>295922</td>\n",
       "      <td>94.0</td>\n",
       "      <td>52.0</td>\n",
       "      <td>899522</td>\n",
       "      <td>1002891</td>\n",
       "    </tr>\n",
       "    <tr>\n",
       "      <th>513</th>\n",
       "      <td>West Bengal</td>\n",
       "      <td>Murshidabad</td>\n",
       "      <td>24.259507</td>\n",
       "      <td>88.168169</td>\n",
       "      <td>7103807</td>\n",
       "      <td>3627564</td>\n",
       "      <td>3476243</td>\n",
       "      <td>4055834</td>\n",
       "      <td>2177187</td>\n",
       "      <td>1878647</td>\n",
       "      <td>897534</td>\n",
       "      <td>460143</td>\n",
       "      <td>437391</td>\n",
       "      <td>91035</td>\n",
       "      <td>46163</td>\n",
       "      <td>44872</td>\n",
       "      <td>2589907</td>\n",
       "      <td>1985667</td>\n",
       "      <td>604240</td>\n",
       "      <td>4513900</td>\n",
       "      <td>842294</td>\n",
       "      <td>900530</td>\n",
       "      <td>2359061</td>\n",
       "      <td>4707573</td>\n",
       "      <td>18102</td>\n",
       "      <td>766</td>\n",
       "      <td>348</td>\n",
       "      <td>3037</td>\n",
       "      <td>7429</td>\n",
       "      <td>92742</td>\n",
       "      <td>541169</td>\n",
       "      <td>7951</td>\n",
       "      <td>79729</td>\n",
       "      <td>837828</td>\n",
       "      <td>1428661</td>\n",
       "      <td>443254</td>\n",
       "      <td>170051</td>\n",
       "      <td>25975</td>\n",
       "      <td>4390564</td>\n",
       "      <td>1717594</td>\n",
       "      <td>991413</td>\n",
       "      <td>296566</td>\n",
       "      <td>530442</td>\n",
       "      <td>96.0</td>\n",
       "      <td>57.0</td>\n",
       "      <td>1450377</td>\n",
       "      <td>1597596</td>\n",
       "    </tr>\n",
       "    <tr>\n",
       "      <th>514</th>\n",
       "      <td>West Bengal</td>\n",
       "      <td>Nadia</td>\n",
       "      <td>23.564110</td>\n",
       "      <td>88.582930</td>\n",
       "      <td>5167600</td>\n",
       "      <td>2653768</td>\n",
       "      <td>2513832</td>\n",
       "      <td>3480555</td>\n",
       "      <td>1878866</td>\n",
       "      <td>1601689</td>\n",
       "      <td>1546917</td>\n",
       "      <td>798258</td>\n",
       "      <td>748659</td>\n",
       "      <td>140700</td>\n",
       "      <td>71142</td>\n",
       "      <td>69558</td>\n",
       "      <td>1842607</td>\n",
       "      <td>1554090</td>\n",
       "      <td>288517</td>\n",
       "      <td>3324993</td>\n",
       "      <td>556134</td>\n",
       "      <td>808593</td>\n",
       "      <td>3728482</td>\n",
       "      <td>1382682</td>\n",
       "      <td>33835</td>\n",
       "      <td>849</td>\n",
       "      <td>514</td>\n",
       "      <td>281</td>\n",
       "      <td>16893</td>\n",
       "      <td>168314</td>\n",
       "      <td>623729</td>\n",
       "      <td>12787</td>\n",
       "      <td>77210</td>\n",
       "      <td>605490</td>\n",
       "      <td>1093403</td>\n",
       "      <td>412193</td>\n",
       "      <td>209562</td>\n",
       "      <td>25491</td>\n",
       "      <td>2745828</td>\n",
       "      <td>1484986</td>\n",
       "      <td>934417</td>\n",
       "      <td>384314</td>\n",
       "      <td>544290</td>\n",
       "      <td>95.0</td>\n",
       "      <td>67.0</td>\n",
       "      <td>774902</td>\n",
       "      <td>912143</td>\n",
       "    </tr>\n",
       "    <tr>\n",
       "      <th>515</th>\n",
       "      <td>West Bengal</td>\n",
       "      <td>Puruliya</td>\n",
       "      <td>23.254192</td>\n",
       "      <td>86.396853</td>\n",
       "      <td>2930115</td>\n",
       "      <td>1496996</td>\n",
       "      <td>1433119</td>\n",
       "      <td>1624905</td>\n",
       "      <td>1002058</td>\n",
       "      <td>622847</td>\n",
       "      <td>567767</td>\n",
       "      <td>290789</td>\n",
       "      <td>276978</td>\n",
       "      <td>540652</td>\n",
       "      <td>271803</td>\n",
       "      <td>268849</td>\n",
       "      <td>1249642</td>\n",
       "      <td>801254</td>\n",
       "      <td>448388</td>\n",
       "      <td>1680473</td>\n",
       "      <td>492205</td>\n",
       "      <td>401077</td>\n",
       "      <td>2373120</td>\n",
       "      <td>227249</td>\n",
       "      <td>8646</td>\n",
       "      <td>622</td>\n",
       "      <td>209</td>\n",
       "      <td>3052</td>\n",
       "      <td>309029</td>\n",
       "      <td>30675</td>\n",
       "      <td>189889</td>\n",
       "      <td>3551</td>\n",
       "      <td>32862</td>\n",
       "      <td>299355</td>\n",
       "      <td>480046</td>\n",
       "      <td>177459</td>\n",
       "      <td>77621</td>\n",
       "      <td>10072</td>\n",
       "      <td>1678057</td>\n",
       "      <td>764776</td>\n",
       "      <td>484166</td>\n",
       "      <td>104489</td>\n",
       "      <td>191057</td>\n",
       "      <td>96.0</td>\n",
       "      <td>55.0</td>\n",
       "      <td>494938</td>\n",
       "      <td>810272</td>\n",
       "    </tr>\n",
       "    <tr>\n",
       "      <th>516</th>\n",
       "      <td>West Bengal</td>\n",
       "      <td>Uttar Dinajpur</td>\n",
       "      <td>26.044619</td>\n",
       "      <td>88.235952</td>\n",
       "      <td>3007134</td>\n",
       "      <td>1551066</td>\n",
       "      <td>1456068</td>\n",
       "      <td>1489667</td>\n",
       "      <td>853495</td>\n",
       "      <td>636172</td>\n",
       "      <td>807950</td>\n",
       "      <td>418288</td>\n",
       "      <td>389662</td>\n",
       "      <td>162816</td>\n",
       "      <td>81831</td>\n",
       "      <td>80985</td>\n",
       "      <td>1075626</td>\n",
       "      <td>799627</td>\n",
       "      <td>275999</td>\n",
       "      <td>1931508</td>\n",
       "      <td>442328</td>\n",
       "      <td>337943</td>\n",
       "      <td>1482943</td>\n",
       "      <td>1501170</td>\n",
       "      <td>16702</td>\n",
       "      <td>477</td>\n",
       "      <td>432</td>\n",
       "      <td>1324</td>\n",
       "      <td>1622</td>\n",
       "      <td>39138</td>\n",
       "      <td>199307</td>\n",
       "      <td>2883</td>\n",
       "      <td>31210</td>\n",
       "      <td>402590</td>\n",
       "      <td>488047</td>\n",
       "      <td>163106</td>\n",
       "      <td>59457</td>\n",
       "      <td>12723</td>\n",
       "      <td>1916033</td>\n",
       "      <td>704859</td>\n",
       "      <td>385155</td>\n",
       "      <td>105431</td>\n",
       "      <td>198832</td>\n",
       "      <td>94.0</td>\n",
       "      <td>50.0</td>\n",
       "      <td>697571</td>\n",
       "      <td>819896</td>\n",
       "    </tr>\n",
       "  </tbody>\n",
       "</table>\n",
       "<p>517 rows × 47 columns</p>\n",
       "</div>"
      ],
      "text/plain": [
       "              State        District   Latitude  Longitude  Population  \\\n",
       "0    Andhra Pradesh        Adilabad  19.284514  78.813212     2741239   \n",
       "1    Andhra Pradesh       Anantapur  14.312066  77.460158     4081148   \n",
       "2    Andhra Pradesh        Chittoor  13.331093  78.927639     4174064   \n",
       "3    Andhra Pradesh   East Godavari  16.782718  82.243207     5154296   \n",
       "4    Andhra Pradesh          Guntur  15.884926  80.586576     4887813   \n",
       "..              ...             ...        ...        ...         ...   \n",
       "512     West Bengal          Maldah  25.080268  88.171917     3988845   \n",
       "513     West Bengal     Murshidabad  24.259507  88.168169     7103807   \n",
       "514     West Bengal           Nadia  23.564110  88.582930     5167600   \n",
       "515     West Bengal        Puruliya  23.254192  86.396853     2930115   \n",
       "516     West Bengal  Uttar Dinajpur  26.044619  88.235952     3007134   \n",
       "\n",
       "     Male Population  Female population  Literate  Male Literate  \\\n",
       "0            1369597            1371642   1483347         856350   \n",
       "1            2064495            2016653   2310960        1338474   \n",
       "2            2090204            2083860   2667878        1484794   \n",
       "3            2569688            2584608   3288577        1716933   \n",
       "4            2440521            2447292   2960441        1634726   \n",
       "..               ...                ...       ...            ...   \n",
       "512          2051541            1937304   2086432        1152019   \n",
       "513          3627564            3476243   4055834        2177187   \n",
       "514          2653768            2513832   3480555        1878866   \n",
       "515          1496996            1433119   1624905        1002058   \n",
       "516          1551066            1456068   1489667         853495   \n",
       "\n",
       "     Female Literate       SC  Male SC  Female SC      ST  Male ST  Female ST  \\\n",
       "0             626997   488596   242844     245752  495794   247472     248322   \n",
       "1             972486   583135   292379     290756  154127    78573      75554   \n",
       "2            1183084   785760   389582     396178  159165    79756      79409   \n",
       "3            1571644   945269   468883     476386  213195   104422     108773   \n",
       "4            1325715   957407   476333     481074  247089   125105     121984   \n",
       "..               ...      ...      ...        ...     ...      ...        ...   \n",
       "512           934413   835430   432744     402686  313984   157528     156456   \n",
       "513          1878647   897534   460143     437391   91035    46163      44872   \n",
       "514          1601689  1546917   798258     748659  140700    71142      69558   \n",
       "515           622847   567767   290789     276978  540652   271803     268849   \n",
       "516           636172   807950   418288     389662  162816    81831      80985   \n",
       "\n",
       "     Workers  Male Workers  Female Workers  Non Workers  Agricultural Workers  \\\n",
       "0    1323667        748939          574728      1417572                484912   \n",
       "1    2036166       1208544          827622      2044982                879537   \n",
       "2    1933357       1202223          731134      2240707                748093   \n",
       "3    2093681       1545831          547850      3060615               1122046   \n",
       "4    2381624       1442370          939254      2506189               1227956   \n",
       "..       ...           ...             ...          ...                   ...   \n",
       "512  1537847       1086461          451386      2450998                545759   \n",
       "513  2589907       1985667          604240      4513900                842294   \n",
       "514  1842607       1554090          288517      3324993                556134   \n",
       "515  1249642        801254          448388      1680473                492205   \n",
       "516  1075626        799627          275999      1931508                442328   \n",
       "\n",
       "     Other Workers   Hindus  Muslims  Christians  Sikhs  Buddhists  Jains  \\\n",
       "0           390357  2399901   275970       15422   1377      25510    617   \n",
       "1           638033  3599372   443456       20463    932        341   1417   \n",
       "2           693451  3737588   397870       24129    867        253   1322   \n",
       "3           753375  4983330    77777       77825    738        413   4149   \n",
       "4           803891  4217597   559770       89763    764        323   3282   \n",
       "..             ...      ...      ...         ...    ...        ...    ...   \n",
       "512         540219  1914352  2045151       13209    747        359    639   \n",
       "513         900530  2359061  4707573       18102    766        348   3037   \n",
       "514         808593  3728482  1382682       33835    849        514    281   \n",
       "515         401077  2373120   227249        8646    622        209   3052   \n",
       "516         337943  1482943  1501170       16702    477        432   1324   \n",
       "\n",
       "     Others Religions  LPG PNG Households  Housholds with Electricity  \\\n",
       "0                 322              194954                      566108   \n",
       "1                 309              223016                      897970   \n",
       "2                 358              324406                      944555   \n",
       "3                 403              479914                     1297273   \n",
       "4                 332              648568                     1186028   \n",
       "..                ...                 ...                         ...   \n",
       "512              7929               54213                      297716   \n",
       "513              7429               92742                      541169   \n",
       "514             16893              168314                      623729   \n",
       "515            309029               30675                      189889   \n",
       "516              1622               39138                      199307   \n",
       "\n",
       "     Households with Internet  Households with Computer  \\\n",
       "0                        5512                     45202   \n",
       "1                        8606                     48299   \n",
       "2                       13763                     67087   \n",
       "3                       22411                     93784   \n",
       "4                       19383                     80434   \n",
       "..                        ...                       ...   \n",
       "512                      5357                     63525   \n",
       "513                      7951                     79729   \n",
       "514                     12787                     77210   \n",
       "515                      3551                     32862   \n",
       "516                      2883                     31210   \n",
       "\n",
       "     Below Primary Education  Primary Education  Secondary Education  \\\n",
       "0                     232470             344167               225957   \n",
       "1                     462273             720357               331793   \n",
       "2                     522961             770836               548336   \n",
       "3                     669420             947606               521562   \n",
       "4                     736270             845810               453446   \n",
       "..                       ...                ...                  ...   \n",
       "512                   478902             629137               238078   \n",
       "513                   837828            1428661               443254   \n",
       "514                   605490            1093403               412193   \n",
       "515                   299355             480046               177459   \n",
       "516                   402590             488047               163106   \n",
       "\n",
       "     Graduate Education  Other Education  Age 0-29  Age 30-49  Above 50  \\\n",
       "0                100226            19277   1536378     704551    422522   \n",
       "1                144915            23341   2189396    1104565    739612   \n",
       "2                246409            36017   2148179    1159053    807430   \n",
       "3                263023            47702   2724328    1478954    948122   \n",
       "4                221924            30279   2583462    1371811    928462   \n",
       "..                  ...              ...       ...        ...       ...   \n",
       "512               92207            18330   2511004     955283    520122   \n",
       "513              170051            25975   4390564    1717594    991413   \n",
       "514              209562            25491   2745828    1484986    934417   \n",
       "515               77621            10072   1678057     764776    484166   \n",
       "516               59457            12723   1916033     704859    385155   \n",
       "\n",
       "     Households with Television  Households with Telephone Mobile Phone  \\\n",
       "0                        306433                                  403530   \n",
       "1                        559461                                  581087   \n",
       "2                        611465                                  632803   \n",
       "3                        821421                                  732492   \n",
       "4                        816849                                  733133   \n",
       "..                          ...                                     ...   \n",
       "512                      142659                                  295922   \n",
       "513                      296566                                  530442   \n",
       "514                      384314                                  544290   \n",
       "515                      104489                                  191057   \n",
       "516                      105431                                  198832   \n",
       "\n",
       "     Sex Ratio  Literacy Rate  Male Unliterate  Female Unliterate  \n",
       "0        100.0           54.0           513247             744645  \n",
       "1         98.0           57.0           726021            1044167  \n",
       "2        100.0           64.0           605410             900776  \n",
       "3        101.0           64.0           852755            1012964  \n",
       "4        100.0           61.0           805795            1121577  \n",
       "..         ...            ...              ...                ...  \n",
       "512       94.0           52.0           899522            1002891  \n",
       "513       96.0           57.0          1450377            1597596  \n",
       "514       95.0           67.0           774902             912143  \n",
       "515       96.0           55.0           494938             810272  \n",
       "516       94.0           50.0           697571             819896  \n",
       "\n",
       "[517 rows x 47 columns]"
      ]
     },
     "execution_count": 58,
     "metadata": {},
     "output_type": "execute_result"
    }
   ],
   "source": [
    "temp_df"
   ]
  },
  {
   "cell_type": "code",
   "execution_count": 59,
   "metadata": {},
   "outputs": [],
   "source": [
    "temp_df.to_csv('C:\\\\Users\\\\sanja\\\\Downloads\\\\census_cleaned.csv', index=False)"
   ]
  },
  {
   "cell_type": "code",
   "execution_count": 65,
   "metadata": {},
   "outputs": [
    {
     "data": {
      "text/plain": [
       "['Households with Computer',\n",
       " 'Households with Internet',\n",
       " 'Households with Telephone Mobile Phone',\n",
       " 'Households with Television',\n",
       " 'Housholds with Electricity',\n",
       " 'LPG PNG Households']"
      ]
     },
     "execution_count": 65,
     "metadata": {},
     "output_type": "execute_result"
    }
   ],
   "source": [
    "sorted(temp_df[['LPG PNG Households','Housholds with Electricity','Households with Internet',\n",
    "                'Households with Computer','Households with Television',\n",
    "                'Households with Telephone Mobile Phone','Sex Ratio','Literacy Rate']].columns)"
   ]
  },
  {
   "cell_type": "code",
   "execution_count": 79,
   "metadata": {},
   "outputs": [],
   "source": [
    "import numpy as np"
   ]
  },
  {
   "cell_type": "code",
   "execution_count": 84,
   "metadata": {},
   "outputs": [
    {
     "data": {
      "application/vnd.plotly.v1+json": {
       "config": {
        "plotlyServerURL": "https://plot.ly"
       },
       "data": [
        {
         "branchvalues": "total",
         "customdata": [
          [
           1369597
          ],
          [
           2364953
          ],
          [
           3788051
          ],
          [
           199270
          ],
          [
           1324085
          ],
          [
           932334
          ],
          [
           1013142
          ],
          [
           1951996
          ],
          [
           3131807
          ],
          [
           291081
          ],
          [
           1939026
          ],
          [
           598703
          ],
          [
           1212410
          ],
          [
           1480768
          ],
          [
           771049
          ],
          [
           1318408
          ],
          [
           1087224
          ],
          [
           2064495
          ],
          [
           379114
          ],
          [
           1463333
          ],
          [
           374703
          ],
          [
           443837
          ],
          [
           740040
          ],
          [
           1677929.8875308326
          ],
          [
           1677929.8875308326
          ],
          [
           2285004
          ],
          [
           950111
          ],
          [
           124326
          ],
          [
           700070
          ],
          [
           1843884
          ],
          [
           842178
          ],
          [
           1185787
          ],
          [
           1672902
          ],
          [
           1114721
          ],
          [
           1610379
          ],
          [
           965876
          ],
          [
           509172
          ],
          [
           1067140
          ],
          [
           1838095
          ],
          [
           907754
          ],
          [
           1707073
          ],
          [
           633945
          ],
          [
           3966889
          ],
          [
           2357665
          ],
          [
           1369022
          ],
          [
           867004
          ],
          [
           699340
          ],
          [
           698487
          ],
          [
           1255272
          ],
          [
           743197
          ],
          [
           1567660
          ],
          [
           2423063
          ],
          [
           1236954
          ],
          [
           799236
          ],
          [
           760260
          ],
          [
           1615663
          ],
          [
           605520
          ],
          [
           1355726
          ],
          [
           805707
          ],
          [
           1490201
          ],
          [
           1220736
          ],
          [
           926843
          ],
          [
           866672
          ],
          [
           1430380
          ],
          [
           1236130
          ],
          [
           1349106
          ],
          [
           870665
          ],
          [
           1007950.5918955372
          ],
          [
           1921215
          ],
          [
           1240801
          ],
          [
           1206244.1430562602
          ],
          [
           1206244.1430562602
          ],
          [
           1790920
          ],
          [
           118782
          ],
          [
           1072807
          ],
          [
           375818
          ],
          [
           1845260
          ],
          [
           1337560
          ],
          [
           577160
          ],
          [
           388504
          ],
          [
           887977
          ],
          [
           886284
          ],
          [
           261320
          ],
          [
           193991
          ],
          [
           131125
          ],
          [
           63388
          ],
          [
           1017905
          ],
          [
           74579
          ],
          [
           580663
          ],
          [
           1123834
          ],
          [
           76948
          ],
          [
           533935
          ],
          [
           2335844
          ],
          [
           936121
          ],
          [
           1064468
          ],
          [
           566622
          ],
          [
           840843
          ],
          [
           527721
          ],
          [
           783171
          ],
          [
           2090204
          ],
          [
           138820
          ],
          [
           1051446
          ],
          [
           1729297
          ],
          [
           1311697
          ],
          [
           1352760
          ],
          [
           857199
          ],
          [
           124659
          ],
          [
           661873
          ],
          [
           2059949
          ],
          [
           937259
          ],
          [
           475273
          ],
          [
           420157
          ],
          [
           857787
          ],
          [
           986400
          ],
          [
           775022
          ],
          [
           1537436
          ],
          [
           805359
          ],
          [
           194544
          ],
          [
           397897
          ],
          [
           1405956
          ],
          [
           1112725
          ],
          [
           774303
          ],
          [
           937206
          ],
          [
           653647
          ],
          [
           351249
          ],
          [
           612593
          ],
          [
           1054031
          ],
          [
           676434
          ],
          [
           197394
          ],
          [
           1080938
          ],
          [
           351913
          ],
          [
           213641
          ],
          [
           668514
          ],
          [
           696532
          ],
          [
           1682101
          ],
          [
           907500
          ],
          [
           161223
          ],
          [
           2569688
          ],
          [
           38775
          ],
          [
           410749
          ],
          [
           50116
          ],
          [
           1619557
          ],
          [
           1129868
          ],
          [
           947339
          ],
          [
           845856
          ],
          [
           1259628
          ],
          [
           966110
          ],
          [
           326671
          ],
          [
           1006240
          ],
          [
           495360
          ],
          [
           320795
          ],
          [
           1384722
          ],
          [
           1332046
          ],
          [
           1071637
          ],
          [
           537147
          ],
          [
           282882
          ],
          [
           723864
          ],
          [
           1043340
          ],
          [
           1779218
          ],
          [
           683575
          ],
          [
           890214
          ],
          [
           2266566
          ],
          [
           2488834
          ],
          [
           1855075
          ],
          [
           1258098
          ],
          [
           513292
          ],
          [
           677927
          ],
          [
           543161
          ],
          [
           1787146
          ],
          [
           661554
          ],
          [
           1267666
          ],
          [
           2277777
          ],
          [
           1301755
          ],
          [
           514390
          ],
          [
           649362
          ],
          [
           2440521
          ],
          [
           1212617
          ],
          [
           816690
          ],
          [
           1090327
          ],
          [
           337890
          ],
          [
           483723.4499436517
          ],
          [
           483723.4499436517
          ],
          [
           931184
          ],
          [
           2500819
          ],
          [
           294838
          ],
          [
           2191442
          ],
          [
           883667
          ],
          [
           819128
          ],
          [
           606294
          ],
          [
           931562
          ],
          [
           648725
          ],
          [
           809057
          ],
          [
           2814653
          ],
          [
           2018575
          ],
          [
           552808
          ],
          [
           1699627
          ],
          [
           1277278
          ],
          [
           196285
          ],
          [
           3468507
          ],
          [
           361708
          ],
          [
           1145211
          ],
          [
           906092
          ],
          [
           2197365
          ],
          [
           1011473
          ],
          [
           936634
          ],
          [
           1983064
          ],
          [
           813821
          ],
          [
           1114192
          ],
          [
           404830
          ],
          [
           916064
          ],
          [
           424747
          ],
          [
           2220465
          ],
          [
           585582
          ],
          [
           515023
          ],
          [
           514667
          ],
          [
           725143
          ],
          [
           1057436
          ],
          [
           296690
          ],
          [
           1095896
          ],
          [
           713006
          ],
          [
           1923928
          ],
          [
           556805
          ],
          [
           1404356
          ],
          [
           1404356
          ],
          [
           963449
          ],
          [
           1096737
          ],
          [
           571003
          ],
          [
           787101
          ],
          [
           778461
          ],
          [
           2012958
          ],
          [
           359945
          ],
          [
           750591
          ],
          [
           881776
          ],
          [
           926345
          ],
          [
           1181446
          ],
          [
           963255
          ],
          [
           426311
          ],
          [
           97809
          ],
          [
           783639
          ],
          [
           490167
          ],
          [
           77785
          ],
          [
           625864
          ],
          [
           1880800
          ],
          [
           797712
          ],
          [
           528184
          ],
          [
           628613
          ],
          [
           326109
          ],
          [
           1600430
          ],
          [
           662013
          ],
          [
           838485
          ],
          [
           717814
          ],
          [
           883786
          ],
          [
           1390988
          ],
          [
           1185727
          ],
          [
           1167137
          ],
          [
           46249
          ],
          [
           866970
          ],
          [
           274608
          ],
          [
           138966
          ],
          [
           452905
          ],
          [
           776396
          ],
          [
           42918
          ],
          [
           1980658
          ],
          [
           2356766
          ],
          [
           1246968
          ],
          [
           699926
          ],
          [
           678809
          ],
          [
           612915
          ],
          [
           334737
          ],
          [
           1021161
          ],
          [
           968289
          ],
          [
           1470942
          ],
          [
           2267375
          ],
          [
           225452
          ],
          [
           2039227
          ],
          [
           510976
          ],
          [
           45318
          ],
          [
           1818055
          ],
          [
           529674
          ],
          [
           526345
          ],
          [
           641011
          ],
          [
           369666
          ],
          [
           1273140
          ],
          [
           60599
          ],
          [
           232629
          ],
          [
           76221
          ],
          [
           28053
          ],
          [
           41843
          ],
          [
           2394476
          ],
          [
           1867816
          ],
          [
           82891
          ],
          [
           1047559
          ],
          [
           2329313
          ],
          [
           1526475
          ],
          [
           511967
          ],
          [
           2050386
          ],
          [
           19143
          ],
          [
           486665
          ],
          [
           1056520
          ],
          [
           466358
          ],
          [
           993377
          ],
          [
           1960328
          ],
          [
           2051541
          ],
          [
           303624
          ],
          [
           44828
          ],
          [
           498065
          ],
          [
           525272
          ],
          [
           682851
          ],
          [
           905085
          ],
          [
           408732
          ],
          [
           1367125
          ],
          [
           1114709
          ],
          [
           1256213
          ],
          [
           1523030
          ],
          [
           1825743
          ],
          [
           1312302
          ],
          [
           525920
          ],
          [
           101092
          ],
          [
           131753
          ],
          [
           2503186
          ],
          [
           1068417
          ],
          [
           475622
          ],
          [
           729041
          ],
          [
           3627564
          ],
          [
           2193434
          ],
          [
           2527497
          ],
          [
           1511600
          ],
          [
           2653768
          ],
          [
           1439112
          ],
          [
           798127
          ],
          [
           1696325
          ],
          [
           2384975
          ],
          [
           1497060
          ],
          [
           396006
          ],
          [
           1759772
          ],
          [
           869280
          ],
          [
           1730075
          ],
          [
           833170
          ],
          [
           301086
          ],
          [
           3157186
          ],
          [
           678165
          ],
          [
           1144668
          ],
          [
           502636
          ],
          [
           422653
          ],
          [
           1250641
          ],
          [
           416677
          ],
          [
           352860
          ],
          [
           301962
          ],
          [
           861535
          ],
          [
           452661
          ],
          [
           1359478
          ],
          [
           1006302
          ],
          [
           1025422
          ],
          [
           1226961
          ],
          [
           299679
          ],
          [
           646857
          ],
          [
           533480
          ],
          [
           89182
          ],
          [
           942870
          ],
          [
           2061110
          ],
          [
           694397
          ],
          [
           1002522
          ],
          [
           3078512
          ],
          [
           282157
          ],
          [
           83743
          ],
          [
           1072002
          ],
          [
           239306
          ],
          [
           300209
          ],
          [
           1714764
          ],
          [
           1357386.1685417842
          ],
          [
           803188
          ],
          [
           293064
          ],
          [
           251899
          ],
          [
           4924105
          ],
          [
           2681209
          ],
          [
           865380
          ],
          [
           1699370
          ],
          [
           1496996
          ],
          [
           1752542
          ],
          [
           964511
          ],
          [
           1129352.9858533437
          ],
          [
           1129352.9858533437
          ],
          [
           2048186
          ],
          [
           700358
          ],
          [
           790212
          ],
          [
           1974445
          ],
          [
           581339
          ],
          [
           682658
          ],
          [
           1223889
          ],
          [
           1494937
          ],
          [
           738241
          ],
          [
           761121
          ],
          [
           471960
          ],
          [
           1225100
          ],
          [
           474335
          ],
          [
           568479
          ],
          [
           1543546
          ],
          [
           357485
          ],
          [
           1244231
          ],
          [
           1256257
          ],
          [
           1834106
          ],
          [
           997174
          ],
          [
           589391
          ],
          [
           28594
          ],
          [
           1781571
          ],
          [
           2230003
          ],
          [
           526877
          ],
          [
           1435728
          ],
          [
           878029
          ],
          [
           869656
          ],
          [
           2022821
          ],
          [
           1510842
          ],
          [
           1157495
          ],
          [
           704031
          ],
          [
           683743
          ],
          [
           247323
          ],
          [
           695879
          ],
          [
           32851
          ],
          [
           540021
          ],
          [
           1606403
          ],
          [
           780520
          ],
          [
           329743
          ],
          [
           346673
          ],
          [
           361784
          ],
          [
           425039
          ],
          [
           877415
          ],
          [
           919795
          ],
          [
           575912
          ],
          [
           1374990
          ],
          [
           300309
          ],
          [
           417332
          ],
          [
           276289
          ],
          [
           534231
          ],
          [
           682582
          ],
          [
           1803252
          ],
          [
           2375264
          ],
          [
           668672
          ],
          [
           1675090
          ],
          [
           308754
          ],
          [
           2227852
          ],
          [
           971344
          ],
          [
           983904
          ],
          [
           73170
          ],
          [
           322463
          ],
          [
           447544
          ],
          [
           1341738
          ],
          [
           651124
          ],
          [
           1914586
          ],
          [
           1061147
          ],
          [
           1155283
          ],
          [
           3402224
          ],
          [
           909917
          ],
          [
           1193129
          ],
          [
           72371
          ],
          [
           29151
          ],
          [
           297986
          ],
          [
           5865078
          ],
          [
           1182416
          ],
          [
           113821
          ],
          [
           625683
          ],
          [
           1876062
          ],
          [
           1581678
          ],
          [
           626693
          ],
          [
           210845
          ],
          [
           1480763
          ],
          [
           760355
          ],
          [
           680231
          ],
          [
           57604
          ],
          [
           1235889
          ],
          [
           728136
          ],
          [
           101933
          ],
          [
           1350594
          ],
          [
           1566801
          ],
          [
           858783
          ],
          [
           296784
          ],
          [
           562131
          ],
          [
           1016289
          ],
          [
           94718
          ],
          [
           330674
          ],
          [
           263692
          ],
          [
           1630087
          ],
          [
           18699
          ],
          [
           41758
          ],
          [
           1551066
          ],
          [
           168597
          ],
          [
           2153736
          ],
          [
           1844535
          ],
          [
           887222
          ],
          [
           1921857
          ],
          [
           1961688
          ],
          [
           769568
          ],
          [
           967709
          ],
          [
           1161477
          ],
          [
           1759281
          ],
          [
           668385
          ],
          [
           620302
          ],
          [
           401684
          ],
          [
           324159
          ],
          [
           1964918
          ],
          [
           46155
          ],
          [
           193715
          ],
          [
           58168
          ],
          [
           879428
          ],
          [
           84505
          ],
          [
           27301
          ],
          [
           1419965
          ],
          [
           71217
          ],
          [
           1907400.2275939258
          ],
          [
           57513.41307409956
          ],
          [
           740145.5155639118
          ],
          [
           1770226.5453892986
          ],
          [
           580663
          ],
          [
           1233642.192531998
          ],
          [
           1320980.9986517872
          ],
          [
           375301.82616717345
          ],
          [
           1812529.7131107128
          ],
          [
           692342.4014709112
          ],
          [
           670366.1314031985
          ],
          [
           506506.6416718842
          ],
          [
           919745.2533397033
          ],
          [
           1133483.0878743208
          ],
          [
           1356156.7189360224
          ],
          [
           886571.9879182463
          ],
          [
           2383855.0011347644
          ],
          [
           165878.3770883499
          ],
          [
           281119.1289644316
          ],
          [
           108904.90369994332
          ],
          [
           126489.62049130228
          ],
          [
           979906.1326480327
          ],
          [
           73581.76572242529
          ],
          [
           1032518.5114139549
          ],
          [
           1398141.1897823908
          ],
          [
           907500
          ],
          [
           1389854.6903265268
          ],
          [
           606480.958708648
          ],
          [
           1722643.1484074134
          ],
          [
           454028.66062125476
          ],
          [
           2519140.211202991
          ]
         ],
         "domain": {
          "x": [
           0,
           1
          ],
          "y": [
           0,
           1
          ]
         },
         "hovertemplate": "labels=%{label}<br>Population=%{value}<br>parent=%{parent}<br>id=%{id}<br>Male Population=%{color}<extra></extra>",
         "ids": [
          "Andhra Pradesh/Adilabad",
          "Uttar Pradesh/Agra",
          "Gujarat/Ahmadabad",
          "Mizoram/Aizawl",
          "Rajasthan/Ajmer",
          "Maharashtra/Akola",
          "Kerala/Alappuzha",
          "Uttar Pradesh/Aligarh",
          "Uttar Pradesh/Allahabad",
          "Uttaranchal/Almora",
          "Rajasthan/Alwar",
          "Haryana/Ambala",
          "Uttar Pradesh/Ambedkar Nagar",
          "Maharashtra/Amravati",
          "Gujarat/Amreli",
          "Punjab/Amritsar",
          "Gujarat/Anand",
          "Andhra Pradesh/Anantapur",
          "Madhya Pradesh/Anuppur",
          "Bihar/Araria",
          "Tamil Nadu/Ariyalur",
          "Madhya Pradesh/Ashoknagar",
          "Uttar Pradesh/Auraiya",
          "Bihar/Aurangabad",
          "Maharashtra/Aurangabad",
          "Uttar Pradesh/Azamgarh",
          "Karnataka/Bagalkot",
          "Uttaranchal/Bageshwar",
          "Uttar Pradesh/Baghpat",
          "Uttar Pradesh/Bahraich",
          "Madhya Pradesh/Balaghat",
          "Orissa/Baleshwar",
          "Uttar Pradesh/Ballia",
          "Uttar Pradesh/Balrampur",
          "Gujarat/Banas Kantha",
          "Uttar Pradesh/Banda",
          "Karnataka/Bangalore Rural",
          "Bihar/Banka",
          "West Bengal/Bankura",
          "Rajasthan/Banswara",
          "Uttar Pradesh/Bara Banki",
          "Rajasthan/Baran",
          "West Bengal/Barddhaman",
          "Uttar Pradesh/Bareilly",
          "Rajasthan/Barmer",
          "Assam/Barpeta",
          "Madhya Pradesh/Barwani",
          "Chhattisgarh/Bastar",
          "Uttar Pradesh/Basti",
          "Punjab/Bathinda",
          "Bihar/Begusarai",
          "Karnataka/Belgaum",
          "Karnataka/Bellary",
          "Madhya Pradesh/Betul",
          "Orissa/Bhadrak",
          "Bihar/Bhagalpur",
          "Maharashtra/Bhandara",
          "Rajasthan/Bharatpur",
          "Gujarat/Bharuch",
          "Gujarat/Bhavnagar",
          "Rajasthan/Bhilwara",
          "Madhya Pradesh/Bhind",
          "Haryana/Bhiwani",
          "Bihar/Bhojpur",
          "Madhya Pradesh/Bhopal",
          "Maharashtra/Bid",
          "Karnataka/Bidar",
          "Karnataka/Bijapur",
          "Uttar Pradesh/Bijnor",
          "Rajasthan/Bikaner",
          "Chhattisgarh/Bilaspur",
          "Himachal Pradesh/Bilaspur",
          "West Bengal/Birbhum",
          "Manipur/Bishnupur",
          "Jharkhand/Bokaro",
          "Assam/Bongaigaon",
          "Uttar Pradesh/Bulandshahr",
          "Maharashtra/Buldana",
          "Rajasthan/Bundi",
          "Madhya Pradesh/Burhanpur",
          "Bihar/Buxar",
          "Assam/Cachar",
          "Himachal Pradesh/Chamba",
          "Uttaranchal/Chamoli",
          "Uttaranchal/Champawat",
          "Mizoram/Champhai",
          "Uttar Pradesh/Chandauli",
          "Manipur/Chandel",
          "Chandigarh/Chandigarh",
          "Maharashtra/Chandrapur",
          "Arunachal Pradesh/Changlang",
          "Jharkhand/Chatra",
          "Tamil Nadu/Chennai",
          "Madhya Pradesh/Chhatarpur",
          "Madhya Pradesh/Chhindwara",
          "Karnataka/Chikmagalur",
          "Karnataka/Chitradurga",
          "Uttar Pradesh/Chitrakoot",
          "Rajasthan/Chittaurgarh",
          "Andhra Pradesh/Chittoor",
          "Manipur/Churachandpur",
          "Rajasthan/Churu",
          "Tamil Nadu/Coimbatore",
          "Tamil Nadu/Cuddalore",
          "Orissa/Cuttack",
          "West Bengal/Dakshin Dinajpur",
          "Daman and Diu/Daman",
          "Madhya Pradesh/Damoh",
          "Bihar/Darbhanga",
          "West Bengal/Darjiling",
          "Assam/Darrang",
          "Madhya Pradesh/Datia",
          "Rajasthan/Dausa",
          "Karnataka/Davanagere",
          "Jharkhand/Deoghar",
          "Uttar Pradesh/Deoria",
          "Madhya Pradesh/Dewas",
          "Tripura/Dhalai",
          "Chhattisgarh/Dhamtari",
          "Jharkhand/Dhanbad",
          "Madhya Pradesh/Dhar",
          "Tamil Nadu/Dharmapuri",
          "Karnataka/Dharwad",
          "Rajasthan/Dhaulpur",
          "Assam/Dhemaji",
          "Orissa/Dhenkanal",
          "Maharashtra/Dhule",
          "Assam/Dibrugarh",
          "Nagaland/Dimapur",
          "Tamil Nadu/Dindigul",
          "Madhya Pradesh/Dindori",
          "Jammu and Kashmir/Doda",
          "Jharkhand/Dumka",
          "Rajasthan/Dungarpur",
          "Chhattisgarh/Durg",
          "Sikkim/East",
          "Meghalaya/East Garo Hills",
          "Andhra Pradesh/East Godavari",
          "Arunachal Pradesh/East Kameng",
          "Meghalaya/East Khasi Hills",
          "Arunachal Pradesh/East Siang",
          "Kerala/Ernakulam",
          "Tamil Nadu/Erode",
          "Uttar Pradesh/Etah",
          "Uttar Pradesh/Etawah",
          "Uttar Pradesh/Faizabad",
          "Haryana/Faridabad",
          "Punjab/Faridkot",
          "Uttar Pradesh/Farrukhabad",
          "Haryana/Fatehabad",
          "Punjab/Fatehgarh Sahib",
          "Uttar Pradesh/Fatehpur",
          "Uttar Pradesh/Firozabad",
          "Punjab/Firozpur",
          "Karnataka/Gadag",
          "Orissa/Gajapati",
          "Gujarat/Gandhinagar",
          "Rajasthan/Ganganagar",
          "Orissa/Ganjam",
          "Jharkhand/Garhwa",
          "Uttar Pradesh/Gautam Buddha Nagar",
          "Bihar/Gaya",
          "Uttar Pradesh/Ghaziabad",
          "Uttar Pradesh/Ghazipur",
          "Jharkhand/Giridih",
          "Assam/Goalpara",
          "Jharkhand/Godda",
          "Assam/Golaghat",
          "Uttar Pradesh/Gonda",
          "Maharashtra/Gondiya",
          "Bihar/Gopalganj",
          "Uttar Pradesh/Gorakhpur",
          "Karnataka/Gulbarga",
          "Jharkhand/Gumla",
          "Madhya Pradesh/Guna",
          "Andhra Pradesh/Guntur",
          "Punjab/Gurdaspur",
          "Haryana/Gurgaon",
          "Madhya Pradesh/Gwalior",
          "Assam/Hailakandi",
          "Himachal Pradesh/Hamirpur",
          "Uttar Pradesh/Hamirpur",
          "Rajasthan/Hanumangarh",
          "West Bengal/Haora",
          "Madhya Pradesh/Harda",
          "Uttar Pradesh/Hardoi",
          "Karnataka/Hassan",
          "Karnataka/Haveri",
          "Maharashtra/Hingoli",
          "Haryana/Hisar",
          "Madhya Pradesh/Hoshangabad",
          "Punjab/Hoshiarpur",
          "West Bengal/Hugli",
          "Andhra Pradesh/Hyderabad",
          "Kerala/Idukki",
          "Madhya Pradesh/Indore",
          "Madhya Pradesh/Jabalpur",
          "Meghalaya/Jaintia Hills",
          "Rajasthan/Jaipur",
          "Rajasthan/Jaisalmer",
          "Punjab/Jalandhar",
          "Uttar Pradesh/Jalaun",
          "Maharashtra/Jalgaon",
          "Maharashtra/Jalna",
          "Rajasthan/Jalor",
          "West Bengal/Jalpaiguri",
          "Jammu and Kashmir/Jammu",
          "Gujarat/Jamnagar",
          "Jharkhand/Jamtara",
          "Bihar/Jamui",
          "Chhattisgarh/Jashpur",
          "Uttar Pradesh/Jaunpur",
          "Bihar/Jehanabad",
          "Madhya Pradesh/Jhabua",
          "Haryana/Jhajjar",
          "Rajasthan/Jhalawar",
          "Uttar Pradesh/Jhansi",
          "Orissa/Jharsuguda",
          "Rajasthan/Jhunjhunun",
          "Haryana/Jind",
          "Rajasthan/Jodhpur",
          "Assam/Jorhat",
          "Daman and Diu/Junagadh",
          "Gujarat/Junagadh",
          "Uttar Pradesh/Jyotiba Phule Nagar",
          "Gujarat/Kachchh",
          "Haryana/Kaithal",
          "Orissa/Kalahandi",
          "Assam/Kamrup",
          "Tamil Nadu/Kancheepuram",
          "Orissa/Kandhamal",
          "Himachal Pradesh/Kangra",
          "Uttar Pradesh/Kannauj",
          "Tamil Nadu/Kanniyakumari",
          "Kerala/Kannur",
          "Uttar Pradesh/Kanpur Dehat",
          "Punjab/Kapurthala",
          "Puducherry/Karaikal",
          "Rajasthan/Karauli",
          "Assam/Karbi Anglong",
          "Jammu and Kashmir/Kargil",
          "Assam/Karimganj",
          "Andhra Pradesh/Karimnagar",
          "Haryana/Karnal",
          "Tamil Nadu/Karur",
          "Kerala/Kasaragod",
          "Jammu and Kashmir/Kathua",
          "Bihar/Katihar",
          "Madhya Pradesh/Katni",
          "Uttar Pradesh/Kaushambi",
          "Orissa/Kendrapara",
          "Bihar/Khagaria",
          "Andhra Pradesh/Khammam",
          "Gujarat/Kheda",
          "Orissa/Khordha",
          "Himachal Pradesh/Kinnaur",
          "Bihar/Kishanganj",
          "Karnataka/Kodagu",
          "Nagaland/Kohima",
          "Assam/Kokrajhar",
          "Karnataka/Kolar",
          "Mizoram/Kolasib",
          "Maharashtra/Kolhapur",
          "West Bengal/Kolkata",
          "Kerala/Kollam",
          "Karnataka/Koppal",
          "Orissa/Koraput",
          "Chhattisgarh/Korba",
          "Chhattisgarh/Koriya",
          "Rajasthan/Kota",
          "Kerala/Kottayam",
          "Kerala/Kozhikode",
          "Andhra Pradesh/Krishna",
          "Himachal Pradesh/Kullu",
          "Andhra Pradesh/Kurnool",
          "Haryana/Kurukshetra",
          "Arunachal Pradesh/Kurung Kumey",
          "Uttar Pradesh/Kushinagar",
          "Assam/Lakhimpur",
          "Bihar/Lakhisarai",
          "Uttar Pradesh/Lalitpur",
          "Jharkhand/Latehar",
          "Maharashtra/Latur",
          "Mizoram/Lawngtlai",
          "Jharkhand/Lohardaga",
          "Arunachal Pradesh/Lohit",
          "Arunachal Pradesh/Lower Dibang Valley",
          "Arunachal Pradesh/Lower Subansiri",
          "Uttar Pradesh/Lucknow",
          "Punjab/Ludhiana",
          "Mizoram/Lunglei",
          "Bihar/Madhepura",
          "Bihar/Madhubani",
          "Tamil Nadu/Madurai",
          "Chhattisgarh/Mahasamund",
          "Andhra Pradesh/Mahbubnagar",
          "Puducherry/Mahe",
          "Haryana/Mahendragarh",
          "Gujarat/Mahesana",
          "Uttar Pradesh/Mahoba",
          "Uttar Pradesh/Mainpuri",
          "Kerala/Malappuram",
          "West Bengal/Maldah",
          "Orissa/Malkangiri",
          "Mizoram/Mamit",
          "Himachal Pradesh/Mandi",
          "Madhya Pradesh/Mandla",
          "Madhya Pradesh/Mandsaur",
          "Karnataka/Mandya",
          "Punjab/Mansa",
          "Uttar Pradesh/Mathura",
          "Uttar Pradesh/Mau",
          "Orissa/Mayurbhanj",
          "Andhra Pradesh/Medak",
          "Uttar Pradesh/Meerut",
          "Uttar Pradesh/Mirzapur",
          "Punjab/Moga",
          "Nagaland/Mokokchung",
          "Nagaland/Mon",
          "Uttar Pradesh/Moradabad",
          "Madhya Pradesh/Morena",
          "Punjab/Muktsar",
          "Bihar/Munger",
          "West Bengal/Murshidabad",
          "Uttar Pradesh/Muzaffarnagar",
          "Bihar/Muzaffarpur",
          "Karnataka/Mysore",
          "West Bengal/Nadia",
          "Assam/Nagaon",
          "Tamil Nadu/Nagapattinam",
          "Rajasthan/Nagaur",
          "Maharashtra/Nagpur",
          "Bihar/Nalanda",
          "Assam/Nalbari",
          "Andhra Pradesh/Nalgonda",
          "Tamil Nadu/Namakkal",
          "Maharashtra/Nanded",
          "Maharashtra/Nandurbar",
          "Gujarat/Narmada",
          "Maharashtra/Nashik",
          "Gujarat/Navsari",
          "Bihar/Nawada",
          "Orissa/Nayagarh",
          "Madhya Pradesh/Neemuch",
          "Andhra Pradesh/Nizamabad",
          "Goa/North Goa",
          "Tripura/North Tripura",
          "Orissa/Nuapada",
          "Maharashtra/Osmanabad",
          "Jharkhand/Pakur",
          "Kerala/Palakkad",
          "Jharkhand/Palamu",
          "Rajasthan/Pali",
          "Gujarat/Panch Mahals",
          "Haryana/Panchkula",
          "Haryana/Panipat",
          "Madhya Pradesh/Panna",
          "Arunachal Pradesh/Papum Pare",
          "Maharashtra/Parbhani",
          "Bihar/Pashchim Champaran",
          "Gujarat/Patan",
          "Punjab/Patiala",
          "Bihar/Patna",
          "Tamil Nadu/Perambalur",
          "Nagaland/Phek",
          "Uttar Pradesh/Pilibhit",
          "Uttaranchal/Pithoragarh",
          "Gujarat/Porbandar",
          "Andhra Pradesh/Prakasam",
          "Uttar Pradesh/Pratapgarh",
          "Tamil Nadu/Pudukkottai",
          "Jammu and Kashmir/Pulwama",
          "Jammu and Kashmir/Punch",
          "Maharashtra/Pune",
          "Bihar/Purba Champaran",
          "Orissa/Puri",
          "Bihar/Purnia",
          "West Bengal/Puruliya",
          "Uttar Pradesh/Rae Bareli",
          "Karnataka/Raichur",
          "Chhattisgarh/Raigarh",
          "Maharashtra/Raigarh",
          "Chhattisgarh/Raipur",
          "Madhya Pradesh/Raisen",
          "Madhya Pradesh/Rajgarh",
          "Gujarat/Rajkot",
          "Rajasthan/Rajsamand",
          "Tamil Nadu/Ramanathapuram",
          "Uttar Pradesh/Rampur",
          "Jharkhand/Ranchi",
          "Madhya Pradesh/Ratlam",
          "Maharashtra/Ratnagiri",
          "Orissa/Rayagada",
          "Madhya Pradesh/Rewa",
          "Haryana/Rewari",
          "Haryana/Rohtak",
          "Bihar/Rohtas",
          "Punjab/Rupnagar",
          "Gujarat/Sabar Kantha",
          "Madhya Pradesh/Sagar",
          "Uttar Pradesh/Saharanpur",
          "Bihar/Saharsa",
          "Jharkhand/Sahibganj",
          "Mizoram/Saiha",
          "Tamil Nadu/Salem",
          "Bihar/Samastipur",
          "Orissa/Sambalpur",
          "Maharashtra/Sangli",
          "Punjab/Sangrur",
          "Uttar Pradesh/Sant Kabir Nagar",
          "Bihar/Saran",
          "Maharashtra/Satara",
          "Madhya Pradesh/Satna",
          "Rajasthan/Sawai Madhopur",
          "Madhya Pradesh/Sehore",
          "Manipur/Senapati",
          "Madhya Pradesh/Seoni",
          "Mizoram/Serchhip",
          "Madhya Pradesh/Shahdol",
          "Uttar Pradesh/Shahjahanpur",
          "Madhya Pradesh/Shajapur",
          "Bihar/Sheikhpura",
          "Bihar/Sheohar",
          "Madhya Pradesh/Sheopur",
          "Himachal Pradesh/Shimla",
          "Karnataka/Shimoga",
          "Madhya Pradesh/Shivpuri",
          "Madhya Pradesh/Sidhi",
          "Rajasthan/Sikar",
          "Jharkhand/Simdega",
          "Maharashtra/Sindhudurg",
          "Himachal Pradesh/Sirmaur",
          "Rajasthan/Sirohi",
          "Haryana/Sirsa",
          "Bihar/Sitamarhi",
          "Uttar Pradesh/Sitapur",
          "Tamil Nadu/Sivaganga",
          "Bihar/Siwan",
          "Himachal Pradesh/Solan",
          "Maharashtra/Solapur",
          "Uttar Pradesh/Sonbhadra",
          "Assam/Sonitpur",
          "Meghalaya/South Garo Hills",
          "Goa/South Goa",
          "Tripura/South Tripura",
          "Andhra Pradesh/Srikakulam",
          "Jammu and Kashmir/Srinagar",
          "Uttar Pradesh/Sultanpur",
          "Orissa/Sundargarh",
          "Bihar/Supaul",
          "Gujarat/Surat",
          "Gujarat/Surendranagar",
          "Chhattisgarh/Surguja",
          "Manipur/Tamenglong",
          "Arunachal Pradesh/Tawang",
          "Uttaranchal/Tehri Garhwal",
          "Maharashtra/Thane",
          "Tamil Nadu/Thanjavur",
          "Gujarat/The Dangs",
          "Tamil Nadu/Theni",
          "Tamil Nadu/Thiruvallur",
          "Kerala/Thiruvananthapuram",
          "Tamil Nadu/Thiruvarur",
          "Manipur/Thoubal",
          "Kerala/Thrissur",
          "Madhya Pradesh/Tikamgarh",
          "Assam/Tinsukia",
          "Arunachal Pradesh/Tirap",
          "Tamil Nadu/Tiruvannamalai",
          "Rajasthan/Tonk",
          "Nagaland/Tuensang",
          "Karnataka/Tumkur",
          "Rajasthan/Udaipur",
          "Uttaranchal/Udham Singh Nagar",
          "Jammu and Kashmir/Udhampur",
          "Karnataka/Udupi",
          "Madhya Pradesh/Ujjain",
          "Manipur/Ukhrul",
          "Madhya Pradesh/Umaria",
          "Himachal Pradesh/Una",
          "Uttar Pradesh/Unnao",
          "Arunachal Pradesh/Upper Siang",
          "Arunachal Pradesh/Upper Subansiri",
          "West Bengal/Uttar Dinajpur",
          "Uttaranchal/Uttarkashi",
          "Gujarat/Vadodara",
          "Bihar/Vaishali",
          "Gujarat/Valsad",
          "Uttar Pradesh/Varanasi",
          "Tamil Nadu/Vellore",
          "Madhya Pradesh/Vidisha",
          "Tamil Nadu/Virudhunagar",
          "Andhra Pradesh/Vizianagaram",
          "Andhra Pradesh/Warangal",
          "Maharashtra/Wardha",
          "Maharashtra/Washim",
          "Kerala/Wayanad",
          "Meghalaya/West Garo Hills",
          "Andhra Pradesh/West Godavari",
          "Arunachal Pradesh/West Kameng",
          "Meghalaya/West Khasi Hills",
          "Arunachal Pradesh/West Siang",
          "Tripura/West Tripura",
          "Nagaland/Wokha",
          "Puducherry/Yanam",
          "Maharashtra/Yavatmal",
          "Nagaland/Zunheboto",
          "Andhra Pradesh",
          "Arunachal Pradesh",
          "Assam",
          "Bihar",
          "Chandigarh",
          "Chhattisgarh",
          "Daman and Diu",
          "Goa",
          "Gujarat",
          "Haryana",
          "Himachal Pradesh",
          "Jammu and Kashmir",
          "Jharkhand",
          "Karnataka",
          "Kerala",
          "Madhya Pradesh",
          "Maharashtra",
          "Manipur",
          "Meghalaya",
          "Mizoram",
          "Nagaland",
          "Orissa",
          "Puducherry",
          "Punjab",
          "Rajasthan",
          "Sikkim",
          "Tamil Nadu",
          "Tripura",
          "Uttar Pradesh",
          "Uttaranchal",
          "West Bengal"
         ],
         "labels": [
          "Adilabad",
          "Agra",
          "Ahmadabad",
          "Aizawl",
          "Ajmer",
          "Akola",
          "Alappuzha",
          "Aligarh",
          "Allahabad",
          "Almora",
          "Alwar",
          "Ambala",
          "Ambedkar Nagar",
          "Amravati",
          "Amreli",
          "Amritsar",
          "Anand",
          "Anantapur",
          "Anuppur",
          "Araria",
          "Ariyalur",
          "Ashoknagar",
          "Auraiya",
          "Aurangabad",
          "Aurangabad",
          "Azamgarh",
          "Bagalkot",
          "Bageshwar",
          "Baghpat",
          "Bahraich",
          "Balaghat",
          "Baleshwar",
          "Ballia",
          "Balrampur",
          "Banas Kantha",
          "Banda",
          "Bangalore Rural",
          "Banka",
          "Bankura",
          "Banswara",
          "Bara Banki",
          "Baran",
          "Barddhaman",
          "Bareilly",
          "Barmer",
          "Barpeta",
          "Barwani",
          "Bastar",
          "Basti",
          "Bathinda",
          "Begusarai",
          "Belgaum",
          "Bellary",
          "Betul",
          "Bhadrak",
          "Bhagalpur",
          "Bhandara",
          "Bharatpur",
          "Bharuch",
          "Bhavnagar",
          "Bhilwara",
          "Bhind",
          "Bhiwani",
          "Bhojpur",
          "Bhopal",
          "Bid",
          "Bidar",
          "Bijapur",
          "Bijnor",
          "Bikaner",
          "Bilaspur",
          "Bilaspur",
          "Birbhum",
          "Bishnupur",
          "Bokaro",
          "Bongaigaon",
          "Bulandshahr",
          "Buldana",
          "Bundi",
          "Burhanpur",
          "Buxar",
          "Cachar",
          "Chamba",
          "Chamoli",
          "Champawat",
          "Champhai",
          "Chandauli",
          "Chandel",
          "Chandigarh",
          "Chandrapur",
          "Changlang",
          "Chatra",
          "Chennai",
          "Chhatarpur",
          "Chhindwara",
          "Chikmagalur",
          "Chitradurga",
          "Chitrakoot",
          "Chittaurgarh",
          "Chittoor",
          "Churachandpur",
          "Churu",
          "Coimbatore",
          "Cuddalore",
          "Cuttack",
          "Dakshin Dinajpur",
          "Daman",
          "Damoh",
          "Darbhanga",
          "Darjiling",
          "Darrang",
          "Datia",
          "Dausa",
          "Davanagere",
          "Deoghar",
          "Deoria",
          "Dewas",
          "Dhalai",
          "Dhamtari",
          "Dhanbad",
          "Dhar",
          "Dharmapuri",
          "Dharwad",
          "Dhaulpur",
          "Dhemaji",
          "Dhenkanal",
          "Dhule",
          "Dibrugarh",
          "Dimapur",
          "Dindigul",
          "Dindori",
          "Doda",
          "Dumka",
          "Dungarpur",
          "Durg",
          "East",
          "East Garo Hills",
          "East Godavari",
          "East Kameng",
          "East Khasi Hills",
          "East Siang",
          "Ernakulam",
          "Erode",
          "Etah",
          "Etawah",
          "Faizabad",
          "Faridabad",
          "Faridkot",
          "Farrukhabad",
          "Fatehabad",
          "Fatehgarh Sahib",
          "Fatehpur",
          "Firozabad",
          "Firozpur",
          "Gadag",
          "Gajapati",
          "Gandhinagar",
          "Ganganagar",
          "Ganjam",
          "Garhwa",
          "Gautam Buddha Nagar",
          "Gaya",
          "Ghaziabad",
          "Ghazipur",
          "Giridih",
          "Goalpara",
          "Godda",
          "Golaghat",
          "Gonda",
          "Gondiya",
          "Gopalganj",
          "Gorakhpur",
          "Gulbarga",
          "Gumla",
          "Guna",
          "Guntur",
          "Gurdaspur",
          "Gurgaon",
          "Gwalior",
          "Hailakandi",
          "Hamirpur",
          "Hamirpur",
          "Hanumangarh",
          "Haora",
          "Harda",
          "Hardoi",
          "Hassan",
          "Haveri",
          "Hingoli",
          "Hisar",
          "Hoshangabad",
          "Hoshiarpur",
          "Hugli",
          "Hyderabad",
          "Idukki",
          "Indore",
          "Jabalpur",
          "Jaintia Hills",
          "Jaipur",
          "Jaisalmer",
          "Jalandhar",
          "Jalaun",
          "Jalgaon",
          "Jalna",
          "Jalor",
          "Jalpaiguri",
          "Jammu",
          "Jamnagar",
          "Jamtara",
          "Jamui",
          "Jashpur",
          "Jaunpur",
          "Jehanabad",
          "Jhabua",
          "Jhajjar",
          "Jhalawar",
          "Jhansi",
          "Jharsuguda",
          "Jhunjhunun",
          "Jind",
          "Jodhpur",
          "Jorhat",
          "Junagadh",
          "Junagadh",
          "Jyotiba Phule Nagar",
          "Kachchh",
          "Kaithal",
          "Kalahandi",
          "Kamrup",
          "Kancheepuram",
          "Kandhamal",
          "Kangra",
          "Kannauj",
          "Kanniyakumari",
          "Kannur",
          "Kanpur Dehat",
          "Kapurthala",
          "Karaikal",
          "Karauli",
          "Karbi Anglong",
          "Kargil",
          "Karimganj",
          "Karimnagar",
          "Karnal",
          "Karur",
          "Kasaragod",
          "Kathua",
          "Katihar",
          "Katni",
          "Kaushambi",
          "Kendrapara",
          "Khagaria",
          "Khammam",
          "Kheda",
          "Khordha",
          "Kinnaur",
          "Kishanganj",
          "Kodagu",
          "Kohima",
          "Kokrajhar",
          "Kolar",
          "Kolasib",
          "Kolhapur",
          "Kolkata",
          "Kollam",
          "Koppal",
          "Koraput",
          "Korba",
          "Koriya",
          "Kota",
          "Kottayam",
          "Kozhikode",
          "Krishna",
          "Kullu",
          "Kurnool",
          "Kurukshetra",
          "Kurung Kumey",
          "Kushinagar",
          "Lakhimpur",
          "Lakhisarai",
          "Lalitpur",
          "Latehar",
          "Latur",
          "Lawngtlai",
          "Lohardaga",
          "Lohit",
          "Lower Dibang Valley",
          "Lower Subansiri",
          "Lucknow",
          "Ludhiana",
          "Lunglei",
          "Madhepura",
          "Madhubani",
          "Madurai",
          "Mahasamund",
          "Mahbubnagar",
          "Mahe",
          "Mahendragarh",
          "Mahesana",
          "Mahoba",
          "Mainpuri",
          "Malappuram",
          "Maldah",
          "Malkangiri",
          "Mamit",
          "Mandi",
          "Mandla",
          "Mandsaur",
          "Mandya",
          "Mansa",
          "Mathura",
          "Mau",
          "Mayurbhanj",
          "Medak",
          "Meerut",
          "Mirzapur",
          "Moga",
          "Mokokchung",
          "Mon",
          "Moradabad",
          "Morena",
          "Muktsar",
          "Munger",
          "Murshidabad",
          "Muzaffarnagar",
          "Muzaffarpur",
          "Mysore",
          "Nadia",
          "Nagaon",
          "Nagapattinam",
          "Nagaur",
          "Nagpur",
          "Nalanda",
          "Nalbari",
          "Nalgonda",
          "Namakkal",
          "Nanded",
          "Nandurbar",
          "Narmada",
          "Nashik",
          "Navsari",
          "Nawada",
          "Nayagarh",
          "Neemuch",
          "Nizamabad",
          "North Goa",
          "North Tripura",
          "Nuapada",
          "Osmanabad",
          "Pakur",
          "Palakkad",
          "Palamu",
          "Pali",
          "Panch Mahals",
          "Panchkula",
          "Panipat",
          "Panna",
          "Papum Pare",
          "Parbhani",
          "Pashchim Champaran",
          "Patan",
          "Patiala",
          "Patna",
          "Perambalur",
          "Phek",
          "Pilibhit",
          "Pithoragarh",
          "Porbandar",
          "Prakasam",
          "Pratapgarh",
          "Pudukkottai",
          "Pulwama",
          "Punch",
          "Pune",
          "Purba Champaran",
          "Puri",
          "Purnia",
          "Puruliya",
          "Rae Bareli",
          "Raichur",
          "Raigarh",
          "Raigarh",
          "Raipur",
          "Raisen",
          "Rajgarh",
          "Rajkot",
          "Rajsamand",
          "Ramanathapuram",
          "Rampur",
          "Ranchi",
          "Ratlam",
          "Ratnagiri",
          "Rayagada",
          "Rewa",
          "Rewari",
          "Rohtak",
          "Rohtas",
          "Rupnagar",
          "Sabar Kantha",
          "Sagar",
          "Saharanpur",
          "Saharsa",
          "Sahibganj",
          "Saiha",
          "Salem",
          "Samastipur",
          "Sambalpur",
          "Sangli",
          "Sangrur",
          "Sant Kabir Nagar",
          "Saran",
          "Satara",
          "Satna",
          "Sawai Madhopur",
          "Sehore",
          "Senapati",
          "Seoni",
          "Serchhip",
          "Shahdol",
          "Shahjahanpur",
          "Shajapur",
          "Sheikhpura",
          "Sheohar",
          "Sheopur",
          "Shimla",
          "Shimoga",
          "Shivpuri",
          "Sidhi",
          "Sikar",
          "Simdega",
          "Sindhudurg",
          "Sirmaur",
          "Sirohi",
          "Sirsa",
          "Sitamarhi",
          "Sitapur",
          "Sivaganga",
          "Siwan",
          "Solan",
          "Solapur",
          "Sonbhadra",
          "Sonitpur",
          "South Garo Hills",
          "South Goa",
          "South Tripura",
          "Srikakulam",
          "Srinagar",
          "Sultanpur",
          "Sundargarh",
          "Supaul",
          "Surat",
          "Surendranagar",
          "Surguja",
          "Tamenglong",
          "Tawang",
          "Tehri Garhwal",
          "Thane",
          "Thanjavur",
          "The Dangs",
          "Theni",
          "Thiruvallur",
          "Thiruvananthapuram",
          "Thiruvarur",
          "Thoubal",
          "Thrissur",
          "Tikamgarh",
          "Tinsukia",
          "Tirap",
          "Tiruvannamalai",
          "Tonk",
          "Tuensang",
          "Tumkur",
          "Udaipur",
          "Udham Singh Nagar",
          "Udhampur",
          "Udupi",
          "Ujjain",
          "Ukhrul",
          "Umaria",
          "Una",
          "Unnao",
          "Upper Siang",
          "Upper Subansiri",
          "Uttar Dinajpur",
          "Uttarkashi",
          "Vadodara",
          "Vaishali",
          "Valsad",
          "Varanasi",
          "Vellore",
          "Vidisha",
          "Virudhunagar",
          "Vizianagaram",
          "Warangal",
          "Wardha",
          "Washim",
          "Wayanad",
          "West Garo Hills",
          "West Godavari",
          "West Kameng",
          "West Khasi Hills",
          "West Siang",
          "West Tripura",
          "Wokha",
          "Yanam",
          "Yavatmal",
          "Zunheboto",
          "Andhra Pradesh",
          "Arunachal Pradesh",
          "Assam",
          "Bihar",
          "Chandigarh",
          "Chhattisgarh",
          "Daman and Diu",
          "Goa",
          "Gujarat",
          "Haryana",
          "Himachal Pradesh",
          "Jammu and Kashmir",
          "Jharkhand",
          "Karnataka",
          "Kerala",
          "Madhya Pradesh",
          "Maharashtra",
          "Manipur",
          "Meghalaya",
          "Mizoram",
          "Nagaland",
          "Orissa",
          "Puducherry",
          "Punjab",
          "Rajasthan",
          "Sikkim",
          "Tamil Nadu",
          "Tripura",
          "Uttar Pradesh",
          "Uttaranchal",
          "West Bengal"
         ],
         "marker": {
          "coloraxis": "coloraxis",
          "colors": [
           1369597,
           2364953,
           3788051,
           199270,
           1324085,
           932334,
           1013142,
           1951996,
           3131807,
           291081,
           1939026,
           598703,
           1212410,
           1480768,
           771049,
           1318408,
           1087224,
           2064495,
           379114,
           1463333,
           374703,
           443837,
           740040,
           1677929.8875308326,
           1677929.8875308326,
           2285004,
           950111,
           124326,
           700070,
           1843884,
           842178,
           1185787,
           1672902,
           1114721,
           1610379,
           965876,
           509172,
           1067140,
           1838095,
           907754,
           1707073,
           633945,
           3966889,
           2357665,
           1369022,
           867004,
           699340,
           698487,
           1255272,
           743197,
           1567660,
           2423063,
           1236954,
           799236,
           760260,
           1615663,
           605520,
           1355726,
           805707,
           1490201,
           1220736,
           926843,
           866672,
           1430380,
           1236130,
           1349106,
           870665,
           1007950.5918955372,
           1921215,
           1240801,
           1206244.1430562602,
           1206244.1430562602,
           1790920,
           118782,
           1072807,
           375818,
           1845260,
           1337560,
           577160,
           388504,
           887977,
           886284,
           261320,
           193991,
           131125,
           63388,
           1017905,
           74579,
           580663,
           1123834,
           76948,
           533935,
           2335844,
           936121,
           1064468,
           566622,
           840843,
           527721,
           783171,
           2090204,
           138820,
           1051446,
           1729297,
           1311697,
           1352760,
           857199,
           124659,
           661873,
           2059949,
           937259,
           475273,
           420157,
           857787,
           986400,
           775022,
           1537436,
           805359,
           194544,
           397897,
           1405956,
           1112725,
           774303,
           937206,
           653647,
           351249,
           612593,
           1054031,
           676434,
           197394,
           1080938,
           351913,
           213641,
           668514,
           696532,
           1682101,
           907500,
           161223,
           2569688,
           38775,
           410749,
           50116,
           1619557,
           1129868,
           947339,
           845856,
           1259628,
           966110,
           326671,
           1006240,
           495360,
           320795,
           1384722,
           1332046,
           1071637,
           537147,
           282882,
           723864,
           1043340,
           1779218,
           683575,
           890214,
           2266566,
           2488834,
           1855075,
           1258098,
           513292,
           677927,
           543161,
           1787146,
           661554,
           1267666,
           2277777,
           1301755,
           514390,
           649362,
           2440521,
           1212617,
           816690,
           1090327,
           337890,
           483723.4499436517,
           483723.4499436517,
           931184,
           2500819,
           294838,
           2191442,
           883667,
           819128,
           606294,
           931562,
           648725,
           809057,
           2814653,
           2018575,
           552808,
           1699627,
           1277278,
           196285,
           3468507,
           361708,
           1145211,
           906092,
           2197365,
           1011473,
           936634,
           1983064,
           813821,
           1114192,
           404830,
           916064,
           424747,
           2220465,
           585582,
           515023,
           514667,
           725143,
           1057436,
           296690,
           1095896,
           713006,
           1923928,
           556805,
           1404356,
           1404356,
           963449,
           1096737,
           571003,
           787101,
           778461,
           2012958,
           359945,
           750591,
           881776,
           926345,
           1181446,
           963255,
           426311,
           97809,
           783639,
           490167,
           77785,
           625864,
           1880800,
           797712,
           528184,
           628613,
           326109,
           1600430,
           662013,
           838485,
           717814,
           883786,
           1390988,
           1185727,
           1167137,
           46249,
           866970,
           274608,
           138966,
           452905,
           776396,
           42918,
           1980658,
           2356766,
           1246968,
           699926,
           678809,
           612915,
           334737,
           1021161,
           968289,
           1470942,
           2267375,
           225452,
           2039227,
           510976,
           45318,
           1818055,
           529674,
           526345,
           641011,
           369666,
           1273140,
           60599,
           232629,
           76221,
           28053,
           41843,
           2394476,
           1867816,
           82891,
           1047559,
           2329313,
           1526475,
           511967,
           2050386,
           19143,
           486665,
           1056520,
           466358,
           993377,
           1960328,
           2051541,
           303624,
           44828,
           498065,
           525272,
           682851,
           905085,
           408732,
           1367125,
           1114709,
           1256213,
           1523030,
           1825743,
           1312302,
           525920,
           101092,
           131753,
           2503186,
           1068417,
           475622,
           729041,
           3627564,
           2193434,
           2527497,
           1511600,
           2653768,
           1439112,
           798127,
           1696325,
           2384975,
           1497060,
           396006,
           1759772,
           869280,
           1730075,
           833170,
           301086,
           3157186,
           678165,
           1144668,
           502636,
           422653,
           1250641,
           416677,
           352860,
           301962,
           861535,
           452661,
           1359478,
           1006302,
           1025422,
           1226961,
           299679,
           646857,
           533480,
           89182,
           942870,
           2061110,
           694397,
           1002522,
           3078512,
           282157,
           83743,
           1072002,
           239306,
           300209,
           1714764,
           1357386.1685417842,
           803188,
           293064,
           251899,
           4924105,
           2681209,
           865380,
           1699370,
           1496996,
           1752542,
           964511,
           1129352.9858533437,
           1129352.9858533437,
           2048186,
           700358,
           790212,
           1974445,
           581339,
           682658,
           1223889,
           1494937,
           738241,
           761121,
           471960,
           1225100,
           474335,
           568479,
           1543546,
           357485,
           1244231,
           1256257,
           1834106,
           997174,
           589391,
           28594,
           1781571,
           2230003,
           526877,
           1435728,
           878029,
           869656,
           2022821,
           1510842,
           1157495,
           704031,
           683743,
           247323,
           695879,
           32851,
           540021,
           1606403,
           780520,
           329743,
           346673,
           361784,
           425039,
           877415,
           919795,
           575912,
           1374990,
           300309,
           417332,
           276289,
           534231,
           682582,
           1803252,
           2375264,
           668672,
           1675090,
           308754,
           2227852,
           971344,
           983904,
           73170,
           322463,
           447544,
           1341738,
           651124,
           1914586,
           1061147,
           1155283,
           3402224,
           909917,
           1193129,
           72371,
           29151,
           297986,
           5865078,
           1182416,
           113821,
           625683,
           1876062,
           1581678,
           626693,
           210845,
           1480763,
           760355,
           680231,
           57604,
           1235889,
           728136,
           101933,
           1350594,
           1566801,
           858783,
           296784,
           562131,
           1016289,
           94718,
           330674,
           263692,
           1630087,
           18699,
           41758,
           1551066,
           168597,
           2153736,
           1844535,
           887222,
           1921857,
           1961688,
           769568,
           967709,
           1161477,
           1759281,
           668385,
           620302,
           401684,
           324159,
           1964918,
           46155,
           193715,
           58168,
           879428,
           84505,
           27301,
           1419965,
           71217,
           1907400.2275939258,
           57513.41307409956,
           740145.5155639118,
           1770226.5453892986,
           580663,
           1233642.192531998,
           1320980.9986517872,
           375301.82616717345,
           1812529.7131107128,
           692342.4014709112,
           670366.1314031985,
           506506.6416718842,
           919745.2533397033,
           1133483.0878743208,
           1356156.7189360224,
           886571.9879182463,
           2383855.0011347644,
           165878.3770883499,
           281119.1289644316,
           108904.90369994332,
           126489.62049130228,
           979906.1326480327,
           73581.76572242529,
           1032518.5114139549,
           1398141.1897823908,
           907500,
           1389854.6903265268,
           606480.958708648,
           1722643.1484074134,
           454028.66062125476,
           2519140.211202991
          ]
         },
         "name": "",
         "parents": [
          "Andhra Pradesh",
          "Uttar Pradesh",
          "Gujarat",
          "Mizoram",
          "Rajasthan",
          "Maharashtra",
          "Kerala",
          "Uttar Pradesh",
          "Uttar Pradesh",
          "Uttaranchal",
          "Rajasthan",
          "Haryana",
          "Uttar Pradesh",
          "Maharashtra",
          "Gujarat",
          "Punjab",
          "Gujarat",
          "Andhra Pradesh",
          "Madhya Pradesh",
          "Bihar",
          "Tamil Nadu",
          "Madhya Pradesh",
          "Uttar Pradesh",
          "Bihar",
          "Maharashtra",
          "Uttar Pradesh",
          "Karnataka",
          "Uttaranchal",
          "Uttar Pradesh",
          "Uttar Pradesh",
          "Madhya Pradesh",
          "Orissa",
          "Uttar Pradesh",
          "Uttar Pradesh",
          "Gujarat",
          "Uttar Pradesh",
          "Karnataka",
          "Bihar",
          "West Bengal",
          "Rajasthan",
          "Uttar Pradesh",
          "Rajasthan",
          "West Bengal",
          "Uttar Pradesh",
          "Rajasthan",
          "Assam",
          "Madhya Pradesh",
          "Chhattisgarh",
          "Uttar Pradesh",
          "Punjab",
          "Bihar",
          "Karnataka",
          "Karnataka",
          "Madhya Pradesh",
          "Orissa",
          "Bihar",
          "Maharashtra",
          "Rajasthan",
          "Gujarat",
          "Gujarat",
          "Rajasthan",
          "Madhya Pradesh",
          "Haryana",
          "Bihar",
          "Madhya Pradesh",
          "Maharashtra",
          "Karnataka",
          "Karnataka",
          "Uttar Pradesh",
          "Rajasthan",
          "Chhattisgarh",
          "Himachal Pradesh",
          "West Bengal",
          "Manipur",
          "Jharkhand",
          "Assam",
          "Uttar Pradesh",
          "Maharashtra",
          "Rajasthan",
          "Madhya Pradesh",
          "Bihar",
          "Assam",
          "Himachal Pradesh",
          "Uttaranchal",
          "Uttaranchal",
          "Mizoram",
          "Uttar Pradesh",
          "Manipur",
          "Chandigarh",
          "Maharashtra",
          "Arunachal Pradesh",
          "Jharkhand",
          "Tamil Nadu",
          "Madhya Pradesh",
          "Madhya Pradesh",
          "Karnataka",
          "Karnataka",
          "Uttar Pradesh",
          "Rajasthan",
          "Andhra Pradesh",
          "Manipur",
          "Rajasthan",
          "Tamil Nadu",
          "Tamil Nadu",
          "Orissa",
          "West Bengal",
          "Daman and Diu",
          "Madhya Pradesh",
          "Bihar",
          "West Bengal",
          "Assam",
          "Madhya Pradesh",
          "Rajasthan",
          "Karnataka",
          "Jharkhand",
          "Uttar Pradesh",
          "Madhya Pradesh",
          "Tripura",
          "Chhattisgarh",
          "Jharkhand",
          "Madhya Pradesh",
          "Tamil Nadu",
          "Karnataka",
          "Rajasthan",
          "Assam",
          "Orissa",
          "Maharashtra",
          "Assam",
          "Nagaland",
          "Tamil Nadu",
          "Madhya Pradesh",
          "Jammu and Kashmir",
          "Jharkhand",
          "Rajasthan",
          "Chhattisgarh",
          "Sikkim",
          "Meghalaya",
          "Andhra Pradesh",
          "Arunachal Pradesh",
          "Meghalaya",
          "Arunachal Pradesh",
          "Kerala",
          "Tamil Nadu",
          "Uttar Pradesh",
          "Uttar Pradesh",
          "Uttar Pradesh",
          "Haryana",
          "Punjab",
          "Uttar Pradesh",
          "Haryana",
          "Punjab",
          "Uttar Pradesh",
          "Uttar Pradesh",
          "Punjab",
          "Karnataka",
          "Orissa",
          "Gujarat",
          "Rajasthan",
          "Orissa",
          "Jharkhand",
          "Uttar Pradesh",
          "Bihar",
          "Uttar Pradesh",
          "Uttar Pradesh",
          "Jharkhand",
          "Assam",
          "Jharkhand",
          "Assam",
          "Uttar Pradesh",
          "Maharashtra",
          "Bihar",
          "Uttar Pradesh",
          "Karnataka",
          "Jharkhand",
          "Madhya Pradesh",
          "Andhra Pradesh",
          "Punjab",
          "Haryana",
          "Madhya Pradesh",
          "Assam",
          "Himachal Pradesh",
          "Uttar Pradesh",
          "Rajasthan",
          "West Bengal",
          "Madhya Pradesh",
          "Uttar Pradesh",
          "Karnataka",
          "Karnataka",
          "Maharashtra",
          "Haryana",
          "Madhya Pradesh",
          "Punjab",
          "West Bengal",
          "Andhra Pradesh",
          "Kerala",
          "Madhya Pradesh",
          "Madhya Pradesh",
          "Meghalaya",
          "Rajasthan",
          "Rajasthan",
          "Punjab",
          "Uttar Pradesh",
          "Maharashtra",
          "Maharashtra",
          "Rajasthan",
          "West Bengal",
          "Jammu and Kashmir",
          "Gujarat",
          "Jharkhand",
          "Bihar",
          "Chhattisgarh",
          "Uttar Pradesh",
          "Bihar",
          "Madhya Pradesh",
          "Haryana",
          "Rajasthan",
          "Uttar Pradesh",
          "Orissa",
          "Rajasthan",
          "Haryana",
          "Rajasthan",
          "Assam",
          "Daman and Diu",
          "Gujarat",
          "Uttar Pradesh",
          "Gujarat",
          "Haryana",
          "Orissa",
          "Assam",
          "Tamil Nadu",
          "Orissa",
          "Himachal Pradesh",
          "Uttar Pradesh",
          "Tamil Nadu",
          "Kerala",
          "Uttar Pradesh",
          "Punjab",
          "Puducherry",
          "Rajasthan",
          "Assam",
          "Jammu and Kashmir",
          "Assam",
          "Andhra Pradesh",
          "Haryana",
          "Tamil Nadu",
          "Kerala",
          "Jammu and Kashmir",
          "Bihar",
          "Madhya Pradesh",
          "Uttar Pradesh",
          "Orissa",
          "Bihar",
          "Andhra Pradesh",
          "Gujarat",
          "Orissa",
          "Himachal Pradesh",
          "Bihar",
          "Karnataka",
          "Nagaland",
          "Assam",
          "Karnataka",
          "Mizoram",
          "Maharashtra",
          "West Bengal",
          "Kerala",
          "Karnataka",
          "Orissa",
          "Chhattisgarh",
          "Chhattisgarh",
          "Rajasthan",
          "Kerala",
          "Kerala",
          "Andhra Pradesh",
          "Himachal Pradesh",
          "Andhra Pradesh",
          "Haryana",
          "Arunachal Pradesh",
          "Uttar Pradesh",
          "Assam",
          "Bihar",
          "Uttar Pradesh",
          "Jharkhand",
          "Maharashtra",
          "Mizoram",
          "Jharkhand",
          "Arunachal Pradesh",
          "Arunachal Pradesh",
          "Arunachal Pradesh",
          "Uttar Pradesh",
          "Punjab",
          "Mizoram",
          "Bihar",
          "Bihar",
          "Tamil Nadu",
          "Chhattisgarh",
          "Andhra Pradesh",
          "Puducherry",
          "Haryana",
          "Gujarat",
          "Uttar Pradesh",
          "Uttar Pradesh",
          "Kerala",
          "West Bengal",
          "Orissa",
          "Mizoram",
          "Himachal Pradesh",
          "Madhya Pradesh",
          "Madhya Pradesh",
          "Karnataka",
          "Punjab",
          "Uttar Pradesh",
          "Uttar Pradesh",
          "Orissa",
          "Andhra Pradesh",
          "Uttar Pradesh",
          "Uttar Pradesh",
          "Punjab",
          "Nagaland",
          "Nagaland",
          "Uttar Pradesh",
          "Madhya Pradesh",
          "Punjab",
          "Bihar",
          "West Bengal",
          "Uttar Pradesh",
          "Bihar",
          "Karnataka",
          "West Bengal",
          "Assam",
          "Tamil Nadu",
          "Rajasthan",
          "Maharashtra",
          "Bihar",
          "Assam",
          "Andhra Pradesh",
          "Tamil Nadu",
          "Maharashtra",
          "Maharashtra",
          "Gujarat",
          "Maharashtra",
          "Gujarat",
          "Bihar",
          "Orissa",
          "Madhya Pradesh",
          "Andhra Pradesh",
          "Goa",
          "Tripura",
          "Orissa",
          "Maharashtra",
          "Jharkhand",
          "Kerala",
          "Jharkhand",
          "Rajasthan",
          "Gujarat",
          "Haryana",
          "Haryana",
          "Madhya Pradesh",
          "Arunachal Pradesh",
          "Maharashtra",
          "Bihar",
          "Gujarat",
          "Punjab",
          "Bihar",
          "Tamil Nadu",
          "Nagaland",
          "Uttar Pradesh",
          "Uttaranchal",
          "Gujarat",
          "Andhra Pradesh",
          "Uttar Pradesh",
          "Tamil Nadu",
          "Jammu and Kashmir",
          "Jammu and Kashmir",
          "Maharashtra",
          "Bihar",
          "Orissa",
          "Bihar",
          "West Bengal",
          "Uttar Pradesh",
          "Karnataka",
          "Chhattisgarh",
          "Maharashtra",
          "Chhattisgarh",
          "Madhya Pradesh",
          "Madhya Pradesh",
          "Gujarat",
          "Rajasthan",
          "Tamil Nadu",
          "Uttar Pradesh",
          "Jharkhand",
          "Madhya Pradesh",
          "Maharashtra",
          "Orissa",
          "Madhya Pradesh",
          "Haryana",
          "Haryana",
          "Bihar",
          "Punjab",
          "Gujarat",
          "Madhya Pradesh",
          "Uttar Pradesh",
          "Bihar",
          "Jharkhand",
          "Mizoram",
          "Tamil Nadu",
          "Bihar",
          "Orissa",
          "Maharashtra",
          "Punjab",
          "Uttar Pradesh",
          "Bihar",
          "Maharashtra",
          "Madhya Pradesh",
          "Rajasthan",
          "Madhya Pradesh",
          "Manipur",
          "Madhya Pradesh",
          "Mizoram",
          "Madhya Pradesh",
          "Uttar Pradesh",
          "Madhya Pradesh",
          "Bihar",
          "Bihar",
          "Madhya Pradesh",
          "Himachal Pradesh",
          "Karnataka",
          "Madhya Pradesh",
          "Madhya Pradesh",
          "Rajasthan",
          "Jharkhand",
          "Maharashtra",
          "Himachal Pradesh",
          "Rajasthan",
          "Haryana",
          "Bihar",
          "Uttar Pradesh",
          "Tamil Nadu",
          "Bihar",
          "Himachal Pradesh",
          "Maharashtra",
          "Uttar Pradesh",
          "Assam",
          "Meghalaya",
          "Goa",
          "Tripura",
          "Andhra Pradesh",
          "Jammu and Kashmir",
          "Uttar Pradesh",
          "Orissa",
          "Bihar",
          "Gujarat",
          "Gujarat",
          "Chhattisgarh",
          "Manipur",
          "Arunachal Pradesh",
          "Uttaranchal",
          "Maharashtra",
          "Tamil Nadu",
          "Gujarat",
          "Tamil Nadu",
          "Tamil Nadu",
          "Kerala",
          "Tamil Nadu",
          "Manipur",
          "Kerala",
          "Madhya Pradesh",
          "Assam",
          "Arunachal Pradesh",
          "Tamil Nadu",
          "Rajasthan",
          "Nagaland",
          "Karnataka",
          "Rajasthan",
          "Uttaranchal",
          "Jammu and Kashmir",
          "Karnataka",
          "Madhya Pradesh",
          "Manipur",
          "Madhya Pradesh",
          "Himachal Pradesh",
          "Uttar Pradesh",
          "Arunachal Pradesh",
          "Arunachal Pradesh",
          "West Bengal",
          "Uttaranchal",
          "Gujarat",
          "Bihar",
          "Gujarat",
          "Uttar Pradesh",
          "Tamil Nadu",
          "Madhya Pradesh",
          "Tamil Nadu",
          "Andhra Pradesh",
          "Andhra Pradesh",
          "Maharashtra",
          "Maharashtra",
          "Kerala",
          "Meghalaya",
          "Andhra Pradesh",
          "Arunachal Pradesh",
          "Meghalaya",
          "Arunachal Pradesh",
          "Tripura",
          "Nagaland",
          "Puducherry",
          "Maharashtra",
          "Nagaland",
          "",
          "",
          "",
          "",
          "",
          "",
          "",
          "",
          "",
          "",
          "",
          "",
          "",
          "",
          "",
          "",
          "",
          "",
          "",
          "",
          "",
          "",
          "",
          "",
          "",
          "",
          "",
          "",
          "",
          "",
          ""
         ],
         "type": "sunburst",
         "values": [
          2741239,
          4418797,
          7214225,
          400309,
          2583052,
          1813906,
          2127789,
          3673889,
          5954391,
          622506,
          3674179,
          1128350,
          2397888,
          2888445,
          1514190,
          2490656,
          2092745,
          4081148,
          749237,
          2811569,
          754894,
          845071,
          1379545,
          6241355,
          6241355,
          4613913,
          1889752,
          259898,
          1303048,
          3487731,
          1701698,
          2320529,
          3239774,
          2148665,
          3120506,
          1799410,
          990923,
          2034763,
          3596674,
          1797485,
          3260699,
          1222755,
          7717563,
          4448359,
          2603751,
          1693622,
          1385881,
          1413199,
          2464464,
          1388525,
          2970541,
          4779661,
          2452595,
          1575362,
          1506337,
          3037766,
          1200334,
          2548462,
          1551019,
          2880365,
          2408523,
          1703005,
          1634445,
          2728407,
          2371061,
          2585049,
          1703300,
          2432561,
          3682713,
          2363937,
          3045585,
          3045585,
          3502404,
          237399,
          2062330,
          738804,
          3499171,
          2586258,
          1110906,
          757847,
          1706352,
          1736617,
          519080,
          391605,
          259648,
          125745,
          1952756,
          144182,
          1055450,
          2204307,
          148226,
          1042886,
          4646732,
          1762375,
          2090922,
          1137961,
          1659456,
          991730,
          1544338,
          4174064,
          274143,
          2039547,
          3458045,
          2605914,
          2624470,
          1676276,
          191173,
          1264219,
          3937385,
          1846823,
          928500,
          786754,
          1634409,
          1945497,
          1492073,
          3100946,
          1563715,
          378230,
          799781,
          2684487,
          2185793,
          1506843,
          1847023,
          1206516,
          686133,
          1192811,
          2050862,
          1326335,
          378811,
          2159775,
          704524,
          409936,
          1321442,
          1388552,
          3343872,
          1709346,
          317917,
          5154296,
          78690,
          825922,
          99214,
          3282388,
          2251744,
          1774480,
          1581810,
          2470996,
          1809733,
          617508,
          1885204,
          942011,
          600163,
          2632733,
          2498156,
          2029074,
          1064570,
          577817,
          1391753,
          1969168,
          3529031,
          1322784,
          1648115,
          4391418,
          4681645,
          3620268,
          2445474,
          1008183,
          1313551,
          1066888,
          3433919,
          1322507,
          2562012,
          4440895,
          2566326,
          1025213,
          1241519,
          4887813,
          2298323,
          1514432,
          2032036,
          659296,
          1559053,
          1559053,
          1774692,
          4850029,
          570465,
          4092845,
          1776421,
          1597668,
          1177345,
          1743931,
          1241350,
          1586625,
          5519145,
          3943323,
          1108974,
          3276697,
          2463289,
          395124,
          6626178,
          669919,
          2193590,
          1689974,
          4229917,
          1959046,
          1828730,
          3872846,
          1529958,
          2160119,
          791042,
          1760405,
          851669,
          4494204,
          1125313,
          1025048,
          958405,
          1411129,
          1998603,
          579505,
          2137045,
          1334152,
          3687165,
          1092256,
          2743082,
          2743082,
          1840221,
          2092371,
          1074304,
          1576869,
          1517542,
          3998252,
          733110,
          1510075,
          1656616,
          1870374,
          2523003,
          1796184,
          815168,
          200222,
          1458248,
          956313,
          140802,
          1228686,
          3776269,
          1505324,
          1064493,
          1307375,
          616435,
          3071029,
          1292042,
          1599596,
          1440361,
          1666886,
          2797370,
          2299885,
          2251673,
          84121,
          1690400,
          554519,
          267988,
          887142,
          1536401,
          83955,
          3876001,
          4496694,
          2635375,
          1389920,
          1379647,
          1206640,
          658917,
          1951014,
          1974551,
          3086293,
          4517398,
          437903,
          4053463,
          964655,
          92076,
          3564544,
          1042137,
          1000912,
          1221592,
          726978,
          2454196,
          117894,
          461790,
          145726,
          54080,
          83030,
          4589838,
          3498739,
          161428,
          2001762,
          4487379,
          3038252,
          1032754,
          4053028,
          41816,
          922088,
          2035064,
          875958,
          1868529,
          4112920,
          3988845,
          613192,
          86364,
          999777,
          1054905,
          1340411,
          1805769,
          769751,
          2547184,
          2205968,
          2519738,
          3033288,
          3443689,
          2496970,
          995746,
          194622,
          250260,
          4772006,
          1965970,
          901896,
          1367765,
          7103807,
          4143512,
          4801062,
          3001127,
          5167600,
          2823768,
          1616450,
          3307743,
          4653570,
          2877653,
          771639,
          3488809,
          1726601,
          3361292,
          1648295,
          590297,
          6107187,
          1329672,
          2219146,
          962789,
          826067,
          2551335,
          818008,
          693947,
          610382,
          1657576,
          900422,
          2809934,
          1939869,
          2037573,
          2390776,
          561293,
          1205437,
          1016520,
          176573,
          1836086,
          3935042,
          1343734,
          1895686,
          5838465,
          565223,
          163418,
          2031007,
          483439,
          585449,
          3397448,
          4076989,
          1618345,
          560440,
          476835,
          9429408,
          5099371,
          1698730,
          3264619,
          2930115,
          3405559,
          1928812,
          4128184,
          4128184,
          4063872,
          1331597,
          1545814,
          3804558,
          1156597,
          1353445,
          2335819,
          2914253,
          1455069,
          1615069,
          967911,
          2365106,
          900332,
          1061204,
          2959918,
          684627,
          2428589,
          2378458,
          3466382,
          1900661,
          1150567,
          56574,
          3482056,
          4261566,
          1041099,
          2822143,
          1655169,
          1715183,
          3951862,
          3003741,
          2228935,
          1335551,
          1311332,
          479148,
          1379131,
          64937,
          1066063,
          3006538,
          1512681,
          636342,
          656246,
          687861,
          814010,
          1752753,
          1726050,
          1127033,
          2677333,
          599578,
          849651,
          529855,
          1036346,
          1295189,
          3423574,
          4483992,
          1339101,
          3330464,
          580320,
          4317756,
          1862559,
          1924110,
          142334,
          640537,
          876001,
          2703114,
          1236829,
          3797117,
          2093437,
          2229076,
          6081322,
          1756268,
          2359886,
          140651,
          49977,
          618931,
          11060148,
          2405890,
          228291,
          1245899,
          3728104,
          3301427,
          1264277,
          422168,
          3121200,
          1445166,
          1327929,
          111975,
          2464875,
          1421326,
          196596,
          2678980,
          3068420,
          1648902,
          554985,
          1177361,
          1986864,
          183998,
          644758,
          521173,
          3108367,
          35320,
          83448,
          3007134,
          330086,
          4165626,
          3495021,
          1705678,
          3676841,
          3936331,
          1458875,
          1942288,
          2344474,
          3512576,
          1300774,
          1197160,
          817420,
          643291,
          3936966,
          83947,
          383461,
          112274,
          1725739,
          166343,
          55626,
          2772348,
          140757,
          69147421,
          1354556,
          23415900,
          105473507,
          1055450,
          22904359,
          2934255,
          1458545,
          57505584,
          20555285,
          10600952,
          5526220,
          24194739,
          43669356,
          32208649,
          66444576,
          98349916,
          1881689,
          2708049,
          1097206,
          1758795,
          30219438,
          297664,
          24421246,
          67680589,
          1709346,
          56044203,
          3673917,
          177909549,
          4615015,
          59275955
         ]
        }
       ],
       "layout": {
        "coloraxis": {
         "colorbar": {
          "title": {
           "text": "Male Population"
          }
         },
         "colorscale": [
          [
           0,
           "red"
          ],
          [
           1,
           "green"
          ]
         ]
        },
        "legend": {
         "tracegroupgap": 0
        },
        "margin": {
         "t": 60
        },
        "template": {
         "data": {
          "bar": [
           {
            "error_x": {
             "color": "#2a3f5f"
            },
            "error_y": {
             "color": "#2a3f5f"
            },
            "marker": {
             "line": {
              "color": "#E5ECF6",
              "width": 0.5
             },
             "pattern": {
              "fillmode": "overlay",
              "size": 10,
              "solidity": 0.2
             }
            },
            "type": "bar"
           }
          ],
          "barpolar": [
           {
            "marker": {
             "line": {
              "color": "#E5ECF6",
              "width": 0.5
             },
             "pattern": {
              "fillmode": "overlay",
              "size": 10,
              "solidity": 0.2
             }
            },
            "type": "barpolar"
           }
          ],
          "carpet": [
           {
            "aaxis": {
             "endlinecolor": "#2a3f5f",
             "gridcolor": "white",
             "linecolor": "white",
             "minorgridcolor": "white",
             "startlinecolor": "#2a3f5f"
            },
            "baxis": {
             "endlinecolor": "#2a3f5f",
             "gridcolor": "white",
             "linecolor": "white",
             "minorgridcolor": "white",
             "startlinecolor": "#2a3f5f"
            },
            "type": "carpet"
           }
          ],
          "choropleth": [
           {
            "colorbar": {
             "outlinewidth": 0,
             "ticks": ""
            },
            "type": "choropleth"
           }
          ],
          "contour": [
           {
            "colorbar": {
             "outlinewidth": 0,
             "ticks": ""
            },
            "colorscale": [
             [
              0,
              "#0d0887"
             ],
             [
              0.1111111111111111,
              "#46039f"
             ],
             [
              0.2222222222222222,
              "#7201a8"
             ],
             [
              0.3333333333333333,
              "#9c179e"
             ],
             [
              0.4444444444444444,
              "#bd3786"
             ],
             [
              0.5555555555555556,
              "#d8576b"
             ],
             [
              0.6666666666666666,
              "#ed7953"
             ],
             [
              0.7777777777777778,
              "#fb9f3a"
             ],
             [
              0.8888888888888888,
              "#fdca26"
             ],
             [
              1,
              "#f0f921"
             ]
            ],
            "type": "contour"
           }
          ],
          "contourcarpet": [
           {
            "colorbar": {
             "outlinewidth": 0,
             "ticks": ""
            },
            "type": "contourcarpet"
           }
          ],
          "heatmap": [
           {
            "colorbar": {
             "outlinewidth": 0,
             "ticks": ""
            },
            "colorscale": [
             [
              0,
              "#0d0887"
             ],
             [
              0.1111111111111111,
              "#46039f"
             ],
             [
              0.2222222222222222,
              "#7201a8"
             ],
             [
              0.3333333333333333,
              "#9c179e"
             ],
             [
              0.4444444444444444,
              "#bd3786"
             ],
             [
              0.5555555555555556,
              "#d8576b"
             ],
             [
              0.6666666666666666,
              "#ed7953"
             ],
             [
              0.7777777777777778,
              "#fb9f3a"
             ],
             [
              0.8888888888888888,
              "#fdca26"
             ],
             [
              1,
              "#f0f921"
             ]
            ],
            "type": "heatmap"
           }
          ],
          "heatmapgl": [
           {
            "colorbar": {
             "outlinewidth": 0,
             "ticks": ""
            },
            "colorscale": [
             [
              0,
              "#0d0887"
             ],
             [
              0.1111111111111111,
              "#46039f"
             ],
             [
              0.2222222222222222,
              "#7201a8"
             ],
             [
              0.3333333333333333,
              "#9c179e"
             ],
             [
              0.4444444444444444,
              "#bd3786"
             ],
             [
              0.5555555555555556,
              "#d8576b"
             ],
             [
              0.6666666666666666,
              "#ed7953"
             ],
             [
              0.7777777777777778,
              "#fb9f3a"
             ],
             [
              0.8888888888888888,
              "#fdca26"
             ],
             [
              1,
              "#f0f921"
             ]
            ],
            "type": "heatmapgl"
           }
          ],
          "histogram": [
           {
            "marker": {
             "pattern": {
              "fillmode": "overlay",
              "size": 10,
              "solidity": 0.2
             }
            },
            "type": "histogram"
           }
          ],
          "histogram2d": [
           {
            "colorbar": {
             "outlinewidth": 0,
             "ticks": ""
            },
            "colorscale": [
             [
              0,
              "#0d0887"
             ],
             [
              0.1111111111111111,
              "#46039f"
             ],
             [
              0.2222222222222222,
              "#7201a8"
             ],
             [
              0.3333333333333333,
              "#9c179e"
             ],
             [
              0.4444444444444444,
              "#bd3786"
             ],
             [
              0.5555555555555556,
              "#d8576b"
             ],
             [
              0.6666666666666666,
              "#ed7953"
             ],
             [
              0.7777777777777778,
              "#fb9f3a"
             ],
             [
              0.8888888888888888,
              "#fdca26"
             ],
             [
              1,
              "#f0f921"
             ]
            ],
            "type": "histogram2d"
           }
          ],
          "histogram2dcontour": [
           {
            "colorbar": {
             "outlinewidth": 0,
             "ticks": ""
            },
            "colorscale": [
             [
              0,
              "#0d0887"
             ],
             [
              0.1111111111111111,
              "#46039f"
             ],
             [
              0.2222222222222222,
              "#7201a8"
             ],
             [
              0.3333333333333333,
              "#9c179e"
             ],
             [
              0.4444444444444444,
              "#bd3786"
             ],
             [
              0.5555555555555556,
              "#d8576b"
             ],
             [
              0.6666666666666666,
              "#ed7953"
             ],
             [
              0.7777777777777778,
              "#fb9f3a"
             ],
             [
              0.8888888888888888,
              "#fdca26"
             ],
             [
              1,
              "#f0f921"
             ]
            ],
            "type": "histogram2dcontour"
           }
          ],
          "mesh3d": [
           {
            "colorbar": {
             "outlinewidth": 0,
             "ticks": ""
            },
            "type": "mesh3d"
           }
          ],
          "parcoords": [
           {
            "line": {
             "colorbar": {
              "outlinewidth": 0,
              "ticks": ""
             }
            },
            "type": "parcoords"
           }
          ],
          "pie": [
           {
            "automargin": true,
            "type": "pie"
           }
          ],
          "scatter": [
           {
            "fillpattern": {
             "fillmode": "overlay",
             "size": 10,
             "solidity": 0.2
            },
            "type": "scatter"
           }
          ],
          "scatter3d": [
           {
            "line": {
             "colorbar": {
              "outlinewidth": 0,
              "ticks": ""
             }
            },
            "marker": {
             "colorbar": {
              "outlinewidth": 0,
              "ticks": ""
             }
            },
            "type": "scatter3d"
           }
          ],
          "scattercarpet": [
           {
            "marker": {
             "colorbar": {
              "outlinewidth": 0,
              "ticks": ""
             }
            },
            "type": "scattercarpet"
           }
          ],
          "scattergeo": [
           {
            "marker": {
             "colorbar": {
              "outlinewidth": 0,
              "ticks": ""
             }
            },
            "type": "scattergeo"
           }
          ],
          "scattergl": [
           {
            "marker": {
             "colorbar": {
              "outlinewidth": 0,
              "ticks": ""
             }
            },
            "type": "scattergl"
           }
          ],
          "scattermapbox": [
           {
            "marker": {
             "colorbar": {
              "outlinewidth": 0,
              "ticks": ""
             }
            },
            "type": "scattermapbox"
           }
          ],
          "scatterpolar": [
           {
            "marker": {
             "colorbar": {
              "outlinewidth": 0,
              "ticks": ""
             }
            },
            "type": "scatterpolar"
           }
          ],
          "scatterpolargl": [
           {
            "marker": {
             "colorbar": {
              "outlinewidth": 0,
              "ticks": ""
             }
            },
            "type": "scatterpolargl"
           }
          ],
          "scatterternary": [
           {
            "marker": {
             "colorbar": {
              "outlinewidth": 0,
              "ticks": ""
             }
            },
            "type": "scatterternary"
           }
          ],
          "surface": [
           {
            "colorbar": {
             "outlinewidth": 0,
             "ticks": ""
            },
            "colorscale": [
             [
              0,
              "#0d0887"
             ],
             [
              0.1111111111111111,
              "#46039f"
             ],
             [
              0.2222222222222222,
              "#7201a8"
             ],
             [
              0.3333333333333333,
              "#9c179e"
             ],
             [
              0.4444444444444444,
              "#bd3786"
             ],
             [
              0.5555555555555556,
              "#d8576b"
             ],
             [
              0.6666666666666666,
              "#ed7953"
             ],
             [
              0.7777777777777778,
              "#fb9f3a"
             ],
             [
              0.8888888888888888,
              "#fdca26"
             ],
             [
              1,
              "#f0f921"
             ]
            ],
            "type": "surface"
           }
          ],
          "table": [
           {
            "cells": {
             "fill": {
              "color": "#EBF0F8"
             },
             "line": {
              "color": "white"
             }
            },
            "header": {
             "fill": {
              "color": "#C8D4E3"
             },
             "line": {
              "color": "white"
             }
            },
            "type": "table"
           }
          ]
         },
         "layout": {
          "annotationdefaults": {
           "arrowcolor": "#2a3f5f",
           "arrowhead": 0,
           "arrowwidth": 1
          },
          "autotypenumbers": "strict",
          "coloraxis": {
           "colorbar": {
            "outlinewidth": 0,
            "ticks": ""
           }
          },
          "colorscale": {
           "diverging": [
            [
             0,
             "#8e0152"
            ],
            [
             0.1,
             "#c51b7d"
            ],
            [
             0.2,
             "#de77ae"
            ],
            [
             0.3,
             "#f1b6da"
            ],
            [
             0.4,
             "#fde0ef"
            ],
            [
             0.5,
             "#f7f7f7"
            ],
            [
             0.6,
             "#e6f5d0"
            ],
            [
             0.7,
             "#b8e186"
            ],
            [
             0.8,
             "#7fbc41"
            ],
            [
             0.9,
             "#4d9221"
            ],
            [
             1,
             "#276419"
            ]
           ],
           "sequential": [
            [
             0,
             "#0d0887"
            ],
            [
             0.1111111111111111,
             "#46039f"
            ],
            [
             0.2222222222222222,
             "#7201a8"
            ],
            [
             0.3333333333333333,
             "#9c179e"
            ],
            [
             0.4444444444444444,
             "#bd3786"
            ],
            [
             0.5555555555555556,
             "#d8576b"
            ],
            [
             0.6666666666666666,
             "#ed7953"
            ],
            [
             0.7777777777777778,
             "#fb9f3a"
            ],
            [
             0.8888888888888888,
             "#fdca26"
            ],
            [
             1,
             "#f0f921"
            ]
           ],
           "sequentialminus": [
            [
             0,
             "#0d0887"
            ],
            [
             0.1111111111111111,
             "#46039f"
            ],
            [
             0.2222222222222222,
             "#7201a8"
            ],
            [
             0.3333333333333333,
             "#9c179e"
            ],
            [
             0.4444444444444444,
             "#bd3786"
            ],
            [
             0.5555555555555556,
             "#d8576b"
            ],
            [
             0.6666666666666666,
             "#ed7953"
            ],
            [
             0.7777777777777778,
             "#fb9f3a"
            ],
            [
             0.8888888888888888,
             "#fdca26"
            ],
            [
             1,
             "#f0f921"
            ]
           ]
          },
          "colorway": [
           "#636efa",
           "#EF553B",
           "#00cc96",
           "#ab63fa",
           "#FFA15A",
           "#19d3f3",
           "#FF6692",
           "#B6E880",
           "#FF97FF",
           "#FECB52"
          ],
          "font": {
           "color": "#2a3f5f"
          },
          "geo": {
           "bgcolor": "white",
           "lakecolor": "white",
           "landcolor": "#E5ECF6",
           "showlakes": true,
           "showland": true,
           "subunitcolor": "white"
          },
          "hoverlabel": {
           "align": "left"
          },
          "hovermode": "closest",
          "mapbox": {
           "style": "light"
          },
          "paper_bgcolor": "white",
          "plot_bgcolor": "#E5ECF6",
          "polar": {
           "angularaxis": {
            "gridcolor": "white",
            "linecolor": "white",
            "ticks": ""
           },
           "bgcolor": "#E5ECF6",
           "radialaxis": {
            "gridcolor": "white",
            "linecolor": "white",
            "ticks": ""
           }
          },
          "scene": {
           "xaxis": {
            "backgroundcolor": "#E5ECF6",
            "gridcolor": "white",
            "gridwidth": 2,
            "linecolor": "white",
            "showbackground": true,
            "ticks": "",
            "zerolinecolor": "white"
           },
           "yaxis": {
            "backgroundcolor": "#E5ECF6",
            "gridcolor": "white",
            "gridwidth": 2,
            "linecolor": "white",
            "showbackground": true,
            "ticks": "",
            "zerolinecolor": "white"
           },
           "zaxis": {
            "backgroundcolor": "#E5ECF6",
            "gridcolor": "white",
            "gridwidth": 2,
            "linecolor": "white",
            "showbackground": true,
            "ticks": "",
            "zerolinecolor": "white"
           }
          },
          "shapedefaults": {
           "line": {
            "color": "#2a3f5f"
           }
          },
          "ternary": {
           "aaxis": {
            "gridcolor": "white",
            "linecolor": "white",
            "ticks": ""
           },
           "baxis": {
            "gridcolor": "white",
            "linecolor": "white",
            "ticks": ""
           },
           "bgcolor": "#E5ECF6",
           "caxis": {
            "gridcolor": "white",
            "linecolor": "white",
            "ticks": ""
           }
          },
          "title": {
           "x": 0.05
          },
          "xaxis": {
           "automargin": true,
           "gridcolor": "white",
           "linecolor": "white",
           "ticks": "",
           "title": {
            "standoff": 15
           },
           "zerolinecolor": "white",
           "zerolinewidth": 2
          },
          "yaxis": {
           "automargin": true,
           "gridcolor": "white",
           "linecolor": "white",
           "ticks": "",
           "title": {
            "standoff": 15
           },
           "zerolinecolor": "white",
           "zerolinewidth": 2
          }
         }
        }
       }
      }
     },
     "metadata": {},
     "output_type": "display_data"
    }
   ],
   "source": [
    "px.sunburst(temp_df,path=['State','District'],values='Population',color='Male Population', color_continuous_scale=[\"red\", \"green\"])"
   ]
  },
  {
   "cell_type": "code",
   "execution_count": 86,
   "metadata": {},
   "outputs": [
    {
     "data": {
      "text/plain": [
       "Index(['State', 'District', 'Latitude', 'Longitude', 'Population',\n",
       "       'Male Population', 'Female population', 'Literate', 'Male Literate',\n",
       "       'Female Literate', 'SC', 'Male SC', 'Female SC', 'ST', 'Male ST',\n",
       "       'Female ST', 'Workers', 'Male Workers', 'Female Workers', 'Non Workers',\n",
       "       'Agricultural Workers', 'Other Workers', 'Hindus', 'Muslims',\n",
       "       'Christians', 'Sikhs', 'Buddhists', 'Jains', 'Others Religions',\n",
       "       'LPG PNG Households', 'Housholds with Electricity',\n",
       "       'Households with Internet', 'Households with Computer',\n",
       "       'Below Primary Education', 'Primary Education', 'Secondary Education',\n",
       "       'Graduate Education', 'Other Education', 'Age 0-29', 'Age 30-49',\n",
       "       'Above 50', 'Households with Television',\n",
       "       'Households with Telephone Mobile Phone', 'Sex Ratio', 'Literacy Rate',\n",
       "       'Male Unliterate', 'Female Unliterate'],\n",
       "      dtype='object')"
      ]
     },
     "execution_count": 86,
     "metadata": {},
     "output_type": "execute_result"
    }
   ],
   "source": [
    "temp_df.columns"
   ]
  },
  {
   "cell_type": "code",
   "execution_count": 101,
   "metadata": {},
   "outputs": [],
   "source": [
    "temp1 = temp_df[temp_df['State'] == 'Maharashtra'].groupby('State')[['Hindus','Muslims','Christians','Sikhs',\n",
    "                    'Buddhists','Jains','Others Religions']].mean().stack().sort_values(ascending=False).head(5).reset_index()"
   ]
  },
  {
   "cell_type": "code",
   "execution_count": 102,
   "metadata": {},
   "outputs": [],
   "source": [
    "temp1.rename(columns={'level_1':\"Religions\",0:'population'},inplace=True)"
   ]
  },
  {
   "cell_type": "code",
   "execution_count": 103,
   "metadata": {},
   "outputs": [
    {
     "data": {
      "application/vnd.plotly.v1+json": {
       "config": {
        "plotlyServerURL": "https://plot.ly"
       },
       "data": [
        {
         "alignmentgroup": "True",
         "hovertemplate": "Religions=%{x}<br>population=%{y}<extra></extra>",
         "legendgroup": "",
         "marker": {
          "color": "#636efa",
          "pattern": {
           "shape": ""
          }
         },
         "name": "",
         "offsetgroup": "",
         "orientation": "v",
         "showlegend": false,
         "textposition": "auto",
         "type": "bar",
         "x": [
          "Hindus",
          "Muslims",
          "Buddhists",
          "Jains",
          "Christians"
         ],
         "xaxis": "x",
         "y": [
          2429446.303030303,
          312577.8787878788,
          176118.0909090909,
          25840.060606060608,
          21099.242424242424
         ],
         "yaxis": "y"
        }
       ],
       "layout": {
        "barmode": "relative",
        "legend": {
         "tracegroupgap": 0
        },
        "margin": {
         "t": 60
        },
        "template": {
         "data": {
          "bar": [
           {
            "error_x": {
             "color": "#2a3f5f"
            },
            "error_y": {
             "color": "#2a3f5f"
            },
            "marker": {
             "line": {
              "color": "#E5ECF6",
              "width": 0.5
             },
             "pattern": {
              "fillmode": "overlay",
              "size": 10,
              "solidity": 0.2
             }
            },
            "type": "bar"
           }
          ],
          "barpolar": [
           {
            "marker": {
             "line": {
              "color": "#E5ECF6",
              "width": 0.5
             },
             "pattern": {
              "fillmode": "overlay",
              "size": 10,
              "solidity": 0.2
             }
            },
            "type": "barpolar"
           }
          ],
          "carpet": [
           {
            "aaxis": {
             "endlinecolor": "#2a3f5f",
             "gridcolor": "white",
             "linecolor": "white",
             "minorgridcolor": "white",
             "startlinecolor": "#2a3f5f"
            },
            "baxis": {
             "endlinecolor": "#2a3f5f",
             "gridcolor": "white",
             "linecolor": "white",
             "minorgridcolor": "white",
             "startlinecolor": "#2a3f5f"
            },
            "type": "carpet"
           }
          ],
          "choropleth": [
           {
            "colorbar": {
             "outlinewidth": 0,
             "ticks": ""
            },
            "type": "choropleth"
           }
          ],
          "contour": [
           {
            "colorbar": {
             "outlinewidth": 0,
             "ticks": ""
            },
            "colorscale": [
             [
              0,
              "#0d0887"
             ],
             [
              0.1111111111111111,
              "#46039f"
             ],
             [
              0.2222222222222222,
              "#7201a8"
             ],
             [
              0.3333333333333333,
              "#9c179e"
             ],
             [
              0.4444444444444444,
              "#bd3786"
             ],
             [
              0.5555555555555556,
              "#d8576b"
             ],
             [
              0.6666666666666666,
              "#ed7953"
             ],
             [
              0.7777777777777778,
              "#fb9f3a"
             ],
             [
              0.8888888888888888,
              "#fdca26"
             ],
             [
              1,
              "#f0f921"
             ]
            ],
            "type": "contour"
           }
          ],
          "contourcarpet": [
           {
            "colorbar": {
             "outlinewidth": 0,
             "ticks": ""
            },
            "type": "contourcarpet"
           }
          ],
          "heatmap": [
           {
            "colorbar": {
             "outlinewidth": 0,
             "ticks": ""
            },
            "colorscale": [
             [
              0,
              "#0d0887"
             ],
             [
              0.1111111111111111,
              "#46039f"
             ],
             [
              0.2222222222222222,
              "#7201a8"
             ],
             [
              0.3333333333333333,
              "#9c179e"
             ],
             [
              0.4444444444444444,
              "#bd3786"
             ],
             [
              0.5555555555555556,
              "#d8576b"
             ],
             [
              0.6666666666666666,
              "#ed7953"
             ],
             [
              0.7777777777777778,
              "#fb9f3a"
             ],
             [
              0.8888888888888888,
              "#fdca26"
             ],
             [
              1,
              "#f0f921"
             ]
            ],
            "type": "heatmap"
           }
          ],
          "heatmapgl": [
           {
            "colorbar": {
             "outlinewidth": 0,
             "ticks": ""
            },
            "colorscale": [
             [
              0,
              "#0d0887"
             ],
             [
              0.1111111111111111,
              "#46039f"
             ],
             [
              0.2222222222222222,
              "#7201a8"
             ],
             [
              0.3333333333333333,
              "#9c179e"
             ],
             [
              0.4444444444444444,
              "#bd3786"
             ],
             [
              0.5555555555555556,
              "#d8576b"
             ],
             [
              0.6666666666666666,
              "#ed7953"
             ],
             [
              0.7777777777777778,
              "#fb9f3a"
             ],
             [
              0.8888888888888888,
              "#fdca26"
             ],
             [
              1,
              "#f0f921"
             ]
            ],
            "type": "heatmapgl"
           }
          ],
          "histogram": [
           {
            "marker": {
             "pattern": {
              "fillmode": "overlay",
              "size": 10,
              "solidity": 0.2
             }
            },
            "type": "histogram"
           }
          ],
          "histogram2d": [
           {
            "colorbar": {
             "outlinewidth": 0,
             "ticks": ""
            },
            "colorscale": [
             [
              0,
              "#0d0887"
             ],
             [
              0.1111111111111111,
              "#46039f"
             ],
             [
              0.2222222222222222,
              "#7201a8"
             ],
             [
              0.3333333333333333,
              "#9c179e"
             ],
             [
              0.4444444444444444,
              "#bd3786"
             ],
             [
              0.5555555555555556,
              "#d8576b"
             ],
             [
              0.6666666666666666,
              "#ed7953"
             ],
             [
              0.7777777777777778,
              "#fb9f3a"
             ],
             [
              0.8888888888888888,
              "#fdca26"
             ],
             [
              1,
              "#f0f921"
             ]
            ],
            "type": "histogram2d"
           }
          ],
          "histogram2dcontour": [
           {
            "colorbar": {
             "outlinewidth": 0,
             "ticks": ""
            },
            "colorscale": [
             [
              0,
              "#0d0887"
             ],
             [
              0.1111111111111111,
              "#46039f"
             ],
             [
              0.2222222222222222,
              "#7201a8"
             ],
             [
              0.3333333333333333,
              "#9c179e"
             ],
             [
              0.4444444444444444,
              "#bd3786"
             ],
             [
              0.5555555555555556,
              "#d8576b"
             ],
             [
              0.6666666666666666,
              "#ed7953"
             ],
             [
              0.7777777777777778,
              "#fb9f3a"
             ],
             [
              0.8888888888888888,
              "#fdca26"
             ],
             [
              1,
              "#f0f921"
             ]
            ],
            "type": "histogram2dcontour"
           }
          ],
          "mesh3d": [
           {
            "colorbar": {
             "outlinewidth": 0,
             "ticks": ""
            },
            "type": "mesh3d"
           }
          ],
          "parcoords": [
           {
            "line": {
             "colorbar": {
              "outlinewidth": 0,
              "ticks": ""
             }
            },
            "type": "parcoords"
           }
          ],
          "pie": [
           {
            "automargin": true,
            "type": "pie"
           }
          ],
          "scatter": [
           {
            "fillpattern": {
             "fillmode": "overlay",
             "size": 10,
             "solidity": 0.2
            },
            "type": "scatter"
           }
          ],
          "scatter3d": [
           {
            "line": {
             "colorbar": {
              "outlinewidth": 0,
              "ticks": ""
             }
            },
            "marker": {
             "colorbar": {
              "outlinewidth": 0,
              "ticks": ""
             }
            },
            "type": "scatter3d"
           }
          ],
          "scattercarpet": [
           {
            "marker": {
             "colorbar": {
              "outlinewidth": 0,
              "ticks": ""
             }
            },
            "type": "scattercarpet"
           }
          ],
          "scattergeo": [
           {
            "marker": {
             "colorbar": {
              "outlinewidth": 0,
              "ticks": ""
             }
            },
            "type": "scattergeo"
           }
          ],
          "scattergl": [
           {
            "marker": {
             "colorbar": {
              "outlinewidth": 0,
              "ticks": ""
             }
            },
            "type": "scattergl"
           }
          ],
          "scattermapbox": [
           {
            "marker": {
             "colorbar": {
              "outlinewidth": 0,
              "ticks": ""
             }
            },
            "type": "scattermapbox"
           }
          ],
          "scatterpolar": [
           {
            "marker": {
             "colorbar": {
              "outlinewidth": 0,
              "ticks": ""
             }
            },
            "type": "scatterpolar"
           }
          ],
          "scatterpolargl": [
           {
            "marker": {
             "colorbar": {
              "outlinewidth": 0,
              "ticks": ""
             }
            },
            "type": "scatterpolargl"
           }
          ],
          "scatterternary": [
           {
            "marker": {
             "colorbar": {
              "outlinewidth": 0,
              "ticks": ""
             }
            },
            "type": "scatterternary"
           }
          ],
          "surface": [
           {
            "colorbar": {
             "outlinewidth": 0,
             "ticks": ""
            },
            "colorscale": [
             [
              0,
              "#0d0887"
             ],
             [
              0.1111111111111111,
              "#46039f"
             ],
             [
              0.2222222222222222,
              "#7201a8"
             ],
             [
              0.3333333333333333,
              "#9c179e"
             ],
             [
              0.4444444444444444,
              "#bd3786"
             ],
             [
              0.5555555555555556,
              "#d8576b"
             ],
             [
              0.6666666666666666,
              "#ed7953"
             ],
             [
              0.7777777777777778,
              "#fb9f3a"
             ],
             [
              0.8888888888888888,
              "#fdca26"
             ],
             [
              1,
              "#f0f921"
             ]
            ],
            "type": "surface"
           }
          ],
          "table": [
           {
            "cells": {
             "fill": {
              "color": "#EBF0F8"
             },
             "line": {
              "color": "white"
             }
            },
            "header": {
             "fill": {
              "color": "#C8D4E3"
             },
             "line": {
              "color": "white"
             }
            },
            "type": "table"
           }
          ]
         },
         "layout": {
          "annotationdefaults": {
           "arrowcolor": "#2a3f5f",
           "arrowhead": 0,
           "arrowwidth": 1
          },
          "autotypenumbers": "strict",
          "coloraxis": {
           "colorbar": {
            "outlinewidth": 0,
            "ticks": ""
           }
          },
          "colorscale": {
           "diverging": [
            [
             0,
             "#8e0152"
            ],
            [
             0.1,
             "#c51b7d"
            ],
            [
             0.2,
             "#de77ae"
            ],
            [
             0.3,
             "#f1b6da"
            ],
            [
             0.4,
             "#fde0ef"
            ],
            [
             0.5,
             "#f7f7f7"
            ],
            [
             0.6,
             "#e6f5d0"
            ],
            [
             0.7,
             "#b8e186"
            ],
            [
             0.8,
             "#7fbc41"
            ],
            [
             0.9,
             "#4d9221"
            ],
            [
             1,
             "#276419"
            ]
           ],
           "sequential": [
            [
             0,
             "#0d0887"
            ],
            [
             0.1111111111111111,
             "#46039f"
            ],
            [
             0.2222222222222222,
             "#7201a8"
            ],
            [
             0.3333333333333333,
             "#9c179e"
            ],
            [
             0.4444444444444444,
             "#bd3786"
            ],
            [
             0.5555555555555556,
             "#d8576b"
            ],
            [
             0.6666666666666666,
             "#ed7953"
            ],
            [
             0.7777777777777778,
             "#fb9f3a"
            ],
            [
             0.8888888888888888,
             "#fdca26"
            ],
            [
             1,
             "#f0f921"
            ]
           ],
           "sequentialminus": [
            [
             0,
             "#0d0887"
            ],
            [
             0.1111111111111111,
             "#46039f"
            ],
            [
             0.2222222222222222,
             "#7201a8"
            ],
            [
             0.3333333333333333,
             "#9c179e"
            ],
            [
             0.4444444444444444,
             "#bd3786"
            ],
            [
             0.5555555555555556,
             "#d8576b"
            ],
            [
             0.6666666666666666,
             "#ed7953"
            ],
            [
             0.7777777777777778,
             "#fb9f3a"
            ],
            [
             0.8888888888888888,
             "#fdca26"
            ],
            [
             1,
             "#f0f921"
            ]
           ]
          },
          "colorway": [
           "#636efa",
           "#EF553B",
           "#00cc96",
           "#ab63fa",
           "#FFA15A",
           "#19d3f3",
           "#FF6692",
           "#B6E880",
           "#FF97FF",
           "#FECB52"
          ],
          "font": {
           "color": "#2a3f5f"
          },
          "geo": {
           "bgcolor": "white",
           "lakecolor": "white",
           "landcolor": "#E5ECF6",
           "showlakes": true,
           "showland": true,
           "subunitcolor": "white"
          },
          "hoverlabel": {
           "align": "left"
          },
          "hovermode": "closest",
          "mapbox": {
           "style": "light"
          },
          "paper_bgcolor": "white",
          "plot_bgcolor": "#E5ECF6",
          "polar": {
           "angularaxis": {
            "gridcolor": "white",
            "linecolor": "white",
            "ticks": ""
           },
           "bgcolor": "#E5ECF6",
           "radialaxis": {
            "gridcolor": "white",
            "linecolor": "white",
            "ticks": ""
           }
          },
          "scene": {
           "xaxis": {
            "backgroundcolor": "#E5ECF6",
            "gridcolor": "white",
            "gridwidth": 2,
            "linecolor": "white",
            "showbackground": true,
            "ticks": "",
            "zerolinecolor": "white"
           },
           "yaxis": {
            "backgroundcolor": "#E5ECF6",
            "gridcolor": "white",
            "gridwidth": 2,
            "linecolor": "white",
            "showbackground": true,
            "ticks": "",
            "zerolinecolor": "white"
           },
           "zaxis": {
            "backgroundcolor": "#E5ECF6",
            "gridcolor": "white",
            "gridwidth": 2,
            "linecolor": "white",
            "showbackground": true,
            "ticks": "",
            "zerolinecolor": "white"
           }
          },
          "shapedefaults": {
           "line": {
            "color": "#2a3f5f"
           }
          },
          "ternary": {
           "aaxis": {
            "gridcolor": "white",
            "linecolor": "white",
            "ticks": ""
           },
           "baxis": {
            "gridcolor": "white",
            "linecolor": "white",
            "ticks": ""
           },
           "bgcolor": "#E5ECF6",
           "caxis": {
            "gridcolor": "white",
            "linecolor": "white",
            "ticks": ""
           }
          },
          "title": {
           "x": 0.05
          },
          "xaxis": {
           "automargin": true,
           "gridcolor": "white",
           "linecolor": "white",
           "ticks": "",
           "title": {
            "standoff": 15
           },
           "zerolinecolor": "white",
           "zerolinewidth": 2
          },
          "yaxis": {
           "automargin": true,
           "gridcolor": "white",
           "linecolor": "white",
           "ticks": "",
           "title": {
            "standoff": 15
           },
           "zerolinecolor": "white",
           "zerolinewidth": 2
          }
         }
        },
        "xaxis": {
         "anchor": "y",
         "domain": [
          0,
          1
         ],
         "title": {
          "text": "Religions"
         }
        },
        "yaxis": {
         "anchor": "x",
         "domain": [
          0,
          1
         ],
         "title": {
          "text": "population"
         }
        }
       }
      }
     },
     "metadata": {},
     "output_type": "display_data"
    }
   ],
   "source": [
    "px.bar(temp1, x='Religions', y='population')"
   ]
  },
  {
   "cell_type": "code",
   "execution_count": 122,
   "metadata": {},
   "outputs": [
    {
     "data": {
      "text/html": [
       "<div>\n",
       "<style scoped>\n",
       "    .dataframe tbody tr th:only-of-type {\n",
       "        vertical-align: middle;\n",
       "    }\n",
       "\n",
       "    .dataframe tbody tr th {\n",
       "        vertical-align: top;\n",
       "    }\n",
       "\n",
       "    .dataframe thead th {\n",
       "        text-align: right;\n",
       "    }\n",
       "</style>\n",
       "<table border=\"1\" class=\"dataframe\">\n",
       "  <thead>\n",
       "    <tr style=\"text-align: right;\">\n",
       "      <th></th>\n",
       "      <th>State</th>\n",
       "      <th>level_1</th>\n",
       "      <th>0</th>\n",
       "    </tr>\n",
       "  </thead>\n",
       "  <tbody>\n",
       "    <tr>\n",
       "      <th>0</th>\n",
       "      <td>Assam</td>\n",
       "      <td>Male Population</td>\n",
       "      <td>629449.157895</td>\n",
       "    </tr>\n",
       "    <tr>\n",
       "      <th>1</th>\n",
       "      <td>Assam</td>\n",
       "      <td>Female population</td>\n",
       "      <td>602966.631579</td>\n",
       "    </tr>\n",
       "  </tbody>\n",
       "</table>\n",
       "</div>"
      ],
      "text/plain": [
       "   State            level_1              0\n",
       "0  Assam    Male Population  629449.157895\n",
       "1  Assam  Female population  602966.631579"
      ]
     },
     "execution_count": 122,
     "metadata": {},
     "output_type": "execute_result"
    }
   ],
   "source": [
    "temp_df[temp_df['State'] == 'Assam'].groupby('State')[['Male Population','Female population']].mean().stack().reset_index()"
   ]
  },
  {
   "cell_type": "code",
   "execution_count": 127,
   "metadata": {},
   "outputs": [
    {
     "data": {
      "text/html": [
       "<div>\n",
       "<style scoped>\n",
       "    .dataframe tbody tr th:only-of-type {\n",
       "        vertical-align: middle;\n",
       "    }\n",
       "\n",
       "    .dataframe tbody tr th {\n",
       "        vertical-align: top;\n",
       "    }\n",
       "\n",
       "    .dataframe thead th {\n",
       "        text-align: right;\n",
       "    }\n",
       "</style>\n",
       "<table border=\"1\" class=\"dataframe\">\n",
       "  <thead>\n",
       "    <tr style=\"text-align: right;\">\n",
       "      <th></th>\n",
       "      <th>State</th>\n",
       "      <th>District</th>\n",
       "      <th>Latitude</th>\n",
       "      <th>Longitude</th>\n",
       "      <th>Population</th>\n",
       "      <th>Male Population</th>\n",
       "      <th>Female population</th>\n",
       "      <th>Literate</th>\n",
       "      <th>Male Literate</th>\n",
       "      <th>Female Literate</th>\n",
       "      <th>SC</th>\n",
       "      <th>Male SC</th>\n",
       "      <th>Female SC</th>\n",
       "      <th>ST</th>\n",
       "      <th>Male ST</th>\n",
       "      <th>Female ST</th>\n",
       "      <th>Workers</th>\n",
       "      <th>Male Workers</th>\n",
       "      <th>Female Workers</th>\n",
       "      <th>Non Workers</th>\n",
       "      <th>Agricultural Workers</th>\n",
       "      <th>Other Workers</th>\n",
       "      <th>Hindus</th>\n",
       "      <th>Muslims</th>\n",
       "      <th>Christians</th>\n",
       "      <th>Sikhs</th>\n",
       "      <th>Buddhists</th>\n",
       "      <th>Jains</th>\n",
       "      <th>Others Religions</th>\n",
       "      <th>LPG PNG Households</th>\n",
       "      <th>Housholds with Electricity</th>\n",
       "      <th>Households with Internet</th>\n",
       "      <th>Households with Computer</th>\n",
       "      <th>Below Primary Education</th>\n",
       "      <th>Primary Education</th>\n",
       "      <th>Secondary Education</th>\n",
       "      <th>Graduate Education</th>\n",
       "      <th>Other Education</th>\n",
       "      <th>Age 0-29</th>\n",
       "      <th>Age 30-49</th>\n",
       "      <th>Above 50</th>\n",
       "      <th>Households with Television</th>\n",
       "      <th>Households with Telephone Mobile Phone</th>\n",
       "      <th>Sex Ratio</th>\n",
       "      <th>Literacy Rate</th>\n",
       "      <th>Male Unliterate</th>\n",
       "      <th>Female Unliterate</th>\n",
       "    </tr>\n",
       "  </thead>\n",
       "  <tbody>\n",
       "    <tr>\n",
       "      <th>0</th>\n",
       "      <td>Andhra Pradesh</td>\n",
       "      <td>Adilabad</td>\n",
       "      <td>19.284514</td>\n",
       "      <td>78.813212</td>\n",
       "      <td>2741239</td>\n",
       "      <td>1369597</td>\n",
       "      <td>1371642</td>\n",
       "      <td>1483347</td>\n",
       "      <td>856350</td>\n",
       "      <td>626997</td>\n",
       "      <td>488596</td>\n",
       "      <td>242844</td>\n",
       "      <td>245752</td>\n",
       "      <td>495794</td>\n",
       "      <td>247472</td>\n",
       "      <td>248322</td>\n",
       "      <td>1323667</td>\n",
       "      <td>748939</td>\n",
       "      <td>574728</td>\n",
       "      <td>1417572</td>\n",
       "      <td>484912</td>\n",
       "      <td>390357</td>\n",
       "      <td>2399901</td>\n",
       "      <td>275970</td>\n",
       "      <td>15422</td>\n",
       "      <td>1377</td>\n",
       "      <td>25510</td>\n",
       "      <td>617</td>\n",
       "      <td>322</td>\n",
       "      <td>194954</td>\n",
       "      <td>566108</td>\n",
       "      <td>5512</td>\n",
       "      <td>45202</td>\n",
       "      <td>232470</td>\n",
       "      <td>344167</td>\n",
       "      <td>225957</td>\n",
       "      <td>100226</td>\n",
       "      <td>19277</td>\n",
       "      <td>1536378</td>\n",
       "      <td>704551</td>\n",
       "      <td>422522</td>\n",
       "      <td>306433</td>\n",
       "      <td>403530</td>\n",
       "      <td>100.0</td>\n",
       "      <td>54.0</td>\n",
       "      <td>513247</td>\n",
       "      <td>744645</td>\n",
       "    </tr>\n",
       "    <tr>\n",
       "      <th>1</th>\n",
       "      <td>Andhra Pradesh</td>\n",
       "      <td>Anantapur</td>\n",
       "      <td>14.312066</td>\n",
       "      <td>77.460158</td>\n",
       "      <td>4081148</td>\n",
       "      <td>2064495</td>\n",
       "      <td>2016653</td>\n",
       "      <td>2310960</td>\n",
       "      <td>1338474</td>\n",
       "      <td>972486</td>\n",
       "      <td>583135</td>\n",
       "      <td>292379</td>\n",
       "      <td>290756</td>\n",
       "      <td>154127</td>\n",
       "      <td>78573</td>\n",
       "      <td>75554</td>\n",
       "      <td>2036166</td>\n",
       "      <td>1208544</td>\n",
       "      <td>827622</td>\n",
       "      <td>2044982</td>\n",
       "      <td>879537</td>\n",
       "      <td>638033</td>\n",
       "      <td>3599372</td>\n",
       "      <td>443456</td>\n",
       "      <td>20463</td>\n",
       "      <td>932</td>\n",
       "      <td>341</td>\n",
       "      <td>1417</td>\n",
       "      <td>309</td>\n",
       "      <td>223016</td>\n",
       "      <td>897970</td>\n",
       "      <td>8606</td>\n",
       "      <td>48299</td>\n",
       "      <td>462273</td>\n",
       "      <td>720357</td>\n",
       "      <td>331793</td>\n",
       "      <td>144915</td>\n",
       "      <td>23341</td>\n",
       "      <td>2189396</td>\n",
       "      <td>1104565</td>\n",
       "      <td>739612</td>\n",
       "      <td>559461</td>\n",
       "      <td>581087</td>\n",
       "      <td>98.0</td>\n",
       "      <td>57.0</td>\n",
       "      <td>726021</td>\n",
       "      <td>1044167</td>\n",
       "    </tr>\n",
       "    <tr>\n",
       "      <th>2</th>\n",
       "      <td>Andhra Pradesh</td>\n",
       "      <td>Chittoor</td>\n",
       "      <td>13.331093</td>\n",
       "      <td>78.927639</td>\n",
       "      <td>4174064</td>\n",
       "      <td>2090204</td>\n",
       "      <td>2083860</td>\n",
       "      <td>2667878</td>\n",
       "      <td>1484794</td>\n",
       "      <td>1183084</td>\n",
       "      <td>785760</td>\n",
       "      <td>389582</td>\n",
       "      <td>396178</td>\n",
       "      <td>159165</td>\n",
       "      <td>79756</td>\n",
       "      <td>79409</td>\n",
       "      <td>1933357</td>\n",
       "      <td>1202223</td>\n",
       "      <td>731134</td>\n",
       "      <td>2240707</td>\n",
       "      <td>748093</td>\n",
       "      <td>693451</td>\n",
       "      <td>3737588</td>\n",
       "      <td>397870</td>\n",
       "      <td>24129</td>\n",
       "      <td>867</td>\n",
       "      <td>253</td>\n",
       "      <td>1322</td>\n",
       "      <td>358</td>\n",
       "      <td>324406</td>\n",
       "      <td>944555</td>\n",
       "      <td>13763</td>\n",
       "      <td>67087</td>\n",
       "      <td>522961</td>\n",
       "      <td>770836</td>\n",
       "      <td>548336</td>\n",
       "      <td>246409</td>\n",
       "      <td>36017</td>\n",
       "      <td>2148179</td>\n",
       "      <td>1159053</td>\n",
       "      <td>807430</td>\n",
       "      <td>611465</td>\n",
       "      <td>632803</td>\n",
       "      <td>100.0</td>\n",
       "      <td>64.0</td>\n",
       "      <td>605410</td>\n",
       "      <td>900776</td>\n",
       "    </tr>\n",
       "    <tr>\n",
       "      <th>3</th>\n",
       "      <td>Andhra Pradesh</td>\n",
       "      <td>East Godavari</td>\n",
       "      <td>16.782718</td>\n",
       "      <td>82.243207</td>\n",
       "      <td>5154296</td>\n",
       "      <td>2569688</td>\n",
       "      <td>2584608</td>\n",
       "      <td>3288577</td>\n",
       "      <td>1716933</td>\n",
       "      <td>1571644</td>\n",
       "      <td>945269</td>\n",
       "      <td>468883</td>\n",
       "      <td>476386</td>\n",
       "      <td>213195</td>\n",
       "      <td>104422</td>\n",
       "      <td>108773</td>\n",
       "      <td>2093681</td>\n",
       "      <td>1545831</td>\n",
       "      <td>547850</td>\n",
       "      <td>3060615</td>\n",
       "      <td>1122046</td>\n",
       "      <td>753375</td>\n",
       "      <td>4983330</td>\n",
       "      <td>77777</td>\n",
       "      <td>77825</td>\n",
       "      <td>738</td>\n",
       "      <td>413</td>\n",
       "      <td>4149</td>\n",
       "      <td>403</td>\n",
       "      <td>479914</td>\n",
       "      <td>1297273</td>\n",
       "      <td>22411</td>\n",
       "      <td>93784</td>\n",
       "      <td>669420</td>\n",
       "      <td>947606</td>\n",
       "      <td>521562</td>\n",
       "      <td>263023</td>\n",
       "      <td>47702</td>\n",
       "      <td>2724328</td>\n",
       "      <td>1478954</td>\n",
       "      <td>948122</td>\n",
       "      <td>821421</td>\n",
       "      <td>732492</td>\n",
       "      <td>101.0</td>\n",
       "      <td>64.0</td>\n",
       "      <td>852755</td>\n",
       "      <td>1012964</td>\n",
       "    </tr>\n",
       "    <tr>\n",
       "      <th>4</th>\n",
       "      <td>Andhra Pradesh</td>\n",
       "      <td>Guntur</td>\n",
       "      <td>15.884926</td>\n",
       "      <td>80.586576</td>\n",
       "      <td>4887813</td>\n",
       "      <td>2440521</td>\n",
       "      <td>2447292</td>\n",
       "      <td>2960441</td>\n",
       "      <td>1634726</td>\n",
       "      <td>1325715</td>\n",
       "      <td>957407</td>\n",
       "      <td>476333</td>\n",
       "      <td>481074</td>\n",
       "      <td>247089</td>\n",
       "      <td>125105</td>\n",
       "      <td>121984</td>\n",
       "      <td>2381624</td>\n",
       "      <td>1442370</td>\n",
       "      <td>939254</td>\n",
       "      <td>2506189</td>\n",
       "      <td>1227956</td>\n",
       "      <td>803891</td>\n",
       "      <td>4217597</td>\n",
       "      <td>559770</td>\n",
       "      <td>89763</td>\n",
       "      <td>764</td>\n",
       "      <td>323</td>\n",
       "      <td>3282</td>\n",
       "      <td>332</td>\n",
       "      <td>648568</td>\n",
       "      <td>1186028</td>\n",
       "      <td>19383</td>\n",
       "      <td>80434</td>\n",
       "      <td>736270</td>\n",
       "      <td>845810</td>\n",
       "      <td>453446</td>\n",
       "      <td>221924</td>\n",
       "      <td>30279</td>\n",
       "      <td>2583462</td>\n",
       "      <td>1371811</td>\n",
       "      <td>928462</td>\n",
       "      <td>816849</td>\n",
       "      <td>733133</td>\n",
       "      <td>100.0</td>\n",
       "      <td>61.0</td>\n",
       "      <td>805795</td>\n",
       "      <td>1121577</td>\n",
       "    </tr>\n",
       "  </tbody>\n",
       "</table>\n",
       "</div>"
      ],
      "text/plain": [
       "            State       District   Latitude  Longitude  Population  \\\n",
       "0  Andhra Pradesh       Adilabad  19.284514  78.813212     2741239   \n",
       "1  Andhra Pradesh      Anantapur  14.312066  77.460158     4081148   \n",
       "2  Andhra Pradesh       Chittoor  13.331093  78.927639     4174064   \n",
       "3  Andhra Pradesh  East Godavari  16.782718  82.243207     5154296   \n",
       "4  Andhra Pradesh         Guntur  15.884926  80.586576     4887813   \n",
       "\n",
       "   Male Population  Female population  Literate  Male Literate  \\\n",
       "0          1369597            1371642   1483347         856350   \n",
       "1          2064495            2016653   2310960        1338474   \n",
       "2          2090204            2083860   2667878        1484794   \n",
       "3          2569688            2584608   3288577        1716933   \n",
       "4          2440521            2447292   2960441        1634726   \n",
       "\n",
       "   Female Literate      SC  Male SC  Female SC      ST  Male ST  Female ST  \\\n",
       "0           626997  488596   242844     245752  495794   247472     248322   \n",
       "1           972486  583135   292379     290756  154127    78573      75554   \n",
       "2          1183084  785760   389582     396178  159165    79756      79409   \n",
       "3          1571644  945269   468883     476386  213195   104422     108773   \n",
       "4          1325715  957407   476333     481074  247089   125105     121984   \n",
       "\n",
       "   Workers  Male Workers  Female Workers  Non Workers  Agricultural Workers  \\\n",
       "0  1323667        748939          574728      1417572                484912   \n",
       "1  2036166       1208544          827622      2044982                879537   \n",
       "2  1933357       1202223          731134      2240707                748093   \n",
       "3  2093681       1545831          547850      3060615               1122046   \n",
       "4  2381624       1442370          939254      2506189               1227956   \n",
       "\n",
       "   Other Workers   Hindus  Muslims  Christians  Sikhs  Buddhists  Jains  \\\n",
       "0         390357  2399901   275970       15422   1377      25510    617   \n",
       "1         638033  3599372   443456       20463    932        341   1417   \n",
       "2         693451  3737588   397870       24129    867        253   1322   \n",
       "3         753375  4983330    77777       77825    738        413   4149   \n",
       "4         803891  4217597   559770       89763    764        323   3282   \n",
       "\n",
       "   Others Religions  LPG PNG Households  Housholds with Electricity  \\\n",
       "0               322              194954                      566108   \n",
       "1               309              223016                      897970   \n",
       "2               358              324406                      944555   \n",
       "3               403              479914                     1297273   \n",
       "4               332              648568                     1186028   \n",
       "\n",
       "   Households with Internet  Households with Computer  \\\n",
       "0                      5512                     45202   \n",
       "1                      8606                     48299   \n",
       "2                     13763                     67087   \n",
       "3                     22411                     93784   \n",
       "4                     19383                     80434   \n",
       "\n",
       "   Below Primary Education  Primary Education  Secondary Education  \\\n",
       "0                   232470             344167               225957   \n",
       "1                   462273             720357               331793   \n",
       "2                   522961             770836               548336   \n",
       "3                   669420             947606               521562   \n",
       "4                   736270             845810               453446   \n",
       "\n",
       "   Graduate Education  Other Education  Age 0-29  Age 30-49  Above 50  \\\n",
       "0              100226            19277   1536378     704551    422522   \n",
       "1              144915            23341   2189396    1104565    739612   \n",
       "2              246409            36017   2148179    1159053    807430   \n",
       "3              263023            47702   2724328    1478954    948122   \n",
       "4              221924            30279   2583462    1371811    928462   \n",
       "\n",
       "   Households with Television  Households with Telephone Mobile Phone  \\\n",
       "0                      306433                                  403530   \n",
       "1                      559461                                  581087   \n",
       "2                      611465                                  632803   \n",
       "3                      821421                                  732492   \n",
       "4                      816849                                  733133   \n",
       "\n",
       "   Sex Ratio  Literacy Rate  Male Unliterate  Female Unliterate  \n",
       "0      100.0           54.0           513247             744645  \n",
       "1       98.0           57.0           726021            1044167  \n",
       "2      100.0           64.0           605410             900776  \n",
       "3      101.0           64.0           852755            1012964  \n",
       "4      100.0           61.0           805795            1121577  "
      ]
     },
     "execution_count": 127,
     "metadata": {},
     "output_type": "execute_result"
    }
   ],
   "source": [
    "temp_df.head()"
   ]
  },
  {
   "cell_type": "code",
   "execution_count": 135,
   "metadata": {},
   "outputs": [
    {
     "data": {
      "application/vnd.plotly.v1+json": {
       "config": {
        "plotlyServerURL": "https://plot.ly"
       },
       "data": [
        {
         "hovertemplate": "District=Barpeta<br>Population=%{x}<br>Literacy Rate=%{y}<br>Male Literate=%{marker.size}<extra></extra>",
         "legendgroup": "Barpeta",
         "marker": {
          "color": "#636efa",
          "size": [
           499038
          ],
          "sizemode": "area",
          "sizeref": 2304.625,
          "symbol": "circle"
         },
         "mode": "markers",
         "name": "Barpeta",
         "orientation": "v",
         "showlegend": true,
         "type": "scatter",
         "x": [
          1693622
         ],
         "xaxis": "x",
         "y": [
          53
         ],
         "yaxis": "y"
        },
        {
         "hovertemplate": "District=Bongaigaon<br>Population=%{x}<br>Literacy Rate=%{y}<br>Male Literate=%{marker.size}<extra></extra>",
         "legendgroup": "Bongaigaon",
         "marker": {
          "color": "#EF553B",
          "size": [
           237114
          ],
          "sizemode": "area",
          "sizeref": 2304.625,
          "symbol": "circle"
         },
         "mode": "markers",
         "name": "Bongaigaon",
         "orientation": "v",
         "showlegend": true,
         "type": "scatter",
         "x": [
          738804
         ],
         "xaxis": "x",
         "y": [
          59
         ],
         "yaxis": "y"
        },
        {
         "hovertemplate": "District=Cachar<br>Population=%{x}<br>Literacy Rate=%{y}<br>Male Literate=%{marker.size}<extra></extra>",
         "legendgroup": "Cachar",
         "marker": {
          "color": "#00cc96",
          "size": [
           639946
          ],
          "sizemode": "area",
          "sizeref": 2304.625,
          "symbol": "circle"
         },
         "mode": "markers",
         "name": "Cachar",
         "orientation": "v",
         "showlegend": true,
         "type": "scatter",
         "x": [
          1736617
         ],
         "xaxis": "x",
         "y": [
          68
         ],
         "yaxis": "y"
        },
        {
         "hovertemplate": "District=Darrang<br>Population=%{x}<br>Literacy Rate=%{y}<br>Male Literate=%{marker.size}<extra></extra>",
         "legendgroup": "Darrang",
         "marker": {
          "color": "#ab63fa",
          "size": [
           268666
          ],
          "sizemode": "area",
          "sizeref": 2304.625,
          "symbol": "circle"
         },
         "mode": "markers",
         "name": "Darrang",
         "orientation": "v",
         "showlegend": true,
         "type": "scatter",
         "x": [
          928500
         ],
         "xaxis": "x",
         "y": [
          52
         ],
         "yaxis": "y"
        },
        {
         "hovertemplate": "District=Dhemaji<br>Population=%{x}<br>Literacy Rate=%{y}<br>Male Literate=%{marker.size}<extra></extra>",
         "legendgroup": "Dhemaji",
         "marker": {
          "color": "#FFA15A",
          "size": [
           237761
          ],
          "sizemode": "area",
          "sizeref": 2304.625,
          "symbol": "circle"
         },
         "mode": "markers",
         "name": "Dhemaji",
         "orientation": "v",
         "showlegend": true,
         "type": "scatter",
         "x": [
          686133
         ],
         "xaxis": "x",
         "y": [
          62
         ],
         "yaxis": "y"
        },
        {
         "hovertemplate": "District=Dibrugarh<br>Population=%{x}<br>Literacy Rate=%{y}<br>Male Literate=%{marker.size}<extra></extra>",
         "legendgroup": "Dibrugarh",
         "marker": {
          "color": "#19d3f3",
          "size": [
           491361
          ],
          "sizemode": "area",
          "sizeref": 2304.625,
          "symbol": "circle"
         },
         "mode": "markers",
         "name": "Dibrugarh",
         "orientation": "v",
         "showlegend": true,
         "type": "scatter",
         "x": [
          1326335
         ],
         "xaxis": "x",
         "y": [
          67
         ],
         "yaxis": "y"
        },
        {
         "hovertemplate": "District=Goalpara<br>Population=%{x}<br>Literacy Rate=%{y}<br>Male Literate=%{marker.size}<extra></extra>",
         "legendgroup": "Goalpara",
         "marker": {
          "color": "#FF6692",
          "size": [
           304302
          ],
          "sizemode": "area",
          "sizeref": 2304.625,
          "symbol": "circle"
         },
         "mode": "markers",
         "name": "Goalpara",
         "orientation": "v",
         "showlegend": true,
         "type": "scatter",
         "x": [
          1008183
         ],
         "xaxis": "x",
         "y": [
          56
         ],
         "yaxis": "y"
        },
        {
         "hovertemplate": "District=Golaghat<br>Population=%{x}<br>Literacy Rate=%{y}<br>Male Literate=%{marker.size}<extra></extra>",
         "legendgroup": "Golaghat",
         "marker": {
          "color": "#B6E880",
          "size": [
           396475
          ],
          "sizemode": "area",
          "sizeref": 2304.625,
          "symbol": "circle"
         },
         "mode": "markers",
         "name": "Golaghat",
         "orientation": "v",
         "showlegend": true,
         "type": "scatter",
         "x": [
          1066888
         ],
         "xaxis": "x",
         "y": [
          68
         ],
         "yaxis": "y"
        },
        {
         "hovertemplate": "District=Hailakandi<br>Population=%{x}<br>Literacy Rate=%{y}<br>Male Literate=%{marker.size}<extra></extra>",
         "legendgroup": "Hailakandi",
         "marker": {
          "color": "#FF97FF",
          "size": [
           226836
          ],
          "sizemode": "area",
          "sizeref": 2304.625,
          "symbol": "circle"
         },
         "mode": "markers",
         "name": "Hailakandi",
         "orientation": "v",
         "showlegend": true,
         "type": "scatter",
         "x": [
          659296
         ],
         "xaxis": "x",
         "y": [
          62
         ],
         "yaxis": "y"
        },
        {
         "hovertemplate": "District=Jorhat<br>Population=%{x}<br>Literacy Rate=%{y}<br>Male Literate=%{marker.size}<extra></extra>",
         "legendgroup": "Jorhat",
         "marker": {
          "color": "#FECB52",
          "size": [
           432335
          ],
          "sizemode": "area",
          "sizeref": 2304.625,
          "symbol": "circle"
         },
         "mode": "markers",
         "name": "Jorhat",
         "orientation": "v",
         "showlegend": true,
         "type": "scatter",
         "x": [
          1092256
         ],
         "xaxis": "x",
         "y": [
          73
         ],
         "yaxis": "y"
        },
        {
         "hovertemplate": "District=Kamrup<br>Population=%{x}<br>Literacy Rate=%{y}<br>Male Literate=%{marker.size}<extra></extra>",
         "legendgroup": "Kamrup",
         "marker": {
          "color": "#636efa",
          "size": [
           550219
          ],
          "sizemode": "area",
          "sizeref": 2304.625,
          "symbol": "circle"
         },
         "mode": "markers",
         "name": "Kamrup",
         "orientation": "v",
         "showlegend": true,
         "type": "scatter",
         "x": [
          1517542
         ],
         "xaxis": "x",
         "y": [
          66
         ],
         "yaxis": "y"
        },
        {
         "hovertemplate": "District=Karbi Anglong<br>Population=%{x}<br>Literacy Rate=%{y}<br>Male Literate=%{marker.size}<extra></extra>",
         "legendgroup": "Karbi Anglong",
         "marker": {
          "color": "#EF553B",
          "size": [
           314253
          ],
          "sizemode": "area",
          "sizeref": 2304.625,
          "symbol": "circle"
         },
         "mode": "markers",
         "name": "Karbi Anglong",
         "orientation": "v",
         "showlegend": true,
         "type": "scatter",
         "x": [
          956313
         ],
         "xaxis": "x",
         "y": [
          58
         ],
         "yaxis": "y"
        },
        {
         "hovertemplate": "District=Karimganj<br>Population=%{x}<br>Literacy Rate=%{y}<br>Male Literate=%{marker.size}<extra></extra>",
         "legendgroup": "Karimganj",
         "marker": {
          "color": "#00cc96",
          "size": [
           435942
          ],
          "sizemode": "area",
          "sizeref": 2304.625,
          "symbol": "circle"
         },
         "mode": "markers",
         "name": "Karimganj",
         "orientation": "v",
         "showlegend": true,
         "type": "scatter",
         "x": [
          1228686
         ],
         "xaxis": "x",
         "y": [
          65
         ],
         "yaxis": "y"
        },
        {
         "hovertemplate": "District=Kokrajhar<br>Population=%{x}<br>Literacy Rate=%{y}<br>Male Literate=%{marker.size}<extra></extra>",
         "legendgroup": "Kokrajhar",
         "marker": {
          "color": "#ab63fa",
          "size": [
           275220
          ],
          "sizemode": "area",
          "sizeref": 2304.625,
          "symbol": "circle"
         },
         "mode": "markers",
         "name": "Kokrajhar",
         "orientation": "v",
         "showlegend": true,
         "type": "scatter",
         "x": [
          887142
         ],
         "xaxis": "x",
         "y": [
          55
         ],
         "yaxis": "y"
        },
        {
         "hovertemplate": "District=Lakhimpur<br>Population=%{x}<br>Literacy Rate=%{y}<br>Male Literate=%{marker.size}<extra></extra>",
         "legendgroup": "Lakhimpur",
         "marker": {
          "color": "#FFA15A",
          "size": [
           375552
          ],
          "sizemode": "area",
          "sizeref": 2304.625,
          "symbol": "circle"
         },
         "mode": "markers",
         "name": "Lakhimpur",
         "orientation": "v",
         "showlegend": true,
         "type": "scatter",
         "x": [
          1042137
         ],
         "xaxis": "x",
         "y": [
          66
         ],
         "yaxis": "y"
        },
        {
         "hovertemplate": "District=Nagaon<br>Population=%{x}<br>Literacy Rate=%{y}<br>Male Literate=%{marker.size}<extra></extra>",
         "legendgroup": "Nagaon",
         "marker": {
          "color": "#19d3f3",
          "size": [
           921850
          ],
          "sizemode": "area",
          "sizeref": 2304.625,
          "symbol": "circle"
         },
         "mode": "markers",
         "name": "Nagaon",
         "orientation": "v",
         "showlegend": true,
         "type": "scatter",
         "x": [
          2823768
         ],
         "xaxis": "x",
         "y": [
          61
         ],
         "yaxis": "y"
        },
        {
         "hovertemplate": "District=Nalbari<br>Population=%{x}<br>Literacy Rate=%{y}<br>Male Literate=%{marker.size}<extra></extra>",
         "legendgroup": "Nalbari",
         "marker": {
          "color": "#FF6692",
          "size": [
           293184
          ],
          "sizemode": "area",
          "sizeref": 2304.625,
          "symbol": "circle"
         },
         "mode": "markers",
         "name": "Nalbari",
         "orientation": "v",
         "showlegend": true,
         "type": "scatter",
         "x": [
          771639
         ],
         "xaxis": "x",
         "y": [
          69
         ],
         "yaxis": "y"
        },
        {
         "hovertemplate": "District=Sonitpur<br>Population=%{x}<br>Literacy Rate=%{y}<br>Male Literate=%{marker.size}<extra></extra>",
         "legendgroup": "Sonitpur",
         "marker": {
          "color": "#B6E880",
          "size": [
           620525
          ],
          "sizemode": "area",
          "sizeref": 2304.625,
          "symbol": "circle"
         },
         "mode": "markers",
         "name": "Sonitpur",
         "orientation": "v",
         "showlegend": true,
         "type": "scatter",
         "x": [
          1924110
         ],
         "xaxis": "x",
         "y": [
          58
         ],
         "yaxis": "y"
        },
        {
         "hovertemplate": "District=Tinsukia<br>Population=%{x}<br>Literacy Rate=%{y}<br>Male Literate=%{marker.size}<extra></extra>",
         "legendgroup": "Tinsukia",
         "marker": {
          "color": "#FF97FF",
          "size": [
           453449
          ],
          "sizemode": "area",
          "sizeref": 2304.625,
          "symbol": "circle"
         },
         "mode": "markers",
         "name": "Tinsukia",
         "orientation": "v",
         "showlegend": true,
         "type": "scatter",
         "x": [
          1327929
         ],
         "xaxis": "x",
         "y": [
          60
         ],
         "yaxis": "y"
        }
       ],
       "layout": {
        "legend": {
         "itemsizing": "constant",
         "title": {
          "text": "District"
         },
         "tracegroupgap": 0
        },
        "margin": {
         "t": 60
        },
        "template": {
         "data": {
          "bar": [
           {
            "error_x": {
             "color": "#2a3f5f"
            },
            "error_y": {
             "color": "#2a3f5f"
            },
            "marker": {
             "line": {
              "color": "#E5ECF6",
              "width": 0.5
             },
             "pattern": {
              "fillmode": "overlay",
              "size": 10,
              "solidity": 0.2
             }
            },
            "type": "bar"
           }
          ],
          "barpolar": [
           {
            "marker": {
             "line": {
              "color": "#E5ECF6",
              "width": 0.5
             },
             "pattern": {
              "fillmode": "overlay",
              "size": 10,
              "solidity": 0.2
             }
            },
            "type": "barpolar"
           }
          ],
          "carpet": [
           {
            "aaxis": {
             "endlinecolor": "#2a3f5f",
             "gridcolor": "white",
             "linecolor": "white",
             "minorgridcolor": "white",
             "startlinecolor": "#2a3f5f"
            },
            "baxis": {
             "endlinecolor": "#2a3f5f",
             "gridcolor": "white",
             "linecolor": "white",
             "minorgridcolor": "white",
             "startlinecolor": "#2a3f5f"
            },
            "type": "carpet"
           }
          ],
          "choropleth": [
           {
            "colorbar": {
             "outlinewidth": 0,
             "ticks": ""
            },
            "type": "choropleth"
           }
          ],
          "contour": [
           {
            "colorbar": {
             "outlinewidth": 0,
             "ticks": ""
            },
            "colorscale": [
             [
              0,
              "#0d0887"
             ],
             [
              0.1111111111111111,
              "#46039f"
             ],
             [
              0.2222222222222222,
              "#7201a8"
             ],
             [
              0.3333333333333333,
              "#9c179e"
             ],
             [
              0.4444444444444444,
              "#bd3786"
             ],
             [
              0.5555555555555556,
              "#d8576b"
             ],
             [
              0.6666666666666666,
              "#ed7953"
             ],
             [
              0.7777777777777778,
              "#fb9f3a"
             ],
             [
              0.8888888888888888,
              "#fdca26"
             ],
             [
              1,
              "#f0f921"
             ]
            ],
            "type": "contour"
           }
          ],
          "contourcarpet": [
           {
            "colorbar": {
             "outlinewidth": 0,
             "ticks": ""
            },
            "type": "contourcarpet"
           }
          ],
          "heatmap": [
           {
            "colorbar": {
             "outlinewidth": 0,
             "ticks": ""
            },
            "colorscale": [
             [
              0,
              "#0d0887"
             ],
             [
              0.1111111111111111,
              "#46039f"
             ],
             [
              0.2222222222222222,
              "#7201a8"
             ],
             [
              0.3333333333333333,
              "#9c179e"
             ],
             [
              0.4444444444444444,
              "#bd3786"
             ],
             [
              0.5555555555555556,
              "#d8576b"
             ],
             [
              0.6666666666666666,
              "#ed7953"
             ],
             [
              0.7777777777777778,
              "#fb9f3a"
             ],
             [
              0.8888888888888888,
              "#fdca26"
             ],
             [
              1,
              "#f0f921"
             ]
            ],
            "type": "heatmap"
           }
          ],
          "heatmapgl": [
           {
            "colorbar": {
             "outlinewidth": 0,
             "ticks": ""
            },
            "colorscale": [
             [
              0,
              "#0d0887"
             ],
             [
              0.1111111111111111,
              "#46039f"
             ],
             [
              0.2222222222222222,
              "#7201a8"
             ],
             [
              0.3333333333333333,
              "#9c179e"
             ],
             [
              0.4444444444444444,
              "#bd3786"
             ],
             [
              0.5555555555555556,
              "#d8576b"
             ],
             [
              0.6666666666666666,
              "#ed7953"
             ],
             [
              0.7777777777777778,
              "#fb9f3a"
             ],
             [
              0.8888888888888888,
              "#fdca26"
             ],
             [
              1,
              "#f0f921"
             ]
            ],
            "type": "heatmapgl"
           }
          ],
          "histogram": [
           {
            "marker": {
             "pattern": {
              "fillmode": "overlay",
              "size": 10,
              "solidity": 0.2
             }
            },
            "type": "histogram"
           }
          ],
          "histogram2d": [
           {
            "colorbar": {
             "outlinewidth": 0,
             "ticks": ""
            },
            "colorscale": [
             [
              0,
              "#0d0887"
             ],
             [
              0.1111111111111111,
              "#46039f"
             ],
             [
              0.2222222222222222,
              "#7201a8"
             ],
             [
              0.3333333333333333,
              "#9c179e"
             ],
             [
              0.4444444444444444,
              "#bd3786"
             ],
             [
              0.5555555555555556,
              "#d8576b"
             ],
             [
              0.6666666666666666,
              "#ed7953"
             ],
             [
              0.7777777777777778,
              "#fb9f3a"
             ],
             [
              0.8888888888888888,
              "#fdca26"
             ],
             [
              1,
              "#f0f921"
             ]
            ],
            "type": "histogram2d"
           }
          ],
          "histogram2dcontour": [
           {
            "colorbar": {
             "outlinewidth": 0,
             "ticks": ""
            },
            "colorscale": [
             [
              0,
              "#0d0887"
             ],
             [
              0.1111111111111111,
              "#46039f"
             ],
             [
              0.2222222222222222,
              "#7201a8"
             ],
             [
              0.3333333333333333,
              "#9c179e"
             ],
             [
              0.4444444444444444,
              "#bd3786"
             ],
             [
              0.5555555555555556,
              "#d8576b"
             ],
             [
              0.6666666666666666,
              "#ed7953"
             ],
             [
              0.7777777777777778,
              "#fb9f3a"
             ],
             [
              0.8888888888888888,
              "#fdca26"
             ],
             [
              1,
              "#f0f921"
             ]
            ],
            "type": "histogram2dcontour"
           }
          ],
          "mesh3d": [
           {
            "colorbar": {
             "outlinewidth": 0,
             "ticks": ""
            },
            "type": "mesh3d"
           }
          ],
          "parcoords": [
           {
            "line": {
             "colorbar": {
              "outlinewidth": 0,
              "ticks": ""
             }
            },
            "type": "parcoords"
           }
          ],
          "pie": [
           {
            "automargin": true,
            "type": "pie"
           }
          ],
          "scatter": [
           {
            "fillpattern": {
             "fillmode": "overlay",
             "size": 10,
             "solidity": 0.2
            },
            "type": "scatter"
           }
          ],
          "scatter3d": [
           {
            "line": {
             "colorbar": {
              "outlinewidth": 0,
              "ticks": ""
             }
            },
            "marker": {
             "colorbar": {
              "outlinewidth": 0,
              "ticks": ""
             }
            },
            "type": "scatter3d"
           }
          ],
          "scattercarpet": [
           {
            "marker": {
             "colorbar": {
              "outlinewidth": 0,
              "ticks": ""
             }
            },
            "type": "scattercarpet"
           }
          ],
          "scattergeo": [
           {
            "marker": {
             "colorbar": {
              "outlinewidth": 0,
              "ticks": ""
             }
            },
            "type": "scattergeo"
           }
          ],
          "scattergl": [
           {
            "marker": {
             "colorbar": {
              "outlinewidth": 0,
              "ticks": ""
             }
            },
            "type": "scattergl"
           }
          ],
          "scattermapbox": [
           {
            "marker": {
             "colorbar": {
              "outlinewidth": 0,
              "ticks": ""
             }
            },
            "type": "scattermapbox"
           }
          ],
          "scatterpolar": [
           {
            "marker": {
             "colorbar": {
              "outlinewidth": 0,
              "ticks": ""
             }
            },
            "type": "scatterpolar"
           }
          ],
          "scatterpolargl": [
           {
            "marker": {
             "colorbar": {
              "outlinewidth": 0,
              "ticks": ""
             }
            },
            "type": "scatterpolargl"
           }
          ],
          "scatterternary": [
           {
            "marker": {
             "colorbar": {
              "outlinewidth": 0,
              "ticks": ""
             }
            },
            "type": "scatterternary"
           }
          ],
          "surface": [
           {
            "colorbar": {
             "outlinewidth": 0,
             "ticks": ""
            },
            "colorscale": [
             [
              0,
              "#0d0887"
             ],
             [
              0.1111111111111111,
              "#46039f"
             ],
             [
              0.2222222222222222,
              "#7201a8"
             ],
             [
              0.3333333333333333,
              "#9c179e"
             ],
             [
              0.4444444444444444,
              "#bd3786"
             ],
             [
              0.5555555555555556,
              "#d8576b"
             ],
             [
              0.6666666666666666,
              "#ed7953"
             ],
             [
              0.7777777777777778,
              "#fb9f3a"
             ],
             [
              0.8888888888888888,
              "#fdca26"
             ],
             [
              1,
              "#f0f921"
             ]
            ],
            "type": "surface"
           }
          ],
          "table": [
           {
            "cells": {
             "fill": {
              "color": "#EBF0F8"
             },
             "line": {
              "color": "white"
             }
            },
            "header": {
             "fill": {
              "color": "#C8D4E3"
             },
             "line": {
              "color": "white"
             }
            },
            "type": "table"
           }
          ]
         },
         "layout": {
          "annotationdefaults": {
           "arrowcolor": "#2a3f5f",
           "arrowhead": 0,
           "arrowwidth": 1
          },
          "autotypenumbers": "strict",
          "coloraxis": {
           "colorbar": {
            "outlinewidth": 0,
            "ticks": ""
           }
          },
          "colorscale": {
           "diverging": [
            [
             0,
             "#8e0152"
            ],
            [
             0.1,
             "#c51b7d"
            ],
            [
             0.2,
             "#de77ae"
            ],
            [
             0.3,
             "#f1b6da"
            ],
            [
             0.4,
             "#fde0ef"
            ],
            [
             0.5,
             "#f7f7f7"
            ],
            [
             0.6,
             "#e6f5d0"
            ],
            [
             0.7,
             "#b8e186"
            ],
            [
             0.8,
             "#7fbc41"
            ],
            [
             0.9,
             "#4d9221"
            ],
            [
             1,
             "#276419"
            ]
           ],
           "sequential": [
            [
             0,
             "#0d0887"
            ],
            [
             0.1111111111111111,
             "#46039f"
            ],
            [
             0.2222222222222222,
             "#7201a8"
            ],
            [
             0.3333333333333333,
             "#9c179e"
            ],
            [
             0.4444444444444444,
             "#bd3786"
            ],
            [
             0.5555555555555556,
             "#d8576b"
            ],
            [
             0.6666666666666666,
             "#ed7953"
            ],
            [
             0.7777777777777778,
             "#fb9f3a"
            ],
            [
             0.8888888888888888,
             "#fdca26"
            ],
            [
             1,
             "#f0f921"
            ]
           ],
           "sequentialminus": [
            [
             0,
             "#0d0887"
            ],
            [
             0.1111111111111111,
             "#46039f"
            ],
            [
             0.2222222222222222,
             "#7201a8"
            ],
            [
             0.3333333333333333,
             "#9c179e"
            ],
            [
             0.4444444444444444,
             "#bd3786"
            ],
            [
             0.5555555555555556,
             "#d8576b"
            ],
            [
             0.6666666666666666,
             "#ed7953"
            ],
            [
             0.7777777777777778,
             "#fb9f3a"
            ],
            [
             0.8888888888888888,
             "#fdca26"
            ],
            [
             1,
             "#f0f921"
            ]
           ]
          },
          "colorway": [
           "#636efa",
           "#EF553B",
           "#00cc96",
           "#ab63fa",
           "#FFA15A",
           "#19d3f3",
           "#FF6692",
           "#B6E880",
           "#FF97FF",
           "#FECB52"
          ],
          "font": {
           "color": "#2a3f5f"
          },
          "geo": {
           "bgcolor": "white",
           "lakecolor": "white",
           "landcolor": "#E5ECF6",
           "showlakes": true,
           "showland": true,
           "subunitcolor": "white"
          },
          "hoverlabel": {
           "align": "left"
          },
          "hovermode": "closest",
          "mapbox": {
           "style": "light"
          },
          "paper_bgcolor": "white",
          "plot_bgcolor": "#E5ECF6",
          "polar": {
           "angularaxis": {
            "gridcolor": "white",
            "linecolor": "white",
            "ticks": ""
           },
           "bgcolor": "#E5ECF6",
           "radialaxis": {
            "gridcolor": "white",
            "linecolor": "white",
            "ticks": ""
           }
          },
          "scene": {
           "xaxis": {
            "backgroundcolor": "#E5ECF6",
            "gridcolor": "white",
            "gridwidth": 2,
            "linecolor": "white",
            "showbackground": true,
            "ticks": "",
            "zerolinecolor": "white"
           },
           "yaxis": {
            "backgroundcolor": "#E5ECF6",
            "gridcolor": "white",
            "gridwidth": 2,
            "linecolor": "white",
            "showbackground": true,
            "ticks": "",
            "zerolinecolor": "white"
           },
           "zaxis": {
            "backgroundcolor": "#E5ECF6",
            "gridcolor": "white",
            "gridwidth": 2,
            "linecolor": "white",
            "showbackground": true,
            "ticks": "",
            "zerolinecolor": "white"
           }
          },
          "shapedefaults": {
           "line": {
            "color": "#2a3f5f"
           }
          },
          "ternary": {
           "aaxis": {
            "gridcolor": "white",
            "linecolor": "white",
            "ticks": ""
           },
           "baxis": {
            "gridcolor": "white",
            "linecolor": "white",
            "ticks": ""
           },
           "bgcolor": "#E5ECF6",
           "caxis": {
            "gridcolor": "white",
            "linecolor": "white",
            "ticks": ""
           }
          },
          "title": {
           "x": 0.05
          },
          "xaxis": {
           "automargin": true,
           "gridcolor": "white",
           "linecolor": "white",
           "ticks": "",
           "title": {
            "standoff": 15
           },
           "zerolinecolor": "white",
           "zerolinewidth": 2
          },
          "yaxis": {
           "automargin": true,
           "gridcolor": "white",
           "linecolor": "white",
           "ticks": "",
           "title": {
            "standoff": 15
           },
           "zerolinecolor": "white",
           "zerolinewidth": 2
          }
         }
        },
        "xaxis": {
         "anchor": "y",
         "domain": [
          0,
          1
         ],
         "title": {
          "text": "Population"
         }
        },
        "yaxis": {
         "anchor": "x",
         "domain": [
          0,
          1
         ],
         "title": {
          "text": "Literacy Rate"
         }
        }
       }
      }
     },
     "metadata": {},
     "output_type": "display_data"
    }
   ],
   "source": [
    "p = temp_df[temp_df['State'] == 'Assam']\n",
    "px.scatter(p, x='Population', y='Literacy Rate',size='Male Literate', color='District')"
   ]
  },
  {
   "cell_type": "code",
   "execution_count": 137,
   "metadata": {},
   "outputs": [
    {
     "data": {
      "text/html": [
       "<div>\n",
       "<style scoped>\n",
       "    .dataframe tbody tr th:only-of-type {\n",
       "        vertical-align: middle;\n",
       "    }\n",
       "\n",
       "    .dataframe tbody tr th {\n",
       "        vertical-align: top;\n",
       "    }\n",
       "\n",
       "    .dataframe thead th {\n",
       "        text-align: right;\n",
       "    }\n",
       "</style>\n",
       "<table border=\"1\" class=\"dataframe\">\n",
       "  <thead>\n",
       "    <tr style=\"text-align: right;\">\n",
       "      <th></th>\n",
       "      <th>State</th>\n",
       "      <th>District</th>\n",
       "      <th>Latitude</th>\n",
       "      <th>Longitude</th>\n",
       "      <th>Population</th>\n",
       "      <th>Male Population</th>\n",
       "      <th>Female population</th>\n",
       "      <th>Literate</th>\n",
       "      <th>Male Literate</th>\n",
       "      <th>Female Literate</th>\n",
       "      <th>SC</th>\n",
       "      <th>Male SC</th>\n",
       "      <th>Female SC</th>\n",
       "      <th>ST</th>\n",
       "      <th>Male ST</th>\n",
       "      <th>Female ST</th>\n",
       "      <th>Workers</th>\n",
       "      <th>Male Workers</th>\n",
       "      <th>Female Workers</th>\n",
       "      <th>Non Workers</th>\n",
       "      <th>Agricultural Workers</th>\n",
       "      <th>Other Workers</th>\n",
       "      <th>Hindus</th>\n",
       "      <th>Muslims</th>\n",
       "      <th>Christians</th>\n",
       "      <th>Sikhs</th>\n",
       "      <th>Buddhists</th>\n",
       "      <th>Jains</th>\n",
       "      <th>Others Religions</th>\n",
       "      <th>LPG PNG Households</th>\n",
       "      <th>Housholds with Electricity</th>\n",
       "      <th>Households with Internet</th>\n",
       "      <th>Households with Computer</th>\n",
       "      <th>Below Primary Education</th>\n",
       "      <th>Primary Education</th>\n",
       "      <th>Secondary Education</th>\n",
       "      <th>Graduate Education</th>\n",
       "      <th>Other Education</th>\n",
       "      <th>Age 0-29</th>\n",
       "      <th>Age 30-49</th>\n",
       "      <th>Above 50</th>\n",
       "      <th>Households with Television</th>\n",
       "      <th>Households with Telephone Mobile Phone</th>\n",
       "      <th>Sex Ratio</th>\n",
       "      <th>Literacy Rate</th>\n",
       "      <th>Male Unliterate</th>\n",
       "      <th>Female Unliterate</th>\n",
       "    </tr>\n",
       "  </thead>\n",
       "  <tbody>\n",
       "    <tr>\n",
       "      <th>0</th>\n",
       "      <td>Andhra Pradesh</td>\n",
       "      <td>Adilabad</td>\n",
       "      <td>19.284514</td>\n",
       "      <td>78.813212</td>\n",
       "      <td>2741239</td>\n",
       "      <td>1369597</td>\n",
       "      <td>1371642</td>\n",
       "      <td>1483347</td>\n",
       "      <td>856350</td>\n",
       "      <td>626997</td>\n",
       "      <td>488596</td>\n",
       "      <td>242844</td>\n",
       "      <td>245752</td>\n",
       "      <td>495794</td>\n",
       "      <td>247472</td>\n",
       "      <td>248322</td>\n",
       "      <td>1323667</td>\n",
       "      <td>748939</td>\n",
       "      <td>574728</td>\n",
       "      <td>1417572</td>\n",
       "      <td>484912</td>\n",
       "      <td>390357</td>\n",
       "      <td>2399901</td>\n",
       "      <td>275970</td>\n",
       "      <td>15422</td>\n",
       "      <td>1377</td>\n",
       "      <td>25510</td>\n",
       "      <td>617</td>\n",
       "      <td>322</td>\n",
       "      <td>194954</td>\n",
       "      <td>566108</td>\n",
       "      <td>5512</td>\n",
       "      <td>45202</td>\n",
       "      <td>232470</td>\n",
       "      <td>344167</td>\n",
       "      <td>225957</td>\n",
       "      <td>100226</td>\n",
       "      <td>19277</td>\n",
       "      <td>1536378</td>\n",
       "      <td>704551</td>\n",
       "      <td>422522</td>\n",
       "      <td>306433</td>\n",
       "      <td>403530</td>\n",
       "      <td>100.0</td>\n",
       "      <td>54.0</td>\n",
       "      <td>513247</td>\n",
       "      <td>744645</td>\n",
       "    </tr>\n",
       "    <tr>\n",
       "      <th>1</th>\n",
       "      <td>Andhra Pradesh</td>\n",
       "      <td>Anantapur</td>\n",
       "      <td>14.312066</td>\n",
       "      <td>77.460158</td>\n",
       "      <td>4081148</td>\n",
       "      <td>2064495</td>\n",
       "      <td>2016653</td>\n",
       "      <td>2310960</td>\n",
       "      <td>1338474</td>\n",
       "      <td>972486</td>\n",
       "      <td>583135</td>\n",
       "      <td>292379</td>\n",
       "      <td>290756</td>\n",
       "      <td>154127</td>\n",
       "      <td>78573</td>\n",
       "      <td>75554</td>\n",
       "      <td>2036166</td>\n",
       "      <td>1208544</td>\n",
       "      <td>827622</td>\n",
       "      <td>2044982</td>\n",
       "      <td>879537</td>\n",
       "      <td>638033</td>\n",
       "      <td>3599372</td>\n",
       "      <td>443456</td>\n",
       "      <td>20463</td>\n",
       "      <td>932</td>\n",
       "      <td>341</td>\n",
       "      <td>1417</td>\n",
       "      <td>309</td>\n",
       "      <td>223016</td>\n",
       "      <td>897970</td>\n",
       "      <td>8606</td>\n",
       "      <td>48299</td>\n",
       "      <td>462273</td>\n",
       "      <td>720357</td>\n",
       "      <td>331793</td>\n",
       "      <td>144915</td>\n",
       "      <td>23341</td>\n",
       "      <td>2189396</td>\n",
       "      <td>1104565</td>\n",
       "      <td>739612</td>\n",
       "      <td>559461</td>\n",
       "      <td>581087</td>\n",
       "      <td>98.0</td>\n",
       "      <td>57.0</td>\n",
       "      <td>726021</td>\n",
       "      <td>1044167</td>\n",
       "    </tr>\n",
       "    <tr>\n",
       "      <th>2</th>\n",
       "      <td>Andhra Pradesh</td>\n",
       "      <td>Chittoor</td>\n",
       "      <td>13.331093</td>\n",
       "      <td>78.927639</td>\n",
       "      <td>4174064</td>\n",
       "      <td>2090204</td>\n",
       "      <td>2083860</td>\n",
       "      <td>2667878</td>\n",
       "      <td>1484794</td>\n",
       "      <td>1183084</td>\n",
       "      <td>785760</td>\n",
       "      <td>389582</td>\n",
       "      <td>396178</td>\n",
       "      <td>159165</td>\n",
       "      <td>79756</td>\n",
       "      <td>79409</td>\n",
       "      <td>1933357</td>\n",
       "      <td>1202223</td>\n",
       "      <td>731134</td>\n",
       "      <td>2240707</td>\n",
       "      <td>748093</td>\n",
       "      <td>693451</td>\n",
       "      <td>3737588</td>\n",
       "      <td>397870</td>\n",
       "      <td>24129</td>\n",
       "      <td>867</td>\n",
       "      <td>253</td>\n",
       "      <td>1322</td>\n",
       "      <td>358</td>\n",
       "      <td>324406</td>\n",
       "      <td>944555</td>\n",
       "      <td>13763</td>\n",
       "      <td>67087</td>\n",
       "      <td>522961</td>\n",
       "      <td>770836</td>\n",
       "      <td>548336</td>\n",
       "      <td>246409</td>\n",
       "      <td>36017</td>\n",
       "      <td>2148179</td>\n",
       "      <td>1159053</td>\n",
       "      <td>807430</td>\n",
       "      <td>611465</td>\n",
       "      <td>632803</td>\n",
       "      <td>100.0</td>\n",
       "      <td>64.0</td>\n",
       "      <td>605410</td>\n",
       "      <td>900776</td>\n",
       "    </tr>\n",
       "    <tr>\n",
       "      <th>3</th>\n",
       "      <td>Andhra Pradesh</td>\n",
       "      <td>East Godavari</td>\n",
       "      <td>16.782718</td>\n",
       "      <td>82.243207</td>\n",
       "      <td>5154296</td>\n",
       "      <td>2569688</td>\n",
       "      <td>2584608</td>\n",
       "      <td>3288577</td>\n",
       "      <td>1716933</td>\n",
       "      <td>1571644</td>\n",
       "      <td>945269</td>\n",
       "      <td>468883</td>\n",
       "      <td>476386</td>\n",
       "      <td>213195</td>\n",
       "      <td>104422</td>\n",
       "      <td>108773</td>\n",
       "      <td>2093681</td>\n",
       "      <td>1545831</td>\n",
       "      <td>547850</td>\n",
       "      <td>3060615</td>\n",
       "      <td>1122046</td>\n",
       "      <td>753375</td>\n",
       "      <td>4983330</td>\n",
       "      <td>77777</td>\n",
       "      <td>77825</td>\n",
       "      <td>738</td>\n",
       "      <td>413</td>\n",
       "      <td>4149</td>\n",
       "      <td>403</td>\n",
       "      <td>479914</td>\n",
       "      <td>1297273</td>\n",
       "      <td>22411</td>\n",
       "      <td>93784</td>\n",
       "      <td>669420</td>\n",
       "      <td>947606</td>\n",
       "      <td>521562</td>\n",
       "      <td>263023</td>\n",
       "      <td>47702</td>\n",
       "      <td>2724328</td>\n",
       "      <td>1478954</td>\n",
       "      <td>948122</td>\n",
       "      <td>821421</td>\n",
       "      <td>732492</td>\n",
       "      <td>101.0</td>\n",
       "      <td>64.0</td>\n",
       "      <td>852755</td>\n",
       "      <td>1012964</td>\n",
       "    </tr>\n",
       "    <tr>\n",
       "      <th>4</th>\n",
       "      <td>Andhra Pradesh</td>\n",
       "      <td>Guntur</td>\n",
       "      <td>15.884926</td>\n",
       "      <td>80.586576</td>\n",
       "      <td>4887813</td>\n",
       "      <td>2440521</td>\n",
       "      <td>2447292</td>\n",
       "      <td>2960441</td>\n",
       "      <td>1634726</td>\n",
       "      <td>1325715</td>\n",
       "      <td>957407</td>\n",
       "      <td>476333</td>\n",
       "      <td>481074</td>\n",
       "      <td>247089</td>\n",
       "      <td>125105</td>\n",
       "      <td>121984</td>\n",
       "      <td>2381624</td>\n",
       "      <td>1442370</td>\n",
       "      <td>939254</td>\n",
       "      <td>2506189</td>\n",
       "      <td>1227956</td>\n",
       "      <td>803891</td>\n",
       "      <td>4217597</td>\n",
       "      <td>559770</td>\n",
       "      <td>89763</td>\n",
       "      <td>764</td>\n",
       "      <td>323</td>\n",
       "      <td>3282</td>\n",
       "      <td>332</td>\n",
       "      <td>648568</td>\n",
       "      <td>1186028</td>\n",
       "      <td>19383</td>\n",
       "      <td>80434</td>\n",
       "      <td>736270</td>\n",
       "      <td>845810</td>\n",
       "      <td>453446</td>\n",
       "      <td>221924</td>\n",
       "      <td>30279</td>\n",
       "      <td>2583462</td>\n",
       "      <td>1371811</td>\n",
       "      <td>928462</td>\n",
       "      <td>816849</td>\n",
       "      <td>733133</td>\n",
       "      <td>100.0</td>\n",
       "      <td>61.0</td>\n",
       "      <td>805795</td>\n",
       "      <td>1121577</td>\n",
       "    </tr>\n",
       "  </tbody>\n",
       "</table>\n",
       "</div>"
      ],
      "text/plain": [
       "            State       District   Latitude  Longitude  Population  \\\n",
       "0  Andhra Pradesh       Adilabad  19.284514  78.813212     2741239   \n",
       "1  Andhra Pradesh      Anantapur  14.312066  77.460158     4081148   \n",
       "2  Andhra Pradesh       Chittoor  13.331093  78.927639     4174064   \n",
       "3  Andhra Pradesh  East Godavari  16.782718  82.243207     5154296   \n",
       "4  Andhra Pradesh         Guntur  15.884926  80.586576     4887813   \n",
       "\n",
       "   Male Population  Female population  Literate  Male Literate  \\\n",
       "0          1369597            1371642   1483347         856350   \n",
       "1          2064495            2016653   2310960        1338474   \n",
       "2          2090204            2083860   2667878        1484794   \n",
       "3          2569688            2584608   3288577        1716933   \n",
       "4          2440521            2447292   2960441        1634726   \n",
       "\n",
       "   Female Literate      SC  Male SC  Female SC      ST  Male ST  Female ST  \\\n",
       "0           626997  488596   242844     245752  495794   247472     248322   \n",
       "1           972486  583135   292379     290756  154127    78573      75554   \n",
       "2          1183084  785760   389582     396178  159165    79756      79409   \n",
       "3          1571644  945269   468883     476386  213195   104422     108773   \n",
       "4          1325715  957407   476333     481074  247089   125105     121984   \n",
       "\n",
       "   Workers  Male Workers  Female Workers  Non Workers  Agricultural Workers  \\\n",
       "0  1323667        748939          574728      1417572                484912   \n",
       "1  2036166       1208544          827622      2044982                879537   \n",
       "2  1933357       1202223          731134      2240707                748093   \n",
       "3  2093681       1545831          547850      3060615               1122046   \n",
       "4  2381624       1442370          939254      2506189               1227956   \n",
       "\n",
       "   Other Workers   Hindus  Muslims  Christians  Sikhs  Buddhists  Jains  \\\n",
       "0         390357  2399901   275970       15422   1377      25510    617   \n",
       "1         638033  3599372   443456       20463    932        341   1417   \n",
       "2         693451  3737588   397870       24129    867        253   1322   \n",
       "3         753375  4983330    77777       77825    738        413   4149   \n",
       "4         803891  4217597   559770       89763    764        323   3282   \n",
       "\n",
       "   Others Religions  LPG PNG Households  Housholds with Electricity  \\\n",
       "0               322              194954                      566108   \n",
       "1               309              223016                      897970   \n",
       "2               358              324406                      944555   \n",
       "3               403              479914                     1297273   \n",
       "4               332              648568                     1186028   \n",
       "\n",
       "   Households with Internet  Households with Computer  \\\n",
       "0                      5512                     45202   \n",
       "1                      8606                     48299   \n",
       "2                     13763                     67087   \n",
       "3                     22411                     93784   \n",
       "4                     19383                     80434   \n",
       "\n",
       "   Below Primary Education  Primary Education  Secondary Education  \\\n",
       "0                   232470             344167               225957   \n",
       "1                   462273             720357               331793   \n",
       "2                   522961             770836               548336   \n",
       "3                   669420             947606               521562   \n",
       "4                   736270             845810               453446   \n",
       "\n",
       "   Graduate Education  Other Education  Age 0-29  Age 30-49  Above 50  \\\n",
       "0              100226            19277   1536378     704551    422522   \n",
       "1              144915            23341   2189396    1104565    739612   \n",
       "2              246409            36017   2148179    1159053    807430   \n",
       "3              263023            47702   2724328    1478954    948122   \n",
       "4              221924            30279   2583462    1371811    928462   \n",
       "\n",
       "   Households with Television  Households with Telephone Mobile Phone  \\\n",
       "0                      306433                                  403530   \n",
       "1                      559461                                  581087   \n",
       "2                      611465                                  632803   \n",
       "3                      821421                                  732492   \n",
       "4                      816849                                  733133   \n",
       "\n",
       "   Sex Ratio  Literacy Rate  Male Unliterate  Female Unliterate  \n",
       "0      100.0           54.0           513247             744645  \n",
       "1       98.0           57.0           726021            1044167  \n",
       "2      100.0           64.0           605410             900776  \n",
       "3      101.0           64.0           852755            1012964  \n",
       "4      100.0           61.0           805795            1121577  "
      ]
     },
     "execution_count": 137,
     "metadata": {},
     "output_type": "execute_result"
    }
   ],
   "source": [
    "temp_df.head()"
   ]
  },
  {
   "cell_type": "code",
   "execution_count": 140,
   "metadata": {},
   "outputs": [
    {
     "data": {
      "text/html": [
       "<div>\n",
       "<style scoped>\n",
       "    .dataframe tbody tr th:only-of-type {\n",
       "        vertical-align: middle;\n",
       "    }\n",
       "\n",
       "    .dataframe tbody tr th {\n",
       "        vertical-align: top;\n",
       "    }\n",
       "\n",
       "    .dataframe thead th {\n",
       "        text-align: right;\n",
       "    }\n",
       "</style>\n",
       "<table border=\"1\" class=\"dataframe\">\n",
       "  <thead>\n",
       "    <tr style=\"text-align: right;\">\n",
       "      <th></th>\n",
       "      <th>State</th>\n",
       "      <th>level_1</th>\n",
       "      <th>0</th>\n",
       "    </tr>\n",
       "  </thead>\n",
       "  <tbody>\n",
       "    <tr>\n",
       "      <th>0</th>\n",
       "      <td>Assam</td>\n",
       "      <td>Male Workers</td>\n",
       "      <td>335558.315789</td>\n",
       "    </tr>\n",
       "    <tr>\n",
       "      <th>1</th>\n",
       "      <td>Assam</td>\n",
       "      <td>Female Workers</td>\n",
       "      <td>135039.894737</td>\n",
       "    </tr>\n",
       "    <tr>\n",
       "      <th>2</th>\n",
       "      <td>Assam</td>\n",
       "      <td>Non Workers</td>\n",
       "      <td>761817.578947</td>\n",
       "    </tr>\n",
       "    <tr>\n",
       "      <th>3</th>\n",
       "      <td>Assam</td>\n",
       "      <td>Agricultural Workers</td>\n",
       "      <td>69758.210526</td>\n",
       "    </tr>\n",
       "    <tr>\n",
       "      <th>4</th>\n",
       "      <td>Assam</td>\n",
       "      <td>Other Workers</td>\n",
       "      <td>215717.736842</td>\n",
       "    </tr>\n",
       "  </tbody>\n",
       "</table>\n",
       "</div>"
      ],
      "text/plain": [
       "   State               level_1              0\n",
       "0  Assam          Male Workers  335558.315789\n",
       "1  Assam        Female Workers  135039.894737\n",
       "2  Assam           Non Workers  761817.578947\n",
       "3  Assam  Agricultural Workers   69758.210526\n",
       "4  Assam         Other Workers  215717.736842"
      ]
     },
     "execution_count": 140,
     "metadata": {},
     "output_type": "execute_result"
    }
   ],
   "source": [
    "temp_df[temp_df['State'] == 'Assam'].groupby('State')[['Male Workers','Female Workers','Non Workers',\n",
    "                                'Agricultural Workers','Other Workers']].mean().stack().reset_index()"
   ]
  },
  {
   "cell_type": "code",
   "execution_count": null,
   "metadata": {},
   "outputs": [],
   "source": []
  },
  {
   "cell_type": "code",
   "execution_count": null,
   "metadata": {},
   "outputs": [],
   "source": []
  }
 ],
 "metadata": {
  "kernelspec": {
   "display_name": "Python 3",
   "language": "python",
   "name": "python3"
  },
  "language_info": {
   "codemirror_mode": {
    "name": "ipython",
    "version": 3
   },
   "file_extension": ".py",
   "mimetype": "text/x-python",
   "name": "python",
   "nbconvert_exporter": "python",
   "pygments_lexer": "ipython3",
   "version": "3.11.1"
  }
 },
 "nbformat": 4,
 "nbformat_minor": 2
}
