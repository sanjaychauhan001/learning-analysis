{
 "cells": [
  {
   "cell_type": "code",
   "execution_count": 1,
   "metadata": {},
   "outputs": [],
   "source": [
    "import pandas as pd \n",
    "import numpy as np\n",
    "import seaborn as sns\n",
    "import matplotlib.pyplot as plt"
   ]
  },
  {
   "cell_type": "code",
   "execution_count": 3,
   "metadata": {},
   "outputs": [
    {
     "data": {
      "text/html": [
       "<div>\n",
       "<style scoped>\n",
       "    .dataframe tbody tr th:only-of-type {\n",
       "        vertical-align: middle;\n",
       "    }\n",
       "\n",
       "    .dataframe tbody tr th {\n",
       "        vertical-align: top;\n",
       "    }\n",
       "\n",
       "    .dataframe thead th {\n",
       "        text-align: right;\n",
       "    }\n",
       "</style>\n",
       "<table border=\"1\" class=\"dataframe\">\n",
       "  <thead>\n",
       "    <tr style=\"text-align: right;\">\n",
       "      <th></th>\n",
       "      <th>ID</th>\n",
       "      <th>Name</th>\n",
       "      <th>Age</th>\n",
       "      <th>Photo</th>\n",
       "      <th>Nationality</th>\n",
       "      <th>Flag</th>\n",
       "      <th>Overall</th>\n",
       "      <th>Potential</th>\n",
       "      <th>Club</th>\n",
       "      <th>Club Logo</th>\n",
       "      <th>...</th>\n",
       "      <th>Position</th>\n",
       "      <th>Joined</th>\n",
       "      <th>Loaned From</th>\n",
       "      <th>Contract Valid Until</th>\n",
       "      <th>Height(cm.)</th>\n",
       "      <th>Weight(lbs.)</th>\n",
       "      <th>Release Clause(£)</th>\n",
       "      <th>Kit Number</th>\n",
       "      <th>Best Overall Rating</th>\n",
       "      <th>Year_Joined</th>\n",
       "    </tr>\n",
       "  </thead>\n",
       "  <tbody>\n",
       "    <tr>\n",
       "      <th>555</th>\n",
       "      <td>244622</td>\n",
       "      <td>Puado</td>\n",
       "      <td>24</td>\n",
       "      <td>https://cdn.sofifa.net/players/244/622/23_60.png</td>\n",
       "      <td>Spain</td>\n",
       "      <td>https://cdn.sofifa.net/flags/es.png</td>\n",
       "      <td>78</td>\n",
       "      <td>83</td>\n",
       "      <td>RCD Espanyol de Barcelona</td>\n",
       "      <td>https://cdn.sofifa.net/teams/452/30.png</td>\n",
       "      <td>...</td>\n",
       "      <td>LM</td>\n",
       "      <td>7/1/2017</td>\n",
       "      <td>None</td>\n",
       "      <td>2025</td>\n",
       "      <td>177</td>\n",
       "      <td>152.145</td>\n",
       "      <td>45700000</td>\n",
       "      <td>9</td>\n",
       "      <td>0</td>\n",
       "      <td>2017</td>\n",
       "    </tr>\n",
       "    <tr>\n",
       "      <th>13108</th>\n",
       "      <td>257163</td>\n",
       "      <td>I. Asante</td>\n",
       "      <td>19</td>\n",
       "      <td>https://cdn.sofifa.net/players/257/163/23_60.png</td>\n",
       "      <td>Belgium</td>\n",
       "      <td>https://cdn.sofifa.net/flags/be.png</td>\n",
       "      <td>56</td>\n",
       "      <td>70</td>\n",
       "      <td>Oud-Heverlee Leuven</td>\n",
       "      <td>https://cdn.sofifa.net/teams/100087/30.png</td>\n",
       "      <td>...</td>\n",
       "      <td>RES</td>\n",
       "      <td>7/1/2019</td>\n",
       "      <td>None</td>\n",
       "      <td>2023</td>\n",
       "      <td>184</td>\n",
       "      <td>158.760</td>\n",
       "      <td>726000</td>\n",
       "      <td>22</td>\n",
       "      <td>0</td>\n",
       "      <td>2019</td>\n",
       "    </tr>\n",
       "    <tr>\n",
       "      <th>5450</th>\n",
       "      <td>256762</td>\n",
       "      <td>21 S. Ilgaz</td>\n",
       "      <td>25</td>\n",
       "      <td>https://cdn.sofifa.net/players/256/762/21_60.png</td>\n",
       "      <td>France</td>\n",
       "      <td>https://cdn.sofifa.net/flags/fr.png</td>\n",
       "      <td>64</td>\n",
       "      <td>67</td>\n",
       "      <td>Atakaş Hatayspor</td>\n",
       "      <td>https://cdn.sofifa.net/teams/101028/30.png</td>\n",
       "      <td>...</td>\n",
       "      <td>SUB</td>\n",
       "      <td>8/17/2016</td>\n",
       "      <td>None</td>\n",
       "      <td>2021</td>\n",
       "      <td>175</td>\n",
       "      <td>158.760</td>\n",
       "      <td>1600000</td>\n",
       "      <td>10</td>\n",
       "      <td>0</td>\n",
       "      <td>2016</td>\n",
       "    </tr>\n",
       "    <tr>\n",
       "      <th>7793</th>\n",
       "      <td>267778</td>\n",
       "      <td>Leonardo Buta</td>\n",
       "      <td>20</td>\n",
       "      <td>https://cdn.sofifa.net/players/267/778/23_60.png</td>\n",
       "      <td>Portugal</td>\n",
       "      <td>https://cdn.sofifa.net/flags/pt.png</td>\n",
       "      <td>60</td>\n",
       "      <td>76</td>\n",
       "      <td>Udinese Calcio</td>\n",
       "      <td>https://cdn.sofifa.net/teams/55/30.png</td>\n",
       "      <td>...</td>\n",
       "      <td>RES</td>\n",
       "      <td>7/1/2022</td>\n",
       "      <td>None</td>\n",
       "      <td>2027</td>\n",
       "      <td>182</td>\n",
       "      <td>163.170</td>\n",
       "      <td>1500000</td>\n",
       "      <td>15</td>\n",
       "      <td>0</td>\n",
       "      <td>2022</td>\n",
       "    </tr>\n",
       "    <tr>\n",
       "      <th>11289</th>\n",
       "      <td>255898</td>\n",
       "      <td>22 P. Justiniano</td>\n",
       "      <td>21</td>\n",
       "      <td>https://cdn.sofifa.net/players/255/898/22_60.png</td>\n",
       "      <td>Bolivia</td>\n",
       "      <td>https://cdn.sofifa.net/flags/bo.png</td>\n",
       "      <td>60</td>\n",
       "      <td>70</td>\n",
       "      <td>Club Atlético Nacional Potosí</td>\n",
       "      <td>https://cdn.sofifa.net/teams/112667/30.png</td>\n",
       "      <td>...</td>\n",
       "      <td>SUB</td>\n",
       "      <td>1/1/2020</td>\n",
       "      <td>None</td>\n",
       "      <td>2022</td>\n",
       "      <td>165</td>\n",
       "      <td>141.120</td>\n",
       "      <td>1200000</td>\n",
       "      <td>19</td>\n",
       "      <td>0</td>\n",
       "      <td>2020</td>\n",
       "    </tr>\n",
       "  </tbody>\n",
       "</table>\n",
       "<p>5 rows × 30 columns</p>\n",
       "</div>"
      ],
      "text/plain": [
       "           ID              Name  Age  \\\n",
       "555    244622             Puado   24   \n",
       "13108  257163         I. Asante   19   \n",
       "5450   256762       21 S. Ilgaz   25   \n",
       "7793   267778     Leonardo Buta   20   \n",
       "11289  255898  22 P. Justiniano   21   \n",
       "\n",
       "                                                  Photo Nationality  \\\n",
       "555    https://cdn.sofifa.net/players/244/622/23_60.png       Spain   \n",
       "13108  https://cdn.sofifa.net/players/257/163/23_60.png     Belgium   \n",
       "5450   https://cdn.sofifa.net/players/256/762/21_60.png      France   \n",
       "7793   https://cdn.sofifa.net/players/267/778/23_60.png    Portugal   \n",
       "11289  https://cdn.sofifa.net/players/255/898/22_60.png     Bolivia   \n",
       "\n",
       "                                      Flag  Overall  Potential  \\\n",
       "555    https://cdn.sofifa.net/flags/es.png       78         83   \n",
       "13108  https://cdn.sofifa.net/flags/be.png       56         70   \n",
       "5450   https://cdn.sofifa.net/flags/fr.png       64         67   \n",
       "7793   https://cdn.sofifa.net/flags/pt.png       60         76   \n",
       "11289  https://cdn.sofifa.net/flags/bo.png       60         70   \n",
       "\n",
       "                                Club  \\\n",
       "555        RCD Espanyol de Barcelona   \n",
       "13108            Oud-Heverlee Leuven   \n",
       "5450                Atakaş Hatayspor   \n",
       "7793                  Udinese Calcio   \n",
       "11289  Club Atlético Nacional Potosí   \n",
       "\n",
       "                                        Club Logo  ...  Position     Joined  \\\n",
       "555       https://cdn.sofifa.net/teams/452/30.png  ...        LM   7/1/2017   \n",
       "13108  https://cdn.sofifa.net/teams/100087/30.png  ...       RES   7/1/2019   \n",
       "5450   https://cdn.sofifa.net/teams/101028/30.png  ...       SUB  8/17/2016   \n",
       "7793       https://cdn.sofifa.net/teams/55/30.png  ...       RES   7/1/2022   \n",
       "11289  https://cdn.sofifa.net/teams/112667/30.png  ...       SUB   1/1/2020   \n",
       "\n",
       "       Loaned From Contract Valid Until  Height(cm.)  Weight(lbs.)  \\\n",
       "555           None                 2025          177       152.145   \n",
       "13108         None                 2023          184       158.760   \n",
       "5450          None                 2021          175       158.760   \n",
       "7793          None                 2027          182       163.170   \n",
       "11289         None                 2022          165       141.120   \n",
       "\n",
       "       Release Clause(£) Kit Number Best Overall Rating Year_Joined  \n",
       "555             45700000          9                   0        2017  \n",
       "13108             726000         22                   0        2019  \n",
       "5450             1600000         10                   0        2016  \n",
       "7793             1500000         15                   0        2022  \n",
       "11289            1200000         19                   0        2020  \n",
       "\n",
       "[5 rows x 30 columns]"
      ]
     },
     "execution_count": 3,
     "metadata": {},
     "output_type": "execute_result"
    }
   ],
   "source": [
    "df = pd.read_csv(\"C:\\\\Users\\\\sanja\\\\Downloads\\\\CLEAN_FIFA23_official_data.csv\")\n",
    "df.sample(5)"
   ]
  },
  {
   "cell_type": "code",
   "execution_count": 3,
   "metadata": {},
   "outputs": [
    {
     "data": {
      "text/plain": [
       "(17660, 30)"
      ]
     },
     "execution_count": 3,
     "metadata": {},
     "output_type": "execute_result"
    }
   ],
   "source": [
    "df.shape"
   ]
  },
  {
   "cell_type": "code",
   "execution_count": 4,
   "metadata": {},
   "outputs": [
    {
     "data": {
      "text/plain": [
       "Index(['ID', 'Name', 'Age', 'Photo', 'Nationality', 'Flag', 'Overall',\n",
       "       'Potential', 'Club', 'Club Logo', 'Value(£)', 'Wage(£)', 'Special',\n",
       "       'Preferred Foot', 'International Reputation', 'Weak Foot',\n",
       "       'Skill Moves', 'Work Rate', 'Body Type', 'Real Face', 'Position',\n",
       "       'Joined', 'Loaned From', 'Contract Valid Until', 'Height(cm.)',\n",
       "       'Weight(lbs.)', 'Release Clause(£)', 'Kit Number',\n",
       "       'Best Overall Rating', 'Year_Joined'],\n",
       "      dtype='object')"
      ]
     },
     "execution_count": 4,
     "metadata": {},
     "output_type": "execute_result"
    }
   ],
   "source": [
    "df.columns"
   ]
  },
  {
   "cell_type": "code",
   "execution_count": 5,
   "metadata": {},
   "outputs": [
    {
     "data": {
      "text/plain": [
       "ID                           0\n",
       "Name                         0\n",
       "Age                          0\n",
       "Photo                        0\n",
       "Nationality                  0\n",
       "Flag                         0\n",
       "Overall                      0\n",
       "Potential                    0\n",
       "Club                         0\n",
       "Club Logo                    0\n",
       "Value(£)                     0\n",
       "Wage(£)                      0\n",
       "Special                      0\n",
       "Preferred Foot               0\n",
       "International Reputation     0\n",
       "Weak Foot                    0\n",
       "Skill Moves                  0\n",
       "Work Rate                    0\n",
       "Body Type                   38\n",
       "Real Face                    0\n",
       "Position                     0\n",
       "Joined                       0\n",
       "Loaned From                  0\n",
       "Contract Valid Until         0\n",
       "Height(cm.)                  0\n",
       "Weight(lbs.)                 0\n",
       "Release Clause(£)            0\n",
       "Kit Number                   0\n",
       "Best Overall Rating          0\n",
       "Year_Joined                  0\n",
       "dtype: int64"
      ]
     },
     "execution_count": 5,
     "metadata": {},
     "output_type": "execute_result"
    }
   ],
   "source": [
    "df.isnull().sum()"
   ]
  },
  {
   "cell_type": "code",
   "execution_count": 6,
   "metadata": {},
   "outputs": [],
   "source": [
    "df.dropna(axis=0,inplace=True)"
   ]
  },
  {
   "cell_type": "code",
   "execution_count": 7,
   "metadata": {},
   "outputs": [
    {
     "data": {
      "text/plain": [
       "ID                          0\n",
       "Name                        0\n",
       "Age                         0\n",
       "Photo                       0\n",
       "Nationality                 0\n",
       "Flag                        0\n",
       "Overall                     0\n",
       "Potential                   0\n",
       "Club                        0\n",
       "Club Logo                   0\n",
       "Value(£)                    0\n",
       "Wage(£)                     0\n",
       "Special                     0\n",
       "Preferred Foot              0\n",
       "International Reputation    0\n",
       "Weak Foot                   0\n",
       "Skill Moves                 0\n",
       "Work Rate                   0\n",
       "Body Type                   0\n",
       "Real Face                   0\n",
       "Position                    0\n",
       "Joined                      0\n",
       "Loaned From                 0\n",
       "Contract Valid Until        0\n",
       "Height(cm.)                 0\n",
       "Weight(lbs.)                0\n",
       "Release Clause(£)           0\n",
       "Kit Number                  0\n",
       "Best Overall Rating         0\n",
       "Year_Joined                 0\n",
       "dtype: int64"
      ]
     },
     "execution_count": 7,
     "metadata": {},
     "output_type": "execute_result"
    }
   ],
   "source": [
    "df.isnull().sum()"
   ]
  },
  {
   "cell_type": "code",
   "execution_count": 8,
   "metadata": {},
   "outputs": [
    {
     "data": {
      "text/plain": [
       "(17622, 30)"
      ]
     },
     "execution_count": 8,
     "metadata": {},
     "output_type": "execute_result"
    }
   ],
   "source": [
    "df.shape"
   ]
  },
  {
   "cell_type": "code",
   "execution_count": 12,
   "metadata": {},
   "outputs": [
    {
     "data": {
      "text/plain": [
       "<Axes: xlabel='Age', ylabel='Count'>"
      ]
     },
     "execution_count": 12,
     "metadata": {},
     "output_type": "execute_result"
    },
    {
     "data": {
      "image/png": "[encoded data removed]",
      "text/plain": [
       "<Figure size 640x480 with 1 Axes>"
      ]
     },
     "metadata": {},
     "output_type": "display_data"
    }
   ],
   "source": [
    "sns.histplot(df['Age'],bins=15)"
   ]
  },
  {
   "cell_type": "code",
   "execution_count": 13,
   "metadata": {},
   "outputs": [
    {
     "data": {
      "text/plain": [
       "Index(['ID', 'Name', 'Age', 'Photo', 'Nationality', 'Flag', 'Overall',\n",
       "       'Potential', 'Club', 'Club Logo', 'Value(£)', 'Wage(£)', 'Special',\n",
       "       'Preferred Foot', 'International Reputation', 'Weak Foot',\n",
       "       'Skill Moves', 'Work Rate', 'Body Type', 'Real Face', 'Position',\n",
       "       'Joined', 'Loaned From', 'Contract Valid Until', 'Height(cm.)',\n",
       "       'Weight(lbs.)', 'Release Clause(£)', 'Kit Number',\n",
       "       'Best Overall Rating', 'Year_Joined'],\n",
       "      dtype='object')"
      ]
     },
     "execution_count": 13,
     "metadata": {},
     "output_type": "execute_result"
    }
   ],
   "source": [
    "df.columns"
   ]
  },
  {
   "cell_type": "code",
   "execution_count": 49,
   "metadata": {},
   "outputs": [
    {
     "data": {
      "text/plain": [
       "Index(['England', 'Germany', 'Spain', 'France', 'Argentina'], dtype='object')"
      ]
     },
     "execution_count": 49,
     "metadata": {},
     "output_type": "execute_result"
    }
   ],
   "source": [
    "Nation_index = df.Nationality.value_counts().head(5).index\n",
    "Nation_value = df.Nationality.value_counts().head(5).values\n",
    "Nation_index"
   ]
  },
  {
   "cell_type": "code",
   "execution_count": 51,
   "metadata": {},
   "outputs": [
    {
     "data": {
      "image/png": "[encoded data removed]",
      "text/plain": [
       "<Figure size 640x480 with 1 Axes>"
      ]
     },
     "metadata": {},
     "output_type": "display_data"
    }
   ],
   "source": [
    "plt.pie(x=Nation_value,labels=Nation_index,autopct='%0.2f')\n",
    "plt.show()"
   ]
  },
  {
   "cell_type": "code",
   "execution_count": 52,
   "metadata": {},
   "outputs": [
    {
     "data": {
      "text/plain": [
       "Index(['ID', 'Name', 'Age', 'Photo', 'Nationality', 'Flag', 'Overall',\n",
       "       'Potential', 'Club', 'Club Logo', 'Value(£)', 'Wage(£)', 'Special',\n",
       "       'Preferred Foot', 'International Reputation', 'Weak Foot',\n",
       "       'Skill Moves', 'Work Rate', 'Body Type', 'Real Face', 'Position',\n",
       "       'Joined', 'Loaned From', 'Contract Valid Until', 'Height(cm.)',\n",
       "       'Weight(lbs.)', 'Release Clause(£)', 'Kit Number',\n",
       "       'Best Overall Rating', 'Year_Joined'],\n",
       "      dtype='object')"
      ]
     },
     "execution_count": 52,
     "metadata": {},
     "output_type": "execute_result"
    }
   ],
   "source": [
    "df.columns"
   ]
  },
  {
   "cell_type": "code",
   "execution_count": 55,
   "metadata": {},
   "outputs": [
    {
     "data": {
      "text/plain": [
       "<Axes: ylabel='Frequency'>"
      ]
     },
     "execution_count": 55,
     "metadata": {},
     "output_type": "execute_result"
    },
    {
     "data": {
      "image/png": "[encoded data removed]",
      "text/plain": [
       "<Figure size 640x480 with 1 Axes>"
      ]
     },
     "metadata": {},
     "output_type": "display_data"
    }
   ],
   "source": [
    "df.Overall.plot(kind='hist')"
   ]
  },
  {
   "cell_type": "code",
   "execution_count": 4,
   "metadata": {},
   "outputs": [
    {
     "data": {
      "text/plain": [
       "<Axes: xlabel='Overall', ylabel='Density'>"
      ]
     },
     "execution_count": 4,
     "metadata": {},
     "output_type": "execute_result"
    },
    {
     "data": {
      "image/png": "[encoded data removed]",
      "text/plain": [
       "<Figure size 640x480 with 1 Axes>"
      ]
     },
     "metadata": {},
     "output_type": "display_data"
    }
   ],
   "source": [
    "sns.kdeplot(df['Overall'])"
   ]
  },
  {
   "cell_type": "code",
   "execution_count": 9,
   "metadata": {},
   "outputs": [],
   "source": [
    "# confidence interval\n",
    "samples = []\n",
    "stds = []\n",
    "for i in range(10):\n",
    "    x = df['Overall'].sample(30).values\n",
    "    stds.append(x.std())\n",
    "    samples.append(x.tolist())"
   ]
  },
  {
   "cell_type": "code",
   "execution_count": 10,
   "metadata": {},
   "outputs": [],
   "source": [
    "samples = np.array(samples)"
   ]
  },
  {
   "cell_type": "code",
   "execution_count": 12,
   "metadata": {},
   "outputs": [
    {
     "data": {
      "text/plain": [
       "(10, 30)"
      ]
     },
     "execution_count": 12,
     "metadata": {},
     "output_type": "execute_result"
    }
   ],
   "source": [
    "samples.shape"
   ]
  },
  {
   "cell_type": "code",
   "execution_count": 13,
   "metadata": {},
   "outputs": [
    {
     "data": {
      "text/plain": [
       "array([61.56666667, 61.        , 64.36666667, 62.36666667, 62.33333333,\n",
       "       62.1       , 63.2       , 62.23333333, 62.4       , 63.43333333])"
      ]
     },
     "execution_count": 13,
     "metadata": {},
     "output_type": "execute_result"
    }
   ],
   "source": [
    "sampling_means = samples.mean(axis=1)\n",
    "sampling_means"
   ]
  },
  {
   "cell_type": "code",
   "execution_count": 14,
   "metadata": {},
   "outputs": [
    {
     "data": {
      "text/plain": [
       "8.186509373713692"
      ]
     },
     "execution_count": 14,
     "metadata": {},
     "output_type": "execute_result"
    }
   ],
   "source": [
    "sample_std = np.mean(stds)\n",
    "sample_std"
   ]
  },
  {
   "cell_type": "code",
   "execution_count": 15,
   "metadata": {},
   "outputs": [
    {
     "name": "stdout",
     "output_type": "stream",
     "text": [
      "The range is  59.447934330609385 65.55206566939059\n"
     ]
    }
   ],
   "source": [
    "lower_limit = sampling_means.mean() - (2.042*sample_std)/np.sqrt(30)\n",
    "upper_limit = sampling_means.mean() + (2.042*sample_std)/np.sqrt(30)\n",
    "print(\"The range is \",lower_limit,upper_limit)"
   ]
  },
  {
   "cell_type": "code",
   "execution_count": 16,
   "metadata": {},
   "outputs": [
    {
     "data": {
      "text/plain": [
       "63.36959229898075"
      ]
     },
     "execution_count": 16,
     "metadata": {},
     "output_type": "execute_result"
    }
   ],
   "source": [
    "df['Overall'].mean()"
   ]
  },
  {
   "cell_type": "code",
   "execution_count": 17,
   "metadata": {},
   "outputs": [
    {
     "data": {
      "text/html": [
       "<div>\n",
       "<style scoped>\n",
       "    .dataframe tbody tr th:only-of-type {\n",
       "        vertical-align: middle;\n",
       "    }\n",
       "\n",
       "    .dataframe tbody tr th {\n",
       "        vertical-align: top;\n",
       "    }\n",
       "\n",
       "    .dataframe thead th {\n",
       "        text-align: right;\n",
       "    }\n",
       "</style>\n",
       "<table border=\"1\" class=\"dataframe\">\n",
       "  <thead>\n",
       "    <tr style=\"text-align: right;\">\n",
       "      <th></th>\n",
       "      <th>ID</th>\n",
       "      <th>Name</th>\n",
       "      <th>Age</th>\n",
       "      <th>Photo</th>\n",
       "      <th>Nationality</th>\n",
       "      <th>Flag</th>\n",
       "      <th>Overall</th>\n",
       "      <th>Potential</th>\n",
       "      <th>Club</th>\n",
       "      <th>Club Logo</th>\n",
       "      <th>...</th>\n",
       "      <th>Position</th>\n",
       "      <th>Joined</th>\n",
       "      <th>Loaned From</th>\n",
       "      <th>Contract Valid Until</th>\n",
       "      <th>Height(cm.)</th>\n",
       "      <th>Weight(lbs.)</th>\n",
       "      <th>Release Clause(£)</th>\n",
       "      <th>Kit Number</th>\n",
       "      <th>Best Overall Rating</th>\n",
       "      <th>Year_Joined</th>\n",
       "    </tr>\n",
       "  </thead>\n",
       "  <tbody>\n",
       "    <tr>\n",
       "      <th>0</th>\n",
       "      <td>209658</td>\n",
       "      <td>L. Goretzka</td>\n",
       "      <td>27</td>\n",
       "      <td>https://cdn.sofifa.net/players/209/658/23_60.png</td>\n",
       "      <td>Germany</td>\n",
       "      <td>https://cdn.sofifa.net/flags/de.png</td>\n",
       "      <td>87</td>\n",
       "      <td>88</td>\n",
       "      <td>FC Bayern München</td>\n",
       "      <td>https://cdn.sofifa.net/teams/21/30.png</td>\n",
       "      <td>...</td>\n",
       "      <td>SUB</td>\n",
       "      <td>7/1/2018</td>\n",
       "      <td>None</td>\n",
       "      <td>2026</td>\n",
       "      <td>189</td>\n",
       "      <td>180.810</td>\n",
       "      <td>157000000</td>\n",
       "      <td>8</td>\n",
       "      <td>0</td>\n",
       "      <td>2018</td>\n",
       "    </tr>\n",
       "    <tr>\n",
       "      <th>1</th>\n",
       "      <td>212198</td>\n",
       "      <td>Bruno Fernandes</td>\n",
       "      <td>27</td>\n",
       "      <td>https://cdn.sofifa.net/players/212/198/23_60.png</td>\n",
       "      <td>Portugal</td>\n",
       "      <td>https://cdn.sofifa.net/flags/pt.png</td>\n",
       "      <td>86</td>\n",
       "      <td>87</td>\n",
       "      <td>Manchester United</td>\n",
       "      <td>https://cdn.sofifa.net/teams/11/30.png</td>\n",
       "      <td>...</td>\n",
       "      <td>LCM</td>\n",
       "      <td>1/30/2020</td>\n",
       "      <td>None</td>\n",
       "      <td>2026</td>\n",
       "      <td>179</td>\n",
       "      <td>152.145</td>\n",
       "      <td>155000000</td>\n",
       "      <td>8</td>\n",
       "      <td>0</td>\n",
       "      <td>2020</td>\n",
       "    </tr>\n",
       "    <tr>\n",
       "      <th>2</th>\n",
       "      <td>224334</td>\n",
       "      <td>M. Acuña</td>\n",
       "      <td>30</td>\n",
       "      <td>https://cdn.sofifa.net/players/224/334/23_60.png</td>\n",
       "      <td>Argentina</td>\n",
       "      <td>https://cdn.sofifa.net/flags/ar.png</td>\n",
       "      <td>85</td>\n",
       "      <td>85</td>\n",
       "      <td>Sevilla FC</td>\n",
       "      <td>https://cdn.sofifa.net/teams/481/30.png</td>\n",
       "      <td>...</td>\n",
       "      <td>LB</td>\n",
       "      <td>9/14/2020</td>\n",
       "      <td>None</td>\n",
       "      <td>2024</td>\n",
       "      <td>172</td>\n",
       "      <td>152.145</td>\n",
       "      <td>97700000</td>\n",
       "      <td>19</td>\n",
       "      <td>0</td>\n",
       "      <td>2020</td>\n",
       "    </tr>\n",
       "    <tr>\n",
       "      <th>3</th>\n",
       "      <td>192985</td>\n",
       "      <td>K. De Bruyne</td>\n",
       "      <td>31</td>\n",
       "      <td>https://cdn.sofifa.net/players/192/985/23_60.png</td>\n",
       "      <td>Belgium</td>\n",
       "      <td>https://cdn.sofifa.net/flags/be.png</td>\n",
       "      <td>91</td>\n",
       "      <td>91</td>\n",
       "      <td>Manchester City</td>\n",
       "      <td>https://cdn.sofifa.net/teams/10/30.png</td>\n",
       "      <td>...</td>\n",
       "      <td>RCM</td>\n",
       "      <td>8/30/2015</td>\n",
       "      <td>None</td>\n",
       "      <td>2025</td>\n",
       "      <td>181</td>\n",
       "      <td>154.350</td>\n",
       "      <td>198900000</td>\n",
       "      <td>17</td>\n",
       "      <td>0</td>\n",
       "      <td>2015</td>\n",
       "    </tr>\n",
       "    <tr>\n",
       "      <th>4</th>\n",
       "      <td>224232</td>\n",
       "      <td>N. Barella</td>\n",
       "      <td>25</td>\n",
       "      <td>https://cdn.sofifa.net/players/224/232/23_60.png</td>\n",
       "      <td>Italy</td>\n",
       "      <td>https://cdn.sofifa.net/flags/it.png</td>\n",
       "      <td>86</td>\n",
       "      <td>89</td>\n",
       "      <td>Inter</td>\n",
       "      <td>https://cdn.sofifa.net/teams/44/30.png</td>\n",
       "      <td>...</td>\n",
       "      <td>RCM</td>\n",
       "      <td>9/1/2020</td>\n",
       "      <td>None</td>\n",
       "      <td>2026</td>\n",
       "      <td>172</td>\n",
       "      <td>149.940</td>\n",
       "      <td>154400000</td>\n",
       "      <td>23</td>\n",
       "      <td>0</td>\n",
       "      <td>2020</td>\n",
       "    </tr>\n",
       "  </tbody>\n",
       "</table>\n",
       "<p>5 rows × 30 columns</p>\n",
       "</div>"
      ],
      "text/plain": [
       "       ID             Name  Age  \\\n",
       "0  209658      L. Goretzka   27   \n",
       "1  212198  Bruno Fernandes   27   \n",
       "2  224334         M. Acuña   30   \n",
       "3  192985     K. De Bruyne   31   \n",
       "4  224232       N. Barella   25   \n",
       "\n",
       "                                              Photo Nationality  \\\n",
       "0  https://cdn.sofifa.net/players/209/658/23_60.png     Germany   \n",
       "1  https://cdn.sofifa.net/players/212/198/23_60.png    Portugal   \n",
       "2  https://cdn.sofifa.net/players/224/334/23_60.png   Argentina   \n",
       "3  https://cdn.sofifa.net/players/192/985/23_60.png     Belgium   \n",
       "4  https://cdn.sofifa.net/players/224/232/23_60.png       Italy   \n",
       "\n",
       "                                  Flag  Overall  Potential               Club  \\\n",
       "0  https://cdn.sofifa.net/flags/de.png       87         88  FC Bayern München   \n",
       "1  https://cdn.sofifa.net/flags/pt.png       86         87  Manchester United   \n",
       "2  https://cdn.sofifa.net/flags/ar.png       85         85         Sevilla FC   \n",
       "3  https://cdn.sofifa.net/flags/be.png       91         91    Manchester City   \n",
       "4  https://cdn.sofifa.net/flags/it.png       86         89              Inter   \n",
       "\n",
       "                                 Club Logo  ...  Position     Joined  \\\n",
       "0   https://cdn.sofifa.net/teams/21/30.png  ...       SUB   7/1/2018   \n",
       "1   https://cdn.sofifa.net/teams/11/30.png  ...       LCM  1/30/2020   \n",
       "2  https://cdn.sofifa.net/teams/481/30.png  ...        LB  9/14/2020   \n",
       "3   https://cdn.sofifa.net/teams/10/30.png  ...       RCM  8/30/2015   \n",
       "4   https://cdn.sofifa.net/teams/44/30.png  ...       RCM   9/1/2020   \n",
       "\n",
       "   Loaned From Contract Valid Until  Height(cm.)  Weight(lbs.)  \\\n",
       "0         None                 2026          189       180.810   \n",
       "1         None                 2026          179       152.145   \n",
       "2         None                 2024          172       152.145   \n",
       "3         None                 2025          181       154.350   \n",
       "4         None                 2026          172       149.940   \n",
       "\n",
       "   Release Clause(£) Kit Number Best Overall Rating Year_Joined  \n",
       "0          157000000          8                   0        2018  \n",
       "1          155000000          8                   0        2020  \n",
       "2           97700000         19                   0        2020  \n",
       "3          198900000         17                   0        2015  \n",
       "4          154400000         23                   0        2020  \n",
       "\n",
       "[5 rows x 30 columns]"
      ]
     },
     "execution_count": 17,
     "metadata": {},
     "output_type": "execute_result"
    }
   ],
   "source": [
    "df.head()"
   ]
  },
  {
   "cell_type": "code",
   "execution_count": 19,
   "metadata": {},
   "outputs": [
    {
     "data": {
      "text/plain": [
       "<Axes: xlabel='Age', ylabel='Density'>"
      ]
     },
     "execution_count": 19,
     "metadata": {},
     "output_type": "execute_result"
    },
    {
     "data": {
      "image/png": "[encoded data removed]",
      "text/plain": [
       "<Figure size 640x480 with 1 Axes>"
      ]
     },
     "metadata": {},
     "output_type": "display_data"
    }
   ],
   "source": [
    "sns.kdeplot(df['Age'])"
   ]
  },
  {
   "cell_type": "code",
   "execution_count": 20,
   "metadata": {},
   "outputs": [],
   "source": [
    "#central limint theorem\n",
    "sample = []\n",
    "\n",
    "for i in range(100):\n",
    "    sample.append(df['Age'].sample(50).values.tolist())"
   ]
  },
  {
   "cell_type": "code",
   "execution_count": 23,
   "metadata": {},
   "outputs": [],
   "source": [
    "sample = np.array(sample)"
   ]
  },
  {
   "cell_type": "code",
   "execution_count": 25,
   "metadata": {},
   "outputs": [
    {
     "data": {
      "text/plain": [
       "(100, 50)"
      ]
     },
     "execution_count": 25,
     "metadata": {},
     "output_type": "execute_result"
    }
   ],
   "source": [
    "sample.shape"
   ]
  },
  {
   "cell_type": "code",
   "execution_count": 26,
   "metadata": {},
   "outputs": [],
   "source": [
    "sample_mean = sample.mean(axis=1)"
   ]
  },
  {
   "cell_type": "code",
   "execution_count": 28,
   "metadata": {},
   "outputs": [
    {
     "data": {
      "text/plain": [
       "<Axes: ylabel='Density'>"
      ]
     },
     "execution_count": 28,
     "metadata": {},
     "output_type": "execute_result"
    },
    {
     "data": {
      "image/png": "[encoded data removed]",
      "text/plain": [
       "<Figure size 640x480 with 1 Axes>"
      ]
     },
     "metadata": {},
     "output_type": "display_data"
    }
   ],
   "source": [
    "sns.kdeplot(sample_mean)"
   ]
  },
  {
   "cell_type": "code",
   "execution_count": 29,
   "metadata": {},
   "outputs": [
    {
     "data": {
      "text/html": [
       "<div>\n",
       "<style scoped>\n",
       "    .dataframe tbody tr th:only-of-type {\n",
       "        vertical-align: middle;\n",
       "    }\n",
       "\n",
       "    .dataframe tbody tr th {\n",
       "        vertical-align: top;\n",
       "    }\n",
       "\n",
       "    .dataframe thead th {\n",
       "        text-align: right;\n",
       "    }\n",
       "</style>\n",
       "<table border=\"1\" class=\"dataframe\">\n",
       "  <thead>\n",
       "    <tr style=\"text-align: right;\">\n",
       "      <th></th>\n",
       "      <th>ID</th>\n",
       "      <th>Name</th>\n",
       "      <th>Age</th>\n",
       "      <th>Photo</th>\n",
       "      <th>Nationality</th>\n",
       "      <th>Flag</th>\n",
       "      <th>Overall</th>\n",
       "      <th>Potential</th>\n",
       "      <th>Club</th>\n",
       "      <th>Club Logo</th>\n",
       "      <th>...</th>\n",
       "      <th>Position</th>\n",
       "      <th>Joined</th>\n",
       "      <th>Loaned From</th>\n",
       "      <th>Contract Valid Until</th>\n",
       "      <th>Height(cm.)</th>\n",
       "      <th>Weight(lbs.)</th>\n",
       "      <th>Release Clause(£)</th>\n",
       "      <th>Kit Number</th>\n",
       "      <th>Best Overall Rating</th>\n",
       "      <th>Year_Joined</th>\n",
       "    </tr>\n",
       "  </thead>\n",
       "  <tbody>\n",
       "    <tr>\n",
       "      <th>0</th>\n",
       "      <td>209658</td>\n",
       "      <td>L. Goretzka</td>\n",
       "      <td>27</td>\n",
       "      <td>https://cdn.sofifa.net/players/209/658/23_60.png</td>\n",
       "      <td>Germany</td>\n",
       "      <td>https://cdn.sofifa.net/flags/de.png</td>\n",
       "      <td>87</td>\n",
       "      <td>88</td>\n",
       "      <td>FC Bayern München</td>\n",
       "      <td>https://cdn.sofifa.net/teams/21/30.png</td>\n",
       "      <td>...</td>\n",
       "      <td>SUB</td>\n",
       "      <td>7/1/2018</td>\n",
       "      <td>None</td>\n",
       "      <td>2026</td>\n",
       "      <td>189</td>\n",
       "      <td>180.810</td>\n",
       "      <td>157000000</td>\n",
       "      <td>8</td>\n",
       "      <td>0</td>\n",
       "      <td>2018</td>\n",
       "    </tr>\n",
       "    <tr>\n",
       "      <th>1</th>\n",
       "      <td>212198</td>\n",
       "      <td>Bruno Fernandes</td>\n",
       "      <td>27</td>\n",
       "      <td>https://cdn.sofifa.net/players/212/198/23_60.png</td>\n",
       "      <td>Portugal</td>\n",
       "      <td>https://cdn.sofifa.net/flags/pt.png</td>\n",
       "      <td>86</td>\n",
       "      <td>87</td>\n",
       "      <td>Manchester United</td>\n",
       "      <td>https://cdn.sofifa.net/teams/11/30.png</td>\n",
       "      <td>...</td>\n",
       "      <td>LCM</td>\n",
       "      <td>1/30/2020</td>\n",
       "      <td>None</td>\n",
       "      <td>2026</td>\n",
       "      <td>179</td>\n",
       "      <td>152.145</td>\n",
       "      <td>155000000</td>\n",
       "      <td>8</td>\n",
       "      <td>0</td>\n",
       "      <td>2020</td>\n",
       "    </tr>\n",
       "    <tr>\n",
       "      <th>2</th>\n",
       "      <td>224334</td>\n",
       "      <td>M. Acuña</td>\n",
       "      <td>30</td>\n",
       "      <td>https://cdn.sofifa.net/players/224/334/23_60.png</td>\n",
       "      <td>Argentina</td>\n",
       "      <td>https://cdn.sofifa.net/flags/ar.png</td>\n",
       "      <td>85</td>\n",
       "      <td>85</td>\n",
       "      <td>Sevilla FC</td>\n",
       "      <td>https://cdn.sofifa.net/teams/481/30.png</td>\n",
       "      <td>...</td>\n",
       "      <td>LB</td>\n",
       "      <td>9/14/2020</td>\n",
       "      <td>None</td>\n",
       "      <td>2024</td>\n",
       "      <td>172</td>\n",
       "      <td>152.145</td>\n",
       "      <td>97700000</td>\n",
       "      <td>19</td>\n",
       "      <td>0</td>\n",
       "      <td>2020</td>\n",
       "    </tr>\n",
       "    <tr>\n",
       "      <th>3</th>\n",
       "      <td>192985</td>\n",
       "      <td>K. De Bruyne</td>\n",
       "      <td>31</td>\n",
       "      <td>https://cdn.sofifa.net/players/192/985/23_60.png</td>\n",
       "      <td>Belgium</td>\n",
       "      <td>https://cdn.sofifa.net/flags/be.png</td>\n",
       "      <td>91</td>\n",
       "      <td>91</td>\n",
       "      <td>Manchester City</td>\n",
       "      <td>https://cdn.sofifa.net/teams/10/30.png</td>\n",
       "      <td>...</td>\n",
       "      <td>RCM</td>\n",
       "      <td>8/30/2015</td>\n",
       "      <td>None</td>\n",
       "      <td>2025</td>\n",
       "      <td>181</td>\n",
       "      <td>154.350</td>\n",
       "      <td>198900000</td>\n",
       "      <td>17</td>\n",
       "      <td>0</td>\n",
       "      <td>2015</td>\n",
       "    </tr>\n",
       "    <tr>\n",
       "      <th>4</th>\n",
       "      <td>224232</td>\n",
       "      <td>N. Barella</td>\n",
       "      <td>25</td>\n",
       "      <td>https://cdn.sofifa.net/players/224/232/23_60.png</td>\n",
       "      <td>Italy</td>\n",
       "      <td>https://cdn.sofifa.net/flags/it.png</td>\n",
       "      <td>86</td>\n",
       "      <td>89</td>\n",
       "      <td>Inter</td>\n",
       "      <td>https://cdn.sofifa.net/teams/44/30.png</td>\n",
       "      <td>...</td>\n",
       "      <td>RCM</td>\n",
       "      <td>9/1/2020</td>\n",
       "      <td>None</td>\n",
       "      <td>2026</td>\n",
       "      <td>172</td>\n",
       "      <td>149.940</td>\n",
       "      <td>154400000</td>\n",
       "      <td>23</td>\n",
       "      <td>0</td>\n",
       "      <td>2020</td>\n",
       "    </tr>\n",
       "  </tbody>\n",
       "</table>\n",
       "<p>5 rows × 30 columns</p>\n",
       "</div>"
      ],
      "text/plain": [
       "       ID             Name  Age  \\\n",
       "0  209658      L. Goretzka   27   \n",
       "1  212198  Bruno Fernandes   27   \n",
       "2  224334         M. Acuña   30   \n",
       "3  192985     K. De Bruyne   31   \n",
       "4  224232       N. Barella   25   \n",
       "\n",
       "                                              Photo Nationality  \\\n",
       "0  https://cdn.sofifa.net/players/209/658/23_60.png     Germany   \n",
       "1  https://cdn.sofifa.net/players/212/198/23_60.png    Portugal   \n",
       "2  https://cdn.sofifa.net/players/224/334/23_60.png   Argentina   \n",
       "3  https://cdn.sofifa.net/players/192/985/23_60.png     Belgium   \n",
       "4  https://cdn.sofifa.net/players/224/232/23_60.png       Italy   \n",
       "\n",
       "                                  Flag  Overall  Potential               Club  \\\n",
       "0  https://cdn.sofifa.net/flags/de.png       87         88  FC Bayern München   \n",
       "1  https://cdn.sofifa.net/flags/pt.png       86         87  Manchester United   \n",
       "2  https://cdn.sofifa.net/flags/ar.png       85         85         Sevilla FC   \n",
       "3  https://cdn.sofifa.net/flags/be.png       91         91    Manchester City   \n",
       "4  https://cdn.sofifa.net/flags/it.png       86         89              Inter   \n",
       "\n",
       "                                 Club Logo  ...  Position     Joined  \\\n",
       "0   https://cdn.sofifa.net/teams/21/30.png  ...       SUB   7/1/2018   \n",
       "1   https://cdn.sofifa.net/teams/11/30.png  ...       LCM  1/30/2020   \n",
       "2  https://cdn.sofifa.net/teams/481/30.png  ...        LB  9/14/2020   \n",
       "3   https://cdn.sofifa.net/teams/10/30.png  ...       RCM  8/30/2015   \n",
       "4   https://cdn.sofifa.net/teams/44/30.png  ...       RCM   9/1/2020   \n",
       "\n",
       "   Loaned From Contract Valid Until  Height(cm.)  Weight(lbs.)  \\\n",
       "0         None                 2026          189       180.810   \n",
       "1         None                 2026          179       152.145   \n",
       "2         None                 2024          172       152.145   \n",
       "3         None                 2025          181       154.350   \n",
       "4         None                 2026          172       149.940   \n",
       "\n",
       "   Release Clause(£) Kit Number Best Overall Rating Year_Joined  \n",
       "0          157000000          8                   0        2018  \n",
       "1          155000000          8                   0        2020  \n",
       "2           97700000         19                   0        2020  \n",
       "3          198900000         17                   0        2015  \n",
       "4          154400000         23                   0        2020  \n",
       "\n",
       "[5 rows x 30 columns]"
      ]
     },
     "execution_count": 29,
     "metadata": {},
     "output_type": "execute_result"
    }
   ],
   "source": [
    "df.head()"
   ]
  },
  {
   "cell_type": "code",
   "execution_count": 36,
   "metadata": {},
   "outputs": [
    {
     "data": {
      "text/plain": [
       "(206, 149)"
      ]
     },
     "execution_count": 36,
     "metadata": {},
     "output_type": "execute_result"
    }
   ],
   "source": [
    "df['Height(cm.)'].max(),df['Height(cm.)'].min()"
   ]
  },
  {
   "cell_type": "code",
   "execution_count": 39,
   "metadata": {},
   "outputs": [
    {
     "data": {
      "text/plain": [
       "ID                                                                    211093\n",
       "Name                                                             C. McGregor\n",
       "Age                                                                       29\n",
       "Photo                       https://cdn.sofifa.net/players/211/093/23_60.png\n",
       "Nationality                                                         Scotland\n",
       "Flag                                 https://cdn.sofifa.net/flags/gb-sct.png\n",
       "Overall                                                                   77\n",
       "Potential                                                                 77\n",
       "Club                                                                  Celtic\n",
       "Club Logo                             https://cdn.sofifa.net/teams/78/30.png\n",
       "Value(£)                                                             9000000\n",
       "Wage(£)                                                                50000\n",
       "Special                                                                 2111\n",
       "Preferred Foot                                                          Left\n",
       "International Reputation                                                   1\n",
       "Weak Foot                                                                  4\n",
       "Skill Moves                                                                4\n",
       "Work Rate                                                         High/ High\n",
       "Body Type                                                   Normal (170-185)\n",
       "Real Face                                                                 No\n",
       "Position                                                                 CDM\n",
       "Joined                                                              7/7/2009\n",
       "Loaned From                                                             None\n",
       "Contract Valid Until                                                    2026\n",
       "Height(cm.)                                                              178\n",
       "Weight(lbs.)                                                          163.17\n",
       "Release Clause(£)                                                   16200000\n",
       "Kit Number                                                                42\n",
       "Best Overall Rating                                                        0\n",
       "Year_Joined                                                             2009\n",
       "Name: 206, dtype: object"
      ]
     },
     "execution_count": 39,
     "metadata": {},
     "output_type": "execute_result"
    }
   ],
   "source": [
    "df.iloc[df['Height(cm.)'].max()]"
   ]
  },
  {
   "cell_type": "code",
   "execution_count": 4,
   "metadata": {},
   "outputs": [],
   "source": [
    "population = df['Age']"
   ]
  },
  {
   "cell_type": "code",
   "execution_count": 5,
   "metadata": {},
   "outputs": [
    {
     "data": {
      "text/plain": [
       "array([22, 28, 19, 24, 25, 31, 30, 33, 19, 19, 20, 26, 22, 24, 33, 21, 20,\n",
       "       19, 17, 22, 22, 29, 27, 17, 17], dtype=int64)"
      ]
     },
     "execution_count": 5,
     "metadata": {},
     "output_type": "execute_result"
    }
   ],
   "source": [
    "sample = df['Age'].sample(25).values\n",
    "sample"
   ]
  },
  {
   "cell_type": "code",
   "execution_count": 7,
   "metadata": {},
   "outputs": [],
   "source": [
    "# H0 =  mean is 35\n",
    "# H1 =  mean is less than 35\n",
    "pop_mean = 35\n"
   ]
  },
  {
   "cell_type": "code",
   "execution_count": 6,
   "metadata": {},
   "outputs": [
    {
     "name": "stdout",
     "output_type": "stream",
     "text": [
      "ShapiroResult(statistic=0.9246234893798828, pvalue=0.0653543695807457)\n"
     ]
    }
   ],
   "source": [
    "# check the normality using shapiro\n",
    "\n",
    "from scipy.stats import shapiro\n",
    "\n",
    "shapiro_age = shapiro(sample)\n",
    "print(shapiro_age)\n",
    "# if pvalue > 0.05 data is normally distributed "
   ]
  },
  {
   "cell_type": "code",
   "execution_count": 9,
   "metadata": {},
   "outputs": [
    {
     "name": "stdout",
     "output_type": "stream",
     "text": [
      "-11.577766206065906 1.3070093883406123e-11\n"
     ]
    }
   ],
   "source": [
    "import scipy.stats as stats\n",
    "\n",
    "t_statistics, p_value = stats.ttest_1samp(sample, pop_mean)\n",
    "\n",
    "print(t_statistics,p_value/2)"
   ]
  },
  {
   "cell_type": "code",
   "execution_count": 10,
   "metadata": {},
   "outputs": [
    {
     "name": "stdout",
     "output_type": "stream",
     "text": [
      "reject the null hypothesis\n"
     ]
    }
   ],
   "source": [
    "alpha = 0.05\n",
    "\n",
    "if(p_value < alpha):\n",
    "    print(\"reject the null hypothesis\")\n",
    "\n",
    "else:\n",
    "    print(\"do not reject the null hypothesis\")    \n"
   ]
  },
  {
   "cell_type": "code",
   "execution_count": 11,
   "metadata": {},
   "outputs": [
    {
     "data": {
      "text/plain": [
       "23.44"
      ]
     },
     "execution_count": 11,
     "metadata": {},
     "output_type": "execute_result"
    }
   ],
   "source": [
    "sample.mean()"
   ]
  },
  {
   "cell_type": "code",
   "execution_count": 12,
   "metadata": {},
   "outputs": [
    {
     "data": {
      "text/plain": [
       "23.127746319365798"
      ]
     },
     "execution_count": 12,
     "metadata": {},
     "output_type": "execute_result"
    }
   ],
   "source": [
    "population.mean()"
   ]
  },
  {
   "cell_type": "code",
   "execution_count": null,
   "metadata": {},
   "outputs": [],
   "source": []
  },
  {
   "cell_type": "code",
   "execution_count": null,
   "metadata": {},
   "outputs": [],
   "source": []
  }
 ],
 "metadata": {
  "kernelspec": {
   "display_name": "Python 3",
   "language": "python",
   "name": "python3"
  },
  "language_info": {
   "codemirror_mode": {
    "name": "ipython",
    "version": 3
   },
   "file_extension": ".py",
   "mimetype": "text/x-python",
   "name": "python",
   "nbconvert_exporter": "python",
   "pygments_lexer": "ipython3",
   "version": "3.11.1"
  },
  "orig_nbformat": 4
 },
 "nbformat": 4,
 "nbformat_minor": 2
}
