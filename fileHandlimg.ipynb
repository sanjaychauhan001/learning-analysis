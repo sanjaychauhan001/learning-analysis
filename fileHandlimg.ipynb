{
 "cells": [
  {
   "cell_type": "code",
   "execution_count": 2,
   "metadata": {},
   "outputs": [],
   "source": [
    "f = open('sample.txt', 'w')\n",
    "f.write(\"hello sanjay \\nHow are ypu?\")\n",
    "f.close()"
   ]
  },
  {
   "cell_type": "code",
   "execution_count": 3,
   "metadata": {},
   "outputs": [
    {
     "name": "stdout",
     "output_type": "stream",
     "text": [
      "hello sanj\n"
     ]
    }
   ],
   "source": [
    "f = open('sample.txt','r')\n",
    "s = f.read(10)\n",
    "print(s)\n",
    "f.close()"
   ]
  },
  {
   "cell_type": "code",
   "execution_count": 6,
   "metadata": {},
   "outputs": [],
   "source": [
    "f = open('sample.txt','a')\n",
    "f.write('I am fine')\n",
    "\n",
    "f.close()"
   ]
  },
  {
   "cell_type": "code",
   "execution_count": 10,
   "metadata": {},
   "outputs": [],
   "source": [
    "with open('sample.txt','w') as f:\n",
    "    f.write('Salemon Bhai')"
   ]
  },
  {
   "cell_type": "code",
   "execution_count": 14,
   "metadata": {},
   "outputs": [],
   "source": [
    "big_L = ['hello world' for i in range(1000)]\n",
    "\n",
    "with open('big.txt','w') as f:\n",
    "    f.writelines(big_L)"
   ]
  },
  {
   "cell_type": "code",
   "execution_count": 15,
   "metadata": {},
   "outputs": [
    {
     "name": "stdout",
     "output_type": "stream",
     "text": [
      "ello worldhello worldhello worldhello worldhello worldhello worldhello worldhello worldhello worldhe o worldhello worldhello worldhello worldhello worldhello worldhello worldhello worldhello worldhello orldhello worldhello worldhello worldhello worldhello worldhello worldhello worldhello worldhello wo dhello worldhello worldhello worldhello worldhello worldhello worldhello worldhello worldhello world llo worldhello worldhello worldhello worldhello worldhello worldhello worldhello worldhello worldhel  worldhello worldhello worldhello worldhello worldhello worldhello worldhello worldhello worldhello  rldhello worldhello worldhello worldhello worldhello worldhello worldhello worldhello worldhello wor hello worldhello worldhello worldhello worldhello worldhello worldhello worldhello worldhello worldh lo worldhello worldhello worldhello worldhello worldhello worldhello worldhello worldhello worldhell worldhello worldhello worldhello worldhello worldhello worldhello worldhello worldhello worldhello w ldhello worldhello worldhello worldhello worldhello worldhello worldhello worldhello worldhello worl ello worldhello worldhello worldhello worldhello worldhello worldhello worldhello worldhello worldhe o worldhello worldhello worldhello worldhello worldhello worldhello worldhello worldhello worldhello orldhello worldhello worldhello worldhello worldhello worldhello worldhello worldhello worldhello wo dhello worldhello worldhello worldhello worldhello worldhello worldhello worldhello worldhello world llo worldhello worldhello worldhello worldhello worldhello worldhello worldhello worldhello worldhel  worldhello worldhello worldhello worldhello worldhello worldhello worldhello worldhello worldhello  rldhello worldhello worldhello worldhello worldhello worldhello worldhello worldhello worldhello wor hello worldhello worldhello worldhello worldhello worldhello worldhello worldhello worldhello worldh lo worldhello worldhello worldhello worldhello worldhello worldhello worldhello worldhello worldhell worldhello worldhello worldhello worldhello worldhello worldhello worldhello worldhello worldhello w ldhello worldhello worldhello worldhello worldhello worldhello worldhello worldhello worldhello worl ello worldhello worldhello worldhello worldhello worldhello worldhello worldhello worldhello worldhe o worldhello worldhello worldhello worldhello worldhello worldhello worldhello worldhello worldhello orldhello worldhello worldhello worldhello worldhello worldhello worldhello worldhello worldhello wo dhello worldhello worldhello worldhello worldhello worldhello worldhello worldhello worldhello world llo worldhello worldhello worldhello worldhello worldhello worldhello worldhello worldhello worldhel  worldhello worldhello worldhello worldhello worldhello worldhello worldhello worldhello worldhello  rldhello worldhello worldhello worldhello worldhello worldhello worldhello worldhello worldhello wor hello worldhello worldhello worldhello worldhello worldhello worldhello worldhello worldhello worldh lo worldhello worldhello worldhello worldhello worldhello worldhello worldhello worldhello worldhell worldhello worldhello worldhello worldhello worldhello worldhello worldhello worldhello worldhello w ldhello worldhello worldhello worldhello worldhello worldhello worldhello worldhello worldhello worl ello worldhello worldhello worldhello worldhello worldhello worldhello worldhello worldhello worldhe o worldhello worldhello worldhello worldhello worldhello worldhello worldhello worldhello worldhello orldhello worldhello worldhello worldhello worldhello worldhello worldhello worldhello worldhello wo dhello worldhello worldhello worldhello worldhello worldhello worldhello worldhello worldhello world "
     ]
    }
   ],
   "source": [
    "with open('big.txt','r') as f:\n",
    "\n",
    "    chunk_size = 100\n",
    "\n",
    "    while len(f.read(chunk_size)) > 0:\n",
    "        print(f.read(chunk_size),end=' ')\n",
    "        f.read(chunk_size)"
   ]
  },
  {
   "cell_type": "code",
   "execution_count": 19,
   "metadata": {},
   "outputs": [
    {
     "name": "stdout",
     "output_type": "stream",
     "text": [
      "lo worldhe\n",
      "13\n"
     ]
    }
   ],
   "source": [
    "with open('big.txt','r') as f:\n",
    "    f.seek(3)\n",
    "    print(f.read(10))\n",
    "    print(f.tell())"
   ]
  },
  {
   "cell_type": "code",
   "execution_count": null,
   "metadata": {},
   "outputs": [],
   "source": []
  },
  {
   "cell_type": "code",
   "execution_count": null,
   "metadata": {},
   "outputs": [],
   "source": []
  }
 ],
 "metadata": {
  "kernelspec": {
   "display_name": "Python 3",
   "language": "python",
   "name": "python3"
  },
  "language_info": {
   "codemirror_mode": {
    "name": "ipython",
    "version": 3
   },
   "file_extension": ".py",
   "mimetype": "text/x-python",
   "name": "python",
   "nbconvert_exporter": "python",
   "pygments_lexer": "ipython3",
   "version": "3.11.1"
  },
  "orig_nbformat": 4
 },
 "nbformat": 4,
 "nbformat_minor": 2
}
