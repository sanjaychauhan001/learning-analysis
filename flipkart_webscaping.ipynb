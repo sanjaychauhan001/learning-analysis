{
 "cells": [
  {
   "cell_type": "code",
   "execution_count": 2,
   "metadata": {},
   "outputs": [],
   "source": [
    "from selenium import webdriver\n",
    "from selenium.webdriver.chrome.service import Service\n",
    "import time\n",
    "from bs4 import BeautifulSoup\n",
    "import pandas as pd\n",
    "import numpy as np\n",
    "import requests"
   ]
  },
  {
   "cell_type": "code",
   "execution_count": 3,
   "metadata": {},
   "outputs": [],
   "source": [
    "s = Service(\"C:/Users/sanja/OneDrive/Desktop/chromedriver-win64/chromedriver.exe\")\n",
    "driver = webdriver.Chrome(service=s)\n",
    "model = []\n",
    "price = []\n",
    "ranting = []\n",
    "ram = []\n",
    "display = []\n",
    "camera = []\n",
    "battery = []\n",
    "processor = []\n",
    "warrenty = []\n",
    "\n",
    "for i in range(1,100):\n",
    "    driver.get(f\"https://www.flipkart.com/search?sid=tyy%2C4io&otracker=CLP_Filters&p%5B%5D=facets.type%255B%255D%3DSmartphones&page={i}\")\n",
    "    time.sleep(1)\n",
    "    html = driver.page_source\n",
    "    soup = BeautifulSoup(html, 'lxml')\n",
    "    soup.prettify()\n",
    "    \n",
    "    # model\n",
    "    try:\n",
    "        for j in soup.find_all('div', {'class':'_4rR01T'}):\n",
    "            model.append(j.text)\n",
    "    except:\n",
    "        model.append(np.nan)\n",
    "\n",
    "    # price\n",
    "    try:\n",
    "        for k in soup.find_all('div', {'class':'_30jeq3 _1_WHN1'}):\n",
    "            price.append(k.text)\n",
    "    except:\n",
    "        price.append(np.nan)\n",
    "    \n",
    "    # rating\n",
    "    try:\n",
    "        for l in soup.find_all('div', {'class':'_3LWZlK'}):\n",
    "            ranting.append(l.text)\n",
    "    except:\n",
    "        ranting.append(np.nan)\n",
    "\n",
    "    # ram \n",
    "    try:   \n",
    "        for m in soup.find_all('ul',{'class':'_1xgFaf'}):\n",
    "            if len(soup.find_all('ul',{'class':'_1xgFaf'})) >= 1:\n",
    "                ram.append(m.find_all('li')[0])\n",
    "            else:\n",
    "                ram.append(np.nan)    \n",
    "    except:\n",
    "        ram.append(np.nan)   \n",
    "\n",
    "    #display  \n",
    "    try:   \n",
    "        for n in soup.find_all('ul',{'class':'_1xgFaf'}):\n",
    "            if len(soup.find_all('ul',{'class':'_1xgFaf'})) >= 2:\n",
    "                display.append(n.find_all('li')[1].text)\n",
    "            else:\n",
    "                display.append(np.nan)    \n",
    "    except:\n",
    "        display.append(np.nan) \n",
    "\n",
    "    # camera\n",
    "    try:   \n",
    "        for o in soup.find_all('ul',{'class':'_1xgFaf'}):\n",
    "            if len(soup.find_all('ul',{'class':'_1xgFaf'})) >= 3:\n",
    "                camera.append(o.find_all('li')[2].text)\n",
    "            else:\n",
    "                camera.append(np.nan)    \n",
    "    except:\n",
    "        camera.append(np.nan)  \n",
    "\n",
    "    # battery\n",
    "    try:   \n",
    "        for p in soup.find_all('ul',{'class':'_1xgFaf'}):\n",
    "            if len(soup.find_all('ul',{'class':'_1xgFaf'})) >= 4:\n",
    "                battery.append(p.find_all('li')[3].text)\n",
    "            else:\n",
    "                battery.append(np.nan)    \n",
    "    except:\n",
    "        battery.append(np.nan)       \n",
    "\n",
    "    #processor\n",
    "    try:   \n",
    "        for q in soup.find_all('ul',{'class':'_1xgFaf'}):\n",
    "            if len(soup.find_all('ul',{'class':'_1xgFaf'})) >= 4:\n",
    "                processor.append(q.find_all('li')[4].text)\n",
    "            else:\n",
    "                processor.append(np.nan)    \n",
    "    except:\n",
    "        processor.append(np.nan)    \n",
    "\n",
    "    # warranty\n",
    "    try:\n",
    "         \n",
    "        for r in soup.find_all('ul',{'class':'_1xgFaf'}):\n",
    "            if len(soup.find_all('ul',{'class':'_1xgFaf'})) >= 5:\n",
    "                warrenty.append(r.find_all('li')[5].text)\n",
    "            else:\n",
    "                warrenty.append(np.nan)\n",
    "    except:\n",
    "        warrenty.append(np.nan)    \n",
    "\n",
    "    time.sleep(1)    "
   ]
  },
  {
   "cell_type": "code",
   "execution_count": 5,
   "metadata": {},
   "outputs": [
    {
     "data": {
      "text/plain": [
       "172"
      ]
     },
     "execution_count": 5,
     "metadata": {},
     "output_type": "execute_result"
    }
   ],
   "source": [
    "len(warrenty)"
   ]
  },
  {
   "cell_type": "code",
   "execution_count": 6,
   "metadata": {},
   "outputs": [
    {
     "ename": "ValueError",
     "evalue": "All arrays must be of the same length",
     "output_type": "error",
     "traceback": [
      "\u001b[1;31m---------------------------------------------------------------------------\u001b[0m",
      "\u001b[1;31mValueError\u001b[0m                                Traceback (most recent call last)",
      "\u001b[1;32mc:\\Users\\sanja\\OneDrive\\Pictures\\learning analysis\\flipkart_webscaping.ipynb Cell 4\u001b[0m line \u001b[0;36m1\n\u001b[1;32m----> <a href='vscode-notebook-cell:/c%3A/Users/sanja/OneDrive/Pictures/learning%20analysis/flipkart_webscaping.ipynb#W2sZmlsZQ%3D%3D?line=0'>1</a>\u001b[0m df \u001b[39m=\u001b[39m pd\u001b[39m.\u001b[39;49mDataFrame({\n\u001b[0;32m      <a href='vscode-notebook-cell:/c%3A/Users/sanja/OneDrive/Pictures/learning%20analysis/flipkart_webscaping.ipynb#W2sZmlsZQ%3D%3D?line=1'>2</a>\u001b[0m     \u001b[39m'\u001b[39;49m\u001b[39mmodel\u001b[39;49m\u001b[39m'\u001b[39;49m:model,\n\u001b[0;32m      <a href='vscode-notebook-cell:/c%3A/Users/sanja/OneDrive/Pictures/learning%20analysis/flipkart_webscaping.ipynb#W2sZmlsZQ%3D%3D?line=2'>3</a>\u001b[0m     \u001b[39m\"\u001b[39;49m\u001b[39mprice\u001b[39;49m\u001b[39m\"\u001b[39;49m:price,\n\u001b[0;32m      <a href='vscode-notebook-cell:/c%3A/Users/sanja/OneDrive/Pictures/learning%20analysis/flipkart_webscaping.ipynb#W2sZmlsZQ%3D%3D?line=3'>4</a>\u001b[0m     \u001b[39m\"\u001b[39;49m\u001b[39mrating\u001b[39;49m\u001b[39m\"\u001b[39;49m:ranting,\n\u001b[0;32m      <a href='vscode-notebook-cell:/c%3A/Users/sanja/OneDrive/Pictures/learning%20analysis/flipkart_webscaping.ipynb#W2sZmlsZQ%3D%3D?line=4'>5</a>\u001b[0m     \u001b[39m'\u001b[39;49m\u001b[39mram\u001b[39;49m\u001b[39m'\u001b[39;49m:ram,\n\u001b[0;32m      <a href='vscode-notebook-cell:/c%3A/Users/sanja/OneDrive/Pictures/learning%20analysis/flipkart_webscaping.ipynb#W2sZmlsZQ%3D%3D?line=5'>6</a>\u001b[0m     \u001b[39m'\u001b[39;49m\u001b[39mdisplay\u001b[39;49m\u001b[39m'\u001b[39;49m:display,\n\u001b[0;32m      <a href='vscode-notebook-cell:/c%3A/Users/sanja/OneDrive/Pictures/learning%20analysis/flipkart_webscaping.ipynb#W2sZmlsZQ%3D%3D?line=6'>7</a>\u001b[0m     \u001b[39m\"\u001b[39;49m\u001b[39mprocessor\u001b[39;49m\u001b[39m\"\u001b[39;49m:processor,\n\u001b[0;32m      <a href='vscode-notebook-cell:/c%3A/Users/sanja/OneDrive/Pictures/learning%20analysis/flipkart_webscaping.ipynb#W2sZmlsZQ%3D%3D?line=7'>8</a>\u001b[0m     \u001b[39m'\u001b[39;49m\u001b[39mcamera\u001b[39;49m\u001b[39m'\u001b[39;49m:camera,\n\u001b[0;32m      <a href='vscode-notebook-cell:/c%3A/Users/sanja/OneDrive/Pictures/learning%20analysis/flipkart_webscaping.ipynb#W2sZmlsZQ%3D%3D?line=8'>9</a>\u001b[0m     \u001b[39m'\u001b[39;49m\u001b[39mbattery\u001b[39;49m\u001b[39m'\u001b[39;49m:battery,\n\u001b[0;32m     <a href='vscode-notebook-cell:/c%3A/Users/sanja/OneDrive/Pictures/learning%20analysis/flipkart_webscaping.ipynb#W2sZmlsZQ%3D%3D?line=9'>10</a>\u001b[0m     \u001b[39m'\u001b[39;49m\u001b[39mwarranty\u001b[39;49m\u001b[39m'\u001b[39;49m:warrenty\n\u001b[0;32m     <a href='vscode-notebook-cell:/c%3A/Users/sanja/OneDrive/Pictures/learning%20analysis/flipkart_webscaping.ipynb#W2sZmlsZQ%3D%3D?line=10'>11</a>\u001b[0m })\n",
      "File \u001b[1;32mc:\\Users\\sanja\\AppData\\Local\\Programs\\Python\\Python311\\Lib\\site-packages\\pandas\\core\\frame.py:664\u001b[0m, in \u001b[0;36mDataFrame.__init__\u001b[1;34m(self, data, index, columns, dtype, copy)\u001b[0m\n\u001b[0;32m    658\u001b[0m     mgr \u001b[39m=\u001b[39m \u001b[39mself\u001b[39m\u001b[39m.\u001b[39m_init_mgr(\n\u001b[0;32m    659\u001b[0m         data, axes\u001b[39m=\u001b[39m{\u001b[39m\"\u001b[39m\u001b[39mindex\u001b[39m\u001b[39m\"\u001b[39m: index, \u001b[39m\"\u001b[39m\u001b[39mcolumns\u001b[39m\u001b[39m\"\u001b[39m: columns}, dtype\u001b[39m=\u001b[39mdtype, copy\u001b[39m=\u001b[39mcopy\n\u001b[0;32m    660\u001b[0m     )\n\u001b[0;32m    662\u001b[0m \u001b[39melif\u001b[39;00m \u001b[39misinstance\u001b[39m(data, \u001b[39mdict\u001b[39m):\n\u001b[0;32m    663\u001b[0m     \u001b[39m# GH#38939 de facto copy defaults to False only in non-dict cases\u001b[39;00m\n\u001b[1;32m--> 664\u001b[0m     mgr \u001b[39m=\u001b[39m dict_to_mgr(data, index, columns, dtype\u001b[39m=\u001b[39;49mdtype, copy\u001b[39m=\u001b[39;49mcopy, typ\u001b[39m=\u001b[39;49mmanager)\n\u001b[0;32m    665\u001b[0m \u001b[39melif\u001b[39;00m \u001b[39misinstance\u001b[39m(data, ma\u001b[39m.\u001b[39mMaskedArray):\n\u001b[0;32m    666\u001b[0m     \u001b[39mimport\u001b[39;00m \u001b[39mnumpy\u001b[39;00m\u001b[39m.\u001b[39;00m\u001b[39mma\u001b[39;00m\u001b[39m.\u001b[39;00m\u001b[39mmrecords\u001b[39;00m \u001b[39mas\u001b[39;00m \u001b[39mmrecords\u001b[39;00m\n",
      "File \u001b[1;32mc:\\Users\\sanja\\AppData\\Local\\Programs\\Python\\Python311\\Lib\\site-packages\\pandas\\core\\internals\\construction.py:493\u001b[0m, in \u001b[0;36mdict_to_mgr\u001b[1;34m(data, index, columns, dtype, typ, copy)\u001b[0m\n\u001b[0;32m    489\u001b[0m     \u001b[39melse\u001b[39;00m:\n\u001b[0;32m    490\u001b[0m         \u001b[39m# dtype check to exclude e.g. range objects, scalars\u001b[39;00m\n\u001b[0;32m    491\u001b[0m         arrays \u001b[39m=\u001b[39m [x\u001b[39m.\u001b[39mcopy() \u001b[39mif\u001b[39;00m \u001b[39mhasattr\u001b[39m(x, \u001b[39m\"\u001b[39m\u001b[39mdtype\u001b[39m\u001b[39m\"\u001b[39m) \u001b[39melse\u001b[39;00m x \u001b[39mfor\u001b[39;00m x \u001b[39min\u001b[39;00m arrays]\n\u001b[1;32m--> 493\u001b[0m \u001b[39mreturn\u001b[39;00m arrays_to_mgr(arrays, columns, index, dtype\u001b[39m=\u001b[39;49mdtype, typ\u001b[39m=\u001b[39;49mtyp, consolidate\u001b[39m=\u001b[39;49mcopy)\n",
      "File \u001b[1;32mc:\\Users\\sanja\\AppData\\Local\\Programs\\Python\\Python311\\Lib\\site-packages\\pandas\\core\\internals\\construction.py:118\u001b[0m, in \u001b[0;36marrays_to_mgr\u001b[1;34m(arrays, columns, index, dtype, verify_integrity, typ, consolidate)\u001b[0m\n\u001b[0;32m    115\u001b[0m \u001b[39mif\u001b[39;00m verify_integrity:\n\u001b[0;32m    116\u001b[0m     \u001b[39m# figure out the index, if necessary\u001b[39;00m\n\u001b[0;32m    117\u001b[0m     \u001b[39mif\u001b[39;00m index \u001b[39mis\u001b[39;00m \u001b[39mNone\u001b[39;00m:\n\u001b[1;32m--> 118\u001b[0m         index \u001b[39m=\u001b[39m _extract_index(arrays)\n\u001b[0;32m    119\u001b[0m     \u001b[39melse\u001b[39;00m:\n\u001b[0;32m    120\u001b[0m         index \u001b[39m=\u001b[39m ensure_index(index)\n",
      "File \u001b[1;32mc:\\Users\\sanja\\AppData\\Local\\Programs\\Python\\Python311\\Lib\\site-packages\\pandas\\core\\internals\\construction.py:666\u001b[0m, in \u001b[0;36m_extract_index\u001b[1;34m(data)\u001b[0m\n\u001b[0;32m    664\u001b[0m lengths \u001b[39m=\u001b[39m \u001b[39mlist\u001b[39m(\u001b[39mset\u001b[39m(raw_lengths))\n\u001b[0;32m    665\u001b[0m \u001b[39mif\u001b[39;00m \u001b[39mlen\u001b[39m(lengths) \u001b[39m>\u001b[39m \u001b[39m1\u001b[39m:\n\u001b[1;32m--> 666\u001b[0m     \u001b[39mraise\u001b[39;00m \u001b[39mValueError\u001b[39;00m(\u001b[39m\"\u001b[39m\u001b[39mAll arrays must be of the same length\u001b[39m\u001b[39m\"\u001b[39m)\n\u001b[0;32m    668\u001b[0m \u001b[39mif\u001b[39;00m have_dicts:\n\u001b[0;32m    669\u001b[0m     \u001b[39mraise\u001b[39;00m \u001b[39mValueError\u001b[39;00m(\n\u001b[0;32m    670\u001b[0m         \u001b[39m\"\u001b[39m\u001b[39mMixing dicts with non-Series may lead to ambiguous ordering.\u001b[39m\u001b[39m\"\u001b[39m\n\u001b[0;32m    671\u001b[0m     )\n",
      "\u001b[1;31mValueError\u001b[0m: All arrays must be of the same length"
     ]
    }
   ],
   "source": [
    "df = pd.DataFrame({\n",
    "    'model':model,\n",
    "    \"price\":price,\n",
    "    \"rating\":ranting,\n",
    "    'ram':ram,\n",
    "    'display':display,\n",
    "    \"processor\":processor,\n",
    "    'camera':camera,\n",
    "    'battery':battery,\n",
    "    'warranty':warrenty\n",
    "})"
   ]
  },
  {
   "cell_type": "code",
   "execution_count": 28,
   "metadata": {},
   "outputs": [
    {
     "data": {
      "text/plain": [
       "983"
      ]
     },
     "execution_count": 28,
     "metadata": {},
     "output_type": "execute_result"
    }
   ],
   "source": [
    "len(price)"
   ]
  },
  {
   "cell_type": "code",
   "execution_count": null,
   "metadata": {},
   "outputs": [],
   "source": []
  },
  {
   "cell_type": "code",
   "execution_count": null,
   "metadata": {},
   "outputs": [],
   "source": []
  },
  {
   "cell_type": "code",
   "execution_count": null,
   "metadata": {},
   "outputs": [],
   "source": []
  },
  {
   "cell_type": "code",
   "execution_count": null,
   "metadata": {},
   "outputs": [],
   "source": []
  },
  {
   "cell_type": "code",
   "execution_count": null,
   "metadata": {},
   "outputs": [],
   "source": []
  },
  {
   "cell_type": "code",
   "execution_count": null,
   "metadata": {},
   "outputs": [],
   "source": []
  },
  {
   "cell_type": "code",
   "execution_count": null,
   "metadata": {},
   "outputs": [],
   "source": []
  }
 ],
 "metadata": {
  "kernelspec": {
   "display_name": "Python 3",
   "language": "python",
   "name": "python3"
  },
  "language_info": {
   "codemirror_mode": {
    "name": "ipython",
    "version": 3
   },
   "file_extension": ".py",
   "mimetype": "text/x-python",
   "name": "python",
   "nbconvert_exporter": "python",
   "pygments_lexer": "ipython3",
   "version": "3.11.1"
  }
 },
 "nbformat": 4,
 "nbformat_minor": 2
}
