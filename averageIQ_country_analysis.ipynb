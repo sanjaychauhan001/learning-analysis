{
 "cells": [
  {
   "cell_type": "code",
   "execution_count": 1,
   "metadata": {},
   "outputs": [],
   "source": [
    "import pandas as pd\n",
    "import numpy as np \n",
    "import plotly.express as px\n",
    "import matplotlib.pyplot as plt \n",
    "import seaborn as sns"
   ]
  },
  {
   "cell_type": "code",
   "execution_count": 2,
   "metadata": {},
   "outputs": [
    {
     "data": {
      "text/html": [
       "<div>\n",
       "<style scoped>\n",
       "    .dataframe tbody tr th:only-of-type {\n",
       "        vertical-align: middle;\n",
       "    }\n",
       "\n",
       "    .dataframe tbody tr th {\n",
       "        vertical-align: top;\n",
       "    }\n",
       "\n",
       "    .dataframe thead th {\n",
       "        text-align: right;\n",
       "    }\n",
       "</style>\n",
       "<table border=\"1\" class=\"dataframe\">\n",
       "  <thead>\n",
       "    <tr style=\"text-align: right;\">\n",
       "      <th></th>\n",
       "      <th>Rank</th>\n",
       "      <th>Country</th>\n",
       "      <th>Average IQ</th>\n",
       "      <th>Continent</th>\n",
       "      <th>Literacy Rate</th>\n",
       "      <th>Nobel Prices</th>\n",
       "      <th>HDI (2021)</th>\n",
       "      <th>Mean years of schooling - 2021</th>\n",
       "      <th>GNI - 2021</th>\n",
       "      <th>Population - 2023</th>\n",
       "    </tr>\n",
       "  </thead>\n",
       "  <tbody>\n",
       "    <tr>\n",
       "      <th>0</th>\n",
       "      <td>1</td>\n",
       "      <td>Japan</td>\n",
       "      <td>106.48</td>\n",
       "      <td>Asia</td>\n",
       "      <td>0.99</td>\n",
       "      <td>29</td>\n",
       "      <td>0.925</td>\n",
       "      <td>13.4</td>\n",
       "      <td>42274.0</td>\n",
       "      <td>123294513</td>\n",
       "    </tr>\n",
       "    <tr>\n",
       "      <th>1</th>\n",
       "      <td>2</td>\n",
       "      <td>Taiwan</td>\n",
       "      <td>106.47</td>\n",
       "      <td>Asia</td>\n",
       "      <td>0.96</td>\n",
       "      <td>4</td>\n",
       "      <td>NaN</td>\n",
       "      <td>NaN</td>\n",
       "      <td>NaN</td>\n",
       "      <td>10143543</td>\n",
       "    </tr>\n",
       "    <tr>\n",
       "      <th>2</th>\n",
       "      <td>3</td>\n",
       "      <td>Singapore</td>\n",
       "      <td>105.89</td>\n",
       "      <td>Asia</td>\n",
       "      <td>0.97</td>\n",
       "      <td>0</td>\n",
       "      <td>0.939</td>\n",
       "      <td>11.9</td>\n",
       "      <td>90919.0</td>\n",
       "      <td>6014723</td>\n",
       "    </tr>\n",
       "    <tr>\n",
       "      <th>3</th>\n",
       "      <td>4</td>\n",
       "      <td>Hong Kong</td>\n",
       "      <td>105.37</td>\n",
       "      <td>Asia</td>\n",
       "      <td>0.94</td>\n",
       "      <td>1</td>\n",
       "      <td>0.952</td>\n",
       "      <td>12.2</td>\n",
       "      <td>62607.0</td>\n",
       "      <td>7491609</td>\n",
       "    </tr>\n",
       "    <tr>\n",
       "      <th>4</th>\n",
       "      <td>5</td>\n",
       "      <td>China</td>\n",
       "      <td>104.10</td>\n",
       "      <td>Asia</td>\n",
       "      <td>0.96</td>\n",
       "      <td>8</td>\n",
       "      <td>0.768</td>\n",
       "      <td>7.6</td>\n",
       "      <td>17504.0</td>\n",
       "      <td>1425671352</td>\n",
       "    </tr>\n",
       "  </tbody>\n",
       "</table>\n",
       "</div>"
      ],
      "text/plain": [
       "   Rank    Country  Average IQ Continent  Literacy Rate  Nobel Prices  \\\n",
       "0     1      Japan      106.48      Asia           0.99            29   \n",
       "1     2     Taiwan      106.47      Asia           0.96             4   \n",
       "2     3  Singapore      105.89      Asia           0.97             0   \n",
       "3     4  Hong Kong      105.37      Asia           0.94             1   \n",
       "4     5      China      104.10      Asia           0.96             8   \n",
       "\n",
       "   HDI (2021)  Mean years of schooling - 2021   GNI - 2021 Population - 2023  \n",
       "0       0.925                            13.4      42274.0         123294513  \n",
       "1         NaN                             NaN          NaN          10143543  \n",
       "2       0.939                            11.9      90919.0           6014723  \n",
       "3       0.952                            12.2      62607.0           7491609  \n",
       "4       0.768                             7.6      17504.0        1425671352  "
      ]
     },
     "execution_count": 2,
     "metadata": {},
     "output_type": "execute_result"
    }
   ],
   "source": [
    "df = pd.read_csv(\"C:\\\\Users\\\\sanja\\\\Downloads\\\\avgIQpercountry.csv\")\n",
    "df.head()"
   ]
  },
  {
   "cell_type": "code",
   "execution_count": 9,
   "metadata": {},
   "outputs": [
    {
     "data": {
      "application/vnd.plotly.v1+json": {
       "config": {
        "plotlyServerURL": "https://plot.ly"
       },
       "data": [
        {
         "coloraxis": "coloraxis",
         "geo": "geo",
         "hovertemplate": "Country=%{location}<br>Average IQ=%{z}<extra></extra>",
         "locationmode": "country names",
         "locations": [
          "Japan",
          "Taiwan",
          "Singapore",
          "Hong Kong",
          "China",
          "South Korea",
          "Belarus",
          "Finland",
          "Liechtenstein",
          "Germany",
          "Netherlands",
          "Estonia",
          "Luxembourg",
          "Macao",
          "Cambodia",
          "Canada",
          "Australia",
          "Hungary",
          "Switzerland",
          "United Kingdom",
          "North Korea",
          "Slovenia",
          "New Zealand",
          "Austria",
          "Iceland",
          "Denmark",
          "Belgium",
          "United States",
          "Norway",
          "Sweden",
          "France",
          "Poland",
          "Slovakia",
          "Russia",
          "Lithuania",
          "Croatia",
          "Andorra",
          "Ireland",
          "Czech republic",
          "Latvia",
          "Italy",
          "New Caledonia",
          "Vanuatu",
          "Spain",
          "Bermuda",
          "Cyprus",
          "Portugal",
          "Israel",
          "Barbados",
          "Malta",
          "Myanmar",
          "Mongolia",
          "Bulgaria",
          "Greece",
          "Suriname",
          "Ukraine",
          "Moldavia",
          "Serbia",
          "Vietnam",
          "Iraq",
          "Uzbekistan",
          "Kazakhstan",
          "Thailand",
          "Armenia",
          "Bosnia and Herzegovina",
          "Costa Rica",
          "Bhutan",
          "Chile",
          "Mexico",
          "Tajikistan",
          "Uruguay",
          "Brunei",
          "Malaysia",
          "Bahamas",
          "Romania",
          "Türkiye",
          "Argentina",
          "Sri Lanka",
          "Mauritius",
          "Turkmenistan",
          "Montenegro",
          "Trinidad and Tobago",
          "Azerbaijan",
          "Georgia",
          "Turks and Caicos Islands",
          "Paraguay",
          "Federated States of Micronesia",
          "Fiji",
          "Marshall Islands",
          "Solomon Islands",
          "Cuba",
          "Bahrain",
          "Brazil",
          "Guyana",
          "Colombia",
          "Venezuela",
          "Cayman Islands",
          "Afghanistan",
          "Haiti",
          "Dominican Republic",
          "United Arab Emirates",
          "Puerto Rico",
          "North Macedonia",
          "Albania",
          "Lebanon",
          "Philippines",
          "Peru",
          "Northern Mariana Islands",
          "Laos",
          "Libya",
          "Qatar",
          "Jordan",
          "Maldives",
          "Iran",
          "Pakistan",
          "Grenade",
          "Tunisia",
          "Kyrgyzstan",
          "Panama",
          "Chad",
          "Sudan",
          "Seychelles",
          "Oman",
          "Kuwait",
          "East Timor",
          "Indonesia",
          "Papua New Guinea",
          "Ecuador",
          "Palestine",
          "Senegal",
          "Comoros",
          "Madagascar",
          "British Virgin Islands",
          "Bolivia",
          "Uganda",
          "Saudi Arabia",
          "Egypt",
          "India",
          "Algeria",
          "Kenya",
          "Angola",
          "Jamaica",
          "Tanzania",
          "Syria",
          "Bangladesh",
          "Zimbabwe",
          "Burkina Faso",
          "Saint Lucia",
          "Mozambique",
          "Burundi",
          "Niger",
          "Antigua and Barbuda",
          "Rwanda",
          "Benin",
          "Malawi",
          "El Salvador",
          "Botswana",
          "Lesotho",
          "South Africa",
          "Eswatini",
          "Eritrea",
          "Saint Helena",
          "Zambia",
          "Ethiopia",
          "Djibouti",
          "Cameroon",
          "Nigeria",
          "Somalia",
          "Morocco",
          "Namibia",
          "Dominica",
          "Sao Tome and Principe",
          "Congo",
          "Saint Vincent and the Grenadines",
          "Gabon",
          "Congo Republic",
          "Yemen",
          "Belize",
          "Central African Republic",
          "Honduras",
          "Togo",
          "Mali",
          "Mauritania",
          "South Sudan",
          "Ghana",
          "Costa do Marfim",
          "Guinea",
          "Nicaragua",
          "Gambia",
          "Guatemala",
          "Liberia",
          "Sierra Leone",
          "Nepal"
         ],
         "name": "",
         "type": "choropleth",
         "z": [
          106.48,
          106.47,
          105.89,
          105.37,
          104.1,
          102.35,
          101.6,
          101.2,
          101.07,
          100.74,
          100.74,
          100.72,
          99.87,
          99.82,
          99.75,
          99.52,
          99.24,
          99.24,
          99.24,
          99.12,
          98.82,
          98.6,
          98.57,
          98.38,
          98.26,
          97.83,
          97.49,
          97.43,
          97.13,
          97,
          96.69,
          96.35,
          96.32,
          96.29,
          95.89,
          95.75,
          95.2,
          95.13,
          94.92,
          94.79,
          94.23,
          93.92,
          93.92,
          93.9,
          93.48,
          93.39,
          92.77,
          92.43,
          91.6,
          91.27,
          91.18,
          91.03,
          90.99,
          90.77,
          90.29,
          90.07,
          89.98,
          89.6,
          89.53,
          89.28,
          89.01,
          88.89,
          88.87,
          88.82,
          88.54,
          88.34,
          87.94,
          87.89,
          87.73,
          87.71,
          87.59,
          87.58,
          87.58,
          86.99,
          86.88,
          86.8,
          86.63,
          86.62,
          86.56,
          85.86,
          85.78,
          85.63,
          84.81,
          84.5,
          84.29,
          84.04,
          83.96,
          83.96,
          83.96,
          83.96,
          83.9,
          83.6,
          83.38,
          83.23,
          83.13,
          82.99,
          82.24,
          82.12,
          82.1,
          82.05,
          82.05,
          81.99,
          81.91,
          81.75,
          81.7,
          81.64,
          81.44,
          81.36,
          80.99,
          80.92,
          80.78,
          80.7,
          80.54,
          80.01,
          80,
          79.34,
          79.22,
          79.09,
          79,
          78.87,
          78.87,
          78.76,
          78.7,
          78.64,
          78.49,
          78.49,
          78.49,
          78.26,
          77.69,
          77.37,
          77.07,
          76.79,
          76.69,
          76.53,
          76.42,
          76.36,
          76.32,
          76.24,
          76,
          75.2,
          75.1,
          75.08,
          74.95,
          74.41,
          74.33,
          74.01,
          73.8,
          73.68,
          72.5,
          72.09,
          70.82,
          70.48,
          69.95,
          69.71,
          69.7,
          69.63,
          69.45,
          68.87,
          68.87,
          68.87,
          68.77,
          68.74,
          68.43,
          68.42,
          68.41,
          67.76,
          67.76,
          67.67,
          67.03,
          66.19,
          66.03,
          65.22,
          64.92,
          63.42,
          62.97,
          62.97,
          62.86,
          62.55,
          62.55,
          62.16,
          59.83,
          59.76,
          59.76,
          58.61,
          58.16,
          58.16,
          53.48,
          52.69,
          52.68,
          47.72,
          45.07,
          45.07,
          42.99
         ]
        }
       ],
       "layout": {
        "coloraxis": {
         "colorbar": {
          "title": {
           "text": "Average IQ"
          }
         },
         "colorscale": [
          [
           0,
           "#0d0887"
          ],
          [
           0.1111111111111111,
           "#46039f"
          ],
          [
           0.2222222222222222,
           "#7201a8"
          ],
          [
           0.3333333333333333,
           "#9c179e"
          ],
          [
           0.4444444444444444,
           "#bd3786"
          ],
          [
           0.5555555555555556,
           "#d8576b"
          ],
          [
           0.6666666666666666,
           "#ed7953"
          ],
          [
           0.7777777777777778,
           "#fb9f3a"
          ],
          [
           0.8888888888888888,
           "#fdca26"
          ],
          [
           1,
           "#f0f921"
          ]
         ]
        },
        "geo": {
         "center": {},
         "domain": {
          "x": [
           0,
           1
          ],
          "y": [
           0,
           1
          ]
         }
        },
        "legend": {
         "tracegroupgap": 0
        },
        "template": {
         "data": {
          "bar": [
           {
            "error_x": {
             "color": "#2a3f5f"
            },
            "error_y": {
             "color": "#2a3f5f"
            },
            "marker": {
             "line": {
              "color": "#E5ECF6",
              "width": 0.5
             },
             "pattern": {
              "fillmode": "overlay",
              "size": 10,
              "solidity": 0.2
             }
            },
            "type": "bar"
           }
          ],
          "barpolar": [
           {
            "marker": {
             "line": {
              "color": "#E5ECF6",
              "width": 0.5
             },
             "pattern": {
              "fillmode": "overlay",
              "size": 10,
              "solidity": 0.2
             }
            },
            "type": "barpolar"
           }
          ],
          "carpet": [
           {
            "aaxis": {
             "endlinecolor": "#2a3f5f",
             "gridcolor": "white",
             "linecolor": "white",
             "minorgridcolor": "white",
             "startlinecolor": "#2a3f5f"
            },
            "baxis": {
             "endlinecolor": "#2a3f5f",
             "gridcolor": "white",
             "linecolor": "white",
             "minorgridcolor": "white",
             "startlinecolor": "#2a3f5f"
            },
            "type": "carpet"
           }
          ],
          "choropleth": [
           {
            "colorbar": {
             "outlinewidth": 0,
             "ticks": ""
            },
            "type": "choropleth"
           }
          ],
          "contour": [
           {
            "colorbar": {
             "outlinewidth": 0,
             "ticks": ""
            },
            "colorscale": [
             [
              0,
              "#0d0887"
             ],
             [
              0.1111111111111111,
              "#46039f"
             ],
             [
              0.2222222222222222,
              "#7201a8"
             ],
             [
              0.3333333333333333,
              "#9c179e"
             ],
             [
              0.4444444444444444,
              "#bd3786"
             ],
             [
              0.5555555555555556,
              "#d8576b"
             ],
             [
              0.6666666666666666,
              "#ed7953"
             ],
             [
              0.7777777777777778,
              "#fb9f3a"
             ],
             [
              0.8888888888888888,
              "#fdca26"
             ],
             [
              1,
              "#f0f921"
             ]
            ],
            "type": "contour"
           }
          ],
          "contourcarpet": [
           {
            "colorbar": {
             "outlinewidth": 0,
             "ticks": ""
            },
            "type": "contourcarpet"
           }
          ],
          "heatmap": [
           {
            "colorbar": {
             "outlinewidth": 0,
             "ticks": ""
            },
            "colorscale": [
             [
              0,
              "#0d0887"
             ],
             [
              0.1111111111111111,
              "#46039f"
             ],
             [
              0.2222222222222222,
              "#7201a8"
             ],
             [
              0.3333333333333333,
              "#9c179e"
             ],
             [
              0.4444444444444444,
              "#bd3786"
             ],
             [
              0.5555555555555556,
              "#d8576b"
             ],
             [
              0.6666666666666666,
              "#ed7953"
             ],
             [
              0.7777777777777778,
              "#fb9f3a"
             ],
             [
              0.8888888888888888,
              "#fdca26"
             ],
             [
              1,
              "#f0f921"
             ]
            ],
            "type": "heatmap"
           }
          ],
          "heatmapgl": [
           {
            "colorbar": {
             "outlinewidth": 0,
             "ticks": ""
            },
            "colorscale": [
             [
              0,
              "#0d0887"
             ],
             [
              0.1111111111111111,
              "#46039f"
             ],
             [
              0.2222222222222222,
              "#7201a8"
             ],
             [
              0.3333333333333333,
              "#9c179e"
             ],
             [
              0.4444444444444444,
              "#bd3786"
             ],
             [
              0.5555555555555556,
              "#d8576b"
             ],
             [
              0.6666666666666666,
              "#ed7953"
             ],
             [
              0.7777777777777778,
              "#fb9f3a"
             ],
             [
              0.8888888888888888,
              "#fdca26"
             ],
             [
              1,
              "#f0f921"
             ]
            ],
            "type": "heatmapgl"
           }
          ],
          "histogram": [
           {
            "marker": {
             "pattern": {
              "fillmode": "overlay",
              "size": 10,
              "solidity": 0.2
             }
            },
            "type": "histogram"
           }
          ],
          "histogram2d": [
           {
            "colorbar": {
             "outlinewidth": 0,
             "ticks": ""
            },
            "colorscale": [
             [
              0,
              "#0d0887"
             ],
             [
              0.1111111111111111,
              "#46039f"
             ],
             [
              0.2222222222222222,
              "#7201a8"
             ],
             [
              0.3333333333333333,
              "#9c179e"
             ],
             [
              0.4444444444444444,
              "#bd3786"
             ],
             [
              0.5555555555555556,
              "#d8576b"
             ],
             [
              0.6666666666666666,
              "#ed7953"
             ],
             [
              0.7777777777777778,
              "#fb9f3a"
             ],
             [
              0.8888888888888888,
              "#fdca26"
             ],
             [
              1,
              "#f0f921"
             ]
            ],
            "type": "histogram2d"
           }
          ],
          "histogram2dcontour": [
           {
            "colorbar": {
             "outlinewidth": 0,
             "ticks": ""
            },
            "colorscale": [
             [
              0,
              "#0d0887"
             ],
             [
              0.1111111111111111,
              "#46039f"
             ],
             [
              0.2222222222222222,
              "#7201a8"
             ],
             [
              0.3333333333333333,
              "#9c179e"
             ],
             [
              0.4444444444444444,
              "#bd3786"
             ],
             [
              0.5555555555555556,
              "#d8576b"
             ],
             [
              0.6666666666666666,
              "#ed7953"
             ],
             [
              0.7777777777777778,
              "#fb9f3a"
             ],
             [
              0.8888888888888888,
              "#fdca26"
             ],
             [
              1,
              "#f0f921"
             ]
            ],
            "type": "histogram2dcontour"
           }
          ],
          "mesh3d": [
           {
            "colorbar": {
             "outlinewidth": 0,
             "ticks": ""
            },
            "type": "mesh3d"
           }
          ],
          "parcoords": [
           {
            "line": {
             "colorbar": {
              "outlinewidth": 0,
              "ticks": ""
             }
            },
            "type": "parcoords"
           }
          ],
          "pie": [
           {
            "automargin": true,
            "type": "pie"
           }
          ],
          "scatter": [
           {
            "fillpattern": {
             "fillmode": "overlay",
             "size": 10,
             "solidity": 0.2
            },
            "type": "scatter"
           }
          ],
          "scatter3d": [
           {
            "line": {
             "colorbar": {
              "outlinewidth": 0,
              "ticks": ""
             }
            },
            "marker": {
             "colorbar": {
              "outlinewidth": 0,
              "ticks": ""
             }
            },
            "type": "scatter3d"
           }
          ],
          "scattercarpet": [
           {
            "marker": {
             "colorbar": {
              "outlinewidth": 0,
              "ticks": ""
             }
            },
            "type": "scattercarpet"
           }
          ],
          "scattergeo": [
           {
            "marker": {
             "colorbar": {
              "outlinewidth": 0,
              "ticks": ""
             }
            },
            "type": "scattergeo"
           }
          ],
          "scattergl": [
           {
            "marker": {
             "colorbar": {
              "outlinewidth": 0,
              "ticks": ""
             }
            },
            "type": "scattergl"
           }
          ],
          "scattermapbox": [
           {
            "marker": {
             "colorbar": {
              "outlinewidth": 0,
              "ticks": ""
             }
            },
            "type": "scattermapbox"
           }
          ],
          "scatterpolar": [
           {
            "marker": {
             "colorbar": {
              "outlinewidth": 0,
              "ticks": ""
             }
            },
            "type": "scatterpolar"
           }
          ],
          "scatterpolargl": [
           {
            "marker": {
             "colorbar": {
              "outlinewidth": 0,
              "ticks": ""
             }
            },
            "type": "scatterpolargl"
           }
          ],
          "scatterternary": [
           {
            "marker": {
             "colorbar": {
              "outlinewidth": 0,
              "ticks": ""
             }
            },
            "type": "scatterternary"
           }
          ],
          "surface": [
           {
            "colorbar": {
             "outlinewidth": 0,
             "ticks": ""
            },
            "colorscale": [
             [
              0,
              "#0d0887"
             ],
             [
              0.1111111111111111,
              "#46039f"
             ],
             [
              0.2222222222222222,
              "#7201a8"
             ],
             [
              0.3333333333333333,
              "#9c179e"
             ],
             [
              0.4444444444444444,
              "#bd3786"
             ],
             [
              0.5555555555555556,
              "#d8576b"
             ],
             [
              0.6666666666666666,
              "#ed7953"
             ],
             [
              0.7777777777777778,
              "#fb9f3a"
             ],
             [
              0.8888888888888888,
              "#fdca26"
             ],
             [
              1,
              "#f0f921"
             ]
            ],
            "type": "surface"
           }
          ],
          "table": [
           {
            "cells": {
             "fill": {
              "color": "#EBF0F8"
             },
             "line": {
              "color": "white"
             }
            },
            "header": {
             "fill": {
              "color": "#C8D4E3"
             },
             "line": {
              "color": "white"
             }
            },
            "type": "table"
           }
          ]
         },
         "layout": {
          "annotationdefaults": {
           "arrowcolor": "#2a3f5f",
           "arrowhead": 0,
           "arrowwidth": 1
          },
          "autotypenumbers": "strict",
          "coloraxis": {
           "colorbar": {
            "outlinewidth": 0,
            "ticks": ""
           }
          },
          "colorscale": {
           "diverging": [
            [
             0,
             "#8e0152"
            ],
            [
             0.1,
             "#c51b7d"
            ],
            [
             0.2,
             "#de77ae"
            ],
            [
             0.3,
             "#f1b6da"
            ],
            [
             0.4,
             "#fde0ef"
            ],
            [
             0.5,
             "#f7f7f7"
            ],
            [
             0.6,
             "#e6f5d0"
            ],
            [
             0.7,
             "#b8e186"
            ],
            [
             0.8,
             "#7fbc41"
            ],
            [
             0.9,
             "#4d9221"
            ],
            [
             1,
             "#276419"
            ]
           ],
           "sequential": [
            [
             0,
             "#0d0887"
            ],
            [
             0.1111111111111111,
             "#46039f"
            ],
            [
             0.2222222222222222,
             "#7201a8"
            ],
            [
             0.3333333333333333,
             "#9c179e"
            ],
            [
             0.4444444444444444,
             "#bd3786"
            ],
            [
             0.5555555555555556,
             "#d8576b"
            ],
            [
             0.6666666666666666,
             "#ed7953"
            ],
            [
             0.7777777777777778,
             "#fb9f3a"
            ],
            [
             0.8888888888888888,
             "#fdca26"
            ],
            [
             1,
             "#f0f921"
            ]
           ],
           "sequentialminus": [
            [
             0,
             "#0d0887"
            ],
            [
             0.1111111111111111,
             "#46039f"
            ],
            [
             0.2222222222222222,
             "#7201a8"
            ],
            [
             0.3333333333333333,
             "#9c179e"
            ],
            [
             0.4444444444444444,
             "#bd3786"
            ],
            [
             0.5555555555555556,
             "#d8576b"
            ],
            [
             0.6666666666666666,
             "#ed7953"
            ],
            [
             0.7777777777777778,
             "#fb9f3a"
            ],
            [
             0.8888888888888888,
             "#fdca26"
            ],
            [
             1,
             "#f0f921"
            ]
           ]
          },
          "colorway": [
           "#636efa",
           "#EF553B",
           "#00cc96",
           "#ab63fa",
           "#FFA15A",
           "#19d3f3",
           "#FF6692",
           "#B6E880",
           "#FF97FF",
           "#FECB52"
          ],
          "font": {
           "color": "#2a3f5f"
          },
          "geo": {
           "bgcolor": "white",
           "lakecolor": "white",
           "landcolor": "#E5ECF6",
           "showlakes": true,
           "showland": true,
           "subunitcolor": "white"
          },
          "hoverlabel": {
           "align": "left"
          },
          "hovermode": "closest",
          "mapbox": {
           "style": "light"
          },
          "paper_bgcolor": "white",
          "plot_bgcolor": "#E5ECF6",
          "polar": {
           "angularaxis": {
            "gridcolor": "white",
            "linecolor": "white",
            "ticks": ""
           },
           "bgcolor": "#E5ECF6",
           "radialaxis": {
            "gridcolor": "white",
            "linecolor": "white",
            "ticks": ""
           }
          },
          "scene": {
           "xaxis": {
            "backgroundcolor": "#E5ECF6",
            "gridcolor": "white",
            "gridwidth": 2,
            "linecolor": "white",
            "showbackground": true,
            "ticks": "",
            "zerolinecolor": "white"
           },
           "yaxis": {
            "backgroundcolor": "#E5ECF6",
            "gridcolor": "white",
            "gridwidth": 2,
            "linecolor": "white",
            "showbackground": true,
            "ticks": "",
            "zerolinecolor": "white"
           },
           "zaxis": {
            "backgroundcolor": "#E5ECF6",
            "gridcolor": "white",
            "gridwidth": 2,
            "linecolor": "white",
            "showbackground": true,
            "ticks": "",
            "zerolinecolor": "white"
           }
          },
          "shapedefaults": {
           "line": {
            "color": "#2a3f5f"
           }
          },
          "ternary": {
           "aaxis": {
            "gridcolor": "white",
            "linecolor": "white",
            "ticks": ""
           },
           "baxis": {
            "gridcolor": "white",
            "linecolor": "white",
            "ticks": ""
           },
           "bgcolor": "#E5ECF6",
           "caxis": {
            "gridcolor": "white",
            "linecolor": "white",
            "ticks": ""
           }
          },
          "title": {
           "x": 0.05
          },
          "xaxis": {
           "automargin": true,
           "gridcolor": "white",
           "linecolor": "white",
           "ticks": "",
           "title": {
            "standoff": 15
           },
           "zerolinecolor": "white",
           "zerolinewidth": 2
          },
          "yaxis": {
           "automargin": true,
           "gridcolor": "white",
           "linecolor": "white",
           "ticks": "",
           "title": {
            "standoff": 15
           },
           "zerolinecolor": "white",
           "zerolinewidth": 2
          }
         }
        },
        "title": {
         "text": "Average IQ by Country"
        }
       }
      }
     },
     "metadata": {},
     "output_type": "display_data"
    }
   ],
   "source": [
    "fig = px.choropleth(df, locations=\"Country\",locationmode='country names',\n",
    "                    color='Average IQ',\n",
    "                    title='Average IQ by Country')\n",
    "fig.show()"
   ]
  },
  {
   "cell_type": "code",
   "execution_count": 18,
   "metadata": {},
   "outputs": [
    {
     "data": {
      "application/vnd.plotly.v1+json": {
       "config": {
        "plotlyServerURL": "https://plot.ly"
       },
       "data": [
        {
         "hovertemplate": "Country=Japan<br>Mean years of schooling - 2021=%{x}<br>Average IQ=%{y}<extra></extra>",
         "legendgroup": "Japan",
         "marker": {
          "color": "#636efa",
          "symbol": "circle"
         },
         "mode": "markers",
         "name": "Japan",
         "orientation": "v",
         "showlegend": true,
         "type": "scatter",
         "x": [
          13.4
         ],
         "xaxis": "x",
         "y": [
          106.48
         ],
         "yaxis": "y"
        },
        {
         "hovertemplate": "Country=Taiwan<br>Mean years of schooling - 2021=%{x}<br>Average IQ=%{y}<extra></extra>",
         "legendgroup": "Taiwan",
         "marker": {
          "color": "#EF553B",
          "symbol": "circle"
         },
         "mode": "markers",
         "name": "Taiwan",
         "orientation": "v",
         "showlegend": true,
         "type": "scatter",
         "x": [
          null
         ],
         "xaxis": "x",
         "y": [
          106.47
         ],
         "yaxis": "y"
        },
        {
         "hovertemplate": "Country=Singapore<br>Mean years of schooling - 2021=%{x}<br>Average IQ=%{y}<extra></extra>",
         "legendgroup": "Singapore",
         "marker": {
          "color": "#00cc96",
          "symbol": "circle"
         },
         "mode": "markers",
         "name": "Singapore",
         "orientation": "v",
         "showlegend": true,
         "type": "scatter",
         "x": [
          11.9
         ],
         "xaxis": "x",
         "y": [
          105.89
         ],
         "yaxis": "y"
        },
        {
         "hovertemplate": "Country=Hong Kong<br>Mean years of schooling - 2021=%{x}<br>Average IQ=%{y}<extra></extra>",
         "legendgroup": "Hong Kong",
         "marker": {
          "color": "#ab63fa",
          "symbol": "circle"
         },
         "mode": "markers",
         "name": "Hong Kong",
         "orientation": "v",
         "showlegend": true,
         "type": "scatter",
         "x": [
          12.2
         ],
         "xaxis": "x",
         "y": [
          105.37
         ],
         "yaxis": "y"
        },
        {
         "hovertemplate": "Country=China<br>Mean years of schooling - 2021=%{x}<br>Average IQ=%{y}<extra></extra>",
         "legendgroup": "China",
         "marker": {
          "color": "#FFA15A",
          "symbol": "circle"
         },
         "mode": "markers",
         "name": "China",
         "orientation": "v",
         "showlegend": true,
         "type": "scatter",
         "x": [
          7.6
         ],
         "xaxis": "x",
         "y": [
          104.1
         ],
         "yaxis": "y"
        },
        {
         "hovertemplate": "Country=South Korea<br>Mean years of schooling - 2021=%{x}<br>Average IQ=%{y}<extra></extra>",
         "legendgroup": "South Korea",
         "marker": {
          "color": "#19d3f3",
          "symbol": "circle"
         },
         "mode": "markers",
         "name": "South Korea",
         "orientation": "v",
         "showlegend": true,
         "type": "scatter",
         "x": [
          12.5
         ],
         "xaxis": "x",
         "y": [
          102.35
         ],
         "yaxis": "y"
        },
        {
         "hovertemplate": "Country=Belarus<br>Mean years of schooling - 2021=%{x}<br>Average IQ=%{y}<extra></extra>",
         "legendgroup": "Belarus",
         "marker": {
          "color": "#FF6692",
          "symbol": "circle"
         },
         "mode": "markers",
         "name": "Belarus",
         "orientation": "v",
         "showlegend": true,
         "type": "scatter",
         "x": [
          12.1
         ],
         "xaxis": "x",
         "y": [
          101.6
         ],
         "yaxis": "y"
        },
        {
         "hovertemplate": "Country=Finland<br>Mean years of schooling - 2021=%{x}<br>Average IQ=%{y}<extra></extra>",
         "legendgroup": "Finland",
         "marker": {
          "color": "#B6E880",
          "symbol": "circle"
         },
         "mode": "markers",
         "name": "Finland",
         "orientation": "v",
         "showlegend": true,
         "type": "scatter",
         "x": [
          12.9
         ],
         "xaxis": "x",
         "y": [
          101.2
         ],
         "yaxis": "y"
        },
        {
         "hovertemplate": "Country=Liechtenstein<br>Mean years of schooling - 2021=%{x}<br>Average IQ=%{y}<extra></extra>",
         "legendgroup": "Liechtenstein",
         "marker": {
          "color": "#FF97FF",
          "symbol": "circle"
         },
         "mode": "markers",
         "name": "Liechtenstein",
         "orientation": "v",
         "showlegend": true,
         "type": "scatter",
         "x": [
          12.5
         ],
         "xaxis": "x",
         "y": [
          101.07
         ],
         "yaxis": "y"
        },
        {
         "hovertemplate": "Country=Germany<br>Mean years of schooling - 2021=%{x}<br>Average IQ=%{y}<extra></extra>",
         "legendgroup": "Germany",
         "marker": {
          "color": "#FECB52",
          "symbol": "circle"
         },
         "mode": "markers",
         "name": "Germany",
         "orientation": "v",
         "showlegend": true,
         "type": "scatter",
         "x": [
          14.1
         ],
         "xaxis": "x",
         "y": [
          100.74
         ],
         "yaxis": "y"
        },
        {
         "hovertemplate": "Country=Netherlands<br>Mean years of schooling - 2021=%{x}<br>Average IQ=%{y}<extra></extra>",
         "legendgroup": "Netherlands",
         "marker": {
          "color": "#636efa",
          "symbol": "circle"
         },
         "mode": "markers",
         "name": "Netherlands",
         "orientation": "v",
         "showlegend": true,
         "type": "scatter",
         "x": [
          12.6
         ],
         "xaxis": "x",
         "y": [
          100.74
         ],
         "yaxis": "y"
        },
        {
         "hovertemplate": "Country=Estonia<br>Mean years of schooling - 2021=%{x}<br>Average IQ=%{y}<extra></extra>",
         "legendgroup": "Estonia",
         "marker": {
          "color": "#EF553B",
          "symbol": "circle"
         },
         "mode": "markers",
         "name": "Estonia",
         "orientation": "v",
         "showlegend": true,
         "type": "scatter",
         "x": [
          13.5
         ],
         "xaxis": "x",
         "y": [
          100.72
         ],
         "yaxis": "y"
        },
        {
         "hovertemplate": "Country=Luxembourg<br>Mean years of schooling - 2021=%{x}<br>Average IQ=%{y}<extra></extra>",
         "legendgroup": "Luxembourg",
         "marker": {
          "color": "#00cc96",
          "symbol": "circle"
         },
         "mode": "markers",
         "name": "Luxembourg",
         "orientation": "v",
         "showlegend": true,
         "type": "scatter",
         "x": [
          13
         ],
         "xaxis": "x",
         "y": [
          99.87
         ],
         "yaxis": "y"
        },
        {
         "hovertemplate": "Country=Macao<br>Mean years of schooling - 2021=%{x}<br>Average IQ=%{y}<extra></extra>",
         "legendgroup": "Macao",
         "marker": {
          "color": "#ab63fa",
          "symbol": "circle"
         },
         "mode": "markers",
         "name": "Macao",
         "orientation": "v",
         "showlegend": true,
         "type": "scatter",
         "x": [
          null
         ],
         "xaxis": "x",
         "y": [
          99.82
         ],
         "yaxis": "y"
        },
        {
         "hovertemplate": "Country=Cambodia<br>Mean years of schooling - 2021=%{x}<br>Average IQ=%{y}<extra></extra>",
         "legendgroup": "Cambodia",
         "marker": {
          "color": "#FFA15A",
          "symbol": "circle"
         },
         "mode": "markers",
         "name": "Cambodia",
         "orientation": "v",
         "showlegend": true,
         "type": "scatter",
         "x": [
          5.1
         ],
         "xaxis": "x",
         "y": [
          99.75
         ],
         "yaxis": "y"
        },
        {
         "hovertemplate": "Country=Canada<br>Mean years of schooling - 2021=%{x}<br>Average IQ=%{y}<extra></extra>",
         "legendgroup": "Canada",
         "marker": {
          "color": "#19d3f3",
          "symbol": "circle"
         },
         "mode": "markers",
         "name": "Canada",
         "orientation": "v",
         "showlegend": true,
         "type": "scatter",
         "x": [
          13.8
         ],
         "xaxis": "x",
         "y": [
          99.52
         ],
         "yaxis": "y"
        },
        {
         "hovertemplate": "Country=Australia<br>Mean years of schooling - 2021=%{x}<br>Average IQ=%{y}<extra></extra>",
         "legendgroup": "Australia",
         "marker": {
          "color": "#FF6692",
          "symbol": "circle"
         },
         "mode": "markers",
         "name": "Australia",
         "orientation": "v",
         "showlegend": true,
         "type": "scatter",
         "x": [
          12.7
         ],
         "xaxis": "x",
         "y": [
          99.24
         ],
         "yaxis": "y"
        },
        {
         "hovertemplate": "Country=Hungary<br>Mean years of schooling - 2021=%{x}<br>Average IQ=%{y}<extra></extra>",
         "legendgroup": "Hungary",
         "marker": {
          "color": "#B6E880",
          "symbol": "circle"
         },
         "mode": "markers",
         "name": "Hungary",
         "orientation": "v",
         "showlegend": true,
         "type": "scatter",
         "x": [
          12.2
         ],
         "xaxis": "x",
         "y": [
          99.24
         ],
         "yaxis": "y"
        },
        {
         "hovertemplate": "Country=Switzerland<br>Mean years of schooling - 2021=%{x}<br>Average IQ=%{y}<extra></extra>",
         "legendgroup": "Switzerland",
         "marker": {
          "color": "#FF97FF",
          "symbol": "circle"
         },
         "mode": "markers",
         "name": "Switzerland",
         "orientation": "v",
         "showlegend": true,
         "type": "scatter",
         "x": [
          13.9
         ],
         "xaxis": "x",
         "y": [
          99.24
         ],
         "yaxis": "y"
        },
        {
         "hovertemplate": "Country=United Kingdom<br>Mean years of schooling - 2021=%{x}<br>Average IQ=%{y}<extra></extra>",
         "legendgroup": "United Kingdom",
         "marker": {
          "color": "#FECB52",
          "symbol": "circle"
         },
         "mode": "markers",
         "name": "United Kingdom",
         "orientation": "v",
         "showlegend": true,
         "type": "scatter",
         "x": [
          13.4
         ],
         "xaxis": "x",
         "y": [
          99.12
         ],
         "yaxis": "y"
        },
        {
         "hovertemplate": "Country=North Korea<br>Mean years of schooling - 2021=%{x}<br>Average IQ=%{y}<extra></extra>",
         "legendgroup": "North Korea",
         "marker": {
          "color": "#636efa",
          "symbol": "circle"
         },
         "mode": "markers",
         "name": "North Korea",
         "orientation": "v",
         "showlegend": true,
         "type": "scatter",
         "x": [
          null
         ],
         "xaxis": "x",
         "y": [
          98.82
         ],
         "yaxis": "y"
        },
        {
         "hovertemplate": "Country=Slovenia<br>Mean years of schooling - 2021=%{x}<br>Average IQ=%{y}<extra></extra>",
         "legendgroup": "Slovenia",
         "marker": {
          "color": "#EF553B",
          "symbol": "circle"
         },
         "mode": "markers",
         "name": "Slovenia",
         "orientation": "v",
         "showlegend": true,
         "type": "scatter",
         "x": [
          12.8
         ],
         "xaxis": "x",
         "y": [
          98.6
         ],
         "yaxis": "y"
        },
        {
         "hovertemplate": "Country=New Zealand<br>Mean years of schooling - 2021=%{x}<br>Average IQ=%{y}<extra></extra>",
         "legendgroup": "New Zealand",
         "marker": {
          "color": "#00cc96",
          "symbol": "circle"
         },
         "mode": "markers",
         "name": "New Zealand",
         "orientation": "v",
         "showlegend": true,
         "type": "scatter",
         "x": [
          12.9
         ],
         "xaxis": "x",
         "y": [
          98.57
         ],
         "yaxis": "y"
        },
        {
         "hovertemplate": "Country=Austria<br>Mean years of schooling - 2021=%{x}<br>Average IQ=%{y}<extra></extra>",
         "legendgroup": "Austria",
         "marker": {
          "color": "#ab63fa",
          "symbol": "circle"
         },
         "mode": "markers",
         "name": "Austria",
         "orientation": "v",
         "showlegend": true,
         "type": "scatter",
         "x": [
          12.3
         ],
         "xaxis": "x",
         "y": [
          98.38
         ],
         "yaxis": "y"
        },
        {
         "hovertemplate": "Country=Iceland<br>Mean years of schooling - 2021=%{x}<br>Average IQ=%{y}<extra></extra>",
         "legendgroup": "Iceland",
         "marker": {
          "color": "#FFA15A",
          "symbol": "circle"
         },
         "mode": "markers",
         "name": "Iceland",
         "orientation": "v",
         "showlegend": true,
         "type": "scatter",
         "x": [
          13.8
         ],
         "xaxis": "x",
         "y": [
          98.26
         ],
         "yaxis": "y"
        },
        {
         "hovertemplate": "Country=Denmark<br>Mean years of schooling - 2021=%{x}<br>Average IQ=%{y}<extra></extra>",
         "legendgroup": "Denmark",
         "marker": {
          "color": "#19d3f3",
          "symbol": "circle"
         },
         "mode": "markers",
         "name": "Denmark",
         "orientation": "v",
         "showlegend": true,
         "type": "scatter",
         "x": [
          13
         ],
         "xaxis": "x",
         "y": [
          97.83
         ],
         "yaxis": "y"
        },
        {
         "hovertemplate": "Country=Belgium<br>Mean years of schooling - 2021=%{x}<br>Average IQ=%{y}<extra></extra>",
         "legendgroup": "Belgium",
         "marker": {
          "color": "#FF6692",
          "symbol": "circle"
         },
         "mode": "markers",
         "name": "Belgium",
         "orientation": "v",
         "showlegend": true,
         "type": "scatter",
         "x": [
          12.4
         ],
         "xaxis": "x",
         "y": [
          97.49
         ],
         "yaxis": "y"
        },
        {
         "hovertemplate": "Country=United States<br>Mean years of schooling - 2021=%{x}<br>Average IQ=%{y}<extra></extra>",
         "legendgroup": "United States",
         "marker": {
          "color": "#B6E880",
          "symbol": "circle"
         },
         "mode": "markers",
         "name": "United States",
         "orientation": "v",
         "showlegend": true,
         "type": "scatter",
         "x": [
          13.7
         ],
         "xaxis": "x",
         "y": [
          97.43
         ],
         "yaxis": "y"
        },
        {
         "hovertemplate": "Country=Norway<br>Mean years of schooling - 2021=%{x}<br>Average IQ=%{y}<extra></extra>",
         "legendgroup": "Norway",
         "marker": {
          "color": "#FF97FF",
          "symbol": "circle"
         },
         "mode": "markers",
         "name": "Norway",
         "orientation": "v",
         "showlegend": true,
         "type": "scatter",
         "x": [
          13
         ],
         "xaxis": "x",
         "y": [
          97.13
         ],
         "yaxis": "y"
        },
        {
         "hovertemplate": "Country=Sweden<br>Mean years of schooling - 2021=%{x}<br>Average IQ=%{y}<extra></extra>",
         "legendgroup": "Sweden",
         "marker": {
          "color": "#FECB52",
          "symbol": "circle"
         },
         "mode": "markers",
         "name": "Sweden",
         "orientation": "v",
         "showlegend": true,
         "type": "scatter",
         "x": [
          12.6
         ],
         "xaxis": "x",
         "y": [
          97
         ],
         "yaxis": "y"
        },
        {
         "hovertemplate": "Country=France<br>Mean years of schooling - 2021=%{x}<br>Average IQ=%{y}<extra></extra>",
         "legendgroup": "France",
         "marker": {
          "color": "#636efa",
          "symbol": "circle"
         },
         "mode": "markers",
         "name": "France",
         "orientation": "v",
         "showlegend": true,
         "type": "scatter",
         "x": [
          11.6
         ],
         "xaxis": "x",
         "y": [
          96.69
         ],
         "yaxis": "y"
        },
        {
         "hovertemplate": "Country=Poland<br>Mean years of schooling - 2021=%{x}<br>Average IQ=%{y}<extra></extra>",
         "legendgroup": "Poland",
         "marker": {
          "color": "#EF553B",
          "symbol": "circle"
         },
         "mode": "markers",
         "name": "Poland",
         "orientation": "v",
         "showlegend": true,
         "type": "scatter",
         "x": [
          13.2
         ],
         "xaxis": "x",
         "y": [
          96.35
         ],
         "yaxis": "y"
        },
        {
         "hovertemplate": "Country=Slovakia<br>Mean years of schooling - 2021=%{x}<br>Average IQ=%{y}<extra></extra>",
         "legendgroup": "Slovakia",
         "marker": {
          "color": "#00cc96",
          "symbol": "circle"
         },
         "mode": "markers",
         "name": "Slovakia",
         "orientation": "v",
         "showlegend": true,
         "type": "scatter",
         "x": [
          12.9
         ],
         "xaxis": "x",
         "y": [
          96.32
         ],
         "yaxis": "y"
        },
        {
         "hovertemplate": "Country=Russia<br>Mean years of schooling - 2021=%{x}<br>Average IQ=%{y}<extra></extra>",
         "legendgroup": "Russia",
         "marker": {
          "color": "#ab63fa",
          "symbol": "circle"
         },
         "mode": "markers",
         "name": "Russia",
         "orientation": "v",
         "showlegend": true,
         "type": "scatter",
         "x": [
          12.8
         ],
         "xaxis": "x",
         "y": [
          96.29
         ],
         "yaxis": "y"
        },
        {
         "hovertemplate": "Country=Lithuania<br>Mean years of schooling - 2021=%{x}<br>Average IQ=%{y}<extra></extra>",
         "legendgroup": "Lithuania",
         "marker": {
          "color": "#FFA15A",
          "symbol": "circle"
         },
         "mode": "markers",
         "name": "Lithuania",
         "orientation": "v",
         "showlegend": true,
         "type": "scatter",
         "x": [
          13.5
         ],
         "xaxis": "x",
         "y": [
          95.89
         ],
         "yaxis": "y"
        },
        {
         "hovertemplate": "Country=Croatia<br>Mean years of schooling - 2021=%{x}<br>Average IQ=%{y}<extra></extra>",
         "legendgroup": "Croatia",
         "marker": {
          "color": "#19d3f3",
          "symbol": "circle"
         },
         "mode": "markers",
         "name": "Croatia",
         "orientation": "v",
         "showlegend": true,
         "type": "scatter",
         "x": [
          12.2
         ],
         "xaxis": "x",
         "y": [
          95.75
         ],
         "yaxis": "y"
        },
        {
         "hovertemplate": "Country=Andorra<br>Mean years of schooling - 2021=%{x}<br>Average IQ=%{y}<extra></extra>",
         "legendgroup": "Andorra",
         "marker": {
          "color": "#FF6692",
          "symbol": "circle"
         },
         "mode": "markers",
         "name": "Andorra",
         "orientation": "v",
         "showlegend": true,
         "type": "scatter",
         "x": [
          10.6
         ],
         "xaxis": "x",
         "y": [
          95.2
         ],
         "yaxis": "y"
        },
        {
         "hovertemplate": "Country=Ireland<br>Mean years of schooling - 2021=%{x}<br>Average IQ=%{y}<extra></extra>",
         "legendgroup": "Ireland",
         "marker": {
          "color": "#B6E880",
          "symbol": "circle"
         },
         "mode": "markers",
         "name": "Ireland",
         "orientation": "v",
         "showlegend": true,
         "type": "scatter",
         "x": [
          11.6
         ],
         "xaxis": "x",
         "y": [
          95.13
         ],
         "yaxis": "y"
        },
        {
         "hovertemplate": "Country=Czech republic<br>Mean years of schooling - 2021=%{x}<br>Average IQ=%{y}<extra></extra>",
         "legendgroup": "Czech republic",
         "marker": {
          "color": "#FF97FF",
          "symbol": "circle"
         },
         "mode": "markers",
         "name": "Czech republic",
         "orientation": "v",
         "showlegend": true,
         "type": "scatter",
         "x": [
          12.9
         ],
         "xaxis": "x",
         "y": [
          94.92
         ],
         "yaxis": "y"
        },
        {
         "hovertemplate": "Country=Latvia<br>Mean years of schooling - 2021=%{x}<br>Average IQ=%{y}<extra></extra>",
         "legendgroup": "Latvia",
         "marker": {
          "color": "#FECB52",
          "symbol": "circle"
         },
         "mode": "markers",
         "name": "Latvia",
         "orientation": "v",
         "showlegend": true,
         "type": "scatter",
         "x": [
          13.3
         ],
         "xaxis": "x",
         "y": [
          94.79
         ],
         "yaxis": "y"
        },
        {
         "hovertemplate": "Country=Italy<br>Mean years of schooling - 2021=%{x}<br>Average IQ=%{y}<extra></extra>",
         "legendgroup": "Italy",
         "marker": {
          "color": "#636efa",
          "symbol": "circle"
         },
         "mode": "markers",
         "name": "Italy",
         "orientation": "v",
         "showlegend": true,
         "type": "scatter",
         "x": [
          10.7
         ],
         "xaxis": "x",
         "y": [
          94.23
         ],
         "yaxis": "y"
        },
        {
         "hovertemplate": "Country=New Caledonia<br>Mean years of schooling - 2021=%{x}<br>Average IQ=%{y}<extra></extra>",
         "legendgroup": "New Caledonia",
         "marker": {
          "color": "#EF553B",
          "symbol": "circle"
         },
         "mode": "markers",
         "name": "New Caledonia",
         "orientation": "v",
         "showlegend": true,
         "type": "scatter",
         "x": [
          null
         ],
         "xaxis": "x",
         "y": [
          93.92
         ],
         "yaxis": "y"
        },
        {
         "hovertemplate": "Country=Vanuatu<br>Mean years of schooling - 2021=%{x}<br>Average IQ=%{y}<extra></extra>",
         "legendgroup": "Vanuatu",
         "marker": {
          "color": "#00cc96",
          "symbol": "circle"
         },
         "mode": "markers",
         "name": "Vanuatu",
         "orientation": "v",
         "showlegend": true,
         "type": "scatter",
         "x": [
          7.1
         ],
         "xaxis": "x",
         "y": [
          93.92
         ],
         "yaxis": "y"
        },
        {
         "hovertemplate": "Country=Spain<br>Mean years of schooling - 2021=%{x}<br>Average IQ=%{y}<extra></extra>",
         "legendgroup": "Spain",
         "marker": {
          "color": "#ab63fa",
          "symbol": "circle"
         },
         "mode": "markers",
         "name": "Spain",
         "orientation": "v",
         "showlegend": true,
         "type": "scatter",
         "x": [
          10.6
         ],
         "xaxis": "x",
         "y": [
          93.9
         ],
         "yaxis": "y"
        },
        {
         "hovertemplate": "Country=Bermuda<br>Mean years of schooling - 2021=%{x}<br>Average IQ=%{y}<extra></extra>",
         "legendgroup": "Bermuda",
         "marker": {
          "color": "#FFA15A",
          "symbol": "circle"
         },
         "mode": "markers",
         "name": "Bermuda",
         "orientation": "v",
         "showlegend": true,
         "type": "scatter",
         "x": [
          null
         ],
         "xaxis": "x",
         "y": [
          93.48
         ],
         "yaxis": "y"
        },
        {
         "hovertemplate": "Country=Cyprus<br>Mean years of schooling - 2021=%{x}<br>Average IQ=%{y}<extra></extra>",
         "legendgroup": "Cyprus",
         "marker": {
          "color": "#19d3f3",
          "symbol": "circle"
         },
         "mode": "markers",
         "name": "Cyprus",
         "orientation": "v",
         "showlegend": true,
         "type": "scatter",
         "x": [
          12.4
         ],
         "xaxis": "x",
         "y": [
          93.39
         ],
         "yaxis": "y"
        },
        {
         "hovertemplate": "Country=Portugal<br>Mean years of schooling - 2021=%{x}<br>Average IQ=%{y}<extra></extra>",
         "legendgroup": "Portugal",
         "marker": {
          "color": "#FF6692",
          "symbol": "circle"
         },
         "mode": "markers",
         "name": "Portugal",
         "orientation": "v",
         "showlegend": true,
         "type": "scatter",
         "x": [
          9.6
         ],
         "xaxis": "x",
         "y": [
          92.77
         ],
         "yaxis": "y"
        },
        {
         "hovertemplate": "Country=Israel<br>Mean years of schooling - 2021=%{x}<br>Average IQ=%{y}<extra></extra>",
         "legendgroup": "Israel",
         "marker": {
          "color": "#B6E880",
          "symbol": "circle"
         },
         "mode": "markers",
         "name": "Israel",
         "orientation": "v",
         "showlegend": true,
         "type": "scatter",
         "x": [
          13.3
         ],
         "xaxis": "x",
         "y": [
          92.43
         ],
         "yaxis": "y"
        },
        {
         "hovertemplate": "Country=Barbados<br>Mean years of schooling - 2021=%{x}<br>Average IQ=%{y}<extra></extra>",
         "legendgroup": "Barbados",
         "marker": {
          "color": "#FF97FF",
          "symbol": "circle"
         },
         "mode": "markers",
         "name": "Barbados",
         "orientation": "v",
         "showlegend": true,
         "type": "scatter",
         "x": [
          9.9
         ],
         "xaxis": "x",
         "y": [
          91.6
         ],
         "yaxis": "y"
        },
        {
         "hovertemplate": "Country=Malta<br>Mean years of schooling - 2021=%{x}<br>Average IQ=%{y}<extra></extra>",
         "legendgroup": "Malta",
         "marker": {
          "color": "#FECB52",
          "symbol": "circle"
         },
         "mode": "markers",
         "name": "Malta",
         "orientation": "v",
         "showlegend": true,
         "type": "scatter",
         "x": [
          12.2
         ],
         "xaxis": "x",
         "y": [
          91.27
         ],
         "yaxis": "y"
        },
        {
         "hovertemplate": "Country=Myanmar<br>Mean years of schooling - 2021=%{x}<br>Average IQ=%{y}<extra></extra>",
         "legendgroup": "Myanmar",
         "marker": {
          "color": "#636efa",
          "symbol": "circle"
         },
         "mode": "markers",
         "name": "Myanmar",
         "orientation": "v",
         "showlegend": true,
         "type": "scatter",
         "x": [
          6.4
         ],
         "xaxis": "x",
         "y": [
          91.18
         ],
         "yaxis": "y"
        },
        {
         "hovertemplate": "Country=Mongolia<br>Mean years of schooling - 2021=%{x}<br>Average IQ=%{y}<extra></extra>",
         "legendgroup": "Mongolia",
         "marker": {
          "color": "#EF553B",
          "symbol": "circle"
         },
         "mode": "markers",
         "name": "Mongolia",
         "orientation": "v",
         "showlegend": true,
         "type": "scatter",
         "x": [
          9.4
         ],
         "xaxis": "x",
         "y": [
          91.03
         ],
         "yaxis": "y"
        },
        {
         "hovertemplate": "Country=Bulgaria<br>Mean years of schooling - 2021=%{x}<br>Average IQ=%{y}<extra></extra>",
         "legendgroup": "Bulgaria",
         "marker": {
          "color": "#00cc96",
          "symbol": "circle"
         },
         "mode": "markers",
         "name": "Bulgaria",
         "orientation": "v",
         "showlegend": true,
         "type": "scatter",
         "x": [
          11.4
         ],
         "xaxis": "x",
         "y": [
          90.99
         ],
         "yaxis": "y"
        },
        {
         "hovertemplate": "Country=Greece<br>Mean years of schooling - 2021=%{x}<br>Average IQ=%{y}<extra></extra>",
         "legendgroup": "Greece",
         "marker": {
          "color": "#ab63fa",
          "symbol": "circle"
         },
         "mode": "markers",
         "name": "Greece",
         "orientation": "v",
         "showlegend": true,
         "type": "scatter",
         "x": [
          11.4
         ],
         "xaxis": "x",
         "y": [
          90.77
         ],
         "yaxis": "y"
        },
        {
         "hovertemplate": "Country=Suriname<br>Mean years of schooling - 2021=%{x}<br>Average IQ=%{y}<extra></extra>",
         "legendgroup": "Suriname",
         "marker": {
          "color": "#FFA15A",
          "symbol": "circle"
         },
         "mode": "markers",
         "name": "Suriname",
         "orientation": "v",
         "showlegend": true,
         "type": "scatter",
         "x": [
          9.8
         ],
         "xaxis": "x",
         "y": [
          90.29
         ],
         "yaxis": "y"
        },
        {
         "hovertemplate": "Country=Ukraine<br>Mean years of schooling - 2021=%{x}<br>Average IQ=%{y}<extra></extra>",
         "legendgroup": "Ukraine",
         "marker": {
          "color": "#19d3f3",
          "symbol": "circle"
         },
         "mode": "markers",
         "name": "Ukraine",
         "orientation": "v",
         "showlegend": true,
         "type": "scatter",
         "x": [
          11.1
         ],
         "xaxis": "x",
         "y": [
          90.07
         ],
         "yaxis": "y"
        },
        {
         "hovertemplate": "Country=Moldavia<br>Mean years of schooling - 2021=%{x}<br>Average IQ=%{y}<extra></extra>",
         "legendgroup": "Moldavia",
         "marker": {
          "color": "#FF6692",
          "symbol": "circle"
         },
         "mode": "markers",
         "name": "Moldavia",
         "orientation": "v",
         "showlegend": true,
         "type": "scatter",
         "x": [
          11.8
         ],
         "xaxis": "x",
         "y": [
          89.98
         ],
         "yaxis": "y"
        },
        {
         "hovertemplate": "Country=Serbia<br>Mean years of schooling - 2021=%{x}<br>Average IQ=%{y}<extra></extra>",
         "legendgroup": "Serbia",
         "marker": {
          "color": "#B6E880",
          "symbol": "circle"
         },
         "mode": "markers",
         "name": "Serbia",
         "orientation": "v",
         "showlegend": true,
         "type": "scatter",
         "x": [
          11.4
         ],
         "xaxis": "x",
         "y": [
          89.6
         ],
         "yaxis": "y"
        },
        {
         "hovertemplate": "Country=Vietnam<br>Mean years of schooling - 2021=%{x}<br>Average IQ=%{y}<extra></extra>",
         "legendgroup": "Vietnam",
         "marker": {
          "color": "#FF97FF",
          "symbol": "circle"
         },
         "mode": "markers",
         "name": "Vietnam",
         "orientation": "v",
         "showlegend": true,
         "type": "scatter",
         "x": [
          8.4
         ],
         "xaxis": "x",
         "y": [
          89.53
         ],
         "yaxis": "y"
        },
        {
         "hovertemplate": "Country=Iraq<br>Mean years of schooling - 2021=%{x}<br>Average IQ=%{y}<extra></extra>",
         "legendgroup": "Iraq",
         "marker": {
          "color": "#FECB52",
          "symbol": "circle"
         },
         "mode": "markers",
         "name": "Iraq",
         "orientation": "v",
         "showlegend": true,
         "type": "scatter",
         "x": [
          7.9
         ],
         "xaxis": "x",
         "y": [
          89.28
         ],
         "yaxis": "y"
        },
        {
         "hovertemplate": "Country=Uzbekistan<br>Mean years of schooling - 2021=%{x}<br>Average IQ=%{y}<extra></extra>",
         "legendgroup": "Uzbekistan",
         "marker": {
          "color": "#636efa",
          "symbol": "circle"
         },
         "mode": "markers",
         "name": "Uzbekistan",
         "orientation": "v",
         "showlegend": true,
         "type": "scatter",
         "x": [
          11.9
         ],
         "xaxis": "x",
         "y": [
          89.01
         ],
         "yaxis": "y"
        },
        {
         "hovertemplate": "Country=Kazakhstan<br>Mean years of schooling - 2021=%{x}<br>Average IQ=%{y}<extra></extra>",
         "legendgroup": "Kazakhstan",
         "marker": {
          "color": "#EF553B",
          "symbol": "circle"
         },
         "mode": "markers",
         "name": "Kazakhstan",
         "orientation": "v",
         "showlegend": true,
         "type": "scatter",
         "x": [
          12.3
         ],
         "xaxis": "x",
         "y": [
          88.89
         ],
         "yaxis": "y"
        },
        {
         "hovertemplate": "Country=Thailand<br>Mean years of schooling - 2021=%{x}<br>Average IQ=%{y}<extra></extra>",
         "legendgroup": "Thailand",
         "marker": {
          "color": "#00cc96",
          "symbol": "circle"
         },
         "mode": "markers",
         "name": "Thailand",
         "orientation": "v",
         "showlegend": true,
         "type": "scatter",
         "x": [
          8.7
         ],
         "xaxis": "x",
         "y": [
          88.87
         ],
         "yaxis": "y"
        },
        {
         "hovertemplate": "Country=Armenia<br>Mean years of schooling - 2021=%{x}<br>Average IQ=%{y}<extra></extra>",
         "legendgroup": "Armenia",
         "marker": {
          "color": "#ab63fa",
          "symbol": "circle"
         },
         "mode": "markers",
         "name": "Armenia",
         "orientation": "v",
         "showlegend": true,
         "type": "scatter",
         "x": [
          11.3
         ],
         "xaxis": "x",
         "y": [
          88.82
         ],
         "yaxis": "y"
        },
        {
         "hovertemplate": "Country=Bosnia and Herzegovina<br>Mean years of schooling - 2021=%{x}<br>Average IQ=%{y}<extra></extra>",
         "legendgroup": "Bosnia and Herzegovina",
         "marker": {
          "color": "#FFA15A",
          "symbol": "circle"
         },
         "mode": "markers",
         "name": "Bosnia and Herzegovina",
         "orientation": "v",
         "showlegend": true,
         "type": "scatter",
         "x": [
          10.5
         ],
         "xaxis": "x",
         "y": [
          88.54
         ],
         "yaxis": "y"
        },
        {
         "hovertemplate": "Country=Costa Rica<br>Mean years of schooling - 2021=%{x}<br>Average IQ=%{y}<extra></extra>",
         "legendgroup": "Costa Rica",
         "marker": {
          "color": "#19d3f3",
          "symbol": "circle"
         },
         "mode": "markers",
         "name": "Costa Rica",
         "orientation": "v",
         "showlegend": true,
         "type": "scatter",
         "x": [
          8.8
         ],
         "xaxis": "x",
         "y": [
          88.34
         ],
         "yaxis": "y"
        },
        {
         "hovertemplate": "Country=Bhutan<br>Mean years of schooling - 2021=%{x}<br>Average IQ=%{y}<extra></extra>",
         "legendgroup": "Bhutan",
         "marker": {
          "color": "#FF6692",
          "symbol": "circle"
         },
         "mode": "markers",
         "name": "Bhutan",
         "orientation": "v",
         "showlegend": true,
         "type": "scatter",
         "x": [
          5.2
         ],
         "xaxis": "x",
         "y": [
          87.94
         ],
         "yaxis": "y"
        },
        {
         "hovertemplate": "Country=Chile<br>Mean years of schooling - 2021=%{x}<br>Average IQ=%{y}<extra></extra>",
         "legendgroup": "Chile",
         "marker": {
          "color": "#B6E880",
          "symbol": "circle"
         },
         "mode": "markers",
         "name": "Chile",
         "orientation": "v",
         "showlegend": true,
         "type": "scatter",
         "x": [
          10.9
         ],
         "xaxis": "x",
         "y": [
          87.89
         ],
         "yaxis": "y"
        },
        {
         "hovertemplate": "Country=Mexico<br>Mean years of schooling - 2021=%{x}<br>Average IQ=%{y}<extra></extra>",
         "legendgroup": "Mexico",
         "marker": {
          "color": "#FF97FF",
          "symbol": "circle"
         },
         "mode": "markers",
         "name": "Mexico",
         "orientation": "v",
         "showlegend": true,
         "type": "scatter",
         "x": [
          9.2
         ],
         "xaxis": "x",
         "y": [
          87.73
         ],
         "yaxis": "y"
        },
        {
         "hovertemplate": "Country=Tajikistan<br>Mean years of schooling - 2021=%{x}<br>Average IQ=%{y}<extra></extra>",
         "legendgroup": "Tajikistan",
         "marker": {
          "color": "#FECB52",
          "symbol": "circle"
         },
         "mode": "markers",
         "name": "Tajikistan",
         "orientation": "v",
         "showlegend": true,
         "type": "scatter",
         "x": [
          11.3
         ],
         "xaxis": "x",
         "y": [
          87.71
         ],
         "yaxis": "y"
        },
        {
         "hovertemplate": "Country=Uruguay<br>Mean years of schooling - 2021=%{x}<br>Average IQ=%{y}<extra></extra>",
         "legendgroup": "Uruguay",
         "marker": {
          "color": "#636efa",
          "symbol": "circle"
         },
         "mode": "markers",
         "name": "Uruguay",
         "orientation": "v",
         "showlegend": true,
         "type": "scatter",
         "x": [
          9
         ],
         "xaxis": "x",
         "y": [
          87.59
         ],
         "yaxis": "y"
        },
        {
         "hovertemplate": "Country=Brunei<br>Mean years of schooling - 2021=%{x}<br>Average IQ=%{y}<extra></extra>",
         "legendgroup": "Brunei",
         "marker": {
          "color": "#EF553B",
          "symbol": "circle"
         },
         "mode": "markers",
         "name": "Brunei",
         "orientation": "v",
         "showlegend": true,
         "type": "scatter",
         "x": [
          9.2
         ],
         "xaxis": "x",
         "y": [
          87.58
         ],
         "yaxis": "y"
        },
        {
         "hovertemplate": "Country=Malaysia<br>Mean years of schooling - 2021=%{x}<br>Average IQ=%{y}<extra></extra>",
         "legendgroup": "Malaysia",
         "marker": {
          "color": "#00cc96",
          "symbol": "circle"
         },
         "mode": "markers",
         "name": "Malaysia",
         "orientation": "v",
         "showlegend": true,
         "type": "scatter",
         "x": [
          10.6
         ],
         "xaxis": "x",
         "y": [
          87.58
         ],
         "yaxis": "y"
        },
        {
         "hovertemplate": "Country=Bahamas<br>Mean years of schooling - 2021=%{x}<br>Average IQ=%{y}<extra></extra>",
         "legendgroup": "Bahamas",
         "marker": {
          "color": "#ab63fa",
          "symbol": "circle"
         },
         "mode": "markers",
         "name": "Bahamas",
         "orientation": "v",
         "showlegend": true,
         "type": "scatter",
         "x": [
          12.6
         ],
         "xaxis": "x",
         "y": [
          86.99
         ],
         "yaxis": "y"
        },
        {
         "hovertemplate": "Country=Romania<br>Mean years of schooling - 2021=%{x}<br>Average IQ=%{y}<extra></extra>",
         "legendgroup": "Romania",
         "marker": {
          "color": "#FFA15A",
          "symbol": "circle"
         },
         "mode": "markers",
         "name": "Romania",
         "orientation": "v",
         "showlegend": true,
         "type": "scatter",
         "x": [
          11.3
         ],
         "xaxis": "x",
         "y": [
          86.88
         ],
         "yaxis": "y"
        },
        {
         "hovertemplate": "Country=Türkiye<br>Mean years of schooling - 2021=%{x}<br>Average IQ=%{y}<extra></extra>",
         "legendgroup": "Türkiye",
         "marker": {
          "color": "#19d3f3",
          "symbol": "circle"
         },
         "mode": "markers",
         "name": "Türkiye",
         "orientation": "v",
         "showlegend": true,
         "type": "scatter",
         "x": [
          8.6
         ],
         "xaxis": "x",
         "y": [
          86.8
         ],
         "yaxis": "y"
        },
        {
         "hovertemplate": "Country=Argentina<br>Mean years of schooling - 2021=%{x}<br>Average IQ=%{y}<extra></extra>",
         "legendgroup": "Argentina",
         "marker": {
          "color": "#FF6692",
          "symbol": "circle"
         },
         "mode": "markers",
         "name": "Argentina",
         "orientation": "v",
         "showlegend": true,
         "type": "scatter",
         "x": [
          11.1
         ],
         "xaxis": "x",
         "y": [
          86.63
         ],
         "yaxis": "y"
        },
        {
         "hovertemplate": "Country=Sri Lanka<br>Mean years of schooling - 2021=%{x}<br>Average IQ=%{y}<extra></extra>",
         "legendgroup": "Sri Lanka",
         "marker": {
          "color": "#B6E880",
          "symbol": "circle"
         },
         "mode": "markers",
         "name": "Sri Lanka",
         "orientation": "v",
         "showlegend": true,
         "type": "scatter",
         "x": [
          10.8
         ],
         "xaxis": "x",
         "y": [
          86.62
         ],
         "yaxis": "y"
        },
        {
         "hovertemplate": "Country=Mauritius<br>Mean years of schooling - 2021=%{x}<br>Average IQ=%{y}<extra></extra>",
         "legendgroup": "Mauritius",
         "marker": {
          "color": "#FF97FF",
          "symbol": "circle"
         },
         "mode": "markers",
         "name": "Mauritius",
         "orientation": "v",
         "showlegend": true,
         "type": "scatter",
         "x": [
          10.4
         ],
         "xaxis": "x",
         "y": [
          86.56
         ],
         "yaxis": "y"
        },
        {
         "hovertemplate": "Country=Turkmenistan<br>Mean years of schooling - 2021=%{x}<br>Average IQ=%{y}<extra></extra>",
         "legendgroup": "Turkmenistan",
         "marker": {
          "color": "#FECB52",
          "symbol": "circle"
         },
         "mode": "markers",
         "name": "Turkmenistan",
         "orientation": "v",
         "showlegend": true,
         "type": "scatter",
         "x": [
          11.3
         ],
         "xaxis": "x",
         "y": [
          85.86
         ],
         "yaxis": "y"
        },
        {
         "hovertemplate": "Country=Montenegro<br>Mean years of schooling - 2021=%{x}<br>Average IQ=%{y}<extra></extra>",
         "legendgroup": "Montenegro",
         "marker": {
          "color": "#636efa",
          "symbol": "circle"
         },
         "mode": "markers",
         "name": "Montenegro",
         "orientation": "v",
         "showlegend": true,
         "type": "scatter",
         "x": [
          12.2
         ],
         "xaxis": "x",
         "y": [
          85.78
         ],
         "yaxis": "y"
        },
        {
         "hovertemplate": "Country=Trinidad and Tobago<br>Mean years of schooling - 2021=%{x}<br>Average IQ=%{y}<extra></extra>",
         "legendgroup": "Trinidad and Tobago",
         "marker": {
          "color": "#EF553B",
          "symbol": "circle"
         },
         "mode": "markers",
         "name": "Trinidad and Tobago",
         "orientation": "v",
         "showlegend": true,
         "type": "scatter",
         "x": [
          11.6
         ],
         "xaxis": "x",
         "y": [
          85.63
         ],
         "yaxis": "y"
        },
        {
         "hovertemplate": "Country=Azerbaijan<br>Mean years of schooling - 2021=%{x}<br>Average IQ=%{y}<extra></extra>",
         "legendgroup": "Azerbaijan",
         "marker": {
          "color": "#00cc96",
          "symbol": "circle"
         },
         "mode": "markers",
         "name": "Azerbaijan",
         "orientation": "v",
         "showlegend": true,
         "type": "scatter",
         "x": [
          10.5
         ],
         "xaxis": "x",
         "y": [
          84.81
         ],
         "yaxis": "y"
        },
        {
         "hovertemplate": "Country=Georgia<br>Mean years of schooling - 2021=%{x}<br>Average IQ=%{y}<extra></extra>",
         "legendgroup": "Georgia",
         "marker": {
          "color": "#ab63fa",
          "symbol": "circle"
         },
         "mode": "markers",
         "name": "Georgia",
         "orientation": "v",
         "showlegend": true,
         "type": "scatter",
         "x": [
          12.8
         ],
         "xaxis": "x",
         "y": [
          84.5
         ],
         "yaxis": "y"
        },
        {
         "hovertemplate": "Country=Turks and Caicos Islands<br>Mean years of schooling - 2021=%{x}<br>Average IQ=%{y}<extra></extra>",
         "legendgroup": "Turks and Caicos Islands",
         "marker": {
          "color": "#FFA15A",
          "symbol": "circle"
         },
         "mode": "markers",
         "name": "Turks and Caicos Islands",
         "orientation": "v",
         "showlegend": true,
         "type": "scatter",
         "x": [
          null
         ],
         "xaxis": "x",
         "y": [
          84.29
         ],
         "yaxis": "y"
        },
        {
         "hovertemplate": "Country=Paraguay<br>Mean years of schooling - 2021=%{x}<br>Average IQ=%{y}<extra></extra>",
         "legendgroup": "Paraguay",
         "marker": {
          "color": "#19d3f3",
          "symbol": "circle"
         },
         "mode": "markers",
         "name": "Paraguay",
         "orientation": "v",
         "showlegend": true,
         "type": "scatter",
         "x": [
          8.9
         ],
         "xaxis": "x",
         "y": [
          84.04
         ],
         "yaxis": "y"
        },
        {
         "hovertemplate": "Country=Federated States of Micronesia<br>Mean years of schooling - 2021=%{x}<br>Average IQ=%{y}<extra></extra>",
         "legendgroup": "Federated States of Micronesia",
         "marker": {
          "color": "#FF6692",
          "symbol": "circle"
         },
         "mode": "markers",
         "name": "Federated States of Micronesia",
         "orientation": "v",
         "showlegend": true,
         "type": "scatter",
         "x": [
          7.8
         ],
         "xaxis": "x",
         "y": [
          83.96
         ],
         "yaxis": "y"
        },
        {
         "hovertemplate": "Country=Fiji<br>Mean years of schooling - 2021=%{x}<br>Average IQ=%{y}<extra></extra>",
         "legendgroup": "Fiji",
         "marker": {
          "color": "#B6E880",
          "symbol": "circle"
         },
         "mode": "markers",
         "name": "Fiji",
         "orientation": "v",
         "showlegend": true,
         "type": "scatter",
         "x": [
          10.9
         ],
         "xaxis": "x",
         "y": [
          83.96
         ],
         "yaxis": "y"
        },
        {
         "hovertemplate": "Country=Marshall Islands<br>Mean years of schooling - 2021=%{x}<br>Average IQ=%{y}<extra></extra>",
         "legendgroup": "Marshall Islands",
         "marker": {
          "color": "#FF97FF",
          "symbol": "circle"
         },
         "mode": "markers",
         "name": "Marshall Islands",
         "orientation": "v",
         "showlegend": true,
         "type": "scatter",
         "x": [
          10.9
         ],
         "xaxis": "x",
         "y": [
          83.96
         ],
         "yaxis": "y"
        },
        {
         "hovertemplate": "Country=Solomon Islands<br>Mean years of schooling - 2021=%{x}<br>Average IQ=%{y}<extra></extra>",
         "legendgroup": "Solomon Islands",
         "marker": {
          "color": "#FECB52",
          "symbol": "circle"
         },
         "mode": "markers",
         "name": "Solomon Islands",
         "orientation": "v",
         "showlegend": true,
         "type": "scatter",
         "x": [
          5.7
         ],
         "xaxis": "x",
         "y": [
          83.96
         ],
         "yaxis": "y"
        },
        {
         "hovertemplate": "Country=Cuba<br>Mean years of schooling - 2021=%{x}<br>Average IQ=%{y}<extra></extra>",
         "legendgroup": "Cuba",
         "marker": {
          "color": "#636efa",
          "symbol": "circle"
         },
         "mode": "markers",
         "name": "Cuba",
         "orientation": "v",
         "showlegend": true,
         "type": "scatter",
         "x": [
          12.5
         ],
         "xaxis": "x",
         "y": [
          83.9
         ],
         "yaxis": "y"
        },
        {
         "hovertemplate": "Country=Bahrain<br>Mean years of schooling - 2021=%{x}<br>Average IQ=%{y}<extra></extra>",
         "legendgroup": "Bahrain",
         "marker": {
          "color": "#EF553B",
          "symbol": "circle"
         },
         "mode": "markers",
         "name": "Bahrain",
         "orientation": "v",
         "showlegend": true,
         "type": "scatter",
         "x": [
          11
         ],
         "xaxis": "x",
         "y": [
          83.6
         ],
         "yaxis": "y"
        },
        {
         "hovertemplate": "Country=Brazil<br>Mean years of schooling - 2021=%{x}<br>Average IQ=%{y}<extra></extra>",
         "legendgroup": "Brazil",
         "marker": {
          "color": "#00cc96",
          "symbol": "circle"
         },
         "mode": "markers",
         "name": "Brazil",
         "orientation": "v",
         "showlegend": true,
         "type": "scatter",
         "x": [
          8.1
         ],
         "xaxis": "x",
         "y": [
          83.38
         ],
         "yaxis": "y"
        },
        {
         "hovertemplate": "Country=Guyana<br>Mean years of schooling - 2021=%{x}<br>Average IQ=%{y}<extra></extra>",
         "legendgroup": "Guyana",
         "marker": {
          "color": "#ab63fa",
          "symbol": "circle"
         },
         "mode": "markers",
         "name": "Guyana",
         "orientation": "v",
         "showlegend": true,
         "type": "scatter",
         "x": [
          8.6
         ],
         "xaxis": "x",
         "y": [
          83.23
         ],
         "yaxis": "y"
        },
        {
         "hovertemplate": "Country=Colombia<br>Mean years of schooling - 2021=%{x}<br>Average IQ=%{y}<extra></extra>",
         "legendgroup": "Colombia",
         "marker": {
          "color": "#FFA15A",
          "symbol": "circle"
         },
         "mode": "markers",
         "name": "Colombia",
         "orientation": "v",
         "showlegend": true,
         "type": "scatter",
         "x": [
          8.9
         ],
         "xaxis": "x",
         "y": [
          83.13
         ],
         "yaxis": "y"
        },
        {
         "hovertemplate": "Country=Venezuela<br>Mean years of schooling - 2021=%{x}<br>Average IQ=%{y}<extra></extra>",
         "legendgroup": "Venezuela",
         "marker": {
          "color": "#19d3f3",
          "symbol": "circle"
         },
         "mode": "markers",
         "name": "Venezuela",
         "orientation": "v",
         "showlegend": true,
         "type": "scatter",
         "x": [
          11.1
         ],
         "xaxis": "x",
         "y": [
          82.99
         ],
         "yaxis": "y"
        },
        {
         "hovertemplate": "Country=Cayman Islands<br>Mean years of schooling - 2021=%{x}<br>Average IQ=%{y}<extra></extra>",
         "legendgroup": "Cayman Islands",
         "marker": {
          "color": "#FF6692",
          "symbol": "circle"
         },
         "mode": "markers",
         "name": "Cayman Islands",
         "orientation": "v",
         "showlegend": true,
         "type": "scatter",
         "x": [
          null
         ],
         "xaxis": "x",
         "y": [
          82.24
         ],
         "yaxis": "y"
        },
        {
         "hovertemplate": "Country=Afghanistan<br>Mean years of schooling - 2021=%{x}<br>Average IQ=%{y}<extra></extra>",
         "legendgroup": "Afghanistan",
         "marker": {
          "color": "#B6E880",
          "symbol": "circle"
         },
         "mode": "markers",
         "name": "Afghanistan",
         "orientation": "v",
         "showlegend": true,
         "type": "scatter",
         "x": [
          3
         ],
         "xaxis": "x",
         "y": [
          82.12
         ],
         "yaxis": "y"
        },
        {
         "hovertemplate": "Country=Haiti<br>Mean years of schooling - 2021=%{x}<br>Average IQ=%{y}<extra></extra>",
         "legendgroup": "Haiti",
         "marker": {
          "color": "#FF97FF",
          "symbol": "circle"
         },
         "mode": "markers",
         "name": "Haiti",
         "orientation": "v",
         "showlegend": true,
         "type": "scatter",
         "x": [
          5.6
         ],
         "xaxis": "x",
         "y": [
          82.1
         ],
         "yaxis": "y"
        },
        {
         "hovertemplate": "Country=Dominican Republic<br>Mean years of schooling - 2021=%{x}<br>Average IQ=%{y}<extra></extra>",
         "legendgroup": "Dominican Republic",
         "marker": {
          "color": "#FECB52",
          "symbol": "circle"
         },
         "mode": "markers",
         "name": "Dominican Republic",
         "orientation": "v",
         "showlegend": true,
         "type": "scatter",
         "x": [
          9.3
         ],
         "xaxis": "x",
         "y": [
          82.05
         ],
         "yaxis": "y"
        },
        {
         "hovertemplate": "Country=United Arab Emirates<br>Mean years of schooling - 2021=%{x}<br>Average IQ=%{y}<extra></extra>",
         "legendgroup": "United Arab Emirates",
         "marker": {
          "color": "#636efa",
          "symbol": "circle"
         },
         "mode": "markers",
         "name": "United Arab Emirates",
         "orientation": "v",
         "showlegend": true,
         "type": "scatter",
         "x": [
          12.7
         ],
         "xaxis": "x",
         "y": [
          82.05
         ],
         "yaxis": "y"
        },
        {
         "hovertemplate": "Country=Puerto Rico<br>Mean years of schooling - 2021=%{x}<br>Average IQ=%{y}<extra></extra>",
         "legendgroup": "Puerto Rico",
         "marker": {
          "color": "#EF553B",
          "symbol": "circle"
         },
         "mode": "markers",
         "name": "Puerto Rico",
         "orientation": "v",
         "showlegend": true,
         "type": "scatter",
         "x": [
          null
         ],
         "xaxis": "x",
         "y": [
          81.99
         ],
         "yaxis": "y"
        },
        {
         "hovertemplate": "Country=North Macedonia<br>Mean years of schooling - 2021=%{x}<br>Average IQ=%{y}<extra></extra>",
         "legendgroup": "North Macedonia",
         "marker": {
          "color": "#00cc96",
          "symbol": "circle"
         },
         "mode": "markers",
         "name": "North Macedonia",
         "orientation": "v",
         "showlegend": true,
         "type": "scatter",
         "x": [
          10.2
         ],
         "xaxis": "x",
         "y": [
          81.91
         ],
         "yaxis": "y"
        },
        {
         "hovertemplate": "Country=Albania<br>Mean years of schooling - 2021=%{x}<br>Average IQ=%{y}<extra></extra>",
         "legendgroup": "Albania",
         "marker": {
          "color": "#ab63fa",
          "symbol": "circle"
         },
         "mode": "markers",
         "name": "Albania",
         "orientation": "v",
         "showlegend": true,
         "type": "scatter",
         "x": [
          11.3
         ],
         "xaxis": "x",
         "y": [
          81.75
         ],
         "yaxis": "y"
        },
        {
         "hovertemplate": "Country=Lebanon<br>Mean years of schooling - 2021=%{x}<br>Average IQ=%{y}<extra></extra>",
         "legendgroup": "Lebanon",
         "marker": {
          "color": "#FFA15A",
          "symbol": "circle"
         },
         "mode": "markers",
         "name": "Lebanon",
         "orientation": "v",
         "showlegend": true,
         "type": "scatter",
         "x": [
          8.7
         ],
         "xaxis": "x",
         "y": [
          81.7
         ],
         "yaxis": "y"
        },
        {
         "hovertemplate": "Country=Philippines<br>Mean years of schooling - 2021=%{x}<br>Average IQ=%{y}<extra></extra>",
         "legendgroup": "Philippines",
         "marker": {
          "color": "#19d3f3",
          "symbol": "circle"
         },
         "mode": "markers",
         "name": "Philippines",
         "orientation": "v",
         "showlegend": true,
         "type": "scatter",
         "x": [
          9
         ],
         "xaxis": "x",
         "y": [
          81.64
         ],
         "yaxis": "y"
        },
        {
         "hovertemplate": "Country=Peru<br>Mean years of schooling - 2021=%{x}<br>Average IQ=%{y}<extra></extra>",
         "legendgroup": "Peru",
         "marker": {
          "color": "#FF6692",
          "symbol": "circle"
         },
         "mode": "markers",
         "name": "Peru",
         "orientation": "v",
         "showlegend": true,
         "type": "scatter",
         "x": [
          9.9
         ],
         "xaxis": "x",
         "y": [
          81.44
         ],
         "yaxis": "y"
        },
        {
         "hovertemplate": "Country=Northern Mariana Islands<br>Mean years of schooling - 2021=%{x}<br>Average IQ=%{y}<extra></extra>",
         "legendgroup": "Northern Mariana Islands",
         "marker": {
          "color": "#B6E880",
          "symbol": "circle"
         },
         "mode": "markers",
         "name": "Northern Mariana Islands",
         "orientation": "v",
         "showlegend": true,
         "type": "scatter",
         "x": [
          null
         ],
         "xaxis": "x",
         "y": [
          81.36
         ],
         "yaxis": "y"
        },
        {
         "hovertemplate": "Country=Laos<br>Mean years of schooling - 2021=%{x}<br>Average IQ=%{y}<extra></extra>",
         "legendgroup": "Laos",
         "marker": {
          "color": "#FF97FF",
          "symbol": "circle"
         },
         "mode": "markers",
         "name": "Laos",
         "orientation": "v",
         "showlegend": true,
         "type": "scatter",
         "x": [
          5.4
         ],
         "xaxis": "x",
         "y": [
          80.99
         ],
         "yaxis": "y"
        },
        {
         "hovertemplate": "Country=Libya<br>Mean years of schooling - 2021=%{x}<br>Average IQ=%{y}<extra></extra>",
         "legendgroup": "Libya",
         "marker": {
          "color": "#FECB52",
          "symbol": "circle"
         },
         "mode": "markers",
         "name": "Libya",
         "orientation": "v",
         "showlegend": true,
         "type": "scatter",
         "x": [
          7.6
         ],
         "xaxis": "x",
         "y": [
          80.92
         ],
         "yaxis": "y"
        },
        {
         "hovertemplate": "Country=Qatar<br>Mean years of schooling - 2021=%{x}<br>Average IQ=%{y}<extra></extra>",
         "legendgroup": "Qatar",
         "marker": {
          "color": "#636efa",
          "symbol": "circle"
         },
         "mode": "markers",
         "name": "Qatar",
         "orientation": "v",
         "showlegend": true,
         "type": "scatter",
         "x": [
          10
         ],
         "xaxis": "x",
         "y": [
          80.78
         ],
         "yaxis": "y"
        },
        {
         "hovertemplate": "Country=Jordan<br>Mean years of schooling - 2021=%{x}<br>Average IQ=%{y}<extra></extra>",
         "legendgroup": "Jordan",
         "marker": {
          "color": "#EF553B",
          "symbol": "circle"
         },
         "mode": "markers",
         "name": "Jordan",
         "orientation": "v",
         "showlegend": true,
         "type": "scatter",
         "x": [
          10.4
         ],
         "xaxis": "x",
         "y": [
          80.7
         ],
         "yaxis": "y"
        },
        {
         "hovertemplate": "Country=Maldives<br>Mean years of schooling - 2021=%{x}<br>Average IQ=%{y}<extra></extra>",
         "legendgroup": "Maldives",
         "marker": {
          "color": "#00cc96",
          "symbol": "circle"
         },
         "mode": "markers",
         "name": "Maldives",
         "orientation": "v",
         "showlegend": true,
         "type": "scatter",
         "x": [
          7.3
         ],
         "xaxis": "x",
         "y": [
          80.54
         ],
         "yaxis": "y"
        },
        {
         "hovertemplate": "Country=Iran<br>Mean years of schooling - 2021=%{x}<br>Average IQ=%{y}<extra></extra>",
         "legendgroup": "Iran",
         "marker": {
          "color": "#ab63fa",
          "symbol": "circle"
         },
         "mode": "markers",
         "name": "Iran",
         "orientation": "v",
         "showlegend": true,
         "type": "scatter",
         "x": [
          10.6
         ],
         "xaxis": "x",
         "y": [
          80.01
         ],
         "yaxis": "y"
        },
        {
         "hovertemplate": "Country=Pakistan<br>Mean years of schooling - 2021=%{x}<br>Average IQ=%{y}<extra></extra>",
         "legendgroup": "Pakistan",
         "marker": {
          "color": "#FFA15A",
          "symbol": "circle"
         },
         "mode": "markers",
         "name": "Pakistan",
         "orientation": "v",
         "showlegend": true,
         "type": "scatter",
         "x": [
          4.5
         ],
         "xaxis": "x",
         "y": [
          80
         ],
         "yaxis": "y"
        },
        {
         "hovertemplate": "Country=Grenade<br>Mean years of schooling - 2021=%{x}<br>Average IQ=%{y}<extra></extra>",
         "legendgroup": "Grenade",
         "marker": {
          "color": "#19d3f3",
          "symbol": "circle"
         },
         "mode": "markers",
         "name": "Grenade",
         "orientation": "v",
         "showlegend": true,
         "type": "scatter",
         "x": [
          9
         ],
         "xaxis": "x",
         "y": [
          79.34
         ],
         "yaxis": "y"
        },
        {
         "hovertemplate": "Country=Tunisia<br>Mean years of schooling - 2021=%{x}<br>Average IQ=%{y}<extra></extra>",
         "legendgroup": "Tunisia",
         "marker": {
          "color": "#FF6692",
          "symbol": "circle"
         },
         "mode": "markers",
         "name": "Tunisia",
         "orientation": "v",
         "showlegend": true,
         "type": "scatter",
         "x": [
          7.4
         ],
         "xaxis": "x",
         "y": [
          79.22
         ],
         "yaxis": "y"
        },
        {
         "hovertemplate": "Country=Kyrgyzstan<br>Mean years of schooling - 2021=%{x}<br>Average IQ=%{y}<extra></extra>",
         "legendgroup": "Kyrgyzstan",
         "marker": {
          "color": "#B6E880",
          "symbol": "circle"
         },
         "mode": "markers",
         "name": "Kyrgyzstan",
         "orientation": "v",
         "showlegend": true,
         "type": "scatter",
         "x": [
          11.4
         ],
         "xaxis": "x",
         "y": [
          79.09
         ],
         "yaxis": "y"
        },
        {
         "hovertemplate": "Country=Panama<br>Mean years of schooling - 2021=%{x}<br>Average IQ=%{y}<extra></extra>",
         "legendgroup": "Panama",
         "marker": {
          "color": "#FF97FF",
          "symbol": "circle"
         },
         "mode": "markers",
         "name": "Panama",
         "orientation": "v",
         "showlegend": true,
         "type": "scatter",
         "x": [
          10.5
         ],
         "xaxis": "x",
         "y": [
          79
         ],
         "yaxis": "y"
        },
        {
         "hovertemplate": "Country=Chad<br>Mean years of schooling - 2021=%{x}<br>Average IQ=%{y}<extra></extra>",
         "legendgroup": "Chad",
         "marker": {
          "color": "#FECB52",
          "symbol": "circle"
         },
         "mode": "markers",
         "name": "Chad",
         "orientation": "v",
         "showlegend": true,
         "type": "scatter",
         "x": [
          2.6
         ],
         "xaxis": "x",
         "y": [
          78.87
         ],
         "yaxis": "y"
        },
        {
         "hovertemplate": "Country=Sudan<br>Mean years of schooling - 2021=%{x}<br>Average IQ=%{y}<extra></extra>",
         "legendgroup": "Sudan",
         "marker": {
          "color": "#636efa",
          "symbol": "circle"
         },
         "mode": "markers",
         "name": "Sudan",
         "orientation": "v",
         "showlegend": true,
         "type": "scatter",
         "x": [
          3.8
         ],
         "xaxis": "x",
         "y": [
          78.87
         ],
         "yaxis": "y"
        },
        {
         "hovertemplate": "Country=Seychelles<br>Mean years of schooling - 2021=%{x}<br>Average IQ=%{y}<extra></extra>",
         "legendgroup": "Seychelles",
         "marker": {
          "color": "#EF553B",
          "symbol": "circle"
         },
         "mode": "markers",
         "name": "Seychelles",
         "orientation": "v",
         "showlegend": true,
         "type": "scatter",
         "x": [
          10.3
         ],
         "xaxis": "x",
         "y": [
          78.76
         ],
         "yaxis": "y"
        },
        {
         "hovertemplate": "Country=Oman<br>Mean years of schooling - 2021=%{x}<br>Average IQ=%{y}<extra></extra>",
         "legendgroup": "Oman",
         "marker": {
          "color": "#00cc96",
          "symbol": "circle"
         },
         "mode": "markers",
         "name": "Oman",
         "orientation": "v",
         "showlegend": true,
         "type": "scatter",
         "x": [
          11.7
         ],
         "xaxis": "x",
         "y": [
          78.7
         ],
         "yaxis": "y"
        },
        {
         "hovertemplate": "Country=Kuwait<br>Mean years of schooling - 2021=%{x}<br>Average IQ=%{y}<extra></extra>",
         "legendgroup": "Kuwait",
         "marker": {
          "color": "#ab63fa",
          "symbol": "circle"
         },
         "mode": "markers",
         "name": "Kuwait",
         "orientation": "v",
         "showlegend": true,
         "type": "scatter",
         "x": [
          7.3
         ],
         "xaxis": "x",
         "y": [
          78.64
         ],
         "yaxis": "y"
        },
        {
         "hovertemplate": "Country=East Timor<br>Mean years of schooling - 2021=%{x}<br>Average IQ=%{y}<extra></extra>",
         "legendgroup": "East Timor",
         "marker": {
          "color": "#FFA15A",
          "symbol": "circle"
         },
         "mode": "markers",
         "name": "East Timor",
         "orientation": "v",
         "showlegend": true,
         "type": "scatter",
         "x": [
          null
         ],
         "xaxis": "x",
         "y": [
          78.49
         ],
         "yaxis": "y"
        },
        {
         "hovertemplate": "Country=Indonesia<br>Mean years of schooling - 2021=%{x}<br>Average IQ=%{y}<extra></extra>",
         "legendgroup": "Indonesia",
         "marker": {
          "color": "#19d3f3",
          "symbol": "circle"
         },
         "mode": "markers",
         "name": "Indonesia",
         "orientation": "v",
         "showlegend": true,
         "type": "scatter",
         "x": [
          8.6
         ],
         "xaxis": "x",
         "y": [
          78.49
         ],
         "yaxis": "y"
        },
        {
         "hovertemplate": "Country=Papua New Guinea<br>Mean years of schooling - 2021=%{x}<br>Average IQ=%{y}<extra></extra>",
         "legendgroup": "Papua New Guinea",
         "marker": {
          "color": "#FF6692",
          "symbol": "circle"
         },
         "mode": "markers",
         "name": "Papua New Guinea",
         "orientation": "v",
         "showlegend": true,
         "type": "scatter",
         "x": [
          4.7
         ],
         "xaxis": "x",
         "y": [
          78.49
         ],
         "yaxis": "y"
        },
        {
         "hovertemplate": "Country=Ecuador<br>Mean years of schooling - 2021=%{x}<br>Average IQ=%{y}<extra></extra>",
         "legendgroup": "Ecuador",
         "marker": {
          "color": "#B6E880",
          "symbol": "circle"
         },
         "mode": "markers",
         "name": "Ecuador",
         "orientation": "v",
         "showlegend": true,
         "type": "scatter",
         "x": [
          8.8
         ],
         "xaxis": "x",
         "y": [
          78.26
         ],
         "yaxis": "y"
        },
        {
         "hovertemplate": "Country=Palestine<br>Mean years of schooling - 2021=%{x}<br>Average IQ=%{y}<extra></extra>",
         "legendgroup": "Palestine",
         "marker": {
          "color": "#FF97FF",
          "symbol": "circle"
         },
         "mode": "markers",
         "name": "Palestine",
         "orientation": "v",
         "showlegend": true,
         "type": "scatter",
         "x": [
          9.9
         ],
         "xaxis": "x",
         "y": [
          77.69
         ],
         "yaxis": "y"
        },
        {
         "hovertemplate": "Country=Senegal<br>Mean years of schooling - 2021=%{x}<br>Average IQ=%{y}<extra></extra>",
         "legendgroup": "Senegal",
         "marker": {
          "color": "#FECB52",
          "symbol": "circle"
         },
         "mode": "markers",
         "name": "Senegal",
         "orientation": "v",
         "showlegend": true,
         "type": "scatter",
         "x": [
          2.9
         ],
         "xaxis": "x",
         "y": [
          77.37
         ],
         "yaxis": "y"
        },
        {
         "hovertemplate": "Country=Comoros<br>Mean years of schooling - 2021=%{x}<br>Average IQ=%{y}<extra></extra>",
         "legendgroup": "Comoros",
         "marker": {
          "color": "#636efa",
          "symbol": "circle"
         },
         "mode": "markers",
         "name": "Comoros",
         "orientation": "v",
         "showlegend": true,
         "type": "scatter",
         "x": [
          5.1
         ],
         "xaxis": "x",
         "y": [
          77.07
         ],
         "yaxis": "y"
        },
        {
         "hovertemplate": "Country=Madagascar<br>Mean years of schooling - 2021=%{x}<br>Average IQ=%{y}<extra></extra>",
         "legendgroup": "Madagascar",
         "marker": {
          "color": "#EF553B",
          "symbol": "circle"
         },
         "mode": "markers",
         "name": "Madagascar",
         "orientation": "v",
         "showlegend": true,
         "type": "scatter",
         "x": [
          5.1
         ],
         "xaxis": "x",
         "y": [
          76.79
         ],
         "yaxis": "y"
        },
        {
         "hovertemplate": "Country=British Virgin Islands<br>Mean years of schooling - 2021=%{x}<br>Average IQ=%{y}<extra></extra>",
         "legendgroup": "British Virgin Islands",
         "marker": {
          "color": "#00cc96",
          "symbol": "circle"
         },
         "mode": "markers",
         "name": "British Virgin Islands",
         "orientation": "v",
         "showlegend": true,
         "type": "scatter",
         "x": [
          null
         ],
         "xaxis": "x",
         "y": [
          76.69
         ],
         "yaxis": "y"
        },
        {
         "hovertemplate": "Country=Bolivia<br>Mean years of schooling - 2021=%{x}<br>Average IQ=%{y}<extra></extra>",
         "legendgroup": "Bolivia",
         "marker": {
          "color": "#ab63fa",
          "symbol": "circle"
         },
         "mode": "markers",
         "name": "Bolivia",
         "orientation": "v",
         "showlegend": true,
         "type": "scatter",
         "x": [
          9.8
         ],
         "xaxis": "x",
         "y": [
          76.53
         ],
         "yaxis": "y"
        },
        {
         "hovertemplate": "Country=Uganda<br>Mean years of schooling - 2021=%{x}<br>Average IQ=%{y}<extra></extra>",
         "legendgroup": "Uganda",
         "marker": {
          "color": "#FFA15A",
          "symbol": "circle"
         },
         "mode": "markers",
         "name": "Uganda",
         "orientation": "v",
         "showlegend": true,
         "type": "scatter",
         "x": [
          5.7
         ],
         "xaxis": "x",
         "y": [
          76.42
         ],
         "yaxis": "y"
        },
        {
         "hovertemplate": "Country=Saudi Arabia<br>Mean years of schooling - 2021=%{x}<br>Average IQ=%{y}<extra></extra>",
         "legendgroup": "Saudi Arabia",
         "marker": {
          "color": "#19d3f3",
          "symbol": "circle"
         },
         "mode": "markers",
         "name": "Saudi Arabia",
         "orientation": "v",
         "showlegend": true,
         "type": "scatter",
         "x": [
          11.3
         ],
         "xaxis": "x",
         "y": [
          76.36
         ],
         "yaxis": "y"
        },
        {
         "hovertemplate": "Country=Egypt<br>Mean years of schooling - 2021=%{x}<br>Average IQ=%{y}<extra></extra>",
         "legendgroup": "Egypt",
         "marker": {
          "color": "#FF6692",
          "symbol": "circle"
         },
         "mode": "markers",
         "name": "Egypt",
         "orientation": "v",
         "showlegend": true,
         "type": "scatter",
         "x": [
          9.6
         ],
         "xaxis": "x",
         "y": [
          76.32
         ],
         "yaxis": "y"
        },
        {
         "hovertemplate": "Country=India<br>Mean years of schooling - 2021=%{x}<br>Average IQ=%{y}<extra></extra>",
         "legendgroup": "India",
         "marker": {
          "color": "#B6E880",
          "symbol": "circle"
         },
         "mode": "markers",
         "name": "India",
         "orientation": "v",
         "showlegend": true,
         "type": "scatter",
         "x": [
          6.7
         ],
         "xaxis": "x",
         "y": [
          76.24
         ],
         "yaxis": "y"
        },
        {
         "hovertemplate": "Country=Algeria<br>Mean years of schooling - 2021=%{x}<br>Average IQ=%{y}<extra></extra>",
         "legendgroup": "Algeria",
         "marker": {
          "color": "#FF97FF",
          "symbol": "circle"
         },
         "mode": "markers",
         "name": "Algeria",
         "orientation": "v",
         "showlegend": true,
         "type": "scatter",
         "x": [
          8.1
         ],
         "xaxis": "x",
         "y": [
          76
         ],
         "yaxis": "y"
        },
        {
         "hovertemplate": "Country=Kenya<br>Mean years of schooling - 2021=%{x}<br>Average IQ=%{y}<extra></extra>",
         "legendgroup": "Kenya",
         "marker": {
          "color": "#FECB52",
          "symbol": "circle"
         },
         "mode": "markers",
         "name": "Kenya",
         "orientation": "v",
         "showlegend": true,
         "type": "scatter",
         "x": [
          6.7
         ],
         "xaxis": "x",
         "y": [
          75.2
         ],
         "yaxis": "y"
        },
        {
         "hovertemplate": "Country=Angola<br>Mean years of schooling - 2021=%{x}<br>Average IQ=%{y}<extra></extra>",
         "legendgroup": "Angola",
         "marker": {
          "color": "#636efa",
          "symbol": "circle"
         },
         "mode": "markers",
         "name": "Angola",
         "orientation": "v",
         "showlegend": true,
         "type": "scatter",
         "x": [
          5.4
         ],
         "xaxis": "x",
         "y": [
          75.1
         ],
         "yaxis": "y"
        },
        {
         "hovertemplate": "Country=Jamaica<br>Mean years of schooling - 2021=%{x}<br>Average IQ=%{y}<extra></extra>",
         "legendgroup": "Jamaica",
         "marker": {
          "color": "#EF553B",
          "symbol": "circle"
         },
         "mode": "markers",
         "name": "Jamaica",
         "orientation": "v",
         "showlegend": true,
         "type": "scatter",
         "x": [
          9.2
         ],
         "xaxis": "x",
         "y": [
          75.08
         ],
         "yaxis": "y"
        },
        {
         "hovertemplate": "Country=Tanzania<br>Mean years of schooling - 2021=%{x}<br>Average IQ=%{y}<extra></extra>",
         "legendgroup": "Tanzania",
         "marker": {
          "color": "#00cc96",
          "symbol": "circle"
         },
         "mode": "markers",
         "name": "Tanzania",
         "orientation": "v",
         "showlegend": true,
         "type": "scatter",
         "x": [
          6.4
         ],
         "xaxis": "x",
         "y": [
          74.95
         ],
         "yaxis": "y"
        },
        {
         "hovertemplate": "Country=Syria<br>Mean years of schooling - 2021=%{x}<br>Average IQ=%{y}<extra></extra>",
         "legendgroup": "Syria",
         "marker": {
          "color": "#ab63fa",
          "symbol": "circle"
         },
         "mode": "markers",
         "name": "Syria",
         "orientation": "v",
         "showlegend": true,
         "type": "scatter",
         "x": [
          5.1
         ],
         "xaxis": "x",
         "y": [
          74.41
         ],
         "yaxis": "y"
        },
        {
         "hovertemplate": "Country=Bangladesh<br>Mean years of schooling - 2021=%{x}<br>Average IQ=%{y}<extra></extra>",
         "legendgroup": "Bangladesh",
         "marker": {
          "color": "#FFA15A",
          "symbol": "circle"
         },
         "mode": "markers",
         "name": "Bangladesh",
         "orientation": "v",
         "showlegend": true,
         "type": "scatter",
         "x": [
          7.4
         ],
         "xaxis": "x",
         "y": [
          74.33
         ],
         "yaxis": "y"
        },
        {
         "hovertemplate": "Country=Zimbabwe<br>Mean years of schooling - 2021=%{x}<br>Average IQ=%{y}<extra></extra>",
         "legendgroup": "Zimbabwe",
         "marker": {
          "color": "#19d3f3",
          "symbol": "circle"
         },
         "mode": "markers",
         "name": "Zimbabwe",
         "orientation": "v",
         "showlegend": true,
         "type": "scatter",
         "x": [
          8.7
         ],
         "xaxis": "x",
         "y": [
          74.01
         ],
         "yaxis": "y"
        },
        {
         "hovertemplate": "Country=Burkina Faso<br>Mean years of schooling - 2021=%{x}<br>Average IQ=%{y}<extra></extra>",
         "legendgroup": "Burkina Faso",
         "marker": {
          "color": "#FF6692",
          "symbol": "circle"
         },
         "mode": "markers",
         "name": "Burkina Faso",
         "orientation": "v",
         "showlegend": true,
         "type": "scatter",
         "x": [
          2.1
         ],
         "xaxis": "x",
         "y": [
          73.8
         ],
         "yaxis": "y"
        },
        {
         "hovertemplate": "Country=Saint Lucia<br>Mean years of schooling - 2021=%{x}<br>Average IQ=%{y}<extra></extra>",
         "legendgroup": "Saint Lucia",
         "marker": {
          "color": "#B6E880",
          "symbol": "circle"
         },
         "mode": "markers",
         "name": "Saint Lucia",
         "orientation": "v",
         "showlegend": true,
         "type": "scatter",
         "x": [
          8.5
         ],
         "xaxis": "x",
         "y": [
          73.68
         ],
         "yaxis": "y"
        },
        {
         "hovertemplate": "Country=Mozambique<br>Mean years of schooling - 2021=%{x}<br>Average IQ=%{y}<extra></extra>",
         "legendgroup": "Mozambique",
         "marker": {
          "color": "#FF97FF",
          "symbol": "circle"
         },
         "mode": "markers",
         "name": "Mozambique",
         "orientation": "v",
         "showlegend": true,
         "type": "scatter",
         "x": [
          3.2
         ],
         "xaxis": "x",
         "y": [
          72.5
         ],
         "yaxis": "y"
        },
        {
         "hovertemplate": "Country=Burundi<br>Mean years of schooling - 2021=%{x}<br>Average IQ=%{y}<extra></extra>",
         "legendgroup": "Burundi",
         "marker": {
          "color": "#FECB52",
          "symbol": "circle"
         },
         "mode": "markers",
         "name": "Burundi",
         "orientation": "v",
         "showlegend": true,
         "type": "scatter",
         "x": [
          3.1
         ],
         "xaxis": "x",
         "y": [
          72.09
         ],
         "yaxis": "y"
        },
        {
         "hovertemplate": "Country=Niger<br>Mean years of schooling - 2021=%{x}<br>Average IQ=%{y}<extra></extra>",
         "legendgroup": "Niger",
         "marker": {
          "color": "#636efa",
          "symbol": "circle"
         },
         "mode": "markers",
         "name": "Niger",
         "orientation": "v",
         "showlegend": true,
         "type": "scatter",
         "x": [
          2.1
         ],
         "xaxis": "x",
         "y": [
          70.82
         ],
         "yaxis": "y"
        },
        {
         "hovertemplate": "Country=Antigua and Barbuda<br>Mean years of schooling - 2021=%{x}<br>Average IQ=%{y}<extra></extra>",
         "legendgroup": "Antigua and Barbuda",
         "marker": {
          "color": "#EF553B",
          "symbol": "circle"
         },
         "mode": "markers",
         "name": "Antigua and Barbuda",
         "orientation": "v",
         "showlegend": true,
         "type": "scatter",
         "x": [
          9.3
         ],
         "xaxis": "x",
         "y": [
          70.48
         ],
         "yaxis": "y"
        },
        {
         "hovertemplate": "Country=Rwanda<br>Mean years of schooling - 2021=%{x}<br>Average IQ=%{y}<extra></extra>",
         "legendgroup": "Rwanda",
         "marker": {
          "color": "#00cc96",
          "symbol": "circle"
         },
         "mode": "markers",
         "name": "Rwanda",
         "orientation": "v",
         "showlegend": true,
         "type": "scatter",
         "x": [
          4.4
         ],
         "xaxis": "x",
         "y": [
          69.95
         ],
         "yaxis": "y"
        },
        {
         "hovertemplate": "Country=Benin<br>Mean years of schooling - 2021=%{x}<br>Average IQ=%{y}<extra></extra>",
         "legendgroup": "Benin",
         "marker": {
          "color": "#ab63fa",
          "symbol": "circle"
         },
         "mode": "markers",
         "name": "Benin",
         "orientation": "v",
         "showlegend": true,
         "type": "scatter",
         "x": [
          4.3
         ],
         "xaxis": "x",
         "y": [
          69.71
         ],
         "yaxis": "y"
        },
        {
         "hovertemplate": "Country=Malawi<br>Mean years of schooling - 2021=%{x}<br>Average IQ=%{y}<extra></extra>",
         "legendgroup": "Malawi",
         "marker": {
          "color": "#FFA15A",
          "symbol": "circle"
         },
         "mode": "markers",
         "name": "Malawi",
         "orientation": "v",
         "showlegend": true,
         "type": "scatter",
         "x": [
          4.5
         ],
         "xaxis": "x",
         "y": [
          69.7
         ],
         "yaxis": "y"
        },
        {
         "hovertemplate": "Country=El Salvador<br>Mean years of schooling - 2021=%{x}<br>Average IQ=%{y}<extra></extra>",
         "legendgroup": "El Salvador",
         "marker": {
          "color": "#19d3f3",
          "symbol": "circle"
         },
         "mode": "markers",
         "name": "El Salvador",
         "orientation": "v",
         "showlegend": true,
         "type": "scatter",
         "x": [
          7.2
         ],
         "xaxis": "x",
         "y": [
          69.63
         ],
         "yaxis": "y"
        },
        {
         "hovertemplate": "Country=Botswana<br>Mean years of schooling - 2021=%{x}<br>Average IQ=%{y}<extra></extra>",
         "legendgroup": "Botswana",
         "marker": {
          "color": "#FF6692",
          "symbol": "circle"
         },
         "mode": "markers",
         "name": "Botswana",
         "orientation": "v",
         "showlegend": true,
         "type": "scatter",
         "x": [
          10.3
         ],
         "xaxis": "x",
         "y": [
          69.45
         ],
         "yaxis": "y"
        },
        {
         "hovertemplate": "Country=Lesotho<br>Mean years of schooling - 2021=%{x}<br>Average IQ=%{y}<extra></extra>",
         "legendgroup": "Lesotho",
         "marker": {
          "color": "#B6E880",
          "symbol": "circle"
         },
         "mode": "markers",
         "name": "Lesotho",
         "orientation": "v",
         "showlegend": true,
         "type": "scatter",
         "x": [
          6
         ],
         "xaxis": "x",
         "y": [
          68.87
         ],
         "yaxis": "y"
        },
        {
         "hovertemplate": "Country=South Africa<br>Mean years of schooling - 2021=%{x}<br>Average IQ=%{y}<extra></extra>",
         "legendgroup": "South Africa",
         "marker": {
          "color": "#FF97FF",
          "symbol": "circle"
         },
         "mode": "markers",
         "name": "South Africa",
         "orientation": "v",
         "showlegend": true,
         "type": "scatter",
         "x": [
          11.4
         ],
         "xaxis": "x",
         "y": [
          68.87
         ],
         "yaxis": "y"
        },
        {
         "hovertemplate": "Country=Eswatini<br>Mean years of schooling - 2021=%{x}<br>Average IQ=%{y}<extra></extra>",
         "legendgroup": "Eswatini",
         "marker": {
          "color": "#FECB52",
          "symbol": "circle"
         },
         "mode": "markers",
         "name": "Eswatini",
         "orientation": "v",
         "showlegend": true,
         "type": "scatter",
         "x": [
          5.6
         ],
         "xaxis": "x",
         "y": [
          68.87
         ],
         "yaxis": "y"
        },
        {
         "hovertemplate": "Country=Eritrea<br>Mean years of schooling - 2021=%{x}<br>Average IQ=%{y}<extra></extra>",
         "legendgroup": "Eritrea",
         "marker": {
          "color": "#636efa",
          "symbol": "circle"
         },
         "mode": "markers",
         "name": "Eritrea",
         "orientation": "v",
         "showlegend": true,
         "type": "scatter",
         "x": [
          4.9
         ],
         "xaxis": "x",
         "y": [
          68.77
         ],
         "yaxis": "y"
        },
        {
         "hovertemplate": "Country=Saint Helena<br>Mean years of schooling - 2021=%{x}<br>Average IQ=%{y}<extra></extra>",
         "legendgroup": "Saint Helena",
         "marker": {
          "color": "#EF553B",
          "symbol": "circle"
         },
         "mode": "markers",
         "name": "Saint Helena",
         "orientation": "v",
         "showlegend": true,
         "type": "scatter",
         "x": [
          null
         ],
         "xaxis": "x",
         "y": [
          68.74
         ],
         "yaxis": "y"
        },
        {
         "hovertemplate": "Country=Zambia<br>Mean years of schooling - 2021=%{x}<br>Average IQ=%{y}<extra></extra>",
         "legendgroup": "Zambia",
         "marker": {
          "color": "#00cc96",
          "symbol": "circle"
         },
         "mode": "markers",
         "name": "Zambia",
         "orientation": "v",
         "showlegend": true,
         "type": "scatter",
         "x": [
          7.2
         ],
         "xaxis": "x",
         "y": [
          68.43
         ],
         "yaxis": "y"
        },
        {
         "hovertemplate": "Country=Ethiopia<br>Mean years of schooling - 2021=%{x}<br>Average IQ=%{y}<extra></extra>",
         "legendgroup": "Ethiopia",
         "marker": {
          "color": "#ab63fa",
          "symbol": "circle"
         },
         "mode": "markers",
         "name": "Ethiopia",
         "orientation": "v",
         "showlegend": true,
         "type": "scatter",
         "x": [
          3.2
         ],
         "xaxis": "x",
         "y": [
          68.42
         ],
         "yaxis": "y"
        },
        {
         "hovertemplate": "Country=Djibouti<br>Mean years of schooling - 2021=%{x}<br>Average IQ=%{y}<extra></extra>",
         "legendgroup": "Djibouti",
         "marker": {
          "color": "#FFA15A",
          "symbol": "circle"
         },
         "mode": "markers",
         "name": "Djibouti",
         "orientation": "v",
         "showlegend": true,
         "type": "scatter",
         "x": [
          4.1
         ],
         "xaxis": "x",
         "y": [
          68.41
         ],
         "yaxis": "y"
        },
        {
         "hovertemplate": "Country=Cameroon<br>Mean years of schooling - 2021=%{x}<br>Average IQ=%{y}<extra></extra>",
         "legendgroup": "Cameroon",
         "marker": {
          "color": "#19d3f3",
          "symbol": "circle"
         },
         "mode": "markers",
         "name": "Cameroon",
         "orientation": "v",
         "showlegend": true,
         "type": "scatter",
         "x": [
          6.2
         ],
         "xaxis": "x",
         "y": [
          67.76
         ],
         "yaxis": "y"
        },
        {
         "hovertemplate": "Country=Nigeria<br>Mean years of schooling - 2021=%{x}<br>Average IQ=%{y}<extra></extra>",
         "legendgroup": "Nigeria",
         "marker": {
          "color": "#FF6692",
          "symbol": "circle"
         },
         "mode": "markers",
         "name": "Nigeria",
         "orientation": "v",
         "showlegend": true,
         "type": "scatter",
         "x": [
          7.2
         ],
         "xaxis": "x",
         "y": [
          67.76
         ],
         "yaxis": "y"
        },
        {
         "hovertemplate": "Country=Somalia<br>Mean years of schooling - 2021=%{x}<br>Average IQ=%{y}<extra></extra>",
         "legendgroup": "Somalia",
         "marker": {
          "color": "#B6E880",
          "symbol": "circle"
         },
         "mode": "markers",
         "name": "Somalia",
         "orientation": "v",
         "showlegend": true,
         "type": "scatter",
         "x": [
          null
         ],
         "xaxis": "x",
         "y": [
          67.67
         ],
         "yaxis": "y"
        },
        {
         "hovertemplate": "Country=Morocco<br>Mean years of schooling - 2021=%{x}<br>Average IQ=%{y}<extra></extra>",
         "legendgroup": "Morocco",
         "marker": {
          "color": "#FF97FF",
          "symbol": "circle"
         },
         "mode": "markers",
         "name": "Morocco",
         "orientation": "v",
         "showlegend": true,
         "type": "scatter",
         "x": [
          5.9
         ],
         "xaxis": "x",
         "y": [
          67.03
         ],
         "yaxis": "y"
        },
        {
         "hovertemplate": "Country=Namibia<br>Mean years of schooling - 2021=%{x}<br>Average IQ=%{y}<extra></extra>",
         "legendgroup": "Namibia",
         "marker": {
          "color": "#FECB52",
          "symbol": "circle"
         },
         "mode": "markers",
         "name": "Namibia",
         "orientation": "v",
         "showlegend": true,
         "type": "scatter",
         "x": [
          7.2
         ],
         "xaxis": "x",
         "y": [
          66.19
         ],
         "yaxis": "y"
        },
        {
         "hovertemplate": "Country=Dominica<br>Mean years of schooling - 2021=%{x}<br>Average IQ=%{y}<extra></extra>",
         "legendgroup": "Dominica",
         "marker": {
          "color": "#636efa",
          "symbol": "circle"
         },
         "mode": "markers",
         "name": "Dominica",
         "orientation": "v",
         "showlegend": true,
         "type": "scatter",
         "x": [
          8.1
         ],
         "xaxis": "x",
         "y": [
          66.03
         ],
         "yaxis": "y"
        },
        {
         "hovertemplate": "Country=Sao Tome and Principe<br>Mean years of schooling - 2021=%{x}<br>Average IQ=%{y}<extra></extra>",
         "legendgroup": "Sao Tome and Principe",
         "marker": {
          "color": "#EF553B",
          "symbol": "circle"
         },
         "mode": "markers",
         "name": "Sao Tome and Principe",
         "orientation": "v",
         "showlegend": true,
         "type": "scatter",
         "x": [
          6.2
         ],
         "xaxis": "x",
         "y": [
          65.22
         ],
         "yaxis": "y"
        },
        {
         "hovertemplate": "Country=Congo<br>Mean years of schooling - 2021=%{x}<br>Average IQ=%{y}<extra></extra>",
         "legendgroup": "Congo",
         "marker": {
          "color": "#00cc96",
          "symbol": "circle"
         },
         "mode": "markers",
         "name": "Congo",
         "orientation": "v",
         "showlegend": true,
         "type": "scatter",
         "x": [
          6.2
         ],
         "xaxis": "x",
         "y": [
          64.92
         ],
         "yaxis": "y"
        },
        {
         "hovertemplate": "Country=Saint Vincent and the Grenadines<br>Mean years of schooling - 2021=%{x}<br>Average IQ=%{y}<extra></extra>",
         "legendgroup": "Saint Vincent and the Grenadines",
         "marker": {
          "color": "#ab63fa",
          "symbol": "circle"
         },
         "mode": "markers",
         "name": "Saint Vincent and the Grenadines",
         "orientation": "v",
         "showlegend": true,
         "type": "scatter",
         "x": [
          10.8
         ],
         "xaxis": "x",
         "y": [
          63.42
         ],
         "yaxis": "y"
        },
        {
         "hovertemplate": "Country=Gabon<br>Mean years of schooling - 2021=%{x}<br>Average IQ=%{y}<extra></extra>",
         "legendgroup": "Gabon",
         "marker": {
          "color": "#FFA15A",
          "symbol": "circle"
         },
         "mode": "markers",
         "name": "Gabon",
         "orientation": "v",
         "showlegend": true,
         "type": "scatter",
         "x": [
          9.4
         ],
         "xaxis": "x",
         "y": [
          62.97
         ],
         "yaxis": "y"
        },
        {
         "hovertemplate": "Country=Congo Republic<br>Mean years of schooling - 2021=%{x}<br>Average IQ=%{y}<extra></extra>",
         "legendgroup": "Congo Republic",
         "marker": {
          "color": "#19d3f3",
          "symbol": "circle"
         },
         "mode": "markers",
         "name": "Congo Republic",
         "orientation": "v",
         "showlegend": true,
         "type": "scatter",
         "x": [
          7
         ],
         "xaxis": "x",
         "y": [
          62.97
         ],
         "yaxis": "y"
        },
        {
         "hovertemplate": "Country=Yemen<br>Mean years of schooling - 2021=%{x}<br>Average IQ=%{y}<extra></extra>",
         "legendgroup": "Yemen",
         "marker": {
          "color": "#FF6692",
          "symbol": "circle"
         },
         "mode": "markers",
         "name": "Yemen",
         "orientation": "v",
         "showlegend": true,
         "type": "scatter",
         "x": [
          3.2
         ],
         "xaxis": "x",
         "y": [
          62.86
         ],
         "yaxis": "y"
        },
        {
         "hovertemplate": "Country=Belize<br>Mean years of schooling - 2021=%{x}<br>Average IQ=%{y}<extra></extra>",
         "legendgroup": "Belize",
         "marker": {
          "color": "#B6E880",
          "symbol": "circle"
         },
         "mode": "markers",
         "name": "Belize",
         "orientation": "v",
         "showlegend": true,
         "type": "scatter",
         "x": [
          8.8
         ],
         "xaxis": "x",
         "y": [
          62.55
         ],
         "yaxis": "y"
        },
        {
         "hovertemplate": "Country=Central African Republic<br>Mean years of schooling - 2021=%{x}<br>Average IQ=%{y}<extra></extra>",
         "legendgroup": "Central African Republic",
         "marker": {
          "color": "#FF97FF",
          "symbol": "circle"
         },
         "mode": "markers",
         "name": "Central African Republic",
         "orientation": "v",
         "showlegend": true,
         "type": "scatter",
         "x": [
          4.3
         ],
         "xaxis": "x",
         "y": [
          62.55
         ],
         "yaxis": "y"
        },
        {
         "hovertemplate": "Country=Honduras<br>Mean years of schooling - 2021=%{x}<br>Average IQ=%{y}<extra></extra>",
         "legendgroup": "Honduras",
         "marker": {
          "color": "#FECB52",
          "symbol": "circle"
         },
         "mode": "markers",
         "name": "Honduras",
         "orientation": "v",
         "showlegend": true,
         "type": "scatter",
         "x": [
          7.1
         ],
         "xaxis": "x",
         "y": [
          62.16
         ],
         "yaxis": "y"
        },
        {
         "hovertemplate": "Country=Togo<br>Mean years of schooling - 2021=%{x}<br>Average IQ=%{y}<extra></extra>",
         "legendgroup": "Togo",
         "marker": {
          "color": "#636efa",
          "symbol": "circle"
         },
         "mode": "markers",
         "name": "Togo",
         "orientation": "v",
         "showlegend": true,
         "type": "scatter",
         "x": [
          5
         ],
         "xaxis": "x",
         "y": [
          59.83
         ],
         "yaxis": "y"
        },
        {
         "hovertemplate": "Country=Mali<br>Mean years of schooling - 2021=%{x}<br>Average IQ=%{y}<extra></extra>",
         "legendgroup": "Mali",
         "marker": {
          "color": "#EF553B",
          "symbol": "circle"
         },
         "mode": "markers",
         "name": "Mali",
         "orientation": "v",
         "showlegend": true,
         "type": "scatter",
         "x": [
          2.3
         ],
         "xaxis": "x",
         "y": [
          59.76
         ],
         "yaxis": "y"
        },
        {
         "hovertemplate": "Country=Mauritania<br>Mean years of schooling - 2021=%{x}<br>Average IQ=%{y}<extra></extra>",
         "legendgroup": "Mauritania",
         "marker": {
          "color": "#00cc96",
          "symbol": "circle"
         },
         "mode": "markers",
         "name": "Mauritania",
         "orientation": "v",
         "showlegend": true,
         "type": "scatter",
         "x": [
          4.9
         ],
         "xaxis": "x",
         "y": [
          59.76
         ],
         "yaxis": "y"
        },
        {
         "hovertemplate": "Country=South Sudan<br>Mean years of schooling - 2021=%{x}<br>Average IQ=%{y}<extra></extra>",
         "legendgroup": "South Sudan",
         "marker": {
          "color": "#ab63fa",
          "symbol": "circle"
         },
         "mode": "markers",
         "name": "South Sudan",
         "orientation": "v",
         "showlegend": true,
         "type": "scatter",
         "x": [
          5.7
         ],
         "xaxis": "x",
         "y": [
          58.61
         ],
         "yaxis": "y"
        },
        {
         "hovertemplate": "Country=Ghana<br>Mean years of schooling - 2021=%{x}<br>Average IQ=%{y}<extra></extra>",
         "legendgroup": "Ghana",
         "marker": {
          "color": "#FFA15A",
          "symbol": "circle"
         },
         "mode": "markers",
         "name": "Ghana",
         "orientation": "v",
         "showlegend": true,
         "type": "scatter",
         "x": [
          8.3
         ],
         "xaxis": "x",
         "y": [
          58.16
         ],
         "yaxis": "y"
        },
        {
         "hovertemplate": "Country=Costa do Marfim<br>Mean years of schooling - 2021=%{x}<br>Average IQ=%{y}<extra></extra>",
         "legendgroup": "Costa do Marfim",
         "marker": {
          "color": "#19d3f3",
          "symbol": "circle"
         },
         "mode": "markers",
         "name": "Costa do Marfim",
         "orientation": "v",
         "showlegend": true,
         "type": "scatter",
         "x": [
          null
         ],
         "xaxis": "x",
         "y": [
          58.16
         ],
         "yaxis": "y"
        },
        {
         "hovertemplate": "Country=Guinea<br>Mean years of schooling - 2021=%{x}<br>Average IQ=%{y}<extra></extra>",
         "legendgroup": "Guinea",
         "marker": {
          "color": "#FF6692",
          "symbol": "circle"
         },
         "mode": "markers",
         "name": "Guinea",
         "orientation": "v",
         "showlegend": true,
         "type": "scatter",
         "x": [
          2.2
         ],
         "xaxis": "x",
         "y": [
          53.48
         ],
         "yaxis": "y"
        },
        {
         "hovertemplate": "Country=Nicaragua<br>Mean years of schooling - 2021=%{x}<br>Average IQ=%{y}<extra></extra>",
         "legendgroup": "Nicaragua",
         "marker": {
          "color": "#B6E880",
          "symbol": "circle"
         },
         "mode": "markers",
         "name": "Nicaragua",
         "orientation": "v",
         "showlegend": true,
         "type": "scatter",
         "x": [
          7.1
         ],
         "xaxis": "x",
         "y": [
          52.69
         ],
         "yaxis": "y"
        },
        {
         "hovertemplate": "Country=Gambia<br>Mean years of schooling - 2021=%{x}<br>Average IQ=%{y}<extra></extra>",
         "legendgroup": "Gambia",
         "marker": {
          "color": "#FF97FF",
          "symbol": "circle"
         },
         "mode": "markers",
         "name": "Gambia",
         "orientation": "v",
         "showlegend": true,
         "type": "scatter",
         "x": [
          4.6
         ],
         "xaxis": "x",
         "y": [
          52.68
         ],
         "yaxis": "y"
        },
        {
         "hovertemplate": "Country=Guatemala<br>Mean years of schooling - 2021=%{x}<br>Average IQ=%{y}<extra></extra>",
         "legendgroup": "Guatemala",
         "marker": {
          "color": "#FECB52",
          "symbol": "circle"
         },
         "mode": "markers",
         "name": "Guatemala",
         "orientation": "v",
         "showlegend": true,
         "type": "scatter",
         "x": [
          5.7
         ],
         "xaxis": "x",
         "y": [
          47.72
         ],
         "yaxis": "y"
        },
        {
         "hovertemplate": "Country=Liberia<br>Mean years of schooling - 2021=%{x}<br>Average IQ=%{y}<extra></extra>",
         "legendgroup": "Liberia",
         "marker": {
          "color": "#636efa",
          "symbol": "circle"
         },
         "mode": "markers",
         "name": "Liberia",
         "orientation": "v",
         "showlegend": true,
         "type": "scatter",
         "x": [
          5.1
         ],
         "xaxis": "x",
         "y": [
          45.07
         ],
         "yaxis": "y"
        },
        {
         "hovertemplate": "Country=Sierra Leone<br>Mean years of schooling - 2021=%{x}<br>Average IQ=%{y}<extra></extra>",
         "legendgroup": "Sierra Leone",
         "marker": {
          "color": "#EF553B",
          "symbol": "circle"
         },
         "mode": "markers",
         "name": "Sierra Leone",
         "orientation": "v",
         "showlegend": true,
         "type": "scatter",
         "x": [
          4.6
         ],
         "xaxis": "x",
         "y": [
          45.07
         ],
         "yaxis": "y"
        },
        {
         "hovertemplate": "Country=Nepal<br>Mean years of schooling - 2021=%{x}<br>Average IQ=%{y}<extra></extra>",
         "legendgroup": "Nepal",
         "marker": {
          "color": "#00cc96",
          "symbol": "circle"
         },
         "mode": "markers",
         "name": "Nepal",
         "orientation": "v",
         "showlegend": true,
         "type": "scatter",
         "x": [
          5.1
         ],
         "xaxis": "x",
         "y": [
          42.99
         ],
         "yaxis": "y"
        }
       ],
       "layout": {
        "legend": {
         "title": {
          "text": "Country"
         },
         "tracegroupgap": 0
        },
        "margin": {
         "t": 60
        },
        "template": {
         "data": {
          "bar": [
           {
            "error_x": {
             "color": "#2a3f5f"
            },
            "error_y": {
             "color": "#2a3f5f"
            },
            "marker": {
             "line": {
              "color": "#E5ECF6",
              "width": 0.5
             },
             "pattern": {
              "fillmode": "overlay",
              "size": 10,
              "solidity": 0.2
             }
            },
            "type": "bar"
           }
          ],
          "barpolar": [
           {
            "marker": {
             "line": {
              "color": "#E5ECF6",
              "width": 0.5
             },
             "pattern": {
              "fillmode": "overlay",
              "size": 10,
              "solidity": 0.2
             }
            },
            "type": "barpolar"
           }
          ],
          "carpet": [
           {
            "aaxis": {
             "endlinecolor": "#2a3f5f",
             "gridcolor": "white",
             "linecolor": "white",
             "minorgridcolor": "white",
             "startlinecolor": "#2a3f5f"
            },
            "baxis": {
             "endlinecolor": "#2a3f5f",
             "gridcolor": "white",
             "linecolor": "white",
             "minorgridcolor": "white",
             "startlinecolor": "#2a3f5f"
            },
            "type": "carpet"
           }
          ],
          "choropleth": [
           {
            "colorbar": {
             "outlinewidth": 0,
             "ticks": ""
            },
            "type": "choropleth"
           }
          ],
          "contour": [
           {
            "colorbar": {
             "outlinewidth": 0,
             "ticks": ""
            },
            "colorscale": [
             [
              0,
              "#0d0887"
             ],
             [
              0.1111111111111111,
              "#46039f"
             ],
             [
              0.2222222222222222,
              "#7201a8"
             ],
             [
              0.3333333333333333,
              "#9c179e"
             ],
             [
              0.4444444444444444,
              "#bd3786"
             ],
             [
              0.5555555555555556,
              "#d8576b"
             ],
             [
              0.6666666666666666,
              "#ed7953"
             ],
             [
              0.7777777777777778,
              "#fb9f3a"
             ],
             [
              0.8888888888888888,
              "#fdca26"
             ],
             [
              1,
              "#f0f921"
             ]
            ],
            "type": "contour"
           }
          ],
          "contourcarpet": [
           {
            "colorbar": {
             "outlinewidth": 0,
             "ticks": ""
            },
            "type": "contourcarpet"
           }
          ],
          "heatmap": [
           {
            "colorbar": {
             "outlinewidth": 0,
             "ticks": ""
            },
            "colorscale": [
             [
              0,
              "#0d0887"
             ],
             [
              0.1111111111111111,
              "#46039f"
             ],
             [
              0.2222222222222222,
              "#7201a8"
             ],
             [
              0.3333333333333333,
              "#9c179e"
             ],
             [
              0.4444444444444444,
              "#bd3786"
             ],
             [
              0.5555555555555556,
              "#d8576b"
             ],
             [
              0.6666666666666666,
              "#ed7953"
             ],
             [
              0.7777777777777778,
              "#fb9f3a"
             ],
             [
              0.8888888888888888,
              "#fdca26"
             ],
             [
              1,
              "#f0f921"
             ]
            ],
            "type": "heatmap"
           }
          ],
          "heatmapgl": [
           {
            "colorbar": {
             "outlinewidth": 0,
             "ticks": ""
            },
            "colorscale": [
             [
              0,
              "#0d0887"
             ],
             [
              0.1111111111111111,
              "#46039f"
             ],
             [
              0.2222222222222222,
              "#7201a8"
             ],
             [
              0.3333333333333333,
              "#9c179e"
             ],
             [
              0.4444444444444444,
              "#bd3786"
             ],
             [
              0.5555555555555556,
              "#d8576b"
             ],
             [
              0.6666666666666666,
              "#ed7953"
             ],
             [
              0.7777777777777778,
              "#fb9f3a"
             ],
             [
              0.8888888888888888,
              "#fdca26"
             ],
             [
              1,
              "#f0f921"
             ]
            ],
            "type": "heatmapgl"
           }
          ],
          "histogram": [
           {
            "marker": {
             "pattern": {
              "fillmode": "overlay",
              "size": 10,
              "solidity": 0.2
             }
            },
            "type": "histogram"
           }
          ],
          "histogram2d": [
           {
            "colorbar": {
             "outlinewidth": 0,
             "ticks": ""
            },
            "colorscale": [
             [
              0,
              "#0d0887"
             ],
             [
              0.1111111111111111,
              "#46039f"
             ],
             [
              0.2222222222222222,
              "#7201a8"
             ],
             [
              0.3333333333333333,
              "#9c179e"
             ],
             [
              0.4444444444444444,
              "#bd3786"
             ],
             [
              0.5555555555555556,
              "#d8576b"
             ],
             [
              0.6666666666666666,
              "#ed7953"
             ],
             [
              0.7777777777777778,
              "#fb9f3a"
             ],
             [
              0.8888888888888888,
              "#fdca26"
             ],
             [
              1,
              "#f0f921"
             ]
            ],
            "type": "histogram2d"
           }
          ],
          "histogram2dcontour": [
           {
            "colorbar": {
             "outlinewidth": 0,
             "ticks": ""
            },
            "colorscale": [
             [
              0,
              "#0d0887"
             ],
             [
              0.1111111111111111,
              "#46039f"
             ],
             [
              0.2222222222222222,
              "#7201a8"
             ],
             [
              0.3333333333333333,
              "#9c179e"
             ],
             [
              0.4444444444444444,
              "#bd3786"
             ],
             [
              0.5555555555555556,
              "#d8576b"
             ],
             [
              0.6666666666666666,
              "#ed7953"
             ],
             [
              0.7777777777777778,
              "#fb9f3a"
             ],
             [
              0.8888888888888888,
              "#fdca26"
             ],
             [
              1,
              "#f0f921"
             ]
            ],
            "type": "histogram2dcontour"
           }
          ],
          "mesh3d": [
           {
            "colorbar": {
             "outlinewidth": 0,
             "ticks": ""
            },
            "type": "mesh3d"
           }
          ],
          "parcoords": [
           {
            "line": {
             "colorbar": {
              "outlinewidth": 0,
              "ticks": ""
             }
            },
            "type": "parcoords"
           }
          ],
          "pie": [
           {
            "automargin": true,
            "type": "pie"
           }
          ],
          "scatter": [
           {
            "fillpattern": {
             "fillmode": "overlay",
             "size": 10,
             "solidity": 0.2
            },
            "type": "scatter"
           }
          ],
          "scatter3d": [
           {
            "line": {
             "colorbar": {
              "outlinewidth": 0,
              "ticks": ""
             }
            },
            "marker": {
             "colorbar": {
              "outlinewidth": 0,
              "ticks": ""
             }
            },
            "type": "scatter3d"
           }
          ],
          "scattercarpet": [
           {
            "marker": {
             "colorbar": {
              "outlinewidth": 0,
              "ticks": ""
             }
            },
            "type": "scattercarpet"
           }
          ],
          "scattergeo": [
           {
            "marker": {
             "colorbar": {
              "outlinewidth": 0,
              "ticks": ""
             }
            },
            "type": "scattergeo"
           }
          ],
          "scattergl": [
           {
            "marker": {
             "colorbar": {
              "outlinewidth": 0,
              "ticks": ""
             }
            },
            "type": "scattergl"
           }
          ],
          "scattermapbox": [
           {
            "marker": {
             "colorbar": {
              "outlinewidth": 0,
              "ticks": ""
             }
            },
            "type": "scattermapbox"
           }
          ],
          "scatterpolar": [
           {
            "marker": {
             "colorbar": {
              "outlinewidth": 0,
              "ticks": ""
             }
            },
            "type": "scatterpolar"
           }
          ],
          "scatterpolargl": [
           {
            "marker": {
             "colorbar": {
              "outlinewidth": 0,
              "ticks": ""
             }
            },
            "type": "scatterpolargl"
           }
          ],
          "scatterternary": [
           {
            "marker": {
             "colorbar": {
              "outlinewidth": 0,
              "ticks": ""
             }
            },
            "type": "scatterternary"
           }
          ],
          "surface": [
           {
            "colorbar": {
             "outlinewidth": 0,
             "ticks": ""
            },
            "colorscale": [
             [
              0,
              "#0d0887"
             ],
             [
              0.1111111111111111,
              "#46039f"
             ],
             [
              0.2222222222222222,
              "#7201a8"
             ],
             [
              0.3333333333333333,
              "#9c179e"
             ],
             [
              0.4444444444444444,
              "#bd3786"
             ],
             [
              0.5555555555555556,
              "#d8576b"
             ],
             [
              0.6666666666666666,
              "#ed7953"
             ],
             [
              0.7777777777777778,
              "#fb9f3a"
             ],
             [
              0.8888888888888888,
              "#fdca26"
             ],
             [
              1,
              "#f0f921"
             ]
            ],
            "type": "surface"
           }
          ],
          "table": [
           {
            "cells": {
             "fill": {
              "color": "#EBF0F8"
             },
             "line": {
              "color": "white"
             }
            },
            "header": {
             "fill": {
              "color": "#C8D4E3"
             },
             "line": {
              "color": "white"
             }
            },
            "type": "table"
           }
          ]
         },
         "layout": {
          "annotationdefaults": {
           "arrowcolor": "#2a3f5f",
           "arrowhead": 0,
           "arrowwidth": 1
          },
          "autotypenumbers": "strict",
          "coloraxis": {
           "colorbar": {
            "outlinewidth": 0,
            "ticks": ""
           }
          },
          "colorscale": {
           "diverging": [
            [
             0,
             "#8e0152"
            ],
            [
             0.1,
             "#c51b7d"
            ],
            [
             0.2,
             "#de77ae"
            ],
            [
             0.3,
             "#f1b6da"
            ],
            [
             0.4,
             "#fde0ef"
            ],
            [
             0.5,
             "#f7f7f7"
            ],
            [
             0.6,
             "#e6f5d0"
            ],
            [
             0.7,
             "#b8e186"
            ],
            [
             0.8,
             "#7fbc41"
            ],
            [
             0.9,
             "#4d9221"
            ],
            [
             1,
             "#276419"
            ]
           ],
           "sequential": [
            [
             0,
             "#0d0887"
            ],
            [
             0.1111111111111111,
             "#46039f"
            ],
            [
             0.2222222222222222,
             "#7201a8"
            ],
            [
             0.3333333333333333,
             "#9c179e"
            ],
            [
             0.4444444444444444,
             "#bd3786"
            ],
            [
             0.5555555555555556,
             "#d8576b"
            ],
            [
             0.6666666666666666,
             "#ed7953"
            ],
            [
             0.7777777777777778,
             "#fb9f3a"
            ],
            [
             0.8888888888888888,
             "#fdca26"
            ],
            [
             1,
             "#f0f921"
            ]
           ],
           "sequentialminus": [
            [
             0,
             "#0d0887"
            ],
            [
             0.1111111111111111,
             "#46039f"
            ],
            [
             0.2222222222222222,
             "#7201a8"
            ],
            [
             0.3333333333333333,
             "#9c179e"
            ],
            [
             0.4444444444444444,
             "#bd3786"
            ],
            [
             0.5555555555555556,
             "#d8576b"
            ],
            [
             0.6666666666666666,
             "#ed7953"
            ],
            [
             0.7777777777777778,
             "#fb9f3a"
            ],
            [
             0.8888888888888888,
             "#fdca26"
            ],
            [
             1,
             "#f0f921"
            ]
           ]
          },
          "colorway": [
           "#636efa",
           "#EF553B",
           "#00cc96",
           "#ab63fa",
           "#FFA15A",
           "#19d3f3",
           "#FF6692",
           "#B6E880",
           "#FF97FF",
           "#FECB52"
          ],
          "font": {
           "color": "#2a3f5f"
          },
          "geo": {
           "bgcolor": "white",
           "lakecolor": "white",
           "landcolor": "#E5ECF6",
           "showlakes": true,
           "showland": true,
           "subunitcolor": "white"
          },
          "hoverlabel": {
           "align": "left"
          },
          "hovermode": "closest",
          "mapbox": {
           "style": "light"
          },
          "paper_bgcolor": "white",
          "plot_bgcolor": "#E5ECF6",
          "polar": {
           "angularaxis": {
            "gridcolor": "white",
            "linecolor": "white",
            "ticks": ""
           },
           "bgcolor": "#E5ECF6",
           "radialaxis": {
            "gridcolor": "white",
            "linecolor": "white",
            "ticks": ""
           }
          },
          "scene": {
           "xaxis": {
            "backgroundcolor": "#E5ECF6",
            "gridcolor": "white",
            "gridwidth": 2,
            "linecolor": "white",
            "showbackground": true,
            "ticks": "",
            "zerolinecolor": "white"
           },
           "yaxis": {
            "backgroundcolor": "#E5ECF6",
            "gridcolor": "white",
            "gridwidth": 2,
            "linecolor": "white",
            "showbackground": true,
            "ticks": "",
            "zerolinecolor": "white"
           },
           "zaxis": {
            "backgroundcolor": "#E5ECF6",
            "gridcolor": "white",
            "gridwidth": 2,
            "linecolor": "white",
            "showbackground": true,
            "ticks": "",
            "zerolinecolor": "white"
           }
          },
          "shapedefaults": {
           "line": {
            "color": "#2a3f5f"
           }
          },
          "ternary": {
           "aaxis": {
            "gridcolor": "white",
            "linecolor": "white",
            "ticks": ""
           },
           "baxis": {
            "gridcolor": "white",
            "linecolor": "white",
            "ticks": ""
           },
           "bgcolor": "#E5ECF6",
           "caxis": {
            "gridcolor": "white",
            "linecolor": "white",
            "ticks": ""
           }
          },
          "title": {
           "x": 0.05
          },
          "xaxis": {
           "automargin": true,
           "gridcolor": "white",
           "linecolor": "white",
           "ticks": "",
           "title": {
            "standoff": 15
           },
           "zerolinecolor": "white",
           "zerolinewidth": 2
          },
          "yaxis": {
           "automargin": true,
           "gridcolor": "white",
           "linecolor": "white",
           "ticks": "",
           "title": {
            "standoff": 15
           },
           "zerolinecolor": "white",
           "zerolinewidth": 2
          }
         }
        },
        "xaxis": {
         "anchor": "y",
         "domain": [
          0,
          1
         ],
         "title": {
          "text": "Mean years of schooling - 2021"
         }
        },
        "yaxis": {
         "anchor": "x",
         "domain": [
          0,
          1
         ],
         "title": {
          "text": "Average IQ"
         }
        }
       }
      }
     },
     "metadata": {},
     "output_type": "display_data"
    }
   ],
   "source": [
    "\n",
    "px.scatter(data_frame=df, x='Mean years of schooling - 2021', y='Average IQ',color='Country')\n"
   ]
  },
  {
   "cell_type": "code",
   "execution_count": 20,
   "metadata": {},
   "outputs": [
    {
     "data": {
      "application/vnd.plotly.v1+json": {
       "config": {
        "plotlyServerURL": "https://plot.ly"
       },
       "data": [
        {
         "hovertemplate": "Country=Japan<br>Literacy Rate=%{x}<br>Average IQ=%{y}<extra></extra>",
         "legendgroup": "Japan",
         "marker": {
          "color": "#636efa",
          "symbol": "circle"
         },
         "mode": "markers",
         "name": "Japan",
         "orientation": "v",
         "showlegend": true,
         "type": "scatter",
         "x": [
          0.99
         ],
         "xaxis": "x",
         "y": [
          106.48
         ],
         "yaxis": "y"
        },
        {
         "hovertemplate": "Country=Taiwan<br>Literacy Rate=%{x}<br>Average IQ=%{y}<extra></extra>",
         "legendgroup": "Taiwan",
         "marker": {
          "color": "#EF553B",
          "symbol": "circle"
         },
         "mode": "markers",
         "name": "Taiwan",
         "orientation": "v",
         "showlegend": true,
         "type": "scatter",
         "x": [
          0.96
         ],
         "xaxis": "x",
         "y": [
          106.47
         ],
         "yaxis": "y"
        },
        {
         "hovertemplate": "Country=Singapore<br>Literacy Rate=%{x}<br>Average IQ=%{y}<extra></extra>",
         "legendgroup": "Singapore",
         "marker": {
          "color": "#00cc96",
          "symbol": "circle"
         },
         "mode": "markers",
         "name": "Singapore",
         "orientation": "v",
         "showlegend": true,
         "type": "scatter",
         "x": [
          0.97
         ],
         "xaxis": "x",
         "y": [
          105.89
         ],
         "yaxis": "y"
        },
        {
         "hovertemplate": "Country=Hong Kong<br>Literacy Rate=%{x}<br>Average IQ=%{y}<extra></extra>",
         "legendgroup": "Hong Kong",
         "marker": {
          "color": "#ab63fa",
          "symbol": "circle"
         },
         "mode": "markers",
         "name": "Hong Kong",
         "orientation": "v",
         "showlegend": true,
         "type": "scatter",
         "x": [
          0.94
         ],
         "xaxis": "x",
         "y": [
          105.37
         ],
         "yaxis": "y"
        },
        {
         "hovertemplate": "Country=China<br>Literacy Rate=%{x}<br>Average IQ=%{y}<extra></extra>",
         "legendgroup": "China",
         "marker": {
          "color": "#FFA15A",
          "symbol": "circle"
         },
         "mode": "markers",
         "name": "China",
         "orientation": "v",
         "showlegend": true,
         "type": "scatter",
         "x": [
          0.96
         ],
         "xaxis": "x",
         "y": [
          104.1
         ],
         "yaxis": "y"
        },
        {
         "hovertemplate": "Country=South Korea<br>Literacy Rate=%{x}<br>Average IQ=%{y}<extra></extra>",
         "legendgroup": "South Korea",
         "marker": {
          "color": "#19d3f3",
          "symbol": "circle"
         },
         "mode": "markers",
         "name": "South Korea",
         "orientation": "v",
         "showlegend": true,
         "type": "scatter",
         "x": [
          0.98
         ],
         "xaxis": "x",
         "y": [
          102.35
         ],
         "yaxis": "y"
        },
        {
         "hovertemplate": "Country=Belarus<br>Literacy Rate=%{x}<br>Average IQ=%{y}<extra></extra>",
         "legendgroup": "Belarus",
         "marker": {
          "color": "#FF6692",
          "symbol": "circle"
         },
         "mode": "markers",
         "name": "Belarus",
         "orientation": "v",
         "showlegend": true,
         "type": "scatter",
         "x": [
          1
         ],
         "xaxis": "x",
         "y": [
          101.6
         ],
         "yaxis": "y"
        },
        {
         "hovertemplate": "Country=Finland<br>Literacy Rate=%{x}<br>Average IQ=%{y}<extra></extra>",
         "legendgroup": "Finland",
         "marker": {
          "color": "#B6E880",
          "symbol": "circle"
         },
         "mode": "markers",
         "name": "Finland",
         "orientation": "v",
         "showlegend": true,
         "type": "scatter",
         "x": [
          1
         ],
         "xaxis": "x",
         "y": [
          101.2
         ],
         "yaxis": "y"
        },
        {
         "hovertemplate": "Country=Liechtenstein<br>Literacy Rate=%{x}<br>Average IQ=%{y}<extra></extra>",
         "legendgroup": "Liechtenstein",
         "marker": {
          "color": "#FF97FF",
          "symbol": "circle"
         },
         "mode": "markers",
         "name": "Liechtenstein",
         "orientation": "v",
         "showlegend": true,
         "type": "scatter",
         "x": [
          1
         ],
         "xaxis": "x",
         "y": [
          101.07
         ],
         "yaxis": "y"
        },
        {
         "hovertemplate": "Country=Germany<br>Literacy Rate=%{x}<br>Average IQ=%{y}<extra></extra>",
         "legendgroup": "Germany",
         "marker": {
          "color": "#FECB52",
          "symbol": "circle"
         },
         "mode": "markers",
         "name": "Germany",
         "orientation": "v",
         "showlegend": true,
         "type": "scatter",
         "x": [
          0.99
         ],
         "xaxis": "x",
         "y": [
          100.74
         ],
         "yaxis": "y"
        },
        {
         "hovertemplate": "Country=Netherlands<br>Literacy Rate=%{x}<br>Average IQ=%{y}<extra></extra>",
         "legendgroup": "Netherlands",
         "marker": {
          "color": "#636efa",
          "symbol": "circle"
         },
         "mode": "markers",
         "name": "Netherlands",
         "orientation": "v",
         "showlegend": true,
         "type": "scatter",
         "x": [
          0.99
         ],
         "xaxis": "x",
         "y": [
          100.74
         ],
         "yaxis": "y"
        },
        {
         "hovertemplate": "Country=Estonia<br>Literacy Rate=%{x}<br>Average IQ=%{y}<extra></extra>",
         "legendgroup": "Estonia",
         "marker": {
          "color": "#EF553B",
          "symbol": "circle"
         },
         "mode": "markers",
         "name": "Estonia",
         "orientation": "v",
         "showlegend": true,
         "type": "scatter",
         "x": [
          1
         ],
         "xaxis": "x",
         "y": [
          100.72
         ],
         "yaxis": "y"
        },
        {
         "hovertemplate": "Country=Luxembourg<br>Literacy Rate=%{x}<br>Average IQ=%{y}<extra></extra>",
         "legendgroup": "Luxembourg",
         "marker": {
          "color": "#00cc96",
          "symbol": "circle"
         },
         "mode": "markers",
         "name": "Luxembourg",
         "orientation": "v",
         "showlegend": true,
         "type": "scatter",
         "x": [
          1
         ],
         "xaxis": "x",
         "y": [
          99.87
         ],
         "yaxis": "y"
        },
        {
         "hovertemplate": "Country=Macao<br>Literacy Rate=%{x}<br>Average IQ=%{y}<extra></extra>",
         "legendgroup": "Macao",
         "marker": {
          "color": "#ab63fa",
          "symbol": "circle"
         },
         "mode": "markers",
         "name": "Macao",
         "orientation": "v",
         "showlegend": true,
         "type": "scatter",
         "x": [
          0.97
         ],
         "xaxis": "x",
         "y": [
          99.82
         ],
         "yaxis": "y"
        },
        {
         "hovertemplate": "Country=Cambodia<br>Literacy Rate=%{x}<br>Average IQ=%{y}<extra></extra>",
         "legendgroup": "Cambodia",
         "marker": {
          "color": "#FFA15A",
          "symbol": "circle"
         },
         "mode": "markers",
         "name": "Cambodia",
         "orientation": "v",
         "showlegend": true,
         "type": "scatter",
         "x": [
          0.78
         ],
         "xaxis": "x",
         "y": [
          99.75
         ],
         "yaxis": "y"
        },
        {
         "hovertemplate": "Country=Canada<br>Literacy Rate=%{x}<br>Average IQ=%{y}<extra></extra>",
         "legendgroup": "Canada",
         "marker": {
          "color": "#19d3f3",
          "symbol": "circle"
         },
         "mode": "markers",
         "name": "Canada",
         "orientation": "v",
         "showlegend": true,
         "type": "scatter",
         "x": [
          0.99
         ],
         "xaxis": "x",
         "y": [
          99.52
         ],
         "yaxis": "y"
        },
        {
         "hovertemplate": "Country=Australia<br>Literacy Rate=%{x}<br>Average IQ=%{y}<extra></extra>",
         "legendgroup": "Australia",
         "marker": {
          "color": "#FF6692",
          "symbol": "circle"
         },
         "mode": "markers",
         "name": "Australia",
         "orientation": "v",
         "showlegend": true,
         "type": "scatter",
         "x": [
          0.99
         ],
         "xaxis": "x",
         "y": [
          99.24
         ],
         "yaxis": "y"
        },
        {
         "hovertemplate": "Country=Hungary<br>Literacy Rate=%{x}<br>Average IQ=%{y}<extra></extra>",
         "legendgroup": "Hungary",
         "marker": {
          "color": "#B6E880",
          "symbol": "circle"
         },
         "mode": "markers",
         "name": "Hungary",
         "orientation": "v",
         "showlegend": true,
         "type": "scatter",
         "x": [
          0.99
         ],
         "xaxis": "x",
         "y": [
          99.24
         ],
         "yaxis": "y"
        },
        {
         "hovertemplate": "Country=Switzerland<br>Literacy Rate=%{x}<br>Average IQ=%{y}<extra></extra>",
         "legendgroup": "Switzerland",
         "marker": {
          "color": "#FF97FF",
          "symbol": "circle"
         },
         "mode": "markers",
         "name": "Switzerland",
         "orientation": "v",
         "showlegend": true,
         "type": "scatter",
         "x": [
          0.99
         ],
         "xaxis": "x",
         "y": [
          99.24
         ],
         "yaxis": "y"
        },
        {
         "hovertemplate": "Country=United Kingdom<br>Literacy Rate=%{x}<br>Average IQ=%{y}<extra></extra>",
         "legendgroup": "United Kingdom",
         "marker": {
          "color": "#FECB52",
          "symbol": "circle"
         },
         "mode": "markers",
         "name": "United Kingdom",
         "orientation": "v",
         "showlegend": true,
         "type": "scatter",
         "x": [
          0.99
         ],
         "xaxis": "x",
         "y": [
          99.12
         ],
         "yaxis": "y"
        },
        {
         "hovertemplate": "Country=North Korea<br>Literacy Rate=%{x}<br>Average IQ=%{y}<extra></extra>",
         "legendgroup": "North Korea",
         "marker": {
          "color": "#636efa",
          "symbol": "circle"
         },
         "mode": "markers",
         "name": "North Korea",
         "orientation": "v",
         "showlegend": true,
         "type": "scatter",
         "x": [
          1
         ],
         "xaxis": "x",
         "y": [
          98.82
         ],
         "yaxis": "y"
        },
        {
         "hovertemplate": "Country=Slovenia<br>Literacy Rate=%{x}<br>Average IQ=%{y}<extra></extra>",
         "legendgroup": "Slovenia",
         "marker": {
          "color": "#EF553B",
          "symbol": "circle"
         },
         "mode": "markers",
         "name": "Slovenia",
         "orientation": "v",
         "showlegend": true,
         "type": "scatter",
         "x": [
          1
         ],
         "xaxis": "x",
         "y": [
          98.6
         ],
         "yaxis": "y"
        },
        {
         "hovertemplate": "Country=New Zealand<br>Literacy Rate=%{x}<br>Average IQ=%{y}<extra></extra>",
         "legendgroup": "New Zealand",
         "marker": {
          "color": "#00cc96",
          "symbol": "circle"
         },
         "mode": "markers",
         "name": "New Zealand",
         "orientation": "v",
         "showlegend": true,
         "type": "scatter",
         "x": [
          0.99
         ],
         "xaxis": "x",
         "y": [
          98.57
         ],
         "yaxis": "y"
        },
        {
         "hovertemplate": "Country=Austria<br>Literacy Rate=%{x}<br>Average IQ=%{y}<extra></extra>",
         "legendgroup": "Austria",
         "marker": {
          "color": "#ab63fa",
          "symbol": "circle"
         },
         "mode": "markers",
         "name": "Austria",
         "orientation": "v",
         "showlegend": true,
         "type": "scatter",
         "x": [
          0.98
         ],
         "xaxis": "x",
         "y": [
          98.38
         ],
         "yaxis": "y"
        },
        {
         "hovertemplate": "Country=Iceland<br>Literacy Rate=%{x}<br>Average IQ=%{y}<extra></extra>",
         "legendgroup": "Iceland",
         "marker": {
          "color": "#FFA15A",
          "symbol": "circle"
         },
         "mode": "markers",
         "name": "Iceland",
         "orientation": "v",
         "showlegend": true,
         "type": "scatter",
         "x": [
          0.99
         ],
         "xaxis": "x",
         "y": [
          98.26
         ],
         "yaxis": "y"
        },
        {
         "hovertemplate": "Country=Denmark<br>Literacy Rate=%{x}<br>Average IQ=%{y}<extra></extra>",
         "legendgroup": "Denmark",
         "marker": {
          "color": "#19d3f3",
          "symbol": "circle"
         },
         "mode": "markers",
         "name": "Denmark",
         "orientation": "v",
         "showlegend": true,
         "type": "scatter",
         "x": [
          0.99
         ],
         "xaxis": "x",
         "y": [
          97.83
         ],
         "yaxis": "y"
        },
        {
         "hovertemplate": "Country=Belgium<br>Literacy Rate=%{x}<br>Average IQ=%{y}<extra></extra>",
         "legendgroup": "Belgium",
         "marker": {
          "color": "#FF6692",
          "symbol": "circle"
         },
         "mode": "markers",
         "name": "Belgium",
         "orientation": "v",
         "showlegend": true,
         "type": "scatter",
         "x": [
          0.99
         ],
         "xaxis": "x",
         "y": [
          97.49
         ],
         "yaxis": "y"
        },
        {
         "hovertemplate": "Country=United States<br>Literacy Rate=%{x}<br>Average IQ=%{y}<extra></extra>",
         "legendgroup": "United States",
         "marker": {
          "color": "#B6E880",
          "symbol": "circle"
         },
         "mode": "markers",
         "name": "United States",
         "orientation": "v",
         "showlegend": true,
         "type": "scatter",
         "x": [
          0.99
         ],
         "xaxis": "x",
         "y": [
          97.43
         ],
         "yaxis": "y"
        },
        {
         "hovertemplate": "Country=Norway<br>Literacy Rate=%{x}<br>Average IQ=%{y}<extra></extra>",
         "legendgroup": "Norway",
         "marker": {
          "color": "#FF97FF",
          "symbol": "circle"
         },
         "mode": "markers",
         "name": "Norway",
         "orientation": "v",
         "showlegend": true,
         "type": "scatter",
         "x": [
          1
         ],
         "xaxis": "x",
         "y": [
          97.13
         ],
         "yaxis": "y"
        },
        {
         "hovertemplate": "Country=Sweden<br>Literacy Rate=%{x}<br>Average IQ=%{y}<extra></extra>",
         "legendgroup": "Sweden",
         "marker": {
          "color": "#FECB52",
          "symbol": "circle"
         },
         "mode": "markers",
         "name": "Sweden",
         "orientation": "v",
         "showlegend": true,
         "type": "scatter",
         "x": [
          0.99
         ],
         "xaxis": "x",
         "y": [
          97
         ],
         "yaxis": "y"
        },
        {
         "hovertemplate": "Country=France<br>Literacy Rate=%{x}<br>Average IQ=%{y}<extra></extra>",
         "legendgroup": "France",
         "marker": {
          "color": "#636efa",
          "symbol": "circle"
         },
         "mode": "markers",
         "name": "France",
         "orientation": "v",
         "showlegend": true,
         "type": "scatter",
         "x": [
          0.99
         ],
         "xaxis": "x",
         "y": [
          96.69
         ],
         "yaxis": "y"
        },
        {
         "hovertemplate": "Country=Poland<br>Literacy Rate=%{x}<br>Average IQ=%{y}<extra></extra>",
         "legendgroup": "Poland",
         "marker": {
          "color": "#EF553B",
          "symbol": "circle"
         },
         "mode": "markers",
         "name": "Poland",
         "orientation": "v",
         "showlegend": true,
         "type": "scatter",
         "x": [
          1
         ],
         "xaxis": "x",
         "y": [
          96.35
         ],
         "yaxis": "y"
        },
        {
         "hovertemplate": "Country=Slovakia<br>Literacy Rate=%{x}<br>Average IQ=%{y}<extra></extra>",
         "legendgroup": "Slovakia",
         "marker": {
          "color": "#00cc96",
          "symbol": "circle"
         },
         "mode": "markers",
         "name": "Slovakia",
         "orientation": "v",
         "showlegend": true,
         "type": "scatter",
         "x": [
          1
         ],
         "xaxis": "x",
         "y": [
          96.32
         ],
         "yaxis": "y"
        },
        {
         "hovertemplate": "Country=Russia<br>Literacy Rate=%{x}<br>Average IQ=%{y}<extra></extra>",
         "legendgroup": "Russia",
         "marker": {
          "color": "#ab63fa",
          "symbol": "circle"
         },
         "mode": "markers",
         "name": "Russia",
         "orientation": "v",
         "showlegend": true,
         "type": "scatter",
         "x": [
          1
         ],
         "xaxis": "x",
         "y": [
          96.29
         ],
         "yaxis": "y"
        },
        {
         "hovertemplate": "Country=Lithuania<br>Literacy Rate=%{x}<br>Average IQ=%{y}<extra></extra>",
         "legendgroup": "Lithuania",
         "marker": {
          "color": "#FFA15A",
          "symbol": "circle"
         },
         "mode": "markers",
         "name": "Lithuania",
         "orientation": "v",
         "showlegend": true,
         "type": "scatter",
         "x": [
          1
         ],
         "xaxis": "x",
         "y": [
          95.89
         ],
         "yaxis": "y"
        },
        {
         "hovertemplate": "Country=Croatia<br>Literacy Rate=%{x}<br>Average IQ=%{y}<extra></extra>",
         "legendgroup": "Croatia",
         "marker": {
          "color": "#19d3f3",
          "symbol": "circle"
         },
         "mode": "markers",
         "name": "Croatia",
         "orientation": "v",
         "showlegend": true,
         "type": "scatter",
         "x": [
          0.99
         ],
         "xaxis": "x",
         "y": [
          95.75
         ],
         "yaxis": "y"
        },
        {
         "hovertemplate": "Country=Andorra<br>Literacy Rate=%{x}<br>Average IQ=%{y}<extra></extra>",
         "legendgroup": "Andorra",
         "marker": {
          "color": "#FF6692",
          "symbol": "circle"
         },
         "mode": "markers",
         "name": "Andorra",
         "orientation": "v",
         "showlegend": true,
         "type": "scatter",
         "x": [
          1
         ],
         "xaxis": "x",
         "y": [
          95.2
         ],
         "yaxis": "y"
        },
        {
         "hovertemplate": "Country=Ireland<br>Literacy Rate=%{x}<br>Average IQ=%{y}<extra></extra>",
         "legendgroup": "Ireland",
         "marker": {
          "color": "#B6E880",
          "symbol": "circle"
         },
         "mode": "markers",
         "name": "Ireland",
         "orientation": "v",
         "showlegend": true,
         "type": "scatter",
         "x": [
          0.99
         ],
         "xaxis": "x",
         "y": [
          95.13
         ],
         "yaxis": "y"
        },
        {
         "hovertemplate": "Country=Czech republic<br>Literacy Rate=%{x}<br>Average IQ=%{y}<extra></extra>",
         "legendgroup": "Czech republic",
         "marker": {
          "color": "#FF97FF",
          "symbol": "circle"
         },
         "mode": "markers",
         "name": "Czech republic",
         "orientation": "v",
         "showlegend": true,
         "type": "scatter",
         "x": [
          0.99
         ],
         "xaxis": "x",
         "y": [
          94.92
         ],
         "yaxis": "y"
        },
        {
         "hovertemplate": "Country=Latvia<br>Literacy Rate=%{x}<br>Average IQ=%{y}<extra></extra>",
         "legendgroup": "Latvia",
         "marker": {
          "color": "#FECB52",
          "symbol": "circle"
         },
         "mode": "markers",
         "name": "Latvia",
         "orientation": "v",
         "showlegend": true,
         "type": "scatter",
         "x": [
          1
         ],
         "xaxis": "x",
         "y": [
          94.79
         ],
         "yaxis": "y"
        },
        {
         "hovertemplate": "Country=Italy<br>Literacy Rate=%{x}<br>Average IQ=%{y}<extra></extra>",
         "legendgroup": "Italy",
         "marker": {
          "color": "#636efa",
          "symbol": "circle"
         },
         "mode": "markers",
         "name": "Italy",
         "orientation": "v",
         "showlegend": true,
         "type": "scatter",
         "x": [
          0.99
         ],
         "xaxis": "x",
         "y": [
          94.23
         ],
         "yaxis": "y"
        },
        {
         "hovertemplate": "Country=New Caledonia<br>Literacy Rate=%{x}<br>Average IQ=%{y}<extra></extra>",
         "legendgroup": "New Caledonia",
         "marker": {
          "color": "#EF553B",
          "symbol": "circle"
         },
         "mode": "markers",
         "name": "New Caledonia",
         "orientation": "v",
         "showlegend": true,
         "type": "scatter",
         "x": [
          0.97
         ],
         "xaxis": "x",
         "y": [
          93.92
         ],
         "yaxis": "y"
        },
        {
         "hovertemplate": "Country=Vanuatu<br>Literacy Rate=%{x}<br>Average IQ=%{y}<extra></extra>",
         "legendgroup": "Vanuatu",
         "marker": {
          "color": "#00cc96",
          "symbol": "circle"
         },
         "mode": "markers",
         "name": "Vanuatu",
         "orientation": "v",
         "showlegend": true,
         "type": "scatter",
         "x": [
          0.85
         ],
         "xaxis": "x",
         "y": [
          93.92
         ],
         "yaxis": "y"
        },
        {
         "hovertemplate": "Country=Spain<br>Literacy Rate=%{x}<br>Average IQ=%{y}<extra></extra>",
         "legendgroup": "Spain",
         "marker": {
          "color": "#ab63fa",
          "symbol": "circle"
         },
         "mode": "markers",
         "name": "Spain",
         "orientation": "v",
         "showlegend": true,
         "type": "scatter",
         "x": [
          0.98
         ],
         "xaxis": "x",
         "y": [
          93.9
         ],
         "yaxis": "y"
        },
        {
         "hovertemplate": "Country=Bermuda<br>Literacy Rate=%{x}<br>Average IQ=%{y}<extra></extra>",
         "legendgroup": "Bermuda",
         "marker": {
          "color": "#FFA15A",
          "symbol": "circle"
         },
         "mode": "markers",
         "name": "Bermuda",
         "orientation": "v",
         "showlegend": true,
         "type": "scatter",
         "x": [
          0.98
         ],
         "xaxis": "x",
         "y": [
          93.48
         ],
         "yaxis": "y"
        },
        {
         "hovertemplate": "Country=Cyprus<br>Literacy Rate=%{x}<br>Average IQ=%{y}<extra></extra>",
         "legendgroup": "Cyprus",
         "marker": {
          "color": "#19d3f3",
          "symbol": "circle"
         },
         "mode": "markers",
         "name": "Cyprus",
         "orientation": "v",
         "showlegend": true,
         "type": "scatter",
         "x": [
          0.99
         ],
         "xaxis": "x",
         "y": [
          93.39
         ],
         "yaxis": "y"
        },
        {
         "hovertemplate": "Country=Portugal<br>Literacy Rate=%{x}<br>Average IQ=%{y}<extra></extra>",
         "legendgroup": "Portugal",
         "marker": {
          "color": "#FF6692",
          "symbol": "circle"
         },
         "mode": "markers",
         "name": "Portugal",
         "orientation": "v",
         "showlegend": true,
         "type": "scatter",
         "x": [
          0.95
         ],
         "xaxis": "x",
         "y": [
          92.77
         ],
         "yaxis": "y"
        },
        {
         "hovertemplate": "Country=Israel<br>Literacy Rate=%{x}<br>Average IQ=%{y}<extra></extra>",
         "legendgroup": "Israel",
         "marker": {
          "color": "#B6E880",
          "symbol": "circle"
         },
         "mode": "markers",
         "name": "Israel",
         "orientation": "v",
         "showlegend": true,
         "type": "scatter",
         "x": [
          0.97
         ],
         "xaxis": "x",
         "y": [
          92.43
         ],
         "yaxis": "y"
        },
        {
         "hovertemplate": "Country=Barbados<br>Literacy Rate=%{x}<br>Average IQ=%{y}<extra></extra>",
         "legendgroup": "Barbados",
         "marker": {
          "color": "#FF97FF",
          "symbol": "circle"
         },
         "mode": "markers",
         "name": "Barbados",
         "orientation": "v",
         "showlegend": true,
         "type": "scatter",
         "x": [
          1
         ],
         "xaxis": "x",
         "y": [
          91.6
         ],
         "yaxis": "y"
        },
        {
         "hovertemplate": "Country=Malta<br>Literacy Rate=%{x}<br>Average IQ=%{y}<extra></extra>",
         "legendgroup": "Malta",
         "marker": {
          "color": "#FECB52",
          "symbol": "circle"
         },
         "mode": "markers",
         "name": "Malta",
         "orientation": "v",
         "showlegend": true,
         "type": "scatter",
         "x": [
          0.94
         ],
         "xaxis": "x",
         "y": [
          91.27
         ],
         "yaxis": "y"
        },
        {
         "hovertemplate": "Country=Myanmar<br>Literacy Rate=%{x}<br>Average IQ=%{y}<extra></extra>",
         "legendgroup": "Myanmar",
         "marker": {
          "color": "#636efa",
          "symbol": "circle"
         },
         "mode": "markers",
         "name": "Myanmar",
         "orientation": "v",
         "showlegend": true,
         "type": "scatter",
         "x": [
          0.93
         ],
         "xaxis": "x",
         "y": [
          91.18
         ],
         "yaxis": "y"
        },
        {
         "hovertemplate": "Country=Mongolia<br>Literacy Rate=%{x}<br>Average IQ=%{y}<extra></extra>",
         "legendgroup": "Mongolia",
         "marker": {
          "color": "#EF553B",
          "symbol": "circle"
         },
         "mode": "markers",
         "name": "Mongolia",
         "orientation": "v",
         "showlegend": true,
         "type": "scatter",
         "x": [
          0.98
         ],
         "xaxis": "x",
         "y": [
          91.03
         ],
         "yaxis": "y"
        },
        {
         "hovertemplate": "Country=Bulgaria<br>Literacy Rate=%{x}<br>Average IQ=%{y}<extra></extra>",
         "legendgroup": "Bulgaria",
         "marker": {
          "color": "#00cc96",
          "symbol": "circle"
         },
         "mode": "markers",
         "name": "Bulgaria",
         "orientation": "v",
         "showlegend": true,
         "type": "scatter",
         "x": [
          0.98
         ],
         "xaxis": "x",
         "y": [
          90.99
         ],
         "yaxis": "y"
        },
        {
         "hovertemplate": "Country=Greece<br>Literacy Rate=%{x}<br>Average IQ=%{y}<extra></extra>",
         "legendgroup": "Greece",
         "marker": {
          "color": "#ab63fa",
          "symbol": "circle"
         },
         "mode": "markers",
         "name": "Greece",
         "orientation": "v",
         "showlegend": true,
         "type": "scatter",
         "x": [
          0.95
         ],
         "xaxis": "x",
         "y": [
          90.77
         ],
         "yaxis": "y"
        },
        {
         "hovertemplate": "Country=Suriname<br>Literacy Rate=%{x}<br>Average IQ=%{y}<extra></extra>",
         "legendgroup": "Suriname",
         "marker": {
          "color": "#FFA15A",
          "symbol": "circle"
         },
         "mode": "markers",
         "name": "Suriname",
         "orientation": "v",
         "showlegend": true,
         "type": "scatter",
         "x": [
          0.96
         ],
         "xaxis": "x",
         "y": [
          90.29
         ],
         "yaxis": "y"
        },
        {
         "hovertemplate": "Country=Ukraine<br>Literacy Rate=%{x}<br>Average IQ=%{y}<extra></extra>",
         "legendgroup": "Ukraine",
         "marker": {
          "color": "#19d3f3",
          "symbol": "circle"
         },
         "mode": "markers",
         "name": "Ukraine",
         "orientation": "v",
         "showlegend": true,
         "type": "scatter",
         "x": [
          1
         ],
         "xaxis": "x",
         "y": [
          90.07
         ],
         "yaxis": "y"
        },
        {
         "hovertemplate": "Country=Moldavia<br>Literacy Rate=%{x}<br>Average IQ=%{y}<extra></extra>",
         "legendgroup": "Moldavia",
         "marker": {
          "color": "#FF6692",
          "symbol": "circle"
         },
         "mode": "markers",
         "name": "Moldavia",
         "orientation": "v",
         "showlegend": true,
         "type": "scatter",
         "x": [
          0.99
         ],
         "xaxis": "x",
         "y": [
          89.98
         ],
         "yaxis": "y"
        },
        {
         "hovertemplate": "Country=Serbia<br>Literacy Rate=%{x}<br>Average IQ=%{y}<extra></extra>",
         "legendgroup": "Serbia",
         "marker": {
          "color": "#B6E880",
          "symbol": "circle"
         },
         "mode": "markers",
         "name": "Serbia",
         "orientation": "v",
         "showlegend": true,
         "type": "scatter",
         "x": [
          0.98
         ],
         "xaxis": "x",
         "y": [
          89.6
         ],
         "yaxis": "y"
        },
        {
         "hovertemplate": "Country=Vietnam<br>Literacy Rate=%{x}<br>Average IQ=%{y}<extra></extra>",
         "legendgroup": "Vietnam",
         "marker": {
          "color": "#FF97FF",
          "symbol": "circle"
         },
         "mode": "markers",
         "name": "Vietnam",
         "orientation": "v",
         "showlegend": true,
         "type": "scatter",
         "x": [
          0.95
         ],
         "xaxis": "x",
         "y": [
          89.53
         ],
         "yaxis": "y"
        },
        {
         "hovertemplate": "Country=Iraq<br>Literacy Rate=%{x}<br>Average IQ=%{y}<extra></extra>",
         "legendgroup": "Iraq",
         "marker": {
          "color": "#FECB52",
          "symbol": "circle"
         },
         "mode": "markers",
         "name": "Iraq",
         "orientation": "v",
         "showlegend": true,
         "type": "scatter",
         "x": [
          0.8
         ],
         "xaxis": "x",
         "y": [
          89.28
         ],
         "yaxis": "y"
        },
        {
         "hovertemplate": "Country=Uzbekistan<br>Literacy Rate=%{x}<br>Average IQ=%{y}<extra></extra>",
         "legendgroup": "Uzbekistan",
         "marker": {
          "color": "#636efa",
          "symbol": "circle"
         },
         "mode": "markers",
         "name": "Uzbekistan",
         "orientation": "v",
         "showlegend": true,
         "type": "scatter",
         "x": [
          1
         ],
         "xaxis": "x",
         "y": [
          89.01
         ],
         "yaxis": "y"
        },
        {
         "hovertemplate": "Country=Kazakhstan<br>Literacy Rate=%{x}<br>Average IQ=%{y}<extra></extra>",
         "legendgroup": "Kazakhstan",
         "marker": {
          "color": "#EF553B",
          "symbol": "circle"
         },
         "mode": "markers",
         "name": "Kazakhstan",
         "orientation": "v",
         "showlegend": true,
         "type": "scatter",
         "x": [
          1
         ],
         "xaxis": "x",
         "y": [
          88.89
         ],
         "yaxis": "y"
        },
        {
         "hovertemplate": "Country=Thailand<br>Literacy Rate=%{x}<br>Average IQ=%{y}<extra></extra>",
         "legendgroup": "Thailand",
         "marker": {
          "color": "#00cc96",
          "symbol": "circle"
         },
         "mode": "markers",
         "name": "Thailand",
         "orientation": "v",
         "showlegend": true,
         "type": "scatter",
         "x": [
          0.94
         ],
         "xaxis": "x",
         "y": [
          88.87
         ],
         "yaxis": "y"
        },
        {
         "hovertemplate": "Country=Armenia<br>Literacy Rate=%{x}<br>Average IQ=%{y}<extra></extra>",
         "legendgroup": "Armenia",
         "marker": {
          "color": "#ab63fa",
          "symbol": "circle"
         },
         "mode": "markers",
         "name": "Armenia",
         "orientation": "v",
         "showlegend": true,
         "type": "scatter",
         "x": [
          1
         ],
         "xaxis": "x",
         "y": [
          88.82
         ],
         "yaxis": "y"
        },
        {
         "hovertemplate": "Country=Bosnia and Herzegovina<br>Literacy Rate=%{x}<br>Average IQ=%{y}<extra></extra>",
         "legendgroup": "Bosnia and Herzegovina",
         "marker": {
          "color": "#FFA15A",
          "symbol": "circle"
         },
         "mode": "markers",
         "name": "Bosnia and Herzegovina",
         "orientation": "v",
         "showlegend": true,
         "type": "scatter",
         "x": [
          0.98
         ],
         "xaxis": "x",
         "y": [
          88.54
         ],
         "yaxis": "y"
        },
        {
         "hovertemplate": "Country=Costa Rica<br>Literacy Rate=%{x}<br>Average IQ=%{y}<extra></extra>",
         "legendgroup": "Costa Rica",
         "marker": {
          "color": "#19d3f3",
          "symbol": "circle"
         },
         "mode": "markers",
         "name": "Costa Rica",
         "orientation": "v",
         "showlegend": true,
         "type": "scatter",
         "x": [
          0.98
         ],
         "xaxis": "x",
         "y": [
          88.34
         ],
         "yaxis": "y"
        },
        {
         "hovertemplate": "Country=Bhutan<br>Literacy Rate=%{x}<br>Average IQ=%{y}<extra></extra>",
         "legendgroup": "Bhutan",
         "marker": {
          "color": "#FF6692",
          "symbol": "circle"
         },
         "mode": "markers",
         "name": "Bhutan",
         "orientation": "v",
         "showlegend": true,
         "type": "scatter",
         "x": [
          0.64
         ],
         "xaxis": "x",
         "y": [
          87.94
         ],
         "yaxis": "y"
        },
        {
         "hovertemplate": "Country=Chile<br>Literacy Rate=%{x}<br>Average IQ=%{y}<extra></extra>",
         "legendgroup": "Chile",
         "marker": {
          "color": "#B6E880",
          "symbol": "circle"
         },
         "mode": "markers",
         "name": "Chile",
         "orientation": "v",
         "showlegend": true,
         "type": "scatter",
         "x": [
          0.97
         ],
         "xaxis": "x",
         "y": [
          87.89
         ],
         "yaxis": "y"
        },
        {
         "hovertemplate": "Country=Mexico<br>Literacy Rate=%{x}<br>Average IQ=%{y}<extra></extra>",
         "legendgroup": "Mexico",
         "marker": {
          "color": "#FF97FF",
          "symbol": "circle"
         },
         "mode": "markers",
         "name": "Mexico",
         "orientation": "v",
         "showlegend": true,
         "type": "scatter",
         "x": [
          0.95
         ],
         "xaxis": "x",
         "y": [
          87.73
         ],
         "yaxis": "y"
        },
        {
         "hovertemplate": "Country=Tajikistan<br>Literacy Rate=%{x}<br>Average IQ=%{y}<extra></extra>",
         "legendgroup": "Tajikistan",
         "marker": {
          "color": "#FECB52",
          "symbol": "circle"
         },
         "mode": "markers",
         "name": "Tajikistan",
         "orientation": "v",
         "showlegend": true,
         "type": "scatter",
         "x": [
          1
         ],
         "xaxis": "x",
         "y": [
          87.71
         ],
         "yaxis": "y"
        },
        {
         "hovertemplate": "Country=Uruguay<br>Literacy Rate=%{x}<br>Average IQ=%{y}<extra></extra>",
         "legendgroup": "Uruguay",
         "marker": {
          "color": "#636efa",
          "symbol": "circle"
         },
         "mode": "markers",
         "name": "Uruguay",
         "orientation": "v",
         "showlegend": true,
         "type": "scatter",
         "x": [
          0.98
         ],
         "xaxis": "x",
         "y": [
          87.59
         ],
         "yaxis": "y"
        },
        {
         "hovertemplate": "Country=Brunei<br>Literacy Rate=%{x}<br>Average IQ=%{y}<extra></extra>",
         "legendgroup": "Brunei",
         "marker": {
          "color": "#EF553B",
          "symbol": "circle"
         },
         "mode": "markers",
         "name": "Brunei",
         "orientation": "v",
         "showlegend": true,
         "type": "scatter",
         "x": [
          0.97
         ],
         "xaxis": "x",
         "y": [
          87.58
         ],
         "yaxis": "y"
        },
        {
         "hovertemplate": "Country=Malaysia<br>Literacy Rate=%{x}<br>Average IQ=%{y}<extra></extra>",
         "legendgroup": "Malaysia",
         "marker": {
          "color": "#00cc96",
          "symbol": "circle"
         },
         "mode": "markers",
         "name": "Malaysia",
         "orientation": "v",
         "showlegend": true,
         "type": "scatter",
         "x": [
          0.95
         ],
         "xaxis": "x",
         "y": [
          87.58
         ],
         "yaxis": "y"
        },
        {
         "hovertemplate": "Country=Bahamas<br>Literacy Rate=%{x}<br>Average IQ=%{y}<extra></extra>",
         "legendgroup": "Bahamas",
         "marker": {
          "color": "#ab63fa",
          "symbol": "circle"
         },
         "mode": "markers",
         "name": "Bahamas",
         "orientation": "v",
         "showlegend": true,
         "type": "scatter",
         "x": [
          0.96
         ],
         "xaxis": "x",
         "y": [
          86.99
         ],
         "yaxis": "y"
        },
        {
         "hovertemplate": "Country=Romania<br>Literacy Rate=%{x}<br>Average IQ=%{y}<extra></extra>",
         "legendgroup": "Romania",
         "marker": {
          "color": "#FFA15A",
          "symbol": "circle"
         },
         "mode": "markers",
         "name": "Romania",
         "orientation": "v",
         "showlegend": true,
         "type": "scatter",
         "x": [
          0.99
         ],
         "xaxis": "x",
         "y": [
          86.88
         ],
         "yaxis": "y"
        },
        {
         "hovertemplate": "Country=Türkiye<br>Literacy Rate=%{x}<br>Average IQ=%{y}<extra></extra>",
         "legendgroup": "Türkiye",
         "marker": {
          "color": "#19d3f3",
          "symbol": "circle"
         },
         "mode": "markers",
         "name": "Türkiye",
         "orientation": "v",
         "showlegend": true,
         "type": "scatter",
         "x": [
          0.96
         ],
         "xaxis": "x",
         "y": [
          86.8
         ],
         "yaxis": "y"
        },
        {
         "hovertemplate": "Country=Argentina<br>Literacy Rate=%{x}<br>Average IQ=%{y}<extra></extra>",
         "legendgroup": "Argentina",
         "marker": {
          "color": "#FF6692",
          "symbol": "circle"
         },
         "mode": "markers",
         "name": "Argentina",
         "orientation": "v",
         "showlegend": true,
         "type": "scatter",
         "x": [
          0.98
         ],
         "xaxis": "x",
         "y": [
          86.63
         ],
         "yaxis": "y"
        },
        {
         "hovertemplate": "Country=Sri Lanka<br>Literacy Rate=%{x}<br>Average IQ=%{y}<extra></extra>",
         "legendgroup": "Sri Lanka",
         "marker": {
          "color": "#B6E880",
          "symbol": "circle"
         },
         "mode": "markers",
         "name": "Sri Lanka",
         "orientation": "v",
         "showlegend": true,
         "type": "scatter",
         "x": [
          0.93
         ],
         "xaxis": "x",
         "y": [
          86.62
         ],
         "yaxis": "y"
        },
        {
         "hovertemplate": "Country=Mauritius<br>Literacy Rate=%{x}<br>Average IQ=%{y}<extra></extra>",
         "legendgroup": "Mauritius",
         "marker": {
          "color": "#FF97FF",
          "symbol": "circle"
         },
         "mode": "markers",
         "name": "Mauritius",
         "orientation": "v",
         "showlegend": true,
         "type": "scatter",
         "x": [
          0.91
         ],
         "xaxis": "x",
         "y": [
          86.56
         ],
         "yaxis": "y"
        },
        {
         "hovertemplate": "Country=Turkmenistan<br>Literacy Rate=%{x}<br>Average IQ=%{y}<extra></extra>",
         "legendgroup": "Turkmenistan",
         "marker": {
          "color": "#FECB52",
          "symbol": "circle"
         },
         "mode": "markers",
         "name": "Turkmenistan",
         "orientation": "v",
         "showlegend": true,
         "type": "scatter",
         "x": [
          1
         ],
         "xaxis": "x",
         "y": [
          85.86
         ],
         "yaxis": "y"
        },
        {
         "hovertemplate": "Country=Montenegro<br>Literacy Rate=%{x}<br>Average IQ=%{y}<extra></extra>",
         "legendgroup": "Montenegro",
         "marker": {
          "color": "#636efa",
          "symbol": "circle"
         },
         "mode": "markers",
         "name": "Montenegro",
         "orientation": "v",
         "showlegend": true,
         "type": "scatter",
         "x": [
          0.99
         ],
         "xaxis": "x",
         "y": [
          85.78
         ],
         "yaxis": "y"
        },
        {
         "hovertemplate": "Country=Trinidad and Tobago<br>Literacy Rate=%{x}<br>Average IQ=%{y}<extra></extra>",
         "legendgroup": "Trinidad and Tobago",
         "marker": {
          "color": "#EF553B",
          "symbol": "circle"
         },
         "mode": "markers",
         "name": "Trinidad and Tobago",
         "orientation": "v",
         "showlegend": true,
         "type": "scatter",
         "x": [
          0.99
         ],
         "xaxis": "x",
         "y": [
          85.63
         ],
         "yaxis": "y"
        },
        {
         "hovertemplate": "Country=Azerbaijan<br>Literacy Rate=%{x}<br>Average IQ=%{y}<extra></extra>",
         "legendgroup": "Azerbaijan",
         "marker": {
          "color": "#00cc96",
          "symbol": "circle"
         },
         "mode": "markers",
         "name": "Azerbaijan",
         "orientation": "v",
         "showlegend": true,
         "type": "scatter",
         "x": [
          1
         ],
         "xaxis": "x",
         "y": [
          84.81
         ],
         "yaxis": "y"
        },
        {
         "hovertemplate": "Country=Georgia<br>Literacy Rate=%{x}<br>Average IQ=%{y}<extra></extra>",
         "legendgroup": "Georgia",
         "marker": {
          "color": "#ab63fa",
          "symbol": "circle"
         },
         "mode": "markers",
         "name": "Georgia",
         "orientation": "v",
         "showlegend": true,
         "type": "scatter",
         "x": [
          1
         ],
         "xaxis": "x",
         "y": [
          84.5
         ],
         "yaxis": "y"
        },
        {
         "hovertemplate": "Country=Turks and Caicos Islands<br>Literacy Rate=%{x}<br>Average IQ=%{y}<extra></extra>",
         "legendgroup": "Turks and Caicos Islands",
         "marker": {
          "color": "#FFA15A",
          "symbol": "circle"
         },
         "mode": "markers",
         "name": "Turks and Caicos Islands",
         "orientation": "v",
         "showlegend": true,
         "type": "scatter",
         "x": [
          0.98
         ],
         "xaxis": "x",
         "y": [
          84.29
         ],
         "yaxis": "y"
        },
        {
         "hovertemplate": "Country=Paraguay<br>Literacy Rate=%{x}<br>Average IQ=%{y}<extra></extra>",
         "legendgroup": "Paraguay",
         "marker": {
          "color": "#19d3f3",
          "symbol": "circle"
         },
         "mode": "markers",
         "name": "Paraguay",
         "orientation": "v",
         "showlegend": true,
         "type": "scatter",
         "x": [
          0.96
         ],
         "xaxis": "x",
         "y": [
          84.04
         ],
         "yaxis": "y"
        },
        {
         "hovertemplate": "Country=Federated States of Micronesia<br>Literacy Rate=%{x}<br>Average IQ=%{y}<extra></extra>",
         "legendgroup": "Federated States of Micronesia",
         "marker": {
          "color": "#FF6692",
          "symbol": "circle"
         },
         "mode": "markers",
         "name": "Federated States of Micronesia",
         "orientation": "v",
         "showlegend": true,
         "type": "scatter",
         "x": [
          0.89
         ],
         "xaxis": "x",
         "y": [
          83.96
         ],
         "yaxis": "y"
        },
        {
         "hovertemplate": "Country=Fiji<br>Literacy Rate=%{x}<br>Average IQ=%{y}<extra></extra>",
         "legendgroup": "Fiji",
         "marker": {
          "color": "#B6E880",
          "symbol": "circle"
         },
         "mode": "markers",
         "name": "Fiji",
         "orientation": "v",
         "showlegend": true,
         "type": "scatter",
         "x": [
          0.94
         ],
         "xaxis": "x",
         "y": [
          83.96
         ],
         "yaxis": "y"
        },
        {
         "hovertemplate": "Country=Marshall Islands<br>Literacy Rate=%{x}<br>Average IQ=%{y}<extra></extra>",
         "legendgroup": "Marshall Islands",
         "marker": {
          "color": "#FF97FF",
          "symbol": "circle"
         },
         "mode": "markers",
         "name": "Marshall Islands",
         "orientation": "v",
         "showlegend": true,
         "type": "scatter",
         "x": [
          0.98
         ],
         "xaxis": "x",
         "y": [
          83.96
         ],
         "yaxis": "y"
        },
        {
         "hovertemplate": "Country=Solomon Islands<br>Literacy Rate=%{x}<br>Average IQ=%{y}<extra></extra>",
         "legendgroup": "Solomon Islands",
         "marker": {
          "color": "#FECB52",
          "symbol": "circle"
         },
         "mode": "markers",
         "name": "Solomon Islands",
         "orientation": "v",
         "showlegend": true,
         "type": "scatter",
         "x": [
          0.84
         ],
         "xaxis": "x",
         "y": [
          83.96
         ],
         "yaxis": "y"
        },
        {
         "hovertemplate": "Country=Cuba<br>Literacy Rate=%{x}<br>Average IQ=%{y}<extra></extra>",
         "legendgroup": "Cuba",
         "marker": {
          "color": "#636efa",
          "symbol": "circle"
         },
         "mode": "markers",
         "name": "Cuba",
         "orientation": "v",
         "showlegend": true,
         "type": "scatter",
         "x": [
          1
         ],
         "xaxis": "x",
         "y": [
          83.9
         ],
         "yaxis": "y"
        },
        {
         "hovertemplate": "Country=Bahrain<br>Literacy Rate=%{x}<br>Average IQ=%{y}<extra></extra>",
         "legendgroup": "Bahrain",
         "marker": {
          "color": "#EF553B",
          "symbol": "circle"
         },
         "mode": "markers",
         "name": "Bahrain",
         "orientation": "v",
         "showlegend": true,
         "type": "scatter",
         "x": [
          0.96
         ],
         "xaxis": "x",
         "y": [
          83.6
         ],
         "yaxis": "y"
        },
        {
         "hovertemplate": "Country=Brazil<br>Literacy Rate=%{x}<br>Average IQ=%{y}<extra></extra>",
         "legendgroup": "Brazil",
         "marker": {
          "color": "#00cc96",
          "symbol": "circle"
         },
         "mode": "markers",
         "name": "Brazil",
         "orientation": "v",
         "showlegend": true,
         "type": "scatter",
         "x": [
          0.93
         ],
         "xaxis": "x",
         "y": [
          83.38
         ],
         "yaxis": "y"
        },
        {
         "hovertemplate": "Country=Guyana<br>Literacy Rate=%{x}<br>Average IQ=%{y}<extra></extra>",
         "legendgroup": "Guyana",
         "marker": {
          "color": "#ab63fa",
          "symbol": "circle"
         },
         "mode": "markers",
         "name": "Guyana",
         "orientation": "v",
         "showlegend": true,
         "type": "scatter",
         "x": [
          0.88
         ],
         "xaxis": "x",
         "y": [
          83.23
         ],
         "yaxis": "y"
        },
        {
         "hovertemplate": "Country=Colombia<br>Literacy Rate=%{x}<br>Average IQ=%{y}<extra></extra>",
         "legendgroup": "Colombia",
         "marker": {
          "color": "#FFA15A",
          "symbol": "circle"
         },
         "mode": "markers",
         "name": "Colombia",
         "orientation": "v",
         "showlegend": true,
         "type": "scatter",
         "x": [
          0.95
         ],
         "xaxis": "x",
         "y": [
          83.13
         ],
         "yaxis": "y"
        },
        {
         "hovertemplate": "Country=Venezuela<br>Literacy Rate=%{x}<br>Average IQ=%{y}<extra></extra>",
         "legendgroup": "Venezuela",
         "marker": {
          "color": "#19d3f3",
          "symbol": "circle"
         },
         "mode": "markers",
         "name": "Venezuela",
         "orientation": "v",
         "showlegend": true,
         "type": "scatter",
         "x": [
          0.95
         ],
         "xaxis": "x",
         "y": [
          82.99
         ],
         "yaxis": "y"
        },
        {
         "hovertemplate": "Country=Cayman Islands<br>Literacy Rate=%{x}<br>Average IQ=%{y}<extra></extra>",
         "legendgroup": "Cayman Islands",
         "marker": {
          "color": "#FF6692",
          "symbol": "circle"
         },
         "mode": "markers",
         "name": "Cayman Islands",
         "orientation": "v",
         "showlegend": true,
         "type": "scatter",
         "x": [
          0.99
         ],
         "xaxis": "x",
         "y": [
          82.24
         ],
         "yaxis": "y"
        },
        {
         "hovertemplate": "Country=Afghanistan<br>Literacy Rate=%{x}<br>Average IQ=%{y}<extra></extra>",
         "legendgroup": "Afghanistan",
         "marker": {
          "color": "#B6E880",
          "symbol": "circle"
         },
         "mode": "markers",
         "name": "Afghanistan",
         "orientation": "v",
         "showlegend": true,
         "type": "scatter",
         "x": [
          0.38
         ],
         "xaxis": "x",
         "y": [
          82.12
         ],
         "yaxis": "y"
        },
        {
         "hovertemplate": "Country=Haiti<br>Literacy Rate=%{x}<br>Average IQ=%{y}<extra></extra>",
         "legendgroup": "Haiti",
         "marker": {
          "color": "#FF97FF",
          "symbol": "circle"
         },
         "mode": "markers",
         "name": "Haiti",
         "orientation": "v",
         "showlegend": true,
         "type": "scatter",
         "x": [
          0.61
         ],
         "xaxis": "x",
         "y": [
          82.1
         ],
         "yaxis": "y"
        },
        {
         "hovertemplate": "Country=Dominican Republic<br>Literacy Rate=%{x}<br>Average IQ=%{y}<extra></extra>",
         "legendgroup": "Dominican Republic",
         "marker": {
          "color": "#FECB52",
          "symbol": "circle"
         },
         "mode": "markers",
         "name": "Dominican Republic",
         "orientation": "v",
         "showlegend": true,
         "type": "scatter",
         "x": [
          0.92
         ],
         "xaxis": "x",
         "y": [
          82.05
         ],
         "yaxis": "y"
        },
        {
         "hovertemplate": "Country=United Arab Emirates<br>Literacy Rate=%{x}<br>Average IQ=%{y}<extra></extra>",
         "legendgroup": "United Arab Emirates",
         "marker": {
          "color": "#636efa",
          "symbol": "circle"
         },
         "mode": "markers",
         "name": "United Arab Emirates",
         "orientation": "v",
         "showlegend": true,
         "type": "scatter",
         "x": [
          0.93
         ],
         "xaxis": "x",
         "y": [
          82.05
         ],
         "yaxis": "y"
        },
        {
         "hovertemplate": "Country=Puerto Rico<br>Literacy Rate=%{x}<br>Average IQ=%{y}<extra></extra>",
         "legendgroup": "Puerto Rico",
         "marker": {
          "color": "#EF553B",
          "symbol": "circle"
         },
         "mode": "markers",
         "name": "Puerto Rico",
         "orientation": "v",
         "showlegend": true,
         "type": "scatter",
         "x": [
          0.93
         ],
         "xaxis": "x",
         "y": [
          81.99
         ],
         "yaxis": "y"
        },
        {
         "hovertemplate": "Country=North Macedonia<br>Literacy Rate=%{x}<br>Average IQ=%{y}<extra></extra>",
         "legendgroup": "North Macedonia",
         "marker": {
          "color": "#00cc96",
          "symbol": "circle"
         },
         "mode": "markers",
         "name": "North Macedonia",
         "orientation": "v",
         "showlegend": true,
         "type": "scatter",
         "x": [
          0.98
         ],
         "xaxis": "x",
         "y": [
          81.91
         ],
         "yaxis": "y"
        },
        {
         "hovertemplate": "Country=Albania<br>Literacy Rate=%{x}<br>Average IQ=%{y}<extra></extra>",
         "legendgroup": "Albania",
         "marker": {
          "color": "#ab63fa",
          "symbol": "circle"
         },
         "mode": "markers",
         "name": "Albania",
         "orientation": "v",
         "showlegend": true,
         "type": "scatter",
         "x": [
          0.98
         ],
         "xaxis": "x",
         "y": [
          81.75
         ],
         "yaxis": "y"
        },
        {
         "hovertemplate": "Country=Lebanon<br>Literacy Rate=%{x}<br>Average IQ=%{y}<extra></extra>",
         "legendgroup": "Lebanon",
         "marker": {
          "color": "#FFA15A",
          "symbol": "circle"
         },
         "mode": "markers",
         "name": "Lebanon",
         "orientation": "v",
         "showlegend": true,
         "type": "scatter",
         "x": [
          0.94
         ],
         "xaxis": "x",
         "y": [
          81.7
         ],
         "yaxis": "y"
        },
        {
         "hovertemplate": "Country=Philippines<br>Literacy Rate=%{x}<br>Average IQ=%{y}<extra></extra>",
         "legendgroup": "Philippines",
         "marker": {
          "color": "#19d3f3",
          "symbol": "circle"
         },
         "mode": "markers",
         "name": "Philippines",
         "orientation": "v",
         "showlegend": true,
         "type": "scatter",
         "x": [
          0.97
         ],
         "xaxis": "x",
         "y": [
          81.64
         ],
         "yaxis": "y"
        },
        {
         "hovertemplate": "Country=Peru<br>Literacy Rate=%{x}<br>Average IQ=%{y}<extra></extra>",
         "legendgroup": "Peru",
         "marker": {
          "color": "#FF6692",
          "symbol": "circle"
         },
         "mode": "markers",
         "name": "Peru",
         "orientation": "v",
         "showlegend": true,
         "type": "scatter",
         "x": [
          0.94
         ],
         "xaxis": "x",
         "y": [
          81.44
         ],
         "yaxis": "y"
        },
        {
         "hovertemplate": "Country=Northern Mariana Islands<br>Literacy Rate=%{x}<br>Average IQ=%{y}<extra></extra>",
         "legendgroup": "Northern Mariana Islands",
         "marker": {
          "color": "#B6E880",
          "symbol": "circle"
         },
         "mode": "markers",
         "name": "Northern Mariana Islands",
         "orientation": "v",
         "showlegend": true,
         "type": "scatter",
         "x": [
          0.97
         ],
         "xaxis": "x",
         "y": [
          81.36
         ],
         "yaxis": "y"
        },
        {
         "hovertemplate": "Country=Laos<br>Literacy Rate=%{x}<br>Average IQ=%{y}<extra></extra>",
         "legendgroup": "Laos",
         "marker": {
          "color": "#FF97FF",
          "symbol": "circle"
         },
         "mode": "markers",
         "name": "Laos",
         "orientation": "v",
         "showlegend": true,
         "type": "scatter",
         "x": [
          0.8
         ],
         "xaxis": "x",
         "y": [
          80.99
         ],
         "yaxis": "y"
        },
        {
         "hovertemplate": "Country=Libya<br>Literacy Rate=%{x}<br>Average IQ=%{y}<extra></extra>",
         "legendgroup": "Libya",
         "marker": {
          "color": "#FECB52",
          "symbol": "circle"
         },
         "mode": "markers",
         "name": "Libya",
         "orientation": "v",
         "showlegend": true,
         "type": "scatter",
         "x": [
          0.91
         ],
         "xaxis": "x",
         "y": [
          80.92
         ],
         "yaxis": "y"
        },
        {
         "hovertemplate": "Country=Qatar<br>Literacy Rate=%{x}<br>Average IQ=%{y}<extra></extra>",
         "legendgroup": "Qatar",
         "marker": {
          "color": "#636efa",
          "symbol": "circle"
         },
         "mode": "markers",
         "name": "Qatar",
         "orientation": "v",
         "showlegend": true,
         "type": "scatter",
         "x": [
          0.98
         ],
         "xaxis": "x",
         "y": [
          80.78
         ],
         "yaxis": "y"
        },
        {
         "hovertemplate": "Country=Jordan<br>Literacy Rate=%{x}<br>Average IQ=%{y}<extra></extra>",
         "legendgroup": "Jordan",
         "marker": {
          "color": "#EF553B",
          "symbol": "circle"
         },
         "mode": "markers",
         "name": "Jordan",
         "orientation": "v",
         "showlegend": true,
         "type": "scatter",
         "x": [
          0.98
         ],
         "xaxis": "x",
         "y": [
          80.7
         ],
         "yaxis": "y"
        },
        {
         "hovertemplate": "Country=Maldives<br>Literacy Rate=%{x}<br>Average IQ=%{y}<extra></extra>",
         "legendgroup": "Maldives",
         "marker": {
          "color": "#00cc96",
          "symbol": "circle"
         },
         "mode": "markers",
         "name": "Maldives",
         "orientation": "v",
         "showlegend": true,
         "type": "scatter",
         "x": [
          0.99
         ],
         "xaxis": "x",
         "y": [
          80.54
         ],
         "yaxis": "y"
        },
        {
         "hovertemplate": "Country=Iran<br>Literacy Rate=%{x}<br>Average IQ=%{y}<extra></extra>",
         "legendgroup": "Iran",
         "marker": {
          "color": "#ab63fa",
          "symbol": "circle"
         },
         "mode": "markers",
         "name": "Iran",
         "orientation": "v",
         "showlegend": true,
         "type": "scatter",
         "x": [
          0.87
         ],
         "xaxis": "x",
         "y": [
          80.01
         ],
         "yaxis": "y"
        },
        {
         "hovertemplate": "Country=Pakistan<br>Literacy Rate=%{x}<br>Average IQ=%{y}<extra></extra>",
         "legendgroup": "Pakistan",
         "marker": {
          "color": "#FFA15A",
          "symbol": "circle"
         },
         "mode": "markers",
         "name": "Pakistan",
         "orientation": "v",
         "showlegend": true,
         "type": "scatter",
         "x": [
          0.56
         ],
         "xaxis": "x",
         "y": [
          80
         ],
         "yaxis": "y"
        },
        {
         "hovertemplate": "Country=Grenade<br>Literacy Rate=%{x}<br>Average IQ=%{y}<extra></extra>",
         "legendgroup": "Grenade",
         "marker": {
          "color": "#19d3f3",
          "symbol": "circle"
         },
         "mode": "markers",
         "name": "Grenade",
         "orientation": "v",
         "showlegend": true,
         "type": "scatter",
         "x": [
          0.96
         ],
         "xaxis": "x",
         "y": [
          79.34
         ],
         "yaxis": "y"
        },
        {
         "hovertemplate": "Country=Tunisia<br>Literacy Rate=%{x}<br>Average IQ=%{y}<extra></extra>",
         "legendgroup": "Tunisia",
         "marker": {
          "color": "#FF6692",
          "symbol": "circle"
         },
         "mode": "markers",
         "name": "Tunisia",
         "orientation": "v",
         "showlegend": true,
         "type": "scatter",
         "x": [
          0.81
         ],
         "xaxis": "x",
         "y": [
          79.22
         ],
         "yaxis": "y"
        },
        {
         "hovertemplate": "Country=Kyrgyzstan<br>Literacy Rate=%{x}<br>Average IQ=%{y}<extra></extra>",
         "legendgroup": "Kyrgyzstan",
         "marker": {
          "color": "#B6E880",
          "symbol": "circle"
         },
         "mode": "markers",
         "name": "Kyrgyzstan",
         "orientation": "v",
         "showlegend": true,
         "type": "scatter",
         "x": [
          0.99
         ],
         "xaxis": "x",
         "y": [
          79.09
         ],
         "yaxis": "y"
        },
        {
         "hovertemplate": "Country=Panama<br>Literacy Rate=%{x}<br>Average IQ=%{y}<extra></extra>",
         "legendgroup": "Panama",
         "marker": {
          "color": "#FF97FF",
          "symbol": "circle"
         },
         "mode": "markers",
         "name": "Panama",
         "orientation": "v",
         "showlegend": true,
         "type": "scatter",
         "x": [
          0.95
         ],
         "xaxis": "x",
         "y": [
          79
         ],
         "yaxis": "y"
        },
        {
         "hovertemplate": "Country=Chad<br>Literacy Rate=%{x}<br>Average IQ=%{y}<extra></extra>",
         "legendgroup": "Chad",
         "marker": {
          "color": "#FECB52",
          "symbol": "circle"
         },
         "mode": "markers",
         "name": "Chad",
         "orientation": "v",
         "showlegend": true,
         "type": "scatter",
         "x": [
          0.4
         ],
         "xaxis": "x",
         "y": [
          78.87
         ],
         "yaxis": "y"
        },
        {
         "hovertemplate": "Country=Sudan<br>Literacy Rate=%{x}<br>Average IQ=%{y}<extra></extra>",
         "legendgroup": "Sudan",
         "marker": {
          "color": "#636efa",
          "symbol": "circle"
         },
         "mode": "markers",
         "name": "Sudan",
         "orientation": "v",
         "showlegend": true,
         "type": "scatter",
         "x": [
          0.59
         ],
         "xaxis": "x",
         "y": [
          78.87
         ],
         "yaxis": "y"
        },
        {
         "hovertemplate": "Country=Seychelles<br>Literacy Rate=%{x}<br>Average IQ=%{y}<extra></extra>",
         "legendgroup": "Seychelles",
         "marker": {
          "color": "#EF553B",
          "symbol": "circle"
         },
         "mode": "markers",
         "name": "Seychelles",
         "orientation": "v",
         "showlegend": true,
         "type": "scatter",
         "x": [
          0.95
         ],
         "xaxis": "x",
         "y": [
          78.76
         ],
         "yaxis": "y"
        },
        {
         "hovertemplate": "Country=Oman<br>Literacy Rate=%{x}<br>Average IQ=%{y}<extra></extra>",
         "legendgroup": "Oman",
         "marker": {
          "color": "#00cc96",
          "symbol": "circle"
         },
         "mode": "markers",
         "name": "Oman",
         "orientation": "v",
         "showlegend": true,
         "type": "scatter",
         "x": [
          0.94
         ],
         "xaxis": "x",
         "y": [
          78.7
         ],
         "yaxis": "y"
        },
        {
         "hovertemplate": "Country=Kuwait<br>Literacy Rate=%{x}<br>Average IQ=%{y}<extra></extra>",
         "legendgroup": "Kuwait",
         "marker": {
          "color": "#ab63fa",
          "symbol": "circle"
         },
         "mode": "markers",
         "name": "Kuwait",
         "orientation": "v",
         "showlegend": true,
         "type": "scatter",
         "x": [
          0.96
         ],
         "xaxis": "x",
         "y": [
          78.64
         ],
         "yaxis": "y"
        },
        {
         "hovertemplate": "Country=East Timor<br>Literacy Rate=%{x}<br>Average IQ=%{y}<extra></extra>",
         "legendgroup": "East Timor",
         "marker": {
          "color": "#FFA15A",
          "symbol": "circle"
         },
         "mode": "markers",
         "name": "East Timor",
         "orientation": "v",
         "showlegend": true,
         "type": "scatter",
         "x": [
          0.64
         ],
         "xaxis": "x",
         "y": [
          78.49
         ],
         "yaxis": "y"
        },
        {
         "hovertemplate": "Country=Indonesia<br>Literacy Rate=%{x}<br>Average IQ=%{y}<extra></extra>",
         "legendgroup": "Indonesia",
         "marker": {
          "color": "#19d3f3",
          "symbol": "circle"
         },
         "mode": "markers",
         "name": "Indonesia",
         "orientation": "v",
         "showlegend": true,
         "type": "scatter",
         "x": [
          0.95
         ],
         "xaxis": "x",
         "y": [
          78.49
         ],
         "yaxis": "y"
        },
        {
         "hovertemplate": "Country=Papua New Guinea<br>Literacy Rate=%{x}<br>Average IQ=%{y}<extra></extra>",
         "legendgroup": "Papua New Guinea",
         "marker": {
          "color": "#FF6692",
          "symbol": "circle"
         },
         "mode": "markers",
         "name": "Papua New Guinea",
         "orientation": "v",
         "showlegend": true,
         "type": "scatter",
         "x": [
          0.63
         ],
         "xaxis": "x",
         "y": [
          78.49
         ],
         "yaxis": "y"
        },
        {
         "hovertemplate": "Country=Ecuador<br>Literacy Rate=%{x}<br>Average IQ=%{y}<extra></extra>",
         "legendgroup": "Ecuador",
         "marker": {
          "color": "#B6E880",
          "symbol": "circle"
         },
         "mode": "markers",
         "name": "Ecuador",
         "orientation": "v",
         "showlegend": true,
         "type": "scatter",
         "x": [
          0.95
         ],
         "xaxis": "x",
         "y": [
          78.26
         ],
         "yaxis": "y"
        },
        {
         "hovertemplate": "Country=Palestine<br>Literacy Rate=%{x}<br>Average IQ=%{y}<extra></extra>",
         "legendgroup": "Palestine",
         "marker": {
          "color": "#FF97FF",
          "symbol": "circle"
         },
         "mode": "markers",
         "name": "Palestine",
         "orientation": "v",
         "showlegend": true,
         "type": "scatter",
         "x": [
          0.97
         ],
         "xaxis": "x",
         "y": [
          77.69
         ],
         "yaxis": "y"
        },
        {
         "hovertemplate": "Country=Senegal<br>Literacy Rate=%{x}<br>Average IQ=%{y}<extra></extra>",
         "legendgroup": "Senegal",
         "marker": {
          "color": "#FECB52",
          "symbol": "circle"
         },
         "mode": "markers",
         "name": "Senegal",
         "orientation": "v",
         "showlegend": true,
         "type": "scatter",
         "x": [
          0.56
         ],
         "xaxis": "x",
         "y": [
          77.37
         ],
         "yaxis": "y"
        },
        {
         "hovertemplate": "Country=Comoros<br>Literacy Rate=%{x}<br>Average IQ=%{y}<extra></extra>",
         "legendgroup": "Comoros",
         "marker": {
          "color": "#636efa",
          "symbol": "circle"
         },
         "mode": "markers",
         "name": "Comoros",
         "orientation": "v",
         "showlegend": true,
         "type": "scatter",
         "x": [
          0.78
         ],
         "xaxis": "x",
         "y": [
          77.07
         ],
         "yaxis": "y"
        },
        {
         "hovertemplate": "Country=Madagascar<br>Literacy Rate=%{x}<br>Average IQ=%{y}<extra></extra>",
         "legendgroup": "Madagascar",
         "marker": {
          "color": "#EF553B",
          "symbol": "circle"
         },
         "mode": "markers",
         "name": "Madagascar",
         "orientation": "v",
         "showlegend": true,
         "type": "scatter",
         "x": [
          0.65
         ],
         "xaxis": "x",
         "y": [
          76.79
         ],
         "yaxis": "y"
        },
        {
         "hovertemplate": "Country=British Virgin Islands<br>Literacy Rate=%{x}<br>Average IQ=%{y}<extra></extra>",
         "legendgroup": "British Virgin Islands",
         "marker": {
          "color": "#00cc96",
          "symbol": "circle"
         },
         "mode": "markers",
         "name": "British Virgin Islands",
         "orientation": "v",
         "showlegend": true,
         "type": "scatter",
         "x": [
          0.98
         ],
         "xaxis": "x",
         "y": [
          76.69
         ],
         "yaxis": "y"
        },
        {
         "hovertemplate": "Country=Bolivia<br>Literacy Rate=%{x}<br>Average IQ=%{y}<extra></extra>",
         "legendgroup": "Bolivia",
         "marker": {
          "color": "#ab63fa",
          "symbol": "circle"
         },
         "mode": "markers",
         "name": "Bolivia",
         "orientation": "v",
         "showlegend": true,
         "type": "scatter",
         "x": [
          0.95
         ],
         "xaxis": "x",
         "y": [
          76.53
         ],
         "yaxis": "y"
        },
        {
         "hovertemplate": "Country=Uganda<br>Literacy Rate=%{x}<br>Average IQ=%{y}<extra></extra>",
         "legendgroup": "Uganda",
         "marker": {
          "color": "#FFA15A",
          "symbol": "circle"
         },
         "mode": "markers",
         "name": "Uganda",
         "orientation": "v",
         "showlegend": true,
         "type": "scatter",
         "x": [
          0.74
         ],
         "xaxis": "x",
         "y": [
          76.42
         ],
         "yaxis": "y"
        },
        {
         "hovertemplate": "Country=Saudi Arabia<br>Literacy Rate=%{x}<br>Average IQ=%{y}<extra></extra>",
         "legendgroup": "Saudi Arabia",
         "marker": {
          "color": "#19d3f3",
          "symbol": "circle"
         },
         "mode": "markers",
         "name": "Saudi Arabia",
         "orientation": "v",
         "showlegend": true,
         "type": "scatter",
         "x": [
          0.95
         ],
         "xaxis": "x",
         "y": [
          76.36
         ],
         "yaxis": "y"
        },
        {
         "hovertemplate": "Country=Egypt<br>Literacy Rate=%{x}<br>Average IQ=%{y}<extra></extra>",
         "legendgroup": "Egypt",
         "marker": {
          "color": "#FF6692",
          "symbol": "circle"
         },
         "mode": "markers",
         "name": "Egypt",
         "orientation": "v",
         "showlegend": true,
         "type": "scatter",
         "x": [
          0.76
         ],
         "xaxis": "x",
         "y": [
          76.32
         ],
         "yaxis": "y"
        },
        {
         "hovertemplate": "Country=India<br>Literacy Rate=%{x}<br>Average IQ=%{y}<extra></extra>",
         "legendgroup": "India",
         "marker": {
          "color": "#B6E880",
          "symbol": "circle"
         },
         "mode": "markers",
         "name": "India",
         "orientation": "v",
         "showlegend": true,
         "type": "scatter",
         "x": [
          0.72
         ],
         "xaxis": "x",
         "y": [
          76.24
         ],
         "yaxis": "y"
        },
        {
         "hovertemplate": "Country=Algeria<br>Literacy Rate=%{x}<br>Average IQ=%{y}<extra></extra>",
         "legendgroup": "Algeria",
         "marker": {
          "color": "#FF97FF",
          "symbol": "circle"
         },
         "mode": "markers",
         "name": "Algeria",
         "orientation": "v",
         "showlegend": true,
         "type": "scatter",
         "x": [
          0.8
         ],
         "xaxis": "x",
         "y": [
          76
         ],
         "yaxis": "y"
        },
        {
         "hovertemplate": "Country=Kenya<br>Literacy Rate=%{x}<br>Average IQ=%{y}<extra></extra>",
         "legendgroup": "Kenya",
         "marker": {
          "color": "#FECB52",
          "symbol": "circle"
         },
         "mode": "markers",
         "name": "Kenya",
         "orientation": "v",
         "showlegend": true,
         "type": "scatter",
         "x": [
          0.78
         ],
         "xaxis": "x",
         "y": [
          75.2
         ],
         "yaxis": "y"
        },
        {
         "hovertemplate": "Country=Angola<br>Literacy Rate=%{x}<br>Average IQ=%{y}<extra></extra>",
         "legendgroup": "Angola",
         "marker": {
          "color": "#636efa",
          "symbol": "circle"
         },
         "mode": "markers",
         "name": "Angola",
         "orientation": "v",
         "showlegend": true,
         "type": "scatter",
         "x": [
          0.71
         ],
         "xaxis": "x",
         "y": [
          75.1
         ],
         "yaxis": "y"
        },
        {
         "hovertemplate": "Country=Jamaica<br>Literacy Rate=%{x}<br>Average IQ=%{y}<extra></extra>",
         "legendgroup": "Jamaica",
         "marker": {
          "color": "#EF553B",
          "symbol": "circle"
         },
         "mode": "markers",
         "name": "Jamaica",
         "orientation": "v",
         "showlegend": true,
         "type": "scatter",
         "x": [
          0.89
         ],
         "xaxis": "x",
         "y": [
          75.08
         ],
         "yaxis": "y"
        },
        {
         "hovertemplate": "Country=Tanzania<br>Literacy Rate=%{x}<br>Average IQ=%{y}<extra></extra>",
         "legendgroup": "Tanzania",
         "marker": {
          "color": "#00cc96",
          "symbol": "circle"
         },
         "mode": "markers",
         "name": "Tanzania",
         "orientation": "v",
         "showlegend": true,
         "type": "scatter",
         "x": [
          0.8
         ],
         "xaxis": "x",
         "y": [
          74.95
         ],
         "yaxis": "y"
        },
        {
         "hovertemplate": "Country=Syria<br>Literacy Rate=%{x}<br>Average IQ=%{y}<extra></extra>",
         "legendgroup": "Syria",
         "marker": {
          "color": "#ab63fa",
          "symbol": "circle"
         },
         "mode": "markers",
         "name": "Syria",
         "orientation": "v",
         "showlegend": true,
         "type": "scatter",
         "x": [
          0.86
         ],
         "xaxis": "x",
         "y": [
          74.41
         ],
         "yaxis": "y"
        },
        {
         "hovertemplate": "Country=Bangladesh<br>Literacy Rate=%{x}<br>Average IQ=%{y}<extra></extra>",
         "legendgroup": "Bangladesh",
         "marker": {
          "color": "#FFA15A",
          "symbol": "circle"
         },
         "mode": "markers",
         "name": "Bangladesh",
         "orientation": "v",
         "showlegend": true,
         "type": "scatter",
         "x": [
          0.61
         ],
         "xaxis": "x",
         "y": [
          74.33
         ],
         "yaxis": "y"
        },
        {
         "hovertemplate": "Country=Zimbabwe<br>Literacy Rate=%{x}<br>Average IQ=%{y}<extra></extra>",
         "legendgroup": "Zimbabwe",
         "marker": {
          "color": "#19d3f3",
          "symbol": "circle"
         },
         "mode": "markers",
         "name": "Zimbabwe",
         "orientation": "v",
         "showlegend": true,
         "type": "scatter",
         "x": [
          0.87
         ],
         "xaxis": "x",
         "y": [
          74.01
         ],
         "yaxis": "y"
        },
        {
         "hovertemplate": "Country=Burkina Faso<br>Literacy Rate=%{x}<br>Average IQ=%{y}<extra></extra>",
         "legendgroup": "Burkina Faso",
         "marker": {
          "color": "#FF6692",
          "symbol": "circle"
         },
         "mode": "markers",
         "name": "Burkina Faso",
         "orientation": "v",
         "showlegend": true,
         "type": "scatter",
         "x": [
          0.38
         ],
         "xaxis": "x",
         "y": [
          73.8
         ],
         "yaxis": "y"
        },
        {
         "hovertemplate": "Country=Saint Lucia<br>Literacy Rate=%{x}<br>Average IQ=%{y}<extra></extra>",
         "legendgroup": "Saint Lucia",
         "marker": {
          "color": "#B6E880",
          "symbol": "circle"
         },
         "mode": "markers",
         "name": "Saint Lucia",
         "orientation": "v",
         "showlegend": true,
         "type": "scatter",
         "x": [
          0.9
         ],
         "xaxis": "x",
         "y": [
          73.68
         ],
         "yaxis": "y"
        },
        {
         "hovertemplate": "Country=Mozambique<br>Literacy Rate=%{x}<br>Average IQ=%{y}<extra></extra>",
         "legendgroup": "Mozambique",
         "marker": {
          "color": "#FF97FF",
          "symbol": "circle"
         },
         "mode": "markers",
         "name": "Mozambique",
         "orientation": "v",
         "showlegend": true,
         "type": "scatter",
         "x": [
          0.59
         ],
         "xaxis": "x",
         "y": [
          72.5
         ],
         "yaxis": "y"
        },
        {
         "hovertemplate": "Country=Burundi<br>Literacy Rate=%{x}<br>Average IQ=%{y}<extra></extra>",
         "legendgroup": "Burundi",
         "marker": {
          "color": "#FECB52",
          "symbol": "circle"
         },
         "mode": "markers",
         "name": "Burundi",
         "orientation": "v",
         "showlegend": true,
         "type": "scatter",
         "x": [
          0.85
         ],
         "xaxis": "x",
         "y": [
          72.09
         ],
         "yaxis": "y"
        },
        {
         "hovertemplate": "Country=Niger<br>Literacy Rate=%{x}<br>Average IQ=%{y}<extra></extra>",
         "legendgroup": "Niger",
         "marker": {
          "color": "#636efa",
          "symbol": "circle"
         },
         "mode": "markers",
         "name": "Niger",
         "orientation": "v",
         "showlegend": true,
         "type": "scatter",
         "x": [
          0.19
         ],
         "xaxis": "x",
         "y": [
          70.82
         ],
         "yaxis": "y"
        },
        {
         "hovertemplate": "Country=Antigua and Barbuda<br>Literacy Rate=%{x}<br>Average IQ=%{y}<extra></extra>",
         "legendgroup": "Antigua and Barbuda",
         "marker": {
          "color": "#EF553B",
          "symbol": "circle"
         },
         "mode": "markers",
         "name": "Antigua and Barbuda",
         "orientation": "v",
         "showlegend": true,
         "type": "scatter",
         "x": [
          0.99
         ],
         "xaxis": "x",
         "y": [
          70.48
         ],
         "yaxis": "y"
        },
        {
         "hovertemplate": "Country=Rwanda<br>Literacy Rate=%{x}<br>Average IQ=%{y}<extra></extra>",
         "legendgroup": "Rwanda",
         "marker": {
          "color": "#00cc96",
          "symbol": "circle"
         },
         "mode": "markers",
         "name": "Rwanda",
         "orientation": "v",
         "showlegend": true,
         "type": "scatter",
         "x": [
          0.71
         ],
         "xaxis": "x",
         "y": [
          69.95
         ],
         "yaxis": "y"
        },
        {
         "hovertemplate": "Country=Benin<br>Literacy Rate=%{x}<br>Average IQ=%{y}<extra></extra>",
         "legendgroup": "Benin",
         "marker": {
          "color": "#ab63fa",
          "symbol": "circle"
         },
         "mode": "markers",
         "name": "Benin",
         "orientation": "v",
         "showlegend": true,
         "type": "scatter",
         "x": [
          0.38
         ],
         "xaxis": "x",
         "y": [
          69.71
         ],
         "yaxis": "y"
        },
        {
         "hovertemplate": "Country=Malawi<br>Literacy Rate=%{x}<br>Average IQ=%{y}<extra></extra>",
         "legendgroup": "Malawi",
         "marker": {
          "color": "#FFA15A",
          "symbol": "circle"
         },
         "mode": "markers",
         "name": "Malawi",
         "orientation": "v",
         "showlegend": true,
         "type": "scatter",
         "x": [
          0.66
         ],
         "xaxis": "x",
         "y": [
          69.7
         ],
         "yaxis": "y"
        },
        {
         "hovertemplate": "Country=El Salvador<br>Literacy Rate=%{x}<br>Average IQ=%{y}<extra></extra>",
         "legendgroup": "El Salvador",
         "marker": {
          "color": "#19d3f3",
          "symbol": "circle"
         },
         "mode": "markers",
         "name": "El Salvador",
         "orientation": "v",
         "showlegend": true,
         "type": "scatter",
         "x": [
          0.88
         ],
         "xaxis": "x",
         "y": [
          69.63
         ],
         "yaxis": "y"
        },
        {
         "hovertemplate": "Country=Botswana<br>Literacy Rate=%{x}<br>Average IQ=%{y}<extra></extra>",
         "legendgroup": "Botswana",
         "marker": {
          "color": "#FF6692",
          "symbol": "circle"
         },
         "mode": "markers",
         "name": "Botswana",
         "orientation": "v",
         "showlegend": true,
         "type": "scatter",
         "x": [
          0.88
         ],
         "xaxis": "x",
         "y": [
          69.45
         ],
         "yaxis": "y"
        },
        {
         "hovertemplate": "Country=Lesotho<br>Literacy Rate=%{x}<br>Average IQ=%{y}<extra></extra>",
         "legendgroup": "Lesotho",
         "marker": {
          "color": "#B6E880",
          "symbol": "circle"
         },
         "mode": "markers",
         "name": "Lesotho",
         "orientation": "v",
         "showlegend": true,
         "type": "scatter",
         "x": [
          0.79
         ],
         "xaxis": "x",
         "y": [
          68.87
         ],
         "yaxis": "y"
        },
        {
         "hovertemplate": "Country=South Africa<br>Literacy Rate=%{x}<br>Average IQ=%{y}<extra></extra>",
         "legendgroup": "South Africa",
         "marker": {
          "color": "#FF97FF",
          "symbol": "circle"
         },
         "mode": "markers",
         "name": "South Africa",
         "orientation": "v",
         "showlegend": true,
         "type": "scatter",
         "x": [
          0.95
         ],
         "xaxis": "x",
         "y": [
          68.87
         ],
         "yaxis": "y"
        },
        {
         "hovertemplate": "Country=Eswatini<br>Literacy Rate=%{x}<br>Average IQ=%{y}<extra></extra>",
         "legendgroup": "Eswatini",
         "marker": {
          "color": "#FECB52",
          "symbol": "circle"
         },
         "mode": "markers",
         "name": "Eswatini",
         "orientation": "v",
         "showlegend": true,
         "type": "scatter",
         "x": [
          0.87
         ],
         "xaxis": "x",
         "y": [
          68.87
         ],
         "yaxis": "y"
        },
        {
         "hovertemplate": "Country=Eritrea<br>Literacy Rate=%{x}<br>Average IQ=%{y}<extra></extra>",
         "legendgroup": "Eritrea",
         "marker": {
          "color": "#636efa",
          "symbol": "circle"
         },
         "mode": "markers",
         "name": "Eritrea",
         "orientation": "v",
         "showlegend": true,
         "type": "scatter",
         "x": [
          0.74
         ],
         "xaxis": "x",
         "y": [
          68.77
         ],
         "yaxis": "y"
        },
        {
         "hovertemplate": "Country=Saint Helena<br>Literacy Rate=%{x}<br>Average IQ=%{y}<extra></extra>",
         "legendgroup": "Saint Helena",
         "marker": {
          "color": "#EF553B",
          "symbol": "circle"
         },
         "mode": "markers",
         "name": "Saint Helena",
         "orientation": "v",
         "showlegend": true,
         "type": "scatter",
         "x": [
          0.97
         ],
         "xaxis": "x",
         "y": [
          68.74
         ],
         "yaxis": "y"
        },
        {
         "hovertemplate": "Country=Zambia<br>Literacy Rate=%{x}<br>Average IQ=%{y}<extra></extra>",
         "legendgroup": "Zambia",
         "marker": {
          "color": "#00cc96",
          "symbol": "circle"
         },
         "mode": "markers",
         "name": "Zambia",
         "orientation": "v",
         "showlegend": true,
         "type": "scatter",
         "x": [
          0.85
         ],
         "xaxis": "x",
         "y": [
          68.43
         ],
         "yaxis": "y"
        },
        {
         "hovertemplate": "Country=Ethiopia<br>Literacy Rate=%{x}<br>Average IQ=%{y}<extra></extra>",
         "legendgroup": "Ethiopia",
         "marker": {
          "color": "#ab63fa",
          "symbol": "circle"
         },
         "mode": "markers",
         "name": "Ethiopia",
         "orientation": "v",
         "showlegend": true,
         "type": "scatter",
         "x": [
          0.49
         ],
         "xaxis": "x",
         "y": [
          68.42
         ],
         "yaxis": "y"
        },
        {
         "hovertemplate": "Country=Djibouti<br>Literacy Rate=%{x}<br>Average IQ=%{y}<extra></extra>",
         "legendgroup": "Djibouti",
         "marker": {
          "color": "#FFA15A",
          "symbol": "circle"
         },
         "mode": "markers",
         "name": "Djibouti",
         "orientation": "v",
         "showlegend": true,
         "type": "scatter",
         "x": [
          0.68
         ],
         "xaxis": "x",
         "y": [
          68.41
         ],
         "yaxis": "y"
        },
        {
         "hovertemplate": "Country=Cameroon<br>Literacy Rate=%{x}<br>Average IQ=%{y}<extra></extra>",
         "legendgroup": "Cameroon",
         "marker": {
          "color": "#19d3f3",
          "symbol": "circle"
         },
         "mode": "markers",
         "name": "Cameroon",
         "orientation": "v",
         "showlegend": true,
         "type": "scatter",
         "x": [
          0.75
         ],
         "xaxis": "x",
         "y": [
          67.76
         ],
         "yaxis": "y"
        },
        {
         "hovertemplate": "Country=Nigeria<br>Literacy Rate=%{x}<br>Average IQ=%{y}<extra></extra>",
         "legendgroup": "Nigeria",
         "marker": {
          "color": "#FF6692",
          "symbol": "circle"
         },
         "mode": "markers",
         "name": "Nigeria",
         "orientation": "v",
         "showlegend": true,
         "type": "scatter",
         "x": [
          0.6
         ],
         "xaxis": "x",
         "y": [
          67.76
         ],
         "yaxis": "y"
        },
        {
         "hovertemplate": "Country=Somalia<br>Literacy Rate=%{x}<br>Average IQ=%{y}<extra></extra>",
         "legendgroup": "Somalia",
         "marker": {
          "color": "#B6E880",
          "symbol": "circle"
         },
         "mode": "markers",
         "name": "Somalia",
         "orientation": "v",
         "showlegend": true,
         "type": "scatter",
         "x": [
          0.38
         ],
         "xaxis": "x",
         "y": [
          67.67
         ],
         "yaxis": "y"
        },
        {
         "hovertemplate": "Country=Morocco<br>Literacy Rate=%{x}<br>Average IQ=%{y}<extra></extra>",
         "legendgroup": "Morocco",
         "marker": {
          "color": "#FF97FF",
          "symbol": "circle"
         },
         "mode": "markers",
         "name": "Morocco",
         "orientation": "v",
         "showlegend": true,
         "type": "scatter",
         "x": [
          0.72
         ],
         "xaxis": "x",
         "y": [
          67.03
         ],
         "yaxis": "y"
        },
        {
         "hovertemplate": "Country=Namibia<br>Literacy Rate=%{x}<br>Average IQ=%{y}<extra></extra>",
         "legendgroup": "Namibia",
         "marker": {
          "color": "#FECB52",
          "symbol": "circle"
         },
         "mode": "markers",
         "name": "Namibia",
         "orientation": "v",
         "showlegend": true,
         "type": "scatter",
         "x": [
          0.91
         ],
         "xaxis": "x",
         "y": [
          66.19
         ],
         "yaxis": "y"
        },
        {
         "hovertemplate": "Country=Dominica<br>Literacy Rate=%{x}<br>Average IQ=%{y}<extra></extra>",
         "legendgroup": "Dominica",
         "marker": {
          "color": "#636efa",
          "symbol": "circle"
         },
         "mode": "markers",
         "name": "Dominica",
         "orientation": "v",
         "showlegend": true,
         "type": "scatter",
         "x": [
          0.94
         ],
         "xaxis": "x",
         "y": [
          66.03
         ],
         "yaxis": "y"
        },
        {
         "hovertemplate": "Country=Sao Tome and Principe<br>Literacy Rate=%{x}<br>Average IQ=%{y}<extra></extra>",
         "legendgroup": "Sao Tome and Principe",
         "marker": {
          "color": "#EF553B",
          "symbol": "circle"
         },
         "mode": "markers",
         "name": "Sao Tome and Principe",
         "orientation": "v",
         "showlegend": true,
         "type": "scatter",
         "x": [
          0.92
         ],
         "xaxis": "x",
         "y": [
          65.22
         ],
         "yaxis": "y"
        },
        {
         "hovertemplate": "Country=Congo<br>Literacy Rate=%{x}<br>Average IQ=%{y}<extra></extra>",
         "legendgroup": "Congo",
         "marker": {
          "color": "#00cc96",
          "symbol": "circle"
         },
         "mode": "markers",
         "name": "Congo",
         "orientation": "v",
         "showlegend": true,
         "type": "scatter",
         "x": [
          0.77
         ],
         "xaxis": "x",
         "y": [
          64.92
         ],
         "yaxis": "y"
        },
        {
         "hovertemplate": "Country=Saint Vincent and the Grenadines<br>Literacy Rate=%{x}<br>Average IQ=%{y}<extra></extra>",
         "legendgroup": "Saint Vincent and the Grenadines",
         "marker": {
          "color": "#ab63fa",
          "symbol": "circle"
         },
         "mode": "markers",
         "name": "Saint Vincent and the Grenadines",
         "orientation": "v",
         "showlegend": true,
         "type": "scatter",
         "x": [
          0.96
         ],
         "xaxis": "x",
         "y": [
          63.42
         ],
         "yaxis": "y"
        },
        {
         "hovertemplate": "Country=Gabon<br>Literacy Rate=%{x}<br>Average IQ=%{y}<extra></extra>",
         "legendgroup": "Gabon",
         "marker": {
          "color": "#FFA15A",
          "symbol": "circle"
         },
         "mode": "markers",
         "name": "Gabon",
         "orientation": "v",
         "showlegend": true,
         "type": "scatter",
         "x": [
          0.83
         ],
         "xaxis": "x",
         "y": [
          62.97
         ],
         "yaxis": "y"
        },
        {
         "hovertemplate": "Country=Congo Republic<br>Literacy Rate=%{x}<br>Average IQ=%{y}<extra></extra>",
         "legendgroup": "Congo Republic",
         "marker": {
          "color": "#19d3f3",
          "symbol": "circle"
         },
         "mode": "markers",
         "name": "Congo Republic",
         "orientation": "v",
         "showlegend": true,
         "type": "scatter",
         "x": [
          0.79
         ],
         "xaxis": "x",
         "y": [
          62.97
         ],
         "yaxis": "y"
        },
        {
         "hovertemplate": "Country=Yemen<br>Literacy Rate=%{x}<br>Average IQ=%{y}<extra></extra>",
         "legendgroup": "Yemen",
         "marker": {
          "color": "#FF6692",
          "symbol": "circle"
         },
         "mode": "markers",
         "name": "Yemen",
         "orientation": "v",
         "showlegend": true,
         "type": "scatter",
         "x": [
          0.7
         ],
         "xaxis": "x",
         "y": [
          62.86
         ],
         "yaxis": "y"
        },
        {
         "hovertemplate": "Country=Belize<br>Literacy Rate=%{x}<br>Average IQ=%{y}<extra></extra>",
         "legendgroup": "Belize",
         "marker": {
          "color": "#B6E880",
          "symbol": "circle"
         },
         "mode": "markers",
         "name": "Belize",
         "orientation": "v",
         "showlegend": true,
         "type": "scatter",
         "x": [
          0.83
         ],
         "xaxis": "x",
         "y": [
          62.55
         ],
         "yaxis": "y"
        },
        {
         "hovertemplate": "Country=Central African Republic<br>Literacy Rate=%{x}<br>Average IQ=%{y}<extra></extra>",
         "legendgroup": "Central African Republic",
         "marker": {
          "color": "#FF97FF",
          "symbol": "circle"
         },
         "mode": "markers",
         "name": "Central African Republic",
         "orientation": "v",
         "showlegend": true,
         "type": "scatter",
         "x": [
          0.37
         ],
         "xaxis": "x",
         "y": [
          62.55
         ],
         "yaxis": "y"
        },
        {
         "hovertemplate": "Country=Honduras<br>Literacy Rate=%{x}<br>Average IQ=%{y}<extra></extra>",
         "legendgroup": "Honduras",
         "marker": {
          "color": "#FECB52",
          "symbol": "circle"
         },
         "mode": "markers",
         "name": "Honduras",
         "orientation": "v",
         "showlegend": true,
         "type": "scatter",
         "x": [
          0.88
         ],
         "xaxis": "x",
         "y": [
          62.16
         ],
         "yaxis": "y"
        },
        {
         "hovertemplate": "Country=Togo<br>Literacy Rate=%{x}<br>Average IQ=%{y}<extra></extra>",
         "legendgroup": "Togo",
         "marker": {
          "color": "#636efa",
          "symbol": "circle"
         },
         "mode": "markers",
         "name": "Togo",
         "orientation": "v",
         "showlegend": true,
         "type": "scatter",
         "x": [
          0.67
         ],
         "xaxis": "x",
         "y": [
          59.83
         ],
         "yaxis": "y"
        },
        {
         "hovertemplate": "Country=Mali<br>Literacy Rate=%{x}<br>Average IQ=%{y}<extra></extra>",
         "legendgroup": "Mali",
         "marker": {
          "color": "#EF553B",
          "symbol": "circle"
         },
         "mode": "markers",
         "name": "Mali",
         "orientation": "v",
         "showlegend": true,
         "type": "scatter",
         "x": [
          0.33
         ],
         "xaxis": "x",
         "y": [
          59.76
         ],
         "yaxis": "y"
        },
        {
         "hovertemplate": "Country=Mauritania<br>Literacy Rate=%{x}<br>Average IQ=%{y}<extra></extra>",
         "legendgroup": "Mauritania",
         "marker": {
          "color": "#00cc96",
          "symbol": "circle"
         },
         "mode": "markers",
         "name": "Mauritania",
         "orientation": "v",
         "showlegend": true,
         "type": "scatter",
         "x": [
          0.52
         ],
         "xaxis": "x",
         "y": [
          59.76
         ],
         "yaxis": "y"
        },
        {
         "hovertemplate": "Country=South Sudan<br>Literacy Rate=%{x}<br>Average IQ=%{y}<extra></extra>",
         "legendgroup": "South Sudan",
         "marker": {
          "color": "#ab63fa",
          "symbol": "circle"
         },
         "mode": "markers",
         "name": "South Sudan",
         "orientation": "v",
         "showlegend": true,
         "type": "scatter",
         "x": [
          0.32
         ],
         "xaxis": "x",
         "y": [
          58.61
         ],
         "yaxis": "y"
        },
        {
         "hovertemplate": "Country=Ghana<br>Literacy Rate=%{x}<br>Average IQ=%{y}<extra></extra>",
         "legendgroup": "Ghana",
         "marker": {
          "color": "#FFA15A",
          "symbol": "circle"
         },
         "mode": "markers",
         "name": "Ghana",
         "orientation": "v",
         "showlegend": true,
         "type": "scatter",
         "x": [
          0.77
         ],
         "xaxis": "x",
         "y": [
          58.16
         ],
         "yaxis": "y"
        },
        {
         "hovertemplate": "Country=Costa do Marfim<br>Literacy Rate=%{x}<br>Average IQ=%{y}<extra></extra>",
         "legendgroup": "Costa do Marfim",
         "marker": {
          "color": "#19d3f3",
          "symbol": "circle"
         },
         "mode": "markers",
         "name": "Costa do Marfim",
         "orientation": "v",
         "showlegend": true,
         "type": "scatter",
         "x": [
          0.43
         ],
         "xaxis": "x",
         "y": [
          58.16
         ],
         "yaxis": "y"
        },
        {
         "hovertemplate": "Country=Guinea<br>Literacy Rate=%{x}<br>Average IQ=%{y}<extra></extra>",
         "legendgroup": "Guinea",
         "marker": {
          "color": "#FF6692",
          "symbol": "circle"
         },
         "mode": "markers",
         "name": "Guinea",
         "orientation": "v",
         "showlegend": true,
         "type": "scatter",
         "x": [
          0.3
         ],
         "xaxis": "x",
         "y": [
          53.48
         ],
         "yaxis": "y"
        },
        {
         "hovertemplate": "Country=Nicaragua<br>Literacy Rate=%{x}<br>Average IQ=%{y}<extra></extra>",
         "legendgroup": "Nicaragua",
         "marker": {
          "color": "#B6E880",
          "symbol": "circle"
         },
         "mode": "markers",
         "name": "Nicaragua",
         "orientation": "v",
         "showlegend": true,
         "type": "scatter",
         "x": [
          0.82
         ],
         "xaxis": "x",
         "y": [
          52.69
         ],
         "yaxis": "y"
        },
        {
         "hovertemplate": "Country=Gambia<br>Literacy Rate=%{x}<br>Average IQ=%{y}<extra></extra>",
         "legendgroup": "Gambia",
         "marker": {
          "color": "#FF97FF",
          "symbol": "circle"
         },
         "mode": "markers",
         "name": "Gambia",
         "orientation": "v",
         "showlegend": true,
         "type": "scatter",
         "x": [
          0.58
         ],
         "xaxis": "x",
         "y": [
          52.68
         ],
         "yaxis": "y"
        },
        {
         "hovertemplate": "Country=Guatemala<br>Literacy Rate=%{x}<br>Average IQ=%{y}<extra></extra>",
         "legendgroup": "Guatemala",
         "marker": {
          "color": "#FECB52",
          "symbol": "circle"
         },
         "mode": "markers",
         "name": "Guatemala",
         "orientation": "v",
         "showlegend": true,
         "type": "scatter",
         "x": [
          0.79
         ],
         "xaxis": "x",
         "y": [
          47.72
         ],
         "yaxis": "y"
        },
        {
         "hovertemplate": "Country=Liberia<br>Literacy Rate=%{x}<br>Average IQ=%{y}<extra></extra>",
         "legendgroup": "Liberia",
         "marker": {
          "color": "#636efa",
          "symbol": "circle"
         },
         "mode": "markers",
         "name": "Liberia",
         "orientation": "v",
         "showlegend": true,
         "type": "scatter",
         "x": [
          0.48
         ],
         "xaxis": "x",
         "y": [
          45.07
         ],
         "yaxis": "y"
        },
        {
         "hovertemplate": "Country=Sierra Leone<br>Literacy Rate=%{x}<br>Average IQ=%{y}<extra></extra>",
         "legendgroup": "Sierra Leone",
         "marker": {
          "color": "#EF553B",
          "symbol": "circle"
         },
         "mode": "markers",
         "name": "Sierra Leone",
         "orientation": "v",
         "showlegend": true,
         "type": "scatter",
         "x": [
          0.48
         ],
         "xaxis": "x",
         "y": [
          45.07
         ],
         "yaxis": "y"
        },
        {
         "hovertemplate": "Country=Nepal<br>Literacy Rate=%{x}<br>Average IQ=%{y}<extra></extra>",
         "legendgroup": "Nepal",
         "marker": {
          "color": "#00cc96",
          "symbol": "circle"
         },
         "mode": "markers",
         "name": "Nepal",
         "orientation": "v",
         "showlegend": true,
         "type": "scatter",
         "x": [
          0.65
         ],
         "xaxis": "x",
         "y": [
          42.99
         ],
         "yaxis": "y"
        }
       ],
       "layout": {
        "legend": {
         "title": {
          "text": "Country"
         },
         "tracegroupgap": 0
        },
        "margin": {
         "t": 60
        },
        "template": {
         "data": {
          "bar": [
           {
            "error_x": {
             "color": "#2a3f5f"
            },
            "error_y": {
             "color": "#2a3f5f"
            },
            "marker": {
             "line": {
              "color": "#E5ECF6",
              "width": 0.5
             },
             "pattern": {
              "fillmode": "overlay",
              "size": 10,
              "solidity": 0.2
             }
            },
            "type": "bar"
           }
          ],
          "barpolar": [
           {
            "marker": {
             "line": {
              "color": "#E5ECF6",
              "width": 0.5
             },
             "pattern": {
              "fillmode": "overlay",
              "size": 10,
              "solidity": 0.2
             }
            },
            "type": "barpolar"
           }
          ],
          "carpet": [
           {
            "aaxis": {
             "endlinecolor": "#2a3f5f",
             "gridcolor": "white",
             "linecolor": "white",
             "minorgridcolor": "white",
             "startlinecolor": "#2a3f5f"
            },
            "baxis": {
             "endlinecolor": "#2a3f5f",
             "gridcolor": "white",
             "linecolor": "white",
             "minorgridcolor": "white",
             "startlinecolor": "#2a3f5f"
            },
            "type": "carpet"
           }
          ],
          "choropleth": [
           {
            "colorbar": {
             "outlinewidth": 0,
             "ticks": ""
            },
            "type": "choropleth"
           }
          ],
          "contour": [
           {
            "colorbar": {
             "outlinewidth": 0,
             "ticks": ""
            },
            "colorscale": [
             [
              0,
              "#0d0887"
             ],
             [
              0.1111111111111111,
              "#46039f"
             ],
             [
              0.2222222222222222,
              "#7201a8"
             ],
             [
              0.3333333333333333,
              "#9c179e"
             ],
             [
              0.4444444444444444,
              "#bd3786"
             ],
             [
              0.5555555555555556,
              "#d8576b"
             ],
             [
              0.6666666666666666,
              "#ed7953"
             ],
             [
              0.7777777777777778,
              "#fb9f3a"
             ],
             [
              0.8888888888888888,
              "#fdca26"
             ],
             [
              1,
              "#f0f921"
             ]
            ],
            "type": "contour"
           }
          ],
          "contourcarpet": [
           {
            "colorbar": {
             "outlinewidth": 0,
             "ticks": ""
            },
            "type": "contourcarpet"
           }
          ],
          "heatmap": [
           {
            "colorbar": {
             "outlinewidth": 0,
             "ticks": ""
            },
            "colorscale": [
             [
              0,
              "#0d0887"
             ],
             [
              0.1111111111111111,
              "#46039f"
             ],
             [
              0.2222222222222222,
              "#7201a8"
             ],
             [
              0.3333333333333333,
              "#9c179e"
             ],
             [
              0.4444444444444444,
              "#bd3786"
             ],
             [
              0.5555555555555556,
              "#d8576b"
             ],
             [
              0.6666666666666666,
              "#ed7953"
             ],
             [
              0.7777777777777778,
              "#fb9f3a"
             ],
             [
              0.8888888888888888,
              "#fdca26"
             ],
             [
              1,
              "#f0f921"
             ]
            ],
            "type": "heatmap"
           }
          ],
          "heatmapgl": [
           {
            "colorbar": {
             "outlinewidth": 0,
             "ticks": ""
            },
            "colorscale": [
             [
              0,
              "#0d0887"
             ],
             [
              0.1111111111111111,
              "#46039f"
             ],
             [
              0.2222222222222222,
              "#7201a8"
             ],
             [
              0.3333333333333333,
              "#9c179e"
             ],
             [
              0.4444444444444444,
              "#bd3786"
             ],
             [
              0.5555555555555556,
              "#d8576b"
             ],
             [
              0.6666666666666666,
              "#ed7953"
             ],
             [
              0.7777777777777778,
              "#fb9f3a"
             ],
             [
              0.8888888888888888,
              "#fdca26"
             ],
             [
              1,
              "#f0f921"
             ]
            ],
            "type": "heatmapgl"
           }
          ],
          "histogram": [
           {
            "marker": {
             "pattern": {
              "fillmode": "overlay",
              "size": 10,
              "solidity": 0.2
             }
            },
            "type": "histogram"
           }
          ],
          "histogram2d": [
           {
            "colorbar": {
             "outlinewidth": 0,
             "ticks": ""
            },
            "colorscale": [
             [
              0,
              "#0d0887"
             ],
             [
              0.1111111111111111,
              "#46039f"
             ],
             [
              0.2222222222222222,
              "#7201a8"
             ],
             [
              0.3333333333333333,
              "#9c179e"
             ],
             [
              0.4444444444444444,
              "#bd3786"
             ],
             [
              0.5555555555555556,
              "#d8576b"
             ],
             [
              0.6666666666666666,
              "#ed7953"
             ],
             [
              0.7777777777777778,
              "#fb9f3a"
             ],
             [
              0.8888888888888888,
              "#fdca26"
             ],
             [
              1,
              "#f0f921"
             ]
            ],
            "type": "histogram2d"
           }
          ],
          "histogram2dcontour": [
           {
            "colorbar": {
             "outlinewidth": 0,
             "ticks": ""
            },
            "colorscale": [
             [
              0,
              "#0d0887"
             ],
             [
              0.1111111111111111,
              "#46039f"
             ],
             [
              0.2222222222222222,
              "#7201a8"
             ],
             [
              0.3333333333333333,
              "#9c179e"
             ],
             [
              0.4444444444444444,
              "#bd3786"
             ],
             [
              0.5555555555555556,
              "#d8576b"
             ],
             [
              0.6666666666666666,
              "#ed7953"
             ],
             [
              0.7777777777777778,
              "#fb9f3a"
             ],
             [
              0.8888888888888888,
              "#fdca26"
             ],
             [
              1,
              "#f0f921"
             ]
            ],
            "type": "histogram2dcontour"
           }
          ],
          "mesh3d": [
           {
            "colorbar": {
             "outlinewidth": 0,
             "ticks": ""
            },
            "type": "mesh3d"
           }
          ],
          "parcoords": [
           {
            "line": {
             "colorbar": {
              "outlinewidth": 0,
              "ticks": ""
             }
            },
            "type": "parcoords"
           }
          ],
          "pie": [
           {
            "automargin": true,
            "type": "pie"
           }
          ],
          "scatter": [
           {
            "fillpattern": {
             "fillmode": "overlay",
             "size": 10,
             "solidity": 0.2
            },
            "type": "scatter"
           }
          ],
          "scatter3d": [
           {
            "line": {
             "colorbar": {
              "outlinewidth": 0,
              "ticks": ""
             }
            },
            "marker": {
             "colorbar": {
              "outlinewidth": 0,
              "ticks": ""
             }
            },
            "type": "scatter3d"
           }
          ],
          "scattercarpet": [
           {
            "marker": {
             "colorbar": {
              "outlinewidth": 0,
              "ticks": ""
             }
            },
            "type": "scattercarpet"
           }
          ],
          "scattergeo": [
           {
            "marker": {
             "colorbar": {
              "outlinewidth": 0,
              "ticks": ""
             }
            },
            "type": "scattergeo"
           }
          ],
          "scattergl": [
           {
            "marker": {
             "colorbar": {
              "outlinewidth": 0,
              "ticks": ""
             }
            },
            "type": "scattergl"
           }
          ],
          "scattermapbox": [
           {
            "marker": {
             "colorbar": {
              "outlinewidth": 0,
              "ticks": ""
             }
            },
            "type": "scattermapbox"
           }
          ],
          "scatterpolar": [
           {
            "marker": {
             "colorbar": {
              "outlinewidth": 0,
              "ticks": ""
             }
            },
            "type": "scatterpolar"
           }
          ],
          "scatterpolargl": [
           {
            "marker": {
             "colorbar": {
              "outlinewidth": 0,
              "ticks": ""
             }
            },
            "type": "scatterpolargl"
           }
          ],
          "scatterternary": [
           {
            "marker": {
             "colorbar": {
              "outlinewidth": 0,
              "ticks": ""
             }
            },
            "type": "scatterternary"
           }
          ],
          "surface": [
           {
            "colorbar": {
             "outlinewidth": 0,
             "ticks": ""
            },
            "colorscale": [
             [
              0,
              "#0d0887"
             ],
             [
              0.1111111111111111,
              "#46039f"
             ],
             [
              0.2222222222222222,
              "#7201a8"
             ],
             [
              0.3333333333333333,
              "#9c179e"
             ],
             [
              0.4444444444444444,
              "#bd3786"
             ],
             [
              0.5555555555555556,
              "#d8576b"
             ],
             [
              0.6666666666666666,
              "#ed7953"
             ],
             [
              0.7777777777777778,
              "#fb9f3a"
             ],
             [
              0.8888888888888888,
              "#fdca26"
             ],
             [
              1,
              "#f0f921"
             ]
            ],
            "type": "surface"
           }
          ],
          "table": [
           {
            "cells": {
             "fill": {
              "color": "#EBF0F8"
             },
             "line": {
              "color": "white"
             }
            },
            "header": {
             "fill": {
              "color": "#C8D4E3"
             },
             "line": {
              "color": "white"
             }
            },
            "type": "table"
           }
          ]
         },
         "layout": {
          "annotationdefaults": {
           "arrowcolor": "#2a3f5f",
           "arrowhead": 0,
           "arrowwidth": 1
          },
          "autotypenumbers": "strict",
          "coloraxis": {
           "colorbar": {
            "outlinewidth": 0,
            "ticks": ""
           }
          },
          "colorscale": {
           "diverging": [
            [
             0,
             "#8e0152"
            ],
            [
             0.1,
             "#c51b7d"
            ],
            [
             0.2,
             "#de77ae"
            ],
            [
             0.3,
             "#f1b6da"
            ],
            [
             0.4,
             "#fde0ef"
            ],
            [
             0.5,
             "#f7f7f7"
            ],
            [
             0.6,
             "#e6f5d0"
            ],
            [
             0.7,
             "#b8e186"
            ],
            [
             0.8,
             "#7fbc41"
            ],
            [
             0.9,
             "#4d9221"
            ],
            [
             1,
             "#276419"
            ]
           ],
           "sequential": [
            [
             0,
             "#0d0887"
            ],
            [
             0.1111111111111111,
             "#46039f"
            ],
            [
             0.2222222222222222,
             "#7201a8"
            ],
            [
             0.3333333333333333,
             "#9c179e"
            ],
            [
             0.4444444444444444,
             "#bd3786"
            ],
            [
             0.5555555555555556,
             "#d8576b"
            ],
            [
             0.6666666666666666,
             "#ed7953"
            ],
            [
             0.7777777777777778,
             "#fb9f3a"
            ],
            [
             0.8888888888888888,
             "#fdca26"
            ],
            [
             1,
             "#f0f921"
            ]
           ],
           "sequentialminus": [
            [
             0,
             "#0d0887"
            ],
            [
             0.1111111111111111,
             "#46039f"
            ],
            [
             0.2222222222222222,
             "#7201a8"
            ],
            [
             0.3333333333333333,
             "#9c179e"
            ],
            [
             0.4444444444444444,
             "#bd3786"
            ],
            [
             0.5555555555555556,
             "#d8576b"
            ],
            [
             0.6666666666666666,
             "#ed7953"
            ],
            [
             0.7777777777777778,
             "#fb9f3a"
            ],
            [
             0.8888888888888888,
             "#fdca26"
            ],
            [
             1,
             "#f0f921"
            ]
           ]
          },
          "colorway": [
           "#636efa",
           "#EF553B",
           "#00cc96",
           "#ab63fa",
           "#FFA15A",
           "#19d3f3",
           "#FF6692",
           "#B6E880",
           "#FF97FF",
           "#FECB52"
          ],
          "font": {
           "color": "#2a3f5f"
          },
          "geo": {
           "bgcolor": "white",
           "lakecolor": "white",
           "landcolor": "#E5ECF6",
           "showlakes": true,
           "showland": true,
           "subunitcolor": "white"
          },
          "hoverlabel": {
           "align": "left"
          },
          "hovermode": "closest",
          "mapbox": {
           "style": "light"
          },
          "paper_bgcolor": "white",
          "plot_bgcolor": "#E5ECF6",
          "polar": {
           "angularaxis": {
            "gridcolor": "white",
            "linecolor": "white",
            "ticks": ""
           },
           "bgcolor": "#E5ECF6",
           "radialaxis": {
            "gridcolor": "white",
            "linecolor": "white",
            "ticks": ""
           }
          },
          "scene": {
           "xaxis": {
            "backgroundcolor": "#E5ECF6",
            "gridcolor": "white",
            "gridwidth": 2,
            "linecolor": "white",
            "showbackground": true,
            "ticks": "",
            "zerolinecolor": "white"
           },
           "yaxis": {
            "backgroundcolor": "#E5ECF6",
            "gridcolor": "white",
            "gridwidth": 2,
            "linecolor": "white",
            "showbackground": true,
            "ticks": "",
            "zerolinecolor": "white"
           },
           "zaxis": {
            "backgroundcolor": "#E5ECF6",
            "gridcolor": "white",
            "gridwidth": 2,
            "linecolor": "white",
            "showbackground": true,
            "ticks": "",
            "zerolinecolor": "white"
           }
          },
          "shapedefaults": {
           "line": {
            "color": "#2a3f5f"
           }
          },
          "ternary": {
           "aaxis": {
            "gridcolor": "white",
            "linecolor": "white",
            "ticks": ""
           },
           "baxis": {
            "gridcolor": "white",
            "linecolor": "white",
            "ticks": ""
           },
           "bgcolor": "#E5ECF6",
           "caxis": {
            "gridcolor": "white",
            "linecolor": "white",
            "ticks": ""
           }
          },
          "title": {
           "x": 0.05
          },
          "xaxis": {
           "automargin": true,
           "gridcolor": "white",
           "linecolor": "white",
           "ticks": "",
           "title": {
            "standoff": 15
           },
           "zerolinecolor": "white",
           "zerolinewidth": 2
          },
          "yaxis": {
           "automargin": true,
           "gridcolor": "white",
           "linecolor": "white",
           "ticks": "",
           "title": {
            "standoff": 15
           },
           "zerolinecolor": "white",
           "zerolinewidth": 2
          }
         }
        },
        "xaxis": {
         "anchor": "y",
         "domain": [
          0,
          1
         ],
         "title": {
          "text": "Literacy Rate"
         }
        },
        "yaxis": {
         "anchor": "x",
         "domain": [
          0,
          1
         ],
         "title": {
          "text": "Average IQ"
         }
        }
       }
      }
     },
     "metadata": {},
     "output_type": "display_data"
    }
   ],
   "source": [
    "px.scatter(data_frame=df, x='Literacy Rate', y='Average IQ',color='Country')"
   ]
  },
  {
   "cell_type": "code",
   "execution_count": 31,
   "metadata": {},
   "outputs": [],
   "source": [
    "temp_df = df.pivot_table(index='Country',values='Nobel Prices').sort_values(by='Nobel Prices',ascending=False).reset_index().head(10)"
   ]
  },
  {
   "cell_type": "code",
   "execution_count": 34,
   "metadata": {},
   "outputs": [
    {
     "data": {
      "application/vnd.plotly.v1+json": {
       "config": {
        "plotlyServerURL": "https://plot.ly"
       },
       "data": [
        {
         "alignmentgroup": "True",
         "hovertemplate": "Country=%{x}<br>Nobel Prices=%{y}<extra></extra>",
         "legendgroup": "",
         "marker": {
          "color": "#636efa",
          "pattern": {
           "shape": ""
          }
         },
         "name": "",
         "offsetgroup": "",
         "orientation": "v",
         "showlegend": false,
         "textposition": "auto",
         "type": "bar",
         "x": [
          "United States",
          "United Kingdom",
          "Germany",
          "France",
          "Sweden",
          "Japan",
          "Canada",
          "Switzerland",
          "Netherlands",
          "Austria"
         ],
         "xaxis": "x",
         "y": [
          400,
          137,
          111,
          71,
          32,
          29,
          28,
          27,
          22,
          22
         ],
         "yaxis": "y"
        }
       ],
       "layout": {
        "barmode": "relative",
        "legend": {
         "tracegroupgap": 0
        },
        "template": {
         "data": {
          "bar": [
           {
            "error_x": {
             "color": "#2a3f5f"
            },
            "error_y": {
             "color": "#2a3f5f"
            },
            "marker": {
             "line": {
              "color": "#E5ECF6",
              "width": 0.5
             },
             "pattern": {
              "fillmode": "overlay",
              "size": 10,
              "solidity": 0.2
             }
            },
            "type": "bar"
           }
          ],
          "barpolar": [
           {
            "marker": {
             "line": {
              "color": "#E5ECF6",
              "width": 0.5
             },
             "pattern": {
              "fillmode": "overlay",
              "size": 10,
              "solidity": 0.2
             }
            },
            "type": "barpolar"
           }
          ],
          "carpet": [
           {
            "aaxis": {
             "endlinecolor": "#2a3f5f",
             "gridcolor": "white",
             "linecolor": "white",
             "minorgridcolor": "white",
             "startlinecolor": "#2a3f5f"
            },
            "baxis": {
             "endlinecolor": "#2a3f5f",
             "gridcolor": "white",
             "linecolor": "white",
             "minorgridcolor": "white",
             "startlinecolor": "#2a3f5f"
            },
            "type": "carpet"
           }
          ],
          "choropleth": [
           {
            "colorbar": {
             "outlinewidth": 0,
             "ticks": ""
            },
            "type": "choropleth"
           }
          ],
          "contour": [
           {
            "colorbar": {
             "outlinewidth": 0,
             "ticks": ""
            },
            "colorscale": [
             [
              0,
              "#0d0887"
             ],
             [
              0.1111111111111111,
              "#46039f"
             ],
             [
              0.2222222222222222,
              "#7201a8"
             ],
             [
              0.3333333333333333,
              "#9c179e"
             ],
             [
              0.4444444444444444,
              "#bd3786"
             ],
             [
              0.5555555555555556,
              "#d8576b"
             ],
             [
              0.6666666666666666,
              "#ed7953"
             ],
             [
              0.7777777777777778,
              "#fb9f3a"
             ],
             [
              0.8888888888888888,
              "#fdca26"
             ],
             [
              1,
              "#f0f921"
             ]
            ],
            "type": "contour"
           }
          ],
          "contourcarpet": [
           {
            "colorbar": {
             "outlinewidth": 0,
             "ticks": ""
            },
            "type": "contourcarpet"
           }
          ],
          "heatmap": [
           {
            "colorbar": {
             "outlinewidth": 0,
             "ticks": ""
            },
            "colorscale": [
             [
              0,
              "#0d0887"
             ],
             [
              0.1111111111111111,
              "#46039f"
             ],
             [
              0.2222222222222222,
              "#7201a8"
             ],
             [
              0.3333333333333333,
              "#9c179e"
             ],
             [
              0.4444444444444444,
              "#bd3786"
             ],
             [
              0.5555555555555556,
              "#d8576b"
             ],
             [
              0.6666666666666666,
              "#ed7953"
             ],
             [
              0.7777777777777778,
              "#fb9f3a"
             ],
             [
              0.8888888888888888,
              "#fdca26"
             ],
             [
              1,
              "#f0f921"
             ]
            ],
            "type": "heatmap"
           }
          ],
          "heatmapgl": [
           {
            "colorbar": {
             "outlinewidth": 0,
             "ticks": ""
            },
            "colorscale": [
             [
              0,
              "#0d0887"
             ],
             [
              0.1111111111111111,
              "#46039f"
             ],
             [
              0.2222222222222222,
              "#7201a8"
             ],
             [
              0.3333333333333333,
              "#9c179e"
             ],
             [
              0.4444444444444444,
              "#bd3786"
             ],
             [
              0.5555555555555556,
              "#d8576b"
             ],
             [
              0.6666666666666666,
              "#ed7953"
             ],
             [
              0.7777777777777778,
              "#fb9f3a"
             ],
             [
              0.8888888888888888,
              "#fdca26"
             ],
             [
              1,
              "#f0f921"
             ]
            ],
            "type": "heatmapgl"
           }
          ],
          "histogram": [
           {
            "marker": {
             "pattern": {
              "fillmode": "overlay",
              "size": 10,
              "solidity": 0.2
             }
            },
            "type": "histogram"
           }
          ],
          "histogram2d": [
           {
            "colorbar": {
             "outlinewidth": 0,
             "ticks": ""
            },
            "colorscale": [
             [
              0,
              "#0d0887"
             ],
             [
              0.1111111111111111,
              "#46039f"
             ],
             [
              0.2222222222222222,
              "#7201a8"
             ],
             [
              0.3333333333333333,
              "#9c179e"
             ],
             [
              0.4444444444444444,
              "#bd3786"
             ],
             [
              0.5555555555555556,
              "#d8576b"
             ],
             [
              0.6666666666666666,
              "#ed7953"
             ],
             [
              0.7777777777777778,
              "#fb9f3a"
             ],
             [
              0.8888888888888888,
              "#fdca26"
             ],
             [
              1,
              "#f0f921"
             ]
            ],
            "type": "histogram2d"
           }
          ],
          "histogram2dcontour": [
           {
            "colorbar": {
             "outlinewidth": 0,
             "ticks": ""
            },
            "colorscale": [
             [
              0,
              "#0d0887"
             ],
             [
              0.1111111111111111,
              "#46039f"
             ],
             [
              0.2222222222222222,
              "#7201a8"
             ],
             [
              0.3333333333333333,
              "#9c179e"
             ],
             [
              0.4444444444444444,
              "#bd3786"
             ],
             [
              0.5555555555555556,
              "#d8576b"
             ],
             [
              0.6666666666666666,
              "#ed7953"
             ],
             [
              0.7777777777777778,
              "#fb9f3a"
             ],
             [
              0.8888888888888888,
              "#fdca26"
             ],
             [
              1,
              "#f0f921"
             ]
            ],
            "type": "histogram2dcontour"
           }
          ],
          "mesh3d": [
           {
            "colorbar": {
             "outlinewidth": 0,
             "ticks": ""
            },
            "type": "mesh3d"
           }
          ],
          "parcoords": [
           {
            "line": {
             "colorbar": {
              "outlinewidth": 0,
              "ticks": ""
             }
            },
            "type": "parcoords"
           }
          ],
          "pie": [
           {
            "automargin": true,
            "type": "pie"
           }
          ],
          "scatter": [
           {
            "fillpattern": {
             "fillmode": "overlay",
             "size": 10,
             "solidity": 0.2
            },
            "type": "scatter"
           }
          ],
          "scatter3d": [
           {
            "line": {
             "colorbar": {
              "outlinewidth": 0,
              "ticks": ""
             }
            },
            "marker": {
             "colorbar": {
              "outlinewidth": 0,
              "ticks": ""
             }
            },
            "type": "scatter3d"
           }
          ],
          "scattercarpet": [
           {
            "marker": {
             "colorbar": {
              "outlinewidth": 0,
              "ticks": ""
             }
            },
            "type": "scattercarpet"
           }
          ],
          "scattergeo": [
           {
            "marker": {
             "colorbar": {
              "outlinewidth": 0,
              "ticks": ""
             }
            },
            "type": "scattergeo"
           }
          ],
          "scattergl": [
           {
            "marker": {
             "colorbar": {
              "outlinewidth": 0,
              "ticks": ""
             }
            },
            "type": "scattergl"
           }
          ],
          "scattermapbox": [
           {
            "marker": {
             "colorbar": {
              "outlinewidth": 0,
              "ticks": ""
             }
            },
            "type": "scattermapbox"
           }
          ],
          "scatterpolar": [
           {
            "marker": {
             "colorbar": {
              "outlinewidth": 0,
              "ticks": ""
             }
            },
            "type": "scatterpolar"
           }
          ],
          "scatterpolargl": [
           {
            "marker": {
             "colorbar": {
              "outlinewidth": 0,
              "ticks": ""
             }
            },
            "type": "scatterpolargl"
           }
          ],
          "scatterternary": [
           {
            "marker": {
             "colorbar": {
              "outlinewidth": 0,
              "ticks": ""
             }
            },
            "type": "scatterternary"
           }
          ],
          "surface": [
           {
            "colorbar": {
             "outlinewidth": 0,
             "ticks": ""
            },
            "colorscale": [
             [
              0,
              "#0d0887"
             ],
             [
              0.1111111111111111,
              "#46039f"
             ],
             [
              0.2222222222222222,
              "#7201a8"
             ],
             [
              0.3333333333333333,
              "#9c179e"
             ],
             [
              0.4444444444444444,
              "#bd3786"
             ],
             [
              0.5555555555555556,
              "#d8576b"
             ],
             [
              0.6666666666666666,
              "#ed7953"
             ],
             [
              0.7777777777777778,
              "#fb9f3a"
             ],
             [
              0.8888888888888888,
              "#fdca26"
             ],
             [
              1,
              "#f0f921"
             ]
            ],
            "type": "surface"
           }
          ],
          "table": [
           {
            "cells": {
             "fill": {
              "color": "#EBF0F8"
             },
             "line": {
              "color": "white"
             }
            },
            "header": {
             "fill": {
              "color": "#C8D4E3"
             },
             "line": {
              "color": "white"
             }
            },
            "type": "table"
           }
          ]
         },
         "layout": {
          "annotationdefaults": {
           "arrowcolor": "#2a3f5f",
           "arrowhead": 0,
           "arrowwidth": 1
          },
          "autotypenumbers": "strict",
          "coloraxis": {
           "colorbar": {
            "outlinewidth": 0,
            "ticks": ""
           }
          },
          "colorscale": {
           "diverging": [
            [
             0,
             "#8e0152"
            ],
            [
             0.1,
             "#c51b7d"
            ],
            [
             0.2,
             "#de77ae"
            ],
            [
             0.3,
             "#f1b6da"
            ],
            [
             0.4,
             "#fde0ef"
            ],
            [
             0.5,
             "#f7f7f7"
            ],
            [
             0.6,
             "#e6f5d0"
            ],
            [
             0.7,
             "#b8e186"
            ],
            [
             0.8,
             "#7fbc41"
            ],
            [
             0.9,
             "#4d9221"
            ],
            [
             1,
             "#276419"
            ]
           ],
           "sequential": [
            [
             0,
             "#0d0887"
            ],
            [
             0.1111111111111111,
             "#46039f"
            ],
            [
             0.2222222222222222,
             "#7201a8"
            ],
            [
             0.3333333333333333,
             "#9c179e"
            ],
            [
             0.4444444444444444,
             "#bd3786"
            ],
            [
             0.5555555555555556,
             "#d8576b"
            ],
            [
             0.6666666666666666,
             "#ed7953"
            ],
            [
             0.7777777777777778,
             "#fb9f3a"
            ],
            [
             0.8888888888888888,
             "#fdca26"
            ],
            [
             1,
             "#f0f921"
            ]
           ],
           "sequentialminus": [
            [
             0,
             "#0d0887"
            ],
            [
             0.1111111111111111,
             "#46039f"
            ],
            [
             0.2222222222222222,
             "#7201a8"
            ],
            [
             0.3333333333333333,
             "#9c179e"
            ],
            [
             0.4444444444444444,
             "#bd3786"
            ],
            [
             0.5555555555555556,
             "#d8576b"
            ],
            [
             0.6666666666666666,
             "#ed7953"
            ],
            [
             0.7777777777777778,
             "#fb9f3a"
            ],
            [
             0.8888888888888888,
             "#fdca26"
            ],
            [
             1,
             "#f0f921"
            ]
           ]
          },
          "colorway": [
           "#636efa",
           "#EF553B",
           "#00cc96",
           "#ab63fa",
           "#FFA15A",
           "#19d3f3",
           "#FF6692",
           "#B6E880",
           "#FF97FF",
           "#FECB52"
          ],
          "font": {
           "color": "#2a3f5f"
          },
          "geo": {
           "bgcolor": "white",
           "lakecolor": "white",
           "landcolor": "#E5ECF6",
           "showlakes": true,
           "showland": true,
           "subunitcolor": "white"
          },
          "hoverlabel": {
           "align": "left"
          },
          "hovermode": "closest",
          "mapbox": {
           "style": "light"
          },
          "paper_bgcolor": "white",
          "plot_bgcolor": "#E5ECF6",
          "polar": {
           "angularaxis": {
            "gridcolor": "white",
            "linecolor": "white",
            "ticks": ""
           },
           "bgcolor": "#E5ECF6",
           "radialaxis": {
            "gridcolor": "white",
            "linecolor": "white",
            "ticks": ""
           }
          },
          "scene": {
           "xaxis": {
            "backgroundcolor": "#E5ECF6",
            "gridcolor": "white",
            "gridwidth": 2,
            "linecolor": "white",
            "showbackground": true,
            "ticks": "",
            "zerolinecolor": "white"
           },
           "yaxis": {
            "backgroundcolor": "#E5ECF6",
            "gridcolor": "white",
            "gridwidth": 2,
            "linecolor": "white",
            "showbackground": true,
            "ticks": "",
            "zerolinecolor": "white"
           },
           "zaxis": {
            "backgroundcolor": "#E5ECF6",
            "gridcolor": "white",
            "gridwidth": 2,
            "linecolor": "white",
            "showbackground": true,
            "ticks": "",
            "zerolinecolor": "white"
           }
          },
          "shapedefaults": {
           "line": {
            "color": "#2a3f5f"
           }
          },
          "ternary": {
           "aaxis": {
            "gridcolor": "white",
            "linecolor": "white",
            "ticks": ""
           },
           "baxis": {
            "gridcolor": "white",
            "linecolor": "white",
            "ticks": ""
           },
           "bgcolor": "#E5ECF6",
           "caxis": {
            "gridcolor": "white",
            "linecolor": "white",
            "ticks": ""
           }
          },
          "title": {
           "x": 0.05
          },
          "xaxis": {
           "automargin": true,
           "gridcolor": "white",
           "linecolor": "white",
           "ticks": "",
           "title": {
            "standoff": 15
           },
           "zerolinecolor": "white",
           "zerolinewidth": 2
          },
          "yaxis": {
           "automargin": true,
           "gridcolor": "white",
           "linecolor": "white",
           "ticks": "",
           "title": {
            "standoff": 15
           },
           "zerolinecolor": "white",
           "zerolinewidth": 2
          }
         }
        },
        "title": {
         "text": "Top 10 countries by nobel prices"
        },
        "xaxis": {
         "anchor": "y",
         "domain": [
          0,
          1
         ],
         "title": {
          "text": "Country"
         }
        },
        "yaxis": {
         "anchor": "x",
         "domain": [
          0,
          1
         ],
         "title": {
          "text": "Nobel Prices"
         }
        }
       }
      }
     },
     "metadata": {},
     "output_type": "display_data"
    }
   ],
   "source": [
    "px.bar(data_frame=temp_df, x='Country', y='Nobel Prices', title='Top 10 countries by nobel prices')"
   ]
  },
  {
   "cell_type": "code",
   "execution_count": 35,
   "metadata": {},
   "outputs": [
    {
     "data": {
      "text/html": [
       "<div>\n",
       "<style scoped>\n",
       "    .dataframe tbody tr th:only-of-type {\n",
       "        vertical-align: middle;\n",
       "    }\n",
       "\n",
       "    .dataframe tbody tr th {\n",
       "        vertical-align: top;\n",
       "    }\n",
       "\n",
       "    .dataframe thead th {\n",
       "        text-align: right;\n",
       "    }\n",
       "</style>\n",
       "<table border=\"1\" class=\"dataframe\">\n",
       "  <thead>\n",
       "    <tr style=\"text-align: right;\">\n",
       "      <th></th>\n",
       "      <th>Rank</th>\n",
       "      <th>Country</th>\n",
       "      <th>Average IQ</th>\n",
       "      <th>Continent</th>\n",
       "      <th>Literacy Rate</th>\n",
       "      <th>Nobel Prices</th>\n",
       "      <th>HDI (2021)</th>\n",
       "      <th>Mean years of schooling - 2021</th>\n",
       "      <th>GNI - 2021</th>\n",
       "      <th>Population - 2023</th>\n",
       "    </tr>\n",
       "  </thead>\n",
       "  <tbody>\n",
       "    <tr>\n",
       "      <th>0</th>\n",
       "      <td>1</td>\n",
       "      <td>Japan</td>\n",
       "      <td>106.48</td>\n",
       "      <td>Asia</td>\n",
       "      <td>0.99</td>\n",
       "      <td>29</td>\n",
       "      <td>0.925</td>\n",
       "      <td>13.4</td>\n",
       "      <td>42274.0</td>\n",
       "      <td>123294513</td>\n",
       "    </tr>\n",
       "    <tr>\n",
       "      <th>1</th>\n",
       "      <td>2</td>\n",
       "      <td>Taiwan</td>\n",
       "      <td>106.47</td>\n",
       "      <td>Asia</td>\n",
       "      <td>0.96</td>\n",
       "      <td>4</td>\n",
       "      <td>NaN</td>\n",
       "      <td>NaN</td>\n",
       "      <td>NaN</td>\n",
       "      <td>10143543</td>\n",
       "    </tr>\n",
       "    <tr>\n",
       "      <th>2</th>\n",
       "      <td>3</td>\n",
       "      <td>Singapore</td>\n",
       "      <td>105.89</td>\n",
       "      <td>Asia</td>\n",
       "      <td>0.97</td>\n",
       "      <td>0</td>\n",
       "      <td>0.939</td>\n",
       "      <td>11.9</td>\n",
       "      <td>90919.0</td>\n",
       "      <td>6014723</td>\n",
       "    </tr>\n",
       "    <tr>\n",
       "      <th>3</th>\n",
       "      <td>4</td>\n",
       "      <td>Hong Kong</td>\n",
       "      <td>105.37</td>\n",
       "      <td>Asia</td>\n",
       "      <td>0.94</td>\n",
       "      <td>1</td>\n",
       "      <td>0.952</td>\n",
       "      <td>12.2</td>\n",
       "      <td>62607.0</td>\n",
       "      <td>7491609</td>\n",
       "    </tr>\n",
       "    <tr>\n",
       "      <th>4</th>\n",
       "      <td>5</td>\n",
       "      <td>China</td>\n",
       "      <td>104.10</td>\n",
       "      <td>Asia</td>\n",
       "      <td>0.96</td>\n",
       "      <td>8</td>\n",
       "      <td>0.768</td>\n",
       "      <td>7.6</td>\n",
       "      <td>17504.0</td>\n",
       "      <td>1425671352</td>\n",
       "    </tr>\n",
       "  </tbody>\n",
       "</table>\n",
       "</div>"
      ],
      "text/plain": [
       "   Rank    Country  Average IQ Continent  Literacy Rate  Nobel Prices  \\\n",
       "0     1      Japan      106.48      Asia           0.99            29   \n",
       "1     2     Taiwan      106.47      Asia           0.96             4   \n",
       "2     3  Singapore      105.89      Asia           0.97             0   \n",
       "3     4  Hong Kong      105.37      Asia           0.94             1   \n",
       "4     5      China      104.10      Asia           0.96             8   \n",
       "\n",
       "   HDI (2021)  Mean years of schooling - 2021   GNI - 2021 Population - 2023  \n",
       "0       0.925                            13.4      42274.0         123294513  \n",
       "1         NaN                             NaN          NaN          10143543  \n",
       "2       0.939                            11.9      90919.0           6014723  \n",
       "3       0.952                            12.2      62607.0           7491609  \n",
       "4       0.768                             7.6      17504.0        1425671352  "
      ]
     },
     "execution_count": 35,
     "metadata": {},
     "output_type": "execute_result"
    }
   ],
   "source": [
    "df.head()"
   ]
  },
  {
   "cell_type": "code",
   "execution_count": null,
   "metadata": {},
   "outputs": [],
   "source": []
  },
  {
   "cell_type": "code",
   "execution_count": null,
   "metadata": {},
   "outputs": [],
   "source": []
  }
 ],
 "metadata": {
  "kernelspec": {
   "display_name": "Python 3",
   "language": "python",
   "name": "python3"
  },
  "language_info": {
   "codemirror_mode": {
    "name": "ipython",
    "version": 3
   },
   "file_extension": ".py",
   "mimetype": "text/x-python",
   "name": "python",
   "nbconvert_exporter": "python",
   "pygments_lexer": "ipython3",
   "version": "3.11.1"
  }
 },
 "nbformat": 4,
 "nbformat_minor": 2
}
