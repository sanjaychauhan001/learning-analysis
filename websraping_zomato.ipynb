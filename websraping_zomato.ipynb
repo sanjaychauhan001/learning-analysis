{
 "cells": [
  {
   "cell_type": "code",
   "execution_count": 1,
   "metadata": {},
   "outputs": [],
   "source": [
    "from selenium import webdriver\n",
    "from selenium.webdriver.chrome.service import Service\n",
    "from selenium.webdriver.common.by import By\n",
    "import time\n",
    "from bs4 import BeautifulSoup\n",
    "import pandas as pd\n",
    "import numpy as np\n",
    "import requests"
   ]
  },
  {
   "cell_type": "code",
   "execution_count": 2,
   "metadata": {},
   "outputs": [],
   "source": [
    "pd.set_option('display.max_rows', None)"
   ]
  },
  {
   "cell_type": "code",
   "execution_count": 2,
   "metadata": {},
   "outputs": [
    {
     "name": "stdout",
     "output_type": "stream",
     "text": [
      "Successful\n"
     ]
    }
   ],
   "source": [
    "s = Service(\"C:/Users/sanja/OneDrive/Desktop/chromedriver-win64/chromedriver.exe\")\n",
    "driver = webdriver.Chrome(service=s)\n",
    "driver.get('https://www.swiggy.com/city/mumbai')\n",
    "time.sleep(2)\n",
    "\n",
    "old_height = driver.execute_script('return document.body.scrollHeight')\n",
    "while True:\n",
    "    try:\n",
    "        driver.find_element(by=By.XPATH, value='//*[@id=\"seo-core-layout\"]/div[9]/div/div[2]/div/div/div[1]').click()\n",
    "    except:\n",
    "        break    \n",
    "    time.sleep(3)\n",
    "    new_height = driver.execute_script('return document.body.scrollHeight')\n",
    "    \n",
    "\n",
    "    if old_height == new_height:\n",
    "        break\n",
    "    \n",
    "    old_height = new_height\n",
    "\n",
    "print('Successful')\n",
    "html_code = driver.page_source"
   ]
  },
  {
   "cell_type": "code",
   "execution_count": 3,
   "metadata": {},
   "outputs": [],
   "source": [
    "soup = BeautifulSoup(html_code, 'lxml')"
   ]
  },
  {
   "cell_type": "code",
   "execution_count": 32,
   "metadata": {},
   "outputs": [],
   "source": [
    "hotels = soup.find_all(\"div\", class_='styled__StyledRestaurantGridCard-sc-fcg6mi-0 lgOeYp') \n",
    "hotel_name = []\n",
    "rating_and_delivery_time = []\n",
    "food_type = []\n",
    "location = []\n",
    "offer = []\n",
    "for hotel in hotels:\n",
    "    try:\n",
    "        hotel_name.append(hotel.find('div',class_='sc-beySbM cwvucc').text)\n",
    "    except:\n",
    "        hotel_name.append(np.nan)    \n",
    "\n",
    "    try:       \n",
    "        rating_and_delivery_time.append(hotel.find('div', class_='sc-beySbM gLFbKf').text)\n",
    "    except:\n",
    "        rating_and_delivery_time.append(np.nan)\n",
    "\n",
    "    try:        \n",
    "        food_type.append(hotel.find('div', class_=\"sw-restaurant-card-descriptions-container\").find_all('div')[0].text)\n",
    "    except:\n",
    "        food_type.append(np.nan)\n",
    "\n",
    "    try:        \n",
    "        location.append(hotel.find('div', class_=\"sw-restaurant-card-descriptions-container\").find_all('div')[1].text)\n",
    "    except:\n",
    "        location.append(np.nan) \n",
    "\n",
    "    try:       \n",
    "        offer.append(hotel.find('div', class_='sc-beySbM jgEJgd sc-fsYeqs kQpWyg').text)\n",
    "    except:\n",
    "        offer.append(np.nan)    \n",
    "    "
   ]
  },
  {
   "cell_type": "code",
   "execution_count": 33,
   "metadata": {},
   "outputs": [],
   "source": [
    "df = pd.DataFrame({\"hotel_name\":hotel_name,\n",
    "                   \"rating_and_delivery_time\":rating_and_delivery_time,\n",
    "                   \"food_type\":food_type,\n",
    "                   \"location\":location,\n",
    "                   \"offer\":offer})"
   ]
  },
  {
   "cell_type": "code",
   "execution_count": 39,
   "metadata": {},
   "outputs": [],
   "source": [
    "df.to_csv(\"C:\\\\Users\\\\sanja\\\\Downloads\\\\swiggy_scrap_uncleaned.csv\", index=False)"
   ]
  },
  {
   "cell_type": "code",
   "execution_count": null,
   "metadata": {},
   "outputs": [],
   "source": []
  },
  {
   "cell_type": "code",
   "execution_count": null,
   "metadata": {},
   "outputs": [],
   "source": []
  },
  {
   "cell_type": "code",
   "execution_count": null,
   "metadata": {},
   "outputs": [],
   "source": []
  },
  {
   "cell_type": "code",
   "execution_count": null,
   "metadata": {},
   "outputs": [],
   "source": []
  },
  {
   "cell_type": "code",
   "execution_count": null,
   "metadata": {},
   "outputs": [],
   "source": []
  }
 ],
 "metadata": {
  "kernelspec": {
   "display_name": "Python 3",
   "language": "python",
   "name": "python3"
  },
  "language_info": {
   "codemirror_mode": {
    "name": "ipython",
    "version": 3
   },
   "file_extension": ".py",
   "mimetype": "text/x-python",
   "name": "python",
   "nbconvert_exporter": "python",
   "pygments_lexer": "ipython3",
   "version": "3.11.1"
  }
 },
 "nbformat": 4,
 "nbformat_minor": 2
}
